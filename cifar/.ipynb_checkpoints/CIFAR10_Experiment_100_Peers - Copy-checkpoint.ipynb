{
 "cells": [
  {
   "cell_type": "code",
   "execution_count": 1,
   "metadata": {},
   "outputs": [],
   "source": [
    "#================================= Start of importing required packages and libraries =========================================#\n",
    "from __future__ import print_function\n",
    "%matplotlib inline\n",
    "import numpy as np\n",
    "import torchvision\n",
    "import torchvision\n",
    "import torch.nn as nn\n",
    "import torch.nn.functional as F\n",
    "import torch.optim as optim\n",
    "from torchvision import datasets, transforms\n",
    "from sklearn.metrics import *\n",
    "from matplotlib import pyplot as plt\n",
    "from dataset import Dataset\n",
    "from models import CNNMnist, DenseNet\n",
    "import os\n",
    "from torch.utils import data\n",
    "import math\n",
    "import random\n",
    "#from update import test_inference\n",
    "from tqdm import tqdm\n",
    "import copy\n",
    "import statistics\n",
    "#from update import LocalUpdate, test_inference\n",
    "from utils import *\n",
    "from environment_federated import *\n",
    "from experiment_federated import *\n",
    "from vgg_models import *\n",
    "\n",
    "#================================== End of importing required packages and libraries ==========================================#\n"
   ]
  },
  {
   "cell_type": "code",
   "execution_count": 2,
   "metadata": {},
   "outputs": [],
   "source": [
    "#=============================== Defining global variables ========================#\n",
    "SIM_NUM = 1 # number of simulation times\n",
    "PEER_NUM = 100 # \"number of peers: K\" \n",
    "PEER_PSEUDONYM = ['Worker '+str(i+1) for i in range(PEER_NUM)]\n",
    "PEER_FRAC = 0.15 #'the fraction of peers: C to bel selected in each round'\n",
    "UNTARGETED_ATTACK_RATES = [0.4] #different rates of random attack\n",
    "STEALTHY_POSONING_RATES = [0.2] #different rates of stealthy attack\n",
    "RANDOM_MALICIOU_BEHAVIOUR_RATE = 1\n",
    "STEALTHY_MALICIOU_BEHAVIOUR_RATE = 1\n",
    "MAPPING_LIST = [0, 1, 2, 3, 9, 5, 6, 7, 8, 9]\n",
    "SEED = 7 #fixed seed\n",
    "NORMAL_TAU = 0 # value of tau to dtermine outliers based on the rule Q1 - tau * IQR =< dist <= Q3 + tau * IQR \n",
    "TARGETED_TAU = 1\n",
    "\n",
    "NOISE_MEAN = 0\n",
    "NOISE_SD = 0.05\n",
    "MAXIMUM_ATTACKS = [3]\n",
    "                     \n",
    "GLOBAL_ROUNDS = 100 #\"number of rounds of federated model training\"\n",
    "LOCAL_EPOCHS = 5#\"the number of local epochs: E for each peer\"\n",
    "LOCAL_BS = 100 #\"local batch size: B for each peer\"\n",
    "LOCAL_LR =  0.01#local learning rate: lr for each peer\n",
    "LOCAL_MOMENTUM = 0.9 #local momentum for each peer\n",
    "NUM_CLASSES = 10 # number of classes in an experiment\n",
    "\n",
    "LABELS_DICT = {\"airplane\":0, \n",
    "        \"automobile\":1,\n",
    "        \"bird\":2,\n",
    "        \"cat\":3,\n",
    "        \"deer\":4,\n",
    "        \"dog\":5,\n",
    "        \"frog\":6,\n",
    "        \"horse\":7,\n",
    "        \"ship\":8,\n",
    "        \"truck\":9}\n",
    "\n",
    "\n",
    "\n",
    "CLASSES_LIST = ('plane', 'car',  'bird',  'cat',  'deer',\n",
    "                       'dog',   'frog', 'horse', 'ship', 'truck')\n",
    "\n",
    "#select the device to work with cpu or gpu\n",
    "if torch.cuda.is_available():\n",
    "    DEVICE = \"cuda\"\n",
    "else:\n",
    "    DEVICE = \"cpu\"\n",
    "    \n",
    "DEVICE = torch.device(DEVICE)\n",
    "\n",
    "\n",
    "random.seed(SEED)\n",
    "torch.manual_seed(SEED)\n",
    "torch.cuda.manual_seed_all(SEED)\n",
    "np.random.seed(SEED)\n",
    "os.environ['PYTHONHASHSEED'] = str(SEED)"
   ]
  },
  {
   "cell_type": "code",
   "execution_count": null,
   "metadata": {},
   "outputs": [],
   "source": [
    "#Normal training experiment in a simple environment 100% honest peers\n",
    "normal_training_exp(sim_num=1, peer_pseudonym = PEER_PSEUDONYM,\n",
    "                peer_num=PEER_NUM, peer_frac = PEER_FRAC, seed = SEED,tau =NORMAL_TAU,\n",
    "               global_rounds = GLOBAL_ROUNDS, local_epochs = LOCAL_EPOCHS, local_bs = LOCAL_BS,\n",
    "               local_lr = LOCAL_LR, local_momentum = LOCAL_MOMENTUM, num_classes = NUM_CLASSES, \n",
    "               labels_dict = LABELS_DICT, classes_list = CLASSES_LIST, device = DEVICE)"
   ]
  },
  {
   "cell_type": "code",
   "execution_count": null,
   "metadata": {},
   "outputs": [
    {
     "name": "stdout",
     "output_type": "stream",
     "text": [
      "Maximum number of attacks:  4\n",
      "Noise mean: 0, Noise SD: 0.05\n",
      "\n",
      "==>Start untargeted attack Simulation in Simple Environment...\n",
      "\n",
      "\n",
      "===>Untargeted attack with rate of: (40%) of peers and malicious behaviour rate of: (100%)\n",
      "======>Creating Global model.....\n",
      "VGG(\n",
      "  (features): Sequential(\n",
      "    (0): Conv2d(3, 64, kernel_size=(3, 3), stride=(1, 1), padding=(1, 1))\n",
      "    (1): BatchNorm2d(64, eps=1e-05, momentum=0.1, affine=True, track_running_stats=True)\n",
      "    (2): ReLU(inplace=True)\n",
      "    (3): Conv2d(64, 64, kernel_size=(3, 3), stride=(1, 1), padding=(1, 1))\n",
      "    (4): BatchNorm2d(64, eps=1e-05, momentum=0.1, affine=True, track_running_stats=True)\n",
      "    (5): ReLU(inplace=True)\n",
      "    (6): MaxPool2d(kernel_size=2, stride=2, padding=0, dilation=1, ceil_mode=False)\n",
      "    (7): Conv2d(64, 128, kernel_size=(3, 3), stride=(1, 1), padding=(1, 1))\n",
      "    (8): BatchNorm2d(128, eps=1e-05, momentum=0.1, affine=True, track_running_stats=True)\n",
      "    (9): ReLU(inplace=True)\n",
      "    (10): Conv2d(128, 128, kernel_size=(3, 3), stride=(1, 1), padding=(1, 1))\n",
      "    (11): BatchNorm2d(128, eps=1e-05, momentum=0.1, affine=True, track_running_stats=True)\n",
      "    (12): ReLU(inplace=True)\n",
      "    (13): MaxPool2d(kernel_size=2, stride=2, padding=0, dilation=1, ceil_mode=False)\n",
      "    (14): Conv2d(128, 256, kernel_size=(3, 3), stride=(1, 1), padding=(1, 1))\n",
      "    (15): BatchNorm2d(256, eps=1e-05, momentum=0.1, affine=True, track_running_stats=True)\n",
      "    (16): ReLU(inplace=True)\n",
      "    (17): Conv2d(256, 256, kernel_size=(3, 3), stride=(1, 1), padding=(1, 1))\n",
      "    (18): BatchNorm2d(256, eps=1e-05, momentum=0.1, affine=True, track_running_stats=True)\n",
      "    (19): ReLU(inplace=True)\n",
      "    (20): Conv2d(256, 256, kernel_size=(3, 3), stride=(1, 1), padding=(1, 1))\n",
      "    (21): BatchNorm2d(256, eps=1e-05, momentum=0.1, affine=True, track_running_stats=True)\n",
      "    (22): ReLU(inplace=True)\n",
      "    (23): MaxPool2d(kernel_size=2, stride=2, padding=0, dilation=1, ceil_mode=False)\n",
      "    (24): Conv2d(256, 512, kernel_size=(3, 3), stride=(1, 1), padding=(1, 1))\n",
      "    (25): BatchNorm2d(512, eps=1e-05, momentum=0.1, affine=True, track_running_stats=True)\n",
      "    (26): ReLU(inplace=True)\n",
      "    (27): Conv2d(512, 512, kernel_size=(3, 3), stride=(1, 1), padding=(1, 1))\n",
      "    (28): BatchNorm2d(512, eps=1e-05, momentum=0.1, affine=True, track_running_stats=True)\n",
      "    (29): ReLU(inplace=True)\n",
      "    (30): Conv2d(512, 512, kernel_size=(3, 3), stride=(1, 1), padding=(1, 1))\n",
      "    (31): BatchNorm2d(512, eps=1e-05, momentum=0.1, affine=True, track_running_stats=True)\n",
      "    (32): ReLU(inplace=True)\n",
      "    (33): MaxPool2d(kernel_size=2, stride=2, padding=0, dilation=1, ceil_mode=False)\n",
      "    (34): Conv2d(512, 512, kernel_size=(3, 3), stride=(1, 1), padding=(1, 1))\n",
      "    (35): BatchNorm2d(512, eps=1e-05, momentum=0.1, affine=True, track_running_stats=True)\n",
      "    (36): ReLU(inplace=True)\n",
      "    (37): Conv2d(512, 512, kernel_size=(3, 3), stride=(1, 1), padding=(1, 1))\n",
      "    (38): BatchNorm2d(512, eps=1e-05, momentum=0.1, affine=True, track_running_stats=True)\n",
      "    (39): ReLU(inplace=True)\n",
      "    (40): Conv2d(512, 512, kernel_size=(3, 3), stride=(1, 1), padding=(1, 1))\n",
      "    (41): BatchNorm2d(512, eps=1e-05, momentum=0.1, affine=True, track_running_stats=True)\n",
      "    (42): ReLU(inplace=True)\n",
      "    (43): MaxPool2d(kernel_size=2, stride=2, padding=0, dilation=1, ceil_mode=False)\n",
      "    (44): AvgPool2d(kernel_size=1, stride=1, padding=0)\n",
      "  )\n",
      "  (classifier): Linear(in_features=512, out_features=10, bias=True)\n",
      ")\n",
      "\n",
      "===>Simulation Step: 1\n",
      "=======> loading training dataset......\n",
      "\n",
      "=======> loading training dataset......\n",
      "\n",
      "=======> loading testing dataset......\n",
      "\n",
      "\n",
      "Loading done!....\n",
      "\n",
      "\n",
      "=======> Start Global Model Training......\n",
      "\n"
     ]
    },
    {
     "data": {
      "application/vnd.jupyter.widget-view+json": {
       "model_id": "fcad3b21fdd34a6c903f0cba0c66b8cf",
       "version_major": 2,
       "version_minor": 0
      },
      "text/plain": [
       "HBox(children=(IntProgress(value=0), HTML(value='')))"
      ]
     },
     "metadata": {},
     "output_type": "display_data"
    },
    {
     "name": "stdout",
     "output_type": "stream",
     "text": [
      "\n",
      "Selected workers\n",
      "\n",
      "[32 93 79 54 20 23 66 25 36 75 33 62 95 68 49]\n",
      "Worker 32 : is  Honest\n",
      "Worker 93 : is  Honest\n",
      "Worker 79 : is  Random_Attacker\n",
      "Worker 54 : is  Honest\n",
      "Worker 20 : is  Honest\n",
      "Worker 23 : is  Random_Attacker\n",
      "Worker 66 : is  Random_Attacker\n",
      "Worker 25 : is  Honest\n",
      "Worker 36 : is  Honest\n",
      "Worker 75 : is  Random_Attacker\n",
      "Worker 33 : is  Random_Attacker\n",
      "Worker 62 : is  Honest\n",
      "Worker 95 : is  Honest\n",
      "Worker 68 : is  Honest\n",
      "Worker 49 : is  Honest\n",
      "\n",
      " | Global Training Round : 1 |\n",
      "\n",
      "\n",
      "Worker 32 starts training in Global Round:1 |\n"
     ]
    },
    {
     "data": {
      "application/vnd.jupyter.widget-view+json": {
       "model_id": "bb4361a9042d4c30b793d195875ba098",
       "version_major": 2,
       "version_minor": 0
      },
      "text/plain": [
       "HBox(children=(IntProgress(value=0, max=5), HTML(value='')))"
      ]
     },
     "metadata": {},
     "output_type": "display_data"
    },
    {
     "name": "stdout",
     "output_type": "stream",
     "text": [
      "Train Epoch: 1 [0/500\t(1%)]\tLoss: 2.715106\n",
      "Train Epoch: 1 [400/500\t(81%)]\tLoss: 2.560396\n",
      "Train Epoch: 2 [0/500\t(1%)]\tLoss: 2.238075\n",
      "Train Epoch: 2 [400/500\t(81%)]\tLoss: 2.420401\n",
      "Train Epoch: 3 [0/500\t(1%)]\tLoss: 2.212572\n",
      "Train Epoch: 3 [400/500\t(81%)]\tLoss: 2.229904\n",
      "Train Epoch: 4 [0/500\t(1%)]\tLoss: 2.283935\n",
      "Train Epoch: 4 [400/500\t(81%)]\tLoss: 2.245865\n",
      "Train Epoch: 5 [0/500\t(1%)]\tLoss: 2.085931\n",
      "Train Epoch: 5 [400/500\t(81%)]\tLoss: 2.353004\n",
      "\n",
      "Worker 32 ends training in Global Round:1 |\n",
      "\n",
      "Worker 93 starts training in Global Round:1 |\n"
     ]
    },
    {
     "data": {
      "application/vnd.jupyter.widget-view+json": {
       "model_id": "f2f30eab312f45bca989c1a8d7661326",
       "version_major": 2,
       "version_minor": 0
      },
      "text/plain": [
       "HBox(children=(IntProgress(value=0, max=5), HTML(value='')))"
      ]
     },
     "metadata": {},
     "output_type": "display_data"
    },
    {
     "name": "stdout",
     "output_type": "stream",
     "text": [
      "Train Epoch: 1 [0/500\t(1%)]\tLoss: 2.658226\n",
      "Train Epoch: 1 [400/500\t(81%)]\tLoss: 2.436564\n",
      "Train Epoch: 2 [0/500\t(1%)]\tLoss: 2.413598\n",
      "Train Epoch: 2 [400/500\t(81%)]\tLoss: 2.069607\n",
      "Train Epoch: 3 [0/500\t(1%)]\tLoss: 2.030561\n",
      "Train Epoch: 3 [400/500\t(81%)]\tLoss: 2.525021\n",
      "Train Epoch: 4 [0/500\t(1%)]\tLoss: 2.092808\n",
      "Train Epoch: 4 [400/500\t(81%)]\tLoss: 2.066418\n",
      "Train Epoch: 5 [0/500\t(1%)]\tLoss: 2.496398\n",
      "Train Epoch: 5 [400/500\t(81%)]\tLoss: 1.951830\n",
      "\n",
      "Worker 93 ends training in Global Round:1 |\n",
      "\n",
      "Worker 79 starts training in Global Round:1 |\n"
     ]
    },
    {
     "data": {
      "application/vnd.jupyter.widget-view+json": {
       "model_id": "86f465e5861a4f379590878af0bb3096",
       "version_major": 2,
       "version_minor": 0
      },
      "text/plain": [
       "HBox(children=(IntProgress(value=0, max=5), HTML(value='')))"
      ]
     },
     "metadata": {},
     "output_type": "display_data"
    },
    {
     "name": "stdout",
     "output_type": "stream",
     "text": [
      "Train Epoch: 1 [0/500\t(1%)]\tLoss: 2.727852\n",
      "Train Epoch: 1 [400/500\t(81%)]\tLoss: 2.375160\n",
      "Train Epoch: 2 [0/500\t(1%)]\tLoss: 2.174628\n",
      "Train Epoch: 2 [400/500\t(81%)]\tLoss: 2.061550\n",
      "Train Epoch: 3 [0/500\t(1%)]\tLoss: 2.224319\n",
      "Train Epoch: 3 [400/500\t(81%)]\tLoss: 2.210891\n",
      "Train Epoch: 4 [0/500\t(1%)]\tLoss: 2.406568\n",
      "Train Epoch: 4 [400/500\t(81%)]\tLoss: 2.061808\n",
      "Train Epoch: 5 [0/500\t(1%)]\tLoss: 2.147662\n",
      "Train Epoch: 5 [400/500\t(81%)]\tLoss: 1.893789\n",
      "\n",
      "Performed attacks 0\n",
      "\n",
      "===>Random attack started by:  Worker 79  in Global Round:  1\n",
      "Random attack strating: \n",
      "Performed attacks 1\n",
      "Worker 79 ends training in Global Round:1 |\n",
      "\n",
      "Worker 54 starts training in Global Round:1 |\n"
     ]
    },
    {
     "data": {
      "application/vnd.jupyter.widget-view+json": {
       "model_id": "e97e2a3662a24f499813af08a669bbf5",
       "version_major": 2,
       "version_minor": 0
      },
      "text/plain": [
       "HBox(children=(IntProgress(value=0, max=5), HTML(value='')))"
      ]
     },
     "metadata": {},
     "output_type": "display_data"
    },
    {
     "name": "stdout",
     "output_type": "stream",
     "text": [
      "Train Epoch: 1 [0/500\t(1%)]\tLoss: 2.651445\n",
      "Train Epoch: 1 [400/500\t(81%)]\tLoss: 2.393485\n",
      "Train Epoch: 2 [0/500\t(1%)]\tLoss: 2.017407\n",
      "Train Epoch: 2 [400/500\t(81%)]\tLoss: 2.204904\n",
      "Train Epoch: 3 [0/500\t(1%)]\tLoss: 1.956438\n",
      "Train Epoch: 3 [400/500\t(81%)]\tLoss: 1.851527\n",
      "Train Epoch: 4 [0/500\t(1%)]\tLoss: 2.016019\n",
      "Train Epoch: 4 [400/500\t(81%)]\tLoss: 2.287971\n",
      "Train Epoch: 5 [0/500\t(1%)]\tLoss: 1.907987\n",
      "Train Epoch: 5 [400/500\t(81%)]\tLoss: 2.118683\n",
      "\n",
      "Worker 54 ends training in Global Round:1 |\n",
      "\n",
      "Worker 20 starts training in Global Round:1 |\n"
     ]
    },
    {
     "data": {
      "application/vnd.jupyter.widget-view+json": {
       "model_id": "3dfd7e98179346f79ca6edf4c6261a67",
       "version_major": 2,
       "version_minor": 0
      },
      "text/plain": [
       "HBox(children=(IntProgress(value=0, max=5), HTML(value='')))"
      ]
     },
     "metadata": {},
     "output_type": "display_data"
    },
    {
     "name": "stdout",
     "output_type": "stream",
     "text": [
      "Train Epoch: 1 [0/500\t(1%)]\tLoss: 2.600789\n",
      "Train Epoch: 1 [400/500\t(81%)]\tLoss: 2.761133\n",
      "Train Epoch: 2 [0/500\t(1%)]\tLoss: 2.315908\n",
      "Train Epoch: 2 [400/500\t(81%)]\tLoss: 2.145913\n",
      "Train Epoch: 3 [0/500\t(1%)]\tLoss: 2.188108\n",
      "Train Epoch: 3 [400/500\t(81%)]\tLoss: 2.312652\n",
      "Train Epoch: 4 [0/500\t(1%)]\tLoss: 2.235069\n",
      "Train Epoch: 4 [400/500\t(81%)]\tLoss: 2.495639\n",
      "Train Epoch: 5 [0/500\t(1%)]\tLoss: 1.729281\n",
      "Train Epoch: 5 [400/500\t(81%)]\tLoss: 2.436866\n",
      "\n",
      "Worker 20 ends training in Global Round:1 |\n",
      "\n",
      "Worker 23 starts training in Global Round:1 |\n"
     ]
    },
    {
     "data": {
      "application/vnd.jupyter.widget-view+json": {
       "model_id": "377f1d49fd534bc9bb03061056531f97",
       "version_major": 2,
       "version_minor": 0
      },
      "text/plain": [
       "HBox(children=(IntProgress(value=0, max=5), HTML(value='')))"
      ]
     },
     "metadata": {},
     "output_type": "display_data"
    },
    {
     "name": "stdout",
     "output_type": "stream",
     "text": [
      "Train Epoch: 1 [0/500\t(1%)]\tLoss: 2.599747\n",
      "Train Epoch: 1 [400/500\t(81%)]\tLoss: 2.149944\n",
      "Train Epoch: 2 [0/500\t(1%)]\tLoss: 2.145164\n",
      "Train Epoch: 2 [400/500\t(81%)]\tLoss: 2.217620\n",
      "Train Epoch: 3 [0/500\t(1%)]\tLoss: 2.009192\n",
      "Train Epoch: 3 [400/500\t(81%)]\tLoss: 2.245068\n",
      "Train Epoch: 4 [0/500\t(1%)]\tLoss: 1.847047\n",
      "Train Epoch: 4 [400/500\t(81%)]\tLoss: 2.039162\n",
      "Train Epoch: 5 [0/500\t(1%)]\tLoss: 1.976174\n",
      "Train Epoch: 5 [400/500\t(81%)]\tLoss: 1.719134\n",
      "\n",
      "Performed attacks 1\n",
      "\n",
      "===>Random attack started by:  Worker 23  in Global Round:  1\n",
      "Random attack strating: \n",
      "Performed attacks 2\n",
      "Worker 23 ends training in Global Round:1 |\n",
      "\n",
      "Worker 66 starts training in Global Round:1 |\n"
     ]
    },
    {
     "data": {
      "application/vnd.jupyter.widget-view+json": {
       "model_id": "b775125cf03e4fd09ad56b2950981807",
       "version_major": 2,
       "version_minor": 0
      },
      "text/plain": [
       "HBox(children=(IntProgress(value=0, max=5), HTML(value='')))"
      ]
     },
     "metadata": {},
     "output_type": "display_data"
    },
    {
     "name": "stdout",
     "output_type": "stream",
     "text": [
      "Train Epoch: 1 [0/500\t(1%)]\tLoss: 2.532208\n",
      "Train Epoch: 1 [400/500\t(81%)]\tLoss: 2.441157\n",
      "Train Epoch: 2 [0/500\t(1%)]\tLoss: 2.226359\n",
      "Train Epoch: 2 [400/500\t(81%)]\tLoss: 2.014158\n",
      "Train Epoch: 3 [0/500\t(1%)]\tLoss: 1.992387\n",
      "Train Epoch: 3 [400/500\t(81%)]\tLoss: 2.403518\n",
      "Train Epoch: 4 [0/500\t(1%)]\tLoss: 2.053623\n",
      "Train Epoch: 4 [400/500\t(81%)]\tLoss: 2.079892\n",
      "Train Epoch: 5 [0/500\t(1%)]\tLoss: 2.031702\n",
      "Train Epoch: 5 [400/500\t(81%)]\tLoss: 1.849420\n",
      "\n",
      "Performed attacks 2\n",
      "\n",
      "===>Random attack started by:  Worker 66  in Global Round:  1\n",
      "Random attack strating: \n",
      "Performed attacks 3\n",
      "Worker 66 ends training in Global Round:1 |\n",
      "\n",
      "Worker 25 starts training in Global Round:1 |\n"
     ]
    },
    {
     "data": {
      "application/vnd.jupyter.widget-view+json": {
       "model_id": "dbf1a9634ef04700885b5f45541adde7",
       "version_major": 2,
       "version_minor": 0
      },
      "text/plain": [
       "HBox(children=(IntProgress(value=0, max=5), HTML(value='')))"
      ]
     },
     "metadata": {},
     "output_type": "display_data"
    },
    {
     "name": "stdout",
     "output_type": "stream",
     "text": [
      "Train Epoch: 1 [0/500\t(1%)]\tLoss: 2.641215\n",
      "Train Epoch: 1 [400/500\t(81%)]\tLoss: 2.292809\n",
      "Train Epoch: 2 [0/500\t(1%)]\tLoss: 2.232587\n",
      "Train Epoch: 2 [400/500\t(81%)]\tLoss: 2.144900\n",
      "Train Epoch: 3 [0/500\t(1%)]\tLoss: 2.126365\n",
      "Train Epoch: 3 [400/500\t(81%)]\tLoss: 2.206887\n",
      "Train Epoch: 4 [0/500\t(1%)]\tLoss: 2.047364\n",
      "Train Epoch: 4 [400/500\t(81%)]\tLoss: 2.142216\n",
      "Train Epoch: 5 [0/500\t(1%)]\tLoss: 2.066613\n",
      "Train Epoch: 5 [400/500\t(81%)]\tLoss: 2.501024\n",
      "\n",
      "Worker 25 ends training in Global Round:1 |\n",
      "\n",
      "Worker 36 starts training in Global Round:1 |\n"
     ]
    },
    {
     "data": {
      "application/vnd.jupyter.widget-view+json": {
       "model_id": "e6802db218224996806e8e9be8b2f5c6",
       "version_major": 2,
       "version_minor": 0
      },
      "text/plain": [
       "HBox(children=(IntProgress(value=0, max=5), HTML(value='')))"
      ]
     },
     "metadata": {},
     "output_type": "display_data"
    },
    {
     "name": "stdout",
     "output_type": "stream",
     "text": [
      "Train Epoch: 1 [0/500\t(1%)]\tLoss: 2.599506\n",
      "Train Epoch: 1 [400/500\t(81%)]\tLoss: 2.296187\n",
      "Train Epoch: 2 [0/500\t(1%)]\tLoss: 2.250854\n",
      "Train Epoch: 2 [400/500\t(81%)]\tLoss: 2.149347\n",
      "Train Epoch: 3 [0/500\t(1%)]\tLoss: 2.074490\n",
      "Train Epoch: 3 [400/500\t(81%)]\tLoss: 2.245174\n",
      "Train Epoch: 4 [0/500\t(1%)]\tLoss: 2.264517\n",
      "Train Epoch: 4 [400/500\t(81%)]\tLoss: 2.261183\n",
      "Train Epoch: 5 [0/500\t(1%)]\tLoss: 2.074025\n",
      "Train Epoch: 5 [400/500\t(81%)]\tLoss: 2.052057\n",
      "\n",
      "Worker 36 ends training in Global Round:1 |\n",
      "\n",
      "Worker 75 starts training in Global Round:1 |\n"
     ]
    },
    {
     "data": {
      "application/vnd.jupyter.widget-view+json": {
       "model_id": "f69f91bf3a9e4a90883877c80f1bbb4b",
       "version_major": 2,
       "version_minor": 0
      },
      "text/plain": [
       "HBox(children=(IntProgress(value=0, max=5), HTML(value='')))"
      ]
     },
     "metadata": {},
     "output_type": "display_data"
    },
    {
     "name": "stdout",
     "output_type": "stream",
     "text": [
      "Train Epoch: 1 [0/500\t(1%)]\tLoss: 2.696403\n",
      "Train Epoch: 1 [400/500\t(81%)]\tLoss: 2.947778\n",
      "Train Epoch: 2 [0/500\t(1%)]\tLoss: 2.247748\n",
      "Train Epoch: 2 [400/500\t(81%)]\tLoss: 2.168405\n",
      "Train Epoch: 3 [0/500\t(1%)]\tLoss: 2.289031\n",
      "Train Epoch: 3 [400/500\t(81%)]\tLoss: 2.532660\n",
      "Train Epoch: 4 [0/500\t(1%)]\tLoss: 1.980789\n",
      "Train Epoch: 4 [400/500\t(81%)]\tLoss: 2.141765\n",
      "Train Epoch: 5 [0/500\t(1%)]\tLoss: 1.893333\n",
      "Train Epoch: 5 [400/500\t(81%)]\tLoss: 1.935913\n",
      "\n",
      "Performed attacks 3\n",
      "\n",
      "===>Random attack started by:  Worker 75  in Global Round:  1\n",
      "Random attack strating: \n",
      "Performed attacks 4\n",
      "Worker 75 ends training in Global Round:1 |\n",
      "\n",
      "Worker 33 starts training in Global Round:1 |\n"
     ]
    },
    {
     "data": {
      "application/vnd.jupyter.widget-view+json": {
       "model_id": "baa9a3e22f064061ac3e236eec6ac741",
       "version_major": 2,
       "version_minor": 0
      },
      "text/plain": [
       "HBox(children=(IntProgress(value=0, max=5), HTML(value='')))"
      ]
     },
     "metadata": {},
     "output_type": "display_data"
    },
    {
     "name": "stdout",
     "output_type": "stream",
     "text": [
      "Train Epoch: 1 [0/500\t(1%)]\tLoss: 2.574707\n",
      "Train Epoch: 1 [400/500\t(81%)]\tLoss: 2.246148\n",
      "Train Epoch: 2 [0/500\t(1%)]\tLoss: 2.187474\n",
      "Train Epoch: 2 [400/500\t(81%)]\tLoss: 1.938498\n",
      "Train Epoch: 3 [0/500\t(1%)]\tLoss: 2.086427\n",
      "Train Epoch: 3 [400/500\t(81%)]\tLoss: 1.979424\n",
      "Train Epoch: 4 [0/500\t(1%)]\tLoss: 2.264549\n",
      "Train Epoch: 4 [400/500\t(81%)]\tLoss: 1.944649\n",
      "Train Epoch: 5 [0/500\t(1%)]\tLoss: 1.861253\n",
      "Train Epoch: 5 [400/500\t(81%)]\tLoss: 1.899110\n",
      "\n",
      "Worker 33 ends training in Global Round:1 |\n",
      "\n",
      "Worker 62 starts training in Global Round:1 |\n"
     ]
    },
    {
     "data": {
      "application/vnd.jupyter.widget-view+json": {
       "model_id": "332653cd7fce454289bf9a36e369d46b",
       "version_major": 2,
       "version_minor": 0
      },
      "text/plain": [
       "HBox(children=(IntProgress(value=0, max=5), HTML(value='')))"
      ]
     },
     "metadata": {},
     "output_type": "display_data"
    },
    {
     "name": "stdout",
     "output_type": "stream",
     "text": [
      "Train Epoch: 1 [0/500\t(1%)]\tLoss: 2.631889\n",
      "Train Epoch: 1 [400/500\t(81%)]\tLoss: 2.480538\n",
      "Train Epoch: 2 [0/500\t(1%)]\tLoss: 2.192620\n",
      "Train Epoch: 2 [400/500\t(81%)]\tLoss: 2.235310\n",
      "Train Epoch: 3 [0/500\t(1%)]\tLoss: 2.052872\n",
      "Train Epoch: 3 [400/500\t(81%)]\tLoss: 2.285378\n",
      "Train Epoch: 4 [0/500\t(1%)]\tLoss: 1.695585\n",
      "Train Epoch: 4 [400/500\t(81%)]\tLoss: 2.335548\n",
      "Train Epoch: 5 [0/500\t(1%)]\tLoss: 1.713429\n",
      "Train Epoch: 5 [400/500\t(81%)]\tLoss: 2.450830\n",
      "\n",
      "Worker 62 ends training in Global Round:1 |\n",
      "\n",
      "Worker 95 starts training in Global Round:1 |\n"
     ]
    },
    {
     "data": {
      "application/vnd.jupyter.widget-view+json": {
       "model_id": "d004f677c807411bb0cd6c5637110ce2",
       "version_major": 2,
       "version_minor": 0
      },
      "text/plain": [
       "HBox(children=(IntProgress(value=0, max=5), HTML(value='')))"
      ]
     },
     "metadata": {},
     "output_type": "display_data"
    },
    {
     "name": "stdout",
     "output_type": "stream",
     "text": [
      "Train Epoch: 1 [0/500\t(1%)]\tLoss: 2.605102\n",
      "Train Epoch: 1 [400/500\t(81%)]\tLoss: 2.599904\n",
      "Train Epoch: 2 [0/500\t(1%)]\tLoss: 2.664613\n",
      "Train Epoch: 2 [400/500\t(81%)]\tLoss: 2.348297\n",
      "Train Epoch: 3 [0/500\t(1%)]\tLoss: 2.524201\n",
      "Train Epoch: 3 [400/500\t(81%)]\tLoss: 2.356548\n",
      "Train Epoch: 4 [0/500\t(1%)]\tLoss: 2.182282\n",
      "Train Epoch: 4 [400/500\t(81%)]\tLoss: 1.886563\n",
      "Train Epoch: 5 [0/500\t(1%)]\tLoss: 2.032939\n",
      "Train Epoch: 5 [400/500\t(81%)]\tLoss: 2.143677\n",
      "\n",
      "Worker 95 ends training in Global Round:1 |\n",
      "\n",
      "Worker 68 starts training in Global Round:1 |\n"
     ]
    },
    {
     "data": {
      "application/vnd.jupyter.widget-view+json": {
       "model_id": "cb056757b18948ca8a7db34de7b6b3c9",
       "version_major": 2,
       "version_minor": 0
      },
      "text/plain": [
       "HBox(children=(IntProgress(value=0, max=5), HTML(value='')))"
      ]
     },
     "metadata": {},
     "output_type": "display_data"
    },
    {
     "name": "stdout",
     "output_type": "stream",
     "text": [
      "Train Epoch: 1 [0/500\t(1%)]\tLoss: 2.663478\n",
      "Train Epoch: 1 [400/500\t(81%)]\tLoss: 2.274394\n",
      "Train Epoch: 2 [0/500\t(1%)]\tLoss: 2.122339\n",
      "Train Epoch: 2 [400/500\t(81%)]\tLoss: 2.367329\n",
      "Train Epoch: 3 [0/500\t(1%)]\tLoss: 2.176784\n",
      "Train Epoch: 3 [400/500\t(81%)]\tLoss: 2.227664\n",
      "Train Epoch: 4 [0/500\t(1%)]\tLoss: 2.326302\n",
      "Train Epoch: 4 [400/500\t(81%)]\tLoss: 2.280174\n",
      "Train Epoch: 5 [0/500\t(1%)]\tLoss: 2.141687\n",
      "Train Epoch: 5 [400/500\t(81%)]\tLoss: 2.235791\n",
      "\n",
      "Worker 68 ends training in Global Round:1 |\n",
      "\n",
      "Worker 49 starts training in Global Round:1 |\n"
     ]
    },
    {
     "data": {
      "application/vnd.jupyter.widget-view+json": {
       "model_id": "d31b8cefc51f492181b21bf91842d3f8",
       "version_major": 2,
       "version_minor": 0
      },
      "text/plain": [
       "HBox(children=(IntProgress(value=0, max=5), HTML(value='')))"
      ]
     },
     "metadata": {},
     "output_type": "display_data"
    },
    {
     "name": "stdout",
     "output_type": "stream",
     "text": [
      "Train Epoch: 1 [0/500\t(1%)]\tLoss: 2.682665\n",
      "Train Epoch: 1 [400/500\t(81%)]\tLoss: 2.457084\n",
      "Train Epoch: 2 [0/500\t(1%)]\tLoss: 2.326516\n",
      "Train Epoch: 2 [400/500\t(81%)]\tLoss: 2.503021\n",
      "Train Epoch: 3 [0/500\t(1%)]\tLoss: 2.194870\n",
      "Train Epoch: 3 [400/500\t(81%)]\tLoss: 2.266718\n",
      "Train Epoch: 4 [0/500\t(1%)]\tLoss: 2.514888\n",
      "Train Epoch: 4 [400/500\t(81%)]\tLoss: 2.536979\n",
      "Train Epoch: 5 [0/500\t(1%)]\tLoss: 2.257758\n",
      "Train Epoch: 5 [400/500\t(81%)]\tLoss: 2.093737\n",
      "\n",
      "Worker 49 ends training in Global Round:1 |\n",
      "\n",
      "Average loss: 2.3827, Accuracy: 1000/10000 (10%)\n",
      "\n",
      "\n",
      "Selected workers\n",
      "\n",
      "[24 30 35 25 45 89 72 99 69 39 26  3 77 29 97]\n",
      "Worker 24 : is  Honest\n",
      "Worker 30 : is  Honest\n",
      "Worker 35 : is  Honest\n",
      "Worker 25 : is  Honest\n",
      "Worker 45 : is  Honest\n",
      "Worker 89 : is  Random_Attacker\n",
      "Worker 72 : is  Random_Attacker\n",
      "Worker 99 : is  Honest\n",
      "Worker 69 : is  Honest\n",
      "Worker 39 : is  Honest\n",
      "Worker 26 : is  Honest\n",
      "Worker 3 : is  Random_Attacker\n",
      "Worker 77 : is  Honest\n",
      "Worker 29 : is  Honest\n",
      "Worker 97 : is  Random_Attacker\n",
      "\n",
      " | Global Training Round : 2 |\n",
      "\n",
      "\n",
      "Worker 24 starts training in Global Round:2 |\n"
     ]
    },
    {
     "data": {
      "application/vnd.jupyter.widget-view+json": {
       "model_id": "23682a0d95694d86af7979f0f21b3743",
       "version_major": 2,
       "version_minor": 0
      },
      "text/plain": [
       "HBox(children=(IntProgress(value=0, max=5), HTML(value='')))"
      ]
     },
     "metadata": {},
     "output_type": "display_data"
    },
    {
     "name": "stdout",
     "output_type": "stream",
     "text": [
      "Train Epoch: 1 [0/500\t(1%)]\tLoss: 2.024825\n",
      "Train Epoch: 1 [400/500\t(81%)]\tLoss: 1.913429\n",
      "Train Epoch: 2 [0/500\t(1%)]\tLoss: 1.770340\n",
      "Train Epoch: 2 [400/500\t(81%)]\tLoss: 2.035399\n",
      "Train Epoch: 3 [0/500\t(1%)]\tLoss: 1.779040\n",
      "Train Epoch: 3 [400/500\t(81%)]\tLoss: 2.135248\n",
      "Train Epoch: 4 [0/500\t(1%)]\tLoss: 1.710512\n",
      "Train Epoch: 4 [400/500\t(81%)]\tLoss: 1.586550\n",
      "Train Epoch: 5 [0/500\t(1%)]\tLoss: 1.765644\n",
      "Train Epoch: 5 [400/500\t(81%)]\tLoss: 1.656971\n",
      "\n",
      "Worker 24 ends training in Global Round:2 |\n",
      "\n",
      "Worker 30 starts training in Global Round:2 |\n"
     ]
    },
    {
     "data": {
      "application/vnd.jupyter.widget-view+json": {
       "model_id": "c72f6ad83471424a92fd9b7fd7492bf1",
       "version_major": 2,
       "version_minor": 0
      },
      "text/plain": [
       "HBox(children=(IntProgress(value=0, max=5), HTML(value='')))"
      ]
     },
     "metadata": {},
     "output_type": "display_data"
    },
    {
     "name": "stdout",
     "output_type": "stream",
     "text": [
      "Train Epoch: 1 [0/500\t(1%)]\tLoss: 1.989642\n",
      "Train Epoch: 1 [400/500\t(81%)]\tLoss: 1.786650\n",
      "Train Epoch: 2 [0/500\t(1%)]\tLoss: 1.949803\n",
      "Train Epoch: 2 [400/500\t(81%)]\tLoss: 1.994009\n",
      "Train Epoch: 3 [0/500\t(1%)]\tLoss: 1.736630\n",
      "Train Epoch: 3 [400/500\t(81%)]\tLoss: 2.281846\n",
      "Train Epoch: 4 [0/500\t(1%)]\tLoss: 1.712779\n",
      "Train Epoch: 4 [400/500\t(81%)]\tLoss: 2.012017\n",
      "Train Epoch: 5 [0/500\t(1%)]\tLoss: 1.865999\n",
      "Train Epoch: 5 [400/500\t(81%)]\tLoss: 2.027310\n",
      "\n",
      "Worker 30 ends training in Global Round:2 |\n",
      "\n",
      "Worker 35 starts training in Global Round:2 |\n"
     ]
    },
    {
     "data": {
      "application/vnd.jupyter.widget-view+json": {
       "model_id": "e03b854d4edb4e379a33b07a554ab258",
       "version_major": 2,
       "version_minor": 0
      },
      "text/plain": [
       "HBox(children=(IntProgress(value=0, max=5), HTML(value='')))"
      ]
     },
     "metadata": {},
     "output_type": "display_data"
    },
    {
     "name": "stdout",
     "output_type": "stream",
     "text": [
      "Train Epoch: 1 [0/500\t(1%)]\tLoss: 1.954630\n",
      "Train Epoch: 1 [400/500\t(81%)]\tLoss: 1.998294\n",
      "Train Epoch: 2 [0/500\t(1%)]\tLoss: 2.180097\n",
      "Train Epoch: 2 [400/500\t(81%)]\tLoss: 2.281709\n",
      "Train Epoch: 3 [0/500\t(1%)]\tLoss: 2.247870\n",
      "Train Epoch: 3 [400/500\t(81%)]\tLoss: 1.750327\n",
      "Train Epoch: 4 [0/500\t(1%)]\tLoss: 1.935736\n",
      "Train Epoch: 4 [400/500\t(81%)]\tLoss: 2.097775\n",
      "Train Epoch: 5 [0/500\t(1%)]\tLoss: 1.751925\n",
      "Train Epoch: 5 [400/500\t(81%)]\tLoss: 1.876996\n",
      "\n",
      "Worker 35 ends training in Global Round:2 |\n",
      "\n",
      "Worker 25 starts training in Global Round:2 |\n"
     ]
    },
    {
     "data": {
      "application/vnd.jupyter.widget-view+json": {
       "model_id": "34893f289afa4988847bb6d9af07cf52",
       "version_major": 2,
       "version_minor": 0
      },
      "text/plain": [
       "HBox(children=(IntProgress(value=0, max=5), HTML(value='')))"
      ]
     },
     "metadata": {},
     "output_type": "display_data"
    },
    {
     "name": "stdout",
     "output_type": "stream",
     "text": [
      "Train Epoch: 1 [0/500\t(1%)]\tLoss: 1.925521\n",
      "Train Epoch: 1 [400/500\t(81%)]\tLoss: 2.200620\n",
      "Train Epoch: 2 [0/500\t(1%)]\tLoss: 2.271644\n",
      "Train Epoch: 2 [400/500\t(81%)]\tLoss: 2.181930\n",
      "Train Epoch: 3 [0/500\t(1%)]\tLoss: 1.743140\n",
      "Train Epoch: 3 [400/500\t(81%)]\tLoss: 2.102934\n",
      "Train Epoch: 4 [0/500\t(1%)]\tLoss: 2.119922\n",
      "Train Epoch: 4 [400/500\t(81%)]\tLoss: 1.888139\n",
      "Train Epoch: 5 [0/500\t(1%)]\tLoss: 1.652332\n",
      "Train Epoch: 5 [400/500\t(81%)]\tLoss: 1.690215\n",
      "\n",
      "Worker 25 ends training in Global Round:2 |\n",
      "\n",
      "Worker 45 starts training in Global Round:2 |\n"
     ]
    },
    {
     "data": {
      "application/vnd.jupyter.widget-view+json": {
       "model_id": "44ee5f0fbca14fd196f5d6f7da5b03f2",
       "version_major": 2,
       "version_minor": 0
      },
      "text/plain": [
       "HBox(children=(IntProgress(value=0, max=5), HTML(value='')))"
      ]
     },
     "metadata": {},
     "output_type": "display_data"
    },
    {
     "name": "stdout",
     "output_type": "stream",
     "text": [
      "Train Epoch: 1 [0/500\t(1%)]\tLoss: 2.078677\n",
      "Train Epoch: 1 [400/500\t(81%)]\tLoss: 2.045404\n",
      "Train Epoch: 2 [0/500\t(1%)]\tLoss: 1.865160\n",
      "Train Epoch: 2 [400/500\t(81%)]\tLoss: 2.005848\n",
      "Train Epoch: 3 [0/500\t(1%)]\tLoss: 1.925657\n",
      "Train Epoch: 3 [400/500\t(81%)]\tLoss: 2.102556\n",
      "Train Epoch: 4 [0/500\t(1%)]\tLoss: 1.869594\n",
      "Train Epoch: 4 [400/500\t(81%)]\tLoss: 2.005105\n",
      "Train Epoch: 5 [0/500\t(1%)]\tLoss: 1.871651\n",
      "Train Epoch: 5 [400/500\t(81%)]\tLoss: 1.768611\n",
      "\n",
      "Worker 45 ends training in Global Round:2 |\n",
      "\n",
      "Worker 89 starts training in Global Round:2 |\n"
     ]
    },
    {
     "data": {
      "application/vnd.jupyter.widget-view+json": {
       "model_id": "97190b207dd74d51897828344e78a5bf",
       "version_major": 2,
       "version_minor": 0
      },
      "text/plain": [
       "HBox(children=(IntProgress(value=0, max=5), HTML(value='')))"
      ]
     },
     "metadata": {},
     "output_type": "display_data"
    },
    {
     "name": "stdout",
     "output_type": "stream",
     "text": [
      "Train Epoch: 1 [0/500\t(1%)]\tLoss: 1.884600\n",
      "Train Epoch: 1 [400/500\t(81%)]\tLoss: 1.929544\n",
      "Train Epoch: 2 [0/500\t(1%)]\tLoss: 1.841605\n",
      "Train Epoch: 2 [400/500\t(81%)]\tLoss: 2.099271\n",
      "Train Epoch: 3 [0/500\t(1%)]\tLoss: 1.726861\n",
      "Train Epoch: 3 [400/500\t(81%)]\tLoss: 2.001343\n",
      "Train Epoch: 4 [0/500\t(1%)]\tLoss: 2.192642\n",
      "Train Epoch: 4 [400/500\t(81%)]\tLoss: 1.761688\n",
      "Train Epoch: 5 [0/500\t(1%)]\tLoss: 2.218414\n",
      "Train Epoch: 5 [400/500\t(81%)]\tLoss: 1.653776\n",
      "\n",
      "Performed attacks 0\n",
      "\n",
      "===>Random attack started by:  Worker 89  in Global Round:  2\n",
      "Random attack strating: \n",
      "Performed attacks 1\n",
      "Worker 89 ends training in Global Round:2 |\n",
      "\n",
      "Worker 72 starts training in Global Round:2 |\n"
     ]
    },
    {
     "data": {
      "application/vnd.jupyter.widget-view+json": {
       "model_id": "0fa6eab950b6481fb3f4b140b607e1ec",
       "version_major": 2,
       "version_minor": 0
      },
      "text/plain": [
       "HBox(children=(IntProgress(value=0, max=5), HTML(value='')))"
      ]
     },
     "metadata": {},
     "output_type": "display_data"
    },
    {
     "name": "stdout",
     "output_type": "stream",
     "text": [
      "Train Epoch: 1 [0/500\t(1%)]\tLoss: 1.970480\n",
      "Train Epoch: 1 [400/500\t(81%)]\tLoss: 1.881377\n",
      "Train Epoch: 2 [0/500\t(1%)]\tLoss: 1.994943\n",
      "Train Epoch: 2 [400/500\t(81%)]\tLoss: 2.196043\n",
      "Train Epoch: 3 [0/500\t(1%)]\tLoss: 1.791175\n",
      "Train Epoch: 3 [400/500\t(81%)]\tLoss: 2.101824\n",
      "Train Epoch: 4 [0/500\t(1%)]\tLoss: 2.139387\n",
      "Train Epoch: 4 [400/500\t(81%)]\tLoss: 1.787538\n",
      "Train Epoch: 5 [0/500\t(1%)]\tLoss: 1.610433\n",
      "Train Epoch: 5 [400/500\t(81%)]\tLoss: 2.097945\n",
      "\n",
      "Performed attacks 1\n",
      "\n",
      "===>Random attack started by:  Worker 72  in Global Round:  2\n",
      "Random attack strating: \n",
      "Performed attacks 2\n",
      "Worker 72 ends training in Global Round:2 |\n",
      "\n",
      "Worker 99 starts training in Global Round:2 |\n"
     ]
    },
    {
     "data": {
      "application/vnd.jupyter.widget-view+json": {
       "model_id": "e8dedb933878473f897e45b16ad8814f",
       "version_major": 2,
       "version_minor": 0
      },
      "text/plain": [
       "HBox(children=(IntProgress(value=0, max=5), HTML(value='')))"
      ]
     },
     "metadata": {},
     "output_type": "display_data"
    },
    {
     "name": "stdout",
     "output_type": "stream",
     "text": [
      "Train Epoch: 1 [0/500\t(1%)]\tLoss: 2.082488\n",
      "Train Epoch: 1 [400/500\t(81%)]\tLoss: 1.945585\n",
      "Train Epoch: 2 [0/500\t(1%)]\tLoss: 1.929113\n",
      "Train Epoch: 2 [400/500\t(81%)]\tLoss: 2.497432\n",
      "Train Epoch: 3 [0/500\t(1%)]\tLoss: 1.839488\n",
      "Train Epoch: 3 [400/500\t(81%)]\tLoss: 2.148784\n",
      "Train Epoch: 4 [0/500\t(1%)]\tLoss: 1.929829\n",
      "Train Epoch: 4 [400/500\t(81%)]\tLoss: 1.684998\n",
      "Train Epoch: 5 [0/500\t(1%)]\tLoss: 1.849934\n",
      "Train Epoch: 5 [400/500\t(81%)]\tLoss: 1.886351\n",
      "\n",
      "Worker 99 ends training in Global Round:2 |\n",
      "\n",
      "Worker 69 starts training in Global Round:2 |\n"
     ]
    },
    {
     "data": {
      "application/vnd.jupyter.widget-view+json": {
       "model_id": "3c1d43ea8f3e4d63807d79f4f260fc8a",
       "version_major": 2,
       "version_minor": 0
      },
      "text/plain": [
       "HBox(children=(IntProgress(value=0, max=5), HTML(value='')))"
      ]
     },
     "metadata": {},
     "output_type": "display_data"
    },
    {
     "name": "stdout",
     "output_type": "stream",
     "text": [
      "Train Epoch: 1 [0/500\t(1%)]\tLoss: 2.025943\n",
      "Train Epoch: 1 [400/500\t(81%)]\tLoss: 2.084393\n",
      "Train Epoch: 2 [0/500\t(1%)]\tLoss: 1.884027\n",
      "Train Epoch: 2 [400/500\t(81%)]\tLoss: 1.934151\n",
      "Train Epoch: 3 [0/500\t(1%)]\tLoss: 2.371965\n",
      "Train Epoch: 3 [400/500\t(81%)]\tLoss: 1.917098\n",
      "Train Epoch: 4 [0/500\t(1%)]\tLoss: 2.046252\n",
      "Train Epoch: 4 [400/500\t(81%)]\tLoss: 1.936980\n",
      "Train Epoch: 5 [0/500\t(1%)]\tLoss: 1.873997\n",
      "Train Epoch: 5 [400/500\t(81%)]\tLoss: 2.043436\n",
      "\n",
      "Worker 69 ends training in Global Round:2 |\n",
      "\n",
      "Worker 39 starts training in Global Round:2 |\n"
     ]
    },
    {
     "data": {
      "application/vnd.jupyter.widget-view+json": {
       "model_id": "a98350a13ab64eb598d97abd447e1c2b",
       "version_major": 2,
       "version_minor": 0
      },
      "text/plain": [
       "HBox(children=(IntProgress(value=0, max=5), HTML(value='')))"
      ]
     },
     "metadata": {},
     "output_type": "display_data"
    },
    {
     "name": "stdout",
     "output_type": "stream",
     "text": [
      "Train Epoch: 1 [0/500\t(1%)]\tLoss: 1.988644\n",
      "Train Epoch: 1 [400/500\t(81%)]\tLoss: 2.083811\n",
      "Train Epoch: 2 [0/500\t(1%)]\tLoss: 1.709274\n",
      "Train Epoch: 2 [400/500\t(81%)]\tLoss: 1.842957\n",
      "Train Epoch: 3 [0/500\t(1%)]\tLoss: 1.799946\n",
      "Train Epoch: 3 [400/500\t(81%)]\tLoss: 1.813321\n",
      "Train Epoch: 4 [0/500\t(1%)]\tLoss: 1.681636\n",
      "Train Epoch: 4 [400/500\t(81%)]\tLoss: 1.889784\n",
      "Train Epoch: 5 [0/500\t(1%)]\tLoss: 1.659702\n",
      "Train Epoch: 5 [400/500\t(81%)]\tLoss: 1.428663\n",
      "\n",
      "Worker 39 ends training in Global Round:2 |\n",
      "\n",
      "Worker 26 starts training in Global Round:2 |\n"
     ]
    },
    {
     "data": {
      "application/vnd.jupyter.widget-view+json": {
       "model_id": "174cc9ebb8fc42e38118c8a38b38b27a",
       "version_major": 2,
       "version_minor": 0
      },
      "text/plain": [
       "HBox(children=(IntProgress(value=0, max=5), HTML(value='')))"
      ]
     },
     "metadata": {},
     "output_type": "display_data"
    },
    {
     "name": "stdout",
     "output_type": "stream",
     "text": [
      "Train Epoch: 1 [0/500\t(1%)]\tLoss: 2.112972\n",
      "Train Epoch: 1 [400/500\t(81%)]\tLoss: 1.827484\n",
      "Train Epoch: 2 [0/500\t(1%)]\tLoss: 1.703985\n",
      "Train Epoch: 2 [400/500\t(81%)]\tLoss: 2.027171\n",
      "Train Epoch: 3 [0/500\t(1%)]\tLoss: 1.811922\n",
      "Train Epoch: 3 [400/500\t(81%)]\tLoss: 1.985439\n",
      "Train Epoch: 4 [0/500\t(1%)]\tLoss: 1.865857\n",
      "Train Epoch: 4 [400/500\t(81%)]\tLoss: 1.812841\n",
      "Train Epoch: 5 [0/500\t(1%)]\tLoss: 1.537521\n",
      "Train Epoch: 5 [400/500\t(81%)]\tLoss: 1.663695\n",
      "\n",
      "Worker 26 ends training in Global Round:2 |\n",
      "\n",
      "Worker 3 starts training in Global Round:2 |\n"
     ]
    },
    {
     "data": {
      "application/vnd.jupyter.widget-view+json": {
       "model_id": "cf9718dcfa374f1d8e842960812ccf32",
       "version_major": 2,
       "version_minor": 0
      },
      "text/plain": [
       "HBox(children=(IntProgress(value=0, max=5), HTML(value='')))"
      ]
     },
     "metadata": {},
     "output_type": "display_data"
    },
    {
     "name": "stdout",
     "output_type": "stream",
     "text": [
      "Train Epoch: 1 [0/500\t(1%)]\tLoss: 2.077901\n",
      "Train Epoch: 1 [400/500\t(81%)]\tLoss: 1.942112\n",
      "Train Epoch: 2 [0/500\t(1%)]\tLoss: 2.036408\n",
      "Train Epoch: 2 [400/500\t(81%)]\tLoss: 2.273592\n",
      "Train Epoch: 3 [0/500\t(1%)]\tLoss: 2.052475\n",
      "Train Epoch: 3 [400/500\t(81%)]\tLoss: 1.768130\n",
      "Train Epoch: 4 [0/500\t(1%)]\tLoss: 2.010643\n",
      "Train Epoch: 4 [400/500\t(81%)]\tLoss: 1.718892\n",
      "Train Epoch: 5 [0/500\t(1%)]\tLoss: 1.890334\n",
      "Train Epoch: 5 [400/500\t(81%)]\tLoss: 1.762767\n",
      "\n",
      "Performed attacks 2\n",
      "\n",
      "===>Random attack started by:  Worker 3  in Global Round:  2\n",
      "Random attack strating: \n",
      "Performed attacks 3\n",
      "Worker 3 ends training in Global Round:2 |\n",
      "\n",
      "Worker 77 starts training in Global Round:2 |\n"
     ]
    },
    {
     "data": {
      "application/vnd.jupyter.widget-view+json": {
       "model_id": "cb85950727054dd480e807f062f9343e",
       "version_major": 2,
       "version_minor": 0
      },
      "text/plain": [
       "HBox(children=(IntProgress(value=0, max=5), HTML(value='')))"
      ]
     },
     "metadata": {},
     "output_type": "display_data"
    },
    {
     "name": "stdout",
     "output_type": "stream",
     "text": [
      "Train Epoch: 1 [0/500\t(1%)]\tLoss: 2.085879\n",
      "Train Epoch: 1 [400/500\t(81%)]\tLoss: 2.156907\n",
      "Train Epoch: 2 [0/500\t(1%)]\tLoss: 1.968679\n",
      "Train Epoch: 2 [400/500\t(81%)]\tLoss: 2.215778\n",
      "Train Epoch: 3 [0/500\t(1%)]\tLoss: 1.850042\n",
      "Train Epoch: 3 [400/500\t(81%)]\tLoss: 1.935894\n",
      "Train Epoch: 4 [0/500\t(1%)]\tLoss: 1.726989\n",
      "Train Epoch: 4 [400/500\t(81%)]\tLoss: 1.777185\n",
      "Train Epoch: 5 [0/500\t(1%)]\tLoss: 1.996484\n",
      "Train Epoch: 5 [400/500\t(81%)]\tLoss: 2.150460\n",
      "\n",
      "Worker 77 ends training in Global Round:2 |\n",
      "\n",
      "Worker 29 starts training in Global Round:2 |\n"
     ]
    },
    {
     "data": {
      "application/vnd.jupyter.widget-view+json": {
       "model_id": "22138ae74baa456496873614b8f8909f",
       "version_major": 2,
       "version_minor": 0
      },
      "text/plain": [
       "HBox(children=(IntProgress(value=0, max=5), HTML(value='')))"
      ]
     },
     "metadata": {},
     "output_type": "display_data"
    },
    {
     "name": "stdout",
     "output_type": "stream",
     "text": [
      "Train Epoch: 1 [0/500\t(1%)]\tLoss: 2.037431\n",
      "Train Epoch: 1 [400/500\t(81%)]\tLoss: 1.996483\n",
      "Train Epoch: 2 [0/500\t(1%)]\tLoss: 1.853391\n",
      "Train Epoch: 2 [400/500\t(81%)]\tLoss: 1.830688\n",
      "Train Epoch: 3 [0/500\t(1%)]\tLoss: 1.773343\n",
      "Train Epoch: 3 [400/500\t(81%)]\tLoss: 1.650970\n",
      "Train Epoch: 4 [0/500\t(1%)]\tLoss: 1.723511\n",
      "Train Epoch: 4 [400/500\t(81%)]\tLoss: 1.610444\n",
      "Train Epoch: 5 [0/500\t(1%)]\tLoss: 1.639448\n",
      "Train Epoch: 5 [400/500\t(81%)]\tLoss: 1.789400\n",
      "\n",
      "Worker 29 ends training in Global Round:2 |\n",
      "\n",
      "Worker 97 starts training in Global Round:2 |\n"
     ]
    },
    {
     "data": {
      "application/vnd.jupyter.widget-view+json": {
       "model_id": "d61a5a26b62c4ed09500306a36d10ede",
       "version_major": 2,
       "version_minor": 0
      },
      "text/plain": [
       "HBox(children=(IntProgress(value=0, max=5), HTML(value='')))"
      ]
     },
     "metadata": {},
     "output_type": "display_data"
    },
    {
     "name": "stdout",
     "output_type": "stream",
     "text": [
      "Train Epoch: 1 [0/500\t(1%)]\tLoss: 1.954466\n",
      "Train Epoch: 1 [400/500\t(81%)]\tLoss: 2.013407\n",
      "Train Epoch: 2 [0/500\t(1%)]\tLoss: 1.969343\n",
      "Train Epoch: 2 [400/500\t(81%)]\tLoss: 2.091925\n",
      "Train Epoch: 3 [0/500\t(1%)]\tLoss: 1.868517\n",
      "Train Epoch: 3 [400/500\t(81%)]\tLoss: 1.991070\n",
      "Train Epoch: 4 [0/500\t(1%)]\tLoss: 1.944177\n",
      "Train Epoch: 4 [400/500\t(81%)]\tLoss: 1.695405\n",
      "Train Epoch: 5 [0/500\t(1%)]\tLoss: 1.812636\n",
      "Train Epoch: 5 [400/500\t(81%)]\tLoss: 1.758615\n",
      "\n",
      "Performed attacks 3\n",
      "\n",
      "===>Random attack started by:  Worker 97  in Global Round:  2\n",
      "Random attack strating: \n",
      "Performed attacks 4\n",
      "Worker 97 ends training in Global Round:2 |\n",
      "\n",
      "Average loss: 2.1433, Accuracy: 1941/10000 (19%)\n",
      "\n",
      "\n",
      "Selected workers\n",
      "\n",
      "[58 23 52 43 84  2 12 51 69 46 72 37 53 68 15]\n",
      "Worker 58 : is  Honest\n",
      "Worker 23 : is  Random_Attacker\n",
      "Worker 52 : is  Random_Attacker\n",
      "Worker 43 : is  Honest\n",
      "Worker 84 : is  Honest\n",
      "Worker 2 : is  Honest\n",
      "Worker 12 : is  Random_Attacker\n",
      "Worker 51 : is  Random_Attacker\n",
      "Worker 69 : is  Honest\n",
      "Worker 46 : is  Random_Attacker\n",
      "Worker 72 : is  Random_Attacker\n",
      "Worker 37 : is  Random_Attacker\n",
      "Worker 53 : is  Random_Attacker\n",
      "Worker 68 : is  Honest\n",
      "Worker 15 : is  Honest\n",
      "\n",
      " | Global Training Round : 3 |\n",
      "\n",
      "\n",
      "Worker 58 starts training in Global Round:3 |\n"
     ]
    },
    {
     "data": {
      "application/vnd.jupyter.widget-view+json": {
       "model_id": "10e9cbec8fb54f319d742207946537f5",
       "version_major": 2,
       "version_minor": 0
      },
      "text/plain": [
       "HBox(children=(IntProgress(value=0, max=5), HTML(value='')))"
      ]
     },
     "metadata": {},
     "output_type": "display_data"
    },
    {
     "name": "stdout",
     "output_type": "stream",
     "text": [
      "Train Epoch: 1 [0/500\t(1%)]\tLoss: 1.852031\n",
      "Train Epoch: 1 [400/500\t(81%)]\tLoss: 2.024745\n",
      "Train Epoch: 2 [0/500\t(1%)]\tLoss: 1.542237\n",
      "Train Epoch: 2 [400/500\t(81%)]\tLoss: 1.903567\n",
      "Train Epoch: 3 [0/500\t(1%)]\tLoss: 1.679593\n",
      "Train Epoch: 3 [400/500\t(81%)]\tLoss: 2.029212\n",
      "Train Epoch: 4 [0/500\t(1%)]\tLoss: 1.288768\n",
      "Train Epoch: 4 [400/500\t(81%)]\tLoss: 2.030336\n",
      "Train Epoch: 5 [0/500\t(1%)]\tLoss: 1.497005\n",
      "Train Epoch: 5 [400/500\t(81%)]\tLoss: 1.634366\n",
      "\n",
      "Worker 58 ends training in Global Round:3 |\n",
      "\n",
      "Worker 23 starts training in Global Round:3 |\n"
     ]
    },
    {
     "data": {
      "application/vnd.jupyter.widget-view+json": {
       "model_id": "ed6252b48ec74faf8bdc9d9108ff6481",
       "version_major": 2,
       "version_minor": 0
      },
      "text/plain": [
       "HBox(children=(IntProgress(value=0, max=5), HTML(value='')))"
      ]
     },
     "metadata": {},
     "output_type": "display_data"
    },
    {
     "name": "stdout",
     "output_type": "stream",
     "text": [
      "Train Epoch: 1 [0/500\t(1%)]\tLoss: 1.890417\n",
      "Train Epoch: 1 [400/500\t(81%)]\tLoss: 1.910666\n",
      "Train Epoch: 2 [0/500\t(1%)]\tLoss: 1.829128\n",
      "Train Epoch: 2 [400/500\t(81%)]\tLoss: 1.876665\n",
      "Train Epoch: 3 [0/500\t(1%)]\tLoss: 1.524867\n",
      "Train Epoch: 3 [400/500\t(81%)]\tLoss: 1.834753\n",
      "Train Epoch: 4 [0/500\t(1%)]\tLoss: 1.634206\n",
      "Train Epoch: 4 [400/500\t(81%)]\tLoss: 1.923335\n",
      "Train Epoch: 5 [0/500\t(1%)]\tLoss: 1.688088\n",
      "Train Epoch: 5 [400/500\t(81%)]\tLoss: 1.754676\n",
      "\n",
      "Performed attacks 0\n",
      "\n",
      "===>Random attack started by:  Worker 23  in Global Round:  3\n",
      "Random attack strating: \n",
      "Performed attacks 1\n",
      "Worker 23 ends training in Global Round:3 |\n",
      "\n",
      "Worker 52 starts training in Global Round:3 |\n"
     ]
    },
    {
     "data": {
      "application/vnd.jupyter.widget-view+json": {
       "model_id": "1d6a5a64d78843ceba48214d3fe58615",
       "version_major": 2,
       "version_minor": 0
      },
      "text/plain": [
       "HBox(children=(IntProgress(value=0, max=5), HTML(value='')))"
      ]
     },
     "metadata": {},
     "output_type": "display_data"
    },
    {
     "name": "stdout",
     "output_type": "stream",
     "text": [
      "Train Epoch: 1 [0/500\t(1%)]\tLoss: 1.663396\n",
      "Train Epoch: 1 [400/500\t(81%)]\tLoss: 1.858621\n",
      "Train Epoch: 2 [0/500\t(1%)]\tLoss: 1.726043\n",
      "Train Epoch: 2 [400/500\t(81%)]\tLoss: 1.893679\n",
      "Train Epoch: 3 [0/500\t(1%)]\tLoss: 1.641931\n",
      "Train Epoch: 3 [400/500\t(81%)]\tLoss: 1.521067\n",
      "Train Epoch: 4 [0/500\t(1%)]\tLoss: 1.574654\n",
      "Train Epoch: 4 [400/500\t(81%)]\tLoss: 1.653286\n",
      "Train Epoch: 5 [0/500\t(1%)]\tLoss: 1.595330\n",
      "Train Epoch: 5 [400/500\t(81%)]\tLoss: 1.740367\n",
      "\n",
      "Performed attacks 1\n",
      "\n",
      "===>Random attack started by:  Worker 52  in Global Round:  3\n",
      "Random attack strating: \n",
      "Performed attacks 2\n",
      "Worker 52 ends training in Global Round:3 |\n",
      "\n",
      "Worker 43 starts training in Global Round:3 |\n"
     ]
    },
    {
     "data": {
      "application/vnd.jupyter.widget-view+json": {
       "model_id": "40d66119301347e9b9910c222bb9d1da",
       "version_major": 2,
       "version_minor": 0
      },
      "text/plain": [
       "HBox(children=(IntProgress(value=0, max=5), HTML(value='')))"
      ]
     },
     "metadata": {},
     "output_type": "display_data"
    },
    {
     "name": "stdout",
     "output_type": "stream",
     "text": [
      "Train Epoch: 1 [0/500\t(1%)]\tLoss: 1.818642\n",
      "Train Epoch: 1 [400/500\t(81%)]\tLoss: 1.844454\n",
      "Train Epoch: 2 [0/500\t(1%)]\tLoss: 1.648346\n",
      "Train Epoch: 2 [400/500\t(81%)]\tLoss: 1.937078\n",
      "Train Epoch: 3 [0/500\t(1%)]\tLoss: 1.572466\n",
      "Train Epoch: 3 [400/500\t(81%)]\tLoss: 1.793533\n",
      "Train Epoch: 4 [0/500\t(1%)]\tLoss: 1.728428\n",
      "Train Epoch: 4 [400/500\t(81%)]\tLoss: 1.565525\n",
      "Train Epoch: 5 [0/500\t(1%)]\tLoss: 1.306759\n",
      "Train Epoch: 5 [400/500\t(81%)]\tLoss: 1.650769\n",
      "\n",
      "Worker 43 ends training in Global Round:3 |\n",
      "\n",
      "Worker 84 starts training in Global Round:3 |\n"
     ]
    },
    {
     "data": {
      "application/vnd.jupyter.widget-view+json": {
       "model_id": "c8d612212ec54e31955031d707e17b28",
       "version_major": 2,
       "version_minor": 0
      },
      "text/plain": [
       "HBox(children=(IntProgress(value=0, max=5), HTML(value='')))"
      ]
     },
     "metadata": {},
     "output_type": "display_data"
    },
    {
     "name": "stdout",
     "output_type": "stream",
     "text": [
      "Train Epoch: 1 [0/500\t(1%)]\tLoss: 1.712648\n",
      "Train Epoch: 1 [400/500\t(81%)]\tLoss: 2.053803\n",
      "Train Epoch: 2 [0/500\t(1%)]\tLoss: 1.672928\n",
      "Train Epoch: 2 [400/500\t(81%)]\tLoss: 1.686048\n",
      "Train Epoch: 3 [0/500\t(1%)]\tLoss: 1.821018\n",
      "Train Epoch: 3 [400/500\t(81%)]\tLoss: 2.027985\n",
      "Train Epoch: 4 [0/500\t(1%)]\tLoss: 1.560005\n",
      "Train Epoch: 4 [400/500\t(81%)]\tLoss: 1.701359\n",
      "Train Epoch: 5 [0/500\t(1%)]\tLoss: 1.499610\n",
      "Train Epoch: 5 [400/500\t(81%)]\tLoss: 1.716459\n",
      "\n",
      "Worker 84 ends training in Global Round:3 |\n",
      "\n",
      "Worker 2 starts training in Global Round:3 |\n"
     ]
    },
    {
     "data": {
      "application/vnd.jupyter.widget-view+json": {
       "model_id": "dbbfdc9f0ef640f0b7ed2e80f22a079a",
       "version_major": 2,
       "version_minor": 0
      },
      "text/plain": [
       "HBox(children=(IntProgress(value=0, max=5), HTML(value='')))"
      ]
     },
     "metadata": {},
     "output_type": "display_data"
    },
    {
     "name": "stdout",
     "output_type": "stream",
     "text": [
      "Train Epoch: 1 [0/500\t(1%)]\tLoss: 1.776214\n",
      "Train Epoch: 1 [400/500\t(81%)]\tLoss: 1.846331\n",
      "Train Epoch: 2 [0/500\t(1%)]\tLoss: 1.581730\n",
      "Train Epoch: 2 [400/500\t(81%)]\tLoss: 1.664015\n",
      "Train Epoch: 3 [0/500\t(1%)]\tLoss: 1.528727\n",
      "Train Epoch: 3 [400/500\t(81%)]\tLoss: 1.794797\n",
      "Train Epoch: 4 [0/500\t(1%)]\tLoss: 1.640791\n",
      "Train Epoch: 4 [400/500\t(81%)]\tLoss: 1.721750\n",
      "Train Epoch: 5 [0/500\t(1%)]\tLoss: 1.522929\n",
      "Train Epoch: 5 [400/500\t(81%)]\tLoss: 2.048586\n",
      "\n",
      "Worker 2 ends training in Global Round:3 |\n",
      "\n",
      "Worker 12 starts training in Global Round:3 |\n"
     ]
    },
    {
     "data": {
      "application/vnd.jupyter.widget-view+json": {
       "model_id": "2fffb5db6571441a961446a1659fea73",
       "version_major": 2,
       "version_minor": 0
      },
      "text/plain": [
       "HBox(children=(IntProgress(value=0, max=5), HTML(value='')))"
      ]
     },
     "metadata": {},
     "output_type": "display_data"
    },
    {
     "name": "stdout",
     "output_type": "stream",
     "text": [
      "Train Epoch: 1 [0/500\t(1%)]\tLoss: 1.708393\n",
      "Train Epoch: 1 [400/500\t(81%)]\tLoss: 1.837332\n",
      "Train Epoch: 2 [0/500\t(1%)]\tLoss: 1.713741\n",
      "Train Epoch: 2 [400/500\t(81%)]\tLoss: 2.184676\n",
      "Train Epoch: 3 [0/500\t(1%)]\tLoss: 1.891197\n",
      "Train Epoch: 3 [400/500\t(81%)]\tLoss: 1.928059\n",
      "Train Epoch: 4 [0/500\t(1%)]\tLoss: 1.745073\n",
      "Train Epoch: 4 [400/500\t(81%)]\tLoss: 2.386744\n",
      "Train Epoch: 5 [0/500\t(1%)]\tLoss: 1.520759\n",
      "Train Epoch: 5 [400/500\t(81%)]\tLoss: 1.632630\n",
      "\n",
      "Performed attacks 2\n",
      "\n",
      "===>Random attack started by:  Worker 12  in Global Round:  3\n",
      "Random attack strating: \n",
      "Performed attacks 3\n",
      "Worker 12 ends training in Global Round:3 |\n",
      "\n",
      "Worker 51 starts training in Global Round:3 |\n"
     ]
    },
    {
     "data": {
      "application/vnd.jupyter.widget-view+json": {
       "model_id": "acf00367759a4d7799b93097f450940d",
       "version_major": 2,
       "version_minor": 0
      },
      "text/plain": [
       "HBox(children=(IntProgress(value=0, max=5), HTML(value='')))"
      ]
     },
     "metadata": {},
     "output_type": "display_data"
    },
    {
     "name": "stdout",
     "output_type": "stream",
     "text": [
      "Train Epoch: 1 [0/500\t(1%)]\tLoss: 1.856521\n",
      "Train Epoch: 1 [400/500\t(81%)]\tLoss: 1.759123\n",
      "Train Epoch: 2 [0/500\t(1%)]\tLoss: 1.604356\n",
      "Train Epoch: 2 [400/500\t(81%)]\tLoss: 1.784428\n",
      "Train Epoch: 3 [0/500\t(1%)]\tLoss: 1.494462\n",
      "Train Epoch: 3 [400/500\t(81%)]\tLoss: 1.605969\n",
      "Train Epoch: 4 [0/500\t(1%)]\tLoss: 1.748175\n",
      "Train Epoch: 4 [400/500\t(81%)]\tLoss: 1.459358\n",
      "Train Epoch: 5 [0/500\t(1%)]\tLoss: 1.171155\n",
      "Train Epoch: 5 [400/500\t(81%)]\tLoss: 1.603273\n",
      "\n",
      "Performed attacks 3\n",
      "\n",
      "===>Random attack started by:  Worker 51  in Global Round:  3\n",
      "Random attack strating: \n",
      "Performed attacks 4\n",
      "Worker 51 ends training in Global Round:3 |\n",
      "\n",
      "Worker 69 starts training in Global Round:3 |\n"
     ]
    },
    {
     "data": {
      "application/vnd.jupyter.widget-view+json": {
       "model_id": "470462e445734b22976e76174f16f3b4",
       "version_major": 2,
       "version_minor": 0
      },
      "text/plain": [
       "HBox(children=(IntProgress(value=0, max=5), HTML(value='')))"
      ]
     },
     "metadata": {},
     "output_type": "display_data"
    },
    {
     "name": "stdout",
     "output_type": "stream",
     "text": [
      "Train Epoch: 1 [0/500\t(1%)]\tLoss: 1.796194\n",
      "Train Epoch: 1 [400/500\t(81%)]\tLoss: 1.853080\n",
      "Train Epoch: 2 [0/500\t(1%)]\tLoss: 1.680307\n",
      "Train Epoch: 2 [400/500\t(81%)]\tLoss: 1.678719\n",
      "Train Epoch: 3 [0/500\t(1%)]\tLoss: 1.591171\n",
      "Train Epoch: 3 [400/500\t(81%)]\tLoss: 1.786526\n",
      "Train Epoch: 4 [0/500\t(1%)]\tLoss: 1.837955\n",
      "Train Epoch: 4 [400/500\t(81%)]\tLoss: 1.980307\n",
      "Train Epoch: 5 [0/500\t(1%)]\tLoss: 1.417072\n",
      "Train Epoch: 5 [400/500\t(81%)]\tLoss: 1.574939\n",
      "\n",
      "Worker 69 ends training in Global Round:3 |\n",
      "\n",
      "Worker 46 starts training in Global Round:3 |\n"
     ]
    },
    {
     "data": {
      "application/vnd.jupyter.widget-view+json": {
       "model_id": "a7c58b88630e47f7bf66037cb5d2dbe0",
       "version_major": 2,
       "version_minor": 0
      },
      "text/plain": [
       "HBox(children=(IntProgress(value=0, max=5), HTML(value='')))"
      ]
     },
     "metadata": {},
     "output_type": "display_data"
    },
    {
     "name": "stdout",
     "output_type": "stream",
     "text": [
      "Train Epoch: 1 [0/500\t(1%)]\tLoss: 1.667798\n",
      "Train Epoch: 1 [400/500\t(81%)]\tLoss: 2.013943\n",
      "Train Epoch: 2 [0/500\t(1%)]\tLoss: 1.654395\n",
      "Train Epoch: 2 [400/500\t(81%)]\tLoss: 2.039714\n",
      "Train Epoch: 3 [0/500\t(1%)]\tLoss: 1.843028\n",
      "Train Epoch: 3 [400/500\t(81%)]\tLoss: 1.907803\n",
      "Train Epoch: 4 [0/500\t(1%)]\tLoss: 1.659502\n",
      "Train Epoch: 4 [400/500\t(81%)]\tLoss: 1.657252\n",
      "Train Epoch: 5 [0/500\t(1%)]\tLoss: 1.510005\n",
      "Train Epoch: 5 [400/500\t(81%)]\tLoss: 1.726262\n",
      "\n",
      "Worker 46 ends training in Global Round:3 |\n",
      "\n",
      "Worker 72 starts training in Global Round:3 |\n"
     ]
    },
    {
     "data": {
      "application/vnd.jupyter.widget-view+json": {
       "model_id": "89a6248bb757493a8a154d3b6bdf7589",
       "version_major": 2,
       "version_minor": 0
      },
      "text/plain": [
       "HBox(children=(IntProgress(value=0, max=5), HTML(value='')))"
      ]
     },
     "metadata": {},
     "output_type": "display_data"
    },
    {
     "name": "stdout",
     "output_type": "stream",
     "text": [
      "Train Epoch: 1 [0/500\t(1%)]\tLoss: 1.871911\n",
      "Train Epoch: 1 [400/500\t(81%)]\tLoss: 1.937135\n",
      "Train Epoch: 2 [0/500\t(1%)]\tLoss: 1.620217\n",
      "Train Epoch: 2 [400/500\t(81%)]\tLoss: 1.639578\n",
      "Train Epoch: 3 [0/500\t(1%)]\tLoss: 1.421818\n",
      "Train Epoch: 3 [400/500\t(81%)]\tLoss: 1.607969\n",
      "Train Epoch: 4 [0/500\t(1%)]\tLoss: 1.669877\n",
      "Train Epoch: 4 [400/500\t(81%)]\tLoss: 1.905060\n",
      "Train Epoch: 5 [0/500\t(1%)]\tLoss: 1.680241\n",
      "Train Epoch: 5 [400/500\t(81%)]\tLoss: 1.819575\n",
      "\n",
      "Worker 72 ends training in Global Round:3 |\n",
      "\n",
      "Worker 37 starts training in Global Round:3 |\n"
     ]
    },
    {
     "data": {
      "application/vnd.jupyter.widget-view+json": {
       "model_id": "c5c96dd7a70943789a6a06798767a365",
       "version_major": 2,
       "version_minor": 0
      },
      "text/plain": [
       "HBox(children=(IntProgress(value=0, max=5), HTML(value='')))"
      ]
     },
     "metadata": {},
     "output_type": "display_data"
    },
    {
     "name": "stdout",
     "output_type": "stream",
     "text": [
      "Train Epoch: 1 [0/500\t(1%)]\tLoss: 1.837106\n",
      "Train Epoch: 1 [400/500\t(81%)]\tLoss: 1.867115\n",
      "Train Epoch: 2 [0/500\t(1%)]\tLoss: 1.666428\n",
      "Train Epoch: 2 [400/500\t(81%)]\tLoss: 1.749007\n",
      "Train Epoch: 3 [0/500\t(1%)]\tLoss: 1.735917\n",
      "Train Epoch: 3 [400/500\t(81%)]\tLoss: 1.710458\n",
      "Train Epoch: 4 [0/500\t(1%)]\tLoss: 1.460182\n",
      "Train Epoch: 4 [400/500\t(81%)]\tLoss: 1.673353\n",
      "Train Epoch: 5 [0/500\t(1%)]\tLoss: 1.274350\n",
      "Train Epoch: 5 [400/500\t(81%)]\tLoss: 1.357192\n",
      "\n",
      "Worker 37 ends training in Global Round:3 |\n",
      "\n",
      "Worker 53 starts training in Global Round:3 |\n"
     ]
    },
    {
     "data": {
      "application/vnd.jupyter.widget-view+json": {
       "model_id": "a04b56d2b96b489ca095c832714f1b26",
       "version_major": 2,
       "version_minor": 0
      },
      "text/plain": [
       "HBox(children=(IntProgress(value=0, max=5), HTML(value='')))"
      ]
     },
     "metadata": {},
     "output_type": "display_data"
    },
    {
     "name": "stdout",
     "output_type": "stream",
     "text": [
      "Train Epoch: 1 [0/500\t(1%)]\tLoss: 1.897711\n",
      "Train Epoch: 1 [400/500\t(81%)]\tLoss: 1.865016\n",
      "Train Epoch: 2 [0/500\t(1%)]\tLoss: 1.964342\n",
      "Train Epoch: 2 [400/500\t(81%)]\tLoss: 2.109210\n",
      "Train Epoch: 3 [0/500\t(1%)]\tLoss: 1.730188\n",
      "Train Epoch: 3 [400/500\t(81%)]\tLoss: 1.862613\n",
      "Train Epoch: 4 [0/500\t(1%)]\tLoss: 1.644162\n",
      "Train Epoch: 4 [400/500\t(81%)]\tLoss: 1.858968\n",
      "Train Epoch: 5 [0/500\t(1%)]\tLoss: 1.564239\n",
      "Train Epoch: 5 [400/500\t(81%)]\tLoss: 1.453377\n",
      "\n",
      "Worker 53 ends training in Global Round:3 |\n",
      "\n",
      "Worker 68 starts training in Global Round:3 |\n"
     ]
    },
    {
     "data": {
      "application/vnd.jupyter.widget-view+json": {
       "model_id": "695b9ebfff734c8eb6a29feb3b1fbb73",
       "version_major": 2,
       "version_minor": 0
      },
      "text/plain": [
       "HBox(children=(IntProgress(value=0, max=5), HTML(value='')))"
      ]
     },
     "metadata": {},
     "output_type": "display_data"
    },
    {
     "name": "stdout",
     "output_type": "stream",
     "text": [
      "Train Epoch: 1 [0/500\t(1%)]\tLoss: 1.901242\n",
      "Train Epoch: 1 [400/500\t(81%)]\tLoss: 1.844206\n",
      "Train Epoch: 2 [0/500\t(1%)]\tLoss: 1.738805\n",
      "Train Epoch: 2 [400/500\t(81%)]\tLoss: 1.768594\n",
      "Train Epoch: 3 [0/500\t(1%)]\tLoss: 1.729955\n",
      "Train Epoch: 3 [400/500\t(81%)]\tLoss: 2.057556\n",
      "Train Epoch: 4 [0/500\t(1%)]\tLoss: 1.725722\n",
      "Train Epoch: 4 [400/500\t(81%)]\tLoss: 1.703735\n",
      "Train Epoch: 5 [0/500\t(1%)]\tLoss: 1.725329\n",
      "Train Epoch: 5 [400/500\t(81%)]\tLoss: 1.967245\n",
      "\n",
      "Worker 68 ends training in Global Round:3 |\n",
      "\n",
      "Worker 15 starts training in Global Round:3 |\n"
     ]
    },
    {
     "data": {
      "application/vnd.jupyter.widget-view+json": {
       "model_id": "61e4c5167d3f461a9bf8f991b5174406",
       "version_major": 2,
       "version_minor": 0
      },
      "text/plain": [
       "HBox(children=(IntProgress(value=0, max=5), HTML(value='')))"
      ]
     },
     "metadata": {},
     "output_type": "display_data"
    },
    {
     "name": "stdout",
     "output_type": "stream",
     "text": [
      "Train Epoch: 1 [0/500\t(1%)]\tLoss: 1.907502\n",
      "Train Epoch: 1 [400/500\t(81%)]\tLoss: 1.994596\n",
      "Train Epoch: 2 [0/500\t(1%)]\tLoss: 1.634506\n",
      "Train Epoch: 2 [400/500\t(81%)]\tLoss: 1.753631\n",
      "Train Epoch: 3 [0/500\t(1%)]\tLoss: 1.620581\n",
      "Train Epoch: 3 [400/500\t(81%)]\tLoss: 1.814768\n",
      "Train Epoch: 4 [0/500\t(1%)]\tLoss: 1.719630\n",
      "Train Epoch: 4 [400/500\t(81%)]\tLoss: 1.939137\n",
      "Train Epoch: 5 [0/500\t(1%)]\tLoss: 1.674920\n",
      "Train Epoch: 5 [400/500\t(81%)]\tLoss: 1.802524\n",
      "\n",
      "Worker 15 ends training in Global Round:3 |\n",
      "\n",
      "Average loss: 1.6314, Accuracy: 3885/10000 (39%)\n",
      "\n",
      "\n",
      "Selected workers\n",
      "\n",
      "[ 6 53  4 89  9 11 18 93 69 81  5 98 83 36 64]\n",
      "Worker 6 : is  Random_Attacker\n",
      "Worker 53 : is  Random_Attacker\n",
      "Worker 4 : is  Honest\n",
      "Worker 89 : is  Random_Attacker\n",
      "Worker 9 : is  Honest\n",
      "Worker 11 : is  Honest\n",
      "Worker 18 : is  Random_Attacker\n",
      "Worker 93 : is  Honest\n",
      "Worker 69 : is  Honest\n",
      "Worker 81 : is  Honest\n",
      "Worker 5 : is  Honest\n",
      "Worker 98 : is  Random_Attacker\n",
      "Worker 83 : is  Honest\n",
      "Worker 36 : is  Honest\n",
      "Worker 64 : is  Honest\n",
      "\n",
      " | Global Training Round : 4 |\n",
      "\n",
      "\n",
      "Worker 6 starts training in Global Round:4 |\n"
     ]
    },
    {
     "data": {
      "application/vnd.jupyter.widget-view+json": {
       "model_id": "ca6e56f043d94d60b5c88b87c8e5cf53",
       "version_major": 2,
       "version_minor": 0
      },
      "text/plain": [
       "HBox(children=(IntProgress(value=0, max=5), HTML(value='')))"
      ]
     },
     "metadata": {},
     "output_type": "display_data"
    },
    {
     "name": "stdout",
     "output_type": "stream",
     "text": [
      "Train Epoch: 1 [0/500\t(1%)]\tLoss: 1.564407\n",
      "Train Epoch: 1 [400/500\t(81%)]\tLoss: 1.879429\n",
      "Train Epoch: 2 [0/500\t(1%)]\tLoss: 1.538327\n",
      "Train Epoch: 2 [400/500\t(81%)]\tLoss: 1.763225\n",
      "Train Epoch: 3 [0/500\t(1%)]\tLoss: 1.620599\n",
      "Train Epoch: 3 [400/500\t(81%)]\tLoss: 1.530538\n",
      "Train Epoch: 4 [0/500\t(1%)]\tLoss: 1.511966\n",
      "Train Epoch: 4 [400/500\t(81%)]\tLoss: 1.548319\n",
      "Train Epoch: 5 [0/500\t(1%)]\tLoss: 1.521246\n",
      "Train Epoch: 5 [400/500\t(81%)]\tLoss: 1.821130\n",
      "\n",
      "Performed attacks 0\n",
      "\n",
      "===>Random attack started by:  Worker 6  in Global Round:  4\n",
      "Random attack strating: \n",
      "Performed attacks 1\n",
      "Worker 6 ends training in Global Round:4 |\n",
      "\n",
      "Worker 53 starts training in Global Round:4 |\n"
     ]
    },
    {
     "data": {
      "application/vnd.jupyter.widget-view+json": {
       "model_id": "f08292b4e367477e9538119e05a9f32f",
       "version_major": 2,
       "version_minor": 0
      },
      "text/plain": [
       "HBox(children=(IntProgress(value=0, max=5), HTML(value='')))"
      ]
     },
     "metadata": {},
     "output_type": "display_data"
    },
    {
     "name": "stdout",
     "output_type": "stream",
     "text": [
      "Train Epoch: 1 [0/500\t(1%)]\tLoss: 1.709079\n",
      "Train Epoch: 1 [400/500\t(81%)]\tLoss: 1.748375\n",
      "Train Epoch: 2 [0/500\t(1%)]\tLoss: 1.709590\n",
      "Train Epoch: 2 [400/500\t(81%)]\tLoss: 1.818816\n",
      "Train Epoch: 3 [0/500\t(1%)]\tLoss: 1.552081\n",
      "Train Epoch: 3 [400/500\t(81%)]\tLoss: 1.744025\n",
      "Train Epoch: 4 [0/500\t(1%)]\tLoss: 1.388634\n",
      "Train Epoch: 4 [400/500\t(81%)]\tLoss: 1.619766\n",
      "Train Epoch: 5 [0/500\t(1%)]\tLoss: 1.284783\n",
      "Train Epoch: 5 [400/500\t(81%)]\tLoss: 1.519950\n",
      "\n",
      "Performed attacks 1\n",
      "\n",
      "===>Random attack started by:  Worker 53  in Global Round:  4\n",
      "Random attack strating: \n",
      "Performed attacks 2\n",
      "Worker 53 ends training in Global Round:4 |\n",
      "\n",
      "Worker 4 starts training in Global Round:4 |\n"
     ]
    },
    {
     "data": {
      "application/vnd.jupyter.widget-view+json": {
       "model_id": "3e7b227637d74e4b889173b6f9d81748",
       "version_major": 2,
       "version_minor": 0
      },
      "text/plain": [
       "HBox(children=(IntProgress(value=0, max=5), HTML(value='')))"
      ]
     },
     "metadata": {},
     "output_type": "display_data"
    },
    {
     "name": "stdout",
     "output_type": "stream",
     "text": [
      "Train Epoch: 1 [0/500\t(1%)]\tLoss: 1.545715\n",
      "Train Epoch: 1 [400/500\t(81%)]\tLoss: 1.866855\n",
      "Train Epoch: 2 [0/500\t(1%)]\tLoss: 1.651307\n",
      "Train Epoch: 2 [400/500\t(81%)]\tLoss: 1.916006\n",
      "Train Epoch: 3 [0/500\t(1%)]\tLoss: 1.343497\n",
      "Train Epoch: 3 [400/500\t(81%)]\tLoss: 1.637558\n",
      "Train Epoch: 4 [0/500\t(1%)]\tLoss: 1.400727\n",
      "Train Epoch: 4 [400/500\t(81%)]\tLoss: 1.585276\n",
      "Train Epoch: 5 [0/500\t(1%)]\tLoss: 1.267792\n",
      "Train Epoch: 5 [400/500\t(81%)]\tLoss: 1.424365\n",
      "\n",
      "Worker 4 ends training in Global Round:4 |\n",
      "\n",
      "Worker 89 starts training in Global Round:4 |\n"
     ]
    },
    {
     "data": {
      "application/vnd.jupyter.widget-view+json": {
       "model_id": "b39199d2b07a470fa29cf5e0efca09a2",
       "version_major": 2,
       "version_minor": 0
      },
      "text/plain": [
       "HBox(children=(IntProgress(value=0, max=5), HTML(value='')))"
      ]
     },
     "metadata": {},
     "output_type": "display_data"
    },
    {
     "name": "stdout",
     "output_type": "stream",
     "text": [
      "Train Epoch: 1 [0/500\t(1%)]\tLoss: 1.668685\n",
      "Train Epoch: 1 [400/500\t(81%)]\tLoss: 1.768605\n",
      "Train Epoch: 2 [0/500\t(1%)]\tLoss: 1.529553\n",
      "Train Epoch: 2 [400/500\t(81%)]\tLoss: 1.821895\n",
      "Train Epoch: 3 [0/500\t(1%)]\tLoss: 1.524510\n",
      "Train Epoch: 3 [400/500\t(81%)]\tLoss: 1.485965\n",
      "Train Epoch: 4 [0/500\t(1%)]\tLoss: 1.407470\n",
      "Train Epoch: 4 [400/500\t(81%)]\tLoss: 1.558147\n",
      "Train Epoch: 5 [0/500\t(1%)]\tLoss: 1.299944\n",
      "Train Epoch: 5 [400/500\t(81%)]\tLoss: 1.373989\n",
      "\n",
      "Performed attacks 2\n",
      "\n",
      "===>Random attack started by:  Worker 89  in Global Round:  4\n",
      "Random attack strating: \n",
      "Performed attacks 3\n",
      "Worker 89 ends training in Global Round:4 |\n",
      "\n",
      "Worker 9 starts training in Global Round:4 |\n"
     ]
    },
    {
     "data": {
      "application/vnd.jupyter.widget-view+json": {
       "model_id": "cc28603b9e69429cae8acb4170b4825b",
       "version_major": 2,
       "version_minor": 0
      },
      "text/plain": [
       "HBox(children=(IntProgress(value=0, max=5), HTML(value='')))"
      ]
     },
     "metadata": {},
     "output_type": "display_data"
    },
    {
     "name": "stdout",
     "output_type": "stream",
     "text": [
      "Train Epoch: 1 [0/500\t(1%)]\tLoss: 1.564219\n",
      "Train Epoch: 1 [400/500\t(81%)]\tLoss: 1.521232\n",
      "Train Epoch: 2 [0/500\t(1%)]\tLoss: 1.531541\n",
      "Train Epoch: 2 [400/500\t(81%)]\tLoss: 1.911292\n",
      "Train Epoch: 3 [0/500\t(1%)]\tLoss: 1.556612\n",
      "Train Epoch: 3 [400/500\t(81%)]\tLoss: 1.499770\n",
      "Train Epoch: 4 [0/500\t(1%)]\tLoss: 1.346375\n",
      "Train Epoch: 4 [400/500\t(81%)]\tLoss: 1.786113\n",
      "Train Epoch: 5 [0/500\t(1%)]\tLoss: 1.283392\n",
      "Train Epoch: 5 [400/500\t(81%)]\tLoss: 1.589911\n",
      "\n",
      "Worker 9 ends training in Global Round:4 |\n",
      "\n",
      "Worker 11 starts training in Global Round:4 |\n"
     ]
    },
    {
     "data": {
      "application/vnd.jupyter.widget-view+json": {
       "model_id": "ab6d99b36e86452aa506a635b25b52fd",
       "version_major": 2,
       "version_minor": 0
      },
      "text/plain": [
       "HBox(children=(IntProgress(value=0, max=5), HTML(value='')))"
      ]
     },
     "metadata": {},
     "output_type": "display_data"
    },
    {
     "name": "stdout",
     "output_type": "stream",
     "text": [
      "Train Epoch: 1 [0/500\t(1%)]\tLoss: 1.541295\n",
      "Train Epoch: 1 [400/500\t(81%)]\tLoss: 1.811166\n",
      "Train Epoch: 2 [0/500\t(1%)]\tLoss: 1.376757\n",
      "Train Epoch: 2 [400/500\t(81%)]\tLoss: 1.764952\n",
      "Train Epoch: 3 [0/500\t(1%)]\tLoss: 1.576225\n",
      "Train Epoch: 3 [400/500\t(81%)]\tLoss: 1.303783\n",
      "Train Epoch: 4 [0/500\t(1%)]\tLoss: 1.603284\n",
      "Train Epoch: 4 [400/500\t(81%)]\tLoss: 1.433443\n",
      "Train Epoch: 5 [0/500\t(1%)]\tLoss: 1.407346\n",
      "Train Epoch: 5 [400/500\t(81%)]\tLoss: 1.619188\n",
      "\n",
      "Worker 11 ends training in Global Round:4 |\n",
      "\n",
      "Worker 18 starts training in Global Round:4 |\n"
     ]
    },
    {
     "data": {
      "application/vnd.jupyter.widget-view+json": {
       "model_id": "fcb4b1477ebe4178afbf1e6f45ff8c43",
       "version_major": 2,
       "version_minor": 0
      },
      "text/plain": [
       "HBox(children=(IntProgress(value=0, max=5), HTML(value='')))"
      ]
     },
     "metadata": {},
     "output_type": "display_data"
    },
    {
     "name": "stdout",
     "output_type": "stream",
     "text": [
      "Train Epoch: 1 [0/500\t(1%)]\tLoss: 1.746174\n",
      "Train Epoch: 1 [400/500\t(81%)]\tLoss: 1.677968\n",
      "Train Epoch: 2 [0/500\t(1%)]\tLoss: 1.588109\n",
      "Train Epoch: 2 [400/500\t(81%)]\tLoss: 1.653292\n",
      "Train Epoch: 3 [0/500\t(1%)]\tLoss: 1.860477\n",
      "Train Epoch: 3 [400/500\t(81%)]\tLoss: 2.100626\n",
      "Train Epoch: 4 [0/500\t(1%)]\tLoss: 1.754812\n",
      "Train Epoch: 4 [400/500\t(81%)]\tLoss: 2.105597\n",
      "Train Epoch: 5 [0/500\t(1%)]\tLoss: 1.458229\n",
      "Train Epoch: 5 [400/500\t(81%)]\tLoss: 1.802369\n",
      "\n",
      "Performed attacks 3\n",
      "\n",
      "===>Random attack started by:  Worker 18  in Global Round:  4\n",
      "Random attack strating: \n",
      "Performed attacks 4\n",
      "Worker 18 ends training in Global Round:4 |\n",
      "\n",
      "Worker 93 starts training in Global Round:4 |\n"
     ]
    },
    {
     "data": {
      "application/vnd.jupyter.widget-view+json": {
       "model_id": "17e99bd400ed469aa0654133e3dd4247",
       "version_major": 2,
       "version_minor": 0
      },
      "text/plain": [
       "HBox(children=(IntProgress(value=0, max=5), HTML(value='')))"
      ]
     },
     "metadata": {},
     "output_type": "display_data"
    },
    {
     "name": "stdout",
     "output_type": "stream",
     "text": [
      "Train Epoch: 1 [0/500\t(1%)]\tLoss: 1.518085\n",
      "Train Epoch: 1 [400/500\t(81%)]\tLoss: 1.655393\n",
      "Train Epoch: 2 [0/500\t(1%)]\tLoss: 1.455192\n",
      "Train Epoch: 2 [400/500\t(81%)]\tLoss: 1.815299\n",
      "Train Epoch: 3 [0/500\t(1%)]\tLoss: 1.554726\n",
      "Train Epoch: 3 [400/500\t(81%)]\tLoss: 1.488631\n",
      "Train Epoch: 4 [0/500\t(1%)]\tLoss: 1.235827\n",
      "Train Epoch: 4 [400/500\t(81%)]\tLoss: 1.354790\n",
      "Train Epoch: 5 [0/500\t(1%)]\tLoss: 1.424273\n",
      "Train Epoch: 5 [400/500\t(81%)]\tLoss: 1.462506\n",
      "\n",
      "Worker 93 ends training in Global Round:4 |\n",
      "\n",
      "Worker 69 starts training in Global Round:4 |\n"
     ]
    },
    {
     "data": {
      "application/vnd.jupyter.widget-view+json": {
       "model_id": "56b821826a374738a1fa57ef16d2ce63",
       "version_major": 2,
       "version_minor": 0
      },
      "text/plain": [
       "HBox(children=(IntProgress(value=0, max=5), HTML(value='')))"
      ]
     },
     "metadata": {},
     "output_type": "display_data"
    },
    {
     "name": "stdout",
     "output_type": "stream",
     "text": [
      "Train Epoch: 1 [0/500\t(1%)]\tLoss: 1.688258\n",
      "Train Epoch: 1 [400/500\t(81%)]\tLoss: 1.710715\n",
      "Train Epoch: 2 [0/500\t(1%)]\tLoss: 1.542146\n",
      "Train Epoch: 2 [400/500\t(81%)]\tLoss: 1.589149\n",
      "Train Epoch: 3 [0/500\t(1%)]\tLoss: 1.567101\n",
      "Train Epoch: 3 [400/500\t(81%)]\tLoss: 1.736012\n",
      "Train Epoch: 4 [0/500\t(1%)]\tLoss: 1.331287\n",
      "Train Epoch: 4 [400/500\t(81%)]\tLoss: 1.658439\n",
      "Train Epoch: 5 [0/500\t(1%)]\tLoss: 1.217699\n",
      "Train Epoch: 5 [400/500\t(81%)]\tLoss: 1.604762\n",
      "\n",
      "Worker 69 ends training in Global Round:4 |\n",
      "\n",
      "Worker 81 starts training in Global Round:4 |\n"
     ]
    },
    {
     "data": {
      "application/vnd.jupyter.widget-view+json": {
       "model_id": "ebe935bb885e4c6291b98258487582ad",
       "version_major": 2,
       "version_minor": 0
      },
      "text/plain": [
       "HBox(children=(IntProgress(value=0, max=5), HTML(value='')))"
      ]
     },
     "metadata": {},
     "output_type": "display_data"
    },
    {
     "name": "stdout",
     "output_type": "stream",
     "text": [
      "Train Epoch: 1 [0/500\t(1%)]\tLoss: 1.486296\n",
      "Train Epoch: 1 [400/500\t(81%)]\tLoss: 1.689376\n",
      "Train Epoch: 2 [0/500\t(1%)]\tLoss: 1.444141\n",
      "Train Epoch: 2 [400/500\t(81%)]\tLoss: 1.679134\n",
      "Train Epoch: 3 [0/500\t(1%)]\tLoss: 1.426935\n",
      "Train Epoch: 3 [400/500\t(81%)]\tLoss: 1.544901\n",
      "Train Epoch: 4 [0/500\t(1%)]\tLoss: 1.421927\n",
      "Train Epoch: 4 [400/500\t(81%)]\tLoss: 1.386644\n",
      "Train Epoch: 5 [0/500\t(1%)]\tLoss: 1.392133\n",
      "Train Epoch: 5 [400/500\t(81%)]\tLoss: 1.537278\n",
      "\n",
      "Worker 81 ends training in Global Round:4 |\n",
      "\n",
      "Worker 5 starts training in Global Round:4 |\n"
     ]
    },
    {
     "data": {
      "application/vnd.jupyter.widget-view+json": {
       "model_id": "1fc1033b599c4136981080b10b1c35b9",
       "version_major": 2,
       "version_minor": 0
      },
      "text/plain": [
       "HBox(children=(IntProgress(value=0, max=5), HTML(value='')))"
      ]
     },
     "metadata": {},
     "output_type": "display_data"
    },
    {
     "name": "stdout",
     "output_type": "stream",
     "text": [
      "Train Epoch: 1 [0/500\t(1%)]\tLoss: 1.591420\n",
      "Train Epoch: 1 [400/500\t(81%)]\tLoss: 1.722348\n",
      "Train Epoch: 2 [0/500\t(1%)]\tLoss: 1.360405\n",
      "Train Epoch: 2 [400/500\t(81%)]\tLoss: 1.625850\n",
      "Train Epoch: 3 [0/500\t(1%)]\tLoss: 1.419587\n",
      "Train Epoch: 3 [400/500\t(81%)]\tLoss: 1.584249\n",
      "Train Epoch: 4 [0/500\t(1%)]\tLoss: 1.426748\n",
      "Train Epoch: 4 [400/500\t(81%)]\tLoss: 1.634234\n",
      "Train Epoch: 5 [0/500\t(1%)]\tLoss: 1.453806\n",
      "Train Epoch: 5 [400/500\t(81%)]\tLoss: 1.387329\n",
      "\n",
      "Worker 5 ends training in Global Round:4 |\n",
      "\n",
      "Worker 98 starts training in Global Round:4 |\n"
     ]
    },
    {
     "data": {
      "application/vnd.jupyter.widget-view+json": {
       "model_id": "dbd5528b53574c0caf87ae1f17952c1d",
       "version_major": 2,
       "version_minor": 0
      },
      "text/plain": [
       "HBox(children=(IntProgress(value=0, max=5), HTML(value='')))"
      ]
     },
     "metadata": {},
     "output_type": "display_data"
    },
    {
     "name": "stdout",
     "output_type": "stream",
     "text": [
      "Train Epoch: 1 [0/500\t(1%)]\tLoss: 1.571500\n",
      "Train Epoch: 1 [400/500\t(81%)]\tLoss: 1.594005\n",
      "Train Epoch: 2 [0/500\t(1%)]\tLoss: 1.649693\n",
      "Train Epoch: 2 [400/500\t(81%)]\tLoss: 1.539284\n",
      "Train Epoch: 3 [0/500\t(1%)]\tLoss: 1.413374\n",
      "Train Epoch: 3 [400/500\t(81%)]\tLoss: 1.775215\n",
      "Train Epoch: 4 [0/500\t(1%)]\tLoss: 1.341477\n",
      "Train Epoch: 4 [400/500\t(81%)]\tLoss: 1.524682\n",
      "Train Epoch: 5 [0/500\t(1%)]\tLoss: 1.451612\n",
      "Train Epoch: 5 [400/500\t(81%)]\tLoss: 1.603646\n",
      "\n",
      "Worker 98 ends training in Global Round:4 |\n",
      "\n",
      "Worker 83 starts training in Global Round:4 |\n"
     ]
    },
    {
     "data": {
      "application/vnd.jupyter.widget-view+json": {
       "model_id": "e3b8a5c966494e38801efa6434dfc375",
       "version_major": 2,
       "version_minor": 0
      },
      "text/plain": [
       "HBox(children=(IntProgress(value=0, max=5), HTML(value='')))"
      ]
     },
     "metadata": {},
     "output_type": "display_data"
    },
    {
     "name": "stdout",
     "output_type": "stream",
     "text": [
      "Train Epoch: 1 [0/500\t(1%)]\tLoss: 1.587188\n",
      "Train Epoch: 1 [400/500\t(81%)]\tLoss: 1.660732\n",
      "Train Epoch: 2 [0/500\t(1%)]\tLoss: 1.787375\n",
      "Train Epoch: 2 [400/500\t(81%)]\tLoss: 1.620595\n",
      "Train Epoch: 3 [0/500\t(1%)]\tLoss: 1.305088\n",
      "Train Epoch: 3 [400/500\t(81%)]\tLoss: 1.774062\n",
      "Train Epoch: 4 [0/500\t(1%)]\tLoss: 1.288177\n",
      "Train Epoch: 4 [400/500\t(81%)]\tLoss: 1.585766\n",
      "Train Epoch: 5 [0/500\t(1%)]\tLoss: 1.610294\n",
      "Train Epoch: 5 [400/500\t(81%)]\tLoss: 1.614218\n",
      "\n",
      "Worker 83 ends training in Global Round:4 |\n",
      "\n",
      "Worker 36 starts training in Global Round:4 |\n"
     ]
    },
    {
     "data": {
      "application/vnd.jupyter.widget-view+json": {
       "model_id": "fba2dcc73aae4cfa8ff0b845925c48ed",
       "version_major": 2,
       "version_minor": 0
      },
      "text/plain": [
       "HBox(children=(IntProgress(value=0, max=5), HTML(value='')))"
      ]
     },
     "metadata": {},
     "output_type": "display_data"
    },
    {
     "name": "stdout",
     "output_type": "stream",
     "text": [
      "Train Epoch: 1 [0/500\t(1%)]\tLoss: 1.477741\n",
      "Train Epoch: 1 [400/500\t(81%)]\tLoss: 1.937879\n",
      "Train Epoch: 2 [0/500\t(1%)]\tLoss: 1.390155\n",
      "Train Epoch: 2 [400/500\t(81%)]\tLoss: 1.661436\n",
      "Train Epoch: 3 [0/500\t(1%)]\tLoss: 1.439172\n",
      "Train Epoch: 3 [400/500\t(81%)]\tLoss: 1.758852\n",
      "Train Epoch: 4 [0/500\t(1%)]\tLoss: 1.396484\n",
      "Train Epoch: 4 [400/500\t(81%)]\tLoss: 1.727218\n",
      "Train Epoch: 5 [0/500\t(1%)]\tLoss: 1.600309\n",
      "Train Epoch: 5 [400/500\t(81%)]\tLoss: 1.463582\n",
      "\n",
      "Worker 36 ends training in Global Round:4 |\n",
      "\n",
      "Worker 64 starts training in Global Round:4 |\n"
     ]
    },
    {
     "data": {
      "application/vnd.jupyter.widget-view+json": {
       "model_id": "fa2df56e91424bc980af189e3a884f34",
       "version_major": 2,
       "version_minor": 0
      },
      "text/plain": [
       "HBox(children=(IntProgress(value=0, max=5), HTML(value='')))"
      ]
     },
     "metadata": {},
     "output_type": "display_data"
    },
    {
     "name": "stdout",
     "output_type": "stream",
     "text": [
      "Train Epoch: 1 [0/500\t(1%)]\tLoss: 1.790220\n",
      "Train Epoch: 1 [400/500\t(81%)]\tLoss: 1.610831\n",
      "Train Epoch: 2 [0/500\t(1%)]\tLoss: 1.490976\n",
      "Train Epoch: 2 [400/500\t(81%)]\tLoss: 1.494830\n",
      "Train Epoch: 3 [0/500\t(1%)]\tLoss: 1.562207\n",
      "Train Epoch: 3 [400/500\t(81%)]\tLoss: 1.633150\n",
      "Train Epoch: 4 [0/500\t(1%)]\tLoss: 1.461666\n",
      "Train Epoch: 4 [400/500\t(81%)]\tLoss: 1.486843\n",
      "Train Epoch: 5 [0/500\t(1%)]\tLoss: 1.379169\n",
      "Train Epoch: 5 [400/500\t(81%)]\tLoss: 1.514902\n",
      "\n",
      "Worker 64 ends training in Global Round:4 |\n",
      "\n",
      "Average loss: 1.5702, Accuracy: 4178/10000 (42%)\n",
      "\n",
      "\n",
      "Selected workers\n",
      "\n",
      "[ 1 13 73 92 74 11 68 53 70 32 82 18 14 36 12]\n",
      "Worker 1 : is  Honest\n",
      "Worker 13 : is  Random_Attacker\n",
      "Worker 73 : is  Honest\n",
      "Worker 92 : is  Random_Attacker\n",
      "Worker 74 : is  Honest\n",
      "Worker 11 : is  Honest\n",
      "Worker 68 : is  Honest\n",
      "Worker 53 : is  Random_Attacker\n",
      "Worker 70 : is  Honest\n",
      "Worker 32 : is  Honest\n",
      "Worker 82 : is  Honest\n",
      "Worker 18 : is  Random_Attacker\n",
      "Worker 14 : is  Random_Attacker\n",
      "Worker 36 : is  Honest\n",
      "Worker 12 : is  Random_Attacker\n",
      "\n",
      " | Global Training Round : 5 |\n",
      "\n",
      "\n",
      "Worker 1 starts training in Global Round:5 |\n"
     ]
    },
    {
     "data": {
      "application/vnd.jupyter.widget-view+json": {
       "model_id": "3c572c334db84353829590fd65d0e507",
       "version_major": 2,
       "version_minor": 0
      },
      "text/plain": [
       "HBox(children=(IntProgress(value=0, max=5), HTML(value='')))"
      ]
     },
     "metadata": {},
     "output_type": "display_data"
    },
    {
     "name": "stdout",
     "output_type": "stream",
     "text": [
      "Train Epoch: 1 [0/500\t(1%)]\tLoss: 1.633258\n",
      "Train Epoch: 1 [400/500\t(81%)]\tLoss: 1.639793\n",
      "Train Epoch: 2 [0/500\t(1%)]\tLoss: 1.527118\n",
      "Train Epoch: 2 [400/500\t(81%)]\tLoss: 1.859826\n",
      "Train Epoch: 3 [0/500\t(1%)]\tLoss: 1.442184\n",
      "Train Epoch: 3 [400/500\t(81%)]\tLoss: 1.491806\n",
      "Train Epoch: 4 [0/500\t(1%)]\tLoss: 1.431066\n",
      "Train Epoch: 4 [400/500\t(81%)]\tLoss: 1.399576\n",
      "Train Epoch: 5 [0/500\t(1%)]\tLoss: 1.233509\n",
      "Train Epoch: 5 [400/500\t(81%)]\tLoss: 1.471796\n",
      "\n",
      "Worker 1 ends training in Global Round:5 |\n",
      "\n",
      "Worker 13 starts training in Global Round:5 |\n"
     ]
    },
    {
     "data": {
      "application/vnd.jupyter.widget-view+json": {
       "model_id": "0c992c1a3319439099f58ea05d86b16d",
       "version_major": 2,
       "version_minor": 0
      },
      "text/plain": [
       "HBox(children=(IntProgress(value=0, max=5), HTML(value='')))"
      ]
     },
     "metadata": {},
     "output_type": "display_data"
    },
    {
     "name": "stdout",
     "output_type": "stream",
     "text": [
      "Train Epoch: 1 [0/500\t(1%)]\tLoss: 1.600432\n",
      "Train Epoch: 1 [400/500\t(81%)]\tLoss: 1.748026\n",
      "Train Epoch: 2 [0/500\t(1%)]\tLoss: 1.336566\n",
      "Train Epoch: 2 [400/500\t(81%)]\tLoss: 1.397817\n",
      "Train Epoch: 3 [0/500\t(1%)]\tLoss: 1.391713\n",
      "Train Epoch: 3 [400/500\t(81%)]\tLoss: 1.644633\n",
      "Train Epoch: 4 [0/500\t(1%)]\tLoss: 1.246087\n",
      "Train Epoch: 4 [400/500\t(81%)]\tLoss: 1.535241\n",
      "Train Epoch: 5 [0/500\t(1%)]\tLoss: 1.292639\n",
      "Train Epoch: 5 [400/500\t(81%)]\tLoss: 1.553257\n",
      "\n",
      "Performed attacks 0\n",
      "\n",
      "===>Random attack started by:  Worker 13  in Global Round:  5\n",
      "Random attack strating: \n",
      "Performed attacks 1\n",
      "Worker 13 ends training in Global Round:5 |\n",
      "\n",
      "Worker 73 starts training in Global Round:5 |\n"
     ]
    },
    {
     "data": {
      "application/vnd.jupyter.widget-view+json": {
       "model_id": "8dc4b83e083f4a1b8b9d93755dfe4144",
       "version_major": 2,
       "version_minor": 0
      },
      "text/plain": [
       "HBox(children=(IntProgress(value=0, max=5), HTML(value='')))"
      ]
     },
     "metadata": {},
     "output_type": "display_data"
    },
    {
     "name": "stdout",
     "output_type": "stream",
     "text": [
      "Train Epoch: 1 [0/500\t(1%)]\tLoss: 1.545492\n",
      "Train Epoch: 1 [400/500\t(81%)]\tLoss: 1.589322\n",
      "Train Epoch: 2 [0/500\t(1%)]\tLoss: 1.297972\n",
      "Train Epoch: 2 [400/500\t(81%)]\tLoss: 1.322559\n",
      "Train Epoch: 3 [0/500\t(1%)]\tLoss: 1.328046\n",
      "Train Epoch: 3 [400/500\t(81%)]\tLoss: 1.437511\n",
      "Train Epoch: 4 [0/500\t(1%)]\tLoss: 1.174705\n",
      "Train Epoch: 4 [400/500\t(81%)]\tLoss: 1.270215\n",
      "Train Epoch: 5 [0/500\t(1%)]\tLoss: 1.389550\n",
      "Train Epoch: 5 [400/500\t(81%)]\tLoss: 1.207536\n",
      "\n",
      "Worker 73 ends training in Global Round:5 |\n",
      "\n",
      "Worker 92 starts training in Global Round:5 |\n"
     ]
    },
    {
     "data": {
      "application/vnd.jupyter.widget-view+json": {
       "model_id": "2cce0b1ab4304b7cb0c566c00cfd0cfb",
       "version_major": 2,
       "version_minor": 0
      },
      "text/plain": [
       "HBox(children=(IntProgress(value=0, max=5), HTML(value='')))"
      ]
     },
     "metadata": {},
     "output_type": "display_data"
    },
    {
     "name": "stdout",
     "output_type": "stream",
     "text": [
      "Train Epoch: 1 [0/500\t(1%)]\tLoss: 1.456412\n",
      "Train Epoch: 1 [400/500\t(81%)]\tLoss: 1.759242\n",
      "Train Epoch: 2 [0/500\t(1%)]\tLoss: 1.456448\n",
      "Train Epoch: 2 [400/500\t(81%)]\tLoss: 1.659088\n",
      "Train Epoch: 3 [0/500\t(1%)]\tLoss: 1.240375\n",
      "Train Epoch: 3 [400/500\t(81%)]\tLoss: 1.476121\n",
      "Train Epoch: 4 [0/500\t(1%)]\tLoss: 1.370376\n",
      "Train Epoch: 4 [400/500\t(81%)]\tLoss: 1.563210\n",
      "Train Epoch: 5 [0/500\t(1%)]\tLoss: 1.587362\n",
      "Train Epoch: 5 [400/500\t(81%)]\tLoss: 1.292125\n",
      "\n",
      "Performed attacks 1\n",
      "\n",
      "===>Random attack started by:  Worker 92  in Global Round:  5\n",
      "Random attack strating: \n",
      "Performed attacks 2\n",
      "Worker 92 ends training in Global Round:5 |\n",
      "\n",
      "Worker 74 starts training in Global Round:5 |\n"
     ]
    },
    {
     "data": {
      "application/vnd.jupyter.widget-view+json": {
       "model_id": "344b9d64686040599fe1868c563706d1",
       "version_major": 2,
       "version_minor": 0
      },
      "text/plain": [
       "HBox(children=(IntProgress(value=0, max=5), HTML(value='')))"
      ]
     },
     "metadata": {},
     "output_type": "display_data"
    },
    {
     "name": "stdout",
     "output_type": "stream",
     "text": [
      "Train Epoch: 1 [0/500\t(1%)]\tLoss: 1.499763\n",
      "Train Epoch: 1 [400/500\t(81%)]\tLoss: 1.755078\n",
      "Train Epoch: 2 [0/500\t(1%)]\tLoss: 1.475053\n",
      "Train Epoch: 2 [400/500\t(81%)]\tLoss: 1.708629\n",
      "Train Epoch: 3 [0/500\t(1%)]\tLoss: 1.380967\n",
      "Train Epoch: 3 [400/500\t(81%)]\tLoss: 1.527365\n",
      "Train Epoch: 4 [0/500\t(1%)]\tLoss: 1.566698\n",
      "Train Epoch: 4 [400/500\t(81%)]\tLoss: 1.872032\n",
      "Train Epoch: 5 [0/500\t(1%)]\tLoss: 1.401989\n",
      "Train Epoch: 5 [400/500\t(81%)]\tLoss: 1.640818\n",
      "\n",
      "Worker 74 ends training in Global Round:5 |\n",
      "\n",
      "Worker 11 starts training in Global Round:5 |\n"
     ]
    },
    {
     "data": {
      "application/vnd.jupyter.widget-view+json": {
       "model_id": "f73a6ce301d244679aebff4dbfd001e0",
       "version_major": 2,
       "version_minor": 0
      },
      "text/plain": [
       "HBox(children=(IntProgress(value=0, max=5), HTML(value='')))"
      ]
     },
     "metadata": {},
     "output_type": "display_data"
    },
    {
     "name": "stdout",
     "output_type": "stream",
     "text": [
      "Train Epoch: 1 [0/500\t(1%)]\tLoss: 1.600846\n",
      "Train Epoch: 1 [400/500\t(81%)]\tLoss: 1.668782\n",
      "Train Epoch: 2 [0/500\t(1%)]\tLoss: 1.424678\n",
      "Train Epoch: 2 [400/500\t(81%)]\tLoss: 1.515180\n",
      "Train Epoch: 3 [0/500\t(1%)]\tLoss: 1.245844\n",
      "Train Epoch: 3 [400/500\t(81%)]\tLoss: 1.480227\n",
      "Train Epoch: 4 [0/500\t(1%)]\tLoss: 1.376493\n",
      "Train Epoch: 4 [400/500\t(81%)]\tLoss: 1.568843\n",
      "Train Epoch: 5 [0/500\t(1%)]\tLoss: 1.100293\n",
      "Train Epoch: 5 [400/500\t(81%)]\tLoss: 1.222978\n",
      "\n",
      "Worker 11 ends training in Global Round:5 |\n",
      "\n",
      "Worker 68 starts training in Global Round:5 |\n"
     ]
    },
    {
     "data": {
      "application/vnd.jupyter.widget-view+json": {
       "model_id": "6959083d931c4863b1271d93edb1b73f",
       "version_major": 2,
       "version_minor": 0
      },
      "text/plain": [
       "HBox(children=(IntProgress(value=0, max=5), HTML(value='')))"
      ]
     },
     "metadata": {},
     "output_type": "display_data"
    },
    {
     "name": "stdout",
     "output_type": "stream",
     "text": [
      "Train Epoch: 1 [0/500\t(1%)]\tLoss: 1.382849\n",
      "Train Epoch: 1 [400/500\t(81%)]\tLoss: 1.837514\n",
      "Train Epoch: 2 [0/500\t(1%)]\tLoss: 1.529115\n",
      "Train Epoch: 2 [400/500\t(81%)]\tLoss: 1.501416\n",
      "Train Epoch: 3 [0/500\t(1%)]\tLoss: 1.484899\n",
      "Train Epoch: 3 [400/500\t(81%)]\tLoss: 1.548433\n",
      "Train Epoch: 4 [0/500\t(1%)]\tLoss: 1.354854\n",
      "Train Epoch: 4 [400/500\t(81%)]\tLoss: 1.356322\n",
      "Train Epoch: 5 [0/500\t(1%)]\tLoss: 1.316173\n",
      "Train Epoch: 5 [400/500\t(81%)]\tLoss: 1.404523\n",
      "\n",
      "Worker 68 ends training in Global Round:5 |\n",
      "\n",
      "Worker 53 starts training in Global Round:5 |\n"
     ]
    },
    {
     "data": {
      "application/vnd.jupyter.widget-view+json": {
       "model_id": "aa63f84c759f45979142689c4feccbb4",
       "version_major": 2,
       "version_minor": 0
      },
      "text/plain": [
       "HBox(children=(IntProgress(value=0, max=5), HTML(value='')))"
      ]
     },
     "metadata": {},
     "output_type": "display_data"
    },
    {
     "name": "stdout",
     "output_type": "stream",
     "text": [
      "Train Epoch: 1 [0/500\t(1%)]\tLoss: 1.543057\n",
      "Train Epoch: 1 [400/500\t(81%)]\tLoss: 1.683417\n",
      "Train Epoch: 2 [0/500\t(1%)]\tLoss: 1.270821\n",
      "Train Epoch: 2 [400/500\t(81%)]\tLoss: 1.760561\n",
      "Train Epoch: 3 [0/500\t(1%)]\tLoss: 1.372507\n",
      "Train Epoch: 3 [400/500\t(81%)]\tLoss: 1.476395\n",
      "Train Epoch: 4 [0/500\t(1%)]\tLoss: 1.163907\n",
      "Train Epoch: 4 [400/500\t(81%)]\tLoss: 1.378349\n",
      "Train Epoch: 5 [0/500\t(1%)]\tLoss: 1.087556\n",
      "Train Epoch: 5 [400/500\t(81%)]\tLoss: 1.408849\n",
      "\n",
      "Performed attacks 2\n",
      "\n",
      "===>Random attack started by:  Worker 53  in Global Round:  5\n",
      "Random attack strating: \n",
      "Performed attacks 3\n",
      "Worker 53 ends training in Global Round:5 |\n",
      "\n",
      "Worker 70 starts training in Global Round:5 |\n"
     ]
    },
    {
     "data": {
      "application/vnd.jupyter.widget-view+json": {
       "model_id": "ff304699860c48e5be257c945937aa04",
       "version_major": 2,
       "version_minor": 0
      },
      "text/plain": [
       "HBox(children=(IntProgress(value=0, max=5), HTML(value='')))"
      ]
     },
     "metadata": {},
     "output_type": "display_data"
    },
    {
     "name": "stdout",
     "output_type": "stream",
     "text": [
      "Train Epoch: 1 [0/500\t(1%)]\tLoss: 1.538724\n",
      "Train Epoch: 1 [400/500\t(81%)]\tLoss: 1.679216\n",
      "Train Epoch: 2 [0/500\t(1%)]\tLoss: 1.401604\n",
      "Train Epoch: 2 [400/500\t(81%)]\tLoss: 1.523050\n",
      "Train Epoch: 3 [0/500\t(1%)]\tLoss: 1.361091\n",
      "Train Epoch: 3 [400/500\t(81%)]\tLoss: 1.370619\n",
      "Train Epoch: 4 [0/500\t(1%)]\tLoss: 1.511933\n",
      "Train Epoch: 4 [400/500\t(81%)]\tLoss: 1.487619\n",
      "Train Epoch: 5 [0/500\t(1%)]\tLoss: 1.154287\n",
      "Train Epoch: 5 [400/500\t(81%)]\tLoss: 1.153905\n",
      "\n",
      "Worker 70 ends training in Global Round:5 |\n",
      "\n",
      "Worker 32 starts training in Global Round:5 |\n"
     ]
    },
    {
     "data": {
      "application/vnd.jupyter.widget-view+json": {
       "model_id": "d0dfaf6897a94b27a439ff7a38465824",
       "version_major": 2,
       "version_minor": 0
      },
      "text/plain": [
       "HBox(children=(IntProgress(value=0, max=5), HTML(value='')))"
      ]
     },
     "metadata": {},
     "output_type": "display_data"
    },
    {
     "name": "stdout",
     "output_type": "stream",
     "text": [
      "Train Epoch: 1 [0/500\t(1%)]\tLoss: 1.583976\n",
      "Train Epoch: 1 [400/500\t(81%)]\tLoss: 1.841421\n",
      "Train Epoch: 2 [0/500\t(1%)]\tLoss: 1.388085\n",
      "Train Epoch: 2 [400/500\t(81%)]\tLoss: 1.730962\n",
      "Train Epoch: 3 [0/500\t(1%)]\tLoss: 1.405943\n",
      "Train Epoch: 3 [400/500\t(81%)]\tLoss: 1.416548\n",
      "Train Epoch: 4 [0/500\t(1%)]\tLoss: 1.568916\n",
      "Train Epoch: 4 [400/500\t(81%)]\tLoss: 1.483914\n",
      "Train Epoch: 5 [0/500\t(1%)]\tLoss: 1.190527\n",
      "Train Epoch: 5 [400/500\t(81%)]\tLoss: 1.350270\n",
      "\n",
      "Worker 32 ends training in Global Round:5 |\n",
      "\n",
      "Worker 82 starts training in Global Round:5 |\n"
     ]
    },
    {
     "data": {
      "application/vnd.jupyter.widget-view+json": {
       "model_id": "ab0390d745cb48bcbb80dfa827170a20",
       "version_major": 2,
       "version_minor": 0
      },
      "text/plain": [
       "HBox(children=(IntProgress(value=0, max=5), HTML(value='')))"
      ]
     },
     "metadata": {},
     "output_type": "display_data"
    },
    {
     "name": "stdout",
     "output_type": "stream",
     "text": [
      "Train Epoch: 1 [0/500\t(1%)]\tLoss: 1.520644\n",
      "Train Epoch: 1 [400/500\t(81%)]\tLoss: 1.678833\n",
      "Train Epoch: 2 [0/500\t(1%)]\tLoss: 1.455186\n",
      "Train Epoch: 2 [400/500\t(81%)]\tLoss: 1.850899\n",
      "Train Epoch: 3 [0/500\t(1%)]\tLoss: 1.286881\n",
      "Train Epoch: 3 [400/500\t(81%)]\tLoss: 1.423718\n",
      "Train Epoch: 4 [0/500\t(1%)]\tLoss: 1.479299\n",
      "Train Epoch: 4 [400/500\t(81%)]\tLoss: 1.479429\n",
      "Train Epoch: 5 [0/500\t(1%)]\tLoss: 1.180398\n",
      "Train Epoch: 5 [400/500\t(81%)]\tLoss: 1.228687\n",
      "\n",
      "Worker 82 ends training in Global Round:5 |\n",
      "\n",
      "Worker 18 starts training in Global Round:5 |\n"
     ]
    },
    {
     "data": {
      "application/vnd.jupyter.widget-view+json": {
       "model_id": "2ff4b86efa104724b783deed64110c02",
       "version_major": 2,
       "version_minor": 0
      },
      "text/plain": [
       "HBox(children=(IntProgress(value=0, max=5), HTML(value='')))"
      ]
     },
     "metadata": {},
     "output_type": "display_data"
    },
    {
     "name": "stdout",
     "output_type": "stream",
     "text": [
      "Train Epoch: 1 [0/500\t(1%)]\tLoss: 1.460083\n",
      "Train Epoch: 1 [400/500\t(81%)]\tLoss: 1.591013\n",
      "Train Epoch: 2 [0/500\t(1%)]\tLoss: 1.365459\n",
      "Train Epoch: 2 [400/500\t(81%)]\tLoss: 1.625132\n",
      "Train Epoch: 3 [0/500\t(1%)]\tLoss: 1.311958\n",
      "Train Epoch: 3 [400/500\t(81%)]\tLoss: 1.636005\n",
      "Train Epoch: 4 [0/500\t(1%)]\tLoss: 1.374083\n",
      "Train Epoch: 4 [400/500\t(81%)]\tLoss: 1.226998\n",
      "Train Epoch: 5 [0/500\t(1%)]\tLoss: 1.130074\n",
      "Train Epoch: 5 [400/500\t(81%)]\tLoss: 1.241757\n",
      "\n",
      "Performed attacks 3\n",
      "\n",
      "===>Random attack started by:  Worker 18  in Global Round:  5\n",
      "Random attack strating: \n",
      "Performed attacks 4\n",
      "Worker 18 ends training in Global Round:5 |\n",
      "\n",
      "Worker 14 starts training in Global Round:5 |\n"
     ]
    },
    {
     "data": {
      "application/vnd.jupyter.widget-view+json": {
       "model_id": "e47eac9f34f04e63a5728b186801c2a1",
       "version_major": 2,
       "version_minor": 0
      },
      "text/plain": [
       "HBox(children=(IntProgress(value=0, max=5), HTML(value='')))"
      ]
     },
     "metadata": {},
     "output_type": "display_data"
    },
    {
     "name": "stdout",
     "output_type": "stream",
     "text": [
      "Train Epoch: 1 [0/500\t(1%)]\tLoss: 1.355138\n",
      "Train Epoch: 1 [400/500\t(81%)]\tLoss: 1.517448\n",
      "Train Epoch: 2 [0/500\t(1%)]\tLoss: 1.457188\n",
      "Train Epoch: 2 [400/500\t(81%)]\tLoss: 1.507452\n",
      "Train Epoch: 3 [0/500\t(1%)]\tLoss: 1.249730\n",
      "Train Epoch: 3 [400/500\t(81%)]\tLoss: 1.268820\n",
      "Train Epoch: 4 [0/500\t(1%)]\tLoss: 1.476576\n",
      "Train Epoch: 4 [400/500\t(81%)]\tLoss: 1.910139\n",
      "Train Epoch: 5 [0/500\t(1%)]\tLoss: 1.263244\n",
      "Train Epoch: 5 [400/500\t(81%)]\tLoss: 1.369766\n",
      "\n",
      "Worker 14 ends training in Global Round:5 |\n",
      "\n",
      "Worker 36 starts training in Global Round:5 |\n"
     ]
    },
    {
     "data": {
      "application/vnd.jupyter.widget-view+json": {
       "model_id": "2d70e6c355db45b9bad02892939960e3",
       "version_major": 2,
       "version_minor": 0
      },
      "text/plain": [
       "HBox(children=(IntProgress(value=0, max=5), HTML(value='')))"
      ]
     },
     "metadata": {},
     "output_type": "display_data"
    },
    {
     "name": "stdout",
     "output_type": "stream",
     "text": [
      "Train Epoch: 1 [0/500\t(1%)]\tLoss: 1.610215\n",
      "Train Epoch: 1 [400/500\t(81%)]\tLoss: 1.743542\n",
      "Train Epoch: 2 [0/500\t(1%)]\tLoss: 1.329703\n",
      "Train Epoch: 2 [400/500\t(81%)]\tLoss: 1.377023\n",
      "Train Epoch: 3 [0/500\t(1%)]\tLoss: 1.413374\n",
      "Train Epoch: 3 [400/500\t(81%)]\tLoss: 1.578296\n",
      "Train Epoch: 4 [0/500\t(1%)]\tLoss: 1.520294\n",
      "Train Epoch: 4 [400/500\t(81%)]\tLoss: 1.559130\n",
      "Train Epoch: 5 [0/500\t(1%)]\tLoss: 1.351163\n",
      "Train Epoch: 5 [400/500\t(81%)]\tLoss: 1.532021\n",
      "\n",
      "Worker 36 ends training in Global Round:5 |\n",
      "\n",
      "Worker 12 starts training in Global Round:5 |\n"
     ]
    },
    {
     "data": {
      "application/vnd.jupyter.widget-view+json": {
       "model_id": "b97a2f39e3fe4bb69a336fa11b3a1282",
       "version_major": 2,
       "version_minor": 0
      },
      "text/plain": [
       "HBox(children=(IntProgress(value=0, max=5), HTML(value='')))"
      ]
     },
     "metadata": {},
     "output_type": "display_data"
    },
    {
     "name": "stdout",
     "output_type": "stream",
     "text": [
      "Train Epoch: 1 [0/500\t(1%)]\tLoss: 1.741703\n",
      "Train Epoch: 1 [400/500\t(81%)]\tLoss: 1.617922\n",
      "Train Epoch: 2 [0/500\t(1%)]\tLoss: 1.437467\n",
      "Train Epoch: 2 [400/500\t(81%)]\tLoss: 1.418034\n",
      "Train Epoch: 3 [0/500\t(1%)]\tLoss: 1.596180\n",
      "Train Epoch: 3 [400/500\t(81%)]\tLoss: 1.351025\n",
      "Train Epoch: 4 [0/500\t(1%)]\tLoss: 1.558576\n",
      "Train Epoch: 4 [400/500\t(81%)]\tLoss: 1.772635\n",
      "Train Epoch: 5 [0/500\t(1%)]\tLoss: 1.407346\n",
      "Train Epoch: 5 [400/500\t(81%)]\tLoss: 1.725859\n",
      "\n",
      "Worker 12 ends training in Global Round:5 |\n",
      "\n",
      "Average loss: 1.5711, Accuracy: 4256/10000 (43%)\n",
      "\n",
      "\n",
      "Selected workers\n",
      "\n",
      "[71 10 33 59 69 72 88 86 43 38 29 79 99 12  8]\n",
      "Worker 71 : is  Random_Attacker\n",
      "Worker 10 : is  Honest\n",
      "Worker 33 : is  Random_Attacker\n",
      "Worker 59 : is  Random_Attacker\n",
      "Worker 69 : is  Honest\n",
      "Worker 72 : is  Random_Attacker\n",
      "Worker 88 : is  Honest\n",
      "Worker 86 : is  Random_Attacker\n",
      "Worker 43 : is  Honest\n",
      "Worker 38 : is  Random_Attacker\n",
      "Worker 29 : is  Honest\n",
      "Worker 79 : is  Random_Attacker\n",
      "Worker 99 : is  Honest\n",
      "Worker 12 : is  Random_Attacker\n",
      "Worker 8 : is  Honest\n",
      "\n",
      " | Global Training Round : 6 |\n",
      "\n",
      "\n",
      "Worker 71 starts training in Global Round:6 |\n"
     ]
    },
    {
     "data": {
      "application/vnd.jupyter.widget-view+json": {
       "model_id": "28030b4e05ab42d28dd3861f9a9282e6",
       "version_major": 2,
       "version_minor": 0
      },
      "text/plain": [
       "HBox(children=(IntProgress(value=0, max=5), HTML(value='')))"
      ]
     },
     "metadata": {},
     "output_type": "display_data"
    },
    {
     "name": "stdout",
     "output_type": "stream",
     "text": [
      "Train Epoch: 1 [0/500\t(1%)]\tLoss: 1.680795\n",
      "Train Epoch: 1 [400/500\t(81%)]\tLoss: 1.620429\n",
      "Train Epoch: 2 [0/500\t(1%)]\tLoss: 1.422135\n",
      "Train Epoch: 2 [400/500\t(81%)]\tLoss: 1.398682\n",
      "Train Epoch: 3 [0/500\t(1%)]\tLoss: 1.336971\n",
      "Train Epoch: 3 [400/500\t(81%)]\tLoss: 1.270635\n",
      "Train Epoch: 4 [0/500\t(1%)]\tLoss: 1.516334\n",
      "Train Epoch: 4 [400/500\t(81%)]\tLoss: 1.654376\n",
      "Train Epoch: 5 [0/500\t(1%)]\tLoss: 1.205743\n",
      "Train Epoch: 5 [400/500\t(81%)]\tLoss: 1.357300\n",
      "\n",
      "Performed attacks 0\n",
      "\n",
      "===>Random attack started by:  Worker 71  in Global Round:  6\n",
      "Random attack strating: \n",
      "Performed attacks 1\n",
      "Worker 71 ends training in Global Round:6 |\n",
      "\n",
      "Worker 10 starts training in Global Round:6 |\n"
     ]
    },
    {
     "data": {
      "application/vnd.jupyter.widget-view+json": {
       "model_id": "6b1ccbd36b3a4bdcb384c5f8c7e41a7d",
       "version_major": 2,
       "version_minor": 0
      },
      "text/plain": [
       "HBox(children=(IntProgress(value=0, max=5), HTML(value='')))"
      ]
     },
     "metadata": {},
     "output_type": "display_data"
    },
    {
     "name": "stdout",
     "output_type": "stream",
     "text": [
      "Train Epoch: 1 [0/500\t(1%)]\tLoss: 1.617694\n",
      "Train Epoch: 1 [400/500\t(81%)]\tLoss: 1.633731\n",
      "Train Epoch: 2 [0/500\t(1%)]\tLoss: 1.325850\n",
      "Train Epoch: 2 [400/500\t(81%)]\tLoss: 1.478087\n",
      "Train Epoch: 3 [0/500\t(1%)]\tLoss: 1.258074\n",
      "Train Epoch: 3 [400/500\t(81%)]\tLoss: 1.604585\n",
      "Train Epoch: 4 [0/500\t(1%)]\tLoss: 1.088253\n",
      "Train Epoch: 4 [400/500\t(81%)]\tLoss: 1.452950\n",
      "Train Epoch: 5 [0/500\t(1%)]\tLoss: 1.022828\n",
      "Train Epoch: 5 [400/500\t(81%)]\tLoss: 1.585604\n",
      "\n",
      "Worker 10 ends training in Global Round:6 |\n",
      "\n",
      "Worker 33 starts training in Global Round:6 |\n"
     ]
    },
    {
     "data": {
      "application/vnd.jupyter.widget-view+json": {
       "model_id": "3a22cbd61cac42c6b5a4c19c67cd8db2",
       "version_major": 2,
       "version_minor": 0
      },
      "text/plain": [
       "HBox(children=(IntProgress(value=0, max=5), HTML(value='')))"
      ]
     },
     "metadata": {},
     "output_type": "display_data"
    },
    {
     "name": "stdout",
     "output_type": "stream",
     "text": [
      "Train Epoch: 1 [0/500\t(1%)]\tLoss: 1.600596\n",
      "Train Epoch: 1 [400/500\t(81%)]\tLoss: 1.522899\n",
      "Train Epoch: 2 [0/500\t(1%)]\tLoss: 1.433002\n",
      "Train Epoch: 2 [400/500\t(81%)]\tLoss: 1.360930\n",
      "Train Epoch: 3 [0/500\t(1%)]\tLoss: 1.233319\n",
      "Train Epoch: 3 [400/500\t(81%)]\tLoss: 1.821197\n",
      "Train Epoch: 4 [0/500\t(1%)]\tLoss: 1.494355\n",
      "Train Epoch: 4 [400/500\t(81%)]\tLoss: 1.672363\n",
      "Train Epoch: 5 [0/500\t(1%)]\tLoss: 1.654316\n",
      "Train Epoch: 5 [400/500\t(81%)]\tLoss: 1.317309\n",
      "\n",
      "Performed attacks 1\n",
      "\n",
      "===>Random attack started by:  Worker 33  in Global Round:  6\n",
      "Random attack strating: \n",
      "Performed attacks 2\n",
      "Worker 33 ends training in Global Round:6 |\n",
      "\n",
      "Worker 59 starts training in Global Round:6 |\n"
     ]
    },
    {
     "data": {
      "application/vnd.jupyter.widget-view+json": {
       "model_id": "bd6feba5adf04b36ab9586b8a2f22532",
       "version_major": 2,
       "version_minor": 0
      },
      "text/plain": [
       "HBox(children=(IntProgress(value=0, max=5), HTML(value='')))"
      ]
     },
     "metadata": {},
     "output_type": "display_data"
    },
    {
     "name": "stdout",
     "output_type": "stream",
     "text": [
      "Train Epoch: 1 [0/500\t(1%)]\tLoss: 1.394319\n",
      "Train Epoch: 1 [400/500\t(81%)]\tLoss: 1.560681\n",
      "Train Epoch: 2 [0/500\t(1%)]\tLoss: 1.293149\n",
      "Train Epoch: 2 [400/500\t(81%)]\tLoss: 1.402954\n",
      "Train Epoch: 3 [0/500\t(1%)]\tLoss: 1.295745\n",
      "Train Epoch: 3 [400/500\t(81%)]\tLoss: 1.490469\n",
      "Train Epoch: 4 [0/500\t(1%)]\tLoss: 1.179291\n",
      "Train Epoch: 4 [400/500\t(81%)]\tLoss: 1.069715\n",
      "Train Epoch: 5 [0/500\t(1%)]\tLoss: 0.944096\n",
      "Train Epoch: 5 [400/500\t(81%)]\tLoss: 1.363904\n",
      "\n",
      "Performed attacks 2\n",
      "\n",
      "===>Random attack started by:  Worker 59  in Global Round:  6\n",
      "Random attack strating: \n",
      "Performed attacks 3\n",
      "Worker 59 ends training in Global Round:6 |\n",
      "\n",
      "Worker 69 starts training in Global Round:6 |\n"
     ]
    },
    {
     "data": {
      "application/vnd.jupyter.widget-view+json": {
       "model_id": "b24488736c0a46d1a34056e5a33159ef",
       "version_major": 2,
       "version_minor": 0
      },
      "text/plain": [
       "HBox(children=(IntProgress(value=0, max=5), HTML(value='')))"
      ]
     },
     "metadata": {},
     "output_type": "display_data"
    },
    {
     "name": "stdout",
     "output_type": "stream",
     "text": [
      "Train Epoch: 1 [0/500\t(1%)]\tLoss: 1.569522\n",
      "Train Epoch: 1 [400/500\t(81%)]\tLoss: 1.744373\n",
      "Train Epoch: 2 [0/500\t(1%)]\tLoss: 1.361787\n",
      "Train Epoch: 2 [400/500\t(81%)]\tLoss: 1.454146\n",
      "Train Epoch: 3 [0/500\t(1%)]\tLoss: 1.287893\n",
      "Train Epoch: 3 [400/500\t(81%)]\tLoss: 1.308790\n",
      "Train Epoch: 4 [0/500\t(1%)]\tLoss: 1.197789\n",
      "Train Epoch: 4 [400/500\t(81%)]\tLoss: 1.495093\n",
      "Train Epoch: 5 [0/500\t(1%)]\tLoss: 1.393671\n",
      "Train Epoch: 5 [400/500\t(81%)]\tLoss: 1.761194\n",
      "\n",
      "Worker 69 ends training in Global Round:6 |\n",
      "\n",
      "Worker 72 starts training in Global Round:6 |\n"
     ]
    },
    {
     "data": {
      "application/vnd.jupyter.widget-view+json": {
       "model_id": "502c3c2e3e3248d9be83356107c7b1a9",
       "version_major": 2,
       "version_minor": 0
      },
      "text/plain": [
       "HBox(children=(IntProgress(value=0, max=5), HTML(value='')))"
      ]
     },
     "metadata": {},
     "output_type": "display_data"
    },
    {
     "name": "stdout",
     "output_type": "stream",
     "text": [
      "Train Epoch: 1 [0/500\t(1%)]\tLoss: 1.266110\n",
      "Train Epoch: 1 [400/500\t(81%)]\tLoss: 1.548694\n",
      "Train Epoch: 2 [0/500\t(1%)]\tLoss: 1.240174\n",
      "Train Epoch: 2 [400/500\t(81%)]\tLoss: 1.337625\n",
      "Train Epoch: 3 [0/500\t(1%)]\tLoss: 1.092249\n",
      "Train Epoch: 3 [400/500\t(81%)]\tLoss: 1.367506\n",
      "Train Epoch: 4 [0/500\t(1%)]\tLoss: 1.130449\n",
      "Train Epoch: 4 [400/500\t(81%)]\tLoss: 1.286615\n",
      "Train Epoch: 5 [0/500\t(1%)]\tLoss: 1.016828\n",
      "Train Epoch: 5 [400/500\t(81%)]\tLoss: 1.509335\n",
      "\n",
      "Performed attacks 3\n",
      "\n",
      "===>Random attack started by:  Worker 72  in Global Round:  6\n",
      "Random attack strating: \n",
      "Performed attacks 4\n",
      "Worker 72 ends training in Global Round:6 |\n",
      "\n",
      "Worker 88 starts training in Global Round:6 |\n"
     ]
    },
    {
     "data": {
      "application/vnd.jupyter.widget-view+json": {
       "model_id": "f7778e7924cb4f648b87d4142c3a85aa",
       "version_major": 2,
       "version_minor": 0
      },
      "text/plain": [
       "HBox(children=(IntProgress(value=0, max=5), HTML(value='')))"
      ]
     },
     "metadata": {},
     "output_type": "display_data"
    },
    {
     "name": "stdout",
     "output_type": "stream",
     "text": [
      "Train Epoch: 1 [0/500\t(1%)]\tLoss: 1.364229\n",
      "Train Epoch: 1 [400/500\t(81%)]\tLoss: 1.397254\n",
      "Train Epoch: 2 [0/500\t(1%)]\tLoss: 1.322002\n",
      "Train Epoch: 2 [400/500\t(81%)]\tLoss: 1.552406\n",
      "Train Epoch: 3 [0/500\t(1%)]\tLoss: 1.306677\n",
      "Train Epoch: 3 [400/500\t(81%)]\tLoss: 1.506927\n",
      "Train Epoch: 4 [0/500\t(1%)]\tLoss: 1.307546\n",
      "Train Epoch: 4 [400/500\t(81%)]\tLoss: 1.255310\n",
      "Train Epoch: 5 [0/500\t(1%)]\tLoss: 1.478223\n",
      "Train Epoch: 5 [400/500\t(81%)]\tLoss: 1.494070\n",
      "\n",
      "Worker 88 ends training in Global Round:6 |\n",
      "\n",
      "Worker 86 starts training in Global Round:6 |\n"
     ]
    },
    {
     "data": {
      "application/vnd.jupyter.widget-view+json": {
       "model_id": "abdcaf551c7345d19c9b254b8b23aa33",
       "version_major": 2,
       "version_minor": 0
      },
      "text/plain": [
       "HBox(children=(IntProgress(value=0, max=5), HTML(value='')))"
      ]
     },
     "metadata": {},
     "output_type": "display_data"
    },
    {
     "name": "stdout",
     "output_type": "stream",
     "text": [
      "Train Epoch: 1 [0/500\t(1%)]\tLoss: 1.378890\n",
      "Train Epoch: 1 [400/500\t(81%)]\tLoss: 1.380650\n",
      "Train Epoch: 2 [0/500\t(1%)]\tLoss: 1.277036\n",
      "Train Epoch: 2 [400/500\t(81%)]\tLoss: 1.275514\n",
      "Train Epoch: 3 [0/500\t(1%)]\tLoss: 1.145804\n",
      "Train Epoch: 3 [400/500\t(81%)]\tLoss: 1.705833\n",
      "Train Epoch: 4 [0/500\t(1%)]\tLoss: 1.238060\n",
      "Train Epoch: 4 [400/500\t(81%)]\tLoss: 1.583241\n",
      "Train Epoch: 5 [0/500\t(1%)]\tLoss: 1.303041\n",
      "Train Epoch: 5 [400/500\t(81%)]\tLoss: 1.074012\n",
      "\n",
      "Worker 86 ends training in Global Round:6 |\n",
      "\n",
      "Worker 43 starts training in Global Round:6 |\n"
     ]
    },
    {
     "data": {
      "application/vnd.jupyter.widget-view+json": {
       "model_id": "ecd89d474c1645f3bfcf7b09faee5959",
       "version_major": 2,
       "version_minor": 0
      },
      "text/plain": [
       "HBox(children=(IntProgress(value=0, max=5), HTML(value='')))"
      ]
     },
     "metadata": {},
     "output_type": "display_data"
    },
    {
     "name": "stdout",
     "output_type": "stream",
     "text": [
      "Train Epoch: 1 [0/500\t(1%)]\tLoss: 1.389374\n",
      "Train Epoch: 1 [400/500\t(81%)]\tLoss: 1.537250\n",
      "Train Epoch: 2 [0/500\t(1%)]\tLoss: 1.360518\n",
      "Train Epoch: 2 [400/500\t(81%)]\tLoss: 1.472394\n",
      "Train Epoch: 3 [0/500\t(1%)]\tLoss: 1.144489\n",
      "Train Epoch: 3 [400/500\t(81%)]\tLoss: 1.314128\n",
      "Train Epoch: 4 [0/500\t(1%)]\tLoss: 1.022490\n",
      "Train Epoch: 4 [400/500\t(81%)]\tLoss: 1.538408\n",
      "Train Epoch: 5 [0/500\t(1%)]\tLoss: 1.195335\n",
      "Train Epoch: 5 [400/500\t(81%)]\tLoss: 1.401891\n",
      "\n",
      "Worker 43 ends training in Global Round:6 |\n",
      "\n",
      "Worker 38 starts training in Global Round:6 |\n"
     ]
    },
    {
     "data": {
      "application/vnd.jupyter.widget-view+json": {
       "model_id": "ef08cb4a3ce94f6d95185d0792711813",
       "version_major": 2,
       "version_minor": 0
      },
      "text/plain": [
       "HBox(children=(IntProgress(value=0, max=5), HTML(value='')))"
      ]
     },
     "metadata": {},
     "output_type": "display_data"
    },
    {
     "name": "stdout",
     "output_type": "stream",
     "text": [
      "Train Epoch: 1 [0/500\t(1%)]\tLoss: 1.427014\n",
      "Train Epoch: 1 [400/500\t(81%)]\tLoss: 1.563657\n",
      "Train Epoch: 2 [0/500\t(1%)]\tLoss: 1.171761\n",
      "Train Epoch: 2 [400/500\t(81%)]\tLoss: 1.373425\n",
      "Train Epoch: 3 [0/500\t(1%)]\tLoss: 1.276464\n",
      "Train Epoch: 3 [400/500\t(81%)]\tLoss: 1.633268\n",
      "Train Epoch: 4 [0/500\t(1%)]\tLoss: 1.432054\n",
      "Train Epoch: 4 [400/500\t(81%)]\tLoss: 1.354160\n",
      "Train Epoch: 5 [0/500\t(1%)]\tLoss: 1.297485\n",
      "Train Epoch: 5 [400/500\t(81%)]\tLoss: 1.568525\n",
      "\n",
      "Worker 38 ends training in Global Round:6 |\n",
      "\n",
      "Worker 29 starts training in Global Round:6 |\n"
     ]
    },
    {
     "data": {
      "application/vnd.jupyter.widget-view+json": {
       "model_id": "64a57e779d284a75a89ae5a90bae1858",
       "version_major": 2,
       "version_minor": 0
      },
      "text/plain": [
       "HBox(children=(IntProgress(value=0, max=5), HTML(value='')))"
      ]
     },
     "metadata": {},
     "output_type": "display_data"
    },
    {
     "name": "stdout",
     "output_type": "stream",
     "text": [
      "Train Epoch: 1 [0/500\t(1%)]\tLoss: 1.467230\n",
      "Train Epoch: 1 [400/500\t(81%)]\tLoss: 1.572248\n",
      "Train Epoch: 2 [0/500\t(1%)]\tLoss: 1.276442\n",
      "Train Epoch: 2 [400/500\t(81%)]\tLoss: 1.538456\n",
      "Train Epoch: 3 [0/500\t(1%)]\tLoss: 1.252793\n",
      "Train Epoch: 3 [400/500\t(81%)]\tLoss: 1.353034\n",
      "Train Epoch: 4 [0/500\t(1%)]\tLoss: 1.213452\n",
      "Train Epoch: 4 [400/500\t(81%)]\tLoss: 1.569586\n",
      "Train Epoch: 5 [0/500\t(1%)]\tLoss: 1.319320\n",
      "Train Epoch: 5 [400/500\t(81%)]\tLoss: 1.418648\n",
      "\n",
      "Worker 29 ends training in Global Round:6 |\n",
      "\n",
      "Worker 79 starts training in Global Round:6 |\n"
     ]
    },
    {
     "data": {
      "application/vnd.jupyter.widget-view+json": {
       "model_id": "52dffde2280c46ff963e07d6e21e2456",
       "version_major": 2,
       "version_minor": 0
      },
      "text/plain": [
       "HBox(children=(IntProgress(value=0, max=5), HTML(value='')))"
      ]
     },
     "metadata": {},
     "output_type": "display_data"
    },
    {
     "name": "stdout",
     "output_type": "stream",
     "text": [
      "Train Epoch: 1 [0/500\t(1%)]\tLoss: 1.465202\n",
      "Train Epoch: 1 [400/500\t(81%)]\tLoss: 1.465308\n",
      "Train Epoch: 2 [0/500\t(1%)]\tLoss: 1.443553\n",
      "Train Epoch: 2 [400/500\t(81%)]\tLoss: 1.667842\n",
      "Train Epoch: 3 [0/500\t(1%)]\tLoss: 1.180860\n",
      "Train Epoch: 3 [400/500\t(81%)]\tLoss: 1.581154\n",
      "Train Epoch: 4 [0/500\t(1%)]\tLoss: 1.382789\n",
      "Train Epoch: 4 [400/500\t(81%)]\tLoss: 1.695221\n",
      "Train Epoch: 5 [0/500\t(1%)]\tLoss: 1.482316\n",
      "Train Epoch: 5 [400/500\t(81%)]\tLoss: 1.430381\n",
      "\n",
      "Worker 79 ends training in Global Round:6 |\n",
      "\n",
      "Worker 99 starts training in Global Round:6 |\n"
     ]
    },
    {
     "data": {
      "application/vnd.jupyter.widget-view+json": {
       "model_id": "c4d4955c409840fa9740b822d620e1a8",
       "version_major": 2,
       "version_minor": 0
      },
      "text/plain": [
       "HBox(children=(IntProgress(value=0, max=5), HTML(value='')))"
      ]
     },
     "metadata": {},
     "output_type": "display_data"
    },
    {
     "name": "stdout",
     "output_type": "stream",
     "text": [
      "Train Epoch: 1 [0/500\t(1%)]\tLoss: 1.461629\n",
      "Train Epoch: 1 [400/500\t(81%)]\tLoss: 1.667947\n",
      "Train Epoch: 2 [0/500\t(1%)]\tLoss: 1.553866\n",
      "Train Epoch: 2 [400/500\t(81%)]\tLoss: 1.628972\n",
      "Train Epoch: 3 [0/500\t(1%)]\tLoss: 1.332711\n",
      "Train Epoch: 3 [400/500\t(81%)]\tLoss: 1.412093\n",
      "Train Epoch: 4 [0/500\t(1%)]\tLoss: 1.352262\n",
      "Train Epoch: 4 [400/500\t(81%)]\tLoss: 1.289715\n",
      "Train Epoch: 5 [0/500\t(1%)]\tLoss: 1.221747\n",
      "Train Epoch: 5 [400/500\t(81%)]\tLoss: 1.224648\n",
      "\n",
      "Worker 99 ends training in Global Round:6 |\n",
      "\n",
      "Worker 12 starts training in Global Round:6 |\n"
     ]
    },
    {
     "data": {
      "application/vnd.jupyter.widget-view+json": {
       "model_id": "1a2151c06f8b45beb7d5768dec0c9afc",
       "version_major": 2,
       "version_minor": 0
      },
      "text/plain": [
       "HBox(children=(IntProgress(value=0, max=5), HTML(value='')))"
      ]
     },
     "metadata": {},
     "output_type": "display_data"
    },
    {
     "name": "stdout",
     "output_type": "stream",
     "text": [
      "Train Epoch: 1 [0/500\t(1%)]\tLoss: 1.534358\n",
      "Train Epoch: 1 [400/500\t(81%)]\tLoss: 1.535501\n",
      "Train Epoch: 2 [0/500\t(1%)]\tLoss: 1.206124\n",
      "Train Epoch: 2 [400/500\t(81%)]\tLoss: 1.573109\n",
      "Train Epoch: 3 [0/500\t(1%)]\tLoss: 1.500507\n",
      "Train Epoch: 3 [400/500\t(81%)]\tLoss: 1.510563\n",
      "Train Epoch: 4 [0/500\t(1%)]\tLoss: 1.096543\n",
      "Train Epoch: 4 [400/500\t(81%)]\tLoss: 1.412918\n",
      "Train Epoch: 5 [0/500\t(1%)]\tLoss: 1.098766\n",
      "Train Epoch: 5 [400/500\t(81%)]\tLoss: 1.651410\n",
      "\n",
      "Worker 12 ends training in Global Round:6 |\n",
      "\n",
      "Worker 8 starts training in Global Round:6 |\n"
     ]
    },
    {
     "data": {
      "application/vnd.jupyter.widget-view+json": {
       "model_id": "613cd1961bb64cb19ae5dd8504e58744",
       "version_major": 2,
       "version_minor": 0
      },
      "text/plain": [
       "HBox(children=(IntProgress(value=0, max=5), HTML(value='')))"
      ]
     },
     "metadata": {},
     "output_type": "display_data"
    },
    {
     "name": "stdout",
     "output_type": "stream",
     "text": [
      "Train Epoch: 1 [0/500\t(1%)]\tLoss: 1.397379\n",
      "Train Epoch: 1 [400/500\t(81%)]\tLoss: 1.637031\n",
      "Train Epoch: 2 [0/500\t(1%)]\tLoss: 1.379706\n",
      "Train Epoch: 2 [400/500\t(81%)]\tLoss: 1.272404\n",
      "Train Epoch: 3 [0/500\t(1%)]\tLoss: 1.434326\n",
      "Train Epoch: 3 [400/500\t(81%)]\tLoss: 1.220685\n",
      "Train Epoch: 4 [0/500\t(1%)]\tLoss: 1.169710\n",
      "Train Epoch: 4 [400/500\t(81%)]\tLoss: 1.453819\n",
      "Train Epoch: 5 [0/500\t(1%)]\tLoss: 1.248174\n",
      "Train Epoch: 5 [400/500\t(81%)]\tLoss: 1.300386\n",
      "\n",
      "Worker 8 ends training in Global Round:6 |\n",
      "\n",
      "Average loss: 1.3872, Accuracy: 4923/10000 (49%)\n",
      "\n",
      "\n",
      "Selected workers\n",
      "\n",
      "[42 10 58 35 44 89 60 77 25 33 31 90 72 99 65]\n",
      "Worker 42 : is  Honest\n",
      "Worker 10 : is  Honest\n",
      "Worker 58 : is  Honest\n",
      "Worker 35 : is  Honest\n",
      "Worker 44 : is  Random_Attacker\n",
      "Worker 89 : is  Random_Attacker\n",
      "Worker 60 : is  Honest\n",
      "Worker 77 : is  Honest\n",
      "Worker 25 : is  Honest\n",
      "Worker 33 : is  Random_Attacker\n",
      "Worker 31 : is  Random_Attacker\n",
      "Worker 90 : is  Honest\n",
      "Worker 72 : is  Random_Attacker\n",
      "Worker 99 : is  Honest\n",
      "Worker 65 : is  Honest\n",
      "\n",
      " | Global Training Round : 7 |\n",
      "\n",
      "\n",
      "Worker 42 starts training in Global Round:7 |\n"
     ]
    },
    {
     "data": {
      "application/vnd.jupyter.widget-view+json": {
       "model_id": "a159d8bb3102464bb12a604e15cbe248",
       "version_major": 2,
       "version_minor": 0
      },
      "text/plain": [
       "HBox(children=(IntProgress(value=0, max=5), HTML(value='')))"
      ]
     },
     "metadata": {},
     "output_type": "display_data"
    },
    {
     "name": "stdout",
     "output_type": "stream",
     "text": [
      "Train Epoch: 1 [0/500\t(1%)]\tLoss: 1.345340\n",
      "Train Epoch: 1 [400/500\t(81%)]\tLoss: 1.501074\n",
      "Train Epoch: 2 [0/500\t(1%)]\tLoss: 1.343875\n",
      "Train Epoch: 2 [400/500\t(81%)]\tLoss: 1.351958\n",
      "Train Epoch: 3 [0/500\t(1%)]\tLoss: 0.942719\n",
      "Train Epoch: 3 [400/500\t(81%)]\tLoss: 1.138000\n",
      "Train Epoch: 4 [0/500\t(1%)]\tLoss: 1.076868\n",
      "Train Epoch: 4 [400/500\t(81%)]\tLoss: 1.091187\n",
      "Train Epoch: 5 [0/500\t(1%)]\tLoss: 0.767625\n",
      "Train Epoch: 5 [400/500\t(81%)]\tLoss: 1.216090\n",
      "\n",
      "Worker 42 ends training in Global Round:7 |\n",
      "\n",
      "Worker 10 starts training in Global Round:7 |\n"
     ]
    },
    {
     "data": {
      "application/vnd.jupyter.widget-view+json": {
       "model_id": "543741b5d83142188bb2e0e7091e3be0",
       "version_major": 2,
       "version_minor": 0
      },
      "text/plain": [
       "HBox(children=(IntProgress(value=0, max=5), HTML(value='')))"
      ]
     },
     "metadata": {},
     "output_type": "display_data"
    },
    {
     "name": "stdout",
     "output_type": "stream",
     "text": [
      "Train Epoch: 1 [0/500\t(1%)]\tLoss: 1.395803\n",
      "Train Epoch: 1 [400/500\t(81%)]\tLoss: 1.523318\n",
      "Train Epoch: 2 [0/500\t(1%)]\tLoss: 1.157083\n",
      "Train Epoch: 2 [400/500\t(81%)]\tLoss: 1.050776\n",
      "Train Epoch: 3 [0/500\t(1%)]\tLoss: 1.195239\n",
      "Train Epoch: 3 [400/500\t(81%)]\tLoss: 1.347856\n",
      "Train Epoch: 4 [0/500\t(1%)]\tLoss: 1.250056\n",
      "Train Epoch: 4 [400/500\t(81%)]\tLoss: 1.102003\n",
      "Train Epoch: 5 [0/500\t(1%)]\tLoss: 1.022294\n",
      "Train Epoch: 5 [400/500\t(81%)]\tLoss: 1.102954\n",
      "\n",
      "Worker 10 ends training in Global Round:7 |\n",
      "\n",
      "Worker 58 starts training in Global Round:7 |\n"
     ]
    },
    {
     "data": {
      "application/vnd.jupyter.widget-view+json": {
       "model_id": "9b7870c02abf41ab91823ad674d0a56a",
       "version_major": 2,
       "version_minor": 0
      },
      "text/plain": [
       "HBox(children=(IntProgress(value=0, max=5), HTML(value='')))"
      ]
     },
     "metadata": {},
     "output_type": "display_data"
    },
    {
     "name": "stdout",
     "output_type": "stream",
     "text": [
      "Train Epoch: 1 [0/500\t(1%)]\tLoss: 1.482154\n",
      "Train Epoch: 1 [400/500\t(81%)]\tLoss: 1.560856\n",
      "Train Epoch: 2 [0/500\t(1%)]\tLoss: 1.321299\n",
      "Train Epoch: 2 [400/500\t(81%)]\tLoss: 1.621073\n",
      "Train Epoch: 3 [0/500\t(1%)]\tLoss: 1.390174\n",
      "Train Epoch: 3 [400/500\t(81%)]\tLoss: 1.438121\n",
      "Train Epoch: 4 [0/500\t(1%)]\tLoss: 1.100996\n",
      "Train Epoch: 4 [400/500\t(81%)]\tLoss: 1.428731\n",
      "Train Epoch: 5 [0/500\t(1%)]\tLoss: 1.006917\n",
      "Train Epoch: 5 [400/500\t(81%)]\tLoss: 1.287794\n",
      "\n",
      "Worker 58 ends training in Global Round:7 |\n",
      "\n",
      "Worker 35 starts training in Global Round:7 |\n"
     ]
    },
    {
     "data": {
      "application/vnd.jupyter.widget-view+json": {
       "model_id": "c5b8362905d445418f051c9488d73082",
       "version_major": 2,
       "version_minor": 0
      },
      "text/plain": [
       "HBox(children=(IntProgress(value=0, max=5), HTML(value='')))"
      ]
     },
     "metadata": {},
     "output_type": "display_data"
    },
    {
     "name": "stdout",
     "output_type": "stream",
     "text": [
      "Train Epoch: 1 [0/500\t(1%)]\tLoss: 1.553491\n",
      "Train Epoch: 1 [400/500\t(81%)]\tLoss: 1.468311\n",
      "Train Epoch: 2 [0/500\t(1%)]\tLoss: 1.317703\n",
      "Train Epoch: 2 [400/500\t(81%)]\tLoss: 1.279128\n",
      "Train Epoch: 3 [0/500\t(1%)]\tLoss: 1.501055\n",
      "Train Epoch: 3 [400/500\t(81%)]\tLoss: 1.507513\n",
      "Train Epoch: 4 [0/500\t(1%)]\tLoss: 1.059753\n",
      "Train Epoch: 4 [400/500\t(81%)]\tLoss: 1.522430\n",
      "Train Epoch: 5 [0/500\t(1%)]\tLoss: 1.165172\n",
      "Train Epoch: 5 [400/500\t(81%)]\tLoss: 1.185819\n",
      "\n",
      "Worker 35 ends training in Global Round:7 |\n",
      "\n",
      "Worker 44 starts training in Global Round:7 |\n"
     ]
    },
    {
     "data": {
      "application/vnd.jupyter.widget-view+json": {
       "model_id": "1297bd86797e4bbc9f9401c220015c09",
       "version_major": 2,
       "version_minor": 0
      },
      "text/plain": [
       "HBox(children=(IntProgress(value=0, max=5), HTML(value='')))"
      ]
     },
     "metadata": {},
     "output_type": "display_data"
    },
    {
     "name": "stdout",
     "output_type": "stream",
     "text": [
      "Train Epoch: 1 [0/500\t(1%)]\tLoss: 1.422763\n",
      "Train Epoch: 1 [400/500\t(81%)]\tLoss: 1.588764\n",
      "Train Epoch: 2 [0/500\t(1%)]\tLoss: 1.357265\n",
      "Train Epoch: 2 [400/500\t(81%)]\tLoss: 1.377418\n",
      "Train Epoch: 3 [0/500\t(1%)]\tLoss: 1.216008\n",
      "Train Epoch: 3 [400/500\t(81%)]\tLoss: 1.305316\n",
      "Train Epoch: 4 [0/500\t(1%)]\tLoss: 1.105731\n",
      "Train Epoch: 4 [400/500\t(81%)]\tLoss: 1.078481\n",
      "Train Epoch: 5 [0/500\t(1%)]\tLoss: 0.967683\n",
      "Train Epoch: 5 [400/500\t(81%)]\tLoss: 1.210461\n",
      "\n",
      "Performed attacks 0\n",
      "\n",
      "===>Random attack started by:  Worker 44  in Global Round:  7\n",
      "Random attack strating: \n",
      "Performed attacks 1\n",
      "Worker 44 ends training in Global Round:7 |\n",
      "\n",
      "Worker 89 starts training in Global Round:7 |\n"
     ]
    },
    {
     "data": {
      "application/vnd.jupyter.widget-view+json": {
       "model_id": "55f60cba82664381bbbc58fa74aca1a7",
       "version_major": 2,
       "version_minor": 0
      },
      "text/plain": [
       "HBox(children=(IntProgress(value=0, max=5), HTML(value='')))"
      ]
     },
     "metadata": {},
     "output_type": "display_data"
    },
    {
     "name": "stdout",
     "output_type": "stream",
     "text": [
      "Train Epoch: 1 [0/500\t(1%)]\tLoss: 1.453738\n",
      "Train Epoch: 1 [400/500\t(81%)]\tLoss: 1.518109\n",
      "Train Epoch: 2 [0/500\t(1%)]\tLoss: 1.112741\n",
      "Train Epoch: 2 [400/500\t(81%)]\tLoss: 1.636670\n",
      "Train Epoch: 3 [0/500\t(1%)]\tLoss: 1.162240\n",
      "Train Epoch: 3 [400/500\t(81%)]\tLoss: 1.382131\n",
      "Train Epoch: 4 [0/500\t(1%)]\tLoss: 1.186990\n",
      "Train Epoch: 4 [400/500\t(81%)]\tLoss: 1.049088\n",
      "Train Epoch: 5 [0/500\t(1%)]\tLoss: 0.954636\n",
      "Train Epoch: 5 [400/500\t(81%)]\tLoss: 1.236547\n",
      "\n",
      "Performed attacks 1\n",
      "\n",
      "===>Random attack started by:  Worker 89  in Global Round:  7\n",
      "Random attack strating: \n",
      "Performed attacks 2\n",
      "Worker 89 ends training in Global Round:7 |\n",
      "\n",
      "Worker 60 starts training in Global Round:7 |\n"
     ]
    },
    {
     "data": {
      "application/vnd.jupyter.widget-view+json": {
       "model_id": "9d935079673b4ce6905fdc1fbcd78b27",
       "version_major": 2,
       "version_minor": 0
      },
      "text/plain": [
       "HBox(children=(IntProgress(value=0, max=5), HTML(value='')))"
      ]
     },
     "metadata": {},
     "output_type": "display_data"
    },
    {
     "name": "stdout",
     "output_type": "stream",
     "text": [
      "Train Epoch: 1 [0/500\t(1%)]\tLoss: 1.384115\n",
      "Train Epoch: 1 [400/500\t(81%)]\tLoss: 1.285809\n",
      "Train Epoch: 2 [0/500\t(1%)]\tLoss: 1.202365\n",
      "Train Epoch: 2 [400/500\t(81%)]\tLoss: 1.154205\n",
      "Train Epoch: 3 [0/500\t(1%)]\tLoss: 1.138981\n",
      "Train Epoch: 3 [400/500\t(81%)]\tLoss: 1.462743\n",
      "Train Epoch: 4 [0/500\t(1%)]\tLoss: 1.137564\n",
      "Train Epoch: 4 [400/500\t(81%)]\tLoss: 1.219855\n",
      "Train Epoch: 5 [0/500\t(1%)]\tLoss: 0.870712\n",
      "Train Epoch: 5 [400/500\t(81%)]\tLoss: 1.078873\n",
      "\n",
      "Worker 60 ends training in Global Round:7 |\n",
      "\n",
      "Worker 77 starts training in Global Round:7 |\n"
     ]
    },
    {
     "data": {
      "application/vnd.jupyter.widget-view+json": {
       "model_id": "4d7fbc527cd541a09e1103f66db4574c",
       "version_major": 2,
       "version_minor": 0
      },
      "text/plain": [
       "HBox(children=(IntProgress(value=0, max=5), HTML(value='')))"
      ]
     },
     "metadata": {},
     "output_type": "display_data"
    },
    {
     "name": "stdout",
     "output_type": "stream",
     "text": [
      "Train Epoch: 1 [0/500\t(1%)]\tLoss: 1.529515\n",
      "Train Epoch: 1 [400/500\t(81%)]\tLoss: 1.800731\n",
      "Train Epoch: 2 [0/500\t(1%)]\tLoss: 1.446790\n",
      "Train Epoch: 2 [400/500\t(81%)]\tLoss: 1.456610\n",
      "Train Epoch: 3 [0/500\t(1%)]\tLoss: 1.194929\n",
      "Train Epoch: 3 [400/500\t(81%)]\tLoss: 1.383398\n",
      "Train Epoch: 4 [0/500\t(1%)]\tLoss: 1.395917\n",
      "Train Epoch: 4 [400/500\t(81%)]\tLoss: 1.361693\n",
      "Train Epoch: 5 [0/500\t(1%)]\tLoss: 1.228072\n",
      "Train Epoch: 5 [400/500\t(81%)]\tLoss: 1.536592\n",
      "\n",
      "Worker 77 ends training in Global Round:7 |\n",
      "\n",
      "Worker 25 starts training in Global Round:7 |\n"
     ]
    },
    {
     "data": {
      "application/vnd.jupyter.widget-view+json": {
       "model_id": "f20e4968106645349d2cead9acfa909b",
       "version_major": 2,
       "version_minor": 0
      },
      "text/plain": [
       "HBox(children=(IntProgress(value=0, max=5), HTML(value='')))"
      ]
     },
     "metadata": {},
     "output_type": "display_data"
    },
    {
     "name": "stdout",
     "output_type": "stream",
     "text": [
      "Train Epoch: 1 [0/500\t(1%)]\tLoss: 1.479526\n",
      "Train Epoch: 1 [400/500\t(81%)]\tLoss: 1.631840\n",
      "Train Epoch: 2 [0/500\t(1%)]\tLoss: 1.168291\n",
      "Train Epoch: 2 [400/500\t(81%)]\tLoss: 1.301908\n",
      "Train Epoch: 3 [0/500\t(1%)]\tLoss: 1.210642\n",
      "Train Epoch: 3 [400/500\t(81%)]\tLoss: 1.430874\n",
      "Train Epoch: 4 [0/500\t(1%)]\tLoss: 1.258566\n",
      "Train Epoch: 4 [400/500\t(81%)]\tLoss: 1.548471\n",
      "Train Epoch: 5 [0/500\t(1%)]\tLoss: 1.236325\n",
      "Train Epoch: 5 [400/500\t(81%)]\tLoss: 1.572079\n",
      "\n",
      "Worker 25 ends training in Global Round:7 |\n",
      "\n",
      "Worker 33 starts training in Global Round:7 |\n"
     ]
    },
    {
     "data": {
      "application/vnd.jupyter.widget-view+json": {
       "model_id": "186d2f0d6b78452e82122b01f4914c7f",
       "version_major": 2,
       "version_minor": 0
      },
      "text/plain": [
       "HBox(children=(IntProgress(value=0, max=5), HTML(value='')))"
      ]
     },
     "metadata": {},
     "output_type": "display_data"
    },
    {
     "name": "stdout",
     "output_type": "stream",
     "text": [
      "Train Epoch: 1 [0/500\t(1%)]\tLoss: 1.524531\n",
      "Train Epoch: 1 [400/500\t(81%)]\tLoss: 1.474613\n",
      "Train Epoch: 2 [0/500\t(1%)]\tLoss: 1.148181\n",
      "Train Epoch: 2 [400/500\t(81%)]\tLoss: 1.565960\n",
      "Train Epoch: 3 [0/500\t(1%)]\tLoss: 1.399467\n",
      "Train Epoch: 3 [400/500\t(81%)]\tLoss: 1.178930\n",
      "Train Epoch: 4 [0/500\t(1%)]\tLoss: 0.968198\n",
      "Train Epoch: 4 [400/500\t(81%)]\tLoss: 1.171846\n",
      "Train Epoch: 5 [0/500\t(1%)]\tLoss: 1.015727\n",
      "Train Epoch: 5 [400/500\t(81%)]\tLoss: 1.074099\n",
      "\n",
      "Performed attacks 2\n",
      "\n",
      "===>Random attack started by:  Worker 33  in Global Round:  7\n",
      "Random attack strating: \n",
      "Performed attacks 3\n",
      "Worker 33 ends training in Global Round:7 |\n",
      "\n",
      "Worker 31 starts training in Global Round:7 |\n"
     ]
    },
    {
     "data": {
      "application/vnd.jupyter.widget-view+json": {
       "model_id": "44aed0aa4be7439db9f5e16a54e7cb66",
       "version_major": 2,
       "version_minor": 0
      },
      "text/plain": [
       "HBox(children=(IntProgress(value=0, max=5), HTML(value='')))"
      ]
     },
     "metadata": {},
     "output_type": "display_data"
    },
    {
     "name": "stdout",
     "output_type": "stream",
     "text": [
      "Train Epoch: 1 [0/500\t(1%)]\tLoss: 1.376171\n",
      "Train Epoch: 1 [400/500\t(81%)]\tLoss: 1.474603\n",
      "Train Epoch: 2 [0/500\t(1%)]\tLoss: 1.188955\n",
      "Train Epoch: 2 [400/500\t(81%)]\tLoss: 1.146735\n",
      "Train Epoch: 3 [0/500\t(1%)]\tLoss: 1.155961\n",
      "Train Epoch: 3 [400/500\t(81%)]\tLoss: 1.271282\n",
      "Train Epoch: 4 [0/500\t(1%)]\tLoss: 1.137706\n",
      "Train Epoch: 4 [400/500\t(81%)]\tLoss: 1.193992\n",
      "Train Epoch: 5 [0/500\t(1%)]\tLoss: 0.841632\n",
      "Train Epoch: 5 [400/500\t(81%)]\tLoss: 1.273294\n",
      "\n",
      "Performed attacks 3\n",
      "\n",
      "===>Random attack started by:  Worker 31  in Global Round:  7\n",
      "Random attack strating: \n",
      "Performed attacks 4\n",
      "Worker 31 ends training in Global Round:7 |\n",
      "\n",
      "Worker 90 starts training in Global Round:7 |\n"
     ]
    },
    {
     "data": {
      "application/vnd.jupyter.widget-view+json": {
       "model_id": "e46d3210c3e54469868763801d8d0c65",
       "version_major": 2,
       "version_minor": 0
      },
      "text/plain": [
       "HBox(children=(IntProgress(value=0, max=5), HTML(value='')))"
      ]
     },
     "metadata": {},
     "output_type": "display_data"
    },
    {
     "name": "stdout",
     "output_type": "stream",
     "text": [
      "Train Epoch: 1 [0/500\t(1%)]\tLoss: 1.280725\n",
      "Train Epoch: 1 [400/500\t(81%)]\tLoss: 1.560900\n",
      "Train Epoch: 2 [0/500\t(1%)]\tLoss: 1.207292\n",
      "Train Epoch: 2 [400/500\t(81%)]\tLoss: 1.489547\n",
      "Train Epoch: 3 [0/500\t(1%)]\tLoss: 1.217271\n",
      "Train Epoch: 3 [400/500\t(81%)]\tLoss: 1.516535\n",
      "Train Epoch: 4 [0/500\t(1%)]\tLoss: 1.240067\n",
      "Train Epoch: 4 [400/500\t(81%)]\tLoss: 1.322921\n",
      "Train Epoch: 5 [0/500\t(1%)]\tLoss: 0.974473\n",
      "Train Epoch: 5 [400/500\t(81%)]\tLoss: 1.250131\n",
      "\n",
      "Worker 90 ends training in Global Round:7 |\n",
      "\n",
      "Worker 72 starts training in Global Round:7 |\n"
     ]
    },
    {
     "data": {
      "application/vnd.jupyter.widget-view+json": {
       "model_id": "98a9fcfb71dc4e31b927e64f12d0fa9b",
       "version_major": 2,
       "version_minor": 0
      },
      "text/plain": [
       "HBox(children=(IntProgress(value=0, max=5), HTML(value='')))"
      ]
     },
     "metadata": {},
     "output_type": "display_data"
    },
    {
     "name": "stdout",
     "output_type": "stream",
     "text": [
      "Train Epoch: 1 [0/500\t(1%)]\tLoss: 1.238471\n",
      "Train Epoch: 1 [400/500\t(81%)]\tLoss: 1.432929\n",
      "Train Epoch: 2 [0/500\t(1%)]\tLoss: 1.313468\n",
      "Train Epoch: 2 [400/500\t(81%)]\tLoss: 1.426716\n",
      "Train Epoch: 3 [0/500\t(1%)]\tLoss: 1.019457\n",
      "Train Epoch: 3 [400/500\t(81%)]\tLoss: 1.416136\n",
      "Train Epoch: 4 [0/500\t(1%)]\tLoss: 1.194080\n",
      "Train Epoch: 4 [400/500\t(81%)]\tLoss: 1.153575\n",
      "Train Epoch: 5 [0/500\t(1%)]\tLoss: 0.981006\n",
      "Train Epoch: 5 [400/500\t(81%)]\tLoss: 1.264109\n",
      "\n",
      "Worker 72 ends training in Global Round:7 |\n",
      "\n",
      "Worker 99 starts training in Global Round:7 |\n"
     ]
    },
    {
     "data": {
      "application/vnd.jupyter.widget-view+json": {
       "model_id": "13862f9655b34a0d87a29195ba803efe",
       "version_major": 2,
       "version_minor": 0
      },
      "text/plain": [
       "HBox(children=(IntProgress(value=0, max=5), HTML(value='')))"
      ]
     },
     "metadata": {},
     "output_type": "display_data"
    },
    {
     "name": "stdout",
     "output_type": "stream",
     "text": [
      "Train Epoch: 1 [0/500\t(1%)]\tLoss: 1.343861\n",
      "Train Epoch: 1 [400/500\t(81%)]\tLoss: 1.630594\n",
      "Train Epoch: 2 [0/500\t(1%)]\tLoss: 1.429597\n",
      "Train Epoch: 2 [400/500\t(81%)]\tLoss: 1.524068\n",
      "Train Epoch: 3 [0/500\t(1%)]\tLoss: 1.248978\n",
      "Train Epoch: 3 [400/500\t(81%)]\tLoss: 1.512250\n",
      "Train Epoch: 4 [0/500\t(1%)]\tLoss: 1.018727\n",
      "Train Epoch: 4 [400/500\t(81%)]\tLoss: 1.378104\n",
      "Train Epoch: 5 [0/500\t(1%)]\tLoss: 1.112652\n",
      "Train Epoch: 5 [400/500\t(81%)]\tLoss: 1.147830\n",
      "\n",
      "Worker 99 ends training in Global Round:7 |\n",
      "\n",
      "Worker 65 starts training in Global Round:7 |\n"
     ]
    },
    {
     "data": {
      "application/vnd.jupyter.widget-view+json": {
       "model_id": "f626ccd41287463aaec2ed4e91f79616",
       "version_major": 2,
       "version_minor": 0
      },
      "text/plain": [
       "HBox(children=(IntProgress(value=0, max=5), HTML(value='')))"
      ]
     },
     "metadata": {},
     "output_type": "display_data"
    },
    {
     "name": "stdout",
     "output_type": "stream",
     "text": [
      "Train Epoch: 1 [0/500\t(1%)]\tLoss: 1.419071\n",
      "Train Epoch: 1 [400/500\t(81%)]\tLoss: 1.595816\n",
      "Train Epoch: 2 [0/500\t(1%)]\tLoss: 1.174418\n",
      "Train Epoch: 2 [400/500\t(81%)]\tLoss: 1.347015\n",
      "Train Epoch: 3 [0/500\t(1%)]\tLoss: 1.136126\n",
      "Train Epoch: 3 [400/500\t(81%)]\tLoss: 1.258841\n",
      "Train Epoch: 4 [0/500\t(1%)]\tLoss: 1.028656\n",
      "Train Epoch: 4 [400/500\t(81%)]\tLoss: 1.307944\n",
      "Train Epoch: 5 [0/500\t(1%)]\tLoss: 1.000033\n",
      "Train Epoch: 5 [400/500\t(81%)]\tLoss: 1.190201\n",
      "\n",
      "Worker 65 ends training in Global Round:7 |\n",
      "\n",
      "Average loss: 1.3700, Accuracy: 4970/10000 (50%)\n",
      "\n",
      "\n",
      "Selected workers\n",
      "\n",
      "[81 97 84 89 67 68 24 55 39 99 83 58 13 29 45]\n",
      "Worker 81 : is  Honest\n",
      "Worker 97 : is  Random_Attacker\n",
      "Worker 84 : is  Honest\n",
      "Worker 89 : is  Random_Attacker\n",
      "Worker 67 : is  Random_Attacker\n",
      "Worker 68 : is  Honest\n",
      "Worker 24 : is  Honest\n",
      "Worker 55 : is  Random_Attacker\n",
      "Worker 39 : is  Honest\n",
      "Worker 99 : is  Honest\n",
      "Worker 83 : is  Honest\n",
      "Worker 58 : is  Honest\n",
      "Worker 13 : is  Random_Attacker\n",
      "Worker 29 : is  Honest\n",
      "Worker 45 : is  Honest\n",
      "\n",
      " | Global Training Round : 8 |\n",
      "\n",
      "\n",
      "Worker 81 starts training in Global Round:8 |\n"
     ]
    },
    {
     "data": {
      "application/vnd.jupyter.widget-view+json": {
       "model_id": "341ee34cd24b45c380b08a2133f89994",
       "version_major": 2,
       "version_minor": 0
      },
      "text/plain": [
       "HBox(children=(IntProgress(value=0, max=5), HTML(value='')))"
      ]
     },
     "metadata": {},
     "output_type": "display_data"
    },
    {
     "name": "stdout",
     "output_type": "stream",
     "text": [
      "Train Epoch: 1 [0/500\t(1%)]\tLoss: 1.249646\n",
      "Train Epoch: 1 [400/500\t(81%)]\tLoss: 1.628421\n",
      "Train Epoch: 2 [0/500\t(1%)]\tLoss: 1.200674\n",
      "Train Epoch: 2 [400/500\t(81%)]\tLoss: 1.177506\n",
      "Train Epoch: 3 [0/500\t(1%)]\tLoss: 1.196936\n",
      "Train Epoch: 3 [400/500\t(81%)]\tLoss: 1.117034\n",
      "Train Epoch: 4 [0/500\t(1%)]\tLoss: 1.225310\n",
      "Train Epoch: 4 [400/500\t(81%)]\tLoss: 1.069711\n",
      "Train Epoch: 5 [0/500\t(1%)]\tLoss: 0.920112\n",
      "Train Epoch: 5 [400/500\t(81%)]\tLoss: 0.947541\n",
      "\n",
      "Worker 81 ends training in Global Round:8 |\n",
      "\n",
      "Worker 97 starts training in Global Round:8 |\n"
     ]
    },
    {
     "data": {
      "application/vnd.jupyter.widget-view+json": {
       "model_id": "0773564e47c140aca48ea8c115967cbe",
       "version_major": 2,
       "version_minor": 0
      },
      "text/plain": [
       "HBox(children=(IntProgress(value=0, max=5), HTML(value='')))"
      ]
     },
     "metadata": {},
     "output_type": "display_data"
    },
    {
     "name": "stdout",
     "output_type": "stream",
     "text": [
      "Train Epoch: 1 [0/500\t(1%)]\tLoss: 1.354001\n",
      "Train Epoch: 1 [400/500\t(81%)]\tLoss: 1.587311\n",
      "Train Epoch: 2 [0/500\t(1%)]\tLoss: 1.197586\n",
      "Train Epoch: 2 [400/500\t(81%)]\tLoss: 1.335797\n",
      "Train Epoch: 3 [0/500\t(1%)]\tLoss: 0.990335\n",
      "Train Epoch: 3 [400/500\t(81%)]\tLoss: 1.346416\n",
      "Train Epoch: 4 [0/500\t(1%)]\tLoss: 1.244780\n",
      "Train Epoch: 4 [400/500\t(81%)]\tLoss: 1.255817\n",
      "Train Epoch: 5 [0/500\t(1%)]\tLoss: 0.885600\n",
      "Train Epoch: 5 [400/500\t(81%)]\tLoss: 1.316524\n",
      "\n",
      "Performed attacks 0\n",
      "\n",
      "===>Random attack started by:  Worker 97  in Global Round:  8\n",
      "Random attack strating: \n",
      "Performed attacks 1\n",
      "Worker 97 ends training in Global Round:8 |\n",
      "\n",
      "Worker 84 starts training in Global Round:8 |\n"
     ]
    },
    {
     "data": {
      "application/vnd.jupyter.widget-view+json": {
       "model_id": "f8dbcb513f104804ac3c6d46d4169f4c",
       "version_major": 2,
       "version_minor": 0
      },
      "text/plain": [
       "HBox(children=(IntProgress(value=0, max=5), HTML(value='')))"
      ]
     },
     "metadata": {},
     "output_type": "display_data"
    },
    {
     "name": "stdout",
     "output_type": "stream",
     "text": [
      "Train Epoch: 1 [0/500\t(1%)]\tLoss: 1.336227\n",
      "Train Epoch: 1 [400/500\t(81%)]\tLoss: 1.725079\n",
      "Train Epoch: 2 [0/500\t(1%)]\tLoss: 1.349319\n",
      "Train Epoch: 2 [400/500\t(81%)]\tLoss: 1.530133\n",
      "Train Epoch: 3 [0/500\t(1%)]\tLoss: 1.076319\n",
      "Train Epoch: 3 [400/500\t(81%)]\tLoss: 1.341215\n",
      "Train Epoch: 4 [0/500\t(1%)]\tLoss: 1.327384\n",
      "Train Epoch: 4 [400/500\t(81%)]\tLoss: 1.228259\n",
      "Train Epoch: 5 [0/500\t(1%)]\tLoss: 1.159571\n",
      "Train Epoch: 5 [400/500\t(81%)]\tLoss: 1.387249\n",
      "\n",
      "Worker 84 ends training in Global Round:8 |\n",
      "\n",
      "Worker 89 starts training in Global Round:8 |\n"
     ]
    },
    {
     "data": {
      "application/vnd.jupyter.widget-view+json": {
       "model_id": "12463fd1bc454ecbaddcace4af1e3b7d",
       "version_major": 2,
       "version_minor": 0
      },
      "text/plain": [
       "HBox(children=(IntProgress(value=0, max=5), HTML(value='')))"
      ]
     },
     "metadata": {},
     "output_type": "display_data"
    },
    {
     "name": "stdout",
     "output_type": "stream",
     "text": [
      "Train Epoch: 1 [0/500\t(1%)]\tLoss: 1.358607\n",
      "Train Epoch: 1 [400/500\t(81%)]\tLoss: 1.711918\n",
      "Train Epoch: 2 [0/500\t(1%)]\tLoss: 1.218837\n",
      "Train Epoch: 2 [400/500\t(81%)]\tLoss: 1.165761\n",
      "Train Epoch: 3 [0/500\t(1%)]\tLoss: 1.162044\n",
      "Train Epoch: 3 [400/500\t(81%)]\tLoss: 0.975445\n",
      "Train Epoch: 4 [0/500\t(1%)]\tLoss: 1.050881\n",
      "Train Epoch: 4 [400/500\t(81%)]\tLoss: 1.187641\n",
      "Train Epoch: 5 [0/500\t(1%)]\tLoss: 1.128355\n",
      "Train Epoch: 5 [400/500\t(81%)]\tLoss: 0.929856\n",
      "\n",
      "Performed attacks 1\n",
      "\n",
      "===>Random attack started by:  Worker 89  in Global Round:  8\n",
      "Random attack strating: \n",
      "Performed attacks 2\n",
      "Worker 89 ends training in Global Round:8 |\n",
      "\n",
      "Worker 67 starts training in Global Round:8 |\n"
     ]
    },
    {
     "data": {
      "application/vnd.jupyter.widget-view+json": {
       "model_id": "72646ed7bf1243cfa984be0678b13cfe",
       "version_major": 2,
       "version_minor": 0
      },
      "text/plain": [
       "HBox(children=(IntProgress(value=0, max=5), HTML(value='')))"
      ]
     },
     "metadata": {},
     "output_type": "display_data"
    },
    {
     "name": "stdout",
     "output_type": "stream",
     "text": [
      "Train Epoch: 1 [0/500\t(1%)]\tLoss: 1.742494\n",
      "Train Epoch: 1 [400/500\t(81%)]\tLoss: 1.599215\n",
      "Train Epoch: 2 [0/500\t(1%)]\tLoss: 1.313818\n",
      "Train Epoch: 2 [400/500\t(81%)]\tLoss: 1.502962\n",
      "Train Epoch: 3 [0/500\t(1%)]\tLoss: 1.301958\n",
      "Train Epoch: 3 [400/500\t(81%)]\tLoss: 1.226178\n",
      "Train Epoch: 4 [0/500\t(1%)]\tLoss: 0.964561\n",
      "Train Epoch: 4 [400/500\t(81%)]\tLoss: 1.211232\n",
      "Train Epoch: 5 [0/500\t(1%)]\tLoss: 1.122566\n",
      "Train Epoch: 5 [400/500\t(81%)]\tLoss: 1.181389\n",
      "\n",
      "Performed attacks 2\n",
      "\n",
      "===>Random attack started by:  Worker 67  in Global Round:  8\n",
      "Random attack strating: \n",
      "Performed attacks 3\n",
      "Worker 67 ends training in Global Round:8 |\n",
      "\n",
      "Worker 68 starts training in Global Round:8 |\n"
     ]
    },
    {
     "data": {
      "application/vnd.jupyter.widget-view+json": {
       "model_id": "847be733b29b4800b4b43aba99c89d97",
       "version_major": 2,
       "version_minor": 0
      },
      "text/plain": [
       "HBox(children=(IntProgress(value=0, max=5), HTML(value='')))"
      ]
     },
     "metadata": {},
     "output_type": "display_data"
    },
    {
     "name": "stdout",
     "output_type": "stream",
     "text": [
      "Train Epoch: 1 [0/500\t(1%)]\tLoss: 1.728169\n",
      "Train Epoch: 1 [400/500\t(81%)]\tLoss: 1.552075\n",
      "Train Epoch: 2 [0/500\t(1%)]\tLoss: 1.214957\n",
      "Train Epoch: 2 [400/500\t(81%)]\tLoss: 1.401219\n",
      "Train Epoch: 3 [0/500\t(1%)]\tLoss: 1.115134\n",
      "Train Epoch: 3 [400/500\t(81%)]\tLoss: 1.377761\n",
      "Train Epoch: 4 [0/500\t(1%)]\tLoss: 1.106848\n",
      "Train Epoch: 4 [400/500\t(81%)]\tLoss: 1.479849\n",
      "Train Epoch: 5 [0/500\t(1%)]\tLoss: 0.977624\n",
      "Train Epoch: 5 [400/500\t(81%)]\tLoss: 1.068897\n",
      "\n",
      "Worker 68 ends training in Global Round:8 |\n",
      "\n",
      "Worker 24 starts training in Global Round:8 |\n"
     ]
    },
    {
     "data": {
      "application/vnd.jupyter.widget-view+json": {
       "model_id": "f6552e07e8654901804ebb273f503a54",
       "version_major": 2,
       "version_minor": 0
      },
      "text/plain": [
       "HBox(children=(IntProgress(value=0, max=5), HTML(value='')))"
      ]
     },
     "metadata": {},
     "output_type": "display_data"
    },
    {
     "name": "stdout",
     "output_type": "stream",
     "text": [
      "Train Epoch: 1 [0/500\t(1%)]\tLoss: 1.151978\n",
      "Train Epoch: 1 [400/500\t(81%)]\tLoss: 1.391618\n",
      "Train Epoch: 2 [0/500\t(1%)]\tLoss: 1.060287\n",
      "Train Epoch: 2 [400/500\t(81%)]\tLoss: 1.357948\n",
      "Train Epoch: 3 [0/500\t(1%)]\tLoss: 1.147647\n",
      "Train Epoch: 3 [400/500\t(81%)]\tLoss: 1.368220\n",
      "Train Epoch: 4 [0/500\t(1%)]\tLoss: 0.936553\n",
      "Train Epoch: 4 [400/500\t(81%)]\tLoss: 1.188767\n",
      "Train Epoch: 5 [0/500\t(1%)]\tLoss: 1.021333\n",
      "Train Epoch: 5 [400/500\t(81%)]\tLoss: 1.205667\n",
      "\n",
      "Worker 24 ends training in Global Round:8 |\n",
      "\n",
      "Worker 55 starts training in Global Round:8 |\n"
     ]
    },
    {
     "data": {
      "application/vnd.jupyter.widget-view+json": {
       "model_id": "fae8210c93824316a816c9003d9f74cc",
       "version_major": 2,
       "version_minor": 0
      },
      "text/plain": [
       "HBox(children=(IntProgress(value=0, max=5), HTML(value='')))"
      ]
     },
     "metadata": {},
     "output_type": "display_data"
    },
    {
     "name": "stdout",
     "output_type": "stream",
     "text": [
      "Train Epoch: 1 [0/500\t(1%)]\tLoss: 1.335955\n",
      "Train Epoch: 1 [400/500\t(81%)]\tLoss: 1.574831\n",
      "Train Epoch: 2 [0/500\t(1%)]\tLoss: 1.215127\n",
      "Train Epoch: 2 [400/500\t(81%)]\tLoss: 1.189300\n",
      "Train Epoch: 3 [0/500\t(1%)]\tLoss: 1.036792\n",
      "Train Epoch: 3 [400/500\t(81%)]\tLoss: 1.312209\n",
      "Train Epoch: 4 [0/500\t(1%)]\tLoss: 1.103278\n",
      "Train Epoch: 4 [400/500\t(81%)]\tLoss: 1.256325\n",
      "Train Epoch: 5 [0/500\t(1%)]\tLoss: 0.931806\n",
      "Train Epoch: 5 [400/500\t(81%)]\tLoss: 1.100208\n",
      "\n",
      "Performed attacks 3\n",
      "\n",
      "===>Random attack started by:  Worker 55  in Global Round:  8\n",
      "Random attack strating: \n",
      "Performed attacks 4\n",
      "Worker 55 ends training in Global Round:8 |\n",
      "\n",
      "Worker 39 starts training in Global Round:8 |\n"
     ]
    },
    {
     "data": {
      "application/vnd.jupyter.widget-view+json": {
       "model_id": "fb422b53d95441b58587cce16da1b3a8",
       "version_major": 2,
       "version_minor": 0
      },
      "text/plain": [
       "HBox(children=(IntProgress(value=0, max=5), HTML(value='')))"
      ]
     },
     "metadata": {},
     "output_type": "display_data"
    },
    {
     "name": "stdout",
     "output_type": "stream",
     "text": [
      "Train Epoch: 1 [0/500\t(1%)]\tLoss: 1.416160\n",
      "Train Epoch: 1 [400/500\t(81%)]\tLoss: 1.375491\n",
      "Train Epoch: 2 [0/500\t(1%)]\tLoss: 1.193382\n",
      "Train Epoch: 2 [400/500\t(81%)]\tLoss: 1.282078\n",
      "Train Epoch: 3 [0/500\t(1%)]\tLoss: 1.170360\n",
      "Train Epoch: 3 [400/500\t(81%)]\tLoss: 1.199706\n",
      "Train Epoch: 4 [0/500\t(1%)]\tLoss: 0.946328\n",
      "Train Epoch: 4 [400/500\t(81%)]\tLoss: 1.305427\n",
      "Train Epoch: 5 [0/500\t(1%)]\tLoss: 1.186539\n",
      "Train Epoch: 5 [400/500\t(81%)]\tLoss: 1.128704\n",
      "\n",
      "Worker 39 ends training in Global Round:8 |\n",
      "\n",
      "Worker 99 starts training in Global Round:8 |\n"
     ]
    },
    {
     "data": {
      "application/vnd.jupyter.widget-view+json": {
       "model_id": "3f22b2785cbb4d7b9ed47b2751fda60f",
       "version_major": 2,
       "version_minor": 0
      },
      "text/plain": [
       "HBox(children=(IntProgress(value=0, max=5), HTML(value='')))"
      ]
     },
     "metadata": {},
     "output_type": "display_data"
    },
    {
     "name": "stdout",
     "output_type": "stream",
     "text": [
      "Train Epoch: 1 [0/500\t(1%)]\tLoss: 1.315710\n",
      "Train Epoch: 1 [400/500\t(81%)]\tLoss: 1.604436\n",
      "Train Epoch: 2 [0/500\t(1%)]\tLoss: 1.131046\n",
      "Train Epoch: 2 [400/500\t(81%)]\tLoss: 1.697981\n",
      "Train Epoch: 3 [0/500\t(1%)]\tLoss: 1.087445\n",
      "Train Epoch: 3 [400/500\t(81%)]\tLoss: 1.197381\n",
      "Train Epoch: 4 [0/500\t(1%)]\tLoss: 0.961183\n",
      "Train Epoch: 4 [400/500\t(81%)]\tLoss: 1.112100\n",
      "Train Epoch: 5 [0/500\t(1%)]\tLoss: 0.949737\n",
      "Train Epoch: 5 [400/500\t(81%)]\tLoss: 1.204434\n",
      "\n",
      "Worker 99 ends training in Global Round:8 |\n",
      "\n",
      "Worker 83 starts training in Global Round:8 |\n"
     ]
    },
    {
     "data": {
      "application/vnd.jupyter.widget-view+json": {
       "model_id": "ca443c377b8c44949a3d775e091b5372",
       "version_major": 2,
       "version_minor": 0
      },
      "text/plain": [
       "HBox(children=(IntProgress(value=0, max=5), HTML(value='')))"
      ]
     },
     "metadata": {},
     "output_type": "display_data"
    },
    {
     "name": "stdout",
     "output_type": "stream",
     "text": [
      "Train Epoch: 1 [0/500\t(1%)]\tLoss: 1.610797\n",
      "Train Epoch: 1 [400/500\t(81%)]\tLoss: 1.287044\n",
      "Train Epoch: 2 [0/500\t(1%)]\tLoss: 1.179591\n",
      "Train Epoch: 2 [400/500\t(81%)]\tLoss: 1.127439\n",
      "Train Epoch: 3 [0/500\t(1%)]\tLoss: 1.171471\n",
      "Train Epoch: 3 [400/500\t(81%)]\tLoss: 1.337372\n",
      "Train Epoch: 4 [0/500\t(1%)]\tLoss: 1.175776\n",
      "Train Epoch: 4 [400/500\t(81%)]\tLoss: 1.435291\n",
      "Train Epoch: 5 [0/500\t(1%)]\tLoss: 1.125358\n",
      "Train Epoch: 5 [400/500\t(81%)]\tLoss: 1.227521\n",
      "\n",
      "Worker 83 ends training in Global Round:8 |\n",
      "\n",
      "Worker 58 starts training in Global Round:8 |\n"
     ]
    },
    {
     "data": {
      "application/vnd.jupyter.widget-view+json": {
       "model_id": "57a4fb3c611d443dbc9f4980e746afe3",
       "version_major": 2,
       "version_minor": 0
      },
      "text/plain": [
       "HBox(children=(IntProgress(value=0, max=5), HTML(value='')))"
      ]
     },
     "metadata": {},
     "output_type": "display_data"
    },
    {
     "name": "stdout",
     "output_type": "stream",
     "text": [
      "Train Epoch: 1 [0/500\t(1%)]\tLoss: 1.277928\n",
      "Train Epoch: 1 [400/500\t(81%)]\tLoss: 1.298271\n",
      "Train Epoch: 2 [0/500\t(1%)]\tLoss: 1.308224\n",
      "Train Epoch: 2 [400/500\t(81%)]\tLoss: 1.466208\n",
      "Train Epoch: 3 [0/500\t(1%)]\tLoss: 1.143655\n",
      "Train Epoch: 3 [400/500\t(81%)]\tLoss: 1.427964\n",
      "Train Epoch: 4 [0/500\t(1%)]\tLoss: 0.981894\n",
      "Train Epoch: 4 [400/500\t(81%)]\tLoss: 1.380280\n",
      "Train Epoch: 5 [0/500\t(1%)]\tLoss: 1.020400\n",
      "Train Epoch: 5 [400/500\t(81%)]\tLoss: 0.982456\n",
      "\n",
      "Worker 58 ends training in Global Round:8 |\n",
      "\n",
      "Worker 13 starts training in Global Round:8 |\n"
     ]
    },
    {
     "data": {
      "application/vnd.jupyter.widget-view+json": {
       "model_id": "06abcee20c3b4382ab46c04b55b49bce",
       "version_major": 2,
       "version_minor": 0
      },
      "text/plain": [
       "HBox(children=(IntProgress(value=0, max=5), HTML(value='')))"
      ]
     },
     "metadata": {},
     "output_type": "display_data"
    },
    {
     "name": "stdout",
     "output_type": "stream",
     "text": [
      "Train Epoch: 1 [0/500\t(1%)]\tLoss: 1.302913\n",
      "Train Epoch: 1 [400/500\t(81%)]\tLoss: 1.454129\n",
      "Train Epoch: 2 [0/500\t(1%)]\tLoss: 1.172048\n",
      "Train Epoch: 2 [400/500\t(81%)]\tLoss: 1.313112\n",
      "Train Epoch: 3 [0/500\t(1%)]\tLoss: 1.026999\n",
      "Train Epoch: 3 [400/500\t(81%)]\tLoss: 1.179735\n",
      "Train Epoch: 4 [0/500\t(1%)]\tLoss: 1.086039\n",
      "Train Epoch: 4 [400/500\t(81%)]\tLoss: 1.423374\n",
      "Train Epoch: 5 [0/500\t(1%)]\tLoss: 1.046385\n",
      "Train Epoch: 5 [400/500\t(81%)]\tLoss: 1.067136\n",
      "\n",
      "Worker 13 ends training in Global Round:8 |\n",
      "\n",
      "Worker 29 starts training in Global Round:8 |\n"
     ]
    },
    {
     "data": {
      "application/vnd.jupyter.widget-view+json": {
       "model_id": "590bb60dbc0b4b1d81c014c013a499c4",
       "version_major": 2,
       "version_minor": 0
      },
      "text/plain": [
       "HBox(children=(IntProgress(value=0, max=5), HTML(value='')))"
      ]
     },
     "metadata": {},
     "output_type": "display_data"
    },
    {
     "name": "stdout",
     "output_type": "stream",
     "text": [
      "Train Epoch: 1 [0/500\t(1%)]\tLoss: 1.381274\n",
      "Train Epoch: 1 [400/500\t(81%)]\tLoss: 1.237436\n",
      "Train Epoch: 2 [0/500\t(1%)]\tLoss: 1.214740\n",
      "Train Epoch: 2 [400/500\t(81%)]\tLoss: 1.290001\n",
      "Train Epoch: 3 [0/500\t(1%)]\tLoss: 1.117620\n",
      "Train Epoch: 3 [400/500\t(81%)]\tLoss: 1.172991\n",
      "Train Epoch: 4 [0/500\t(1%)]\tLoss: 0.898427\n",
      "Train Epoch: 4 [400/500\t(81%)]\tLoss: 1.081720\n",
      "Train Epoch: 5 [0/500\t(1%)]\tLoss: 0.831451\n",
      "Train Epoch: 5 [400/500\t(81%)]\tLoss: 1.110171\n",
      "\n",
      "Worker 29 ends training in Global Round:8 |\n",
      "\n",
      "Worker 45 starts training in Global Round:8 |\n"
     ]
    },
    {
     "data": {
      "application/vnd.jupyter.widget-view+json": {
       "model_id": "ddac898e744a4c3abc11bde1815447f3",
       "version_major": 2,
       "version_minor": 0
      },
      "text/plain": [
       "HBox(children=(IntProgress(value=0, max=5), HTML(value='')))"
      ]
     },
     "metadata": {},
     "output_type": "display_data"
    },
    {
     "name": "stdout",
     "output_type": "stream",
     "text": [
      "Train Epoch: 1 [0/500\t(1%)]\tLoss: 1.467028\n",
      "Train Epoch: 1 [400/500\t(81%)]\tLoss: 1.281467\n",
      "Train Epoch: 2 [0/500\t(1%)]\tLoss: 1.106226\n",
      "Train Epoch: 2 [400/500\t(81%)]\tLoss: 1.320069\n",
      "Train Epoch: 3 [0/500\t(1%)]\tLoss: 1.167801\n",
      "Train Epoch: 3 [400/500\t(81%)]\tLoss: 1.254425\n",
      "Train Epoch: 4 [0/500\t(1%)]\tLoss: 1.075523\n",
      "Train Epoch: 4 [400/500\t(81%)]\tLoss: 1.679459\n",
      "Train Epoch: 5 [0/500\t(1%)]\tLoss: 1.245953\n",
      "Train Epoch: 5 [400/500\t(81%)]\tLoss: 1.357401\n",
      "\n",
      "Worker 45 ends training in Global Round:8 |\n",
      "\n",
      "Average loss: 1.3806, Accuracy: 5157/10000 (52%)\n",
      "\n",
      "\n",
      "Selected workers\n",
      "\n",
      "[43 73 60 83 13 41 30 42 99 80 29 58 22 38 31]\n",
      "Worker 43 : is  Honest\n",
      "Worker 73 : is  Honest\n",
      "Worker 60 : is  Honest\n",
      "Worker 83 : is  Honest\n",
      "Worker 13 : is  Random_Attacker\n",
      "Worker 41 : is  Random_Attacker\n",
      "Worker 30 : is  Honest\n",
      "Worker 42 : is  Honest\n",
      "Worker 99 : is  Honest\n",
      "Worker 80 : is  Honest\n",
      "Worker 29 : is  Honest\n",
      "Worker 58 : is  Honest\n",
      "Worker 22 : is  Random_Attacker\n",
      "Worker 38 : is  Random_Attacker\n",
      "Worker 31 : is  Random_Attacker\n",
      "\n",
      " | Global Training Round : 9 |\n",
      "\n",
      "\n",
      "Worker 43 starts training in Global Round:9 |\n"
     ]
    },
    {
     "data": {
      "application/vnd.jupyter.widget-view+json": {
       "model_id": "c247e12ee57941cca9abba18b1167f8e",
       "version_major": 2,
       "version_minor": 0
      },
      "text/plain": [
       "HBox(children=(IntProgress(value=0, max=5), HTML(value='')))"
      ]
     },
     "metadata": {},
     "output_type": "display_data"
    },
    {
     "name": "stdout",
     "output_type": "stream",
     "text": [
      "Train Epoch: 1 [0/500\t(1%)]\tLoss: 1.361768\n",
      "Train Epoch: 1 [400/500\t(81%)]\tLoss: 1.606363\n",
      "Train Epoch: 2 [0/500\t(1%)]\tLoss: 1.029100\n",
      "Train Epoch: 2 [400/500\t(81%)]\tLoss: 1.195320\n",
      "Train Epoch: 3 [0/500\t(1%)]\tLoss: 1.220078\n",
      "Train Epoch: 3 [400/500\t(81%)]\tLoss: 1.153916\n",
      "Train Epoch: 4 [0/500\t(1%)]\tLoss: 0.962586\n",
      "Train Epoch: 4 [400/500\t(81%)]\tLoss: 1.015138\n",
      "Train Epoch: 5 [0/500\t(1%)]\tLoss: 0.968552\n",
      "Train Epoch: 5 [400/500\t(81%)]\tLoss: 0.951326\n",
      "\n",
      "Worker 43 ends training in Global Round:9 |\n",
      "\n",
      "Worker 73 starts training in Global Round:9 |\n"
     ]
    },
    {
     "data": {
      "application/vnd.jupyter.widget-view+json": {
       "model_id": "26d1b54b4c314c85bcec5cc3e1d49b78",
       "version_major": 2,
       "version_minor": 0
      },
      "text/plain": [
       "HBox(children=(IntProgress(value=0, max=5), HTML(value='')))"
      ]
     },
     "metadata": {},
     "output_type": "display_data"
    },
    {
     "name": "stdout",
     "output_type": "stream",
     "text": [
      "Train Epoch: 1 [0/500\t(1%)]\tLoss: 1.133205\n",
      "Train Epoch: 1 [400/500\t(81%)]\tLoss: 1.270614\n",
      "Train Epoch: 2 [0/500\t(1%)]\tLoss: 1.091536\n",
      "Train Epoch: 2 [400/500\t(81%)]\tLoss: 1.606763\n",
      "Train Epoch: 3 [0/500\t(1%)]\tLoss: 1.172934\n",
      "Train Epoch: 3 [400/500\t(81%)]\tLoss: 1.389586\n",
      "Train Epoch: 4 [0/500\t(1%)]\tLoss: 1.140131\n",
      "Train Epoch: 4 [400/500\t(81%)]\tLoss: 1.110091\n",
      "Train Epoch: 5 [0/500\t(1%)]\tLoss: 1.105788\n",
      "Train Epoch: 5 [400/500\t(81%)]\tLoss: 0.998282\n",
      "\n",
      "Worker 73 ends training in Global Round:9 |\n",
      "\n",
      "Worker 60 starts training in Global Round:9 |\n"
     ]
    },
    {
     "data": {
      "application/vnd.jupyter.widget-view+json": {
       "model_id": "499083efb8984001a4b9c4625d2639fa",
       "version_major": 2,
       "version_minor": 0
      },
      "text/plain": [
       "HBox(children=(IntProgress(value=0, max=5), HTML(value='')))"
      ]
     },
     "metadata": {},
     "output_type": "display_data"
    },
    {
     "name": "stdout",
     "output_type": "stream",
     "text": [
      "Train Epoch: 1 [0/500\t(1%)]\tLoss: 1.413142\n",
      "Train Epoch: 1 [400/500\t(81%)]\tLoss: 1.450199\n",
      "Train Epoch: 2 [0/500\t(1%)]\tLoss: 1.309233\n",
      "Train Epoch: 2 [400/500\t(81%)]\tLoss: 1.213697\n",
      "Train Epoch: 3 [0/500\t(1%)]\tLoss: 1.096738\n",
      "Train Epoch: 3 [400/500\t(81%)]\tLoss: 1.092270\n",
      "Train Epoch: 4 [0/500\t(1%)]\tLoss: 0.916141\n",
      "Train Epoch: 4 [400/500\t(81%)]\tLoss: 1.464855\n",
      "Train Epoch: 5 [0/500\t(1%)]\tLoss: 0.969895\n",
      "Train Epoch: 5 [400/500\t(81%)]\tLoss: 1.200118\n",
      "\n",
      "Worker 60 ends training in Global Round:9 |\n",
      "\n",
      "Worker 83 starts training in Global Round:9 |\n"
     ]
    },
    {
     "data": {
      "application/vnd.jupyter.widget-view+json": {
       "model_id": "1c44d01fbec844e4bef3e26ab30b8d8a",
       "version_major": 2,
       "version_minor": 0
      },
      "text/plain": [
       "HBox(children=(IntProgress(value=0, max=5), HTML(value='')))"
      ]
     },
     "metadata": {},
     "output_type": "display_data"
    },
    {
     "name": "stdout",
     "output_type": "stream",
     "text": [
      "Train Epoch: 1 [0/500\t(1%)]\tLoss: 1.123787\n",
      "Train Epoch: 1 [400/500\t(81%)]\tLoss: 1.223685\n",
      "Train Epoch: 2 [0/500\t(1%)]\tLoss: 1.119579\n",
      "Train Epoch: 2 [400/500\t(81%)]\tLoss: 1.240454\n",
      "Train Epoch: 3 [0/500\t(1%)]\tLoss: 0.977983\n",
      "Train Epoch: 3 [400/500\t(81%)]\tLoss: 1.240906\n",
      "Train Epoch: 4 [0/500\t(1%)]\tLoss: 0.960729\n",
      "Train Epoch: 4 [400/500\t(81%)]\tLoss: 1.380105\n",
      "Train Epoch: 5 [0/500\t(1%)]\tLoss: 1.013317\n",
      "Train Epoch: 5 [400/500\t(81%)]\tLoss: 1.117048\n",
      "\n",
      "Worker 83 ends training in Global Round:9 |\n",
      "\n",
      "Worker 13 starts training in Global Round:9 |\n"
     ]
    },
    {
     "data": {
      "application/vnd.jupyter.widget-view+json": {
       "model_id": "14177ebe1f314360aabe4bc574858332",
       "version_major": 2,
       "version_minor": 0
      },
      "text/plain": [
       "HBox(children=(IntProgress(value=0, max=5), HTML(value='')))"
      ]
     },
     "metadata": {},
     "output_type": "display_data"
    },
    {
     "name": "stdout",
     "output_type": "stream",
     "text": [
      "Train Epoch: 1 [0/500\t(1%)]\tLoss: 1.279115\n",
      "Train Epoch: 1 [400/500\t(81%)]\tLoss: 1.378350\n",
      "Train Epoch: 2 [0/500\t(1%)]\tLoss: 1.141571\n",
      "Train Epoch: 2 [400/500\t(81%)]\tLoss: 1.175184\n",
      "Train Epoch: 3 [0/500\t(1%)]\tLoss: 1.102530\n",
      "Train Epoch: 3 [400/500\t(81%)]\tLoss: 1.115139\n",
      "Train Epoch: 4 [0/500\t(1%)]\tLoss: 0.878378\n",
      "Train Epoch: 4 [400/500\t(81%)]\tLoss: 1.106093\n",
      "Train Epoch: 5 [0/500\t(1%)]\tLoss: 0.909043\n",
      "Train Epoch: 5 [400/500\t(81%)]\tLoss: 1.096307\n",
      "\n",
      "Performed attacks 0\n",
      "\n",
      "===>Random attack started by:  Worker 13  in Global Round:  9\n",
      "Random attack strating: \n",
      "Performed attacks 1\n",
      "Worker 13 ends training in Global Round:9 |\n",
      "\n",
      "Worker 41 starts training in Global Round:9 |\n"
     ]
    },
    {
     "data": {
      "application/vnd.jupyter.widget-view+json": {
       "model_id": "be1e8b0afe364d6d941f5285742dc1c8",
       "version_major": 2,
       "version_minor": 0
      },
      "text/plain": [
       "HBox(children=(IntProgress(value=0, max=5), HTML(value='')))"
      ]
     },
     "metadata": {},
     "output_type": "display_data"
    },
    {
     "name": "stdout",
     "output_type": "stream",
     "text": [
      "Train Epoch: 1 [0/500\t(1%)]\tLoss: 1.083712\n",
      "Train Epoch: 1 [400/500\t(81%)]\tLoss: 1.565306\n",
      "Train Epoch: 2 [0/500\t(1%)]\tLoss: 1.210983\n",
      "Train Epoch: 2 [400/500\t(81%)]\tLoss: 1.302079\n",
      "Train Epoch: 3 [0/500\t(1%)]\tLoss: 1.001300\n",
      "Train Epoch: 3 [400/500\t(81%)]\tLoss: 1.288858\n",
      "Train Epoch: 4 [0/500\t(1%)]\tLoss: 1.020401\n",
      "Train Epoch: 4 [400/500\t(81%)]\tLoss: 1.157512\n",
      "Train Epoch: 5 [0/500\t(1%)]\tLoss: 0.947494\n",
      "Train Epoch: 5 [400/500\t(81%)]\tLoss: 1.145621\n",
      "\n",
      "Performed attacks 1\n",
      "\n",
      "===>Random attack started by:  Worker 41  in Global Round:  9\n",
      "Random attack strating: \n",
      "Performed attacks 2\n",
      "Worker 41 ends training in Global Round:9 |\n",
      "\n",
      "Worker 30 starts training in Global Round:9 |\n"
     ]
    },
    {
     "data": {
      "application/vnd.jupyter.widget-view+json": {
       "model_id": "ce6bf642539c48889d5254f5cc6be1e4",
       "version_major": 2,
       "version_minor": 0
      },
      "text/plain": [
       "HBox(children=(IntProgress(value=0, max=5), HTML(value='')))"
      ]
     },
     "metadata": {},
     "output_type": "display_data"
    },
    {
     "name": "stdout",
     "output_type": "stream",
     "text": [
      "Train Epoch: 1 [0/500\t(1%)]\tLoss: 1.341120\n",
      "Train Epoch: 1 [400/500\t(81%)]\tLoss: 1.425009\n",
      "Train Epoch: 2 [0/500\t(1%)]\tLoss: 1.125466\n",
      "Train Epoch: 2 [400/500\t(81%)]\tLoss: 1.101354\n",
      "Train Epoch: 3 [0/500\t(1%)]\tLoss: 0.869448\n",
      "Train Epoch: 3 [400/500\t(81%)]\tLoss: 1.577486\n",
      "Train Epoch: 4 [0/500\t(1%)]\tLoss: 1.080233\n",
      "Train Epoch: 4 [400/500\t(81%)]\tLoss: 0.984122\n",
      "Train Epoch: 5 [0/500\t(1%)]\tLoss: 0.903171\n",
      "Train Epoch: 5 [400/500\t(81%)]\tLoss: 1.020020\n",
      "\n",
      "Worker 30 ends training in Global Round:9 |\n",
      "\n",
      "Worker 42 starts training in Global Round:9 |\n"
     ]
    },
    {
     "data": {
      "application/vnd.jupyter.widget-view+json": {
       "model_id": "92cf239bbac347408b7eda225e8638bd",
       "version_major": 2,
       "version_minor": 0
      },
      "text/plain": [
       "HBox(children=(IntProgress(value=0, max=5), HTML(value='')))"
      ]
     },
     "metadata": {},
     "output_type": "display_data"
    },
    {
     "name": "stdout",
     "output_type": "stream",
     "text": [
      "Train Epoch: 1 [0/500\t(1%)]\tLoss: 1.142793\n",
      "Train Epoch: 1 [400/500\t(81%)]\tLoss: 1.354950\n",
      "Train Epoch: 2 [0/500\t(1%)]\tLoss: 1.121619\n",
      "Train Epoch: 2 [400/500\t(81%)]\tLoss: 1.368204\n",
      "Train Epoch: 3 [0/500\t(1%)]\tLoss: 1.110789\n",
      "Train Epoch: 3 [400/500\t(81%)]\tLoss: 1.193258\n",
      "Train Epoch: 4 [0/500\t(1%)]\tLoss: 0.830051\n",
      "Train Epoch: 4 [400/500\t(81%)]\tLoss: 1.189107\n",
      "Train Epoch: 5 [0/500\t(1%)]\tLoss: 0.854832\n",
      "Train Epoch: 5 [400/500\t(81%)]\tLoss: 1.064109\n",
      "\n",
      "Worker 42 ends training in Global Round:9 |\n",
      "\n",
      "Worker 99 starts training in Global Round:9 |\n"
     ]
    },
    {
     "data": {
      "application/vnd.jupyter.widget-view+json": {
       "model_id": "0dd8f91786a949eab772c3b8db2742e2",
       "version_major": 2,
       "version_minor": 0
      },
      "text/plain": [
       "HBox(children=(IntProgress(value=0, max=5), HTML(value='')))"
      ]
     },
     "metadata": {},
     "output_type": "display_data"
    },
    {
     "name": "stdout",
     "output_type": "stream",
     "text": [
      "Train Epoch: 1 [0/500\t(1%)]\tLoss: 1.031431\n",
      "Train Epoch: 1 [400/500\t(81%)]\tLoss: 1.505004\n",
      "Train Epoch: 2 [0/500\t(1%)]\tLoss: 1.082062\n",
      "Train Epoch: 2 [400/500\t(81%)]\tLoss: 1.141047\n",
      "Train Epoch: 3 [0/500\t(1%)]\tLoss: 1.064173\n",
      "Train Epoch: 3 [400/500\t(81%)]\tLoss: 1.146461\n",
      "Train Epoch: 4 [0/500\t(1%)]\tLoss: 1.154319\n",
      "Train Epoch: 4 [400/500\t(81%)]\tLoss: 1.145019\n",
      "Train Epoch: 5 [0/500\t(1%)]\tLoss: 1.096889\n",
      "Train Epoch: 5 [400/500\t(81%)]\tLoss: 1.026012\n",
      "\n",
      "Worker 99 ends training in Global Round:9 |\n",
      "\n",
      "Worker 80 starts training in Global Round:9 |\n"
     ]
    },
    {
     "data": {
      "application/vnd.jupyter.widget-view+json": {
       "model_id": "d9dc80de7aad436aa52cb32ee60737c6",
       "version_major": 2,
       "version_minor": 0
      },
      "text/plain": [
       "HBox(children=(IntProgress(value=0, max=5), HTML(value='')))"
      ]
     },
     "metadata": {},
     "output_type": "display_data"
    },
    {
     "name": "stdout",
     "output_type": "stream",
     "text": [
      "Train Epoch: 1 [0/500\t(1%)]\tLoss: 1.495013\n",
      "Train Epoch: 1 [400/500\t(81%)]\tLoss: 1.379331\n",
      "Train Epoch: 2 [0/500\t(1%)]\tLoss: 1.061209\n",
      "Train Epoch: 2 [400/500\t(81%)]\tLoss: 1.227444\n",
      "Train Epoch: 3 [0/500\t(1%)]\tLoss: 0.943934\n",
      "Train Epoch: 3 [400/500\t(81%)]\tLoss: 1.329751\n",
      "Train Epoch: 4 [0/500\t(1%)]\tLoss: 0.882360\n",
      "Train Epoch: 4 [400/500\t(81%)]\tLoss: 1.199360\n",
      "Train Epoch: 5 [0/500\t(1%)]\tLoss: 0.982483\n",
      "Train Epoch: 5 [400/500\t(81%)]\tLoss: 1.124784\n",
      "\n",
      "Worker 80 ends training in Global Round:9 |\n",
      "\n",
      "Worker 29 starts training in Global Round:9 |\n"
     ]
    },
    {
     "data": {
      "application/vnd.jupyter.widget-view+json": {
       "model_id": "040e9b43da644273a4b3f7a26f584802",
       "version_major": 2,
       "version_minor": 0
      },
      "text/plain": [
       "HBox(children=(IntProgress(value=0, max=5), HTML(value='')))"
      ]
     },
     "metadata": {},
     "output_type": "display_data"
    },
    {
     "name": "stdout",
     "output_type": "stream",
     "text": [
      "Train Epoch: 1 [0/500\t(1%)]\tLoss: 1.313030\n",
      "Train Epoch: 1 [400/500\t(81%)]\tLoss: 1.266285\n",
      "Train Epoch: 2 [0/500\t(1%)]\tLoss: 1.050656\n",
      "Train Epoch: 2 [400/500\t(81%)]\tLoss: 1.232153\n",
      "Train Epoch: 3 [0/500\t(1%)]\tLoss: 0.860751\n",
      "Train Epoch: 3 [400/500\t(81%)]\tLoss: 1.062533\n",
      "Train Epoch: 4 [0/500\t(1%)]\tLoss: 0.864248\n",
      "Train Epoch: 4 [400/500\t(81%)]\tLoss: 0.837023\n",
      "Train Epoch: 5 [0/500\t(1%)]\tLoss: 0.828674\n",
      "Train Epoch: 5 [400/500\t(81%)]\tLoss: 1.104648\n",
      "\n",
      "Worker 29 ends training in Global Round:9 |\n",
      "\n",
      "Worker 58 starts training in Global Round:9 |\n"
     ]
    },
    {
     "data": {
      "application/vnd.jupyter.widget-view+json": {
       "model_id": "1e3ff967d552481eb0e75d4a6bd67c55",
       "version_major": 2,
       "version_minor": 0
      },
      "text/plain": [
       "HBox(children=(IntProgress(value=0, max=5), HTML(value='')))"
      ]
     },
     "metadata": {},
     "output_type": "display_data"
    },
    {
     "name": "stdout",
     "output_type": "stream",
     "text": [
      "Train Epoch: 1 [0/500\t(1%)]\tLoss: 1.139934\n",
      "Train Epoch: 1 [400/500\t(81%)]\tLoss: 1.487861\n",
      "Train Epoch: 2 [0/500\t(1%)]\tLoss: 0.997154\n",
      "Train Epoch: 2 [400/500\t(81%)]\tLoss: 1.234026\n",
      "Train Epoch: 3 [0/500\t(1%)]\tLoss: 1.110251\n",
      "Train Epoch: 3 [400/500\t(81%)]\tLoss: 1.376158\n",
      "Train Epoch: 4 [0/500\t(1%)]\tLoss: 1.115115\n",
      "Train Epoch: 4 [400/500\t(81%)]\tLoss: 1.170614\n",
      "Train Epoch: 5 [0/500\t(1%)]\tLoss: 0.902137\n",
      "Train Epoch: 5 [400/500\t(81%)]\tLoss: 0.880423\n",
      "\n",
      "Worker 58 ends training in Global Round:9 |\n",
      "\n",
      "Worker 22 starts training in Global Round:9 |\n"
     ]
    },
    {
     "data": {
      "application/vnd.jupyter.widget-view+json": {
       "model_id": "c93db15b9eb047c287ffe00b2f75671a",
       "version_major": 2,
       "version_minor": 0
      },
      "text/plain": [
       "HBox(children=(IntProgress(value=0, max=5), HTML(value='')))"
      ]
     },
     "metadata": {},
     "output_type": "display_data"
    },
    {
     "name": "stdout",
     "output_type": "stream",
     "text": [
      "Train Epoch: 1 [0/500\t(1%)]\tLoss: 1.425862\n",
      "Train Epoch: 1 [400/500\t(81%)]\tLoss: 1.659047\n",
      "Train Epoch: 2 [0/500\t(1%)]\tLoss: 1.100118\n",
      "Train Epoch: 2 [400/500\t(81%)]\tLoss: 1.351026\n",
      "Train Epoch: 3 [0/500\t(1%)]\tLoss: 1.321470\n",
      "Train Epoch: 3 [400/500\t(81%)]\tLoss: 1.256659\n",
      "Train Epoch: 4 [0/500\t(1%)]\tLoss: 1.093172\n",
      "Train Epoch: 4 [400/500\t(81%)]\tLoss: 1.015603\n",
      "Train Epoch: 5 [0/500\t(1%)]\tLoss: 1.081500\n",
      "Train Epoch: 5 [400/500\t(81%)]\tLoss: 1.254838\n",
      "\n",
      "Performed attacks 2\n",
      "\n",
      "===>Random attack started by:  Worker 22  in Global Round:  9\n",
      "Random attack strating: \n",
      "Performed attacks 3\n",
      "Worker 22 ends training in Global Round:9 |\n",
      "\n",
      "Worker 38 starts training in Global Round:9 |\n"
     ]
    },
    {
     "data": {
      "application/vnd.jupyter.widget-view+json": {
       "model_id": "d150217d633247889fc32f21110c6a4a",
       "version_major": 2,
       "version_minor": 0
      },
      "text/plain": [
       "HBox(children=(IntProgress(value=0, max=5), HTML(value='')))"
      ]
     },
     "metadata": {},
     "output_type": "display_data"
    },
    {
     "name": "stdout",
     "output_type": "stream",
     "text": [
      "Train Epoch: 1 [0/500\t(1%)]\tLoss: 1.177947\n",
      "Train Epoch: 1 [400/500\t(81%)]\tLoss: 1.417597\n",
      "Train Epoch: 2 [0/500\t(1%)]\tLoss: 1.146683\n",
      "Train Epoch: 2 [400/500\t(81%)]\tLoss: 1.243597\n",
      "Train Epoch: 3 [0/500\t(1%)]\tLoss: 1.126695\n",
      "Train Epoch: 3 [400/500\t(81%)]\tLoss: 1.028714\n",
      "Train Epoch: 4 [0/500\t(1%)]\tLoss: 0.880790\n",
      "Train Epoch: 4 [400/500\t(81%)]\tLoss: 0.973487\n",
      "Train Epoch: 5 [0/500\t(1%)]\tLoss: 0.847198\n",
      "Train Epoch: 5 [400/500\t(81%)]\tLoss: 0.994835\n",
      "\n",
      "Performed attacks 3\n",
      "\n",
      "===>Random attack started by:  Worker 38  in Global Round:  9\n",
      "Random attack strating: \n",
      "Performed attacks 4\n",
      "Worker 38 ends training in Global Round:9 |\n",
      "\n",
      "Worker 31 starts training in Global Round:9 |\n"
     ]
    },
    {
     "data": {
      "application/vnd.jupyter.widget-view+json": {
       "model_id": "00c878dde392466f8a23afef9a13b72a",
       "version_major": 2,
       "version_minor": 0
      },
      "text/plain": [
       "HBox(children=(IntProgress(value=0, max=5), HTML(value='')))"
      ]
     },
     "metadata": {},
     "output_type": "display_data"
    },
    {
     "name": "stdout",
     "output_type": "stream",
     "text": [
      "Train Epoch: 1 [0/500\t(1%)]\tLoss: 1.239318\n",
      "Train Epoch: 1 [400/500\t(81%)]\tLoss: 1.584076\n",
      "Train Epoch: 2 [0/500\t(1%)]\tLoss: 1.103119\n",
      "Train Epoch: 2 [400/500\t(81%)]\tLoss: 1.230373\n",
      "Train Epoch: 3 [0/500\t(1%)]\tLoss: 1.118112\n",
      "Train Epoch: 3 [400/500\t(81%)]\tLoss: 1.067171\n",
      "Train Epoch: 4 [0/500\t(1%)]\tLoss: 0.835995\n",
      "Train Epoch: 4 [400/500\t(81%)]\tLoss: 0.976297\n",
      "Train Epoch: 5 [0/500\t(1%)]\tLoss: 0.735170\n",
      "Train Epoch: 5 [400/500\t(81%)]\tLoss: 0.897370\n",
      "\n",
      "Worker 31 ends training in Global Round:9 |\n",
      "\n",
      "Average loss: 1.3023, Accuracy: 5465/10000 (55%)\n",
      "\n",
      "\n",
      "Selected workers\n",
      "\n",
      "[ 7 51 21 12 96 29 55 74 26 36 52 73 99  2 75]\n",
      "Worker 7 : is  Honest\n",
      "Worker 51 : is  Random_Attacker\n",
      "Worker 21 : is  Random_Attacker\n",
      "Worker 12 : is  Random_Attacker\n",
      "Worker 96 : is  Honest\n",
      "Worker 29 : is  Honest\n",
      "Worker 55 : is  Random_Attacker\n",
      "Worker 74 : is  Honest\n",
      "Worker 26 : is  Honest\n",
      "Worker 36 : is  Honest\n",
      "Worker 52 : is  Random_Attacker\n",
      "Worker 73 : is  Honest\n",
      "Worker 99 : is  Honest\n",
      "Worker 2 : is  Honest\n",
      "Worker 75 : is  Random_Attacker\n",
      "\n",
      " | Global Training Round : 10 |\n",
      "\n",
      "\n",
      "Worker 7 starts training in Global Round:10 |\n"
     ]
    },
    {
     "data": {
      "application/vnd.jupyter.widget-view+json": {
       "model_id": "916d84d1f1d84c3e9c866df6e86fbfd4",
       "version_major": 2,
       "version_minor": 0
      },
      "text/plain": [
       "HBox(children=(IntProgress(value=0, max=5), HTML(value='')))"
      ]
     },
     "metadata": {},
     "output_type": "display_data"
    },
    {
     "name": "stdout",
     "output_type": "stream",
     "text": [
      "Train Epoch: 1 [0/500\t(1%)]\tLoss: 1.280714\n",
      "Train Epoch: 1 [400/500\t(81%)]\tLoss: 1.441603\n",
      "Train Epoch: 2 [0/500\t(1%)]\tLoss: 1.116158\n",
      "Train Epoch: 2 [400/500\t(81%)]\tLoss: 1.079894\n",
      "Train Epoch: 3 [0/500\t(1%)]\tLoss: 1.067277\n",
      "Train Epoch: 3 [400/500\t(81%)]\tLoss: 1.018896\n",
      "Train Epoch: 4 [0/500\t(1%)]\tLoss: 0.946884\n",
      "Train Epoch: 4 [400/500\t(81%)]\tLoss: 0.899428\n",
      "Train Epoch: 5 [0/500\t(1%)]\tLoss: 0.917248\n",
      "Train Epoch: 5 [400/500\t(81%)]\tLoss: 0.996827\n",
      "\n",
      "Worker 7 ends training in Global Round:10 |\n",
      "\n",
      "Worker 51 starts training in Global Round:10 |\n"
     ]
    },
    {
     "data": {
      "application/vnd.jupyter.widget-view+json": {
       "model_id": "c08e789306434eef979e916032b94d79",
       "version_major": 2,
       "version_minor": 0
      },
      "text/plain": [
       "HBox(children=(IntProgress(value=0, max=5), HTML(value='')))"
      ]
     },
     "metadata": {},
     "output_type": "display_data"
    },
    {
     "name": "stdout",
     "output_type": "stream",
     "text": [
      "Train Epoch: 1 [0/500\t(1%)]\tLoss: 1.302559\n",
      "Train Epoch: 1 [400/500\t(81%)]\tLoss: 1.308660\n",
      "Train Epoch: 2 [0/500\t(1%)]\tLoss: 1.222088\n",
      "Train Epoch: 2 [400/500\t(81%)]\tLoss: 1.649719\n",
      "Train Epoch: 3 [0/500\t(1%)]\tLoss: 0.977341\n",
      "Train Epoch: 3 [400/500\t(81%)]\tLoss: 1.020808\n",
      "Train Epoch: 4 [0/500\t(1%)]\tLoss: 1.004202\n",
      "Train Epoch: 4 [400/500\t(81%)]\tLoss: 0.987827\n",
      "Train Epoch: 5 [0/500\t(1%)]\tLoss: 1.019073\n",
      "Train Epoch: 5 [400/500\t(81%)]\tLoss: 1.065051\n",
      "\n",
      "Performed attacks 0\n",
      "\n",
      "===>Random attack started by:  Worker 51  in Global Round:  10\n",
      "Random attack strating: \n",
      "Performed attacks 1\n",
      "Worker 51 ends training in Global Round:10 |\n",
      "\n",
      "Worker 21 starts training in Global Round:10 |\n"
     ]
    },
    {
     "data": {
      "application/vnd.jupyter.widget-view+json": {
       "model_id": "ef913e3a378041a2b5311827334b39d4",
       "version_major": 2,
       "version_minor": 0
      },
      "text/plain": [
       "HBox(children=(IntProgress(value=0, max=5), HTML(value='')))"
      ]
     },
     "metadata": {},
     "output_type": "display_data"
    },
    {
     "name": "stdout",
     "output_type": "stream",
     "text": [
      "Train Epoch: 1 [0/500\t(1%)]\tLoss: 1.302577\n",
      "Train Epoch: 1 [400/500\t(81%)]\tLoss: 1.389210\n",
      "Train Epoch: 2 [0/500\t(1%)]\tLoss: 1.313503\n",
      "Train Epoch: 2 [400/500\t(81%)]\tLoss: 1.259036\n",
      "Train Epoch: 3 [0/500\t(1%)]\tLoss: 1.309610\n",
      "Train Epoch: 3 [400/500\t(81%)]\tLoss: 1.183931\n",
      "Train Epoch: 4 [0/500\t(1%)]\tLoss: 1.042551\n",
      "Train Epoch: 4 [400/500\t(81%)]\tLoss: 1.093721\n",
      "Train Epoch: 5 [0/500\t(1%)]\tLoss: 0.764709\n",
      "Train Epoch: 5 [400/500\t(81%)]\tLoss: 0.946609\n",
      "\n",
      "Performed attacks 1\n",
      "\n",
      "===>Random attack started by:  Worker 21  in Global Round:  10\n",
      "Random attack strating: \n",
      "Performed attacks 2\n",
      "Worker 21 ends training in Global Round:10 |\n",
      "\n",
      "Worker 12 starts training in Global Round:10 |\n"
     ]
    },
    {
     "data": {
      "application/vnd.jupyter.widget-view+json": {
       "model_id": "c963f07a006b45ef9c8aec90cedf2cb7",
       "version_major": 2,
       "version_minor": 0
      },
      "text/plain": [
       "HBox(children=(IntProgress(value=0, max=5), HTML(value='')))"
      ]
     },
     "metadata": {},
     "output_type": "display_data"
    },
    {
     "name": "stdout",
     "output_type": "stream",
     "text": [
      "Train Epoch: 1 [0/500\t(1%)]\tLoss: 1.411604\n",
      "Train Epoch: 1 [400/500\t(81%)]\tLoss: 1.382176\n",
      "Train Epoch: 2 [0/500\t(1%)]\tLoss: 1.186591\n",
      "Train Epoch: 2 [400/500\t(81%)]\tLoss: 1.342623\n",
      "Train Epoch: 3 [0/500\t(1%)]\tLoss: 1.306736\n",
      "Train Epoch: 3 [400/500\t(81%)]\tLoss: 1.418305\n",
      "Train Epoch: 4 [0/500\t(1%)]\tLoss: 1.087626\n",
      "Train Epoch: 4 [400/500\t(81%)]\tLoss: 1.219727\n",
      "Train Epoch: 5 [0/500\t(1%)]\tLoss: 0.878616\n",
      "Train Epoch: 5 [400/500\t(81%)]\tLoss: 1.111326\n",
      "\n",
      "Performed attacks 2\n",
      "\n",
      "===>Random attack started by:  Worker 12  in Global Round:  10\n",
      "Random attack strating: \n",
      "Performed attacks 3\n",
      "Worker 12 ends training in Global Round:10 |\n",
      "\n",
      "Worker 96 starts training in Global Round:10 |\n"
     ]
    },
    {
     "data": {
      "application/vnd.jupyter.widget-view+json": {
       "model_id": "d95fee558ad24acda38e38479a947c94",
       "version_major": 2,
       "version_minor": 0
      },
      "text/plain": [
       "HBox(children=(IntProgress(value=0, max=5), HTML(value='')))"
      ]
     },
     "metadata": {},
     "output_type": "display_data"
    },
    {
     "name": "stdout",
     "output_type": "stream",
     "text": [
      "Train Epoch: 1 [0/500\t(1%)]\tLoss: 1.143422\n",
      "Train Epoch: 1 [400/500\t(81%)]\tLoss: 1.367139\n",
      "Train Epoch: 2 [0/500\t(1%)]\tLoss: 1.100948\n",
      "Train Epoch: 2 [400/500\t(81%)]\tLoss: 1.224755\n",
      "Train Epoch: 3 [0/500\t(1%)]\tLoss: 1.210241\n",
      "Train Epoch: 3 [400/500\t(81%)]\tLoss: 1.077556\n",
      "Train Epoch: 4 [0/500\t(1%)]\tLoss: 0.931530\n",
      "Train Epoch: 4 [400/500\t(81%)]\tLoss: 0.971653\n",
      "Train Epoch: 5 [0/500\t(1%)]\tLoss: 0.876878\n",
      "Train Epoch: 5 [400/500\t(81%)]\tLoss: 0.924660\n",
      "\n",
      "Worker 96 ends training in Global Round:10 |\n",
      "\n",
      "Worker 29 starts training in Global Round:10 |\n"
     ]
    },
    {
     "data": {
      "application/vnd.jupyter.widget-view+json": {
       "model_id": "2c466b6a88c54a71b1cad4c6345f97f3",
       "version_major": 2,
       "version_minor": 0
      },
      "text/plain": [
       "HBox(children=(IntProgress(value=0, max=5), HTML(value='')))"
      ]
     },
     "metadata": {},
     "output_type": "display_data"
    },
    {
     "name": "stdout",
     "output_type": "stream",
     "text": [
      "Train Epoch: 1 [0/500\t(1%)]\tLoss: 1.058518\n",
      "Train Epoch: 1 [400/500\t(81%)]\tLoss: 1.501884\n",
      "Train Epoch: 2 [0/500\t(1%)]\tLoss: 1.144273\n",
      "Train Epoch: 2 [400/500\t(81%)]\tLoss: 1.221781\n",
      "Train Epoch: 3 [0/500\t(1%)]\tLoss: 1.007651\n",
      "Train Epoch: 3 [400/500\t(81%)]\tLoss: 1.016622\n",
      "Train Epoch: 4 [0/500\t(1%)]\tLoss: 1.083244\n",
      "Train Epoch: 4 [400/500\t(81%)]\tLoss: 0.844498\n",
      "Train Epoch: 5 [0/500\t(1%)]\tLoss: 0.705425\n",
      "Train Epoch: 5 [400/500\t(81%)]\tLoss: 1.132218\n",
      "\n",
      "Worker 29 ends training in Global Round:10 |\n",
      "\n",
      "Worker 55 starts training in Global Round:10 |\n"
     ]
    },
    {
     "data": {
      "application/vnd.jupyter.widget-view+json": {
       "model_id": "3ec8bb4a3bc241a6bac6fdbfdb86d170",
       "version_major": 2,
       "version_minor": 0
      },
      "text/plain": [
       "HBox(children=(IntProgress(value=0, max=5), HTML(value='')))"
      ]
     },
     "metadata": {},
     "output_type": "display_data"
    },
    {
     "name": "stdout",
     "output_type": "stream",
     "text": [
      "Train Epoch: 1 [0/500\t(1%)]\tLoss: 1.137295\n",
      "Train Epoch: 1 [400/500\t(81%)]\tLoss: 1.525590\n",
      "Train Epoch: 2 [0/500\t(1%)]\tLoss: 1.180450\n",
      "Train Epoch: 2 [400/500\t(81%)]\tLoss: 1.066995\n",
      "Train Epoch: 3 [0/500\t(1%)]\tLoss: 0.997846\n",
      "Train Epoch: 3 [400/500\t(81%)]\tLoss: 1.107719\n",
      "Train Epoch: 4 [0/500\t(1%)]\tLoss: 0.851008\n",
      "Train Epoch: 4 [400/500\t(81%)]\tLoss: 1.030159\n",
      "Train Epoch: 5 [0/500\t(1%)]\tLoss: 1.055434\n",
      "Train Epoch: 5 [400/500\t(81%)]\tLoss: 1.057391\n",
      "\n",
      "Performed attacks 3\n",
      "\n",
      "===>Random attack started by:  Worker 55  in Global Round:  10\n",
      "Random attack strating: \n",
      "Performed attacks 4\n",
      "Worker 55 ends training in Global Round:10 |\n",
      "\n",
      "Worker 74 starts training in Global Round:10 |\n"
     ]
    },
    {
     "data": {
      "application/vnd.jupyter.widget-view+json": {
       "model_id": "f3b8f5115c3a4974ad31074f8f8c97ae",
       "version_major": 2,
       "version_minor": 0
      },
      "text/plain": [
       "HBox(children=(IntProgress(value=0, max=5), HTML(value='')))"
      ]
     },
     "metadata": {},
     "output_type": "display_data"
    },
    {
     "name": "stdout",
     "output_type": "stream",
     "text": [
      "Train Epoch: 1 [0/500\t(1%)]\tLoss: 1.356354\n",
      "Train Epoch: 1 [400/500\t(81%)]\tLoss: 1.538157\n",
      "Train Epoch: 2 [0/500\t(1%)]\tLoss: 1.070128\n",
      "Train Epoch: 2 [400/500\t(81%)]\tLoss: 1.251177\n",
      "Train Epoch: 3 [0/500\t(1%)]\tLoss: 0.944660\n",
      "Train Epoch: 3 [400/500\t(81%)]\tLoss: 1.194410\n",
      "Train Epoch: 4 [0/500\t(1%)]\tLoss: 1.115399\n",
      "Train Epoch: 4 [400/500\t(81%)]\tLoss: 1.245488\n",
      "Train Epoch: 5 [0/500\t(1%)]\tLoss: 0.841069\n",
      "Train Epoch: 5 [400/500\t(81%)]\tLoss: 0.890823\n",
      "\n",
      "Worker 74 ends training in Global Round:10 |\n",
      "\n",
      "Worker 26 starts training in Global Round:10 |\n"
     ]
    },
    {
     "data": {
      "application/vnd.jupyter.widget-view+json": {
       "model_id": "498b950c7c124761a991edfd85275c36",
       "version_major": 2,
       "version_minor": 0
      },
      "text/plain": [
       "HBox(children=(IntProgress(value=0, max=5), HTML(value='')))"
      ]
     },
     "metadata": {},
     "output_type": "display_data"
    },
    {
     "name": "stdout",
     "output_type": "stream",
     "text": [
      "Train Epoch: 1 [0/500\t(1%)]\tLoss: 1.248845\n",
      "Train Epoch: 1 [400/500\t(81%)]\tLoss: 1.301482\n",
      "Train Epoch: 2 [0/500\t(1%)]\tLoss: 1.036919\n",
      "Train Epoch: 2 [400/500\t(81%)]\tLoss: 1.200354\n",
      "Train Epoch: 3 [0/500\t(1%)]\tLoss: 1.345742\n",
      "Train Epoch: 3 [400/500\t(81%)]\tLoss: 1.378894\n",
      "Train Epoch: 4 [0/500\t(1%)]\tLoss: 0.971731\n",
      "Train Epoch: 4 [400/500\t(81%)]\tLoss: 1.180531\n",
      "Train Epoch: 5 [0/500\t(1%)]\tLoss: 0.886162\n",
      "Train Epoch: 5 [400/500\t(81%)]\tLoss: 1.092018\n",
      "\n",
      "Worker 26 ends training in Global Round:10 |\n",
      "\n",
      "Worker 36 starts training in Global Round:10 |\n"
     ]
    },
    {
     "data": {
      "application/vnd.jupyter.widget-view+json": {
       "model_id": "6482c5fd69ef43699ebedd52b2d519e3",
       "version_major": 2,
       "version_minor": 0
      },
      "text/plain": [
       "HBox(children=(IntProgress(value=0, max=5), HTML(value='')))"
      ]
     },
     "metadata": {},
     "output_type": "display_data"
    },
    {
     "name": "stdout",
     "output_type": "stream",
     "text": [
      "Train Epoch: 1 [0/500\t(1%)]\tLoss: 1.211537\n",
      "Train Epoch: 1 [400/500\t(81%)]\tLoss: 1.484901\n",
      "Train Epoch: 2 [0/500\t(1%)]\tLoss: 1.184582\n",
      "Train Epoch: 2 [400/500\t(81%)]\tLoss: 1.097762\n",
      "Train Epoch: 3 [0/500\t(1%)]\tLoss: 0.990798\n",
      "Train Epoch: 3 [400/500\t(81%)]\tLoss: 1.175616\n",
      "Train Epoch: 4 [0/500\t(1%)]\tLoss: 0.938685\n",
      "Train Epoch: 4 [400/500\t(81%)]\tLoss: 1.147191\n",
      "Train Epoch: 5 [0/500\t(1%)]\tLoss: 0.917676\n",
      "Train Epoch: 5 [400/500\t(81%)]\tLoss: 0.974935\n",
      "\n",
      "Worker 36 ends training in Global Round:10 |\n",
      "\n",
      "Worker 52 starts training in Global Round:10 |\n"
     ]
    },
    {
     "data": {
      "application/vnd.jupyter.widget-view+json": {
       "model_id": "d410c3f1b55f4745a5d9e4e47ddd30b0",
       "version_major": 2,
       "version_minor": 0
      },
      "text/plain": [
       "HBox(children=(IntProgress(value=0, max=5), HTML(value='')))"
      ]
     },
     "metadata": {},
     "output_type": "display_data"
    },
    {
     "name": "stdout",
     "output_type": "stream",
     "text": [
      "Train Epoch: 1 [0/500\t(1%)]\tLoss: 1.347427\n",
      "Train Epoch: 1 [400/500\t(81%)]\tLoss: 1.458963\n",
      "Train Epoch: 2 [0/500\t(1%)]\tLoss: 1.073336\n",
      "Train Epoch: 2 [400/500\t(81%)]\tLoss: 1.366862\n",
      "Train Epoch: 3 [0/500\t(1%)]\tLoss: 0.977645\n",
      "Train Epoch: 3 [400/500\t(81%)]\tLoss: 1.036360\n",
      "Train Epoch: 4 [0/500\t(1%)]\tLoss: 0.816079\n",
      "Train Epoch: 4 [400/500\t(81%)]\tLoss: 1.052207\n",
      "Train Epoch: 5 [0/500\t(1%)]\tLoss: 0.759207\n",
      "Train Epoch: 5 [400/500\t(81%)]\tLoss: 0.735682\n",
      "\n",
      "Worker 52 ends training in Global Round:10 |\n",
      "\n",
      "Worker 73 starts training in Global Round:10 |\n"
     ]
    },
    {
     "data": {
      "application/vnd.jupyter.widget-view+json": {
       "model_id": "bde1b6d7fcd2403b8bc3cf58040119cb",
       "version_major": 2,
       "version_minor": 0
      },
      "text/plain": [
       "HBox(children=(IntProgress(value=0, max=5), HTML(value='')))"
      ]
     },
     "metadata": {},
     "output_type": "display_data"
    },
    {
     "name": "stdout",
     "output_type": "stream",
     "text": [
      "Train Epoch: 1 [0/500\t(1%)]\tLoss: 1.148537\n",
      "Train Epoch: 1 [400/500\t(81%)]\tLoss: 1.237614\n",
      "Train Epoch: 2 [0/500\t(1%)]\tLoss: 1.087302\n",
      "Train Epoch: 2 [400/500\t(81%)]\tLoss: 1.241664\n",
      "Train Epoch: 3 [0/500\t(1%)]\tLoss: 1.017915\n",
      "Train Epoch: 3 [400/500\t(81%)]\tLoss: 1.031553\n",
      "Train Epoch: 4 [0/500\t(1%)]\tLoss: 0.853119\n",
      "Train Epoch: 4 [400/500\t(81%)]\tLoss: 1.002528\n",
      "Train Epoch: 5 [0/500\t(1%)]\tLoss: 0.832549\n",
      "Train Epoch: 5 [400/500\t(81%)]\tLoss: 1.112487\n",
      "\n",
      "Worker 73 ends training in Global Round:10 |\n",
      "\n",
      "Worker 99 starts training in Global Round:10 |\n"
     ]
    },
    {
     "data": {
      "application/vnd.jupyter.widget-view+json": {
       "model_id": "b15374ac1b7145a19a12b12ae78f4fd6",
       "version_major": 2,
       "version_minor": 0
      },
      "text/plain": [
       "HBox(children=(IntProgress(value=0, max=5), HTML(value='')))"
      ]
     },
     "metadata": {},
     "output_type": "display_data"
    },
    {
     "name": "stdout",
     "output_type": "stream",
     "text": [
      "Train Epoch: 1 [0/500\t(1%)]\tLoss: 1.271273\n",
      "Train Epoch: 1 [400/500\t(81%)]\tLoss: 1.261224\n",
      "Train Epoch: 2 [0/500\t(1%)]\tLoss: 1.081913\n",
      "Train Epoch: 2 [400/500\t(81%)]\tLoss: 1.074388\n",
      "Train Epoch: 3 [0/500\t(1%)]\tLoss: 0.833776\n",
      "Train Epoch: 3 [400/500\t(81%)]\tLoss: 1.288245\n",
      "Train Epoch: 4 [0/500\t(1%)]\tLoss: 0.879877\n",
      "Train Epoch: 4 [400/500\t(81%)]\tLoss: 0.973168\n",
      "Train Epoch: 5 [0/500\t(1%)]\tLoss: 0.844894\n",
      "Train Epoch: 5 [400/500\t(81%)]\tLoss: 1.203715\n",
      "\n",
      "Worker 99 ends training in Global Round:10 |\n",
      "\n",
      "Worker 2 starts training in Global Round:10 |\n"
     ]
    },
    {
     "data": {
      "application/vnd.jupyter.widget-view+json": {
       "model_id": "41ded0e93202460983e077cdf6717e8b",
       "version_major": 2,
       "version_minor": 0
      },
      "text/plain": [
       "HBox(children=(IntProgress(value=0, max=5), HTML(value='')))"
      ]
     },
     "metadata": {},
     "output_type": "display_data"
    },
    {
     "name": "stdout",
     "output_type": "stream",
     "text": [
      "Train Epoch: 1 [0/500\t(1%)]\tLoss: 1.102716\n",
      "Train Epoch: 1 [400/500\t(81%)]\tLoss: 1.425608\n",
      "Train Epoch: 2 [0/500\t(1%)]\tLoss: 1.083078\n",
      "Train Epoch: 2 [400/500\t(81%)]\tLoss: 1.207267\n",
      "Train Epoch: 3 [0/500\t(1%)]\tLoss: 1.082134\n",
      "Train Epoch: 3 [400/500\t(81%)]\tLoss: 1.308110\n",
      "Train Epoch: 4 [0/500\t(1%)]\tLoss: 1.086826\n",
      "Train Epoch: 4 [400/500\t(81%)]\tLoss: 0.902388\n",
      "Train Epoch: 5 [0/500\t(1%)]\tLoss: 0.876827\n",
      "Train Epoch: 5 [400/500\t(81%)]\tLoss: 0.847762\n",
      "\n",
      "Worker 2 ends training in Global Round:10 |\n",
      "\n",
      "Worker 75 starts training in Global Round:10 |\n"
     ]
    },
    {
     "data": {
      "application/vnd.jupyter.widget-view+json": {
       "model_id": "487738b7e0624e8e8a8172539043ff20",
       "version_major": 2,
       "version_minor": 0
      },
      "text/plain": [
       "HBox(children=(IntProgress(value=0, max=5), HTML(value='')))"
      ]
     },
     "metadata": {},
     "output_type": "display_data"
    },
    {
     "name": "stdout",
     "output_type": "stream",
     "text": [
      "Train Epoch: 1 [0/500\t(1%)]\tLoss: 1.469403\n",
      "Train Epoch: 1 [400/500\t(81%)]\tLoss: 1.353970\n",
      "Train Epoch: 2 [0/500\t(1%)]\tLoss: 1.030657\n",
      "Train Epoch: 2 [400/500\t(81%)]\tLoss: 1.346548\n",
      "Train Epoch: 3 [0/500\t(1%)]\tLoss: 0.860728\n",
      "Train Epoch: 3 [400/500\t(81%)]\tLoss: 1.180381\n",
      "Train Epoch: 4 [0/500\t(1%)]\tLoss: 1.182132\n",
      "Train Epoch: 4 [400/500\t(81%)]\tLoss: 0.891049\n",
      "Train Epoch: 5 [0/500\t(1%)]\tLoss: 0.861733\n",
      "Train Epoch: 5 [400/500\t(81%)]\tLoss: 0.948241\n",
      "\n",
      "Worker 75 ends training in Global Round:10 |\n",
      "\n",
      "Average loss: 1.3264, Accuracy: 5446/10000 (54%)\n",
      "\n",
      "\n",
      "Selected workers\n",
      "\n",
      "[39 87 55 96  1 16 83 35 71 99 49 32 50  6 26]\n",
      "Worker 39 : is  Honest\n",
      "Worker 87 : is  Random_Attacker\n",
      "Worker 55 : is  Random_Attacker\n",
      "Worker 96 : is  Honest\n",
      "Worker 1 : is  Honest\n",
      "Worker 16 : is  Random_Attacker\n",
      "Worker 83 : is  Honest\n",
      "Worker 35 : is  Honest\n",
      "Worker 71 : is  Random_Attacker\n",
      "Worker 99 : is  Honest\n",
      "Worker 49 : is  Honest\n",
      "Worker 32 : is  Honest\n",
      "Worker 50 : is  Random_Attacker\n",
      "Worker 6 : is  Random_Attacker\n",
      "Worker 26 : is  Honest\n",
      "\n",
      " | Global Training Round : 11 |\n",
      "\n",
      "\n",
      "Worker 39 starts training in Global Round:11 |\n"
     ]
    },
    {
     "data": {
      "application/vnd.jupyter.widget-view+json": {
       "model_id": "c9f0aa92ae0d41aaaa92cfec66166b20",
       "version_major": 2,
       "version_minor": 0
      },
      "text/plain": [
       "HBox(children=(IntProgress(value=0, max=5), HTML(value='')))"
      ]
     },
     "metadata": {},
     "output_type": "display_data"
    },
    {
     "name": "stdout",
     "output_type": "stream",
     "text": [
      "Train Epoch: 1 [0/500\t(1%)]\tLoss: 1.182550\n",
      "Train Epoch: 1 [400/500\t(81%)]\tLoss: 1.442117\n",
      "Train Epoch: 2 [0/500\t(1%)]\tLoss: 1.076337\n",
      "Train Epoch: 2 [400/500\t(81%)]\tLoss: 1.194628\n",
      "Train Epoch: 3 [0/500\t(1%)]\tLoss: 1.049606\n",
      "Train Epoch: 3 [400/500\t(81%)]\tLoss: 1.131949\n",
      "Train Epoch: 4 [0/500\t(1%)]\tLoss: 1.038596\n",
      "Train Epoch: 4 [400/500\t(81%)]\tLoss: 0.955336\n",
      "Train Epoch: 5 [0/500\t(1%)]\tLoss: 0.928334\n",
      "Train Epoch: 5 [400/500\t(81%)]\tLoss: 1.011474\n",
      "\n",
      "Worker 39 ends training in Global Round:11 |\n",
      "\n",
      "Worker 87 starts training in Global Round:11 |\n"
     ]
    },
    {
     "data": {
      "application/vnd.jupyter.widget-view+json": {
       "model_id": "e02bf3f5921e4bcf862de46f5a892222",
       "version_major": 2,
       "version_minor": 0
      },
      "text/plain": [
       "HBox(children=(IntProgress(value=0, max=5), HTML(value='')))"
      ]
     },
     "metadata": {},
     "output_type": "display_data"
    },
    {
     "name": "stdout",
     "output_type": "stream",
     "text": [
      "Train Epoch: 1 [0/500\t(1%)]\tLoss: 1.253595\n",
      "Train Epoch: 1 [400/500\t(81%)]\tLoss: 1.464541\n",
      "Train Epoch: 2 [0/500\t(1%)]\tLoss: 1.240221\n",
      "Train Epoch: 2 [400/500\t(81%)]\tLoss: 1.341270\n",
      "Train Epoch: 3 [0/500\t(1%)]\tLoss: 1.032751\n",
      "Train Epoch: 3 [400/500\t(81%)]\tLoss: 1.318616\n",
      "Train Epoch: 4 [0/500\t(1%)]\tLoss: 1.002832\n",
      "Train Epoch: 4 [400/500\t(81%)]\tLoss: 1.206259\n",
      "Train Epoch: 5 [0/500\t(1%)]\tLoss: 0.898854\n",
      "Train Epoch: 5 [400/500\t(81%)]\tLoss: 0.914513\n",
      "\n",
      "Performed attacks 0\n",
      "\n",
      "===>Random attack started by:  Worker 87  in Global Round:  11\n",
      "Random attack strating: \n",
      "Performed attacks 1\n",
      "Worker 87 ends training in Global Round:11 |\n",
      "\n",
      "Worker 55 starts training in Global Round:11 |\n"
     ]
    },
    {
     "data": {
      "application/vnd.jupyter.widget-view+json": {
       "model_id": "18195fe8f45a4d9aba3f3ecb640d87a1",
       "version_major": 2,
       "version_minor": 0
      },
      "text/plain": [
       "HBox(children=(IntProgress(value=0, max=5), HTML(value='')))"
      ]
     },
     "metadata": {},
     "output_type": "display_data"
    },
    {
     "name": "stdout",
     "output_type": "stream",
     "text": [
      "Train Epoch: 1 [0/500\t(1%)]\tLoss: 1.375041\n",
      "Train Epoch: 1 [400/500\t(81%)]\tLoss: 1.184935\n",
      "Train Epoch: 2 [0/500\t(1%)]\tLoss: 0.945233\n",
      "Train Epoch: 2 [400/500\t(81%)]\tLoss: 1.260729\n",
      "Train Epoch: 3 [0/500\t(1%)]\tLoss: 1.108279\n",
      "Train Epoch: 3 [400/500\t(81%)]\tLoss: 1.161147\n",
      "Train Epoch: 4 [0/500\t(1%)]\tLoss: 0.919907\n",
      "Train Epoch: 4 [400/500\t(81%)]\tLoss: 0.952280\n",
      "Train Epoch: 5 [0/500\t(1%)]\tLoss: 0.783667\n",
      "Train Epoch: 5 [400/500\t(81%)]\tLoss: 0.774278\n",
      "\n",
      "Performed attacks 1\n",
      "\n",
      "===>Random attack started by:  Worker 55  in Global Round:  11\n",
      "Random attack strating: \n",
      "Performed attacks 2\n",
      "Worker 55 ends training in Global Round:11 |\n",
      "\n",
      "Worker 96 starts training in Global Round:11 |\n"
     ]
    },
    {
     "data": {
      "application/vnd.jupyter.widget-view+json": {
       "model_id": "2ddc5910728649a7970e3ada81fd0b8f",
       "version_major": 2,
       "version_minor": 0
      },
      "text/plain": [
       "HBox(children=(IntProgress(value=0, max=5), HTML(value='')))"
      ]
     },
     "metadata": {},
     "output_type": "display_data"
    },
    {
     "name": "stdout",
     "output_type": "stream",
     "text": [
      "Train Epoch: 1 [0/500\t(1%)]\tLoss: 1.031084\n",
      "Train Epoch: 1 [400/500\t(81%)]\tLoss: 1.466846\n",
      "Train Epoch: 2 [0/500\t(1%)]\tLoss: 1.227003\n",
      "Train Epoch: 2 [400/500\t(81%)]\tLoss: 1.341415\n",
      "Train Epoch: 3 [0/500\t(1%)]\tLoss: 1.053150\n",
      "Train Epoch: 3 [400/500\t(81%)]\tLoss: 1.068322\n",
      "Train Epoch: 4 [0/500\t(1%)]\tLoss: 0.798030\n",
      "Train Epoch: 4 [400/500\t(81%)]\tLoss: 0.884156\n",
      "Train Epoch: 5 [0/500\t(1%)]\tLoss: 0.862764\n",
      "Train Epoch: 5 [400/500\t(81%)]\tLoss: 1.073971\n",
      "\n",
      "Worker 96 ends training in Global Round:11 |\n",
      "\n",
      "Worker 1 starts training in Global Round:11 |\n"
     ]
    },
    {
     "data": {
      "application/vnd.jupyter.widget-view+json": {
       "model_id": "f88d019e7e9949aa97b0747b5ece3c16",
       "version_major": 2,
       "version_minor": 0
      },
      "text/plain": [
       "HBox(children=(IntProgress(value=0, max=5), HTML(value='')))"
      ]
     },
     "metadata": {},
     "output_type": "display_data"
    },
    {
     "name": "stdout",
     "output_type": "stream",
     "text": [
      "Train Epoch: 1 [0/500\t(1%)]\tLoss: 1.261880\n",
      "Train Epoch: 1 [400/500\t(81%)]\tLoss: 1.302031\n",
      "Train Epoch: 2 [0/500\t(1%)]\tLoss: 1.288321\n",
      "Train Epoch: 2 [400/500\t(81%)]\tLoss: 1.312969\n",
      "Train Epoch: 3 [0/500\t(1%)]\tLoss: 1.267021\n",
      "Train Epoch: 3 [400/500\t(81%)]\tLoss: 1.196594\n",
      "Train Epoch: 4 [0/500\t(1%)]\tLoss: 0.921427\n",
      "Train Epoch: 4 [400/500\t(81%)]\tLoss: 1.249182\n",
      "Train Epoch: 5 [0/500\t(1%)]\tLoss: 0.945895\n",
      "Train Epoch: 5 [400/500\t(81%)]\tLoss: 0.872207\n",
      "\n",
      "Worker 1 ends training in Global Round:11 |\n",
      "\n",
      "Worker 16 starts training in Global Round:11 |\n"
     ]
    },
    {
     "data": {
      "application/vnd.jupyter.widget-view+json": {
       "model_id": "df6f4856631d46d1871e092e7f44099c",
       "version_major": 2,
       "version_minor": 0
      },
      "text/plain": [
       "HBox(children=(IntProgress(value=0, max=5), HTML(value='')))"
      ]
     },
     "metadata": {},
     "output_type": "display_data"
    },
    {
     "name": "stdout",
     "output_type": "stream",
     "text": [
      "Train Epoch: 1 [0/500\t(1%)]\tLoss: 1.243333\n",
      "Train Epoch: 1 [400/500\t(81%)]\tLoss: 1.310843\n",
      "Train Epoch: 2 [0/500\t(1%)]\tLoss: 1.146784\n",
      "Train Epoch: 2 [400/500\t(81%)]\tLoss: 1.286488\n",
      "Train Epoch: 3 [0/500\t(1%)]\tLoss: 1.004127\n",
      "Train Epoch: 3 [400/500\t(81%)]\tLoss: 1.324986\n",
      "Train Epoch: 4 [0/500\t(1%)]\tLoss: 0.851133\n",
      "Train Epoch: 4 [400/500\t(81%)]\tLoss: 1.171898\n",
      "Train Epoch: 5 [0/500\t(1%)]\tLoss: 0.995872\n",
      "Train Epoch: 5 [400/500\t(81%)]\tLoss: 0.973181\n",
      "\n",
      "Performed attacks 2\n",
      "\n",
      "===>Random attack started by:  Worker 16  in Global Round:  11\n",
      "Random attack strating: \n",
      "Performed attacks 3\n",
      "Worker 16 ends training in Global Round:11 |\n",
      "\n",
      "Worker 83 starts training in Global Round:11 |\n"
     ]
    },
    {
     "data": {
      "application/vnd.jupyter.widget-view+json": {
       "model_id": "db7e46a28ac34842b18dd3af2e1be732",
       "version_major": 2,
       "version_minor": 0
      },
      "text/plain": [
       "HBox(children=(IntProgress(value=0, max=5), HTML(value='')))"
      ]
     },
     "metadata": {},
     "output_type": "display_data"
    },
    {
     "name": "stdout",
     "output_type": "stream",
     "text": [
      "Train Epoch: 1 [0/500\t(1%)]\tLoss: 1.353523\n",
      "Train Epoch: 1 [400/500\t(81%)]\tLoss: 1.541766\n",
      "Train Epoch: 2 [0/500\t(1%)]\tLoss: 1.060783\n",
      "Train Epoch: 2 [400/500\t(81%)]\tLoss: 1.205558\n",
      "Train Epoch: 3 [0/500\t(1%)]\tLoss: 0.995234\n",
      "Train Epoch: 3 [400/500\t(81%)]\tLoss: 1.111179\n",
      "Train Epoch: 4 [0/500\t(1%)]\tLoss: 1.127844\n",
      "Train Epoch: 4 [400/500\t(81%)]\tLoss: 0.966965\n",
      "Train Epoch: 5 [0/500\t(1%)]\tLoss: 0.942655\n",
      "Train Epoch: 5 [400/500\t(81%)]\tLoss: 0.764793\n",
      "\n",
      "Worker 83 ends training in Global Round:11 |\n",
      "\n",
      "Worker 35 starts training in Global Round:11 |\n"
     ]
    },
    {
     "data": {
      "application/vnd.jupyter.widget-view+json": {
       "model_id": "96288f30534a4b188730d6a7eb926cc6",
       "version_major": 2,
       "version_minor": 0
      },
      "text/plain": [
       "HBox(children=(IntProgress(value=0, max=5), HTML(value='')))"
      ]
     },
     "metadata": {},
     "output_type": "display_data"
    },
    {
     "name": "stdout",
     "output_type": "stream",
     "text": [
      "Train Epoch: 1 [0/500\t(1%)]\tLoss: 1.271683\n",
      "Train Epoch: 1 [400/500\t(81%)]\tLoss: 1.430214\n",
      "Train Epoch: 2 [0/500\t(1%)]\tLoss: 1.172773\n",
      "Train Epoch: 2 [400/500\t(81%)]\tLoss: 1.307030\n",
      "Train Epoch: 3 [0/500\t(1%)]\tLoss: 1.053224\n",
      "Train Epoch: 3 [400/500\t(81%)]\tLoss: 1.386410\n",
      "Train Epoch: 4 [0/500\t(1%)]\tLoss: 1.324236\n",
      "Train Epoch: 4 [400/500\t(81%)]\tLoss: 1.018783\n",
      "Train Epoch: 5 [0/500\t(1%)]\tLoss: 1.108242\n",
      "Train Epoch: 5 [400/500\t(81%)]\tLoss: 1.016148\n",
      "\n",
      "Worker 35 ends training in Global Round:11 |\n",
      "\n",
      "Worker 71 starts training in Global Round:11 |\n"
     ]
    },
    {
     "data": {
      "application/vnd.jupyter.widget-view+json": {
       "model_id": "0cf40db926724ed997a1cefafbfdb310",
       "version_major": 2,
       "version_minor": 0
      },
      "text/plain": [
       "HBox(children=(IntProgress(value=0, max=5), HTML(value='')))"
      ]
     },
     "metadata": {},
     "output_type": "display_data"
    },
    {
     "name": "stdout",
     "output_type": "stream",
     "text": [
      "Train Epoch: 1 [0/500\t(1%)]\tLoss: 1.231260\n",
      "Train Epoch: 1 [400/500\t(81%)]\tLoss: 1.382444\n",
      "Train Epoch: 2 [0/500\t(1%)]\tLoss: 1.256228\n",
      "Train Epoch: 2 [400/500\t(81%)]\tLoss: 1.407646\n",
      "Train Epoch: 3 [0/500\t(1%)]\tLoss: 0.961910\n",
      "Train Epoch: 3 [400/500\t(81%)]\tLoss: 1.200365\n",
      "Train Epoch: 4 [0/500\t(1%)]\tLoss: 0.987538\n",
      "Train Epoch: 4 [400/500\t(81%)]\tLoss: 1.070091\n",
      "Train Epoch: 5 [0/500\t(1%)]\tLoss: 0.887093\n",
      "Train Epoch: 5 [400/500\t(81%)]\tLoss: 1.236796\n",
      "\n",
      "Performed attacks 3\n",
      "\n",
      "===>Random attack started by:  Worker 71  in Global Round:  11\n",
      "Random attack strating: \n",
      "Performed attacks 4\n",
      "Worker 71 ends training in Global Round:11 |\n",
      "\n",
      "Worker 99 starts training in Global Round:11 |\n"
     ]
    },
    {
     "data": {
      "application/vnd.jupyter.widget-view+json": {
       "model_id": "74e9bec3c5214f0eb6e981a3ae144663",
       "version_major": 2,
       "version_minor": 0
      },
      "text/plain": [
       "HBox(children=(IntProgress(value=0, max=5), HTML(value='')))"
      ]
     },
     "metadata": {},
     "output_type": "display_data"
    },
    {
     "name": "stdout",
     "output_type": "stream",
     "text": [
      "Train Epoch: 1 [0/500\t(1%)]\tLoss: 1.224171\n",
      "Train Epoch: 1 [400/500\t(81%)]\tLoss: 1.386537\n",
      "Train Epoch: 2 [0/500\t(1%)]\tLoss: 0.964485\n",
      "Train Epoch: 2 [400/500\t(81%)]\tLoss: 1.172747\n",
      "Train Epoch: 3 [0/500\t(1%)]\tLoss: 0.804989\n",
      "Train Epoch: 3 [400/500\t(81%)]\tLoss: 0.874085\n",
      "Train Epoch: 4 [0/500\t(1%)]\tLoss: 0.925667\n",
      "Train Epoch: 4 [400/500\t(81%)]\tLoss: 0.749596\n",
      "Train Epoch: 5 [0/500\t(1%)]\tLoss: 0.769160\n",
      "Train Epoch: 5 [400/500\t(81%)]\tLoss: 1.061895\n",
      "\n",
      "Worker 99 ends training in Global Round:11 |\n",
      "\n",
      "Worker 49 starts training in Global Round:11 |\n"
     ]
    },
    {
     "data": {
      "application/vnd.jupyter.widget-view+json": {
       "model_id": "8cebf25dc4b041029e480cdaba69211c",
       "version_major": 2,
       "version_minor": 0
      },
      "text/plain": [
       "HBox(children=(IntProgress(value=0, max=5), HTML(value='')))"
      ]
     },
     "metadata": {},
     "output_type": "display_data"
    },
    {
     "name": "stdout",
     "output_type": "stream",
     "text": [
      "Train Epoch: 1 [0/500\t(1%)]\tLoss: 1.027560\n",
      "Train Epoch: 1 [400/500\t(81%)]\tLoss: 1.506735\n",
      "Train Epoch: 2 [0/500\t(1%)]\tLoss: 1.288691\n",
      "Train Epoch: 2 [400/500\t(81%)]\tLoss: 1.447367\n",
      "Train Epoch: 3 [0/500\t(1%)]\tLoss: 1.091112\n",
      "Train Epoch: 3 [400/500\t(81%)]\tLoss: 1.276655\n",
      "Train Epoch: 4 [0/500\t(1%)]\tLoss: 0.908204\n",
      "Train Epoch: 4 [400/500\t(81%)]\tLoss: 1.022291\n",
      "Train Epoch: 5 [0/500\t(1%)]\tLoss: 0.959903\n",
      "Train Epoch: 5 [400/500\t(81%)]\tLoss: 0.930401\n",
      "\n",
      "Worker 49 ends training in Global Round:11 |\n",
      "\n",
      "Worker 32 starts training in Global Round:11 |\n"
     ]
    },
    {
     "data": {
      "application/vnd.jupyter.widget-view+json": {
       "model_id": "695ed12ec2ad47509baca3f71040349a",
       "version_major": 2,
       "version_minor": 0
      },
      "text/plain": [
       "HBox(children=(IntProgress(value=0, max=5), HTML(value='')))"
      ]
     },
     "metadata": {},
     "output_type": "display_data"
    },
    {
     "name": "stdout",
     "output_type": "stream",
     "text": [
      "Train Epoch: 1 [0/500\t(1%)]\tLoss: 1.392022\n",
      "Train Epoch: 1 [400/500\t(81%)]\tLoss: 1.354925\n",
      "Train Epoch: 2 [0/500\t(1%)]\tLoss: 1.165646\n",
      "Train Epoch: 2 [400/500\t(81%)]\tLoss: 1.318293\n",
      "Train Epoch: 3 [0/500\t(1%)]\tLoss: 1.037216\n",
      "Train Epoch: 3 [400/500\t(81%)]\tLoss: 1.335000\n",
      "Train Epoch: 4 [0/500\t(1%)]\tLoss: 1.059037\n",
      "Train Epoch: 4 [400/500\t(81%)]\tLoss: 1.185421\n",
      "Train Epoch: 5 [0/500\t(1%)]\tLoss: 1.042592\n",
      "Train Epoch: 5 [400/500\t(81%)]\tLoss: 1.195166\n",
      "\n",
      "Worker 32 ends training in Global Round:11 |\n",
      "\n",
      "Worker 50 starts training in Global Round:11 |\n"
     ]
    },
    {
     "data": {
      "application/vnd.jupyter.widget-view+json": {
       "model_id": "1ec0060bad3b4adaad10bf4b805fa10b",
       "version_major": 2,
       "version_minor": 0
      },
      "text/plain": [
       "HBox(children=(IntProgress(value=0, max=5), HTML(value='')))"
      ]
     },
     "metadata": {},
     "output_type": "display_data"
    },
    {
     "name": "stdout",
     "output_type": "stream",
     "text": [
      "Train Epoch: 1 [0/500\t(1%)]\tLoss: 1.545503\n",
      "Train Epoch: 1 [400/500\t(81%)]\tLoss: 1.398773\n",
      "Train Epoch: 2 [0/500\t(1%)]\tLoss: 1.016369\n",
      "Train Epoch: 2 [400/500\t(81%)]\tLoss: 1.675453\n",
      "Train Epoch: 3 [0/500\t(1%)]\tLoss: 1.063919\n",
      "Train Epoch: 3 [400/500\t(81%)]\tLoss: 1.105097\n",
      "Train Epoch: 4 [0/500\t(1%)]\tLoss: 0.952716\n",
      "Train Epoch: 4 [400/500\t(81%)]\tLoss: 0.965787\n",
      "Train Epoch: 5 [0/500\t(1%)]\tLoss: 0.944908\n",
      "Train Epoch: 5 [400/500\t(81%)]\tLoss: 1.248892\n",
      "\n",
      "Worker 50 ends training in Global Round:11 |\n",
      "\n",
      "Worker 6 starts training in Global Round:11 |\n"
     ]
    },
    {
     "data": {
      "application/vnd.jupyter.widget-view+json": {
       "model_id": "73ea22ca6d8d421388b4113024af3099",
       "version_major": 2,
       "version_minor": 0
      },
      "text/plain": [
       "HBox(children=(IntProgress(value=0, max=5), HTML(value='')))"
      ]
     },
     "metadata": {},
     "output_type": "display_data"
    },
    {
     "name": "stdout",
     "output_type": "stream",
     "text": [
      "Train Epoch: 1 [0/500\t(1%)]\tLoss: 1.230326\n",
      "Train Epoch: 1 [400/500\t(81%)]\tLoss: 1.335491\n",
      "Train Epoch: 2 [0/500\t(1%)]\tLoss: 1.200396\n",
      "Train Epoch: 2 [400/500\t(81%)]\tLoss: 1.241317\n",
      "Train Epoch: 3 [0/500\t(1%)]\tLoss: 0.976581\n",
      "Train Epoch: 3 [400/500\t(81%)]\tLoss: 1.260998\n",
      "Train Epoch: 4 [0/500\t(1%)]\tLoss: 0.882796\n",
      "Train Epoch: 4 [400/500\t(81%)]\tLoss: 0.870659\n",
      "Train Epoch: 5 [0/500\t(1%)]\tLoss: 0.814771\n",
      "Train Epoch: 5 [400/500\t(81%)]\tLoss: 0.868760\n",
      "\n",
      "Worker 6 ends training in Global Round:11 |\n",
      "\n",
      "Worker 26 starts training in Global Round:11 |\n"
     ]
    },
    {
     "data": {
      "application/vnd.jupyter.widget-view+json": {
       "model_id": "b9b2d11c2d9a4814822c2050e7a88b5b",
       "version_major": 2,
       "version_minor": 0
      },
      "text/plain": [
       "HBox(children=(IntProgress(value=0, max=5), HTML(value='')))"
      ]
     },
     "metadata": {},
     "output_type": "display_data"
    },
    {
     "name": "stdout",
     "output_type": "stream",
     "text": [
      "Train Epoch: 1 [0/500\t(1%)]\tLoss: 1.158144\n",
      "Train Epoch: 1 [400/500\t(81%)]\tLoss: 1.416327\n",
      "Train Epoch: 2 [0/500\t(1%)]\tLoss: 1.082728\n",
      "Train Epoch: 2 [400/500\t(81%)]\tLoss: 0.987314\n",
      "Train Epoch: 3 [0/500\t(1%)]\tLoss: 0.867260\n",
      "Train Epoch: 3 [400/500\t(81%)]\tLoss: 1.164570\n",
      "Train Epoch: 4 [0/500\t(1%)]\tLoss: 0.891256\n",
      "Train Epoch: 4 [400/500\t(81%)]\tLoss: 0.893695\n",
      "Train Epoch: 5 [0/500\t(1%)]\tLoss: 0.852181\n",
      "Train Epoch: 5 [400/500\t(81%)]\tLoss: 0.861702\n",
      "\n",
      "Worker 26 ends training in Global Round:11 |\n",
      "\n",
      "Average loss: 1.2164, Accuracy: 5605/10000 (56%)\n",
      "\n",
      "\n",
      "Selected workers\n",
      "\n",
      "[33 37 43 50 58 69  8 88 85 72 79 53 73 60 56]\n",
      "Worker 33 : is  Random_Attacker\n",
      "Worker 37 : is  Random_Attacker\n",
      "Worker 43 : is  Honest\n",
      "Worker 50 : is  Random_Attacker\n",
      "Worker 58 : is  Honest\n",
      "Worker 69 : is  Honest\n",
      "Worker 8 : is  Honest\n",
      "Worker 88 : is  Honest\n",
      "Worker 85 : is  Honest\n",
      "Worker 72 : is  Random_Attacker\n",
      "Worker 79 : is  Random_Attacker\n",
      "Worker 53 : is  Random_Attacker\n",
      "Worker 73 : is  Honest\n",
      "Worker 60 : is  Honest\n",
      "Worker 56 : is  Honest\n",
      "\n",
      " | Global Training Round : 12 |\n",
      "\n",
      "\n",
      "Worker 33 starts training in Global Round:12 |\n"
     ]
    },
    {
     "data": {
      "application/vnd.jupyter.widget-view+json": {
       "model_id": "614a3e9f3f354fe4871c5c54c03f1269",
       "version_major": 2,
       "version_minor": 0
      },
      "text/plain": [
       "HBox(children=(IntProgress(value=0, max=5), HTML(value='')))"
      ]
     },
     "metadata": {},
     "output_type": "display_data"
    },
    {
     "name": "stdout",
     "output_type": "stream",
     "text": [
      "Train Epoch: 1 [0/500\t(1%)]\tLoss: 1.016629\n",
      "Train Epoch: 1 [400/500\t(81%)]\tLoss: 1.205534\n",
      "Train Epoch: 2 [0/500\t(1%)]\tLoss: 0.974391\n",
      "Train Epoch: 2 [400/500\t(81%)]\tLoss: 1.360615\n",
      "Train Epoch: 3 [0/500\t(1%)]\tLoss: 0.965699\n",
      "Train Epoch: 3 [400/500\t(81%)]\tLoss: 1.090924\n",
      "Train Epoch: 4 [0/500\t(1%)]\tLoss: 0.913838\n",
      "Train Epoch: 4 [400/500\t(81%)]\tLoss: 1.048754\n",
      "Train Epoch: 5 [0/500\t(1%)]\tLoss: 0.884107\n",
      "Train Epoch: 5 [400/500\t(81%)]\tLoss: 1.021696\n",
      "\n",
      "Performed attacks 0\n",
      "\n",
      "===>Random attack started by:  Worker 33  in Global Round:  12\n",
      "Random attack strating: \n",
      "Performed attacks 1\n",
      "Worker 33 ends training in Global Round:12 |\n",
      "\n",
      "Worker 37 starts training in Global Round:12 |\n"
     ]
    },
    {
     "data": {
      "application/vnd.jupyter.widget-view+json": {
       "model_id": "2a91d84fd2f540b39f65c8641792c502",
       "version_major": 2,
       "version_minor": 0
      },
      "text/plain": [
       "HBox(children=(IntProgress(value=0, max=5), HTML(value='')))"
      ]
     },
     "metadata": {},
     "output_type": "display_data"
    },
    {
     "name": "stdout",
     "output_type": "stream",
     "text": [
      "Train Epoch: 1 [0/500\t(1%)]\tLoss: 1.571789\n",
      "Train Epoch: 1 [400/500\t(81%)]\tLoss: 1.299729\n",
      "Train Epoch: 2 [0/500\t(1%)]\tLoss: 1.038054\n",
      "Train Epoch: 2 [400/500\t(81%)]\tLoss: 1.361492\n",
      "Train Epoch: 3 [0/500\t(1%)]\tLoss: 0.916577\n",
      "Train Epoch: 3 [400/500\t(81%)]\tLoss: 1.191424\n",
      "Train Epoch: 4 [0/500\t(1%)]\tLoss: 1.146109\n",
      "Train Epoch: 4 [400/500\t(81%)]\tLoss: 0.942293\n",
      "Train Epoch: 5 [0/500\t(1%)]\tLoss: 0.873436\n",
      "Train Epoch: 5 [400/500\t(81%)]\tLoss: 0.922000\n",
      "\n",
      "Performed attacks 1\n",
      "\n",
      "===>Random attack started by:  Worker 37  in Global Round:  12\n",
      "Random attack strating: \n",
      "Performed attacks 2\n",
      "Worker 37 ends training in Global Round:12 |\n",
      "\n",
      "Worker 43 starts training in Global Round:12 |\n"
     ]
    },
    {
     "data": {
      "application/vnd.jupyter.widget-view+json": {
       "model_id": "968d458df9894be0aca9f84f116d996a",
       "version_major": 2,
       "version_minor": 0
      },
      "text/plain": [
       "HBox(children=(IntProgress(value=0, max=5), HTML(value='')))"
      ]
     },
     "metadata": {},
     "output_type": "display_data"
    },
    {
     "name": "stdout",
     "output_type": "stream",
     "text": [
      "Train Epoch: 1 [0/500\t(1%)]\tLoss: 1.304589\n",
      "Train Epoch: 1 [400/500\t(81%)]\tLoss: 1.330924\n",
      "Train Epoch: 2 [0/500\t(1%)]\tLoss: 1.000083\n",
      "Train Epoch: 2 [400/500\t(81%)]\tLoss: 1.231785\n",
      "Train Epoch: 3 [0/500\t(1%)]\tLoss: 1.100360\n",
      "Train Epoch: 3 [400/500\t(81%)]\tLoss: 1.318808\n",
      "Train Epoch: 4 [0/500\t(1%)]\tLoss: 0.930366\n",
      "Train Epoch: 4 [400/500\t(81%)]\tLoss: 0.807570\n",
      "Train Epoch: 5 [0/500\t(1%)]\tLoss: 0.709407\n",
      "Train Epoch: 5 [400/500\t(81%)]\tLoss: 0.926022\n",
      "\n",
      "Worker 43 ends training in Global Round:12 |\n",
      "\n",
      "Worker 50 starts training in Global Round:12 |\n"
     ]
    },
    {
     "data": {
      "application/vnd.jupyter.widget-view+json": {
       "model_id": "875c116fe5f4406d8a04d1c064ec8ff2",
       "version_major": 2,
       "version_minor": 0
      },
      "text/plain": [
       "HBox(children=(IntProgress(value=0, max=5), HTML(value='')))"
      ]
     },
     "metadata": {},
     "output_type": "display_data"
    },
    {
     "name": "stdout",
     "output_type": "stream",
     "text": [
      "Train Epoch: 1 [0/500\t(1%)]\tLoss: 1.494672\n",
      "Train Epoch: 1 [400/500\t(81%)]\tLoss: 1.521495\n",
      "Train Epoch: 2 [0/500\t(1%)]\tLoss: 1.015589\n",
      "Train Epoch: 2 [400/500\t(81%)]\tLoss: 1.063386\n",
      "Train Epoch: 3 [0/500\t(1%)]\tLoss: 0.956843\n",
      "Train Epoch: 3 [400/500\t(81%)]\tLoss: 1.172998\n",
      "Train Epoch: 4 [0/500\t(1%)]\tLoss: 0.748335\n",
      "Train Epoch: 4 [400/500\t(81%)]\tLoss: 1.025381\n",
      "Train Epoch: 5 [0/500\t(1%)]\tLoss: 0.744590\n",
      "Train Epoch: 5 [400/500\t(81%)]\tLoss: 1.116607\n",
      "\n",
      "Performed attacks 2\n",
      "\n",
      "===>Random attack started by:  Worker 50  in Global Round:  12\n",
      "Random attack strating: \n",
      "Performed attacks 3\n",
      "Worker 50 ends training in Global Round:12 |\n",
      "\n",
      "Worker 58 starts training in Global Round:12 |\n"
     ]
    },
    {
     "data": {
      "application/vnd.jupyter.widget-view+json": {
       "model_id": "3971c5c64d0548c8a6b513289e2742f6",
       "version_major": 2,
       "version_minor": 0
      },
      "text/plain": [
       "HBox(children=(IntProgress(value=0, max=5), HTML(value='')))"
      ]
     },
     "metadata": {},
     "output_type": "display_data"
    },
    {
     "name": "stdout",
     "output_type": "stream",
     "text": [
      "Train Epoch: 1 [0/500\t(1%)]\tLoss: 1.099294\n",
      "Train Epoch: 1 [400/500\t(81%)]\tLoss: 1.435398\n",
      "Train Epoch: 2 [0/500\t(1%)]\tLoss: 0.991004\n",
      "Train Epoch: 2 [400/500\t(81%)]\tLoss: 1.234773\n",
      "Train Epoch: 3 [0/500\t(1%)]\tLoss: 1.181695\n",
      "Train Epoch: 3 [400/500\t(81%)]\tLoss: 1.055574\n",
      "Train Epoch: 4 [0/500\t(1%)]\tLoss: 0.941611\n",
      "Train Epoch: 4 [400/500\t(81%)]\tLoss: 0.929722\n",
      "Train Epoch: 5 [0/500\t(1%)]\tLoss: 0.974716\n",
      "Train Epoch: 5 [400/500\t(81%)]\tLoss: 0.918501\n",
      "\n",
      "Worker 58 ends training in Global Round:12 |\n",
      "\n",
      "Worker 69 starts training in Global Round:12 |\n"
     ]
    },
    {
     "data": {
      "application/vnd.jupyter.widget-view+json": {
       "model_id": "6c36f5d6ea364a1b9e242f6dfbe6e566",
       "version_major": 2,
       "version_minor": 0
      },
      "text/plain": [
       "HBox(children=(IntProgress(value=0, max=5), HTML(value='')))"
      ]
     },
     "metadata": {},
     "output_type": "display_data"
    },
    {
     "name": "stdout",
     "output_type": "stream",
     "text": [
      "Train Epoch: 1 [0/500\t(1%)]\tLoss: 1.126852\n",
      "Train Epoch: 1 [400/500\t(81%)]\tLoss: 1.414031\n",
      "Train Epoch: 2 [0/500\t(1%)]\tLoss: 1.046540\n",
      "Train Epoch: 2 [400/500\t(81%)]\tLoss: 1.516087\n",
      "Train Epoch: 3 [0/500\t(1%)]\tLoss: 0.895017\n",
      "Train Epoch: 3 [400/500\t(81%)]\tLoss: 1.219499\n",
      "Train Epoch: 4 [0/500\t(1%)]\tLoss: 1.094793\n",
      "Train Epoch: 4 [400/500\t(81%)]\tLoss: 1.289163\n",
      "Train Epoch: 5 [0/500\t(1%)]\tLoss: 0.934216\n",
      "Train Epoch: 5 [400/500\t(81%)]\tLoss: 0.922489\n",
      "\n",
      "Worker 69 ends training in Global Round:12 |\n",
      "\n",
      "Worker 8 starts training in Global Round:12 |\n"
     ]
    },
    {
     "data": {
      "application/vnd.jupyter.widget-view+json": {
       "model_id": "f0a01576a9a1405183f220b5a1184255",
       "version_major": 2,
       "version_minor": 0
      },
      "text/plain": [
       "HBox(children=(IntProgress(value=0, max=5), HTML(value='')))"
      ]
     },
     "metadata": {},
     "output_type": "display_data"
    },
    {
     "name": "stdout",
     "output_type": "stream",
     "text": [
      "Train Epoch: 1 [0/500\t(1%)]\tLoss: 1.016704\n",
      "Train Epoch: 1 [400/500\t(81%)]\tLoss: 1.487005\n",
      "Train Epoch: 2 [0/500\t(1%)]\tLoss: 1.110769\n",
      "Train Epoch: 2 [400/500\t(81%)]\tLoss: 1.096552\n",
      "Train Epoch: 3 [0/500\t(1%)]\tLoss: 0.929042\n",
      "Train Epoch: 3 [400/500\t(81%)]\tLoss: 1.008347\n",
      "Train Epoch: 4 [0/500\t(1%)]\tLoss: 1.015343\n",
      "Train Epoch: 4 [400/500\t(81%)]\tLoss: 0.810820\n",
      "Train Epoch: 5 [0/500\t(1%)]\tLoss: 0.880734\n",
      "Train Epoch: 5 [400/500\t(81%)]\tLoss: 0.812637\n",
      "\n",
      "Worker 8 ends training in Global Round:12 |\n",
      "\n",
      "Worker 88 starts training in Global Round:12 |\n"
     ]
    },
    {
     "data": {
      "application/vnd.jupyter.widget-view+json": {
       "model_id": "d9c517cfd3a545ec86aa24de8987c3e7",
       "version_major": 2,
       "version_minor": 0
      },
      "text/plain": [
       "HBox(children=(IntProgress(value=0, max=5), HTML(value='')))"
      ]
     },
     "metadata": {},
     "output_type": "display_data"
    },
    {
     "name": "stdout",
     "output_type": "stream",
     "text": [
      "Train Epoch: 1 [0/500\t(1%)]\tLoss: 1.103437\n",
      "Train Epoch: 1 [400/500\t(81%)]\tLoss: 1.363631\n",
      "Train Epoch: 2 [0/500\t(1%)]\tLoss: 1.041484\n",
      "Train Epoch: 2 [400/500\t(81%)]\tLoss: 1.082653\n",
      "Train Epoch: 3 [0/500\t(1%)]\tLoss: 1.058272\n",
      "Train Epoch: 3 [400/500\t(81%)]\tLoss: 0.908388\n",
      "Train Epoch: 4 [0/500\t(1%)]\tLoss: 0.759780\n",
      "Train Epoch: 4 [400/500\t(81%)]\tLoss: 0.967029\n",
      "Train Epoch: 5 [0/500\t(1%)]\tLoss: 0.883373\n",
      "Train Epoch: 5 [400/500\t(81%)]\tLoss: 0.780228\n",
      "\n",
      "Worker 88 ends training in Global Round:12 |\n",
      "\n",
      "Worker 85 starts training in Global Round:12 |\n"
     ]
    },
    {
     "data": {
      "application/vnd.jupyter.widget-view+json": {
       "model_id": "7c89ddf263564fc4bba34697d3712cae",
       "version_major": 2,
       "version_minor": 0
      },
      "text/plain": [
       "HBox(children=(IntProgress(value=0, max=5), HTML(value='')))"
      ]
     },
     "metadata": {},
     "output_type": "display_data"
    },
    {
     "name": "stdout",
     "output_type": "stream",
     "text": [
      "Train Epoch: 1 [0/500\t(1%)]\tLoss: 1.258301\n",
      "Train Epoch: 1 [400/500\t(81%)]\tLoss: 1.662107\n",
      "Train Epoch: 2 [0/500\t(1%)]\tLoss: 1.118458\n",
      "Train Epoch: 2 [400/500\t(81%)]\tLoss: 1.289010\n",
      "Train Epoch: 3 [0/500\t(1%)]\tLoss: 0.993045\n",
      "Train Epoch: 3 [400/500\t(81%)]\tLoss: 1.024187\n",
      "Train Epoch: 4 [0/500\t(1%)]\tLoss: 0.730093\n",
      "Train Epoch: 4 [400/500\t(81%)]\tLoss: 1.135039\n",
      "Train Epoch: 5 [0/500\t(1%)]\tLoss: 0.908428\n",
      "Train Epoch: 5 [400/500\t(81%)]\tLoss: 1.024484\n",
      "\n",
      "Worker 85 ends training in Global Round:12 |\n",
      "\n",
      "Worker 72 starts training in Global Round:12 |\n"
     ]
    },
    {
     "data": {
      "application/vnd.jupyter.widget-view+json": {
       "model_id": "bb3fda73e8174791adf3c80e6c243cdd",
       "version_major": 2,
       "version_minor": 0
      },
      "text/plain": [
       "HBox(children=(IntProgress(value=0, max=5), HTML(value='')))"
      ]
     },
     "metadata": {},
     "output_type": "display_data"
    },
    {
     "name": "stdout",
     "output_type": "stream",
     "text": [
      "Train Epoch: 1 [0/500\t(1%)]\tLoss: 1.024335\n",
      "Train Epoch: 1 [400/500\t(81%)]\tLoss: 1.400194\n",
      "Train Epoch: 2 [0/500\t(1%)]\tLoss: 0.964520\n",
      "Train Epoch: 2 [400/500\t(81%)]\tLoss: 1.286381\n",
      "Train Epoch: 3 [0/500\t(1%)]\tLoss: 1.088283\n",
      "Train Epoch: 3 [400/500\t(81%)]\tLoss: 1.048357\n",
      "Train Epoch: 4 [0/500\t(1%)]\tLoss: 0.915745\n",
      "Train Epoch: 4 [400/500\t(81%)]\tLoss: 0.952686\n",
      "Train Epoch: 5 [0/500\t(1%)]\tLoss: 0.827693\n",
      "Train Epoch: 5 [400/500\t(81%)]\tLoss: 0.785609\n",
      "\n",
      "Performed attacks 3\n",
      "\n",
      "===>Random attack started by:  Worker 72  in Global Round:  12\n",
      "Random attack strating: \n",
      "Performed attacks 4\n",
      "Worker 72 ends training in Global Round:12 |\n",
      "\n",
      "Worker 79 starts training in Global Round:12 |\n"
     ]
    },
    {
     "data": {
      "application/vnd.jupyter.widget-view+json": {
       "model_id": "cce31e40108f4c7ea60977a960dd1b3a",
       "version_major": 2,
       "version_minor": 0
      },
      "text/plain": [
       "HBox(children=(IntProgress(value=0, max=5), HTML(value='')))"
      ]
     },
     "metadata": {},
     "output_type": "display_data"
    },
    {
     "name": "stdout",
     "output_type": "stream",
     "text": [
      "Train Epoch: 1 [0/500\t(1%)]\tLoss: 1.279702\n",
      "Train Epoch: 1 [400/500\t(81%)]\tLoss: 1.358451\n",
      "Train Epoch: 2 [0/500\t(1%)]\tLoss: 1.009404\n",
      "Train Epoch: 2 [400/500\t(81%)]\tLoss: 1.313308\n",
      "Train Epoch: 3 [0/500\t(1%)]\tLoss: 1.122937\n",
      "Train Epoch: 3 [400/500\t(81%)]\tLoss: 1.354099\n",
      "Train Epoch: 4 [0/500\t(1%)]\tLoss: 1.031109\n",
      "Train Epoch: 4 [400/500\t(81%)]\tLoss: 0.930105\n",
      "Train Epoch: 5 [0/500\t(1%)]\tLoss: 1.069800\n",
      "Train Epoch: 5 [400/500\t(81%)]\tLoss: 0.924782\n",
      "\n",
      "Worker 79 ends training in Global Round:12 |\n",
      "\n",
      "Worker 53 starts training in Global Round:12 |\n"
     ]
    },
    {
     "data": {
      "application/vnd.jupyter.widget-view+json": {
       "model_id": "cb99d1e6d3a94cb0aa561f4ce136c6e0",
       "version_major": 2,
       "version_minor": 0
      },
      "text/plain": [
       "HBox(children=(IntProgress(value=0, max=5), HTML(value='')))"
      ]
     },
     "metadata": {},
     "output_type": "display_data"
    },
    {
     "name": "stdout",
     "output_type": "stream",
     "text": [
      "Train Epoch: 1 [0/500\t(1%)]\tLoss: 1.253309\n",
      "Train Epoch: 1 [400/500\t(81%)]\tLoss: 1.322986\n",
      "Train Epoch: 2 [0/500\t(1%)]\tLoss: 1.239079\n",
      "Train Epoch: 2 [400/500\t(81%)]\tLoss: 1.063348\n",
      "Train Epoch: 3 [0/500\t(1%)]\tLoss: 0.841217\n",
      "Train Epoch: 3 [400/500\t(81%)]\tLoss: 1.118517\n",
      "Train Epoch: 4 [0/500\t(1%)]\tLoss: 0.848100\n",
      "Train Epoch: 4 [400/500\t(81%)]\tLoss: 0.775018\n",
      "Train Epoch: 5 [0/500\t(1%)]\tLoss: 0.803983\n",
      "Train Epoch: 5 [400/500\t(81%)]\tLoss: 0.904590\n",
      "\n",
      "Worker 53 ends training in Global Round:12 |\n",
      "\n",
      "Worker 73 starts training in Global Round:12 |\n"
     ]
    },
    {
     "data": {
      "application/vnd.jupyter.widget-view+json": {
       "model_id": "c49f0a2e99694acea9632b27f4a77718",
       "version_major": 2,
       "version_minor": 0
      },
      "text/plain": [
       "HBox(children=(IntProgress(value=0, max=5), HTML(value='')))"
      ]
     },
     "metadata": {},
     "output_type": "display_data"
    },
    {
     "name": "stdout",
     "output_type": "stream",
     "text": [
      "Train Epoch: 1 [0/500\t(1%)]\tLoss: 1.215119\n",
      "Train Epoch: 1 [400/500\t(81%)]\tLoss: 1.353583\n",
      "Train Epoch: 2 [0/500\t(1%)]\tLoss: 0.912705\n",
      "Train Epoch: 2 [400/500\t(81%)]\tLoss: 0.979907\n",
      "Train Epoch: 3 [0/500\t(1%)]\tLoss: 0.772206\n",
      "Train Epoch: 3 [400/500\t(81%)]\tLoss: 0.949800\n",
      "Train Epoch: 4 [0/500\t(1%)]\tLoss: 0.853622\n",
      "Train Epoch: 4 [400/500\t(81%)]\tLoss: 0.940038\n",
      "Train Epoch: 5 [0/500\t(1%)]\tLoss: 0.906412\n",
      "Train Epoch: 5 [400/500\t(81%)]\tLoss: 0.971585\n",
      "\n",
      "Worker 73 ends training in Global Round:12 |\n",
      "\n",
      "Worker 60 starts training in Global Round:12 |\n"
     ]
    },
    {
     "data": {
      "application/vnd.jupyter.widget-view+json": {
       "model_id": "be5056826ae74a19b0dbd8430e9802f5",
       "version_major": 2,
       "version_minor": 0
      },
      "text/plain": [
       "HBox(children=(IntProgress(value=0, max=5), HTML(value='')))"
      ]
     },
     "metadata": {},
     "output_type": "display_data"
    },
    {
     "name": "stdout",
     "output_type": "stream",
     "text": [
      "Train Epoch: 1 [0/500\t(1%)]\tLoss: 1.406512\n",
      "Train Epoch: 1 [400/500\t(81%)]\tLoss: 1.183550\n",
      "Train Epoch: 2 [0/500\t(1%)]\tLoss: 1.010680\n",
      "Train Epoch: 2 [400/500\t(81%)]\tLoss: 0.957327\n",
      "Train Epoch: 3 [0/500\t(1%)]\tLoss: 0.953651\n",
      "Train Epoch: 3 [400/500\t(81%)]\tLoss: 1.111201\n",
      "Train Epoch: 4 [0/500\t(1%)]\tLoss: 0.904709\n",
      "Train Epoch: 4 [400/500\t(81%)]\tLoss: 1.159637\n",
      "Train Epoch: 5 [0/500\t(1%)]\tLoss: 0.910056\n",
      "Train Epoch: 5 [400/500\t(81%)]\tLoss: 1.037847\n",
      "\n",
      "Worker 60 ends training in Global Round:12 |\n",
      "\n",
      "Worker 56 starts training in Global Round:12 |\n"
     ]
    },
    {
     "data": {
      "application/vnd.jupyter.widget-view+json": {
       "model_id": "97e0e12843a147a296fd56b2a0ef7c8a",
       "version_major": 2,
       "version_minor": 0
      },
      "text/plain": [
       "HBox(children=(IntProgress(value=0, max=5), HTML(value='')))"
      ]
     },
     "metadata": {},
     "output_type": "display_data"
    },
    {
     "name": "stdout",
     "output_type": "stream",
     "text": [
      "Train Epoch: 1 [0/500\t(1%)]\tLoss: 1.190368\n",
      "Train Epoch: 1 [400/500\t(81%)]\tLoss: 1.268966\n",
      "Train Epoch: 2 [0/500\t(1%)]\tLoss: 0.993088\n",
      "Train Epoch: 2 [400/500\t(81%)]\tLoss: 1.075367\n",
      "Train Epoch: 3 [0/500\t(1%)]\tLoss: 0.953159\n",
      "Train Epoch: 3 [400/500\t(81%)]\tLoss: 0.938687\n",
      "Train Epoch: 4 [0/500\t(1%)]\tLoss: 1.046137\n",
      "Train Epoch: 4 [400/500\t(81%)]\tLoss: 1.286100\n",
      "Train Epoch: 5 [0/500\t(1%)]\tLoss: 0.778992\n",
      "Train Epoch: 5 [400/500\t(81%)]\tLoss: 0.805690\n",
      "\n",
      "Worker 56 ends training in Global Round:12 |\n",
      "\n",
      "Average loss: 1.2475, Accuracy: 5634/10000 (56%)\n",
      "\n",
      "\n",
      "Selected workers\n",
      "\n",
      "[93 96 46  5 98 41 19 57 12  9 28 77 15 22 29]\n",
      "Worker 93 : is  Honest\n",
      "Worker 96 : is  Honest\n",
      "Worker 46 : is  Random_Attacker\n",
      "Worker 5 : is  Honest\n",
      "Worker 98 : is  Random_Attacker\n",
      "Worker 41 : is  Random_Attacker\n",
      "Worker 19 : is  Random_Attacker\n",
      "Worker 57 : is  Honest\n",
      "Worker 12 : is  Random_Attacker\n",
      "Worker 9 : is  Honest\n",
      "Worker 28 : is  Random_Attacker\n",
      "Worker 77 : is  Honest\n",
      "Worker 15 : is  Honest\n",
      "Worker 22 : is  Random_Attacker\n",
      "Worker 29 : is  Honest\n",
      "\n",
      " | Global Training Round : 13 |\n",
      "\n",
      "\n",
      "Worker 93 starts training in Global Round:13 |\n"
     ]
    },
    {
     "data": {
      "application/vnd.jupyter.widget-view+json": {
       "model_id": "7dfeb35e6e394f40b0bfdf45443b581d",
       "version_major": 2,
       "version_minor": 0
      },
      "text/plain": [
       "HBox(children=(IntProgress(value=0, max=5), HTML(value='')))"
      ]
     },
     "metadata": {},
     "output_type": "display_data"
    },
    {
     "name": "stdout",
     "output_type": "stream",
     "text": [
      "Train Epoch: 1 [0/500\t(1%)]\tLoss: 1.320561\n",
      "Train Epoch: 1 [400/500\t(81%)]\tLoss: 1.592528\n",
      "Train Epoch: 2 [0/500\t(1%)]\tLoss: 0.933765\n",
      "Train Epoch: 2 [400/500\t(81%)]\tLoss: 1.093224\n",
      "Train Epoch: 3 [0/500\t(1%)]\tLoss: 0.966044\n",
      "Train Epoch: 3 [400/500\t(81%)]\tLoss: 1.156312\n",
      "Train Epoch: 4 [0/500\t(1%)]\tLoss: 0.929985\n",
      "Train Epoch: 4 [400/500\t(81%)]\tLoss: 0.942015\n",
      "Train Epoch: 5 [0/500\t(1%)]\tLoss: 0.856015\n",
      "Train Epoch: 5 [400/500\t(81%)]\tLoss: 0.984275\n",
      "\n",
      "Worker 93 ends training in Global Round:13 |\n",
      "\n",
      "Worker 96 starts training in Global Round:13 |\n"
     ]
    },
    {
     "data": {
      "application/vnd.jupyter.widget-view+json": {
       "model_id": "c978bdee871941c4aca1cb1714670753",
       "version_major": 2,
       "version_minor": 0
      },
      "text/plain": [
       "HBox(children=(IntProgress(value=0, max=5), HTML(value='')))"
      ]
     },
     "metadata": {},
     "output_type": "display_data"
    },
    {
     "name": "stdout",
     "output_type": "stream",
     "text": [
      "Train Epoch: 1 [0/500\t(1%)]\tLoss: 1.196831\n",
      "Train Epoch: 1 [400/500\t(81%)]\tLoss: 1.359406\n",
      "Train Epoch: 2 [0/500\t(1%)]\tLoss: 1.099087\n",
      "Train Epoch: 2 [400/500\t(81%)]\tLoss: 0.929977\n",
      "Train Epoch: 3 [0/500\t(1%)]\tLoss: 0.907084\n",
      "Train Epoch: 3 [400/500\t(81%)]\tLoss: 1.094996\n",
      "Train Epoch: 4 [0/500\t(1%)]\tLoss: 0.859268\n",
      "Train Epoch: 4 [400/500\t(81%)]\tLoss: 0.802333\n",
      "Train Epoch: 5 [0/500\t(1%)]\tLoss: 0.642923\n",
      "Train Epoch: 5 [400/500\t(81%)]\tLoss: 0.862736\n",
      "\n",
      "Worker 96 ends training in Global Round:13 |\n",
      "\n",
      "Worker 46 starts training in Global Round:13 |\n"
     ]
    },
    {
     "data": {
      "application/vnd.jupyter.widget-view+json": {
       "model_id": "ae2c9261662546708dd6ee7d8022e9c8",
       "version_major": 2,
       "version_minor": 0
      },
      "text/plain": [
       "HBox(children=(IntProgress(value=0, max=5), HTML(value='')))"
      ]
     },
     "metadata": {},
     "output_type": "display_data"
    },
    {
     "name": "stdout",
     "output_type": "stream",
     "text": [
      "Train Epoch: 1 [0/500\t(1%)]\tLoss: 1.251194\n",
      "Train Epoch: 1 [400/500\t(81%)]\tLoss: 1.267542\n",
      "Train Epoch: 2 [0/500\t(1%)]\tLoss: 0.885666\n",
      "Train Epoch: 2 [400/500\t(81%)]\tLoss: 1.299060\n",
      "Train Epoch: 3 [0/500\t(1%)]\tLoss: 0.845806\n",
      "Train Epoch: 3 [400/500\t(81%)]\tLoss: 1.140749\n",
      "Train Epoch: 4 [0/500\t(1%)]\tLoss: 0.970745\n",
      "Train Epoch: 4 [400/500\t(81%)]\tLoss: 1.326256\n",
      "Train Epoch: 5 [0/500\t(1%)]\tLoss: 1.022759\n",
      "Train Epoch: 5 [400/500\t(81%)]\tLoss: 1.098483\n",
      "\n",
      "Performed attacks 0\n",
      "\n",
      "===>Random attack started by:  Worker 46  in Global Round:  13\n",
      "Random attack strating: \n",
      "Performed attacks 1\n",
      "Worker 46 ends training in Global Round:13 |\n",
      "\n",
      "Worker 5 starts training in Global Round:13 |\n"
     ]
    },
    {
     "data": {
      "application/vnd.jupyter.widget-view+json": {
       "model_id": "e78b96280ec849b2a3ffd48d2b69573b",
       "version_major": 2,
       "version_minor": 0
      },
      "text/plain": [
       "HBox(children=(IntProgress(value=0, max=5), HTML(value='')))"
      ]
     },
     "metadata": {},
     "output_type": "display_data"
    },
    {
     "name": "stdout",
     "output_type": "stream",
     "text": [
      "Train Epoch: 1 [0/500\t(1%)]\tLoss: 0.958489\n",
      "Train Epoch: 1 [400/500\t(81%)]\tLoss: 1.079569\n",
      "Train Epoch: 2 [0/500\t(1%)]\tLoss: 0.969066\n",
      "Train Epoch: 2 [400/500\t(81%)]\tLoss: 1.160646\n",
      "Train Epoch: 3 [0/500\t(1%)]\tLoss: 0.917574\n",
      "Train Epoch: 3 [400/500\t(81%)]\tLoss: 0.803082\n",
      "Train Epoch: 4 [0/500\t(1%)]\tLoss: 0.662699\n",
      "Train Epoch: 4 [400/500\t(81%)]\tLoss: 0.852975\n",
      "Train Epoch: 5 [0/500\t(1%)]\tLoss: 0.704959\n",
      "Train Epoch: 5 [400/500\t(81%)]\tLoss: 0.883131\n",
      "\n",
      "Worker 5 ends training in Global Round:13 |\n",
      "\n",
      "Worker 98 starts training in Global Round:13 |\n"
     ]
    },
    {
     "data": {
      "application/vnd.jupyter.widget-view+json": {
       "model_id": "4d1a34b1688a4dac88b9c444f47293ca",
       "version_major": 2,
       "version_minor": 0
      },
      "text/plain": [
       "HBox(children=(IntProgress(value=0, max=5), HTML(value='')))"
      ]
     },
     "metadata": {},
     "output_type": "display_data"
    },
    {
     "name": "stdout",
     "output_type": "stream",
     "text": [
      "Train Epoch: 1 [0/500\t(1%)]\tLoss: 1.183425\n",
      "Train Epoch: 1 [400/500\t(81%)]\tLoss: 1.295407\n",
      "Train Epoch: 2 [0/500\t(1%)]\tLoss: 1.227019\n",
      "Train Epoch: 2 [400/500\t(81%)]\tLoss: 1.135427\n",
      "Train Epoch: 3 [0/500\t(1%)]\tLoss: 1.090365\n",
      "Train Epoch: 3 [400/500\t(81%)]\tLoss: 1.081856\n",
      "Train Epoch: 4 [0/500\t(1%)]\tLoss: 0.817094\n",
      "Train Epoch: 4 [400/500\t(81%)]\tLoss: 0.986790\n",
      "Train Epoch: 5 [0/500\t(1%)]\tLoss: 0.706744\n",
      "Train Epoch: 5 [400/500\t(81%)]\tLoss: 1.210984\n",
      "\n",
      "Performed attacks 1\n",
      "\n",
      "===>Random attack started by:  Worker 98  in Global Round:  13\n",
      "Random attack strating: \n",
      "Performed attacks 2\n",
      "Worker 98 ends training in Global Round:13 |\n",
      "\n",
      "Worker 41 starts training in Global Round:13 |\n"
     ]
    },
    {
     "data": {
      "application/vnd.jupyter.widget-view+json": {
       "model_id": "3e84063718c84673a0ca87acd2bc231b",
       "version_major": 2,
       "version_minor": 0
      },
      "text/plain": [
       "HBox(children=(IntProgress(value=0, max=5), HTML(value='')))"
      ]
     },
     "metadata": {},
     "output_type": "display_data"
    },
    {
     "name": "stdout",
     "output_type": "stream",
     "text": [
      "Train Epoch: 1 [0/500\t(1%)]\tLoss: 1.443286\n",
      "Train Epoch: 1 [400/500\t(81%)]\tLoss: 1.085733\n",
      "Train Epoch: 2 [0/500\t(1%)]\tLoss: 0.968008\n",
      "Train Epoch: 2 [400/500\t(81%)]\tLoss: 1.423729\n",
      "Train Epoch: 3 [0/500\t(1%)]\tLoss: 1.074990\n",
      "Train Epoch: 3 [400/500\t(81%)]\tLoss: 1.238688\n",
      "Train Epoch: 4 [0/500\t(1%)]\tLoss: 0.807748\n",
      "Train Epoch: 4 [400/500\t(81%)]\tLoss: 1.080624\n",
      "Train Epoch: 5 [0/500\t(1%)]\tLoss: 0.896090\n",
      "Train Epoch: 5 [400/500\t(81%)]\tLoss: 1.074996\n",
      "\n",
      "Performed attacks 2\n",
      "\n",
      "===>Random attack started by:  Worker 41  in Global Round:  13\n",
      "Random attack strating: \n",
      "Performed attacks 3\n",
      "Worker 41 ends training in Global Round:13 |\n",
      "\n",
      "Worker 19 starts training in Global Round:13 |\n"
     ]
    },
    {
     "data": {
      "application/vnd.jupyter.widget-view+json": {
       "model_id": "8f869832ae484dfca553a4508e723923",
       "version_major": 2,
       "version_minor": 0
      },
      "text/plain": [
       "HBox(children=(IntProgress(value=0, max=5), HTML(value='')))"
      ]
     },
     "metadata": {},
     "output_type": "display_data"
    },
    {
     "name": "stdout",
     "output_type": "stream",
     "text": [
      "Train Epoch: 1 [0/500\t(1%)]\tLoss: 1.085344\n",
      "Train Epoch: 1 [400/500\t(81%)]\tLoss: 1.317945\n",
      "Train Epoch: 2 [0/500\t(1%)]\tLoss: 0.945745\n",
      "Train Epoch: 2 [400/500\t(81%)]\tLoss: 1.080647\n",
      "Train Epoch: 3 [0/500\t(1%)]\tLoss: 0.848612\n",
      "Train Epoch: 3 [400/500\t(81%)]\tLoss: 1.057296\n",
      "Train Epoch: 4 [0/500\t(1%)]\tLoss: 1.014427\n",
      "Train Epoch: 4 [400/500\t(81%)]\tLoss: 0.959227\n",
      "Train Epoch: 5 [0/500\t(1%)]\tLoss: 0.817236\n",
      "Train Epoch: 5 [400/500\t(81%)]\tLoss: 0.862547\n",
      "\n",
      "Performed attacks 3\n",
      "\n",
      "===>Random attack started by:  Worker 19  in Global Round:  13\n",
      "Random attack strating: \n",
      "Performed attacks 4\n",
      "Worker 19 ends training in Global Round:13 |\n",
      "\n",
      "Worker 57 starts training in Global Round:13 |\n"
     ]
    },
    {
     "data": {
      "application/vnd.jupyter.widget-view+json": {
       "model_id": "c724745b690f43fc88365d9da2037fe5",
       "version_major": 2,
       "version_minor": 0
      },
      "text/plain": [
       "HBox(children=(IntProgress(value=0, max=5), HTML(value='')))"
      ]
     },
     "metadata": {},
     "output_type": "display_data"
    },
    {
     "name": "stdout",
     "output_type": "stream",
     "text": [
      "Train Epoch: 1 [0/500\t(1%)]\tLoss: 1.432627\n",
      "Train Epoch: 1 [400/500\t(81%)]\tLoss: 1.353266\n",
      "Train Epoch: 2 [0/500\t(1%)]\tLoss: 1.143758\n",
      "Train Epoch: 2 [400/500\t(81%)]\tLoss: 1.352403\n",
      "Train Epoch: 3 [0/500\t(1%)]\tLoss: 1.159729\n",
      "Train Epoch: 3 [400/500\t(81%)]\tLoss: 1.187909\n",
      "Train Epoch: 4 [0/500\t(1%)]\tLoss: 0.895323\n",
      "Train Epoch: 4 [400/500\t(81%)]\tLoss: 1.014293\n",
      "Train Epoch: 5 [0/500\t(1%)]\tLoss: 0.665613\n",
      "Train Epoch: 5 [400/500\t(81%)]\tLoss: 0.883536\n",
      "\n",
      "Worker 57 ends training in Global Round:13 |\n",
      "\n",
      "Worker 12 starts training in Global Round:13 |\n"
     ]
    },
    {
     "data": {
      "application/vnd.jupyter.widget-view+json": {
       "model_id": "e589a41b0e9d4188a3dcf6ab2c91587b",
       "version_major": 2,
       "version_minor": 0
      },
      "text/plain": [
       "HBox(children=(IntProgress(value=0, max=5), HTML(value='')))"
      ]
     },
     "metadata": {},
     "output_type": "display_data"
    },
    {
     "name": "stdout",
     "output_type": "stream",
     "text": [
      "Train Epoch: 1 [0/500\t(1%)]\tLoss: 1.304066\n",
      "Train Epoch: 1 [400/500\t(81%)]\tLoss: 1.223473\n",
      "Train Epoch: 2 [0/500\t(1%)]\tLoss: 1.060335\n",
      "Train Epoch: 2 [400/500\t(81%)]\tLoss: 1.105998\n",
      "Train Epoch: 3 [0/500\t(1%)]\tLoss: 0.839235\n",
      "Train Epoch: 3 [400/500\t(81%)]\tLoss: 1.089370\n",
      "Train Epoch: 4 [0/500\t(1%)]\tLoss: 0.869486\n",
      "Train Epoch: 4 [400/500\t(81%)]\tLoss: 0.918747\n",
      "Train Epoch: 5 [0/500\t(1%)]\tLoss: 0.859136\n",
      "Train Epoch: 5 [400/500\t(81%)]\tLoss: 0.838130\n",
      "\n",
      "Worker 12 ends training in Global Round:13 |\n",
      "\n",
      "Worker 9 starts training in Global Round:13 |\n"
     ]
    },
    {
     "data": {
      "application/vnd.jupyter.widget-view+json": {
       "model_id": "d4e6236904804df8856d527b61d29591",
       "version_major": 2,
       "version_minor": 0
      },
      "text/plain": [
       "HBox(children=(IntProgress(value=0, max=5), HTML(value='')))"
      ]
     },
     "metadata": {},
     "output_type": "display_data"
    },
    {
     "name": "stdout",
     "output_type": "stream",
     "text": [
      "Train Epoch: 1 [0/500\t(1%)]\tLoss: 1.027076\n",
      "Train Epoch: 1 [400/500\t(81%)]\tLoss: 1.204362\n",
      "Train Epoch: 2 [0/500\t(1%)]\tLoss: 0.896112\n",
      "Train Epoch: 2 [400/500\t(81%)]\tLoss: 1.215232\n",
      "Train Epoch: 3 [0/500\t(1%)]\tLoss: 0.773528\n",
      "Train Epoch: 3 [400/500\t(81%)]\tLoss: 1.249327\n",
      "Train Epoch: 4 [0/500\t(1%)]\tLoss: 0.830216\n",
      "Train Epoch: 4 [400/500\t(81%)]\tLoss: 1.112358\n",
      "Train Epoch: 5 [0/500\t(1%)]\tLoss: 0.858789\n",
      "Train Epoch: 5 [400/500\t(81%)]\tLoss: 0.803827\n",
      "\n",
      "Worker 9 ends training in Global Round:13 |\n",
      "\n",
      "Worker 28 starts training in Global Round:13 |\n"
     ]
    },
    {
     "data": {
      "application/vnd.jupyter.widget-view+json": {
       "model_id": "ea541f364f8240b0967ce54d651b11ce",
       "version_major": 2,
       "version_minor": 0
      },
      "text/plain": [
       "HBox(children=(IntProgress(value=0, max=5), HTML(value='')))"
      ]
     },
     "metadata": {},
     "output_type": "display_data"
    },
    {
     "name": "stdout",
     "output_type": "stream",
     "text": [
      "Train Epoch: 1 [0/500\t(1%)]\tLoss: 1.132280\n",
      "Train Epoch: 1 [400/500\t(81%)]\tLoss: 1.451064\n",
      "Train Epoch: 2 [0/500\t(1%)]\tLoss: 0.927854\n",
      "Train Epoch: 2 [400/500\t(81%)]\tLoss: 1.214985\n",
      "Train Epoch: 3 [0/500\t(1%)]\tLoss: 0.904438\n",
      "Train Epoch: 3 [400/500\t(81%)]\tLoss: 0.985897\n",
      "Train Epoch: 4 [0/500\t(1%)]\tLoss: 0.959093\n",
      "Train Epoch: 4 [400/500\t(81%)]\tLoss: 0.993774\n",
      "Train Epoch: 5 [0/500\t(1%)]\tLoss: 0.702109\n",
      "Train Epoch: 5 [400/500\t(81%)]\tLoss: 0.812456\n",
      "\n",
      "Worker 28 ends training in Global Round:13 |\n",
      "\n",
      "Worker 77 starts training in Global Round:13 |\n"
     ]
    },
    {
     "data": {
      "application/vnd.jupyter.widget-view+json": {
       "model_id": "6e5933ad79814d0e8deadb460758af59",
       "version_major": 2,
       "version_minor": 0
      },
      "text/plain": [
       "HBox(children=(IntProgress(value=0, max=5), HTML(value='')))"
      ]
     },
     "metadata": {},
     "output_type": "display_data"
    },
    {
     "name": "stdout",
     "output_type": "stream",
     "text": [
      "Train Epoch: 1 [0/500\t(1%)]\tLoss: 1.267075\n",
      "Train Epoch: 1 [400/500\t(81%)]\tLoss: 1.305648\n",
      "Train Epoch: 2 [0/500\t(1%)]\tLoss: 1.129008\n",
      "Train Epoch: 2 [400/500\t(81%)]\tLoss: 1.099159\n",
      "Train Epoch: 3 [0/500\t(1%)]\tLoss: 1.035476\n",
      "Train Epoch: 3 [400/500\t(81%)]\tLoss: 1.238138\n",
      "Train Epoch: 4 [0/500\t(1%)]\tLoss: 1.136932\n",
      "Train Epoch: 4 [400/500\t(81%)]\tLoss: 1.082212\n",
      "Train Epoch: 5 [0/500\t(1%)]\tLoss: 0.767988\n",
      "Train Epoch: 5 [400/500\t(81%)]\tLoss: 1.053827\n",
      "\n",
      "Worker 77 ends training in Global Round:13 |\n",
      "\n",
      "Worker 15 starts training in Global Round:13 |\n"
     ]
    },
    {
     "data": {
      "application/vnd.jupyter.widget-view+json": {
       "model_id": "9e795e11e7c94a168884d544682765dd",
       "version_major": 2,
       "version_minor": 0
      },
      "text/plain": [
       "HBox(children=(IntProgress(value=0, max=5), HTML(value='')))"
      ]
     },
     "metadata": {},
     "output_type": "display_data"
    },
    {
     "name": "stdout",
     "output_type": "stream",
     "text": [
      "Train Epoch: 1 [0/500\t(1%)]\tLoss: 1.195641\n",
      "Train Epoch: 1 [400/500\t(81%)]\tLoss: 1.478484\n",
      "Train Epoch: 2 [0/500\t(1%)]\tLoss: 1.233190\n",
      "Train Epoch: 2 [400/500\t(81%)]\tLoss: 1.259009\n",
      "Train Epoch: 3 [0/500\t(1%)]\tLoss: 1.040880\n",
      "Train Epoch: 3 [400/500\t(81%)]\tLoss: 0.991454\n",
      "Train Epoch: 4 [0/500\t(1%)]\tLoss: 0.995051\n",
      "Train Epoch: 4 [400/500\t(81%)]\tLoss: 0.948805\n",
      "Train Epoch: 5 [0/500\t(1%)]\tLoss: 1.192789\n",
      "Train Epoch: 5 [400/500\t(81%)]\tLoss: 0.989061\n",
      "\n",
      "Worker 15 ends training in Global Round:13 |\n",
      "\n",
      "Worker 22 starts training in Global Round:13 |\n"
     ]
    },
    {
     "data": {
      "application/vnd.jupyter.widget-view+json": {
       "model_id": "2f2000f10fad4aa4895a0c7317d4845b",
       "version_major": 2,
       "version_minor": 0
      },
      "text/plain": [
       "HBox(children=(IntProgress(value=0, max=5), HTML(value='')))"
      ]
     },
     "metadata": {},
     "output_type": "display_data"
    },
    {
     "name": "stdout",
     "output_type": "stream",
     "text": [
      "Train Epoch: 1 [0/500\t(1%)]\tLoss: 1.146154\n",
      "Train Epoch: 1 [400/500\t(81%)]\tLoss: 1.627032\n",
      "Train Epoch: 2 [0/500\t(1%)]\tLoss: 0.840742\n",
      "Train Epoch: 2 [400/500\t(81%)]\tLoss: 1.334549\n",
      "Train Epoch: 3 [0/500\t(1%)]\tLoss: 1.193711\n",
      "Train Epoch: 3 [400/500\t(81%)]\tLoss: 1.171625\n",
      "Train Epoch: 4 [0/500\t(1%)]\tLoss: 0.850881\n",
      "Train Epoch: 4 [400/500\t(81%)]\tLoss: 0.950584\n",
      "Train Epoch: 5 [0/500\t(1%)]\tLoss: 0.813477\n",
      "Train Epoch: 5 [400/500\t(81%)]\tLoss: 0.891133\n",
      "\n",
      "Worker 22 ends training in Global Round:13 |\n",
      "\n",
      "Worker 29 starts training in Global Round:13 |\n"
     ]
    },
    {
     "data": {
      "application/vnd.jupyter.widget-view+json": {
       "model_id": "6435288c74bd494a8d19d3035eecbd1f",
       "version_major": 2,
       "version_minor": 0
      },
      "text/plain": [
       "HBox(children=(IntProgress(value=0, max=5), HTML(value='')))"
      ]
     },
     "metadata": {},
     "output_type": "display_data"
    },
    {
     "name": "stdout",
     "output_type": "stream",
     "text": [
      "Train Epoch: 1 [0/500\t(1%)]\tLoss: 1.089051\n",
      "Train Epoch: 1 [400/500\t(81%)]\tLoss: 1.191721\n",
      "Train Epoch: 2 [0/500\t(1%)]\tLoss: 1.064019\n",
      "Train Epoch: 2 [400/500\t(81%)]\tLoss: 1.240904\n",
      "Train Epoch: 3 [0/500\t(1%)]\tLoss: 1.149469\n",
      "Train Epoch: 3 [400/500\t(81%)]\tLoss: 0.833749\n",
      "Train Epoch: 4 [0/500\t(1%)]\tLoss: 1.116228\n",
      "Train Epoch: 4 [400/500\t(81%)]\tLoss: 0.996951\n",
      "Train Epoch: 5 [0/500\t(1%)]\tLoss: 1.069639\n",
      "Train Epoch: 5 [400/500\t(81%)]\tLoss: 0.867167\n",
      "\n",
      "Worker 29 ends training in Global Round:13 |\n",
      "\n",
      "Average loss: 1.2640, Accuracy: 5776/10000 (58%)\n",
      "\n",
      "\n",
      "Selected workers\n",
      "\n",
      "[ 53  18  97  26  16  91  58  99  85  71  51  11   4 100  86]\n",
      "Worker 53 : is  Random_Attacker\n",
      "Worker 18 : is  Random_Attacker\n",
      "Worker 97 : is  Random_Attacker\n",
      "Worker 26 : is  Honest\n",
      "Worker 16 : is  Random_Attacker\n",
      "Worker 91 : is  Honest\n",
      "Worker 58 : is  Honest\n",
      "Worker 99 : is  Honest\n",
      "Worker 85 : is  Honest\n",
      "Worker 71 : is  Random_Attacker\n",
      "Worker 51 : is  Random_Attacker\n",
      "Worker 11 : is  Honest\n",
      "Worker 4 : is  Honest\n",
      "Worker 100 : is  Honest\n",
      "Worker 86 : is  Random_Attacker\n",
      "\n",
      " | Global Training Round : 14 |\n",
      "\n",
      "\n",
      "Worker 53 starts training in Global Round:14 |\n"
     ]
    },
    {
     "data": {
      "application/vnd.jupyter.widget-view+json": {
       "model_id": "332e17ea94c84d3eaa208481acc3f646",
       "version_major": 2,
       "version_minor": 0
      },
      "text/plain": [
       "HBox(children=(IntProgress(value=0, max=5), HTML(value='')))"
      ]
     },
     "metadata": {},
     "output_type": "display_data"
    },
    {
     "name": "stdout",
     "output_type": "stream",
     "text": [
      "Train Epoch: 1 [0/500\t(1%)]\tLoss: 1.005581\n",
      "Train Epoch: 1 [400/500\t(81%)]\tLoss: 1.232038\n",
      "Train Epoch: 2 [0/500\t(1%)]\tLoss: 1.035896\n",
      "Train Epoch: 2 [400/500\t(81%)]\tLoss: 1.133803\n",
      "Train Epoch: 3 [0/500\t(1%)]\tLoss: 0.884558\n",
      "Train Epoch: 3 [400/500\t(81%)]\tLoss: 1.212674\n",
      "Train Epoch: 4 [0/500\t(1%)]\tLoss: 0.839360\n",
      "Train Epoch: 4 [400/500\t(81%)]\tLoss: 0.890820\n",
      "Train Epoch: 5 [0/500\t(1%)]\tLoss: 0.584360\n",
      "Train Epoch: 5 [400/500\t(81%)]\tLoss: 0.713400\n",
      "\n",
      "Performed attacks 0\n",
      "\n",
      "===>Random attack started by:  Worker 53  in Global Round:  14\n",
      "Random attack strating: \n",
      "Performed attacks 1\n",
      "Worker 53 ends training in Global Round:14 |\n",
      "\n",
      "Worker 18 starts training in Global Round:14 |\n"
     ]
    },
    {
     "data": {
      "application/vnd.jupyter.widget-view+json": {
       "model_id": "141f3bb5418e493fa22501d92d5d902c",
       "version_major": 2,
       "version_minor": 0
      },
      "text/plain": [
       "HBox(children=(IntProgress(value=0, max=5), HTML(value='')))"
      ]
     },
     "metadata": {},
     "output_type": "display_data"
    },
    {
     "name": "stdout",
     "output_type": "stream",
     "text": [
      "Train Epoch: 1 [0/500\t(1%)]\tLoss: 1.109197\n",
      "Train Epoch: 1 [400/500\t(81%)]\tLoss: 1.308604\n",
      "Train Epoch: 2 [0/500\t(1%)]\tLoss: 0.864960\n",
      "Train Epoch: 2 [400/500\t(81%)]\tLoss: 1.178092\n",
      "Train Epoch: 3 [0/500\t(1%)]\tLoss: 0.872356\n",
      "Train Epoch: 3 [400/500\t(81%)]\tLoss: 1.127976\n",
      "Train Epoch: 4 [0/500\t(1%)]\tLoss: 0.872836\n",
      "Train Epoch: 4 [400/500\t(81%)]\tLoss: 1.002329\n",
      "Train Epoch: 5 [0/500\t(1%)]\tLoss: 0.718283\n",
      "Train Epoch: 5 [400/500\t(81%)]\tLoss: 0.819288\n",
      "\n",
      "Performed attacks 1\n",
      "\n",
      "===>Random attack started by:  Worker 18  in Global Round:  14\n",
      "Random attack strating: \n",
      "Performed attacks 2\n",
      "Worker 18 ends training in Global Round:14 |\n",
      "\n",
      "Worker 97 starts training in Global Round:14 |\n"
     ]
    },
    {
     "data": {
      "application/vnd.jupyter.widget-view+json": {
       "model_id": "b75bce38f00d4f91a0103586b49e2f3a",
       "version_major": 2,
       "version_minor": 0
      },
      "text/plain": [
       "HBox(children=(IntProgress(value=0, max=5), HTML(value='')))"
      ]
     },
     "metadata": {},
     "output_type": "display_data"
    },
    {
     "name": "stdout",
     "output_type": "stream",
     "text": [
      "Train Epoch: 1 [0/500\t(1%)]\tLoss: 0.836511\n",
      "Train Epoch: 1 [400/500\t(81%)]\tLoss: 1.034582\n",
      "Train Epoch: 2 [0/500\t(1%)]\tLoss: 0.853389\n",
      "Train Epoch: 2 [400/500\t(81%)]\tLoss: 1.203466\n",
      "Train Epoch: 3 [0/500\t(1%)]\tLoss: 1.010711\n",
      "Train Epoch: 3 [400/500\t(81%)]\tLoss: 0.972374\n",
      "Train Epoch: 4 [0/500\t(1%)]\tLoss: 0.889188\n",
      "Train Epoch: 4 [400/500\t(81%)]\tLoss: 0.912014\n",
      "Train Epoch: 5 [0/500\t(1%)]\tLoss: 0.780879\n",
      "Train Epoch: 5 [400/500\t(81%)]\tLoss: 1.005928\n",
      "\n",
      "Performed attacks 2\n",
      "\n",
      "===>Random attack started by:  Worker 97  in Global Round:  14\n",
      "Random attack strating: \n",
      "Performed attacks 3\n",
      "Worker 97 ends training in Global Round:14 |\n",
      "\n",
      "Worker 26 starts training in Global Round:14 |\n"
     ]
    },
    {
     "data": {
      "application/vnd.jupyter.widget-view+json": {
       "model_id": "53fc7d077ed941c7ada72ccb22729c25",
       "version_major": 2,
       "version_minor": 0
      },
      "text/plain": [
       "HBox(children=(IntProgress(value=0, max=5), HTML(value='')))"
      ]
     },
     "metadata": {},
     "output_type": "display_data"
    },
    {
     "name": "stdout",
     "output_type": "stream",
     "text": [
      "Train Epoch: 1 [0/500\t(1%)]\tLoss: 0.990730\n",
      "Train Epoch: 1 [400/500\t(81%)]\tLoss: 1.174829\n",
      "Train Epoch: 2 [0/500\t(1%)]\tLoss: 1.177620\n",
      "Train Epoch: 2 [400/500\t(81%)]\tLoss: 1.137648\n",
      "Train Epoch: 3 [0/500\t(1%)]\tLoss: 1.022664\n",
      "Train Epoch: 3 [400/500\t(81%)]\tLoss: 1.165204\n",
      "Train Epoch: 4 [0/500\t(1%)]\tLoss: 0.762421\n",
      "Train Epoch: 4 [400/500\t(81%)]\tLoss: 1.034347\n",
      "Train Epoch: 5 [0/500\t(1%)]\tLoss: 0.777624\n",
      "Train Epoch: 5 [400/500\t(81%)]\tLoss: 0.918677\n",
      "\n",
      "Worker 26 ends training in Global Round:14 |\n",
      "\n",
      "Worker 16 starts training in Global Round:14 |\n"
     ]
    },
    {
     "data": {
      "application/vnd.jupyter.widget-view+json": {
       "model_id": "c616ba00dbed4292b5ced324e0c182e9",
       "version_major": 2,
       "version_minor": 0
      },
      "text/plain": [
       "HBox(children=(IntProgress(value=0, max=5), HTML(value='')))"
      ]
     },
     "metadata": {},
     "output_type": "display_data"
    },
    {
     "name": "stdout",
     "output_type": "stream",
     "text": [
      "Train Epoch: 1 [0/500\t(1%)]\tLoss: 1.197754\n",
      "Train Epoch: 1 [400/500\t(81%)]\tLoss: 1.486521\n",
      "Train Epoch: 2 [0/500\t(1%)]\tLoss: 0.979462\n",
      "Train Epoch: 2 [400/500\t(81%)]\tLoss: 1.331636\n",
      "Train Epoch: 3 [0/500\t(1%)]\tLoss: 0.892537\n",
      "Train Epoch: 3 [400/500\t(81%)]\tLoss: 1.158480\n",
      "Train Epoch: 4 [0/500\t(1%)]\tLoss: 0.795926\n",
      "Train Epoch: 4 [400/500\t(81%)]\tLoss: 1.311398\n",
      "Train Epoch: 5 [0/500\t(1%)]\tLoss: 0.884641\n",
      "Train Epoch: 5 [400/500\t(81%)]\tLoss: 0.822206\n",
      "\n",
      "Performed attacks 3\n",
      "\n",
      "===>Random attack started by:  Worker 16  in Global Round:  14\n",
      "Random attack strating: \n",
      "Performed attacks 4\n",
      "Worker 16 ends training in Global Round:14 |\n",
      "\n",
      "Worker 91 starts training in Global Round:14 |\n"
     ]
    },
    {
     "data": {
      "application/vnd.jupyter.widget-view+json": {
       "model_id": "bf0eb349fb724f74ae65cf39d364d885",
       "version_major": 2,
       "version_minor": 0
      },
      "text/plain": [
       "HBox(children=(IntProgress(value=0, max=5), HTML(value='')))"
      ]
     },
     "metadata": {},
     "output_type": "display_data"
    },
    {
     "name": "stdout",
     "output_type": "stream",
     "text": [
      "Train Epoch: 1 [0/500\t(1%)]\tLoss: 1.121505\n",
      "Train Epoch: 1 [400/500\t(81%)]\tLoss: 1.413077\n",
      "Train Epoch: 2 [0/500\t(1%)]\tLoss: 1.047930\n",
      "Train Epoch: 2 [400/500\t(81%)]\tLoss: 1.028362\n",
      "Train Epoch: 3 [0/500\t(1%)]\tLoss: 0.712593\n",
      "Train Epoch: 3 [400/500\t(81%)]\tLoss: 1.258075\n",
      "Train Epoch: 4 [0/500\t(1%)]\tLoss: 0.835527\n",
      "Train Epoch: 4 [400/500\t(81%)]\tLoss: 0.964889\n",
      "Train Epoch: 5 [0/500\t(1%)]\tLoss: 0.727572\n",
      "Train Epoch: 5 [400/500\t(81%)]\tLoss: 0.817693\n",
      "\n",
      "Worker 91 ends training in Global Round:14 |\n",
      "\n",
      "Worker 58 starts training in Global Round:14 |\n"
     ]
    },
    {
     "data": {
      "application/vnd.jupyter.widget-view+json": {
       "model_id": "2ac411d4d08d4549a8513384382ca36f",
       "version_major": 2,
       "version_minor": 0
      },
      "text/plain": [
       "HBox(children=(IntProgress(value=0, max=5), HTML(value='')))"
      ]
     },
     "metadata": {},
     "output_type": "display_data"
    },
    {
     "name": "stdout",
     "output_type": "stream",
     "text": [
      "Train Epoch: 1 [0/500\t(1%)]\tLoss: 1.441872\n",
      "Train Epoch: 1 [400/500\t(81%)]\tLoss: 1.202671\n",
      "Train Epoch: 2 [0/500\t(1%)]\tLoss: 0.795922\n",
      "Train Epoch: 2 [400/500\t(81%)]\tLoss: 0.972476\n",
      "Train Epoch: 3 [0/500\t(1%)]\tLoss: 0.927308\n",
      "Train Epoch: 3 [400/500\t(81%)]\tLoss: 1.008038\n",
      "Train Epoch: 4 [0/500\t(1%)]\tLoss: 0.830248\n",
      "Train Epoch: 4 [400/500\t(81%)]\tLoss: 1.009997\n",
      "Train Epoch: 5 [0/500\t(1%)]\tLoss: 0.742873\n",
      "Train Epoch: 5 [400/500\t(81%)]\tLoss: 0.757959\n",
      "\n",
      "Worker 58 ends training in Global Round:14 |\n",
      "\n",
      "Worker 99 starts training in Global Round:14 |\n"
     ]
    },
    {
     "data": {
      "application/vnd.jupyter.widget-view+json": {
       "model_id": "6d258242cb604d8391621f537424da52",
       "version_major": 2,
       "version_minor": 0
      },
      "text/plain": [
       "HBox(children=(IntProgress(value=0, max=5), HTML(value='')))"
      ]
     },
     "metadata": {},
     "output_type": "display_data"
    },
    {
     "name": "stdout",
     "output_type": "stream",
     "text": [
      "Train Epoch: 1 [0/500\t(1%)]\tLoss: 0.990524\n",
      "Train Epoch: 1 [400/500\t(81%)]\tLoss: 1.249627\n",
      "Train Epoch: 2 [0/500\t(1%)]\tLoss: 0.852415\n",
      "Train Epoch: 2 [400/500\t(81%)]\tLoss: 1.019865\n",
      "Train Epoch: 3 [0/500\t(1%)]\tLoss: 0.972448\n",
      "Train Epoch: 3 [400/500\t(81%)]\tLoss: 0.979536\n",
      "Train Epoch: 4 [0/500\t(1%)]\tLoss: 1.019606\n",
      "Train Epoch: 4 [400/500\t(81%)]\tLoss: 0.891714\n",
      "Train Epoch: 5 [0/500\t(1%)]\tLoss: 0.659491\n",
      "Train Epoch: 5 [400/500\t(81%)]\tLoss: 1.019168\n",
      "\n",
      "Worker 99 ends training in Global Round:14 |\n",
      "\n",
      "Worker 85 starts training in Global Round:14 |\n"
     ]
    },
    {
     "data": {
      "application/vnd.jupyter.widget-view+json": {
       "model_id": "bae79ed1ea314fa398e6fef8907428c4",
       "version_major": 2,
       "version_minor": 0
      },
      "text/plain": [
       "HBox(children=(IntProgress(value=0, max=5), HTML(value='')))"
      ]
     },
     "metadata": {},
     "output_type": "display_data"
    },
    {
     "name": "stdout",
     "output_type": "stream",
     "text": [
      "Train Epoch: 1 [0/500\t(1%)]\tLoss: 1.238119\n",
      "Train Epoch: 1 [400/500\t(81%)]\tLoss: 1.229789\n",
      "Train Epoch: 2 [0/500\t(1%)]\tLoss: 0.862111\n",
      "Train Epoch: 2 [400/500\t(81%)]\tLoss: 1.184381\n",
      "Train Epoch: 3 [0/500\t(1%)]\tLoss: 0.881492\n",
      "Train Epoch: 3 [400/500\t(81%)]\tLoss: 1.182109\n",
      "Train Epoch: 4 [0/500\t(1%)]\tLoss: 1.096864\n",
      "Train Epoch: 4 [400/500\t(81%)]\tLoss: 0.889491\n",
      "Train Epoch: 5 [0/500\t(1%)]\tLoss: 0.779505\n",
      "Train Epoch: 5 [400/500\t(81%)]\tLoss: 0.751075\n",
      "\n",
      "Worker 85 ends training in Global Round:14 |\n",
      "\n",
      "Worker 71 starts training in Global Round:14 |\n"
     ]
    },
    {
     "data": {
      "application/vnd.jupyter.widget-view+json": {
       "model_id": "90970339b0c04145b794b82bd70f086d",
       "version_major": 2,
       "version_minor": 0
      },
      "text/plain": [
       "HBox(children=(IntProgress(value=0, max=5), HTML(value='')))"
      ]
     },
     "metadata": {},
     "output_type": "display_data"
    },
    {
     "name": "stdout",
     "output_type": "stream",
     "text": [
      "Train Epoch: 1 [0/500\t(1%)]\tLoss: 1.263148\n",
      "Train Epoch: 1 [400/500\t(81%)]\tLoss: 1.366524\n",
      "Train Epoch: 2 [0/500\t(1%)]\tLoss: 1.075677\n",
      "Train Epoch: 2 [400/500\t(81%)]\tLoss: 1.004862\n",
      "Train Epoch: 3 [0/500\t(1%)]\tLoss: 1.138929\n",
      "Train Epoch: 3 [400/500\t(81%)]\tLoss: 1.125983\n",
      "Train Epoch: 4 [0/500\t(1%)]\tLoss: 0.868244\n",
      "Train Epoch: 4 [400/500\t(81%)]\tLoss: 0.957734\n",
      "Train Epoch: 5 [0/500\t(1%)]\tLoss: 0.770975\n",
      "Train Epoch: 5 [400/500\t(81%)]\tLoss: 1.296216\n",
      "\n",
      "Worker 71 ends training in Global Round:14 |\n",
      "\n",
      "Worker 51 starts training in Global Round:14 |\n"
     ]
    },
    {
     "data": {
      "application/vnd.jupyter.widget-view+json": {
       "model_id": "5caf9be8788a43129817e3384d3d6c15",
       "version_major": 2,
       "version_minor": 0
      },
      "text/plain": [
       "HBox(children=(IntProgress(value=0, max=5), HTML(value='')))"
      ]
     },
     "metadata": {},
     "output_type": "display_data"
    },
    {
     "name": "stdout",
     "output_type": "stream",
     "text": [
      "Train Epoch: 1 [0/500\t(1%)]\tLoss: 1.074860\n",
      "Train Epoch: 1 [400/500\t(81%)]\tLoss: 1.270637\n",
      "Train Epoch: 2 [0/500\t(1%)]\tLoss: 1.130651\n",
      "Train Epoch: 2 [400/500\t(81%)]\tLoss: 1.133372\n",
      "Train Epoch: 3 [0/500\t(1%)]\tLoss: 0.834640\n",
      "Train Epoch: 3 [400/500\t(81%)]\tLoss: 1.126689\n",
      "Train Epoch: 4 [0/500\t(1%)]\tLoss: 0.818560\n",
      "Train Epoch: 4 [400/500\t(81%)]\tLoss: 1.043926\n",
      "Train Epoch: 5 [0/500\t(1%)]\tLoss: 0.877453\n",
      "Train Epoch: 5 [400/500\t(81%)]\tLoss: 0.874227\n",
      "\n",
      "Worker 51 ends training in Global Round:14 |\n",
      "\n",
      "Worker 11 starts training in Global Round:14 |\n"
     ]
    },
    {
     "data": {
      "application/vnd.jupyter.widget-view+json": {
       "model_id": "787ff147f0f54c7e8498530eb2210c91",
       "version_major": 2,
       "version_minor": 0
      },
      "text/plain": [
       "HBox(children=(IntProgress(value=0, max=5), HTML(value='')))"
      ]
     },
     "metadata": {},
     "output_type": "display_data"
    },
    {
     "name": "stdout",
     "output_type": "stream",
     "text": [
      "Train Epoch: 1 [0/500\t(1%)]\tLoss: 1.235737\n",
      "Train Epoch: 1 [400/500\t(81%)]\tLoss: 1.482163\n",
      "Train Epoch: 2 [0/500\t(1%)]\tLoss: 0.777641\n",
      "Train Epoch: 2 [400/500\t(81%)]\tLoss: 1.324812\n",
      "Train Epoch: 3 [0/500\t(1%)]\tLoss: 0.788803\n",
      "Train Epoch: 3 [400/500\t(81%)]\tLoss: 0.912184\n",
      "Train Epoch: 4 [0/500\t(1%)]\tLoss: 0.966440\n",
      "Train Epoch: 4 [400/500\t(81%)]\tLoss: 1.069615\n",
      "Train Epoch: 5 [0/500\t(1%)]\tLoss: 0.739734\n",
      "Train Epoch: 5 [400/500\t(81%)]\tLoss: 1.035858\n",
      "\n",
      "Worker 11 ends training in Global Round:14 |\n",
      "\n",
      "Worker 4 starts training in Global Round:14 |\n"
     ]
    },
    {
     "data": {
      "application/vnd.jupyter.widget-view+json": {
       "model_id": "105208ee73cb411e99947b2c82cf87de",
       "version_major": 2,
       "version_minor": 0
      },
      "text/plain": [
       "HBox(children=(IntProgress(value=0, max=5), HTML(value='')))"
      ]
     },
     "metadata": {},
     "output_type": "display_data"
    },
    {
     "name": "stdout",
     "output_type": "stream",
     "text": [
      "Train Epoch: 1 [0/500\t(1%)]\tLoss: 1.135722\n",
      "Train Epoch: 1 [400/500\t(81%)]\tLoss: 1.359223\n",
      "Train Epoch: 2 [0/500\t(1%)]\tLoss: 1.095450\n",
      "Train Epoch: 2 [400/500\t(81%)]\tLoss: 1.075764\n",
      "Train Epoch: 3 [0/500\t(1%)]\tLoss: 0.825198\n",
      "Train Epoch: 3 [400/500\t(81%)]\tLoss: 0.945249\n",
      "Train Epoch: 4 [0/500\t(1%)]\tLoss: 0.799093\n",
      "Train Epoch: 4 [400/500\t(81%)]\tLoss: 0.965225\n",
      "Train Epoch: 5 [0/500\t(1%)]\tLoss: 0.781447\n",
      "Train Epoch: 5 [400/500\t(81%)]\tLoss: 0.799588\n",
      "\n",
      "Worker 4 ends training in Global Round:14 |\n",
      "\n",
      "Worker 100 starts training in Global Round:14 |\n"
     ]
    },
    {
     "data": {
      "application/vnd.jupyter.widget-view+json": {
       "model_id": "17a3f1f5c41e4c56ac049561822a0d9e",
       "version_major": 2,
       "version_minor": 0
      },
      "text/plain": [
       "HBox(children=(IntProgress(value=0, max=5), HTML(value='')))"
      ]
     },
     "metadata": {},
     "output_type": "display_data"
    },
    {
     "name": "stdout",
     "output_type": "stream",
     "text": [
      "Train Epoch: 1 [0/500\t(1%)]\tLoss: 1.036682\n",
      "Train Epoch: 1 [400/500\t(81%)]\tLoss: 1.253325\n",
      "Train Epoch: 2 [0/500\t(1%)]\tLoss: 0.916864\n",
      "Train Epoch: 2 [400/500\t(81%)]\tLoss: 1.104497\n",
      "Train Epoch: 3 [0/500\t(1%)]\tLoss: 0.931111\n",
      "Train Epoch: 3 [400/500\t(81%)]\tLoss: 0.927774\n",
      "Train Epoch: 4 [0/500\t(1%)]\tLoss: 1.021146\n",
      "Train Epoch: 4 [400/500\t(81%)]\tLoss: 1.000746\n",
      "Train Epoch: 5 [0/500\t(1%)]\tLoss: 0.769236\n",
      "Train Epoch: 5 [400/500\t(81%)]\tLoss: 0.878120\n",
      "\n",
      "Worker 100 ends training in Global Round:14 |\n",
      "\n",
      "Worker 86 starts training in Global Round:14 |\n"
     ]
    },
    {
     "data": {
      "application/vnd.jupyter.widget-view+json": {
       "model_id": "f7f345fc3ceb4a30b7ad8ebcdfc14948",
       "version_major": 2,
       "version_minor": 0
      },
      "text/plain": [
       "HBox(children=(IntProgress(value=0, max=5), HTML(value='')))"
      ]
     },
     "metadata": {},
     "output_type": "display_data"
    },
    {
     "name": "stdout",
     "output_type": "stream",
     "text": [
      "Train Epoch: 1 [0/500\t(1%)]\tLoss: 1.267502\n",
      "Train Epoch: 1 [400/500\t(81%)]\tLoss: 1.217444\n",
      "Train Epoch: 2 [0/500\t(1%)]\tLoss: 1.174126\n",
      "Train Epoch: 2 [400/500\t(81%)]\tLoss: 0.988698\n",
      "Train Epoch: 3 [0/500\t(1%)]\tLoss: 0.913439\n",
      "Train Epoch: 3 [400/500\t(81%)]\tLoss: 0.972497\n",
      "Train Epoch: 4 [0/500\t(1%)]\tLoss: 0.737138\n",
      "Train Epoch: 4 [400/500\t(81%)]\tLoss: 0.992362\n",
      "Train Epoch: 5 [0/500\t(1%)]\tLoss: 0.901901\n",
      "Train Epoch: 5 [400/500\t(81%)]\tLoss: 0.786294\n",
      "\n",
      "Worker 86 ends training in Global Round:14 |\n",
      "\n",
      "Average loss: 1.2090, Accuracy: 5828/10000 (58%)\n",
      "\n",
      "\n",
      "Selected workers\n",
      "\n",
      "[ 3 79 32 92 25 47 42 51 30 61 53 81 63  1 70]\n",
      "Worker 3 : is  Random_Attacker\n",
      "Worker 79 : is  Random_Attacker\n",
      "Worker 32 : is  Honest\n",
      "Worker 92 : is  Random_Attacker\n",
      "Worker 25 : is  Honest\n",
      "Worker 47 : is  Honest\n",
      "Worker 42 : is  Honest\n",
      "Worker 51 : is  Random_Attacker\n",
      "Worker 30 : is  Honest\n",
      "Worker 61 : is  Honest\n",
      "Worker 53 : is  Random_Attacker\n",
      "Worker 81 : is  Honest\n",
      "Worker 63 : is  Honest\n",
      "Worker 1 : is  Honest\n",
      "Worker 70 : is  Honest\n",
      "\n",
      " | Global Training Round : 15 |\n",
      "\n",
      "\n",
      "Worker 3 starts training in Global Round:15 |\n"
     ]
    },
    {
     "data": {
      "application/vnd.jupyter.widget-view+json": {
       "model_id": "49c18eddf8054faab8a34061df8fe566",
       "version_major": 2,
       "version_minor": 0
      },
      "text/plain": [
       "HBox(children=(IntProgress(value=0, max=5), HTML(value='')))"
      ]
     },
     "metadata": {},
     "output_type": "display_data"
    },
    {
     "name": "stdout",
     "output_type": "stream",
     "text": [
      "Train Epoch: 1 [0/500\t(1%)]\tLoss: 1.064192\n",
      "Train Epoch: 1 [400/500\t(81%)]\tLoss: 1.175497\n",
      "Train Epoch: 2 [0/500\t(1%)]\tLoss: 0.878596\n",
      "Train Epoch: 2 [400/500\t(81%)]\tLoss: 1.235245\n",
      "Train Epoch: 3 [0/500\t(1%)]\tLoss: 1.034376\n",
      "Train Epoch: 3 [400/500\t(81%)]\tLoss: 0.993485\n",
      "Train Epoch: 4 [0/500\t(1%)]\tLoss: 0.839241\n",
      "Train Epoch: 4 [400/500\t(81%)]\tLoss: 0.874616\n",
      "Train Epoch: 5 [0/500\t(1%)]\tLoss: 0.807883\n",
      "Train Epoch: 5 [400/500\t(81%)]\tLoss: 0.753437\n",
      "\n",
      "Performed attacks 0\n",
      "\n",
      "===>Random attack started by:  Worker 3  in Global Round:  15\n",
      "Random attack strating: \n",
      "Performed attacks 1\n",
      "Worker 3 ends training in Global Round:15 |\n",
      "\n",
      "Worker 79 starts training in Global Round:15 |\n"
     ]
    },
    {
     "data": {
      "application/vnd.jupyter.widget-view+json": {
       "model_id": "7d1f8cfbc7ae42e6b24fd392ee13a455",
       "version_major": 2,
       "version_minor": 0
      },
      "text/plain": [
       "HBox(children=(IntProgress(value=0, max=5), HTML(value='')))"
      ]
     },
     "metadata": {},
     "output_type": "display_data"
    },
    {
     "name": "stdout",
     "output_type": "stream",
     "text": [
      "Train Epoch: 1 [0/500\t(1%)]\tLoss: 1.063250\n",
      "Train Epoch: 1 [400/500\t(81%)]\tLoss: 1.229793\n",
      "Train Epoch: 2 [0/500\t(1%)]\tLoss: 0.957491\n",
      "Train Epoch: 2 [400/500\t(81%)]\tLoss: 1.219497\n",
      "Train Epoch: 3 [0/500\t(1%)]\tLoss: 1.028133\n",
      "Train Epoch: 3 [400/500\t(81%)]\tLoss: 0.879436\n",
      "Train Epoch: 4 [0/500\t(1%)]\tLoss: 0.847097\n",
      "Train Epoch: 4 [400/500\t(81%)]\tLoss: 0.873699\n",
      "Train Epoch: 5 [0/500\t(1%)]\tLoss: 0.781067\n",
      "Train Epoch: 5 [400/500\t(81%)]\tLoss: 0.807983\n",
      "\n",
      "Performed attacks 1\n",
      "\n",
      "===>Random attack started by:  Worker 79  in Global Round:  15\n",
      "Random attack strating: \n",
      "Performed attacks 2\n",
      "Worker 79 ends training in Global Round:15 |\n",
      "\n",
      "Worker 32 starts training in Global Round:15 |\n"
     ]
    },
    {
     "data": {
      "application/vnd.jupyter.widget-view+json": {
       "model_id": "8d3471ca4fc949419acacd86b158a162",
       "version_major": 2,
       "version_minor": 0
      },
      "text/plain": [
       "HBox(children=(IntProgress(value=0, max=5), HTML(value='')))"
      ]
     },
     "metadata": {},
     "output_type": "display_data"
    },
    {
     "name": "stdout",
     "output_type": "stream",
     "text": [
      "Train Epoch: 1 [0/500\t(1%)]\tLoss: 1.445967\n",
      "Train Epoch: 1 [400/500\t(81%)]\tLoss: 1.288491\n",
      "Train Epoch: 2 [0/500\t(1%)]\tLoss: 1.175137\n",
      "Train Epoch: 2 [400/500\t(81%)]\tLoss: 1.129494\n",
      "Train Epoch: 3 [0/500\t(1%)]\tLoss: 0.996877\n",
      "Train Epoch: 3 [400/500\t(81%)]\tLoss: 0.991048\n",
      "Train Epoch: 4 [0/500\t(1%)]\tLoss: 1.033548\n",
      "Train Epoch: 4 [400/500\t(81%)]\tLoss: 1.131290\n",
      "Train Epoch: 5 [0/500\t(1%)]\tLoss: 0.775544\n",
      "Train Epoch: 5 [400/500\t(81%)]\tLoss: 0.934588\n",
      "\n",
      "Worker 32 ends training in Global Round:15 |\n",
      "\n",
      "Worker 92 starts training in Global Round:15 |\n"
     ]
    },
    {
     "data": {
      "application/vnd.jupyter.widget-view+json": {
       "model_id": "18c0dc7ee8754f81a6ac75f54fb6d866",
       "version_major": 2,
       "version_minor": 0
      },
      "text/plain": [
       "HBox(children=(IntProgress(value=0, max=5), HTML(value='')))"
      ]
     },
     "metadata": {},
     "output_type": "display_data"
    },
    {
     "name": "stdout",
     "output_type": "stream",
     "text": [
      "Train Epoch: 1 [0/500\t(1%)]\tLoss: 1.047562\n",
      "Train Epoch: 1 [400/500\t(81%)]\tLoss: 1.104517\n",
      "Train Epoch: 2 [0/500\t(1%)]\tLoss: 0.976401\n",
      "Train Epoch: 2 [400/500\t(81%)]\tLoss: 1.292051\n",
      "Train Epoch: 3 [0/500\t(1%)]\tLoss: 1.035336\n",
      "Train Epoch: 3 [400/500\t(81%)]\tLoss: 0.788540\n",
      "Train Epoch: 4 [0/500\t(1%)]\tLoss: 0.785346\n",
      "Train Epoch: 4 [400/500\t(81%)]\tLoss: 0.848694\n",
      "Train Epoch: 5 [0/500\t(1%)]\tLoss: 0.654417\n",
      "Train Epoch: 5 [400/500\t(81%)]\tLoss: 0.730572\n",
      "\n",
      "Performed attacks 2\n",
      "\n",
      "===>Random attack started by:  Worker 92  in Global Round:  15\n",
      "Random attack strating: \n",
      "Performed attacks 3\n",
      "Worker 92 ends training in Global Round:15 |\n",
      "\n",
      "Worker 25 starts training in Global Round:15 |\n"
     ]
    },
    {
     "data": {
      "application/vnd.jupyter.widget-view+json": {
       "model_id": "5de5c8045c5f4b518aeb537f6e0e7f0c",
       "version_major": 2,
       "version_minor": 0
      },
      "text/plain": [
       "HBox(children=(IntProgress(value=0, max=5), HTML(value='')))"
      ]
     },
     "metadata": {},
     "output_type": "display_data"
    },
    {
     "name": "stdout",
     "output_type": "stream",
     "text": [
      "Train Epoch: 1 [0/500\t(1%)]\tLoss: 1.069163\n",
      "Train Epoch: 1 [400/500\t(81%)]\tLoss: 1.422565\n",
      "Train Epoch: 2 [0/500\t(1%)]\tLoss: 0.896768\n",
      "Train Epoch: 2 [400/500\t(81%)]\tLoss: 1.068986\n",
      "Train Epoch: 3 [0/500\t(1%)]\tLoss: 1.007708\n",
      "Train Epoch: 3 [400/500\t(81%)]\tLoss: 0.974195\n",
      "Train Epoch: 4 [0/500\t(1%)]\tLoss: 0.870060\n",
      "Train Epoch: 4 [400/500\t(81%)]\tLoss: 1.170450\n",
      "Train Epoch: 5 [0/500\t(1%)]\tLoss: 0.838192\n",
      "Train Epoch: 5 [400/500\t(81%)]\tLoss: 1.034951\n",
      "\n",
      "Worker 25 ends training in Global Round:15 |\n",
      "\n",
      "Worker 47 starts training in Global Round:15 |\n"
     ]
    },
    {
     "data": {
      "application/vnd.jupyter.widget-view+json": {
       "model_id": "cf5c9ab8bfd04587b1eba350afe5d87e",
       "version_major": 2,
       "version_minor": 0
      },
      "text/plain": [
       "HBox(children=(IntProgress(value=0, max=5), HTML(value='')))"
      ]
     },
     "metadata": {},
     "output_type": "display_data"
    },
    {
     "name": "stdout",
     "output_type": "stream",
     "text": [
      "Train Epoch: 1 [0/500\t(1%)]\tLoss: 1.009392\n",
      "Train Epoch: 1 [400/500\t(81%)]\tLoss: 1.051183\n",
      "Train Epoch: 2 [0/500\t(1%)]\tLoss: 1.046211\n",
      "Train Epoch: 2 [400/500\t(81%)]\tLoss: 1.242619\n",
      "Train Epoch: 3 [0/500\t(1%)]\tLoss: 0.917459\n",
      "Train Epoch: 3 [400/500\t(81%)]\tLoss: 1.191622\n",
      "Train Epoch: 4 [0/500\t(1%)]\tLoss: 0.696595\n",
      "Train Epoch: 4 [400/500\t(81%)]\tLoss: 0.899851\n",
      "Train Epoch: 5 [0/500\t(1%)]\tLoss: 0.647360\n",
      "Train Epoch: 5 [400/500\t(81%)]\tLoss: 1.011218\n",
      "\n",
      "Worker 47 ends training in Global Round:15 |\n",
      "\n",
      "Worker 42 starts training in Global Round:15 |\n"
     ]
    },
    {
     "data": {
      "application/vnd.jupyter.widget-view+json": {
       "model_id": "a400b078e4174d80be4ffdabe6629c2f",
       "version_major": 2,
       "version_minor": 0
      },
      "text/plain": [
       "HBox(children=(IntProgress(value=0, max=5), HTML(value='')))"
      ]
     },
     "metadata": {},
     "output_type": "display_data"
    },
    {
     "name": "stdout",
     "output_type": "stream",
     "text": [
      "Train Epoch: 1 [0/500\t(1%)]\tLoss: 1.105884\n",
      "Train Epoch: 1 [400/500\t(81%)]\tLoss: 1.107447\n",
      "Train Epoch: 2 [0/500\t(1%)]\tLoss: 0.903156\n",
      "Train Epoch: 2 [400/500\t(81%)]\tLoss: 1.199838\n",
      "Train Epoch: 3 [0/500\t(1%)]\tLoss: 1.185199\n",
      "Train Epoch: 3 [400/500\t(81%)]\tLoss: 1.007621\n",
      "Train Epoch: 4 [0/500\t(1%)]\tLoss: 1.020506\n",
      "Train Epoch: 4 [400/500\t(81%)]\tLoss: 1.043213\n",
      "Train Epoch: 5 [0/500\t(1%)]\tLoss: 0.792028\n",
      "Train Epoch: 5 [400/500\t(81%)]\tLoss: 0.857957\n",
      "\n",
      "Worker 42 ends training in Global Round:15 |\n",
      "\n",
      "Worker 51 starts training in Global Round:15 |\n"
     ]
    },
    {
     "data": {
      "application/vnd.jupyter.widget-view+json": {
       "model_id": "5a38c0829924407fae0fad1716f2590a",
       "version_major": 2,
       "version_minor": 0
      },
      "text/plain": [
       "HBox(children=(IntProgress(value=0, max=5), HTML(value='')))"
      ]
     },
     "metadata": {},
     "output_type": "display_data"
    },
    {
     "name": "stdout",
     "output_type": "stream",
     "text": [
      "Train Epoch: 1 [0/500\t(1%)]\tLoss: 1.012631\n",
      "Train Epoch: 1 [400/500\t(81%)]\tLoss: 1.042456\n",
      "Train Epoch: 2 [0/500\t(1%)]\tLoss: 0.895900\n",
      "Train Epoch: 2 [400/500\t(81%)]\tLoss: 1.041761\n",
      "Train Epoch: 3 [0/500\t(1%)]\tLoss: 0.730461\n",
      "Train Epoch: 3 [400/500\t(81%)]\tLoss: 0.870047\n",
      "Train Epoch: 4 [0/500\t(1%)]\tLoss: 0.823852\n",
      "Train Epoch: 4 [400/500\t(81%)]\tLoss: 1.069348\n",
      "Train Epoch: 5 [0/500\t(1%)]\tLoss: 0.712513\n",
      "Train Epoch: 5 [400/500\t(81%)]\tLoss: 0.846078\n",
      "\n",
      "Performed attacks 3\n",
      "\n",
      "===>Random attack started by:  Worker 51  in Global Round:  15\n",
      "Random attack strating: \n",
      "Performed attacks 4\n",
      "Worker 51 ends training in Global Round:15 |\n",
      "\n",
      "Worker 30 starts training in Global Round:15 |\n"
     ]
    },
    {
     "data": {
      "application/vnd.jupyter.widget-view+json": {
       "model_id": "073d5553659248f286ab8e8efcc8817c",
       "version_major": 2,
       "version_minor": 0
      },
      "text/plain": [
       "HBox(children=(IntProgress(value=0, max=5), HTML(value='')))"
      ]
     },
     "metadata": {},
     "output_type": "display_data"
    },
    {
     "name": "stdout",
     "output_type": "stream",
     "text": [
      "Train Epoch: 1 [0/500\t(1%)]\tLoss: 1.087070\n",
      "Train Epoch: 1 [400/500\t(81%)]\tLoss: 1.162437\n",
      "Train Epoch: 2 [0/500\t(1%)]\tLoss: 0.957581\n",
      "Train Epoch: 2 [400/500\t(81%)]\tLoss: 0.964094\n",
      "Train Epoch: 3 [0/500\t(1%)]\tLoss: 0.880709\n",
      "Train Epoch: 3 [400/500\t(81%)]\tLoss: 1.027701\n",
      "Train Epoch: 4 [0/500\t(1%)]\tLoss: 0.907841\n",
      "Train Epoch: 4 [400/500\t(81%)]\tLoss: 0.835447\n",
      "Train Epoch: 5 [0/500\t(1%)]\tLoss: 0.733189\n",
      "Train Epoch: 5 [400/500\t(81%)]\tLoss: 0.613976\n",
      "\n",
      "Worker 30 ends training in Global Round:15 |\n",
      "\n",
      "Worker 61 starts training in Global Round:15 |\n"
     ]
    },
    {
     "data": {
      "application/vnd.jupyter.widget-view+json": {
       "model_id": "4bd6bbc80a044d3d957f137b6c1e9fe4",
       "version_major": 2,
       "version_minor": 0
      },
      "text/plain": [
       "HBox(children=(IntProgress(value=0, max=5), HTML(value='')))"
      ]
     },
     "metadata": {},
     "output_type": "display_data"
    },
    {
     "name": "stdout",
     "output_type": "stream",
     "text": [
      "Train Epoch: 1 [0/500\t(1%)]\tLoss: 0.921263\n",
      "Train Epoch: 1 [400/500\t(81%)]\tLoss: 1.311068\n",
      "Train Epoch: 2 [0/500\t(1%)]\tLoss: 1.021066\n",
      "Train Epoch: 2 [400/500\t(81%)]\tLoss: 1.047446\n",
      "Train Epoch: 3 [0/500\t(1%)]\tLoss: 0.781771\n",
      "Train Epoch: 3 [400/500\t(81%)]\tLoss: 1.228778\n",
      "Train Epoch: 4 [0/500\t(1%)]\tLoss: 0.895546\n",
      "Train Epoch: 4 [400/500\t(81%)]\tLoss: 1.060090\n",
      "Train Epoch: 5 [0/500\t(1%)]\tLoss: 0.656075\n",
      "Train Epoch: 5 [400/500\t(81%)]\tLoss: 0.904106\n",
      "\n",
      "Worker 61 ends training in Global Round:15 |\n",
      "\n",
      "Worker 53 starts training in Global Round:15 |\n"
     ]
    },
    {
     "data": {
      "application/vnd.jupyter.widget-view+json": {
       "model_id": "b33bb8a92af14f828427c709888e4dc9",
       "version_major": 2,
       "version_minor": 0
      },
      "text/plain": [
       "HBox(children=(IntProgress(value=0, max=5), HTML(value='')))"
      ]
     },
     "metadata": {},
     "output_type": "display_data"
    },
    {
     "name": "stdout",
     "output_type": "stream",
     "text": [
      "Train Epoch: 1 [0/500\t(1%)]\tLoss: 1.032353\n",
      "Train Epoch: 1 [400/500\t(81%)]\tLoss: 1.278005\n",
      "Train Epoch: 2 [0/500\t(1%)]\tLoss: 1.015751\n",
      "Train Epoch: 2 [400/500\t(81%)]\tLoss: 1.180078\n",
      "Train Epoch: 3 [0/500\t(1%)]\tLoss: 0.756312\n",
      "Train Epoch: 3 [400/500\t(81%)]\tLoss: 1.012743\n",
      "Train Epoch: 4 [0/500\t(1%)]\tLoss: 0.858661\n",
      "Train Epoch: 4 [400/500\t(81%)]\tLoss: 0.920636\n",
      "Train Epoch: 5 [0/500\t(1%)]\tLoss: 0.702321\n",
      "Train Epoch: 5 [400/500\t(81%)]\tLoss: 0.650568\n",
      "\n",
      "Worker 53 ends training in Global Round:15 |\n",
      "\n",
      "Worker 81 starts training in Global Round:15 |\n"
     ]
    },
    {
     "data": {
      "application/vnd.jupyter.widget-view+json": {
       "model_id": "7f8af9eb391a4baf81edab501b8fbcd0",
       "version_major": 2,
       "version_minor": 0
      },
      "text/plain": [
       "HBox(children=(IntProgress(value=0, max=5), HTML(value='')))"
      ]
     },
     "metadata": {},
     "output_type": "display_data"
    },
    {
     "name": "stdout",
     "output_type": "stream",
     "text": [
      "Train Epoch: 1 [0/500\t(1%)]\tLoss: 1.095510\n",
      "Train Epoch: 1 [400/500\t(81%)]\tLoss: 1.229480\n",
      "Train Epoch: 2 [0/500\t(1%)]\tLoss: 0.963386\n",
      "Train Epoch: 2 [400/500\t(81%)]\tLoss: 0.923449\n",
      "Train Epoch: 3 [0/500\t(1%)]\tLoss: 0.945777\n",
      "Train Epoch: 3 [400/500\t(81%)]\tLoss: 1.212343\n",
      "Train Epoch: 4 [0/500\t(1%)]\tLoss: 1.079164\n",
      "Train Epoch: 4 [400/500\t(81%)]\tLoss: 0.849645\n",
      "Train Epoch: 5 [0/500\t(1%)]\tLoss: 0.790022\n",
      "Train Epoch: 5 [400/500\t(81%)]\tLoss: 0.717228\n",
      "\n",
      "Worker 81 ends training in Global Round:15 |\n",
      "\n",
      "Worker 63 starts training in Global Round:15 |\n"
     ]
    },
    {
     "data": {
      "application/vnd.jupyter.widget-view+json": {
       "model_id": "33f01855268d410c8eb61ad1613bd214",
       "version_major": 2,
       "version_minor": 0
      },
      "text/plain": [
       "HBox(children=(IntProgress(value=0, max=5), HTML(value='')))"
      ]
     },
     "metadata": {},
     "output_type": "display_data"
    },
    {
     "name": "stdout",
     "output_type": "stream",
     "text": [
      "Train Epoch: 1 [0/500\t(1%)]\tLoss: 1.180817\n",
      "Train Epoch: 1 [400/500\t(81%)]\tLoss: 1.564042\n",
      "Train Epoch: 2 [0/500\t(1%)]\tLoss: 0.863390\n",
      "Train Epoch: 2 [400/500\t(81%)]\tLoss: 1.008213\n",
      "Train Epoch: 3 [0/500\t(1%)]\tLoss: 1.013534\n",
      "Train Epoch: 3 [400/500\t(81%)]\tLoss: 0.916432\n",
      "Train Epoch: 4 [0/500\t(1%)]\tLoss: 0.928367\n",
      "Train Epoch: 4 [400/500\t(81%)]\tLoss: 0.876865\n",
      "Train Epoch: 5 [0/500\t(1%)]\tLoss: 0.637605\n",
      "Train Epoch: 5 [400/500\t(81%)]\tLoss: 1.043912\n",
      "\n",
      "Worker 63 ends training in Global Round:15 |\n",
      "\n",
      "Worker 1 starts training in Global Round:15 |\n"
     ]
    },
    {
     "data": {
      "application/vnd.jupyter.widget-view+json": {
       "model_id": "a130dd2557a046d7bee091014f99d655",
       "version_major": 2,
       "version_minor": 0
      },
      "text/plain": [
       "HBox(children=(IntProgress(value=0, max=5), HTML(value='')))"
      ]
     },
     "metadata": {},
     "output_type": "display_data"
    },
    {
     "name": "stdout",
     "output_type": "stream",
     "text": [
      "Train Epoch: 1 [0/500\t(1%)]\tLoss: 1.092163\n",
      "Train Epoch: 1 [400/500\t(81%)]\tLoss: 1.458874\n",
      "Train Epoch: 2 [0/500\t(1%)]\tLoss: 1.046707\n",
      "Train Epoch: 2 [400/500\t(81%)]\tLoss: 1.172002\n",
      "Train Epoch: 3 [0/500\t(1%)]\tLoss: 0.906493\n",
      "Train Epoch: 3 [400/500\t(81%)]\tLoss: 1.004840\n",
      "Train Epoch: 4 [0/500\t(1%)]\tLoss: 1.064389\n",
      "Train Epoch: 4 [400/500\t(81%)]\tLoss: 0.944152\n",
      "Train Epoch: 5 [0/500\t(1%)]\tLoss: 0.685400\n",
      "Train Epoch: 5 [400/500\t(81%)]\tLoss: 1.082166\n",
      "\n",
      "Worker 1 ends training in Global Round:15 |\n",
      "\n",
      "Worker 70 starts training in Global Round:15 |\n"
     ]
    },
    {
     "data": {
      "application/vnd.jupyter.widget-view+json": {
       "model_id": "29c0da2374d24f11bd214e5980d04c80",
       "version_major": 2,
       "version_minor": 0
      },
      "text/plain": [
       "HBox(children=(IntProgress(value=0, max=5), HTML(value='')))"
      ]
     },
     "metadata": {},
     "output_type": "display_data"
    },
    {
     "name": "stdout",
     "output_type": "stream",
     "text": [
      "Train Epoch: 1 [0/500\t(1%)]\tLoss: 1.144162\n",
      "Train Epoch: 1 [400/500\t(81%)]\tLoss: 1.146994\n",
      "Train Epoch: 2 [0/500\t(1%)]\tLoss: 0.960963\n",
      "Train Epoch: 2 [400/500\t(81%)]\tLoss: 1.092752\n",
      "Train Epoch: 3 [0/500\t(1%)]\tLoss: 0.948124\n",
      "Train Epoch: 3 [400/500\t(81%)]\tLoss: 0.964364\n",
      "Train Epoch: 4 [0/500\t(1%)]\tLoss: 0.806262\n",
      "Train Epoch: 4 [400/500\t(81%)]\tLoss: 1.034099\n",
      "Train Epoch: 5 [0/500\t(1%)]\tLoss: 0.783339\n",
      "Train Epoch: 5 [400/500\t(81%)]\tLoss: 0.953422\n",
      "\n",
      "Worker 70 ends training in Global Round:15 |\n",
      "\n",
      "Average loss: 1.1239, Accuracy: 6031/10000 (60%)\n",
      "\n",
      "\n",
      "Selected workers\n",
      "\n",
      "[96 60 93 88 32  3 37 47  9  4 62 51 26 89 56]\n",
      "Worker 96 : is  Honest\n",
      "Worker 60 : is  Honest\n",
      "Worker 93 : is  Honest\n",
      "Worker 88 : is  Honest\n",
      "Worker 32 : is  Honest\n",
      "Worker 3 : is  Random_Attacker\n",
      "Worker 37 : is  Random_Attacker\n",
      "Worker 47 : is  Honest\n",
      "Worker 9 : is  Honest\n",
      "Worker 4 : is  Honest\n",
      "Worker 62 : is  Honest\n",
      "Worker 51 : is  Random_Attacker\n",
      "Worker 26 : is  Honest\n",
      "Worker 89 : is  Random_Attacker\n",
      "Worker 56 : is  Honest\n",
      "\n",
      " | Global Training Round : 16 |\n",
      "\n",
      "\n",
      "Worker 96 starts training in Global Round:16 |\n"
     ]
    },
    {
     "data": {
      "application/vnd.jupyter.widget-view+json": {
       "model_id": "8b450f4d96b846f687e92e51f40f7a72",
       "version_major": 2,
       "version_minor": 0
      },
      "text/plain": [
       "HBox(children=(IntProgress(value=0, max=5), HTML(value='')))"
      ]
     },
     "metadata": {},
     "output_type": "display_data"
    },
    {
     "name": "stdout",
     "output_type": "stream",
     "text": [
      "Train Epoch: 1 [0/500\t(1%)]\tLoss: 0.975350\n",
      "Train Epoch: 1 [400/500\t(81%)]\tLoss: 1.279432\n",
      "Train Epoch: 2 [0/500\t(1%)]\tLoss: 1.035689\n",
      "Train Epoch: 2 [400/500\t(81%)]\tLoss: 0.955478\n",
      "Train Epoch: 3 [0/500\t(1%)]\tLoss: 0.989816\n",
      "Train Epoch: 3 [400/500\t(81%)]\tLoss: 1.008258\n",
      "Train Epoch: 4 [0/500\t(1%)]\tLoss: 0.787441\n",
      "Train Epoch: 4 [400/500\t(81%)]\tLoss: 0.755378\n",
      "Train Epoch: 5 [0/500\t(1%)]\tLoss: 0.700758\n",
      "Train Epoch: 5 [400/500\t(81%)]\tLoss: 0.740879\n",
      "\n",
      "Worker 96 ends training in Global Round:16 |\n",
      "\n",
      "Worker 60 starts training in Global Round:16 |\n"
     ]
    },
    {
     "data": {
      "application/vnd.jupyter.widget-view+json": {
       "model_id": "477d5120024142bb8885c40b1db9931c",
       "version_major": 2,
       "version_minor": 0
      },
      "text/plain": [
       "HBox(children=(IntProgress(value=0, max=5), HTML(value='')))"
      ]
     },
     "metadata": {},
     "output_type": "display_data"
    },
    {
     "name": "stdout",
     "output_type": "stream",
     "text": [
      "Train Epoch: 1 [0/500\t(1%)]\tLoss: 1.099918\n",
      "Train Epoch: 1 [400/500\t(81%)]\tLoss: 1.097888\n",
      "Train Epoch: 2 [0/500\t(1%)]\tLoss: 0.962334\n",
      "Train Epoch: 2 [400/500\t(81%)]\tLoss: 1.062882\n",
      "Train Epoch: 3 [0/500\t(1%)]\tLoss: 0.806572\n",
      "Train Epoch: 3 [400/500\t(81%)]\tLoss: 1.079589\n",
      "Train Epoch: 4 [0/500\t(1%)]\tLoss: 0.972231\n",
      "Train Epoch: 4 [400/500\t(81%)]\tLoss: 1.091416\n",
      "Train Epoch: 5 [0/500\t(1%)]\tLoss: 0.657973\n",
      "Train Epoch: 5 [400/500\t(81%)]\tLoss: 0.865135\n",
      "\n",
      "Worker 60 ends training in Global Round:16 |\n",
      "\n",
      "Worker 93 starts training in Global Round:16 |\n"
     ]
    },
    {
     "data": {
      "application/vnd.jupyter.widget-view+json": {
       "model_id": "a8d9451629ab4857b119cf1cd35e8c07",
       "version_major": 2,
       "version_minor": 0
      },
      "text/plain": [
       "HBox(children=(IntProgress(value=0, max=5), HTML(value='')))"
      ]
     },
     "metadata": {},
     "output_type": "display_data"
    },
    {
     "name": "stdout",
     "output_type": "stream",
     "text": [
      "Train Epoch: 1 [0/500\t(1%)]\tLoss: 1.076360\n",
      "Train Epoch: 1 [400/500\t(81%)]\tLoss: 1.261278\n",
      "Train Epoch: 2 [0/500\t(1%)]\tLoss: 0.723360\n",
      "Train Epoch: 2 [400/500\t(81%)]\tLoss: 0.963409\n",
      "Train Epoch: 3 [0/500\t(1%)]\tLoss: 0.747166\n",
      "Train Epoch: 3 [400/500\t(81%)]\tLoss: 0.931145\n",
      "Train Epoch: 4 [0/500\t(1%)]\tLoss: 0.857031\n",
      "Train Epoch: 4 [400/500\t(81%)]\tLoss: 1.031771\n",
      "Train Epoch: 5 [0/500\t(1%)]\tLoss: 0.575650\n",
      "Train Epoch: 5 [400/500\t(81%)]\tLoss: 0.816699\n",
      "\n",
      "Worker 93 ends training in Global Round:16 |\n",
      "\n",
      "Worker 88 starts training in Global Round:16 |\n"
     ]
    },
    {
     "data": {
      "application/vnd.jupyter.widget-view+json": {
       "model_id": "d0e2ce7978da41af8ed4471483203b10",
       "version_major": 2,
       "version_minor": 0
      },
      "text/plain": [
       "HBox(children=(IntProgress(value=0, max=5), HTML(value='')))"
      ]
     },
     "metadata": {},
     "output_type": "display_data"
    },
    {
     "name": "stdout",
     "output_type": "stream",
     "text": [
      "Train Epoch: 1 [0/500\t(1%)]\tLoss: 0.995730\n",
      "Train Epoch: 1 [400/500\t(81%)]\tLoss: 1.115800\n",
      "Train Epoch: 2 [0/500\t(1%)]\tLoss: 0.968529\n",
      "Train Epoch: 2 [400/500\t(81%)]\tLoss: 0.838677\n",
      "Train Epoch: 3 [0/500\t(1%)]\tLoss: 0.645730\n",
      "Train Epoch: 3 [400/500\t(81%)]\tLoss: 0.925829\n",
      "Train Epoch: 4 [0/500\t(1%)]\tLoss: 0.849251\n",
      "Train Epoch: 4 [400/500\t(81%)]\tLoss: 0.682794\n",
      "Train Epoch: 5 [0/500\t(1%)]\tLoss: 0.763325\n",
      "Train Epoch: 5 [400/500\t(81%)]\tLoss: 0.526553\n",
      "\n",
      "Worker 88 ends training in Global Round:16 |\n",
      "\n",
      "Worker 32 starts training in Global Round:16 |\n"
     ]
    },
    {
     "data": {
      "application/vnd.jupyter.widget-view+json": {
       "model_id": "c72858a843b541fc97230116c43a515e",
       "version_major": 2,
       "version_minor": 0
      },
      "text/plain": [
       "HBox(children=(IntProgress(value=0, max=5), HTML(value='')))"
      ]
     },
     "metadata": {},
     "output_type": "display_data"
    },
    {
     "name": "stdout",
     "output_type": "stream",
     "text": [
      "Train Epoch: 1 [0/500\t(1%)]\tLoss: 0.914224\n",
      "Train Epoch: 1 [400/500\t(81%)]\tLoss: 1.310945\n",
      "Train Epoch: 2 [0/500\t(1%)]\tLoss: 0.899103\n",
      "Train Epoch: 2 [400/500\t(81%)]\tLoss: 0.952457\n",
      "Train Epoch: 3 [0/500\t(1%)]\tLoss: 0.828036\n",
      "Train Epoch: 3 [400/500\t(81%)]\tLoss: 0.856249\n",
      "Train Epoch: 4 [0/500\t(1%)]\tLoss: 0.624968\n",
      "Train Epoch: 4 [400/500\t(81%)]\tLoss: 0.964114\n",
      "Train Epoch: 5 [0/500\t(1%)]\tLoss: 0.887692\n",
      "Train Epoch: 5 [400/500\t(81%)]\tLoss: 0.818267\n",
      "\n",
      "Worker 32 ends training in Global Round:16 |\n",
      "\n",
      "Worker 3 starts training in Global Round:16 |\n"
     ]
    },
    {
     "data": {
      "application/vnd.jupyter.widget-view+json": {
       "model_id": "1cd6531735b84cc2a4689ce7d2fdfec7",
       "version_major": 2,
       "version_minor": 0
      },
      "text/plain": [
       "HBox(children=(IntProgress(value=0, max=5), HTML(value='')))"
      ]
     },
     "metadata": {},
     "output_type": "display_data"
    },
    {
     "name": "stdout",
     "output_type": "stream",
     "text": [
      "Train Epoch: 1 [0/500\t(1%)]\tLoss: 1.276905\n",
      "Train Epoch: 1 [400/500\t(81%)]\tLoss: 1.420673\n",
      "Train Epoch: 2 [0/500\t(1%)]\tLoss: 0.915269\n",
      "Train Epoch: 2 [400/500\t(81%)]\tLoss: 1.072621\n",
      "Train Epoch: 3 [0/500\t(1%)]\tLoss: 0.728982\n",
      "Train Epoch: 3 [400/500\t(81%)]\tLoss: 0.834658\n",
      "Train Epoch: 4 [0/500\t(1%)]\tLoss: 0.854886\n",
      "Train Epoch: 4 [400/500\t(81%)]\tLoss: 0.828592\n",
      "Train Epoch: 5 [0/500\t(1%)]\tLoss: 0.813995\n",
      "Train Epoch: 5 [400/500\t(81%)]\tLoss: 1.115922\n",
      "\n",
      "Performed attacks 0\n",
      "\n",
      "===>Random attack started by:  Worker 3  in Global Round:  16\n",
      "Random attack strating: \n",
      "Performed attacks 1\n",
      "Worker 3 ends training in Global Round:16 |\n",
      "\n",
      "Worker 37 starts training in Global Round:16 |\n"
     ]
    },
    {
     "data": {
      "application/vnd.jupyter.widget-view+json": {
       "model_id": "e6ba68096ce04c6f8aea5d151ec7b5db",
       "version_major": 2,
       "version_minor": 0
      },
      "text/plain": [
       "HBox(children=(IntProgress(value=0, max=5), HTML(value='')))"
      ]
     },
     "metadata": {},
     "output_type": "display_data"
    },
    {
     "name": "stdout",
     "output_type": "stream",
     "text": [
      "Train Epoch: 1 [0/500\t(1%)]\tLoss: 1.075458\n",
      "Train Epoch: 1 [400/500\t(81%)]\tLoss: 1.274478\n",
      "Train Epoch: 2 [0/500\t(1%)]\tLoss: 1.066627\n",
      "Train Epoch: 2 [400/500\t(81%)]\tLoss: 0.952509\n",
      "Train Epoch: 3 [0/500\t(1%)]\tLoss: 0.950666\n",
      "Train Epoch: 3 [400/500\t(81%)]\tLoss: 1.120564\n",
      "Train Epoch: 4 [0/500\t(1%)]\tLoss: 0.985550\n",
      "Train Epoch: 4 [400/500\t(81%)]\tLoss: 1.307385\n",
      "Train Epoch: 5 [0/500\t(1%)]\tLoss: 0.772277\n",
      "Train Epoch: 5 [400/500\t(81%)]\tLoss: 0.823110\n",
      "\n",
      "Performed attacks 1\n",
      "\n",
      "===>Random attack started by:  Worker 37  in Global Round:  16\n",
      "Random attack strating: \n",
      "Performed attacks 2\n",
      "Worker 37 ends training in Global Round:16 |\n",
      "\n",
      "Worker 47 starts training in Global Round:16 |\n"
     ]
    },
    {
     "data": {
      "application/vnd.jupyter.widget-view+json": {
       "model_id": "dacb21d0e62a4b889213110ebe607f42",
       "version_major": 2,
       "version_minor": 0
      },
      "text/plain": [
       "HBox(children=(IntProgress(value=0, max=5), HTML(value='')))"
      ]
     },
     "metadata": {},
     "output_type": "display_data"
    },
    {
     "name": "stdout",
     "output_type": "stream",
     "text": [
      "Train Epoch: 1 [0/500\t(1%)]\tLoss: 1.083501\n",
      "Train Epoch: 1 [400/500\t(81%)]\tLoss: 1.228792\n",
      "Train Epoch: 2 [0/500\t(1%)]\tLoss: 0.984664\n",
      "Train Epoch: 2 [400/500\t(81%)]\tLoss: 1.012628\n",
      "Train Epoch: 3 [0/500\t(1%)]\tLoss: 0.784444\n",
      "Train Epoch: 3 [400/500\t(81%)]\tLoss: 0.699364\n",
      "Train Epoch: 4 [0/500\t(1%)]\tLoss: 0.630647\n",
      "Train Epoch: 4 [400/500\t(81%)]\tLoss: 1.044322\n",
      "Train Epoch: 5 [0/500\t(1%)]\tLoss: 0.624781\n",
      "Train Epoch: 5 [400/500\t(81%)]\tLoss: 0.696091\n",
      "\n",
      "Worker 47 ends training in Global Round:16 |\n",
      "\n",
      "Worker 9 starts training in Global Round:16 |\n"
     ]
    },
    {
     "data": {
      "application/vnd.jupyter.widget-view+json": {
       "model_id": "05b4c9f6309f46e09a95e9c5891702c3",
       "version_major": 2,
       "version_minor": 0
      },
      "text/plain": [
       "HBox(children=(IntProgress(value=0, max=5), HTML(value='')))"
      ]
     },
     "metadata": {},
     "output_type": "display_data"
    },
    {
     "name": "stdout",
     "output_type": "stream",
     "text": [
      "Train Epoch: 1 [0/500\t(1%)]\tLoss: 1.160372\n",
      "Train Epoch: 1 [400/500\t(81%)]\tLoss: 1.008587\n",
      "Train Epoch: 2 [0/500\t(1%)]\tLoss: 0.892620\n",
      "Train Epoch: 2 [400/500\t(81%)]\tLoss: 1.006775\n",
      "Train Epoch: 3 [0/500\t(1%)]\tLoss: 0.788413\n",
      "Train Epoch: 3 [400/500\t(81%)]\tLoss: 1.002321\n",
      "Train Epoch: 4 [0/500\t(1%)]\tLoss: 0.727270\n",
      "Train Epoch: 4 [400/500\t(81%)]\tLoss: 0.719445\n",
      "Train Epoch: 5 [0/500\t(1%)]\tLoss: 0.577439\n",
      "Train Epoch: 5 [400/500\t(81%)]\tLoss: 0.694389\n",
      "\n",
      "Worker 9 ends training in Global Round:16 |\n",
      "\n",
      "Worker 4 starts training in Global Round:16 |\n"
     ]
    },
    {
     "data": {
      "application/vnd.jupyter.widget-view+json": {
       "model_id": "676215ec97cc40e998c9b76eef05b2b0",
       "version_major": 2,
       "version_minor": 0
      },
      "text/plain": [
       "HBox(children=(IntProgress(value=0, max=5), HTML(value='')))"
      ]
     },
     "metadata": {},
     "output_type": "display_data"
    },
    {
     "name": "stdout",
     "output_type": "stream",
     "text": [
      "Train Epoch: 1 [0/500\t(1%)]\tLoss: 1.099856\n",
      "Train Epoch: 1 [400/500\t(81%)]\tLoss: 1.134071\n",
      "Train Epoch: 2 [0/500\t(1%)]\tLoss: 0.817308\n",
      "Train Epoch: 2 [400/500\t(81%)]\tLoss: 1.021869\n",
      "Train Epoch: 3 [0/500\t(1%)]\tLoss: 1.006205\n",
      "Train Epoch: 3 [400/500\t(81%)]\tLoss: 0.820094\n",
      "Train Epoch: 4 [0/500\t(1%)]\tLoss: 0.801510\n",
      "Train Epoch: 4 [400/500\t(81%)]\tLoss: 0.897464\n",
      "Train Epoch: 5 [0/500\t(1%)]\tLoss: 0.702767\n",
      "Train Epoch: 5 [400/500\t(81%)]\tLoss: 1.172268\n",
      "\n",
      "Worker 4 ends training in Global Round:16 |\n",
      "\n",
      "Worker 62 starts training in Global Round:16 |\n"
     ]
    },
    {
     "data": {
      "application/vnd.jupyter.widget-view+json": {
       "model_id": "ac7b04de25fe469aad3d6aa2f31e496d",
       "version_major": 2,
       "version_minor": 0
      },
      "text/plain": [
       "HBox(children=(IntProgress(value=0, max=5), HTML(value='')))"
      ]
     },
     "metadata": {},
     "output_type": "display_data"
    },
    {
     "name": "stdout",
     "output_type": "stream",
     "text": [
      "Train Epoch: 1 [0/500\t(1%)]\tLoss: 1.302705\n",
      "Train Epoch: 1 [400/500\t(81%)]\tLoss: 1.578209\n",
      "Train Epoch: 2 [0/500\t(1%)]\tLoss: 1.108317\n",
      "Train Epoch: 2 [400/500\t(81%)]\tLoss: 1.115575\n",
      "Train Epoch: 3 [0/500\t(1%)]\tLoss: 0.880177\n",
      "Train Epoch: 3 [400/500\t(81%)]\tLoss: 1.202084\n",
      "Train Epoch: 4 [0/500\t(1%)]\tLoss: 0.954614\n",
      "Train Epoch: 4 [400/500\t(81%)]\tLoss: 1.010351\n",
      "Train Epoch: 5 [0/500\t(1%)]\tLoss: 0.816236\n",
      "Train Epoch: 5 [400/500\t(81%)]\tLoss: 0.881370\n",
      "\n",
      "Worker 62 ends training in Global Round:16 |\n",
      "\n",
      "Worker 51 starts training in Global Round:16 |\n"
     ]
    },
    {
     "data": {
      "application/vnd.jupyter.widget-view+json": {
       "model_id": "8fec1332e7554653a2f10b7ad8076f7d",
       "version_major": 2,
       "version_minor": 0
      },
      "text/plain": [
       "HBox(children=(IntProgress(value=0, max=5), HTML(value='')))"
      ]
     },
     "metadata": {},
     "output_type": "display_data"
    },
    {
     "name": "stdout",
     "output_type": "stream",
     "text": [
      "Train Epoch: 1 [0/500\t(1%)]\tLoss: 0.784718\n",
      "Train Epoch: 1 [400/500\t(81%)]\tLoss: 1.001359\n",
      "Train Epoch: 2 [0/500\t(1%)]\tLoss: 0.732231\n",
      "Train Epoch: 2 [400/500\t(81%)]\tLoss: 0.938588\n",
      "Train Epoch: 3 [0/500\t(1%)]\tLoss: 0.879692\n",
      "Train Epoch: 3 [400/500\t(81%)]\tLoss: 0.879532\n",
      "Train Epoch: 4 [0/500\t(1%)]\tLoss: 1.152893\n",
      "Train Epoch: 4 [400/500\t(81%)]\tLoss: 0.758668\n",
      "Train Epoch: 5 [0/500\t(1%)]\tLoss: 0.525629\n",
      "Train Epoch: 5 [400/500\t(81%)]\tLoss: 0.726947\n",
      "\n",
      "Performed attacks 2\n",
      "\n",
      "===>Random attack started by:  Worker 51  in Global Round:  16\n",
      "Random attack strating: \n",
      "Performed attacks 3\n",
      "Worker 51 ends training in Global Round:16 |\n",
      "\n",
      "Worker 26 starts training in Global Round:16 |\n"
     ]
    },
    {
     "data": {
      "application/vnd.jupyter.widget-view+json": {
       "model_id": "3ab764b667b8471fa0b75cf7ad3db35b",
       "version_major": 2,
       "version_minor": 0
      },
      "text/plain": [
       "HBox(children=(IntProgress(value=0, max=5), HTML(value='')))"
      ]
     },
     "metadata": {},
     "output_type": "display_data"
    },
    {
     "name": "stdout",
     "output_type": "stream",
     "text": [
      "Train Epoch: 1 [0/500\t(1%)]\tLoss: 0.908268\n",
      "Train Epoch: 1 [400/500\t(81%)]\tLoss: 1.103775\n",
      "Train Epoch: 2 [0/500\t(1%)]\tLoss: 0.949323\n",
      "Train Epoch: 2 [400/500\t(81%)]\tLoss: 1.015452\n",
      "Train Epoch: 3 [0/500\t(1%)]\tLoss: 0.918946\n",
      "Train Epoch: 3 [400/500\t(81%)]\tLoss: 0.985973\n",
      "Train Epoch: 4 [0/500\t(1%)]\tLoss: 0.814369\n",
      "Train Epoch: 4 [400/500\t(81%)]\tLoss: 0.768468\n",
      "Train Epoch: 5 [0/500\t(1%)]\tLoss: 0.515791\n",
      "Train Epoch: 5 [400/500\t(81%)]\tLoss: 0.773875\n",
      "\n",
      "Worker 26 ends training in Global Round:16 |\n",
      "\n",
      "Worker 89 starts training in Global Round:16 |\n"
     ]
    },
    {
     "data": {
      "application/vnd.jupyter.widget-view+json": {
       "model_id": "0194fd08b8524a7ba6a237ac51a6086b",
       "version_major": 2,
       "version_minor": 0
      },
      "text/plain": [
       "HBox(children=(IntProgress(value=0, max=5), HTML(value='')))"
      ]
     },
     "metadata": {},
     "output_type": "display_data"
    },
    {
     "name": "stdout",
     "output_type": "stream",
     "text": [
      "Train Epoch: 1 [0/500\t(1%)]\tLoss: 1.040316\n",
      "Train Epoch: 1 [400/500\t(81%)]\tLoss: 1.263970\n",
      "Train Epoch: 2 [0/500\t(1%)]\tLoss: 0.977725\n",
      "Train Epoch: 2 [400/500\t(81%)]\tLoss: 1.160111\n",
      "Train Epoch: 3 [0/500\t(1%)]\tLoss: 0.911103\n",
      "Train Epoch: 3 [400/500\t(81%)]\tLoss: 1.053736\n",
      "Train Epoch: 4 [0/500\t(1%)]\tLoss: 0.761573\n",
      "Train Epoch: 4 [400/500\t(81%)]\tLoss: 0.829578\n",
      "Train Epoch: 5 [0/500\t(1%)]\tLoss: 0.714249\n",
      "Train Epoch: 5 [400/500\t(81%)]\tLoss: 0.891000\n",
      "\n",
      "Performed attacks 3\n",
      "\n",
      "===>Random attack started by:  Worker 89  in Global Round:  16\n",
      "Random attack strating: \n",
      "Performed attacks 4\n",
      "Worker 89 ends training in Global Round:16 |\n",
      "\n",
      "Worker 56 starts training in Global Round:16 |\n"
     ]
    },
    {
     "data": {
      "application/vnd.jupyter.widget-view+json": {
       "model_id": "93e203342bdc4f7b9d52cd7ef6ce5646",
       "version_major": 2,
       "version_minor": 0
      },
      "text/plain": [
       "HBox(children=(IntProgress(value=0, max=5), HTML(value='')))"
      ]
     },
     "metadata": {},
     "output_type": "display_data"
    },
    {
     "name": "stdout",
     "output_type": "stream",
     "text": [
      "Train Epoch: 1 [0/500\t(1%)]\tLoss: 1.045464\n",
      "Train Epoch: 1 [400/500\t(81%)]\tLoss: 1.029086\n",
      "Train Epoch: 2 [0/500\t(1%)]\tLoss: 0.860605\n",
      "Train Epoch: 2 [400/500\t(81%)]\tLoss: 1.093493\n",
      "Train Epoch: 3 [0/500\t(1%)]\tLoss: 0.702482\n",
      "Train Epoch: 3 [400/500\t(81%)]\tLoss: 1.006964\n",
      "Train Epoch: 4 [0/500\t(1%)]\tLoss: 0.839341\n",
      "Train Epoch: 4 [400/500\t(81%)]\tLoss: 0.901795\n",
      "Train Epoch: 5 [0/500\t(1%)]\tLoss: 0.727984\n",
      "Train Epoch: 5 [400/500\t(81%)]\tLoss: 0.816305\n",
      "\n",
      "Worker 56 ends training in Global Round:16 |\n",
      "\n",
      "Average loss: 1.2100, Accuracy: 6008/10000 (60%)\n",
      "\n",
      "\n",
      "Selected workers\n",
      "\n",
      "[10 82 20 83 70  2 62 75  6 63 84 65 33 36 32]\n",
      "Worker 10 : is  Honest\n",
      "Worker 82 : is  Honest\n",
      "Worker 20 : is  Honest\n",
      "Worker 83 : is  Honest\n",
      "Worker 70 : is  Honest\n",
      "Worker 2 : is  Honest\n",
      "Worker 62 : is  Honest\n",
      "Worker 75 : is  Random_Attacker\n",
      "Worker 6 : is  Random_Attacker\n",
      "Worker 63 : is  Honest\n",
      "Worker 84 : is  Honest\n",
      "Worker 65 : is  Honest\n",
      "Worker 33 : is  Random_Attacker\n",
      "Worker 36 : is  Honest\n",
      "Worker 32 : is  Honest\n",
      "\n",
      " | Global Training Round : 17 |\n",
      "\n",
      "\n",
      "Worker 10 starts training in Global Round:17 |\n"
     ]
    },
    {
     "data": {
      "application/vnd.jupyter.widget-view+json": {
       "model_id": "050de4e28d8b4d7d898f1433b473fd47",
       "version_major": 2,
       "version_minor": 0
      },
      "text/plain": [
       "HBox(children=(IntProgress(value=0, max=5), HTML(value='')))"
      ]
     },
     "metadata": {},
     "output_type": "display_data"
    },
    {
     "name": "stdout",
     "output_type": "stream",
     "text": [
      "Train Epoch: 1 [0/500\t(1%)]\tLoss: 1.140511\n",
      "Train Epoch: 1 [400/500\t(81%)]\tLoss: 1.301747\n",
      "Train Epoch: 2 [0/500\t(1%)]\tLoss: 1.104227\n",
      "Train Epoch: 2 [400/500\t(81%)]\tLoss: 1.129404\n",
      "Train Epoch: 3 [0/500\t(1%)]\tLoss: 0.730003\n",
      "Train Epoch: 3 [400/500\t(81%)]\tLoss: 0.910927\n",
      "Train Epoch: 4 [0/500\t(1%)]\tLoss: 0.747078\n",
      "Train Epoch: 4 [400/500\t(81%)]\tLoss: 0.846352\n",
      "Train Epoch: 5 [0/500\t(1%)]\tLoss: 0.872551\n",
      "Train Epoch: 5 [400/500\t(81%)]\tLoss: 0.633932\n",
      "\n",
      "Worker 10 ends training in Global Round:17 |\n",
      "\n",
      "Worker 82 starts training in Global Round:17 |\n"
     ]
    },
    {
     "data": {
      "application/vnd.jupyter.widget-view+json": {
       "model_id": "30bebb1ee1c64975bcd97cdbd6568162",
       "version_major": 2,
       "version_minor": 0
      },
      "text/plain": [
       "HBox(children=(IntProgress(value=0, max=5), HTML(value='')))"
      ]
     },
     "metadata": {},
     "output_type": "display_data"
    },
    {
     "name": "stdout",
     "output_type": "stream",
     "text": [
      "Train Epoch: 1 [0/500\t(1%)]\tLoss: 0.995152\n",
      "Train Epoch: 1 [400/500\t(81%)]\tLoss: 1.237290\n",
      "Train Epoch: 2 [0/500\t(1%)]\tLoss: 0.892430\n",
      "Train Epoch: 2 [400/500\t(81%)]\tLoss: 1.290425\n",
      "Train Epoch: 3 [0/500\t(1%)]\tLoss: 0.884987\n",
      "Train Epoch: 3 [400/500\t(81%)]\tLoss: 0.907637\n",
      "Train Epoch: 4 [0/500\t(1%)]\tLoss: 0.807601\n",
      "Train Epoch: 4 [400/500\t(81%)]\tLoss: 0.958281\n",
      "Train Epoch: 5 [0/500\t(1%)]\tLoss: 0.759365\n",
      "Train Epoch: 5 [400/500\t(81%)]\tLoss: 0.900653\n",
      "\n",
      "Worker 82 ends training in Global Round:17 |\n",
      "\n",
      "Worker 20 starts training in Global Round:17 |\n"
     ]
    },
    {
     "data": {
      "application/vnd.jupyter.widget-view+json": {
       "model_id": "e511b2c659314bada6f2e9a0c8453278",
       "version_major": 2,
       "version_minor": 0
      },
      "text/plain": [
       "HBox(children=(IntProgress(value=0, max=5), HTML(value='')))"
      ]
     },
     "metadata": {},
     "output_type": "display_data"
    },
    {
     "name": "stdout",
     "output_type": "stream",
     "text": [
      "Train Epoch: 1 [0/500\t(1%)]\tLoss: 0.805582\n",
      "Train Epoch: 1 [400/500\t(81%)]\tLoss: 1.178326\n",
      "Train Epoch: 2 [0/500\t(1%)]\tLoss: 0.952797\n",
      "Train Epoch: 2 [400/500\t(81%)]\tLoss: 0.845521\n",
      "Train Epoch: 3 [0/500\t(1%)]\tLoss: 0.764292\n",
      "Train Epoch: 3 [400/500\t(81%)]\tLoss: 0.961090\n",
      "Train Epoch: 4 [0/500\t(1%)]\tLoss: 0.597544\n",
      "Train Epoch: 4 [400/500\t(81%)]\tLoss: 0.998747\n",
      "Train Epoch: 5 [0/500\t(1%)]\tLoss: 0.621495\n",
      "Train Epoch: 5 [400/500\t(81%)]\tLoss: 0.671535\n",
      "\n",
      "Worker 20 ends training in Global Round:17 |\n",
      "\n",
      "Worker 83 starts training in Global Round:17 |\n"
     ]
    },
    {
     "data": {
      "application/vnd.jupyter.widget-view+json": {
       "model_id": "8b75867565de4f62a1fbf9922ec8ae68",
       "version_major": 2,
       "version_minor": 0
      },
      "text/plain": [
       "HBox(children=(IntProgress(value=0, max=5), HTML(value='')))"
      ]
     },
     "metadata": {},
     "output_type": "display_data"
    },
    {
     "name": "stdout",
     "output_type": "stream",
     "text": [
      "Train Epoch: 1 [0/500\t(1%)]\tLoss: 1.045811\n",
      "Train Epoch: 1 [400/500\t(81%)]\tLoss: 1.197358\n",
      "Train Epoch: 2 [0/500\t(1%)]\tLoss: 0.761825\n",
      "Train Epoch: 2 [400/500\t(81%)]\tLoss: 0.974126\n",
      "Train Epoch: 3 [0/500\t(1%)]\tLoss: 0.800144\n",
      "Train Epoch: 3 [400/500\t(81%)]\tLoss: 0.930232\n",
      "Train Epoch: 4 [0/500\t(1%)]\tLoss: 0.585663\n",
      "Train Epoch: 4 [400/500\t(81%)]\tLoss: 0.916596\n",
      "Train Epoch: 5 [0/500\t(1%)]\tLoss: 0.614898\n",
      "Train Epoch: 5 [400/500\t(81%)]\tLoss: 0.652151\n",
      "\n",
      "Worker 83 ends training in Global Round:17 |\n",
      "\n",
      "Worker 70 starts training in Global Round:17 |\n"
     ]
    },
    {
     "data": {
      "application/vnd.jupyter.widget-view+json": {
       "model_id": "a35b61fb6bd34c0cb0c33c4f09355ad4",
       "version_major": 2,
       "version_minor": 0
      },
      "text/plain": [
       "HBox(children=(IntProgress(value=0, max=5), HTML(value='')))"
      ]
     },
     "metadata": {},
     "output_type": "display_data"
    },
    {
     "name": "stdout",
     "output_type": "stream",
     "text": [
      "Train Epoch: 1 [0/500\t(1%)]\tLoss: 1.131840\n",
      "Train Epoch: 1 [400/500\t(81%)]\tLoss: 1.288886\n",
      "Train Epoch: 2 [0/500\t(1%)]\tLoss: 0.979057\n",
      "Train Epoch: 2 [400/500\t(81%)]\tLoss: 0.982507\n",
      "Train Epoch: 3 [0/500\t(1%)]\tLoss: 0.784478\n",
      "Train Epoch: 3 [400/500\t(81%)]\tLoss: 0.769009\n",
      "Train Epoch: 4 [0/500\t(1%)]\tLoss: 0.875736\n",
      "Train Epoch: 4 [400/500\t(81%)]\tLoss: 0.779266\n",
      "Train Epoch: 5 [0/500\t(1%)]\tLoss: 0.606223\n",
      "Train Epoch: 5 [400/500\t(81%)]\tLoss: 0.709934\n",
      "\n",
      "Worker 70 ends training in Global Round:17 |\n",
      "\n",
      "Worker 2 starts training in Global Round:17 |\n"
     ]
    },
    {
     "data": {
      "application/vnd.jupyter.widget-view+json": {
       "model_id": "1baff6b49d754e9db05b44f1686c72fd",
       "version_major": 2,
       "version_minor": 0
      },
      "text/plain": [
       "HBox(children=(IntProgress(value=0, max=5), HTML(value='')))"
      ]
     },
     "metadata": {},
     "output_type": "display_data"
    },
    {
     "name": "stdout",
     "output_type": "stream",
     "text": [
      "Train Epoch: 1 [0/500\t(1%)]\tLoss: 1.027165\n",
      "Train Epoch: 1 [400/500\t(81%)]\tLoss: 1.309357\n",
      "Train Epoch: 2 [0/500\t(1%)]\tLoss: 1.111338\n",
      "Train Epoch: 2 [400/500\t(81%)]\tLoss: 0.932116\n",
      "Train Epoch: 3 [0/500\t(1%)]\tLoss: 1.084809\n",
      "Train Epoch: 3 [400/500\t(81%)]\tLoss: 1.081309\n",
      "Train Epoch: 4 [0/500\t(1%)]\tLoss: 0.939188\n",
      "Train Epoch: 4 [400/500\t(81%)]\tLoss: 0.991963\n",
      "Train Epoch: 5 [0/500\t(1%)]\tLoss: 0.732731\n",
      "Train Epoch: 5 [400/500\t(81%)]\tLoss: 0.790791\n",
      "\n",
      "Worker 2 ends training in Global Round:17 |\n",
      "\n",
      "Worker 62 starts training in Global Round:17 |\n"
     ]
    },
    {
     "data": {
      "application/vnd.jupyter.widget-view+json": {
       "model_id": "b2aac32e742d43c1b806ac7c37c830ea",
       "version_major": 2,
       "version_minor": 0
      },
      "text/plain": [
       "HBox(children=(IntProgress(value=0, max=5), HTML(value='')))"
      ]
     },
     "metadata": {},
     "output_type": "display_data"
    },
    {
     "name": "stdout",
     "output_type": "stream",
     "text": [
      "Train Epoch: 1 [0/500\t(1%)]\tLoss: 1.118638\n",
      "Train Epoch: 1 [400/500\t(81%)]\tLoss: 1.337826\n",
      "Train Epoch: 2 [0/500\t(1%)]\tLoss: 0.996394\n",
      "Train Epoch: 2 [400/500\t(81%)]\tLoss: 1.175954\n",
      "Train Epoch: 3 [0/500\t(1%)]\tLoss: 1.056082\n",
      "Train Epoch: 3 [400/500\t(81%)]\tLoss: 0.946298\n",
      "Train Epoch: 4 [0/500\t(1%)]\tLoss: 0.912065\n",
      "Train Epoch: 4 [400/500\t(81%)]\tLoss: 0.948974\n",
      "Train Epoch: 5 [0/500\t(1%)]\tLoss: 0.830638\n",
      "Train Epoch: 5 [400/500\t(81%)]\tLoss: 0.748825\n",
      "\n",
      "Worker 62 ends training in Global Round:17 |\n",
      "\n",
      "Worker 75 starts training in Global Round:17 |\n"
     ]
    },
    {
     "data": {
      "application/vnd.jupyter.widget-view+json": {
       "model_id": "0492020f533f4658a3b8c4f3f890180b",
       "version_major": 2,
       "version_minor": 0
      },
      "text/plain": [
       "HBox(children=(IntProgress(value=0, max=5), HTML(value='')))"
      ]
     },
     "metadata": {},
     "output_type": "display_data"
    },
    {
     "name": "stdout",
     "output_type": "stream",
     "text": [
      "Train Epoch: 1 [0/500\t(1%)]\tLoss: 1.336488\n",
      "Train Epoch: 1 [400/500\t(81%)]\tLoss: 0.957527\n",
      "Train Epoch: 2 [0/500\t(1%)]\tLoss: 0.828947\n",
      "Train Epoch: 2 [400/500\t(81%)]\tLoss: 1.103011\n",
      "Train Epoch: 3 [0/500\t(1%)]\tLoss: 0.951884\n",
      "Train Epoch: 3 [400/500\t(81%)]\tLoss: 0.795500\n",
      "Train Epoch: 4 [0/500\t(1%)]\tLoss: 0.709906\n",
      "Train Epoch: 4 [400/500\t(81%)]\tLoss: 0.712982\n",
      "Train Epoch: 5 [0/500\t(1%)]\tLoss: 0.703096\n",
      "Train Epoch: 5 [400/500\t(81%)]\tLoss: 0.793063\n",
      "\n",
      "Performed attacks 0\n",
      "\n",
      "===>Random attack started by:  Worker 75  in Global Round:  17\n",
      "Random attack strating: \n",
      "Performed attacks 1\n",
      "Worker 75 ends training in Global Round:17 |\n",
      "\n",
      "Worker 6 starts training in Global Round:17 |\n"
     ]
    },
    {
     "data": {
      "application/vnd.jupyter.widget-view+json": {
       "model_id": "55b9c06b411843e29128982c25a1a42f",
       "version_major": 2,
       "version_minor": 0
      },
      "text/plain": [
       "HBox(children=(IntProgress(value=0, max=5), HTML(value='')))"
      ]
     },
     "metadata": {},
     "output_type": "display_data"
    },
    {
     "name": "stdout",
     "output_type": "stream",
     "text": [
      "Train Epoch: 1 [0/500\t(1%)]\tLoss: 1.148879\n",
      "Train Epoch: 1 [400/500\t(81%)]\tLoss: 1.330410\n",
      "Train Epoch: 2 [0/500\t(1%)]\tLoss: 0.985539\n",
      "Train Epoch: 2 [400/500\t(81%)]\tLoss: 0.928339\n",
      "Train Epoch: 3 [0/500\t(1%)]\tLoss: 0.705875\n",
      "Train Epoch: 3 [400/500\t(81%)]\tLoss: 1.021848\n",
      "Train Epoch: 4 [0/500\t(1%)]\tLoss: 0.600719\n",
      "Train Epoch: 4 [400/500\t(81%)]\tLoss: 0.744431\n",
      "Train Epoch: 5 [0/500\t(1%)]\tLoss: 0.694134\n",
      "Train Epoch: 5 [400/500\t(81%)]\tLoss: 0.715951\n",
      "\n",
      "Performed attacks 1\n",
      "\n",
      "===>Random attack started by:  Worker 6  in Global Round:  17\n",
      "Random attack strating: \n",
      "Performed attacks 2\n",
      "Worker 6 ends training in Global Round:17 |\n",
      "\n",
      "Worker 63 starts training in Global Round:17 |\n"
     ]
    },
    {
     "data": {
      "application/vnd.jupyter.widget-view+json": {
       "model_id": "0b1b1f6891c04cdb87252c341cd2c889",
       "version_major": 2,
       "version_minor": 0
      },
      "text/plain": [
       "HBox(children=(IntProgress(value=0, max=5), HTML(value='')))"
      ]
     },
     "metadata": {},
     "output_type": "display_data"
    },
    {
     "name": "stdout",
     "output_type": "stream",
     "text": [
      "Train Epoch: 1 [0/500\t(1%)]\tLoss: 1.045799\n",
      "Train Epoch: 1 [400/500\t(81%)]\tLoss: 1.134974\n",
      "Train Epoch: 2 [0/500\t(1%)]\tLoss: 0.831454\n",
      "Train Epoch: 2 [400/500\t(81%)]\tLoss: 0.999380\n",
      "Train Epoch: 3 [0/500\t(1%)]\tLoss: 0.805626\n",
      "Train Epoch: 3 [400/500\t(81%)]\tLoss: 1.120962\n",
      "Train Epoch: 4 [0/500\t(1%)]\tLoss: 0.841776\n",
      "Train Epoch: 4 [400/500\t(81%)]\tLoss: 0.978322\n",
      "Train Epoch: 5 [0/500\t(1%)]\tLoss: 0.900364\n",
      "Train Epoch: 5 [400/500\t(81%)]\tLoss: 0.929180\n",
      "\n",
      "Worker 63 ends training in Global Round:17 |\n",
      "\n",
      "Worker 84 starts training in Global Round:17 |\n"
     ]
    },
    {
     "data": {
      "application/vnd.jupyter.widget-view+json": {
       "model_id": "aa8a711c820446d38aff182320e081d0",
       "version_major": 2,
       "version_minor": 0
      },
      "text/plain": [
       "HBox(children=(IntProgress(value=0, max=5), HTML(value='')))"
      ]
     },
     "metadata": {},
     "output_type": "display_data"
    },
    {
     "name": "stdout",
     "output_type": "stream",
     "text": [
      "Train Epoch: 1 [0/500\t(1%)]\tLoss: 1.423282\n",
      "Train Epoch: 1 [400/500\t(81%)]\tLoss: 1.314709\n",
      "Train Epoch: 2 [0/500\t(1%)]\tLoss: 1.061569\n",
      "Train Epoch: 2 [400/500\t(81%)]\tLoss: 1.220209\n",
      "Train Epoch: 3 [0/500\t(1%)]\tLoss: 1.027560\n",
      "Train Epoch: 3 [400/500\t(81%)]\tLoss: 1.034629\n",
      "Train Epoch: 4 [0/500\t(1%)]\tLoss: 0.921186\n",
      "Train Epoch: 4 [400/500\t(81%)]\tLoss: 1.063188\n",
      "Train Epoch: 5 [0/500\t(1%)]\tLoss: 0.756400\n",
      "Train Epoch: 5 [400/500\t(81%)]\tLoss: 0.821168\n",
      "\n",
      "Worker 84 ends training in Global Round:17 |\n",
      "\n",
      "Worker 65 starts training in Global Round:17 |\n"
     ]
    },
    {
     "data": {
      "application/vnd.jupyter.widget-view+json": {
       "model_id": "b1d5d645b53c4220981c397692c3d3bc",
       "version_major": 2,
       "version_minor": 0
      },
      "text/plain": [
       "HBox(children=(IntProgress(value=0, max=5), HTML(value='')))"
      ]
     },
     "metadata": {},
     "output_type": "display_data"
    },
    {
     "name": "stdout",
     "output_type": "stream",
     "text": [
      "Train Epoch: 1 [0/500\t(1%)]\tLoss: 1.149617\n",
      "Train Epoch: 1 [400/500\t(81%)]\tLoss: 1.136937\n",
      "Train Epoch: 2 [0/500\t(1%)]\tLoss: 0.792275\n",
      "Train Epoch: 2 [400/500\t(81%)]\tLoss: 1.057522\n",
      "Train Epoch: 3 [0/500\t(1%)]\tLoss: 0.944177\n",
      "Train Epoch: 3 [400/500\t(81%)]\tLoss: 1.029041\n",
      "Train Epoch: 4 [0/500\t(1%)]\tLoss: 0.752988\n",
      "Train Epoch: 4 [400/500\t(81%)]\tLoss: 0.905403\n",
      "Train Epoch: 5 [0/500\t(1%)]\tLoss: 0.926880\n",
      "Train Epoch: 5 [400/500\t(81%)]\tLoss: 0.935682\n",
      "\n",
      "Worker 65 ends training in Global Round:17 |\n",
      "\n",
      "Worker 33 starts training in Global Round:17 |\n"
     ]
    },
    {
     "data": {
      "application/vnd.jupyter.widget-view+json": {
       "model_id": "90be63ea09354a0f8d55095d29c89f5f",
       "version_major": 2,
       "version_minor": 0
      },
      "text/plain": [
       "HBox(children=(IntProgress(value=0, max=5), HTML(value='')))"
      ]
     },
     "metadata": {},
     "output_type": "display_data"
    },
    {
     "name": "stdout",
     "output_type": "stream",
     "text": [
      "Train Epoch: 1 [0/500\t(1%)]\tLoss: 0.939336\n",
      "Train Epoch: 1 [400/500\t(81%)]\tLoss: 1.505104\n",
      "Train Epoch: 2 [0/500\t(1%)]\tLoss: 0.841888\n",
      "Train Epoch: 2 [400/500\t(81%)]\tLoss: 1.314253\n",
      "Train Epoch: 3 [0/500\t(1%)]\tLoss: 0.803095\n",
      "Train Epoch: 3 [400/500\t(81%)]\tLoss: 1.067477\n",
      "Train Epoch: 4 [0/500\t(1%)]\tLoss: 0.791464\n",
      "Train Epoch: 4 [400/500\t(81%)]\tLoss: 1.086481\n",
      "Train Epoch: 5 [0/500\t(1%)]\tLoss: 0.524878\n",
      "Train Epoch: 5 [400/500\t(81%)]\tLoss: 0.740319\n",
      "\n",
      "Performed attacks 2\n",
      "\n",
      "===>Random attack started by:  Worker 33  in Global Round:  17\n",
      "Random attack strating: \n",
      "Performed attacks 3\n",
      "Worker 33 ends training in Global Round:17 |\n",
      "\n",
      "Worker 36 starts training in Global Round:17 |\n"
     ]
    },
    {
     "data": {
      "application/vnd.jupyter.widget-view+json": {
       "model_id": "f049d9f4e7bc42d591dde7fb98307dba",
       "version_major": 2,
       "version_minor": 0
      },
      "text/plain": [
       "HBox(children=(IntProgress(value=0, max=5), HTML(value='')))"
      ]
     },
     "metadata": {},
     "output_type": "display_data"
    },
    {
     "name": "stdout",
     "output_type": "stream",
     "text": [
      "Train Epoch: 1 [0/500\t(1%)]\tLoss: 1.305204\n",
      "Train Epoch: 1 [400/500\t(81%)]\tLoss: 1.172676\n",
      "Train Epoch: 2 [0/500\t(1%)]\tLoss: 0.862465\n",
      "Train Epoch: 2 [400/500\t(81%)]\tLoss: 1.004307\n",
      "Train Epoch: 3 [0/500\t(1%)]\tLoss: 0.777531\n",
      "Train Epoch: 3 [400/500\t(81%)]\tLoss: 0.996422\n",
      "Train Epoch: 4 [0/500\t(1%)]\tLoss: 0.809422\n",
      "Train Epoch: 4 [400/500\t(81%)]\tLoss: 0.899276\n",
      "Train Epoch: 5 [0/500\t(1%)]\tLoss: 0.652432\n",
      "Train Epoch: 5 [400/500\t(81%)]\tLoss: 0.661372\n",
      "\n",
      "Worker 36 ends training in Global Round:17 |\n",
      "\n",
      "Worker 32 starts training in Global Round:17 |\n"
     ]
    },
    {
     "data": {
      "application/vnd.jupyter.widget-view+json": {
       "model_id": "bed53543244a4056b0c3a613d30227f5",
       "version_major": 2,
       "version_minor": 0
      },
      "text/plain": [
       "HBox(children=(IntProgress(value=0, max=5), HTML(value='')))"
      ]
     },
     "metadata": {},
     "output_type": "display_data"
    },
    {
     "name": "stdout",
     "output_type": "stream",
     "text": [
      "Train Epoch: 1 [0/500\t(1%)]\tLoss: 1.179668\n",
      "Train Epoch: 1 [400/500\t(81%)]\tLoss: 1.280813\n",
      "Train Epoch: 2 [0/500\t(1%)]\tLoss: 0.821017\n",
      "Train Epoch: 2 [400/500\t(81%)]\tLoss: 1.318278\n",
      "Train Epoch: 3 [0/500\t(1%)]\tLoss: 0.734348\n",
      "Train Epoch: 3 [400/500\t(81%)]\tLoss: 1.169997\n",
      "Train Epoch: 4 [0/500\t(1%)]\tLoss: 0.900362\n",
      "Train Epoch: 4 [400/500\t(81%)]\tLoss: 0.885281\n",
      "Train Epoch: 5 [0/500\t(1%)]\tLoss: 0.643755\n",
      "Train Epoch: 5 [400/500\t(81%)]\tLoss: 0.966692\n",
      "\n",
      "Worker 32 ends training in Global Round:17 |\n",
      "\n",
      "Average loss: 1.2699, Accuracy: 5991/10000 (60%)\n",
      "\n",
      "\n",
      "Selected workers\n",
      "\n",
      "[39 73 71 96 95 63 57 30 59 88 42 53 29 35 85]\n",
      "Worker 39 : is  Honest\n",
      "Worker 73 : is  Honest\n",
      "Worker 71 : is  Random_Attacker\n",
      "Worker 96 : is  Honest\n",
      "Worker 95 : is  Honest\n",
      "Worker 63 : is  Honest\n",
      "Worker 57 : is  Honest\n",
      "Worker 30 : is  Honest\n",
      "Worker 59 : is  Random_Attacker\n",
      "Worker 88 : is  Honest\n",
      "Worker 42 : is  Honest\n",
      "Worker 53 : is  Random_Attacker\n",
      "Worker 29 : is  Honest\n",
      "Worker 35 : is  Honest\n",
      "Worker 85 : is  Honest\n",
      "\n",
      " | Global Training Round : 18 |\n",
      "\n",
      "\n",
      "Worker 39 starts training in Global Round:18 |\n"
     ]
    },
    {
     "data": {
      "application/vnd.jupyter.widget-view+json": {
       "model_id": "a476505ebc374d3ab069e02754217a43",
       "version_major": 2,
       "version_minor": 0
      },
      "text/plain": [
       "HBox(children=(IntProgress(value=0, max=5), HTML(value='')))"
      ]
     },
     "metadata": {},
     "output_type": "display_data"
    },
    {
     "name": "stdout",
     "output_type": "stream",
     "text": [
      "Train Epoch: 1 [0/500\t(1%)]\tLoss: 1.091647\n",
      "Train Epoch: 1 [400/500\t(81%)]\tLoss: 0.949736\n",
      "Train Epoch: 2 [0/500\t(1%)]\tLoss: 0.873377\n",
      "Train Epoch: 2 [400/500\t(81%)]\tLoss: 1.048349\n",
      "Train Epoch: 3 [0/500\t(1%)]\tLoss: 0.823047\n",
      "Train Epoch: 3 [400/500\t(81%)]\tLoss: 0.843059\n",
      "Train Epoch: 4 [0/500\t(1%)]\tLoss: 0.593719\n",
      "Train Epoch: 4 [400/500\t(81%)]\tLoss: 0.738340\n",
      "Train Epoch: 5 [0/500\t(1%)]\tLoss: 0.573014\n",
      "Train Epoch: 5 [400/500\t(81%)]\tLoss: 0.619101\n",
      "\n",
      "Worker 39 ends training in Global Round:18 |\n",
      "\n",
      "Worker 73 starts training in Global Round:18 |\n"
     ]
    },
    {
     "data": {
      "application/vnd.jupyter.widget-view+json": {
       "model_id": "b036d2bd99fc4bc48fe2097158b61206",
       "version_major": 2,
       "version_minor": 0
      },
      "text/plain": [
       "HBox(children=(IntProgress(value=0, max=5), HTML(value='')))"
      ]
     },
     "metadata": {},
     "output_type": "display_data"
    },
    {
     "name": "stdout",
     "output_type": "stream",
     "text": [
      "Train Epoch: 1 [0/500\t(1%)]\tLoss: 1.033218\n",
      "Train Epoch: 1 [400/500\t(81%)]\tLoss: 1.098014\n",
      "Train Epoch: 2 [0/500\t(1%)]\tLoss: 0.988573\n",
      "Train Epoch: 2 [400/500\t(81%)]\tLoss: 1.047695\n",
      "Train Epoch: 3 [0/500\t(1%)]\tLoss: 0.843564\n",
      "Train Epoch: 3 [400/500\t(81%)]\tLoss: 0.727897\n",
      "Train Epoch: 4 [0/500\t(1%)]\tLoss: 0.669487\n",
      "Train Epoch: 4 [400/500\t(81%)]\tLoss: 0.787103\n",
      "Train Epoch: 5 [0/500\t(1%)]\tLoss: 0.614586\n",
      "Train Epoch: 5 [400/500\t(81%)]\tLoss: 0.746092\n",
      "\n",
      "Worker 73 ends training in Global Round:18 |\n",
      "\n",
      "Worker 71 starts training in Global Round:18 |\n"
     ]
    },
    {
     "data": {
      "application/vnd.jupyter.widget-view+json": {
       "model_id": "ac88b17845ce475c99f74a421e7d9e66",
       "version_major": 2,
       "version_minor": 0
      },
      "text/plain": [
       "HBox(children=(IntProgress(value=0, max=5), HTML(value='')))"
      ]
     },
     "metadata": {},
     "output_type": "display_data"
    },
    {
     "name": "stdout",
     "output_type": "stream",
     "text": [
      "Train Epoch: 1 [0/500\t(1%)]\tLoss: 1.167520\n",
      "Train Epoch: 1 [400/500\t(81%)]\tLoss: 1.545806\n",
      "Train Epoch: 2 [0/500\t(1%)]\tLoss: 1.031959\n",
      "Train Epoch: 2 [400/500\t(81%)]\tLoss: 1.274900\n",
      "Train Epoch: 3 [0/500\t(1%)]\tLoss: 0.931975\n",
      "Train Epoch: 3 [400/500\t(81%)]\tLoss: 0.880673\n",
      "Train Epoch: 4 [0/500\t(1%)]\tLoss: 0.931974\n",
      "Train Epoch: 4 [400/500\t(81%)]\tLoss: 0.659786\n",
      "Train Epoch: 5 [0/500\t(1%)]\tLoss: 0.767567\n",
      "Train Epoch: 5 [400/500\t(81%)]\tLoss: 0.779198\n",
      "\n",
      "Performed attacks 0\n",
      "\n",
      "===>Random attack started by:  Worker 71  in Global Round:  18\n",
      "Random attack strating: \n",
      "Performed attacks 1\n",
      "Worker 71 ends training in Global Round:18 |\n",
      "\n",
      "Worker 96 starts training in Global Round:18 |\n"
     ]
    },
    {
     "data": {
      "application/vnd.jupyter.widget-view+json": {
       "model_id": "b07d3f1e8cf64a5c8bb55ff7112d7121",
       "version_major": 2,
       "version_minor": 0
      },
      "text/plain": [
       "HBox(children=(IntProgress(value=0, max=5), HTML(value='')))"
      ]
     },
     "metadata": {},
     "output_type": "display_data"
    },
    {
     "name": "stdout",
     "output_type": "stream",
     "text": [
      "Train Epoch: 1 [0/500\t(1%)]\tLoss: 0.845481\n",
      "Train Epoch: 1 [400/500\t(81%)]\tLoss: 1.016222\n",
      "Train Epoch: 2 [0/500\t(1%)]\tLoss: 0.902200\n",
      "Train Epoch: 2 [400/500\t(81%)]\tLoss: 1.041662\n",
      "Train Epoch: 3 [0/500\t(1%)]\tLoss: 0.825299\n",
      "Train Epoch: 3 [400/500\t(81%)]\tLoss: 1.039889\n",
      "Train Epoch: 4 [0/500\t(1%)]\tLoss: 0.769290\n",
      "Train Epoch: 4 [400/500\t(81%)]\tLoss: 1.052016\n",
      "Train Epoch: 5 [0/500\t(1%)]\tLoss: 0.679773\n",
      "Train Epoch: 5 [400/500\t(81%)]\tLoss: 0.910237\n",
      "\n",
      "Worker 96 ends training in Global Round:18 |\n",
      "\n",
      "Worker 95 starts training in Global Round:18 |\n"
     ]
    },
    {
     "data": {
      "application/vnd.jupyter.widget-view+json": {
       "model_id": "1e681850906740cdba655cca7c7cd569",
       "version_major": 2,
       "version_minor": 0
      },
      "text/plain": [
       "HBox(children=(IntProgress(value=0, max=5), HTML(value='')))"
      ]
     },
     "metadata": {},
     "output_type": "display_data"
    },
    {
     "name": "stdout",
     "output_type": "stream",
     "text": [
      "Train Epoch: 1 [0/500\t(1%)]\tLoss: 1.094777\n",
      "Train Epoch: 1 [400/500\t(81%)]\tLoss: 1.158021\n",
      "Train Epoch: 2 [0/500\t(1%)]\tLoss: 0.751409\n",
      "Train Epoch: 2 [400/500\t(81%)]\tLoss: 0.857648\n",
      "Train Epoch: 3 [0/500\t(1%)]\tLoss: 0.867750\n",
      "Train Epoch: 3 [400/500\t(81%)]\tLoss: 0.675414\n",
      "Train Epoch: 4 [0/500\t(1%)]\tLoss: 0.602518\n",
      "Train Epoch: 4 [400/500\t(81%)]\tLoss: 0.870561\n",
      "Train Epoch: 5 [0/500\t(1%)]\tLoss: 0.644637\n",
      "Train Epoch: 5 [400/500\t(81%)]\tLoss: 0.744026\n",
      "\n",
      "Worker 95 ends training in Global Round:18 |\n",
      "\n",
      "Worker 63 starts training in Global Round:18 |\n"
     ]
    },
    {
     "data": {
      "application/vnd.jupyter.widget-view+json": {
       "model_id": "b08e19415124498a9654d03b6ff651f3",
       "version_major": 2,
       "version_minor": 0
      },
      "text/plain": [
       "HBox(children=(IntProgress(value=0, max=5), HTML(value='')))"
      ]
     },
     "metadata": {},
     "output_type": "display_data"
    },
    {
     "name": "stdout",
     "output_type": "stream",
     "text": [
      "Train Epoch: 1 [0/500\t(1%)]\tLoss: 0.882110\n",
      "Train Epoch: 1 [400/500\t(81%)]\tLoss: 1.346063\n",
      "Train Epoch: 2 [0/500\t(1%)]\tLoss: 0.800659\n",
      "Train Epoch: 2 [400/500\t(81%)]\tLoss: 1.161602\n",
      "Train Epoch: 3 [0/500\t(1%)]\tLoss: 0.682373\n",
      "Train Epoch: 3 [400/500\t(81%)]\tLoss: 1.009000\n",
      "Train Epoch: 4 [0/500\t(1%)]\tLoss: 0.725986\n",
      "Train Epoch: 4 [400/500\t(81%)]\tLoss: 0.793417\n",
      "Train Epoch: 5 [0/500\t(1%)]\tLoss: 0.760874\n",
      "Train Epoch: 5 [400/500\t(81%)]\tLoss: 0.765742\n",
      "\n",
      "Worker 63 ends training in Global Round:18 |\n",
      "\n",
      "Worker 57 starts training in Global Round:18 |\n"
     ]
    },
    {
     "data": {
      "application/vnd.jupyter.widget-view+json": {
       "model_id": "503ff310c6304ccf85dac467aff9dc44",
       "version_major": 2,
       "version_minor": 0
      },
      "text/plain": [
       "HBox(children=(IntProgress(value=0, max=5), HTML(value='')))"
      ]
     },
     "metadata": {},
     "output_type": "display_data"
    },
    {
     "name": "stdout",
     "output_type": "stream",
     "text": [
      "Train Epoch: 1 [0/500\t(1%)]\tLoss: 0.792018\n",
      "Train Epoch: 1 [400/500\t(81%)]\tLoss: 1.184635\n",
      "Train Epoch: 2 [0/500\t(1%)]\tLoss: 0.847854\n",
      "Train Epoch: 2 [400/500\t(81%)]\tLoss: 1.069748\n",
      "Train Epoch: 3 [0/500\t(1%)]\tLoss: 0.843716\n",
      "Train Epoch: 3 [400/500\t(81%)]\tLoss: 0.951617\n",
      "Train Epoch: 4 [0/500\t(1%)]\tLoss: 0.716166\n",
      "Train Epoch: 4 [400/500\t(81%)]\tLoss: 0.737293\n",
      "Train Epoch: 5 [0/500\t(1%)]\tLoss: 0.684392\n",
      "Train Epoch: 5 [400/500\t(81%)]\tLoss: 0.950226\n",
      "\n",
      "Worker 57 ends training in Global Round:18 |\n",
      "\n",
      "Worker 30 starts training in Global Round:18 |\n"
     ]
    },
    {
     "data": {
      "application/vnd.jupyter.widget-view+json": {
       "model_id": "9ac496980eff4d498337414efa56db41",
       "version_major": 2,
       "version_minor": 0
      },
      "text/plain": [
       "HBox(children=(IntProgress(value=0, max=5), HTML(value='')))"
      ]
     },
     "metadata": {},
     "output_type": "display_data"
    },
    {
     "name": "stdout",
     "output_type": "stream",
     "text": [
      "Train Epoch: 1 [0/500\t(1%)]\tLoss: 1.173491\n",
      "Train Epoch: 1 [400/500\t(81%)]\tLoss: 1.226175\n",
      "Train Epoch: 2 [0/500\t(1%)]\tLoss: 0.755675\n",
      "Train Epoch: 2 [400/500\t(81%)]\tLoss: 0.902414\n",
      "Train Epoch: 3 [0/500\t(1%)]\tLoss: 0.747525\n",
      "Train Epoch: 3 [400/500\t(81%)]\tLoss: 0.974396\n",
      "Train Epoch: 4 [0/500\t(1%)]\tLoss: 0.626214\n",
      "Train Epoch: 4 [400/500\t(81%)]\tLoss: 0.838818\n",
      "Train Epoch: 5 [0/500\t(1%)]\tLoss: 0.677996\n",
      "Train Epoch: 5 [400/500\t(81%)]\tLoss: 0.729406\n",
      "\n",
      "Worker 30 ends training in Global Round:18 |\n",
      "\n",
      "Worker 59 starts training in Global Round:18 |\n"
     ]
    },
    {
     "data": {
      "application/vnd.jupyter.widget-view+json": {
       "model_id": "1c214cb3ce274f8e82aa88090a24606c",
       "version_major": 2,
       "version_minor": 0
      },
      "text/plain": [
       "HBox(children=(IntProgress(value=0, max=5), HTML(value='')))"
      ]
     },
     "metadata": {},
     "output_type": "display_data"
    },
    {
     "name": "stdout",
     "output_type": "stream",
     "text": [
      "Train Epoch: 1 [0/500\t(1%)]\tLoss: 1.234815\n",
      "Train Epoch: 1 [400/500\t(81%)]\tLoss: 1.205509\n",
      "Train Epoch: 2 [0/500\t(1%)]\tLoss: 0.807105\n",
      "Train Epoch: 2 [400/500\t(81%)]\tLoss: 1.056692\n",
      "Train Epoch: 3 [0/500\t(1%)]\tLoss: 0.910730\n",
      "Train Epoch: 3 [400/500\t(81%)]\tLoss: 0.968311\n",
      "Train Epoch: 4 [0/500\t(1%)]\tLoss: 0.826185\n",
      "Train Epoch: 4 [400/500\t(81%)]\tLoss: 0.602521\n",
      "Train Epoch: 5 [0/500\t(1%)]\tLoss: 0.623700\n",
      "Train Epoch: 5 [400/500\t(81%)]\tLoss: 0.560125\n",
      "\n",
      "Performed attacks 1\n",
      "\n",
      "===>Random attack started by:  Worker 59  in Global Round:  18\n",
      "Random attack strating: \n",
      "Performed attacks 2\n",
      "Worker 59 ends training in Global Round:18 |\n",
      "\n",
      "Worker 88 starts training in Global Round:18 |\n"
     ]
    },
    {
     "data": {
      "application/vnd.jupyter.widget-view+json": {
       "model_id": "3332af95272d4b47bc9d1a2a7eeef9ac",
       "version_major": 2,
       "version_minor": 0
      },
      "text/plain": [
       "HBox(children=(IntProgress(value=0, max=5), HTML(value='')))"
      ]
     },
     "metadata": {},
     "output_type": "display_data"
    },
    {
     "name": "stdout",
     "output_type": "stream",
     "text": [
      "Train Epoch: 1 [0/500\t(1%)]\tLoss: 1.096311\n",
      "Train Epoch: 1 [400/500\t(81%)]\tLoss: 1.051446\n",
      "Train Epoch: 2 [0/500\t(1%)]\tLoss: 0.857944\n",
      "Train Epoch: 2 [400/500\t(81%)]\tLoss: 0.929183\n",
      "Train Epoch: 3 [0/500\t(1%)]\tLoss: 0.649527\n",
      "Train Epoch: 3 [400/500\t(81%)]\tLoss: 0.960035\n",
      "Train Epoch: 4 [0/500\t(1%)]\tLoss: 0.621925\n",
      "Train Epoch: 4 [400/500\t(81%)]\tLoss: 0.734711\n",
      "Train Epoch: 5 [0/500\t(1%)]\tLoss: 0.559425\n",
      "Train Epoch: 5 [400/500\t(81%)]\tLoss: 0.594280\n",
      "\n",
      "Worker 88 ends training in Global Round:18 |\n",
      "\n",
      "Worker 42 starts training in Global Round:18 |\n"
     ]
    },
    {
     "data": {
      "application/vnd.jupyter.widget-view+json": {
       "model_id": "5746ebc6339247a7bdb4634757d63d9d",
       "version_major": 2,
       "version_minor": 0
      },
      "text/plain": [
       "HBox(children=(IntProgress(value=0, max=5), HTML(value='')))"
      ]
     },
     "metadata": {},
     "output_type": "display_data"
    },
    {
     "name": "stdout",
     "output_type": "stream",
     "text": [
      "Train Epoch: 1 [0/500\t(1%)]\tLoss: 1.010277\n",
      "Train Epoch: 1 [400/500\t(81%)]\tLoss: 0.976102\n",
      "Train Epoch: 2 [0/500\t(1%)]\tLoss: 0.863579\n",
      "Train Epoch: 2 [400/500\t(81%)]\tLoss: 0.844896\n",
      "Train Epoch: 3 [0/500\t(1%)]\tLoss: 0.799312\n",
      "Train Epoch: 3 [400/500\t(81%)]\tLoss: 1.169124\n",
      "Train Epoch: 4 [0/500\t(1%)]\tLoss: 0.740173\n",
      "Train Epoch: 4 [400/500\t(81%)]\tLoss: 0.861336\n",
      "Train Epoch: 5 [0/500\t(1%)]\tLoss: 0.756509\n",
      "Train Epoch: 5 [400/500\t(81%)]\tLoss: 0.728284\n",
      "\n",
      "Worker 42 ends training in Global Round:18 |\n",
      "\n",
      "Worker 53 starts training in Global Round:18 |\n"
     ]
    },
    {
     "data": {
      "application/vnd.jupyter.widget-view+json": {
       "model_id": "e6d8c8ac9e9748dc91a3cb0386066aa2",
       "version_major": 2,
       "version_minor": 0
      },
      "text/plain": [
       "HBox(children=(IntProgress(value=0, max=5), HTML(value='')))"
      ]
     },
     "metadata": {},
     "output_type": "display_data"
    },
    {
     "name": "stdout",
     "output_type": "stream",
     "text": [
      "Train Epoch: 1 [0/500\t(1%)]\tLoss: 0.969171\n",
      "Train Epoch: 1 [400/500\t(81%)]\tLoss: 1.203752\n",
      "Train Epoch: 2 [0/500\t(1%)]\tLoss: 1.102282\n",
      "Train Epoch: 2 [400/500\t(81%)]\tLoss: 0.782932\n",
      "Train Epoch: 3 [0/500\t(1%)]\tLoss: 0.964138\n",
      "Train Epoch: 3 [400/500\t(81%)]\tLoss: 0.977044\n",
      "Train Epoch: 4 [0/500\t(1%)]\tLoss: 0.677839\n",
      "Train Epoch: 4 [400/500\t(81%)]\tLoss: 0.801290\n",
      "Train Epoch: 5 [0/500\t(1%)]\tLoss: 0.700287\n",
      "Train Epoch: 5 [400/500\t(81%)]\tLoss: 0.845159\n",
      "\n",
      "Performed attacks 2\n",
      "\n",
      "===>Random attack started by:  Worker 53  in Global Round:  18\n",
      "Random attack strating: \n",
      "Performed attacks 3\n",
      "Worker 53 ends training in Global Round:18 |\n",
      "\n",
      "Worker 29 starts training in Global Round:18 |\n"
     ]
    },
    {
     "data": {
      "application/vnd.jupyter.widget-view+json": {
       "model_id": "f3c22c70d24b487b84b55317557a9fa1",
       "version_major": 2,
       "version_minor": 0
      },
      "text/plain": [
       "HBox(children=(IntProgress(value=0, max=5), HTML(value='')))"
      ]
     },
     "metadata": {},
     "output_type": "display_data"
    },
    {
     "name": "stdout",
     "output_type": "stream",
     "text": [
      "Train Epoch: 1 [0/500\t(1%)]\tLoss: 0.878841\n",
      "Train Epoch: 1 [400/500\t(81%)]\tLoss: 1.243593\n",
      "Train Epoch: 2 [0/500\t(1%)]\tLoss: 0.852326\n",
      "Train Epoch: 2 [400/500\t(81%)]\tLoss: 1.077011\n",
      "Train Epoch: 3 [0/500\t(1%)]\tLoss: 0.653346\n",
      "Train Epoch: 3 [400/500\t(81%)]\tLoss: 1.068556\n",
      "Train Epoch: 4 [0/500\t(1%)]\tLoss: 0.537487\n",
      "Train Epoch: 4 [400/500\t(81%)]\tLoss: 0.846000\n",
      "Train Epoch: 5 [0/500\t(1%)]\tLoss: 0.692115\n",
      "Train Epoch: 5 [400/500\t(81%)]\tLoss: 0.674577\n",
      "\n",
      "Worker 29 ends training in Global Round:18 |\n",
      "\n",
      "Worker 35 starts training in Global Round:18 |\n"
     ]
    },
    {
     "data": {
      "application/vnd.jupyter.widget-view+json": {
       "model_id": "86a397d18cf74b1f8072d34424cbe0c3",
       "version_major": 2,
       "version_minor": 0
      },
      "text/plain": [
       "HBox(children=(IntProgress(value=0, max=5), HTML(value='')))"
      ]
     },
     "metadata": {},
     "output_type": "display_data"
    },
    {
     "name": "stdout",
     "output_type": "stream",
     "text": [
      "Train Epoch: 1 [0/500\t(1%)]\tLoss: 0.769212\n",
      "Train Epoch: 1 [400/500\t(81%)]\tLoss: 1.548559\n",
      "Train Epoch: 2 [0/500\t(1%)]\tLoss: 0.784625\n",
      "Train Epoch: 2 [400/500\t(81%)]\tLoss: 1.104710\n",
      "Train Epoch: 3 [0/500\t(1%)]\tLoss: 0.737174\n",
      "Train Epoch: 3 [400/500\t(81%)]\tLoss: 0.914566\n",
      "Train Epoch: 4 [0/500\t(1%)]\tLoss: 0.558877\n",
      "Train Epoch: 4 [400/500\t(81%)]\tLoss: 0.826502\n",
      "Train Epoch: 5 [0/500\t(1%)]\tLoss: 0.655696\n",
      "Train Epoch: 5 [400/500\t(81%)]\tLoss: 0.739828\n",
      "\n",
      "Worker 35 ends training in Global Round:18 |\n",
      "\n",
      "Worker 85 starts training in Global Round:18 |\n"
     ]
    },
    {
     "data": {
      "application/vnd.jupyter.widget-view+json": {
       "model_id": "2c8e407969ce4906b7a3113dcbcddbdb",
       "version_major": 2,
       "version_minor": 0
      },
      "text/plain": [
       "HBox(children=(IntProgress(value=0, max=5), HTML(value='')))"
      ]
     },
     "metadata": {},
     "output_type": "display_data"
    },
    {
     "name": "stdout",
     "output_type": "stream",
     "text": [
      "Train Epoch: 1 [0/500\t(1%)]\tLoss: 1.032130\n",
      "Train Epoch: 1 [400/500\t(81%)]\tLoss: 1.319056\n",
      "Train Epoch: 2 [0/500\t(1%)]\tLoss: 0.953448\n",
      "Train Epoch: 2 [400/500\t(81%)]\tLoss: 1.159497\n",
      "Train Epoch: 3 [0/500\t(1%)]\tLoss: 0.680306\n",
      "Train Epoch: 3 [400/500\t(81%)]\tLoss: 0.898347\n",
      "Train Epoch: 4 [0/500\t(1%)]\tLoss: 0.632540\n",
      "Train Epoch: 4 [400/500\t(81%)]\tLoss: 0.737166\n",
      "Train Epoch: 5 [0/500\t(1%)]\tLoss: 0.672560\n",
      "Train Epoch: 5 [400/500\t(81%)]\tLoss: 0.664676\n",
      "\n",
      "Worker 85 ends training in Global Round:18 |\n",
      "\n",
      "Average loss: 1.1176, Accuracy: 6230/10000 (62%)\n",
      "\n",
      "\n",
      "Selected workers\n",
      "\n",
      "[32 78 29 18 53 86 21 46 40 95  3 42 70 99 85]\n",
      "Worker 32 : is  Honest\n",
      "Worker 78 : is  Honest\n",
      "Worker 29 : is  Honest\n",
      "Worker 18 : is  Random_Attacker\n",
      "Worker 53 : is  Random_Attacker\n",
      "Worker 86 : is  Random_Attacker\n",
      "Worker 21 : is  Random_Attacker\n",
      "Worker 46 : is  Random_Attacker\n",
      "Worker 40 : is  Honest\n",
      "Worker 95 : is  Honest\n",
      "Worker 3 : is  Random_Attacker\n",
      "Worker 42 : is  Honest\n",
      "Worker 70 : is  Honest\n",
      "Worker 99 : is  Honest\n",
      "Worker 85 : is  Honest\n",
      "\n",
      " | Global Training Round : 19 |\n",
      "\n",
      "\n",
      "Worker 32 starts training in Global Round:19 |\n"
     ]
    },
    {
     "data": {
      "application/vnd.jupyter.widget-view+json": {
       "model_id": "dd839a09dac94a678c45c7f2d8976576",
       "version_major": 2,
       "version_minor": 0
      },
      "text/plain": [
       "HBox(children=(IntProgress(value=0, max=5), HTML(value='')))"
      ]
     },
     "metadata": {},
     "output_type": "display_data"
    },
    {
     "name": "stdout",
     "output_type": "stream",
     "text": [
      "Train Epoch: 1 [0/500\t(1%)]\tLoss: 0.946014\n",
      "Train Epoch: 1 [400/500\t(81%)]\tLoss: 1.223735\n",
      "Train Epoch: 2 [0/500\t(1%)]\tLoss: 0.770181\n",
      "Train Epoch: 2 [400/500\t(81%)]\tLoss: 0.871057\n",
      "Train Epoch: 3 [0/500\t(1%)]\tLoss: 0.899908\n",
      "Train Epoch: 3 [400/500\t(81%)]\tLoss: 0.735266\n",
      "Train Epoch: 4 [0/500\t(1%)]\tLoss: 0.799133\n",
      "Train Epoch: 4 [400/500\t(81%)]\tLoss: 0.876742\n",
      "Train Epoch: 5 [0/500\t(1%)]\tLoss: 0.766485\n",
      "Train Epoch: 5 [400/500\t(81%)]\tLoss: 0.674533\n",
      "\n",
      "Worker 32 ends training in Global Round:19 |\n",
      "\n",
      "Worker 78 starts training in Global Round:19 |\n"
     ]
    },
    {
     "data": {
      "application/vnd.jupyter.widget-view+json": {
       "model_id": "530a8baa718c443e95ae004f995a9b31",
       "version_major": 2,
       "version_minor": 0
      },
      "text/plain": [
       "HBox(children=(IntProgress(value=0, max=5), HTML(value='')))"
      ]
     },
     "metadata": {},
     "output_type": "display_data"
    },
    {
     "name": "stdout",
     "output_type": "stream",
     "text": [
      "Train Epoch: 1 [0/500\t(1%)]\tLoss: 1.255786\n",
      "Train Epoch: 1 [400/500\t(81%)]\tLoss: 1.063652\n",
      "Train Epoch: 2 [0/500\t(1%)]\tLoss: 0.929332\n",
      "Train Epoch: 2 [400/500\t(81%)]\tLoss: 0.917256\n",
      "Train Epoch: 3 [0/500\t(1%)]\tLoss: 0.960695\n",
      "Train Epoch: 3 [400/500\t(81%)]\tLoss: 0.919441\n",
      "Train Epoch: 4 [0/500\t(1%)]\tLoss: 0.663445\n",
      "Train Epoch: 4 [400/500\t(81%)]\tLoss: 0.843259\n",
      "Train Epoch: 5 [0/500\t(1%)]\tLoss: 0.822251\n",
      "Train Epoch: 5 [400/500\t(81%)]\tLoss: 0.726064\n",
      "\n",
      "Worker 78 ends training in Global Round:19 |\n",
      "\n",
      "Worker 29 starts training in Global Round:19 |\n"
     ]
    },
    {
     "data": {
      "application/vnd.jupyter.widget-view+json": {
       "model_id": "c4b6a8fe93424190a2f2168c781ab8b6",
       "version_major": 2,
       "version_minor": 0
      },
      "text/plain": [
       "HBox(children=(IntProgress(value=0, max=5), HTML(value='')))"
      ]
     },
     "metadata": {},
     "output_type": "display_data"
    },
    {
     "name": "stdout",
     "output_type": "stream",
     "text": [
      "Train Epoch: 1 [0/500\t(1%)]\tLoss: 1.010161\n",
      "Train Epoch: 1 [400/500\t(81%)]\tLoss: 1.006480\n",
      "Train Epoch: 2 [0/500\t(1%)]\tLoss: 0.879519\n",
      "Train Epoch: 2 [400/500\t(81%)]\tLoss: 0.883593\n",
      "Train Epoch: 3 [0/500\t(1%)]\tLoss: 0.708156\n",
      "Train Epoch: 3 [400/500\t(81%)]\tLoss: 0.951857\n",
      "Train Epoch: 4 [0/500\t(1%)]\tLoss: 0.622504\n",
      "Train Epoch: 4 [400/500\t(81%)]\tLoss: 0.744739\n",
      "Train Epoch: 5 [0/500\t(1%)]\tLoss: 0.476137\n",
      "Train Epoch: 5 [400/500\t(81%)]\tLoss: 0.599621\n",
      "\n",
      "Worker 29 ends training in Global Round:19 |\n",
      "\n",
      "Worker 18 starts training in Global Round:19 |\n"
     ]
    },
    {
     "data": {
      "application/vnd.jupyter.widget-view+json": {
       "model_id": "019420d3de4e4b2b971edb3bc5bf1d25",
       "version_major": 2,
       "version_minor": 0
      },
      "text/plain": [
       "HBox(children=(IntProgress(value=0, max=5), HTML(value='')))"
      ]
     },
     "metadata": {},
     "output_type": "display_data"
    },
    {
     "name": "stdout",
     "output_type": "stream",
     "text": [
      "Train Epoch: 1 [0/500\t(1%)]\tLoss: 1.050998\n",
      "Train Epoch: 1 [400/500\t(81%)]\tLoss: 1.234097\n",
      "Train Epoch: 2 [0/500\t(1%)]\tLoss: 0.887302\n",
      "Train Epoch: 2 [400/500\t(81%)]\tLoss: 1.017256\n",
      "Train Epoch: 3 [0/500\t(1%)]\tLoss: 0.794389\n",
      "Train Epoch: 3 [400/500\t(81%)]\tLoss: 1.174118\n",
      "Train Epoch: 4 [0/500\t(1%)]\tLoss: 0.655536\n",
      "Train Epoch: 4 [400/500\t(81%)]\tLoss: 0.623497\n",
      "Train Epoch: 5 [0/500\t(1%)]\tLoss: 0.610196\n",
      "Train Epoch: 5 [400/500\t(81%)]\tLoss: 0.717504\n",
      "\n",
      "Performed attacks 0\n",
      "\n",
      "===>Random attack started by:  Worker 18  in Global Round:  19\n",
      "Random attack strating: \n",
      "Performed attacks 1\n",
      "Worker 18 ends training in Global Round:19 |\n",
      "\n",
      "Worker 53 starts training in Global Round:19 |\n"
     ]
    },
    {
     "data": {
      "application/vnd.jupyter.widget-view+json": {
       "model_id": "6ca14e48c327463caf5c46ce7392c3fa",
       "version_major": 2,
       "version_minor": 0
      },
      "text/plain": [
       "HBox(children=(IntProgress(value=0, max=5), HTML(value='')))"
      ]
     },
     "metadata": {},
     "output_type": "display_data"
    },
    {
     "name": "stdout",
     "output_type": "stream",
     "text": [
      "Train Epoch: 1 [0/500\t(1%)]\tLoss: 1.028577\n",
      "Train Epoch: 1 [400/500\t(81%)]\tLoss: 1.131396\n",
      "Train Epoch: 2 [0/500\t(1%)]\tLoss: 0.956772\n",
      "Train Epoch: 2 [400/500\t(81%)]\tLoss: 0.908818\n",
      "Train Epoch: 3 [0/500\t(1%)]\tLoss: 0.742616\n",
      "Train Epoch: 3 [400/500\t(81%)]\tLoss: 0.861319\n",
      "Train Epoch: 4 [0/500\t(1%)]\tLoss: 0.580593\n",
      "Train Epoch: 4 [400/500\t(81%)]\tLoss: 0.880169\n",
      "Train Epoch: 5 [0/500\t(1%)]\tLoss: 0.557677\n",
      "Train Epoch: 5 [400/500\t(81%)]\tLoss: 0.868939\n",
      "\n",
      "Performed attacks 1\n",
      "\n",
      "===>Random attack started by:  Worker 53  in Global Round:  19\n",
      "Random attack strating: \n",
      "Performed attacks 2\n",
      "Worker 53 ends training in Global Round:19 |\n",
      "\n",
      "Worker 86 starts training in Global Round:19 |\n"
     ]
    },
    {
     "data": {
      "application/vnd.jupyter.widget-view+json": {
       "model_id": "21ca7ec858a64cc982ad50d6e98ec144",
       "version_major": 2,
       "version_minor": 0
      },
      "text/plain": [
       "HBox(children=(IntProgress(value=0, max=5), HTML(value='')))"
      ]
     },
     "metadata": {},
     "output_type": "display_data"
    },
    {
     "name": "stdout",
     "output_type": "stream",
     "text": [
      "Train Epoch: 1 [0/500\t(1%)]\tLoss: 0.842633\n",
      "Train Epoch: 1 [400/500\t(81%)]\tLoss: 1.235532\n",
      "Train Epoch: 2 [0/500\t(1%)]\tLoss: 0.775225\n",
      "Train Epoch: 2 [400/500\t(81%)]\tLoss: 1.076622\n",
      "Train Epoch: 3 [0/500\t(1%)]\tLoss: 0.667579\n",
      "Train Epoch: 3 [400/500\t(81%)]\tLoss: 1.059009\n",
      "Train Epoch: 4 [0/500\t(1%)]\tLoss: 0.597188\n",
      "Train Epoch: 4 [400/500\t(81%)]\tLoss: 0.800601\n",
      "Train Epoch: 5 [0/500\t(1%)]\tLoss: 0.774631\n",
      "Train Epoch: 5 [400/500\t(81%)]\tLoss: 0.794213\n",
      "\n",
      "Performed attacks 2\n",
      "\n",
      "===>Random attack started by:  Worker 86  in Global Round:  19\n",
      "Random attack strating: \n",
      "Performed attacks 3\n",
      "Worker 86 ends training in Global Round:19 |\n",
      "\n",
      "Worker 21 starts training in Global Round:19 |\n"
     ]
    },
    {
     "data": {
      "application/vnd.jupyter.widget-view+json": {
       "model_id": "dede6d75a1484963be2135ab032a74ec",
       "version_major": 2,
       "version_minor": 0
      },
      "text/plain": [
       "HBox(children=(IntProgress(value=0, max=5), HTML(value='')))"
      ]
     },
     "metadata": {},
     "output_type": "display_data"
    },
    {
     "name": "stdout",
     "output_type": "stream",
     "text": [
      "Train Epoch: 1 [0/500\t(1%)]\tLoss: 0.938760\n",
      "Train Epoch: 1 [400/500\t(81%)]\tLoss: 1.178433\n",
      "Train Epoch: 2 [0/500\t(1%)]\tLoss: 0.855798\n",
      "Train Epoch: 2 [400/500\t(81%)]\tLoss: 0.978155\n",
      "Train Epoch: 3 [0/500\t(1%)]\tLoss: 0.952583\n",
      "Train Epoch: 3 [400/500\t(81%)]\tLoss: 1.036659\n",
      "Train Epoch: 4 [0/500\t(1%)]\tLoss: 1.010528\n",
      "Train Epoch: 4 [400/500\t(81%)]\tLoss: 1.157904\n",
      "Train Epoch: 5 [0/500\t(1%)]\tLoss: 0.786368\n",
      "Train Epoch: 5 [400/500\t(81%)]\tLoss: 0.794840\n",
      "\n",
      "Performed attacks 3\n",
      "\n",
      "===>Random attack started by:  Worker 21  in Global Round:  19\n",
      "Random attack strating: \n",
      "Performed attacks 4\n",
      "Worker 21 ends training in Global Round:19 |\n",
      "\n",
      "Worker 46 starts training in Global Round:19 |\n"
     ]
    },
    {
     "data": {
      "application/vnd.jupyter.widget-view+json": {
       "model_id": "34d4c6717a124c8d8df3b7d71619a3e0",
       "version_major": 2,
       "version_minor": 0
      },
      "text/plain": [
       "HBox(children=(IntProgress(value=0, max=5), HTML(value='')))"
      ]
     },
     "metadata": {},
     "output_type": "display_data"
    },
    {
     "name": "stdout",
     "output_type": "stream",
     "text": [
      "Train Epoch: 1 [0/500\t(1%)]\tLoss: 1.064762\n",
      "Train Epoch: 1 [400/500\t(81%)]\tLoss: 1.224850\n",
      "Train Epoch: 2 [0/500\t(1%)]\tLoss: 0.827974\n",
      "Train Epoch: 2 [400/500\t(81%)]\tLoss: 0.890011\n",
      "Train Epoch: 3 [0/500\t(1%)]\tLoss: 0.623189\n",
      "Train Epoch: 3 [400/500\t(81%)]\tLoss: 0.825674\n",
      "Train Epoch: 4 [0/500\t(1%)]\tLoss: 0.733592\n",
      "Train Epoch: 4 [400/500\t(81%)]\tLoss: 0.803580\n",
      "Train Epoch: 5 [0/500\t(1%)]\tLoss: 0.524317\n",
      "Train Epoch: 5 [400/500\t(81%)]\tLoss: 0.609339\n",
      "\n",
      "Worker 46 ends training in Global Round:19 |\n",
      "\n",
      "Worker 40 starts training in Global Round:19 |\n"
     ]
    },
    {
     "data": {
      "application/vnd.jupyter.widget-view+json": {
       "model_id": "3dba4b642b4b493ba93316d4985ec154",
       "version_major": 2,
       "version_minor": 0
      },
      "text/plain": [
       "HBox(children=(IntProgress(value=0, max=5), HTML(value='')))"
      ]
     },
     "metadata": {},
     "output_type": "display_data"
    },
    {
     "name": "stdout",
     "output_type": "stream",
     "text": [
      "Train Epoch: 1 [0/500\t(1%)]\tLoss: 1.196713\n",
      "Train Epoch: 1 [400/500\t(81%)]\tLoss: 1.512294\n",
      "Train Epoch: 2 [0/500\t(1%)]\tLoss: 0.921581\n",
      "Train Epoch: 2 [400/500\t(81%)]\tLoss: 1.110857\n",
      "Train Epoch: 3 [0/500\t(1%)]\tLoss: 1.003218\n",
      "Train Epoch: 3 [400/500\t(81%)]\tLoss: 0.947281\n",
      "Train Epoch: 4 [0/500\t(1%)]\tLoss: 0.756222\n",
      "Train Epoch: 4 [400/500\t(81%)]\tLoss: 0.942113\n",
      "Train Epoch: 5 [0/500\t(1%)]\tLoss: 0.769455\n",
      "Train Epoch: 5 [400/500\t(81%)]\tLoss: 0.664948\n",
      "\n",
      "Worker 40 ends training in Global Round:19 |\n",
      "\n",
      "Worker 95 starts training in Global Round:19 |\n"
     ]
    },
    {
     "data": {
      "application/vnd.jupyter.widget-view+json": {
       "model_id": "097b1d29d6d84010bb5c37391de79b47",
       "version_major": 2,
       "version_minor": 0
      },
      "text/plain": [
       "HBox(children=(IntProgress(value=0, max=5), HTML(value='')))"
      ]
     },
     "metadata": {},
     "output_type": "display_data"
    },
    {
     "name": "stdout",
     "output_type": "stream",
     "text": [
      "Train Epoch: 1 [0/500\t(1%)]\tLoss: 0.847032\n",
      "Train Epoch: 1 [400/500\t(81%)]\tLoss: 1.166183\n",
      "Train Epoch: 2 [0/500\t(1%)]\tLoss: 0.888516\n",
      "Train Epoch: 2 [400/500\t(81%)]\tLoss: 0.782836\n",
      "Train Epoch: 3 [0/500\t(1%)]\tLoss: 0.844662\n",
      "Train Epoch: 3 [400/500\t(81%)]\tLoss: 0.862537\n",
      "Train Epoch: 4 [0/500\t(1%)]\tLoss: 0.701112\n",
      "Train Epoch: 4 [400/500\t(81%)]\tLoss: 0.742338\n",
      "Train Epoch: 5 [0/500\t(1%)]\tLoss: 0.507883\n",
      "Train Epoch: 5 [400/500\t(81%)]\tLoss: 0.548194\n",
      "\n",
      "Worker 95 ends training in Global Round:19 |\n",
      "\n",
      "Worker 3 starts training in Global Round:19 |\n"
     ]
    },
    {
     "data": {
      "application/vnd.jupyter.widget-view+json": {
       "model_id": "326b13a7e68f4ccf84d781d94571f962",
       "version_major": 2,
       "version_minor": 0
      },
      "text/plain": [
       "HBox(children=(IntProgress(value=0, max=5), HTML(value='')))"
      ]
     },
     "metadata": {},
     "output_type": "display_data"
    },
    {
     "name": "stdout",
     "output_type": "stream",
     "text": [
      "Train Epoch: 1 [0/500\t(1%)]\tLoss: 1.124093\n",
      "Train Epoch: 1 [400/500\t(81%)]\tLoss: 1.168801\n",
      "Train Epoch: 2 [0/500\t(1%)]\tLoss: 0.828885\n",
      "Train Epoch: 2 [400/500\t(81%)]\tLoss: 1.085729\n",
      "Train Epoch: 3 [0/500\t(1%)]\tLoss: 0.691784\n",
      "Train Epoch: 3 [400/500\t(81%)]\tLoss: 0.900032\n",
      "Train Epoch: 4 [0/500\t(1%)]\tLoss: 0.650545\n",
      "Train Epoch: 4 [400/500\t(81%)]\tLoss: 0.816447\n",
      "Train Epoch: 5 [0/500\t(1%)]\tLoss: 0.691413\n",
      "Train Epoch: 5 [400/500\t(81%)]\tLoss: 0.793621\n",
      "\n",
      "Worker 3 ends training in Global Round:19 |\n",
      "\n",
      "Worker 42 starts training in Global Round:19 |\n"
     ]
    },
    {
     "data": {
      "application/vnd.jupyter.widget-view+json": {
       "model_id": "5c38cefa59af4f3c881288175c8182e9",
       "version_major": 2,
       "version_minor": 0
      },
      "text/plain": [
       "HBox(children=(IntProgress(value=0, max=5), HTML(value='')))"
      ]
     },
     "metadata": {},
     "output_type": "display_data"
    },
    {
     "name": "stdout",
     "output_type": "stream",
     "text": [
      "Train Epoch: 1 [0/500\t(1%)]\tLoss: 0.921781\n",
      "Train Epoch: 1 [400/500\t(81%)]\tLoss: 1.157314\n",
      "Train Epoch: 2 [0/500\t(1%)]\tLoss: 0.830914\n",
      "Train Epoch: 2 [400/500\t(81%)]\tLoss: 1.124007\n",
      "Train Epoch: 3 [0/500\t(1%)]\tLoss: 0.774352\n",
      "Train Epoch: 3 [400/500\t(81%)]\tLoss: 0.869215\n",
      "Train Epoch: 4 [0/500\t(1%)]\tLoss: 0.671130\n",
      "Train Epoch: 4 [400/500\t(81%)]\tLoss: 0.600663\n",
      "Train Epoch: 5 [0/500\t(1%)]\tLoss: 0.619336\n",
      "Train Epoch: 5 [400/500\t(81%)]\tLoss: 0.811223\n",
      "\n",
      "Worker 42 ends training in Global Round:19 |\n",
      "\n",
      "Worker 70 starts training in Global Round:19 |\n"
     ]
    },
    {
     "data": {
      "application/vnd.jupyter.widget-view+json": {
       "model_id": "aece0660734f4e5781d1478f0b05f441",
       "version_major": 2,
       "version_minor": 0
      },
      "text/plain": [
       "HBox(children=(IntProgress(value=0, max=5), HTML(value='')))"
      ]
     },
     "metadata": {},
     "output_type": "display_data"
    },
    {
     "name": "stdout",
     "output_type": "stream",
     "text": [
      "Train Epoch: 1 [0/500\t(1%)]\tLoss: 0.994624\n",
      "Train Epoch: 1 [400/500\t(81%)]\tLoss: 1.002114\n",
      "Train Epoch: 2 [0/500\t(1%)]\tLoss: 0.920235\n",
      "Train Epoch: 2 [400/500\t(81%)]\tLoss: 1.000063\n",
      "Train Epoch: 3 [0/500\t(1%)]\tLoss: 0.746584\n",
      "Train Epoch: 3 [400/500\t(81%)]\tLoss: 1.068283\n",
      "Train Epoch: 4 [0/500\t(1%)]\tLoss: 0.764625\n",
      "Train Epoch: 4 [400/500\t(81%)]\tLoss: 0.785351\n",
      "Train Epoch: 5 [0/500\t(1%)]\tLoss: 0.867298\n",
      "Train Epoch: 5 [400/500\t(81%)]\tLoss: 0.748229\n",
      "\n",
      "Worker 70 ends training in Global Round:19 |\n",
      "\n",
      "Worker 99 starts training in Global Round:19 |\n"
     ]
    },
    {
     "data": {
      "application/vnd.jupyter.widget-view+json": {
       "model_id": "353bc943b6f04b8b82fb165dede07ae0",
       "version_major": 2,
       "version_minor": 0
      },
      "text/plain": [
       "HBox(children=(IntProgress(value=0, max=5), HTML(value='')))"
      ]
     },
     "metadata": {},
     "output_type": "display_data"
    },
    {
     "name": "stdout",
     "output_type": "stream",
     "text": [
      "Train Epoch: 1 [0/500\t(1%)]\tLoss: 1.331058\n",
      "Train Epoch: 1 [400/500\t(81%)]\tLoss: 1.007557\n",
      "Train Epoch: 2 [0/500\t(1%)]\tLoss: 0.947123\n",
      "Train Epoch: 2 [400/500\t(81%)]\tLoss: 1.050717\n",
      "Train Epoch: 3 [0/500\t(1%)]\tLoss: 0.971502\n",
      "Train Epoch: 3 [400/500\t(81%)]\tLoss: 0.960420\n",
      "Train Epoch: 4 [0/500\t(1%)]\tLoss: 0.794171\n",
      "Train Epoch: 4 [400/500\t(81%)]\tLoss: 1.031705\n",
      "Train Epoch: 5 [0/500\t(1%)]\tLoss: 0.846042\n",
      "Train Epoch: 5 [400/500\t(81%)]\tLoss: 0.723734\n",
      "\n",
      "Worker 99 ends training in Global Round:19 |\n",
      "\n",
      "Worker 85 starts training in Global Round:19 |\n"
     ]
    },
    {
     "data": {
      "application/vnd.jupyter.widget-view+json": {
       "model_id": "906ac1b597c948559d1363597c485ea3",
       "version_major": 2,
       "version_minor": 0
      },
      "text/plain": [
       "HBox(children=(IntProgress(value=0, max=5), HTML(value='')))"
      ]
     },
     "metadata": {},
     "output_type": "display_data"
    },
    {
     "name": "stdout",
     "output_type": "stream",
     "text": [
      "Train Epoch: 1 [0/500\t(1%)]\tLoss: 1.387414\n",
      "Train Epoch: 1 [400/500\t(81%)]\tLoss: 1.189623\n",
      "Train Epoch: 2 [0/500\t(1%)]\tLoss: 0.949625\n",
      "Train Epoch: 2 [400/500\t(81%)]\tLoss: 0.912732\n",
      "Train Epoch: 3 [0/500\t(1%)]\tLoss: 0.810160\n",
      "Train Epoch: 3 [400/500\t(81%)]\tLoss: 0.867976\n",
      "Train Epoch: 4 [0/500\t(1%)]\tLoss: 0.699287\n",
      "Train Epoch: 4 [400/500\t(81%)]\tLoss: 0.898638\n",
      "Train Epoch: 5 [0/500\t(1%)]\tLoss: 0.628264\n",
      "Train Epoch: 5 [400/500\t(81%)]\tLoss: 0.545604\n",
      "\n",
      "Worker 85 ends training in Global Round:19 |\n",
      "\n",
      "Average loss: 1.2080, Accuracy: 6075/10000 (61%)\n",
      "\n",
      "\n",
      "Selected workers\n",
      "\n",
      "[26 54 86 38 78 14 51  2 49 19 83 97 55 11 58]\n",
      "Worker 26 : is  Honest\n",
      "Worker 54 : is  Honest\n",
      "Worker 86 : is  Random_Attacker\n",
      "Worker 38 : is  Random_Attacker\n",
      "Worker 78 : is  Honest\n",
      "Worker 14 : is  Random_Attacker\n",
      "Worker 51 : is  Random_Attacker\n",
      "Worker 2 : is  Honest\n",
      "Worker 49 : is  Honest\n",
      "Worker 19 : is  Random_Attacker\n",
      "Worker 83 : is  Honest\n",
      "Worker 97 : is  Random_Attacker\n",
      "Worker 55 : is  Random_Attacker\n",
      "Worker 11 : is  Honest\n",
      "Worker 58 : is  Honest\n",
      "\n",
      " | Global Training Round : 20 |\n",
      "\n",
      "\n",
      "Worker 26 starts training in Global Round:20 |\n"
     ]
    },
    {
     "data": {
      "application/vnd.jupyter.widget-view+json": {
       "model_id": "dcdfe868a9e142d19d941c49002cb892",
       "version_major": 2,
       "version_minor": 0
      },
      "text/plain": [
       "HBox(children=(IntProgress(value=0, max=5), HTML(value='')))"
      ]
     },
     "metadata": {},
     "output_type": "display_data"
    },
    {
     "name": "stdout",
     "output_type": "stream",
     "text": [
      "Train Epoch: 1 [0/500\t(1%)]\tLoss: 0.887261\n",
      "Train Epoch: 1 [400/500\t(81%)]\tLoss: 0.921970\n",
      "Train Epoch: 2 [0/500\t(1%)]\tLoss: 0.813123\n",
      "Train Epoch: 2 [400/500\t(81%)]\tLoss: 0.884701\n",
      "Train Epoch: 3 [0/500\t(1%)]\tLoss: 0.744927\n",
      "Train Epoch: 3 [400/500\t(81%)]\tLoss: 0.792569\n",
      "Train Epoch: 4 [0/500\t(1%)]\tLoss: 0.667614\n",
      "Train Epoch: 4 [400/500\t(81%)]\tLoss: 0.794805\n",
      "Train Epoch: 5 [0/500\t(1%)]\tLoss: 0.635962\n",
      "Train Epoch: 5 [400/500\t(81%)]\tLoss: 0.648514\n",
      "\n",
      "Worker 26 ends training in Global Round:20 |\n",
      "\n",
      "Worker 54 starts training in Global Round:20 |\n"
     ]
    },
    {
     "data": {
      "application/vnd.jupyter.widget-view+json": {
       "model_id": "ce132061aa7548019a436757e3afffb9",
       "version_major": 2,
       "version_minor": 0
      },
      "text/plain": [
       "HBox(children=(IntProgress(value=0, max=5), HTML(value='')))"
      ]
     },
     "metadata": {},
     "output_type": "display_data"
    },
    {
     "name": "stdout",
     "output_type": "stream",
     "text": [
      "Train Epoch: 1 [0/500\t(1%)]\tLoss: 1.059723\n",
      "Train Epoch: 1 [400/500\t(81%)]\tLoss: 1.196378\n",
      "Train Epoch: 2 [0/500\t(1%)]\tLoss: 1.061900\n",
      "Train Epoch: 2 [400/500\t(81%)]\tLoss: 0.888877\n",
      "Train Epoch: 3 [0/500\t(1%)]\tLoss: 0.718411\n",
      "Train Epoch: 3 [400/500\t(81%)]\tLoss: 0.944952\n",
      "Train Epoch: 4 [0/500\t(1%)]\tLoss: 0.632085\n",
      "Train Epoch: 4 [400/500\t(81%)]\tLoss: 0.738994\n",
      "Train Epoch: 5 [0/500\t(1%)]\tLoss: 0.587251\n",
      "Train Epoch: 5 [400/500\t(81%)]\tLoss: 0.557898\n",
      "\n",
      "Worker 54 ends training in Global Round:20 |\n",
      "\n",
      "Worker 86 starts training in Global Round:20 |\n"
     ]
    },
    {
     "data": {
      "application/vnd.jupyter.widget-view+json": {
       "model_id": "78af65cf052b435682fe2e270f4c4f55",
       "version_major": 2,
       "version_minor": 0
      },
      "text/plain": [
       "HBox(children=(IntProgress(value=0, max=5), HTML(value='')))"
      ]
     },
     "metadata": {},
     "output_type": "display_data"
    },
    {
     "name": "stdout",
     "output_type": "stream",
     "text": [
      "Train Epoch: 1 [0/500\t(1%)]\tLoss: 0.870033\n",
      "Train Epoch: 1 [400/500\t(81%)]\tLoss: 1.045970\n",
      "Train Epoch: 2 [0/500\t(1%)]\tLoss: 0.802382\n",
      "Train Epoch: 2 [400/500\t(81%)]\tLoss: 0.856917\n",
      "Train Epoch: 3 [0/500\t(1%)]\tLoss: 0.712072\n",
      "Train Epoch: 3 [400/500\t(81%)]\tLoss: 0.778105\n",
      "Train Epoch: 4 [0/500\t(1%)]\tLoss: 0.657283\n",
      "Train Epoch: 4 [400/500\t(81%)]\tLoss: 0.629597\n",
      "Train Epoch: 5 [0/500\t(1%)]\tLoss: 0.721907\n",
      "Train Epoch: 5 [400/500\t(81%)]\tLoss: 0.658657\n",
      "\n",
      "Performed attacks 0\n",
      "\n",
      "===>Random attack started by:  Worker 86  in Global Round:  20\n",
      "Random attack strating: \n",
      "Performed attacks 1\n",
      "Worker 86 ends training in Global Round:20 |\n",
      "\n",
      "Worker 38 starts training in Global Round:20 |\n"
     ]
    },
    {
     "data": {
      "application/vnd.jupyter.widget-view+json": {
       "model_id": "1c033af3202441229397cffd1530338b",
       "version_major": 2,
       "version_minor": 0
      },
      "text/plain": [
       "HBox(children=(IntProgress(value=0, max=5), HTML(value='')))"
      ]
     },
     "metadata": {},
     "output_type": "display_data"
    },
    {
     "name": "stdout",
     "output_type": "stream",
     "text": [
      "Train Epoch: 1 [0/500\t(1%)]\tLoss: 1.152241\n",
      "Train Epoch: 1 [400/500\t(81%)]\tLoss: 1.189630\n",
      "Train Epoch: 2 [0/500\t(1%)]\tLoss: 0.804006\n",
      "Train Epoch: 2 [400/500\t(81%)]\tLoss: 0.901144\n",
      "Train Epoch: 3 [0/500\t(1%)]\tLoss: 0.840178\n",
      "Train Epoch: 3 [400/500\t(81%)]\tLoss: 0.856453\n",
      "Train Epoch: 4 [0/500\t(1%)]\tLoss: 0.641705\n",
      "Train Epoch: 4 [400/500\t(81%)]\tLoss: 0.748735\n",
      "Train Epoch: 5 [0/500\t(1%)]\tLoss: 0.763715\n",
      "Train Epoch: 5 [400/500\t(81%)]\tLoss: 0.687650\n",
      "\n",
      "Performed attacks 1\n",
      "\n",
      "===>Random attack started by:  Worker 38  in Global Round:  20\n",
      "Random attack strating: \n",
      "Performed attacks 2\n",
      "Worker 38 ends training in Global Round:20 |\n",
      "\n",
      "Worker 78 starts training in Global Round:20 |\n"
     ]
    },
    {
     "data": {
      "application/vnd.jupyter.widget-view+json": {
       "model_id": "76dcaf08d49d4521b6472d50ea84aa16",
       "version_major": 2,
       "version_minor": 0
      },
      "text/plain": [
       "HBox(children=(IntProgress(value=0, max=5), HTML(value='')))"
      ]
     },
     "metadata": {},
     "output_type": "display_data"
    },
    {
     "name": "stdout",
     "output_type": "stream",
     "text": [
      "Train Epoch: 1 [0/500\t(1%)]\tLoss: 1.051154\n",
      "Train Epoch: 1 [400/500\t(81%)]\tLoss: 1.238860\n",
      "Train Epoch: 2 [0/500\t(1%)]\tLoss: 1.109892\n",
      "Train Epoch: 2 [400/500\t(81%)]\tLoss: 0.956613\n",
      "Train Epoch: 3 [0/500\t(1%)]\tLoss: 0.844863\n",
      "Train Epoch: 3 [400/500\t(81%)]\tLoss: 0.805507\n",
      "Train Epoch: 4 [0/500\t(1%)]\tLoss: 0.813168\n",
      "Train Epoch: 4 [400/500\t(81%)]\tLoss: 0.869476\n",
      "Train Epoch: 5 [0/500\t(1%)]\tLoss: 0.571410\n",
      "Train Epoch: 5 [400/500\t(81%)]\tLoss: 0.578926\n",
      "\n",
      "Worker 78 ends training in Global Round:20 |\n",
      "\n",
      "Worker 14 starts training in Global Round:20 |\n"
     ]
    },
    {
     "data": {
      "application/vnd.jupyter.widget-view+json": {
       "model_id": "75f7286acb034081b0960b938d16faa9",
       "version_major": 2,
       "version_minor": 0
      },
      "text/plain": [
       "HBox(children=(IntProgress(value=0, max=5), HTML(value='')))"
      ]
     },
     "metadata": {},
     "output_type": "display_data"
    },
    {
     "name": "stdout",
     "output_type": "stream",
     "text": [
      "Train Epoch: 1 [0/500\t(1%)]\tLoss: 1.282080\n",
      "Train Epoch: 1 [400/500\t(81%)]\tLoss: 0.983862\n",
      "Train Epoch: 2 [0/500\t(1%)]\tLoss: 0.949459\n",
      "Train Epoch: 2 [400/500\t(81%)]\tLoss: 1.078248\n",
      "Train Epoch: 3 [0/500\t(1%)]\tLoss: 0.884869\n",
      "Train Epoch: 3 [400/500\t(81%)]\tLoss: 0.862144\n",
      "Train Epoch: 4 [0/500\t(1%)]\tLoss: 0.584790\n",
      "Train Epoch: 4 [400/500\t(81%)]\tLoss: 0.956220\n",
      "Train Epoch: 5 [0/500\t(1%)]\tLoss: 0.670196\n",
      "Train Epoch: 5 [400/500\t(81%)]\tLoss: 0.525618\n",
      "\n",
      "Performed attacks 2\n",
      "\n",
      "===>Random attack started by:  Worker 14  in Global Round:  20\n",
      "Random attack strating: \n",
      "Performed attacks 3\n",
      "Worker 14 ends training in Global Round:20 |\n",
      "\n",
      "Worker 51 starts training in Global Round:20 |\n"
     ]
    },
    {
     "data": {
      "application/vnd.jupyter.widget-view+json": {
       "model_id": "9e6d9a7b79c743dda23f76bd3d636280",
       "version_major": 2,
       "version_minor": 0
      },
      "text/plain": [
       "HBox(children=(IntProgress(value=0, max=5), HTML(value='')))"
      ]
     },
     "metadata": {},
     "output_type": "display_data"
    },
    {
     "name": "stdout",
     "output_type": "stream",
     "text": [
      "Train Epoch: 1 [0/500\t(1%)]\tLoss: 1.031747\n",
      "Train Epoch: 1 [400/500\t(81%)]\tLoss: 0.934438\n",
      "Train Epoch: 2 [0/500\t(1%)]\tLoss: 0.766337\n",
      "Train Epoch: 2 [400/500\t(81%)]\tLoss: 0.863311\n",
      "Train Epoch: 3 [0/500\t(1%)]\tLoss: 1.093514\n",
      "Train Epoch: 3 [400/500\t(81%)]\tLoss: 0.871929\n",
      "Train Epoch: 4 [0/500\t(1%)]\tLoss: 0.811417\n",
      "Train Epoch: 4 [400/500\t(81%)]\tLoss: 0.725082\n",
      "Train Epoch: 5 [0/500\t(1%)]\tLoss: 0.692661\n",
      "Train Epoch: 5 [400/500\t(81%)]\tLoss: 0.942908\n",
      "\n",
      "Performed attacks 3\n",
      "\n",
      "===>Random attack started by:  Worker 51  in Global Round:  20\n",
      "Random attack strating: \n",
      "Performed attacks 4\n",
      "Worker 51 ends training in Global Round:20 |\n",
      "\n",
      "Worker 2 starts training in Global Round:20 |\n"
     ]
    },
    {
     "data": {
      "application/vnd.jupyter.widget-view+json": {
       "model_id": "6df6c436cd7049e798b8f4a270deefc6",
       "version_major": 2,
       "version_minor": 0
      },
      "text/plain": [
       "HBox(children=(IntProgress(value=0, max=5), HTML(value='')))"
      ]
     },
     "metadata": {},
     "output_type": "display_data"
    },
    {
     "name": "stdout",
     "output_type": "stream",
     "text": [
      "Train Epoch: 1 [0/500\t(1%)]\tLoss: 1.091259\n",
      "Train Epoch: 1 [400/500\t(81%)]\tLoss: 1.138116\n",
      "Train Epoch: 2 [0/500\t(1%)]\tLoss: 0.687203\n",
      "Train Epoch: 2 [400/500\t(81%)]\tLoss: 0.803449\n",
      "Train Epoch: 3 [0/500\t(1%)]\tLoss: 0.881014\n",
      "Train Epoch: 3 [400/500\t(81%)]\tLoss: 0.798011\n",
      "Train Epoch: 4 [0/500\t(1%)]\tLoss: 0.686134\n",
      "Train Epoch: 4 [400/500\t(81%)]\tLoss: 0.776233\n",
      "Train Epoch: 5 [0/500\t(1%)]\tLoss: 0.657074\n",
      "Train Epoch: 5 [400/500\t(81%)]\tLoss: 0.816344\n",
      "\n",
      "Worker 2 ends training in Global Round:20 |\n",
      "\n",
      "Worker 49 starts training in Global Round:20 |\n"
     ]
    },
    {
     "data": {
      "application/vnd.jupyter.widget-view+json": {
       "model_id": "227d2954cda04e51947a302cec424b63",
       "version_major": 2,
       "version_minor": 0
      },
      "text/plain": [
       "HBox(children=(IntProgress(value=0, max=5), HTML(value='')))"
      ]
     },
     "metadata": {},
     "output_type": "display_data"
    },
    {
     "name": "stdout",
     "output_type": "stream",
     "text": [
      "Train Epoch: 1 [0/500\t(1%)]\tLoss: 1.170784\n",
      "Train Epoch: 1 [400/500\t(81%)]\tLoss: 1.537278\n",
      "Train Epoch: 2 [0/500\t(1%)]\tLoss: 0.850528\n",
      "Train Epoch: 2 [400/500\t(81%)]\tLoss: 1.098032\n",
      "Train Epoch: 3 [0/500\t(1%)]\tLoss: 0.808987\n",
      "Train Epoch: 3 [400/500\t(81%)]\tLoss: 0.977227\n",
      "Train Epoch: 4 [0/500\t(1%)]\tLoss: 0.845290\n",
      "Train Epoch: 4 [400/500\t(81%)]\tLoss: 0.836803\n",
      "Train Epoch: 5 [0/500\t(1%)]\tLoss: 0.628056\n",
      "Train Epoch: 5 [400/500\t(81%)]\tLoss: 0.841108\n",
      "\n",
      "Worker 49 ends training in Global Round:20 |\n",
      "\n",
      "Worker 19 starts training in Global Round:20 |\n"
     ]
    },
    {
     "data": {
      "application/vnd.jupyter.widget-view+json": {
       "model_id": "5a620dbbbd0c4a188087cbe2c238dbe7",
       "version_major": 2,
       "version_minor": 0
      },
      "text/plain": [
       "HBox(children=(IntProgress(value=0, max=5), HTML(value='')))"
      ]
     },
     "metadata": {},
     "output_type": "display_data"
    },
    {
     "name": "stdout",
     "output_type": "stream",
     "text": [
      "Train Epoch: 1 [0/500\t(1%)]\tLoss: 1.105537\n",
      "Train Epoch: 1 [400/500\t(81%)]\tLoss: 1.074609\n",
      "Train Epoch: 2 [0/500\t(1%)]\tLoss: 0.900037\n",
      "Train Epoch: 2 [400/500\t(81%)]\tLoss: 1.022093\n",
      "Train Epoch: 3 [0/500\t(1%)]\tLoss: 0.881148\n",
      "Train Epoch: 3 [400/500\t(81%)]\tLoss: 0.822468\n",
      "Train Epoch: 4 [0/500\t(1%)]\tLoss: 0.771784\n",
      "Train Epoch: 4 [400/500\t(81%)]\tLoss: 0.710620\n",
      "Train Epoch: 5 [0/500\t(1%)]\tLoss: 0.558485\n",
      "Train Epoch: 5 [400/500\t(81%)]\tLoss: 0.731381\n",
      "\n",
      "Worker 19 ends training in Global Round:20 |\n",
      "\n",
      "Worker 83 starts training in Global Round:20 |\n"
     ]
    },
    {
     "data": {
      "application/vnd.jupyter.widget-view+json": {
       "model_id": "35caf77ae35048fb9f61eac8030a2477",
       "version_major": 2,
       "version_minor": 0
      },
      "text/plain": [
       "HBox(children=(IntProgress(value=0, max=5), HTML(value='')))"
      ]
     },
     "metadata": {},
     "output_type": "display_data"
    },
    {
     "name": "stdout",
     "output_type": "stream",
     "text": [
      "Train Epoch: 1 [0/500\t(1%)]\tLoss: 1.307555\n",
      "Train Epoch: 1 [400/500\t(81%)]\tLoss: 1.126841\n",
      "Train Epoch: 2 [0/500\t(1%)]\tLoss: 0.777481\n",
      "Train Epoch: 2 [400/500\t(81%)]\tLoss: 0.988353\n",
      "Train Epoch: 3 [0/500\t(1%)]\tLoss: 0.652322\n",
      "Train Epoch: 3 [400/500\t(81%)]\tLoss: 0.776513\n",
      "Train Epoch: 4 [0/500\t(1%)]\tLoss: 0.637883\n",
      "Train Epoch: 4 [400/500\t(81%)]\tLoss: 0.776512\n",
      "Train Epoch: 5 [0/500\t(1%)]\tLoss: 0.591782\n",
      "Train Epoch: 5 [400/500\t(81%)]\tLoss: 0.710235\n",
      "\n",
      "Worker 83 ends training in Global Round:20 |\n",
      "\n",
      "Worker 97 starts training in Global Round:20 |\n"
     ]
    },
    {
     "data": {
      "application/vnd.jupyter.widget-view+json": {
       "model_id": "0427d759b69e433d9ee46286d98443a4",
       "version_major": 2,
       "version_minor": 0
      },
      "text/plain": [
       "HBox(children=(IntProgress(value=0, max=5), HTML(value='')))"
      ]
     },
     "metadata": {},
     "output_type": "display_data"
    },
    {
     "name": "stdout",
     "output_type": "stream",
     "text": [
      "Train Epoch: 1 [0/500\t(1%)]\tLoss: 1.065666\n",
      "Train Epoch: 1 [400/500\t(81%)]\tLoss: 1.036907\n",
      "Train Epoch: 2 [0/500\t(1%)]\tLoss: 0.825886\n",
      "Train Epoch: 2 [400/500\t(81%)]\tLoss: 0.805151\n",
      "Train Epoch: 3 [0/500\t(1%)]\tLoss: 0.712904\n",
      "Train Epoch: 3 [400/500\t(81%)]\tLoss: 1.048736\n",
      "Train Epoch: 4 [0/500\t(1%)]\tLoss: 0.746294\n",
      "Train Epoch: 4 [400/500\t(81%)]\tLoss: 0.764518\n",
      "Train Epoch: 5 [0/500\t(1%)]\tLoss: 0.645299\n",
      "Train Epoch: 5 [400/500\t(81%)]\tLoss: 0.552812\n",
      "\n",
      "Worker 97 ends training in Global Round:20 |\n",
      "\n",
      "Worker 55 starts training in Global Round:20 |\n"
     ]
    },
    {
     "data": {
      "application/vnd.jupyter.widget-view+json": {
       "model_id": "aae121f4ee204adf8f1193b11cd62724",
       "version_major": 2,
       "version_minor": 0
      },
      "text/plain": [
       "HBox(children=(IntProgress(value=0, max=5), HTML(value='')))"
      ]
     },
     "metadata": {},
     "output_type": "display_data"
    },
    {
     "name": "stdout",
     "output_type": "stream",
     "text": [
      "Train Epoch: 1 [0/500\t(1%)]\tLoss: 1.239552\n",
      "Train Epoch: 1 [400/500\t(81%)]\tLoss: 1.208324\n",
      "Train Epoch: 2 [0/500\t(1%)]\tLoss: 0.771340\n",
      "Train Epoch: 2 [400/500\t(81%)]\tLoss: 1.001219\n",
      "Train Epoch: 3 [0/500\t(1%)]\tLoss: 0.813834\n",
      "Train Epoch: 3 [400/500\t(81%)]\tLoss: 0.703688\n",
      "Train Epoch: 4 [0/500\t(1%)]\tLoss: 0.712484\n",
      "Train Epoch: 4 [400/500\t(81%)]\tLoss: 0.818668\n",
      "Train Epoch: 5 [0/500\t(1%)]\tLoss: 0.582374\n",
      "Train Epoch: 5 [400/500\t(81%)]\tLoss: 0.795239\n",
      "\n",
      "Worker 55 ends training in Global Round:20 |\n",
      "\n",
      "Worker 11 starts training in Global Round:20 |\n"
     ]
    },
    {
     "data": {
      "application/vnd.jupyter.widget-view+json": {
       "model_id": "e0e20208175a47dcbca16b04a3c844f7",
       "version_major": 2,
       "version_minor": 0
      },
      "text/plain": [
       "HBox(children=(IntProgress(value=0, max=5), HTML(value='')))"
      ]
     },
     "metadata": {},
     "output_type": "display_data"
    },
    {
     "name": "stdout",
     "output_type": "stream",
     "text": [
      "Train Epoch: 1 [0/500\t(1%)]\tLoss: 1.015301\n",
      "Train Epoch: 1 [400/500\t(81%)]\tLoss: 1.195406\n",
      "Train Epoch: 2 [0/500\t(1%)]\tLoss: 0.727098\n",
      "Train Epoch: 2 [400/500\t(81%)]\tLoss: 0.975693\n",
      "Train Epoch: 3 [0/500\t(1%)]\tLoss: 0.858450\n",
      "Train Epoch: 3 [400/500\t(81%)]\tLoss: 0.938651\n",
      "Train Epoch: 4 [0/500\t(1%)]\tLoss: 0.701995\n",
      "Train Epoch: 4 [400/500\t(81%)]\tLoss: 0.897158\n",
      "Train Epoch: 5 [0/500\t(1%)]\tLoss: 0.686789\n",
      "Train Epoch: 5 [400/500\t(81%)]\tLoss: 0.722759\n",
      "\n",
      "Worker 11 ends training in Global Round:20 |\n",
      "\n",
      "Worker 58 starts training in Global Round:20 |\n"
     ]
    },
    {
     "data": {
      "application/vnd.jupyter.widget-view+json": {
       "model_id": "b0eff4c1d3d741f4ac03c1f91999b9a4",
       "version_major": 2,
       "version_minor": 0
      },
      "text/plain": [
       "HBox(children=(IntProgress(value=0, max=5), HTML(value='')))"
      ]
     },
     "metadata": {},
     "output_type": "display_data"
    },
    {
     "name": "stdout",
     "output_type": "stream",
     "text": [
      "Train Epoch: 1 [0/500\t(1%)]\tLoss: 1.041968\n",
      "Train Epoch: 1 [400/500\t(81%)]\tLoss: 1.474479\n",
      "Train Epoch: 2 [0/500\t(1%)]\tLoss: 0.826694\n",
      "Train Epoch: 2 [400/500\t(81%)]\tLoss: 0.876053\n",
      "Train Epoch: 3 [0/500\t(1%)]\tLoss: 0.856232\n",
      "Train Epoch: 3 [400/500\t(81%)]\tLoss: 0.934897\n",
      "Train Epoch: 4 [0/500\t(1%)]\tLoss: 0.798066\n",
      "Train Epoch: 4 [400/500\t(81%)]\tLoss: 0.918243\n",
      "Train Epoch: 5 [0/500\t(1%)]\tLoss: 0.644241\n",
      "Train Epoch: 5 [400/500\t(81%)]\tLoss: 0.670606\n",
      "\n",
      "Worker 58 ends training in Global Round:20 |\n",
      "\n",
      "Average loss: 1.1458, Accuracy: 6196/10000 (62%)\n",
      "\n",
      "\n",
      "Selected workers\n",
      "\n",
      "[26 86 69  3 40 16 62 41 52 83 37 51  6 80 66]\n",
      "Worker 26 : is  Honest\n",
      "Worker 86 : is  Random_Attacker\n",
      "Worker 69 : is  Honest\n",
      "Worker 3 : is  Random_Attacker\n",
      "Worker 40 : is  Honest\n",
      "Worker 16 : is  Random_Attacker\n",
      "Worker 62 : is  Honest\n",
      "Worker 41 : is  Random_Attacker\n",
      "Worker 52 : is  Random_Attacker\n",
      "Worker 83 : is  Honest\n",
      "Worker 37 : is  Random_Attacker\n",
      "Worker 51 : is  Random_Attacker\n",
      "Worker 6 : is  Random_Attacker\n",
      "Worker 80 : is  Honest\n",
      "Worker 66 : is  Random_Attacker\n",
      "\n",
      " | Global Training Round : 21 |\n",
      "\n",
      "\n",
      "Worker 26 starts training in Global Round:21 |\n"
     ]
    },
    {
     "data": {
      "application/vnd.jupyter.widget-view+json": {
       "model_id": "b71dc4dfdcb948fabaff879c421c4aea",
       "version_major": 2,
       "version_minor": 0
      },
      "text/plain": [
       "HBox(children=(IntProgress(value=0, max=5), HTML(value='')))"
      ]
     },
     "metadata": {},
     "output_type": "display_data"
    },
    {
     "name": "stdout",
     "output_type": "stream",
     "text": [
      "Train Epoch: 1 [0/500\t(1%)]\tLoss: 0.803606\n",
      "Train Epoch: 1 [400/500\t(81%)]\tLoss: 1.007836\n",
      "Train Epoch: 2 [0/500\t(1%)]\tLoss: 0.719878\n",
      "Train Epoch: 2 [400/500\t(81%)]\tLoss: 0.798015\n",
      "Train Epoch: 3 [0/500\t(1%)]\tLoss: 0.763617\n",
      "Train Epoch: 3 [400/500\t(81%)]\tLoss: 0.923650\n",
      "Train Epoch: 4 [0/500\t(1%)]\tLoss: 0.747914\n",
      "Train Epoch: 4 [400/500\t(81%)]\tLoss: 0.616569\n",
      "Train Epoch: 5 [0/500\t(1%)]\tLoss: 0.700935\n",
      "Train Epoch: 5 [400/500\t(81%)]\tLoss: 0.597712\n",
      "\n",
      "Worker 26 ends training in Global Round:21 |\n",
      "\n",
      "Worker 86 starts training in Global Round:21 |\n"
     ]
    },
    {
     "data": {
      "application/vnd.jupyter.widget-view+json": {
       "model_id": "fbe9c8d3515842f8808acb5f282e3ca3",
       "version_major": 2,
       "version_minor": 0
      },
      "text/plain": [
       "HBox(children=(IntProgress(value=0, max=5), HTML(value='')))"
      ]
     },
     "metadata": {},
     "output_type": "display_data"
    },
    {
     "name": "stdout",
     "output_type": "stream",
     "text": [
      "Train Epoch: 1 [0/500\t(1%)]\tLoss: 1.088199\n",
      "Train Epoch: 1 [400/500\t(81%)]\tLoss: 0.799432\n",
      "Train Epoch: 2 [0/500\t(1%)]\tLoss: 0.807240\n",
      "Train Epoch: 2 [400/500\t(81%)]\tLoss: 0.925279\n",
      "Train Epoch: 3 [0/500\t(1%)]\tLoss: 0.720333\n",
      "Train Epoch: 3 [400/500\t(81%)]\tLoss: 0.732738\n",
      "Train Epoch: 4 [0/500\t(1%)]\tLoss: 0.653766\n",
      "Train Epoch: 4 [400/500\t(81%)]\tLoss: 0.684298\n",
      "Train Epoch: 5 [0/500\t(1%)]\tLoss: 0.589241\n",
      "Train Epoch: 5 [400/500\t(81%)]\tLoss: 0.662795\n",
      "\n",
      "Performed attacks 0\n",
      "\n",
      "===>Random attack started by:  Worker 86  in Global Round:  21\n",
      "Random attack strating: \n",
      "Performed attacks 1\n",
      "Worker 86 ends training in Global Round:21 |\n",
      "\n",
      "Worker 69 starts training in Global Round:21 |\n"
     ]
    },
    {
     "data": {
      "application/vnd.jupyter.widget-view+json": {
       "model_id": "63c995202eb741a6a374da59be1bbabb",
       "version_major": 2,
       "version_minor": 0
      },
      "text/plain": [
       "HBox(children=(IntProgress(value=0, max=5), HTML(value='')))"
      ]
     },
     "metadata": {},
     "output_type": "display_data"
    },
    {
     "name": "stdout",
     "output_type": "stream",
     "text": [
      "Train Epoch: 1 [0/500\t(1%)]\tLoss: 1.145131\n",
      "Train Epoch: 1 [400/500\t(81%)]\tLoss: 0.994294\n",
      "Train Epoch: 2 [0/500\t(1%)]\tLoss: 0.836971\n",
      "Train Epoch: 2 [400/500\t(81%)]\tLoss: 1.144983\n",
      "Train Epoch: 3 [0/500\t(1%)]\tLoss: 0.856972\n",
      "Train Epoch: 3 [400/500\t(81%)]\tLoss: 0.884719\n",
      "Train Epoch: 4 [0/500\t(1%)]\tLoss: 0.803009\n",
      "Train Epoch: 4 [400/500\t(81%)]\tLoss: 0.915389\n",
      "Train Epoch: 5 [0/500\t(1%)]\tLoss: 0.724645\n",
      "Train Epoch: 5 [400/500\t(81%)]\tLoss: 0.775538\n",
      "\n",
      "Worker 69 ends training in Global Round:21 |\n",
      "\n",
      "Worker 3 starts training in Global Round:21 |\n"
     ]
    },
    {
     "data": {
      "application/vnd.jupyter.widget-view+json": {
       "model_id": "34f9af272e514a76ab123687190d87ca",
       "version_major": 2,
       "version_minor": 0
      },
      "text/plain": [
       "HBox(children=(IntProgress(value=0, max=5), HTML(value='')))"
      ]
     },
     "metadata": {},
     "output_type": "display_data"
    },
    {
     "name": "stdout",
     "output_type": "stream",
     "text": [
      "Train Epoch: 1 [0/500\t(1%)]\tLoss: 1.112954\n",
      "Train Epoch: 1 [400/500\t(81%)]\tLoss: 1.271657\n",
      "Train Epoch: 2 [0/500\t(1%)]\tLoss: 0.909083\n",
      "Train Epoch: 2 [400/500\t(81%)]\tLoss: 0.929351\n",
      "Train Epoch: 3 [0/500\t(1%)]\tLoss: 0.760533\n",
      "Train Epoch: 3 [400/500\t(81%)]\tLoss: 0.856457\n",
      "Train Epoch: 4 [0/500\t(1%)]\tLoss: 0.761239\n",
      "Train Epoch: 4 [400/500\t(81%)]\tLoss: 1.047356\n",
      "Train Epoch: 5 [0/500\t(1%)]\tLoss: 0.672427\n",
      "Train Epoch: 5 [400/500\t(81%)]\tLoss: 0.898450\n",
      "\n",
      "Performed attacks 1\n",
      "\n",
      "===>Random attack started by:  Worker 3  in Global Round:  21\n",
      "Random attack strating: \n",
      "Performed attacks 2\n",
      "Worker 3 ends training in Global Round:21 |\n",
      "\n",
      "Worker 40 starts training in Global Round:21 |\n"
     ]
    },
    {
     "data": {
      "application/vnd.jupyter.widget-view+json": {
       "model_id": "f8144ade534644fba21aa76ce2954afc",
       "version_major": 2,
       "version_minor": 0
      },
      "text/plain": [
       "HBox(children=(IntProgress(value=0, max=5), HTML(value='')))"
      ]
     },
     "metadata": {},
     "output_type": "display_data"
    },
    {
     "name": "stdout",
     "output_type": "stream",
     "text": [
      "Train Epoch: 1 [0/500\t(1%)]\tLoss: 1.327164\n",
      "Train Epoch: 1 [400/500\t(81%)]\tLoss: 1.134818\n",
      "Train Epoch: 2 [0/500\t(1%)]\tLoss: 1.027523\n",
      "Train Epoch: 2 [400/500\t(81%)]\tLoss: 1.125577\n",
      "Train Epoch: 3 [0/500\t(1%)]\tLoss: 1.068525\n",
      "Train Epoch: 3 [400/500\t(81%)]\tLoss: 0.934879\n",
      "Train Epoch: 4 [0/500\t(1%)]\tLoss: 0.783501\n",
      "Train Epoch: 4 [400/500\t(81%)]\tLoss: 0.765507\n",
      "Train Epoch: 5 [0/500\t(1%)]\tLoss: 0.607263\n",
      "Train Epoch: 5 [400/500\t(81%)]\tLoss: 0.716028\n",
      "\n",
      "Worker 40 ends training in Global Round:21 |\n",
      "\n",
      "Worker 16 starts training in Global Round:21 |\n"
     ]
    },
    {
     "data": {
      "application/vnd.jupyter.widget-view+json": {
       "model_id": "33f2f71716444422805c315a9b90aa76",
       "version_major": 2,
       "version_minor": 0
      },
      "text/plain": [
       "HBox(children=(IntProgress(value=0, max=5), HTML(value='')))"
      ]
     },
     "metadata": {},
     "output_type": "display_data"
    },
    {
     "name": "stdout",
     "output_type": "stream",
     "text": [
      "Train Epoch: 1 [0/500\t(1%)]\tLoss: 0.944089\n",
      "Train Epoch: 1 [400/500\t(81%)]\tLoss: 1.233778\n",
      "Train Epoch: 2 [0/500\t(1%)]\tLoss: 0.998265\n",
      "Train Epoch: 2 [400/500\t(81%)]\tLoss: 1.201884\n",
      "Train Epoch: 3 [0/500\t(1%)]\tLoss: 0.848336\n",
      "Train Epoch: 3 [400/500\t(81%)]\tLoss: 0.983475\n",
      "Train Epoch: 4 [0/500\t(1%)]\tLoss: 0.788764\n",
      "Train Epoch: 4 [400/500\t(81%)]\tLoss: 0.742550\n",
      "Train Epoch: 5 [0/500\t(1%)]\tLoss: 0.752714\n",
      "Train Epoch: 5 [400/500\t(81%)]\tLoss: 0.760266\n",
      "\n",
      "Performed attacks 2\n",
      "\n",
      "===>Random attack started by:  Worker 16  in Global Round:  21\n",
      "Random attack strating: \n",
      "Performed attacks 3\n",
      "Worker 16 ends training in Global Round:21 |\n",
      "\n",
      "Worker 62 starts training in Global Round:21 |\n"
     ]
    },
    {
     "data": {
      "application/vnd.jupyter.widget-view+json": {
       "model_id": "63db976d36d24fad8af85df9adf9c7c4",
       "version_major": 2,
       "version_minor": 0
      },
      "text/plain": [
       "HBox(children=(IntProgress(value=0, max=5), HTML(value='')))"
      ]
     },
     "metadata": {},
     "output_type": "display_data"
    },
    {
     "name": "stdout",
     "output_type": "stream",
     "text": [
      "Train Epoch: 1 [0/500\t(1%)]\tLoss: 1.017028\n",
      "Train Epoch: 1 [400/500\t(81%)]\tLoss: 1.145658\n",
      "Train Epoch: 2 [0/500\t(1%)]\tLoss: 0.954666\n",
      "Train Epoch: 2 [400/500\t(81%)]\tLoss: 1.281144\n",
      "Train Epoch: 3 [0/500\t(1%)]\tLoss: 0.986837\n",
      "Train Epoch: 3 [400/500\t(81%)]\tLoss: 1.051548\n",
      "Train Epoch: 4 [0/500\t(1%)]\tLoss: 0.742894\n",
      "Train Epoch: 4 [400/500\t(81%)]\tLoss: 0.955856\n",
      "Train Epoch: 5 [0/500\t(1%)]\tLoss: 0.716334\n",
      "Train Epoch: 5 [400/500\t(81%)]\tLoss: 0.864154\n",
      "\n",
      "Worker 62 ends training in Global Round:21 |\n",
      "\n",
      "Worker 41 starts training in Global Round:21 |\n"
     ]
    },
    {
     "data": {
      "application/vnd.jupyter.widget-view+json": {
       "model_id": "8ac449ba587745eaa0eb84add6582e20",
       "version_major": 2,
       "version_minor": 0
      },
      "text/plain": [
       "HBox(children=(IntProgress(value=0, max=5), HTML(value='')))"
      ]
     },
     "metadata": {},
     "output_type": "display_data"
    },
    {
     "name": "stdout",
     "output_type": "stream",
     "text": [
      "Train Epoch: 1 [0/500\t(1%)]\tLoss: 1.043814\n",
      "Train Epoch: 1 [400/500\t(81%)]\tLoss: 1.187319\n",
      "Train Epoch: 2 [0/500\t(1%)]\tLoss: 0.928510\n",
      "Train Epoch: 2 [400/500\t(81%)]\tLoss: 0.991968\n",
      "Train Epoch: 3 [0/500\t(1%)]\tLoss: 0.824441\n",
      "Train Epoch: 3 [400/500\t(81%)]\tLoss: 0.813873\n",
      "Train Epoch: 4 [0/500\t(1%)]\tLoss: 0.608059\n",
      "Train Epoch: 4 [400/500\t(81%)]\tLoss: 0.703306\n",
      "Train Epoch: 5 [0/500\t(1%)]\tLoss: 0.676712\n",
      "Train Epoch: 5 [400/500\t(81%)]\tLoss: 0.780769\n",
      "\n",
      "Performed attacks 3\n",
      "\n",
      "===>Random attack started by:  Worker 41  in Global Round:  21\n",
      "Random attack strating: \n",
      "Performed attacks 4\n",
      "Worker 41 ends training in Global Round:21 |\n",
      "\n",
      "Worker 52 starts training in Global Round:21 |\n"
     ]
    },
    {
     "data": {
      "application/vnd.jupyter.widget-view+json": {
       "model_id": "724ee50e6a664ff2ab231025dc7f5d57",
       "version_major": 2,
       "version_minor": 0
      },
      "text/plain": [
       "HBox(children=(IntProgress(value=0, max=5), HTML(value='')))"
      ]
     },
     "metadata": {},
     "output_type": "display_data"
    },
    {
     "name": "stdout",
     "output_type": "stream",
     "text": [
      "Train Epoch: 1 [0/500\t(1%)]\tLoss: 0.994094\n",
      "Train Epoch: 1 [400/500\t(81%)]\tLoss: 1.222348\n",
      "Train Epoch: 2 [0/500\t(1%)]\tLoss: 0.900154\n",
      "Train Epoch: 2 [400/500\t(81%)]\tLoss: 0.961212\n",
      "Train Epoch: 3 [0/500\t(1%)]\tLoss: 0.871236\n",
      "Train Epoch: 3 [400/500\t(81%)]\tLoss: 0.674484\n",
      "Train Epoch: 4 [0/500\t(1%)]\tLoss: 0.628559\n",
      "Train Epoch: 4 [400/500\t(81%)]\tLoss: 0.864696\n",
      "Train Epoch: 5 [0/500\t(1%)]\tLoss: 0.776127\n",
      "Train Epoch: 5 [400/500\t(81%)]\tLoss: 0.674029\n",
      "\n",
      "Worker 52 ends training in Global Round:21 |\n",
      "\n",
      "Worker 83 starts training in Global Round:21 |\n"
     ]
    },
    {
     "data": {
      "application/vnd.jupyter.widget-view+json": {
       "model_id": "64d86079241c4f8fbc6573ef2507724d",
       "version_major": 2,
       "version_minor": 0
      },
      "text/plain": [
       "HBox(children=(IntProgress(value=0, max=5), HTML(value='')))"
      ]
     },
     "metadata": {},
     "output_type": "display_data"
    },
    {
     "name": "stdout",
     "output_type": "stream",
     "text": [
      "Train Epoch: 1 [0/500\t(1%)]\tLoss: 1.133871\n",
      "Train Epoch: 1 [400/500\t(81%)]\tLoss: 1.301755\n",
      "Train Epoch: 2 [0/500\t(1%)]\tLoss: 0.926747\n",
      "Train Epoch: 2 [400/500\t(81%)]\tLoss: 0.755423\n",
      "Train Epoch: 3 [0/500\t(1%)]\tLoss: 0.685452\n",
      "Train Epoch: 3 [400/500\t(81%)]\tLoss: 0.767810\n",
      "Train Epoch: 4 [0/500\t(1%)]\tLoss: 0.570388\n",
      "Train Epoch: 4 [400/500\t(81%)]\tLoss: 0.810362\n",
      "Train Epoch: 5 [0/500\t(1%)]\tLoss: 0.563600\n",
      "Train Epoch: 5 [400/500\t(81%)]\tLoss: 0.658317\n",
      "\n",
      "Worker 83 ends training in Global Round:21 |\n",
      "\n",
      "Worker 37 starts training in Global Round:21 |\n"
     ]
    },
    {
     "data": {
      "application/vnd.jupyter.widget-view+json": {
       "model_id": "064f57eaf6f84427bdedb66cc89d9cb7",
       "version_major": 2,
       "version_minor": 0
      },
      "text/plain": [
       "HBox(children=(IntProgress(value=0, max=5), HTML(value='')))"
      ]
     },
     "metadata": {},
     "output_type": "display_data"
    },
    {
     "name": "stdout",
     "output_type": "stream",
     "text": [
      "Train Epoch: 1 [0/500\t(1%)]\tLoss: 0.983349\n",
      "Train Epoch: 1 [400/500\t(81%)]\tLoss: 1.068454\n",
      "Train Epoch: 2 [0/500\t(1%)]\tLoss: 1.056479\n",
      "Train Epoch: 2 [400/500\t(81%)]\tLoss: 0.960922\n",
      "Train Epoch: 3 [0/500\t(1%)]\tLoss: 0.803527\n",
      "Train Epoch: 3 [400/500\t(81%)]\tLoss: 1.018528\n",
      "Train Epoch: 4 [0/500\t(1%)]\tLoss: 0.707497\n",
      "Train Epoch: 4 [400/500\t(81%)]\tLoss: 0.743671\n",
      "Train Epoch: 5 [0/500\t(1%)]\tLoss: 0.623154\n",
      "Train Epoch: 5 [400/500\t(81%)]\tLoss: 0.659245\n",
      "\n",
      "Worker 37 ends training in Global Round:21 |\n",
      "\n",
      "Worker 51 starts training in Global Round:21 |\n"
     ]
    },
    {
     "data": {
      "application/vnd.jupyter.widget-view+json": {
       "model_id": "cc9849a6e4f64a94afc642c3ec6a6c4e",
       "version_major": 2,
       "version_minor": 0
      },
      "text/plain": [
       "HBox(children=(IntProgress(value=0, max=5), HTML(value='')))"
      ]
     },
     "metadata": {},
     "output_type": "display_data"
    },
    {
     "name": "stdout",
     "output_type": "stream",
     "text": [
      "Train Epoch: 1 [0/500\t(1%)]\tLoss: 0.935638\n",
      "Train Epoch: 1 [400/500\t(81%)]\tLoss: 1.018214\n",
      "Train Epoch: 2 [0/500\t(1%)]\tLoss: 0.766338\n",
      "Train Epoch: 2 [400/500\t(81%)]\tLoss: 0.936334\n",
      "Train Epoch: 3 [0/500\t(1%)]\tLoss: 0.703025\n",
      "Train Epoch: 3 [400/500\t(81%)]\tLoss: 0.739670\n",
      "Train Epoch: 4 [0/500\t(1%)]\tLoss: 0.544355\n",
      "Train Epoch: 4 [400/500\t(81%)]\tLoss: 0.935631\n",
      "Train Epoch: 5 [0/500\t(1%)]\tLoss: 0.607094\n",
      "Train Epoch: 5 [400/500\t(81%)]\tLoss: 0.610004\n",
      "\n",
      "Worker 51 ends training in Global Round:21 |\n",
      "\n",
      "Worker 6 starts training in Global Round:21 |\n"
     ]
    },
    {
     "data": {
      "application/vnd.jupyter.widget-view+json": {
       "model_id": "b26e5d01cd6144a2a705f30c5b31e183",
       "version_major": 2,
       "version_minor": 0
      },
      "text/plain": [
       "HBox(children=(IntProgress(value=0, max=5), HTML(value='')))"
      ]
     },
     "metadata": {},
     "output_type": "display_data"
    },
    {
     "name": "stdout",
     "output_type": "stream",
     "text": [
      "Train Epoch: 1 [0/500\t(1%)]\tLoss: 0.986373\n",
      "Train Epoch: 1 [400/500\t(81%)]\tLoss: 1.299678\n",
      "Train Epoch: 2 [0/500\t(1%)]\tLoss: 0.823915\n",
      "Train Epoch: 2 [400/500\t(81%)]\tLoss: 0.872571\n",
      "Train Epoch: 3 [0/500\t(1%)]\tLoss: 0.817261\n",
      "Train Epoch: 3 [400/500\t(81%)]\tLoss: 0.810132\n",
      "Train Epoch: 4 [0/500\t(1%)]\tLoss: 0.613130\n",
      "Train Epoch: 4 [400/500\t(81%)]\tLoss: 0.776948\n",
      "Train Epoch: 5 [0/500\t(1%)]\tLoss: 0.571370\n",
      "Train Epoch: 5 [400/500\t(81%)]\tLoss: 0.701837\n",
      "\n",
      "Worker 6 ends training in Global Round:21 |\n",
      "\n",
      "Worker 80 starts training in Global Round:21 |\n"
     ]
    },
    {
     "data": {
      "application/vnd.jupyter.widget-view+json": {
       "model_id": "943deae416e24ab99f8f326e5dfac7b6",
       "version_major": 2,
       "version_minor": 0
      },
      "text/plain": [
       "HBox(children=(IntProgress(value=0, max=5), HTML(value='')))"
      ]
     },
     "metadata": {},
     "output_type": "display_data"
    },
    {
     "name": "stdout",
     "output_type": "stream",
     "text": [
      "Train Epoch: 1 [0/500\t(1%)]\tLoss: 0.882177\n",
      "Train Epoch: 1 [400/500\t(81%)]\tLoss: 1.220827\n",
      "Train Epoch: 2 [0/500\t(1%)]\tLoss: 0.892667\n",
      "Train Epoch: 2 [400/500\t(81%)]\tLoss: 0.935446\n",
      "Train Epoch: 3 [0/500\t(1%)]\tLoss: 0.671704\n",
      "Train Epoch: 3 [400/500\t(81%)]\tLoss: 0.786757\n",
      "Train Epoch: 4 [0/500\t(1%)]\tLoss: 0.673514\n",
      "Train Epoch: 4 [400/500\t(81%)]\tLoss: 0.685479\n",
      "Train Epoch: 5 [0/500\t(1%)]\tLoss: 0.581637\n",
      "Train Epoch: 5 [400/500\t(81%)]\tLoss: 0.590479\n",
      "\n",
      "Worker 80 ends training in Global Round:21 |\n",
      "\n",
      "Worker 66 starts training in Global Round:21 |\n"
     ]
    },
    {
     "data": {
      "application/vnd.jupyter.widget-view+json": {
       "model_id": "ea06f09c567f4bac9b3073abdc71668d",
       "version_major": 2,
       "version_minor": 0
      },
      "text/plain": [
       "HBox(children=(IntProgress(value=0, max=5), HTML(value='')))"
      ]
     },
     "metadata": {},
     "output_type": "display_data"
    },
    {
     "name": "stdout",
     "output_type": "stream",
     "text": [
      "Train Epoch: 1 [0/500\t(1%)]\tLoss: 0.940453\n",
      "Train Epoch: 1 [400/500\t(81%)]\tLoss: 0.994229\n",
      "Train Epoch: 2 [0/500\t(1%)]\tLoss: 0.866955\n",
      "Train Epoch: 2 [400/500\t(81%)]\tLoss: 1.132384\n",
      "Train Epoch: 3 [0/500\t(1%)]\tLoss: 0.727162\n",
      "Train Epoch: 3 [400/500\t(81%)]\tLoss: 0.821125\n",
      "Train Epoch: 4 [0/500\t(1%)]\tLoss: 0.548348\n",
      "Train Epoch: 4 [400/500\t(81%)]\tLoss: 0.816032\n",
      "Train Epoch: 5 [0/500\t(1%)]\tLoss: 0.639210\n",
      "Train Epoch: 5 [400/500\t(81%)]\tLoss: 0.746017\n",
      "\n",
      "Worker 66 ends training in Global Round:21 |\n",
      "\n",
      "Average loss: 1.1203, Accuracy: 6233/10000 (62%)\n",
      "\n",
      "\n",
      "Selected workers\n",
      "\n",
      "[14 74 75 72 52 47  7 84 23 73 10 35 99 87 19]\n",
      "Worker 14 : is  Random_Attacker\n",
      "Worker 74 : is  Honest\n",
      "Worker 75 : is  Random_Attacker\n",
      "Worker 72 : is  Random_Attacker\n",
      "Worker 52 : is  Random_Attacker\n",
      "Worker 47 : is  Honest\n",
      "Worker 7 : is  Honest\n",
      "Worker 84 : is  Honest\n",
      "Worker 23 : is  Random_Attacker\n",
      "Worker 73 : is  Honest\n",
      "Worker 10 : is  Honest\n",
      "Worker 35 : is  Honest\n",
      "Worker 99 : is  Honest\n",
      "Worker 87 : is  Random_Attacker\n",
      "Worker 19 : is  Random_Attacker\n",
      "\n",
      " | Global Training Round : 22 |\n",
      "\n",
      "\n",
      "Worker 14 starts training in Global Round:22 |\n"
     ]
    },
    {
     "data": {
      "application/vnd.jupyter.widget-view+json": {
       "model_id": "4675c07090274f8ca8016b5e0d45dd10",
       "version_major": 2,
       "version_minor": 0
      },
      "text/plain": [
       "HBox(children=(IntProgress(value=0, max=5), HTML(value='')))"
      ]
     },
     "metadata": {},
     "output_type": "display_data"
    },
    {
     "name": "stdout",
     "output_type": "stream",
     "text": [
      "Train Epoch: 1 [0/500\t(1%)]\tLoss: 1.142718\n",
      "Train Epoch: 1 [400/500\t(81%)]\tLoss: 1.317746\n",
      "Train Epoch: 2 [0/500\t(1%)]\tLoss: 0.783755\n",
      "Train Epoch: 2 [400/500\t(81%)]\tLoss: 1.172937\n",
      "Train Epoch: 3 [0/500\t(1%)]\tLoss: 0.856809\n",
      "Train Epoch: 3 [400/500\t(81%)]\tLoss: 1.058964\n",
      "Train Epoch: 4 [0/500\t(1%)]\tLoss: 0.754343\n",
      "Train Epoch: 4 [400/500\t(81%)]\tLoss: 0.649379\n",
      "Train Epoch: 5 [0/500\t(1%)]\tLoss: 0.583763\n",
      "Train Epoch: 5 [400/500\t(81%)]\tLoss: 0.544911\n",
      "\n",
      "Performed attacks 0\n",
      "\n",
      "===>Random attack started by:  Worker 14  in Global Round:  22\n",
      "Random attack strating: \n",
      "Performed attacks 1\n",
      "Worker 14 ends training in Global Round:22 |\n",
      "\n",
      "Worker 74 starts training in Global Round:22 |\n"
     ]
    },
    {
     "data": {
      "application/vnd.jupyter.widget-view+json": {
       "model_id": "104ee1069b8841aca7ba7ce560763f0d",
       "version_major": 2,
       "version_minor": 0
      },
      "text/plain": [
       "HBox(children=(IntProgress(value=0, max=5), HTML(value='')))"
      ]
     },
     "metadata": {},
     "output_type": "display_data"
    },
    {
     "name": "stdout",
     "output_type": "stream",
     "text": [
      "Train Epoch: 1 [0/500\t(1%)]\tLoss: 0.870192\n",
      "Train Epoch: 1 [400/500\t(81%)]\tLoss: 1.046328\n",
      "Train Epoch: 2 [0/500\t(1%)]\tLoss: 0.890867\n",
      "Train Epoch: 2 [400/500\t(81%)]\tLoss: 1.010746\n",
      "Train Epoch: 3 [0/500\t(1%)]\tLoss: 0.602019\n",
      "Train Epoch: 3 [400/500\t(81%)]\tLoss: 0.955484\n",
      "Train Epoch: 4 [0/500\t(1%)]\tLoss: 0.613438\n",
      "Train Epoch: 4 [400/500\t(81%)]\tLoss: 0.787340\n",
      "Train Epoch: 5 [0/500\t(1%)]\tLoss: 0.611364\n",
      "Train Epoch: 5 [400/500\t(81%)]\tLoss: 0.608419\n",
      "\n",
      "Worker 74 ends training in Global Round:22 |\n",
      "\n",
      "Worker 75 starts training in Global Round:22 |\n"
     ]
    },
    {
     "data": {
      "application/vnd.jupyter.widget-view+json": {
       "model_id": "f74ac479646648829b61d41bcd3cbc06",
       "version_major": 2,
       "version_minor": 0
      },
      "text/plain": [
       "HBox(children=(IntProgress(value=0, max=5), HTML(value='')))"
      ]
     },
     "metadata": {},
     "output_type": "display_data"
    },
    {
     "name": "stdout",
     "output_type": "stream",
     "text": [
      "Train Epoch: 1 [0/500\t(1%)]\tLoss: 0.831742\n",
      "Train Epoch: 1 [400/500\t(81%)]\tLoss: 1.085060\n",
      "Train Epoch: 2 [0/500\t(1%)]\tLoss: 0.848511\n",
      "Train Epoch: 2 [400/500\t(81%)]\tLoss: 0.717884\n",
      "Train Epoch: 3 [0/500\t(1%)]\tLoss: 0.645075\n",
      "Train Epoch: 3 [400/500\t(81%)]\tLoss: 0.885263\n",
      "Train Epoch: 4 [0/500\t(1%)]\tLoss: 0.599712\n",
      "Train Epoch: 4 [400/500\t(81%)]\tLoss: 0.829913\n",
      "Train Epoch: 5 [0/500\t(1%)]\tLoss: 0.654808\n",
      "Train Epoch: 5 [400/500\t(81%)]\tLoss: 0.581524\n",
      "\n",
      "Performed attacks 1\n",
      "\n",
      "===>Random attack started by:  Worker 75  in Global Round:  22\n",
      "Random attack strating: \n",
      "Performed attacks 2\n",
      "Worker 75 ends training in Global Round:22 |\n",
      "\n",
      "Worker 72 starts training in Global Round:22 |\n"
     ]
    },
    {
     "data": {
      "application/vnd.jupyter.widget-view+json": {
       "model_id": "8be70fcb52cd4d04ac33c54b7ed83a22",
       "version_major": 2,
       "version_minor": 0
      },
      "text/plain": [
       "HBox(children=(IntProgress(value=0, max=5), HTML(value='')))"
      ]
     },
     "metadata": {},
     "output_type": "display_data"
    },
    {
     "name": "stdout",
     "output_type": "stream",
     "text": [
      "Train Epoch: 1 [0/500\t(1%)]\tLoss: 0.983120\n",
      "Train Epoch: 1 [400/500\t(81%)]\tLoss: 1.190046\n",
      "Train Epoch: 2 [0/500\t(1%)]\tLoss: 0.830051\n",
      "Train Epoch: 2 [400/500\t(81%)]\tLoss: 1.021435\n",
      "Train Epoch: 3 [0/500\t(1%)]\tLoss: 0.814211\n",
      "Train Epoch: 3 [400/500\t(81%)]\tLoss: 0.848218\n",
      "Train Epoch: 4 [0/500\t(1%)]\tLoss: 0.578321\n",
      "Train Epoch: 4 [400/500\t(81%)]\tLoss: 0.779671\n",
      "Train Epoch: 5 [0/500\t(1%)]\tLoss: 0.767798\n",
      "Train Epoch: 5 [400/500\t(81%)]\tLoss: 0.689352\n",
      "\n",
      "Performed attacks 2\n",
      "\n",
      "===>Random attack started by:  Worker 72  in Global Round:  22\n",
      "Random attack strating: \n",
      "Performed attacks 3\n",
      "Worker 72 ends training in Global Round:22 |\n",
      "\n",
      "Worker 52 starts training in Global Round:22 |\n"
     ]
    },
    {
     "data": {
      "application/vnd.jupyter.widget-view+json": {
       "model_id": "becc8107a3f34bc88c4a8a37f7ba18e0",
       "version_major": 2,
       "version_minor": 0
      },
      "text/plain": [
       "HBox(children=(IntProgress(value=0, max=5), HTML(value='')))"
      ]
     },
     "metadata": {},
     "output_type": "display_data"
    },
    {
     "name": "stdout",
     "output_type": "stream",
     "text": [
      "Train Epoch: 1 [0/500\t(1%)]\tLoss: 0.830035\n",
      "Train Epoch: 1 [400/500\t(81%)]\tLoss: 1.100954\n",
      "Train Epoch: 2 [0/500\t(1%)]\tLoss: 0.788631\n",
      "Train Epoch: 2 [400/500\t(81%)]\tLoss: 1.130350\n",
      "Train Epoch: 3 [0/500\t(1%)]\tLoss: 0.752035\n",
      "Train Epoch: 3 [400/500\t(81%)]\tLoss: 0.882095\n",
      "Train Epoch: 4 [0/500\t(1%)]\tLoss: 0.779470\n",
      "Train Epoch: 4 [400/500\t(81%)]\tLoss: 0.629931\n",
      "Train Epoch: 5 [0/500\t(1%)]\tLoss: 0.592656\n",
      "Train Epoch: 5 [400/500\t(81%)]\tLoss: 0.571562\n",
      "\n",
      "Performed attacks 3\n",
      "\n",
      "===>Random attack started by:  Worker 52  in Global Round:  22\n",
      "Random attack strating: \n",
      "Performed attacks 4\n",
      "Worker 52 ends training in Global Round:22 |\n",
      "\n",
      "Worker 47 starts training in Global Round:22 |\n"
     ]
    },
    {
     "data": {
      "application/vnd.jupyter.widget-view+json": {
       "model_id": "28b7844fdfd34fd982d39f43b30302f1",
       "version_major": 2,
       "version_minor": 0
      },
      "text/plain": [
       "HBox(children=(IntProgress(value=0, max=5), HTML(value='')))"
      ]
     },
     "metadata": {},
     "output_type": "display_data"
    },
    {
     "name": "stdout",
     "output_type": "stream",
     "text": [
      "Train Epoch: 1 [0/500\t(1%)]\tLoss: 0.893365\n",
      "Train Epoch: 1 [400/500\t(81%)]\tLoss: 1.079224\n",
      "Train Epoch: 2 [0/500\t(1%)]\tLoss: 0.920854\n",
      "Train Epoch: 2 [400/500\t(81%)]\tLoss: 0.881464\n",
      "Train Epoch: 3 [0/500\t(1%)]\tLoss: 0.674584\n",
      "Train Epoch: 3 [400/500\t(81%)]\tLoss: 0.975646\n",
      "Train Epoch: 4 [0/500\t(1%)]\tLoss: 0.714140\n",
      "Train Epoch: 4 [400/500\t(81%)]\tLoss: 0.803027\n",
      "Train Epoch: 5 [0/500\t(1%)]\tLoss: 0.585607\n",
      "Train Epoch: 5 [400/500\t(81%)]\tLoss: 0.560206\n",
      "\n",
      "Worker 47 ends training in Global Round:22 |\n",
      "\n",
      "Worker 7 starts training in Global Round:22 |\n"
     ]
    },
    {
     "data": {
      "application/vnd.jupyter.widget-view+json": {
       "model_id": "1493e61128c442a6a229f15e8f563e59",
       "version_major": 2,
       "version_minor": 0
      },
      "text/plain": [
       "HBox(children=(IntProgress(value=0, max=5), HTML(value='')))"
      ]
     },
     "metadata": {},
     "output_type": "display_data"
    },
    {
     "name": "stdout",
     "output_type": "stream",
     "text": [
      "Train Epoch: 1 [0/500\t(1%)]\tLoss: 1.271058\n",
      "Train Epoch: 1 [400/500\t(81%)]\tLoss: 1.258877\n",
      "Train Epoch: 2 [0/500\t(1%)]\tLoss: 0.923411\n",
      "Train Epoch: 2 [400/500\t(81%)]\tLoss: 0.870272\n",
      "Train Epoch: 3 [0/500\t(1%)]\tLoss: 0.660078\n",
      "Train Epoch: 3 [400/500\t(81%)]\tLoss: 0.832941\n",
      "Train Epoch: 4 [0/500\t(1%)]\tLoss: 0.791435\n",
      "Train Epoch: 4 [400/500\t(81%)]\tLoss: 0.843617\n",
      "Train Epoch: 5 [0/500\t(1%)]\tLoss: 0.510818\n",
      "Train Epoch: 5 [400/500\t(81%)]\tLoss: 0.657031\n",
      "\n",
      "Worker 7 ends training in Global Round:22 |\n",
      "\n",
      "Worker 84 starts training in Global Round:22 |\n"
     ]
    },
    {
     "data": {
      "application/vnd.jupyter.widget-view+json": {
       "model_id": "3a69ba75abfe4841bf77fd3853e3e750",
       "version_major": 2,
       "version_minor": 0
      },
      "text/plain": [
       "HBox(children=(IntProgress(value=0, max=5), HTML(value='')))"
      ]
     },
     "metadata": {},
     "output_type": "display_data"
    },
    {
     "name": "stdout",
     "output_type": "stream",
     "text": [
      "Train Epoch: 1 [0/500\t(1%)]\tLoss: 1.133549\n",
      "Train Epoch: 1 [400/500\t(81%)]\tLoss: 1.089036\n",
      "Train Epoch: 2 [0/500\t(1%)]\tLoss: 0.979302\n",
      "Train Epoch: 2 [400/500\t(81%)]\tLoss: 1.089080\n",
      "Train Epoch: 3 [0/500\t(1%)]\tLoss: 0.715316\n",
      "Train Epoch: 3 [400/500\t(81%)]\tLoss: 0.934619\n",
      "Train Epoch: 4 [0/500\t(1%)]\tLoss: 0.741736\n",
      "Train Epoch: 4 [400/500\t(81%)]\tLoss: 0.941832\n",
      "Train Epoch: 5 [0/500\t(1%)]\tLoss: 0.614625\n",
      "Train Epoch: 5 [400/500\t(81%)]\tLoss: 0.744415\n",
      "\n",
      "Worker 84 ends training in Global Round:22 |\n",
      "\n",
      "Worker 23 starts training in Global Round:22 |\n"
     ]
    },
    {
     "data": {
      "application/vnd.jupyter.widget-view+json": {
       "model_id": "1e6989c984a7458681e5645dd9f607a2",
       "version_major": 2,
       "version_minor": 0
      },
      "text/plain": [
       "HBox(children=(IntProgress(value=0, max=5), HTML(value='')))"
      ]
     },
     "metadata": {},
     "output_type": "display_data"
    },
    {
     "name": "stdout",
     "output_type": "stream",
     "text": [
      "Train Epoch: 1 [0/500\t(1%)]\tLoss: 0.980167\n",
      "Train Epoch: 1 [400/500\t(81%)]\tLoss: 1.311412\n",
      "Train Epoch: 2 [0/500\t(1%)]\tLoss: 0.704133\n",
      "Train Epoch: 2 [400/500\t(81%)]\tLoss: 1.296503\n",
      "Train Epoch: 3 [0/500\t(1%)]\tLoss: 0.657929\n",
      "Train Epoch: 3 [400/500\t(81%)]\tLoss: 0.924299\n",
      "Train Epoch: 4 [0/500\t(1%)]\tLoss: 0.744510\n",
      "Train Epoch: 4 [400/500\t(81%)]\tLoss: 0.765038\n",
      "Train Epoch: 5 [0/500\t(1%)]\tLoss: 0.612951\n",
      "Train Epoch: 5 [400/500\t(81%)]\tLoss: 0.731754\n",
      "\n",
      "Worker 23 ends training in Global Round:22 |\n",
      "\n",
      "Worker 73 starts training in Global Round:22 |\n"
     ]
    },
    {
     "data": {
      "application/vnd.jupyter.widget-view+json": {
       "model_id": "7bf6441b25424c2ba73916c7d5ad73a4",
       "version_major": 2,
       "version_minor": 0
      },
      "text/plain": [
       "HBox(children=(IntProgress(value=0, max=5), HTML(value='')))"
      ]
     },
     "metadata": {},
     "output_type": "display_data"
    },
    {
     "name": "stdout",
     "output_type": "stream",
     "text": [
      "Train Epoch: 1 [0/500\t(1%)]\tLoss: 1.105398\n",
      "Train Epoch: 1 [400/500\t(81%)]\tLoss: 1.034600\n",
      "Train Epoch: 2 [0/500\t(1%)]\tLoss: 0.879761\n",
      "Train Epoch: 2 [400/500\t(81%)]\tLoss: 0.954324\n",
      "Train Epoch: 3 [0/500\t(1%)]\tLoss: 0.510737\n",
      "Train Epoch: 3 [400/500\t(81%)]\tLoss: 0.919160\n",
      "Train Epoch: 4 [0/500\t(1%)]\tLoss: 0.624864\n",
      "Train Epoch: 4 [400/500\t(81%)]\tLoss: 0.741548\n",
      "Train Epoch: 5 [0/500\t(1%)]\tLoss: 0.660399\n",
      "Train Epoch: 5 [400/500\t(81%)]\tLoss: 0.688719\n",
      "\n",
      "Worker 73 ends training in Global Round:22 |\n",
      "\n",
      "Worker 10 starts training in Global Round:22 |\n"
     ]
    },
    {
     "data": {
      "application/vnd.jupyter.widget-view+json": {
       "model_id": "a5e4a0260a504f5da9ef8af38348029b",
       "version_major": 2,
       "version_minor": 0
      },
      "text/plain": [
       "HBox(children=(IntProgress(value=0, max=5), HTML(value='')))"
      ]
     },
     "metadata": {},
     "output_type": "display_data"
    },
    {
     "name": "stdout",
     "output_type": "stream",
     "text": [
      "Train Epoch: 1 [0/500\t(1%)]\tLoss: 1.051714\n",
      "Train Epoch: 1 [400/500\t(81%)]\tLoss: 1.194093\n",
      "Train Epoch: 2 [0/500\t(1%)]\tLoss: 0.875324\n",
      "Train Epoch: 2 [400/500\t(81%)]\tLoss: 0.914771\n",
      "Train Epoch: 3 [0/500\t(1%)]\tLoss: 0.826968\n",
      "Train Epoch: 3 [400/500\t(81%)]\tLoss: 0.979847\n",
      "Train Epoch: 4 [0/500\t(1%)]\tLoss: 0.722128\n",
      "Train Epoch: 4 [400/500\t(81%)]\tLoss: 0.906568\n",
      "Train Epoch: 5 [0/500\t(1%)]\tLoss: 0.672220\n",
      "Train Epoch: 5 [400/500\t(81%)]\tLoss: 0.735085\n",
      "\n",
      "Worker 10 ends training in Global Round:22 |\n",
      "\n",
      "Worker 35 starts training in Global Round:22 |\n"
     ]
    },
    {
     "data": {
      "application/vnd.jupyter.widget-view+json": {
       "model_id": "3b5629dd472f4dbb9565c289fead9903",
       "version_major": 2,
       "version_minor": 0
      },
      "text/plain": [
       "HBox(children=(IntProgress(value=0, max=5), HTML(value='')))"
      ]
     },
     "metadata": {},
     "output_type": "display_data"
    },
    {
     "name": "stdout",
     "output_type": "stream",
     "text": [
      "Train Epoch: 1 [0/500\t(1%)]\tLoss: 0.993419\n",
      "Train Epoch: 1 [400/500\t(81%)]\tLoss: 1.082632\n",
      "Train Epoch: 2 [0/500\t(1%)]\tLoss: 0.710590\n",
      "Train Epoch: 2 [400/500\t(81%)]\tLoss: 1.009908\n",
      "Train Epoch: 3 [0/500\t(1%)]\tLoss: 0.702955\n",
      "Train Epoch: 3 [400/500\t(81%)]\tLoss: 0.729547\n",
      "Train Epoch: 4 [0/500\t(1%)]\tLoss: 0.580818\n",
      "Train Epoch: 4 [400/500\t(81%)]\tLoss: 0.905812\n",
      "Train Epoch: 5 [0/500\t(1%)]\tLoss: 0.730809\n",
      "Train Epoch: 5 [400/500\t(81%)]\tLoss: 0.782510\n",
      "\n",
      "Worker 35 ends training in Global Round:22 |\n",
      "\n",
      "Worker 99 starts training in Global Round:22 |\n"
     ]
    },
    {
     "data": {
      "application/vnd.jupyter.widget-view+json": {
       "model_id": "a645d52ce9a349a5919fe0dbecc9952b",
       "version_major": 2,
       "version_minor": 0
      },
      "text/plain": [
       "HBox(children=(IntProgress(value=0, max=5), HTML(value='')))"
      ]
     },
     "metadata": {},
     "output_type": "display_data"
    },
    {
     "name": "stdout",
     "output_type": "stream",
     "text": [
      "Train Epoch: 1 [0/500\t(1%)]\tLoss: 1.084842\n",
      "Train Epoch: 1 [400/500\t(81%)]\tLoss: 1.206168\n",
      "Train Epoch: 2 [0/500\t(1%)]\tLoss: 0.791406\n",
      "Train Epoch: 2 [400/500\t(81%)]\tLoss: 0.940153\n",
      "Train Epoch: 3 [0/500\t(1%)]\tLoss: 0.594718\n",
      "Train Epoch: 3 [400/500\t(81%)]\tLoss: 0.863447\n",
      "Train Epoch: 4 [0/500\t(1%)]\tLoss: 0.710635\n",
      "Train Epoch: 4 [400/500\t(81%)]\tLoss: 0.531319\n",
      "Train Epoch: 5 [0/500\t(1%)]\tLoss: 0.670013\n",
      "Train Epoch: 5 [400/500\t(81%)]\tLoss: 0.815679\n",
      "\n",
      "Worker 99 ends training in Global Round:22 |\n",
      "\n",
      "Worker 87 starts training in Global Round:22 |\n"
     ]
    },
    {
     "data": {
      "application/vnd.jupyter.widget-view+json": {
       "model_id": "ceef15cb499f4b7b84c4749cda0962ab",
       "version_major": 2,
       "version_minor": 0
      },
      "text/plain": [
       "HBox(children=(IntProgress(value=0, max=5), HTML(value='')))"
      ]
     },
     "metadata": {},
     "output_type": "display_data"
    },
    {
     "name": "stdout",
     "output_type": "stream",
     "text": [
      "Train Epoch: 1 [0/500\t(1%)]\tLoss: 1.133361\n",
      "Train Epoch: 1 [400/500\t(81%)]\tLoss: 1.277942\n",
      "Train Epoch: 2 [0/500\t(1%)]\tLoss: 0.728882\n",
      "Train Epoch: 2 [400/500\t(81%)]\tLoss: 1.030843\n",
      "Train Epoch: 3 [0/500\t(1%)]\tLoss: 0.994527\n",
      "Train Epoch: 3 [400/500\t(81%)]\tLoss: 0.934406\n",
      "Train Epoch: 4 [0/500\t(1%)]\tLoss: 0.829118\n",
      "Train Epoch: 4 [400/500\t(81%)]\tLoss: 0.934634\n",
      "Train Epoch: 5 [0/500\t(1%)]\tLoss: 0.688086\n",
      "Train Epoch: 5 [400/500\t(81%)]\tLoss: 0.575160\n",
      "\n",
      "Worker 87 ends training in Global Round:22 |\n",
      "\n",
      "Worker 19 starts training in Global Round:22 |\n"
     ]
    },
    {
     "data": {
      "application/vnd.jupyter.widget-view+json": {
       "model_id": "b687f1a84fb7430c9d11a1a8104224b1",
       "version_major": 2,
       "version_minor": 0
      },
      "text/plain": [
       "HBox(children=(IntProgress(value=0, max=5), HTML(value='')))"
      ]
     },
     "metadata": {},
     "output_type": "display_data"
    },
    {
     "name": "stdout",
     "output_type": "stream",
     "text": [
      "Train Epoch: 1 [0/500\t(1%)]\tLoss: 1.149629\n",
      "Train Epoch: 1 [400/500\t(81%)]\tLoss: 1.037381\n",
      "Train Epoch: 2 [0/500\t(1%)]\tLoss: 0.708766\n",
      "Train Epoch: 2 [400/500\t(81%)]\tLoss: 0.834505\n",
      "Train Epoch: 3 [0/500\t(1%)]\tLoss: 0.879825\n",
      "Train Epoch: 3 [400/500\t(81%)]\tLoss: 0.913233\n",
      "Train Epoch: 4 [0/500\t(1%)]\tLoss: 0.542719\n",
      "Train Epoch: 4 [400/500\t(81%)]\tLoss: 0.577025\n",
      "Train Epoch: 5 [0/500\t(1%)]\tLoss: 0.498212\n",
      "Train Epoch: 5 [400/500\t(81%)]\tLoss: 0.571965\n",
      "\n",
      "Worker 19 ends training in Global Round:22 |\n",
      "\n",
      "Average loss: 1.1180, Accuracy: 6395/10000 (64%)\n",
      "\n",
      "\n",
      "Selected workers\n",
      "\n",
      "[78 30 81 77 68 33 82 75 67 18 69 12 17 61 84]\n",
      "Worker 78 : is  Honest\n",
      "Worker 30 : is  Honest\n",
      "Worker 81 : is  Honest\n",
      "Worker 77 : is  Honest\n",
      "Worker 68 : is  Honest\n",
      "Worker 33 : is  Random_Attacker\n",
      "Worker 82 : is  Honest\n",
      "Worker 75 : is  Random_Attacker\n",
      "Worker 67 : is  Random_Attacker\n",
      "Worker 18 : is  Random_Attacker\n",
      "Worker 69 : is  Honest\n",
      "Worker 12 : is  Random_Attacker\n",
      "Worker 17 : is  Honest\n",
      "Worker 61 : is  Honest\n",
      "Worker 84 : is  Honest\n",
      "\n",
      " | Global Training Round : 23 |\n",
      "\n",
      "\n",
      "Worker 78 starts training in Global Round:23 |\n"
     ]
    },
    {
     "data": {
      "application/vnd.jupyter.widget-view+json": {
       "model_id": "8f011f14a70846fe9792afa7f1930519",
       "version_major": 2,
       "version_minor": 0
      },
      "text/plain": [
       "HBox(children=(IntProgress(value=0, max=5), HTML(value='')))"
      ]
     },
     "metadata": {},
     "output_type": "display_data"
    },
    {
     "name": "stdout",
     "output_type": "stream",
     "text": [
      "Train Epoch: 1 [0/500\t(1%)]\tLoss: 1.182849\n",
      "Train Epoch: 1 [400/500\t(81%)]\tLoss: 1.266147\n",
      "Train Epoch: 2 [0/500\t(1%)]\tLoss: 0.955183\n",
      "Train Epoch: 2 [400/500\t(81%)]\tLoss: 0.881134\n",
      "Train Epoch: 3 [0/500\t(1%)]\tLoss: 0.710881\n",
      "Train Epoch: 3 [400/500\t(81%)]\tLoss: 1.253722\n",
      "Train Epoch: 4 [0/500\t(1%)]\tLoss: 0.653846\n",
      "Train Epoch: 4 [400/500\t(81%)]\tLoss: 0.795275\n",
      "Train Epoch: 5 [0/500\t(1%)]\tLoss: 0.687086\n",
      "Train Epoch: 5 [400/500\t(81%)]\tLoss: 0.890428\n",
      "\n",
      "Worker 78 ends training in Global Round:23 |\n",
      "\n",
      "Worker 30 starts training in Global Round:23 |\n"
     ]
    },
    {
     "data": {
      "application/vnd.jupyter.widget-view+json": {
       "model_id": "14760bb40886439ba4fc7b1ea3807ca9",
       "version_major": 2,
       "version_minor": 0
      },
      "text/plain": [
       "HBox(children=(IntProgress(value=0, max=5), HTML(value='')))"
      ]
     },
     "metadata": {},
     "output_type": "display_data"
    },
    {
     "name": "stdout",
     "output_type": "stream",
     "text": [
      "Train Epoch: 1 [0/500\t(1%)]\tLoss: 0.946273\n",
      "Train Epoch: 1 [400/500\t(81%)]\tLoss: 1.211778\n",
      "Train Epoch: 2 [0/500\t(1%)]\tLoss: 0.885403\n",
      "Train Epoch: 2 [400/500\t(81%)]\tLoss: 0.774545\n",
      "Train Epoch: 3 [0/500\t(1%)]\tLoss: 0.648094\n",
      "Train Epoch: 3 [400/500\t(81%)]\tLoss: 0.762150\n",
      "Train Epoch: 4 [0/500\t(1%)]\tLoss: 0.833642\n",
      "Train Epoch: 4 [400/500\t(81%)]\tLoss: 0.807806\n",
      "Train Epoch: 5 [0/500\t(1%)]\tLoss: 0.611971\n",
      "Train Epoch: 5 [400/500\t(81%)]\tLoss: 0.626974\n",
      "\n",
      "Worker 30 ends training in Global Round:23 |\n",
      "\n",
      "Worker 81 starts training in Global Round:23 |\n"
     ]
    },
    {
     "data": {
      "application/vnd.jupyter.widget-view+json": {
       "model_id": "752e5108e0534a6eac6ae10c9b24dee8",
       "version_major": 2,
       "version_minor": 0
      },
      "text/plain": [
       "HBox(children=(IntProgress(value=0, max=5), HTML(value='')))"
      ]
     },
     "metadata": {},
     "output_type": "display_data"
    },
    {
     "name": "stdout",
     "output_type": "stream",
     "text": [
      "Train Epoch: 1 [0/500\t(1%)]\tLoss: 1.088789\n",
      "Train Epoch: 1 [400/500\t(81%)]\tLoss: 1.220165\n",
      "Train Epoch: 2 [0/500\t(1%)]\tLoss: 0.818210\n",
      "Train Epoch: 2 [400/500\t(81%)]\tLoss: 0.896102\n",
      "Train Epoch: 3 [0/500\t(1%)]\tLoss: 0.862653\n",
      "Train Epoch: 3 [400/500\t(81%)]\tLoss: 0.767181\n",
      "Train Epoch: 4 [0/500\t(1%)]\tLoss: 0.609837\n",
      "Train Epoch: 4 [400/500\t(81%)]\tLoss: 0.794826\n",
      "Train Epoch: 5 [0/500\t(1%)]\tLoss: 0.804299\n",
      "Train Epoch: 5 [400/500\t(81%)]\tLoss: 0.910843\n",
      "\n",
      "Worker 81 ends training in Global Round:23 |\n",
      "\n",
      "Worker 77 starts training in Global Round:23 |\n"
     ]
    },
    {
     "data": {
      "application/vnd.jupyter.widget-view+json": {
       "model_id": "0621e90082534abf83951abdc4950ead",
       "version_major": 2,
       "version_minor": 0
      },
      "text/plain": [
       "HBox(children=(IntProgress(value=0, max=5), HTML(value='')))"
      ]
     },
     "metadata": {},
     "output_type": "display_data"
    },
    {
     "name": "stdout",
     "output_type": "stream",
     "text": [
      "Train Epoch: 1 [0/500\t(1%)]\tLoss: 1.035482\n",
      "Train Epoch: 1 [400/500\t(81%)]\tLoss: 1.194528\n",
      "Train Epoch: 2 [0/500\t(1%)]\tLoss: 0.950484\n",
      "Train Epoch: 2 [400/500\t(81%)]\tLoss: 1.094732\n",
      "Train Epoch: 3 [0/500\t(1%)]\tLoss: 0.877534\n",
      "Train Epoch: 3 [400/500\t(81%)]\tLoss: 0.803211\n",
      "Train Epoch: 4 [0/500\t(1%)]\tLoss: 0.673369\n",
      "Train Epoch: 4 [400/500\t(81%)]\tLoss: 0.883781\n",
      "Train Epoch: 5 [0/500\t(1%)]\tLoss: 0.666167\n",
      "Train Epoch: 5 [400/500\t(81%)]\tLoss: 0.652421\n",
      "\n",
      "Worker 77 ends training in Global Round:23 |\n",
      "\n",
      "Worker 68 starts training in Global Round:23 |\n"
     ]
    },
    {
     "data": {
      "application/vnd.jupyter.widget-view+json": {
       "model_id": "3d32f3441fca4d36abc2b8d700191a50",
       "version_major": 2,
       "version_minor": 0
      },
      "text/plain": [
       "HBox(children=(IntProgress(value=0, max=5), HTML(value='')))"
      ]
     },
     "metadata": {},
     "output_type": "display_data"
    },
    {
     "name": "stdout",
     "output_type": "stream",
     "text": [
      "Train Epoch: 1 [0/500\t(1%)]\tLoss: 0.972816\n",
      "Train Epoch: 1 [400/500\t(81%)]\tLoss: 1.015593\n",
      "Train Epoch: 2 [0/500\t(1%)]\tLoss: 0.966454\n",
      "Train Epoch: 2 [400/500\t(81%)]\tLoss: 0.993505\n",
      "Train Epoch: 3 [0/500\t(1%)]\tLoss: 0.932537\n",
      "Train Epoch: 3 [400/500\t(81%)]\tLoss: 1.129851\n",
      "Train Epoch: 4 [0/500\t(1%)]\tLoss: 0.821602\n",
      "Train Epoch: 4 [400/500\t(81%)]\tLoss: 0.829220\n",
      "Train Epoch: 5 [0/500\t(1%)]\tLoss: 0.675922\n",
      "Train Epoch: 5 [400/500\t(81%)]\tLoss: 0.546743\n",
      "\n",
      "Worker 68 ends training in Global Round:23 |\n",
      "\n",
      "Worker 33 starts training in Global Round:23 |\n"
     ]
    },
    {
     "data": {
      "application/vnd.jupyter.widget-view+json": {
       "model_id": "6f8088e629d9497cb1cda9a06e1c0b9c",
       "version_major": 2,
       "version_minor": 0
      },
      "text/plain": [
       "HBox(children=(IntProgress(value=0, max=5), HTML(value='')))"
      ]
     },
     "metadata": {},
     "output_type": "display_data"
    },
    {
     "name": "stdout",
     "output_type": "stream",
     "text": [
      "Train Epoch: 1 [0/500\t(1%)]\tLoss: 0.870985\n",
      "Train Epoch: 1 [400/500\t(81%)]\tLoss: 1.114200\n",
      "Train Epoch: 2 [0/500\t(1%)]\tLoss: 0.858328\n",
      "Train Epoch: 2 [400/500\t(81%)]\tLoss: 0.819805\n",
      "Train Epoch: 3 [0/500\t(1%)]\tLoss: 0.731020\n",
      "Train Epoch: 3 [400/500\t(81%)]\tLoss: 0.822224\n",
      "Train Epoch: 4 [0/500\t(1%)]\tLoss: 0.651208\n",
      "Train Epoch: 4 [400/500\t(81%)]\tLoss: 0.795228\n",
      "Train Epoch: 5 [0/500\t(1%)]\tLoss: 0.512312\n",
      "Train Epoch: 5 [400/500\t(81%)]\tLoss: 0.645929\n",
      "\n",
      "Performed attacks 0\n",
      "\n",
      "===>Random attack started by:  Worker 33  in Global Round:  23\n",
      "Random attack strating: \n",
      "Performed attacks 1\n",
      "Worker 33 ends training in Global Round:23 |\n",
      "\n",
      "Worker 82 starts training in Global Round:23 |\n"
     ]
    },
    {
     "data": {
      "application/vnd.jupyter.widget-view+json": {
       "model_id": "ab369676212c49ad96c700a925bd0e92",
       "version_major": 2,
       "version_minor": 0
      },
      "text/plain": [
       "HBox(children=(IntProgress(value=0, max=5), HTML(value='')))"
      ]
     },
     "metadata": {},
     "output_type": "display_data"
    },
    {
     "name": "stdout",
     "output_type": "stream",
     "text": [
      "Train Epoch: 1 [0/500\t(1%)]\tLoss: 1.011757\n",
      "Train Epoch: 1 [400/500\t(81%)]\tLoss: 1.109655\n",
      "Train Epoch: 2 [0/500\t(1%)]\tLoss: 0.833251\n",
      "Train Epoch: 2 [400/500\t(81%)]\tLoss: 0.952558\n",
      "Train Epoch: 3 [0/500\t(1%)]\tLoss: 0.835702\n",
      "Train Epoch: 3 [400/500\t(81%)]\tLoss: 0.912018\n",
      "Train Epoch: 4 [0/500\t(1%)]\tLoss: 0.755242\n",
      "Train Epoch: 4 [400/500\t(81%)]\tLoss: 0.962759\n",
      "Train Epoch: 5 [0/500\t(1%)]\tLoss: 0.729283\n",
      "Train Epoch: 5 [400/500\t(81%)]\tLoss: 0.613215\n",
      "\n",
      "Worker 82 ends training in Global Round:23 |\n",
      "\n",
      "Worker 75 starts training in Global Round:23 |\n"
     ]
    },
    {
     "data": {
      "application/vnd.jupyter.widget-view+json": {
       "model_id": "dbebbbb672a54d10a222a61f619d0fb8",
       "version_major": 2,
       "version_minor": 0
      },
      "text/plain": [
       "HBox(children=(IntProgress(value=0, max=5), HTML(value='')))"
      ]
     },
     "metadata": {},
     "output_type": "display_data"
    },
    {
     "name": "stdout",
     "output_type": "stream",
     "text": [
      "Train Epoch: 1 [0/500\t(1%)]\tLoss: 0.946328\n",
      "Train Epoch: 1 [400/500\t(81%)]\tLoss: 0.875974\n",
      "Train Epoch: 2 [0/500\t(1%)]\tLoss: 0.730646\n",
      "Train Epoch: 2 [400/500\t(81%)]\tLoss: 0.948530\n",
      "Train Epoch: 3 [0/500\t(1%)]\tLoss: 0.704585\n",
      "Train Epoch: 3 [400/500\t(81%)]\tLoss: 0.849891\n",
      "Train Epoch: 4 [0/500\t(1%)]\tLoss: 0.615075\n",
      "Train Epoch: 4 [400/500\t(81%)]\tLoss: 0.689547\n",
      "Train Epoch: 5 [0/500\t(1%)]\tLoss: 0.595768\n",
      "Train Epoch: 5 [400/500\t(81%)]\tLoss: 0.703220\n",
      "\n",
      "Performed attacks 1\n",
      "\n",
      "===>Random attack started by:  Worker 75  in Global Round:  23\n",
      "Random attack strating: \n",
      "Performed attacks 2\n",
      "Worker 75 ends training in Global Round:23 |\n",
      "\n",
      "Worker 67 starts training in Global Round:23 |\n"
     ]
    },
    {
     "data": {
      "application/vnd.jupyter.widget-view+json": {
       "model_id": "acd421c331434364b7464a0ac7573585",
       "version_major": 2,
       "version_minor": 0
      },
      "text/plain": [
       "HBox(children=(IntProgress(value=0, max=5), HTML(value='')))"
      ]
     },
     "metadata": {},
     "output_type": "display_data"
    },
    {
     "name": "stdout",
     "output_type": "stream",
     "text": [
      "Train Epoch: 1 [0/500\t(1%)]\tLoss: 0.918649\n",
      "Train Epoch: 1 [400/500\t(81%)]\tLoss: 1.153257\n",
      "Train Epoch: 2 [0/500\t(1%)]\tLoss: 0.883429\n",
      "Train Epoch: 2 [400/500\t(81%)]\tLoss: 0.743647\n",
      "Train Epoch: 3 [0/500\t(1%)]\tLoss: 0.769568\n",
      "Train Epoch: 3 [400/500\t(81%)]\tLoss: 0.813966\n",
      "Train Epoch: 4 [0/500\t(1%)]\tLoss: 0.652307\n",
      "Train Epoch: 4 [400/500\t(81%)]\tLoss: 0.840870\n",
      "Train Epoch: 5 [0/500\t(1%)]\tLoss: 0.610207\n",
      "Train Epoch: 5 [400/500\t(81%)]\tLoss: 0.707146\n",
      "\n",
      "Performed attacks 2\n",
      "\n",
      "===>Random attack started by:  Worker 67  in Global Round:  23\n",
      "Random attack strating: \n",
      "Performed attacks 3\n",
      "Worker 67 ends training in Global Round:23 |\n",
      "\n",
      "Worker 18 starts training in Global Round:23 |\n"
     ]
    },
    {
     "data": {
      "application/vnd.jupyter.widget-view+json": {
       "model_id": "9ae5eb88d9574e6a99989fff6fa42b91",
       "version_major": 2,
       "version_minor": 0
      },
      "text/plain": [
       "HBox(children=(IntProgress(value=0, max=5), HTML(value='')))"
      ]
     },
     "metadata": {},
     "output_type": "display_data"
    },
    {
     "name": "stdout",
     "output_type": "stream",
     "text": [
      "Train Epoch: 1 [0/500\t(1%)]\tLoss: 1.239806\n",
      "Train Epoch: 1 [400/500\t(81%)]\tLoss: 1.152175\n",
      "Train Epoch: 2 [0/500\t(1%)]\tLoss: 0.831762\n",
      "Train Epoch: 2 [400/500\t(81%)]\tLoss: 1.136714\n",
      "Train Epoch: 3 [0/500\t(1%)]\tLoss: 0.728196\n",
      "Train Epoch: 3 [400/500\t(81%)]\tLoss: 0.997521\n",
      "Train Epoch: 4 [0/500\t(1%)]\tLoss: 0.666127\n",
      "Train Epoch: 4 [400/500\t(81%)]\tLoss: 0.681974\n",
      "Train Epoch: 5 [0/500\t(1%)]\tLoss: 0.586514\n",
      "Train Epoch: 5 [400/500\t(81%)]\tLoss: 0.907689\n",
      "\n",
      "Performed attacks 3\n",
      "\n",
      "===>Random attack started by:  Worker 18  in Global Round:  23\n",
      "Random attack strating: \n",
      "Performed attacks 4\n",
      "Worker 18 ends training in Global Round:23 |\n",
      "\n",
      "Worker 69 starts training in Global Round:23 |\n"
     ]
    },
    {
     "data": {
      "application/vnd.jupyter.widget-view+json": {
       "model_id": "4bbc3ab9789c48299ebed01ec7ada986",
       "version_major": 2,
       "version_minor": 0
      },
      "text/plain": [
       "HBox(children=(IntProgress(value=0, max=5), HTML(value='')))"
      ]
     },
     "metadata": {},
     "output_type": "display_data"
    },
    {
     "name": "stdout",
     "output_type": "stream",
     "text": [
      "Train Epoch: 1 [0/500\t(1%)]\tLoss: 1.282960\n",
      "Train Epoch: 1 [400/500\t(81%)]\tLoss: 1.035969\n",
      "Train Epoch: 2 [0/500\t(1%)]\tLoss: 0.856957\n",
      "Train Epoch: 2 [400/500\t(81%)]\tLoss: 0.962564\n",
      "Train Epoch: 3 [0/500\t(1%)]\tLoss: 0.696076\n",
      "Train Epoch: 3 [400/500\t(81%)]\tLoss: 0.779662\n",
      "Train Epoch: 4 [0/500\t(1%)]\tLoss: 0.780168\n",
      "Train Epoch: 4 [400/500\t(81%)]\tLoss: 0.968013\n",
      "Train Epoch: 5 [0/500\t(1%)]\tLoss: 0.696687\n",
      "Train Epoch: 5 [400/500\t(81%)]\tLoss: 0.831082\n",
      "\n",
      "Worker 69 ends training in Global Round:23 |\n",
      "\n",
      "Worker 12 starts training in Global Round:23 |\n"
     ]
    },
    {
     "data": {
      "application/vnd.jupyter.widget-view+json": {
       "model_id": "cd46ed2d2a20437b8a7c729c3b545999",
       "version_major": 2,
       "version_minor": 0
      },
      "text/plain": [
       "HBox(children=(IntProgress(value=0, max=5), HTML(value='')))"
      ]
     },
     "metadata": {},
     "output_type": "display_data"
    },
    {
     "name": "stdout",
     "output_type": "stream",
     "text": [
      "Train Epoch: 1 [0/500\t(1%)]\tLoss: 0.965297\n",
      "Train Epoch: 1 [400/500\t(81%)]\tLoss: 0.963391\n",
      "Train Epoch: 2 [0/500\t(1%)]\tLoss: 0.965352\n",
      "Train Epoch: 2 [400/500\t(81%)]\tLoss: 0.998732\n",
      "Train Epoch: 3 [0/500\t(1%)]\tLoss: 0.668169\n",
      "Train Epoch: 3 [400/500\t(81%)]\tLoss: 0.999642\n",
      "Train Epoch: 4 [0/500\t(1%)]\tLoss: 0.835401\n",
      "Train Epoch: 4 [400/500\t(81%)]\tLoss: 0.811388\n",
      "Train Epoch: 5 [0/500\t(1%)]\tLoss: 0.569503\n",
      "Train Epoch: 5 [400/500\t(81%)]\tLoss: 0.790208\n",
      "\n",
      "Worker 12 ends training in Global Round:23 |\n",
      "\n",
      "Worker 17 starts training in Global Round:23 |\n"
     ]
    },
    {
     "data": {
      "application/vnd.jupyter.widget-view+json": {
       "model_id": "7a748c9f7e2b46ceb403cb7d75cbe544",
       "version_major": 2,
       "version_minor": 0
      },
      "text/plain": [
       "HBox(children=(IntProgress(value=0, max=5), HTML(value='')))"
      ]
     },
     "metadata": {},
     "output_type": "display_data"
    },
    {
     "name": "stdout",
     "output_type": "stream",
     "text": [
      "Train Epoch: 1 [0/500\t(1%)]\tLoss: 0.823851\n",
      "Train Epoch: 1 [400/500\t(81%)]\tLoss: 1.440647\n",
      "Train Epoch: 2 [0/500\t(1%)]\tLoss: 1.008312\n",
      "Train Epoch: 2 [400/500\t(81%)]\tLoss: 0.896451\n",
      "Train Epoch: 3 [0/500\t(1%)]\tLoss: 0.629938\n",
      "Train Epoch: 3 [400/500\t(81%)]\tLoss: 0.923335\n",
      "Train Epoch: 4 [0/500\t(1%)]\tLoss: 0.654050\n",
      "Train Epoch: 4 [400/500\t(81%)]\tLoss: 0.855898\n",
      "Train Epoch: 5 [0/500\t(1%)]\tLoss: 0.577720\n",
      "Train Epoch: 5 [400/500\t(81%)]\tLoss: 0.604001\n",
      "\n",
      "Worker 17 ends training in Global Round:23 |\n",
      "\n",
      "Worker 61 starts training in Global Round:23 |\n"
     ]
    },
    {
     "data": {
      "application/vnd.jupyter.widget-view+json": {
       "model_id": "6b5271bb060d4bfb9da6ad21dd00dd9f",
       "version_major": 2,
       "version_minor": 0
      },
      "text/plain": [
       "HBox(children=(IntProgress(value=0, max=5), HTML(value='')))"
      ]
     },
     "metadata": {},
     "output_type": "display_data"
    },
    {
     "name": "stdout",
     "output_type": "stream",
     "text": [
      "Train Epoch: 1 [0/500\t(1%)]\tLoss: 0.959699\n",
      "Train Epoch: 1 [400/500\t(81%)]\tLoss: 1.121925\n",
      "Train Epoch: 2 [0/500\t(1%)]\tLoss: 0.883693\n",
      "Train Epoch: 2 [400/500\t(81%)]\tLoss: 0.971280\n",
      "Train Epoch: 3 [0/500\t(1%)]\tLoss: 0.649507\n",
      "Train Epoch: 3 [400/500\t(81%)]\tLoss: 0.836753\n",
      "Train Epoch: 4 [0/500\t(1%)]\tLoss: 0.785448\n",
      "Train Epoch: 4 [400/500\t(81%)]\tLoss: 0.727349\n",
      "Train Epoch: 5 [0/500\t(1%)]\tLoss: 0.579635\n",
      "Train Epoch: 5 [400/500\t(81%)]\tLoss: 0.796593\n",
      "\n",
      "Worker 61 ends training in Global Round:23 |\n",
      "\n",
      "Worker 84 starts training in Global Round:23 |\n"
     ]
    },
    {
     "data": {
      "application/vnd.jupyter.widget-view+json": {
       "model_id": "19aeb68f618946e09eebe4e01d09779c",
       "version_major": 2,
       "version_minor": 0
      },
      "text/plain": [
       "HBox(children=(IntProgress(value=0, max=5), HTML(value='')))"
      ]
     },
     "metadata": {},
     "output_type": "display_data"
    },
    {
     "name": "stdout",
     "output_type": "stream",
     "text": [
      "Train Epoch: 1 [0/500\t(1%)]\tLoss: 1.139853\n",
      "Train Epoch: 1 [400/500\t(81%)]\tLoss: 1.086257\n",
      "Train Epoch: 2 [0/500\t(1%)]\tLoss: 0.781477\n",
      "Train Epoch: 2 [400/500\t(81%)]\tLoss: 0.938121\n",
      "Train Epoch: 3 [0/500\t(1%)]\tLoss: 0.782469\n",
      "Train Epoch: 3 [400/500\t(81%)]\tLoss: 0.840214\n",
      "Train Epoch: 4 [0/500\t(1%)]\tLoss: 0.693026\n",
      "Train Epoch: 4 [400/500\t(81%)]\tLoss: 0.790454\n",
      "Train Epoch: 5 [0/500\t(1%)]\tLoss: 0.801804\n",
      "Train Epoch: 5 [400/500\t(81%)]\tLoss: 0.783772\n",
      "\n",
      "Worker 84 ends training in Global Round:23 |\n",
      "\n",
      "Average loss: 1.1216, Accuracy: 6322/10000 (63%)\n",
      "\n",
      "\n",
      "Selected workers\n",
      "\n",
      "[34 21 39 14 69 31 80 48 54 59 24  6 55 95 10]\n",
      "Worker 34 : is  Random_Attacker\n",
      "Worker 21 : is  Random_Attacker\n",
      "Worker 39 : is  Honest\n",
      "Worker 14 : is  Random_Attacker\n",
      "Worker 69 : is  Honest\n",
      "Worker 31 : is  Random_Attacker\n",
      "Worker 80 : is  Honest\n",
      "Worker 48 : is  Honest\n",
      "Worker 54 : is  Honest\n",
      "Worker 59 : is  Random_Attacker\n",
      "Worker 24 : is  Honest\n",
      "Worker 6 : is  Random_Attacker\n",
      "Worker 55 : is  Random_Attacker\n",
      "Worker 95 : is  Honest\n",
      "Worker 10 : is  Honest\n",
      "\n",
      " | Global Training Round : 24 |\n",
      "\n",
      "\n",
      "Worker 34 starts training in Global Round:24 |\n"
     ]
    },
    {
     "data": {
      "application/vnd.jupyter.widget-view+json": {
       "model_id": "15bece9e375b49d79ae0a08897643e5a",
       "version_major": 2,
       "version_minor": 0
      },
      "text/plain": [
       "HBox(children=(IntProgress(value=0, max=5), HTML(value='')))"
      ]
     },
     "metadata": {},
     "output_type": "display_data"
    },
    {
     "name": "stdout",
     "output_type": "stream",
     "text": [
      "Train Epoch: 1 [0/500\t(1%)]\tLoss: 1.047187\n",
      "Train Epoch: 1 [400/500\t(81%)]\tLoss: 1.174205\n",
      "Train Epoch: 2 [0/500\t(1%)]\tLoss: 0.863035\n",
      "Train Epoch: 2 [400/500\t(81%)]\tLoss: 1.143330\n",
      "Train Epoch: 3 [0/500\t(1%)]\tLoss: 0.918610\n",
      "Train Epoch: 3 [400/500\t(81%)]\tLoss: 0.951301\n",
      "Train Epoch: 4 [0/500\t(1%)]\tLoss: 0.804160\n",
      "Train Epoch: 4 [400/500\t(81%)]\tLoss: 0.859097\n",
      "Train Epoch: 5 [0/500\t(1%)]\tLoss: 0.602565\n",
      "Train Epoch: 5 [400/500\t(81%)]\tLoss: 0.786313\n",
      "\n",
      "Performed attacks 0\n",
      "\n",
      "===>Random attack started by:  Worker 34  in Global Round:  24\n",
      "Random attack strating: \n",
      "Performed attacks 1\n",
      "Worker 34 ends training in Global Round:24 |\n",
      "\n",
      "Worker 21 starts training in Global Round:24 |\n"
     ]
    },
    {
     "data": {
      "application/vnd.jupyter.widget-view+json": {
       "model_id": "996b5fac5bc8485e87c47237a800f51c",
       "version_major": 2,
       "version_minor": 0
      },
      "text/plain": [
       "HBox(children=(IntProgress(value=0, max=5), HTML(value='')))"
      ]
     },
     "metadata": {},
     "output_type": "display_data"
    },
    {
     "name": "stdout",
     "output_type": "stream",
     "text": [
      "Train Epoch: 1 [0/500\t(1%)]\tLoss: 0.699254\n",
      "Train Epoch: 1 [400/500\t(81%)]\tLoss: 1.101143\n",
      "Train Epoch: 2 [0/500\t(1%)]\tLoss: 0.830381\n",
      "Train Epoch: 2 [400/500\t(81%)]\tLoss: 0.968126\n",
      "Train Epoch: 3 [0/500\t(1%)]\tLoss: 0.727501\n",
      "Train Epoch: 3 [400/500\t(81%)]\tLoss: 0.950609\n",
      "Train Epoch: 4 [0/500\t(1%)]\tLoss: 0.563139\n",
      "Train Epoch: 4 [400/500\t(81%)]\tLoss: 0.666645\n",
      "Train Epoch: 5 [0/500\t(1%)]\tLoss: 0.688395\n",
      "Train Epoch: 5 [400/500\t(81%)]\tLoss: 0.774801\n",
      "\n",
      "Performed attacks 1\n",
      "\n",
      "===>Random attack started by:  Worker 21  in Global Round:  24\n",
      "Random attack strating: \n",
      "Performed attacks 2\n",
      "Worker 21 ends training in Global Round:24 |\n",
      "\n",
      "Worker 39 starts training in Global Round:24 |\n"
     ]
    },
    {
     "data": {
      "application/vnd.jupyter.widget-view+json": {
       "model_id": "7e43313c2bab48879feb0757de502c12",
       "version_major": 2,
       "version_minor": 0
      },
      "text/plain": [
       "HBox(children=(IntProgress(value=0, max=5), HTML(value='')))"
      ]
     },
     "metadata": {},
     "output_type": "display_data"
    },
    {
     "name": "stdout",
     "output_type": "stream",
     "text": [
      "Train Epoch: 1 [0/500\t(1%)]\tLoss: 0.984060\n",
      "Train Epoch: 1 [400/500\t(81%)]\tLoss: 1.041615\n",
      "Train Epoch: 2 [0/500\t(1%)]\tLoss: 0.686430\n",
      "Train Epoch: 2 [400/500\t(81%)]\tLoss: 0.901842\n",
      "Train Epoch: 3 [0/500\t(1%)]\tLoss: 0.723576\n",
      "Train Epoch: 3 [400/500\t(81%)]\tLoss: 0.803156\n",
      "Train Epoch: 4 [0/500\t(1%)]\tLoss: 0.645851\n",
      "Train Epoch: 4 [400/500\t(81%)]\tLoss: 0.500237\n",
      "Train Epoch: 5 [0/500\t(1%)]\tLoss: 0.550260\n",
      "Train Epoch: 5 [400/500\t(81%)]\tLoss: 0.742455\n",
      "\n",
      "Worker 39 ends training in Global Round:24 |\n",
      "\n",
      "Worker 14 starts training in Global Round:24 |\n"
     ]
    },
    {
     "data": {
      "application/vnd.jupyter.widget-view+json": {
       "model_id": "817ce66545934997a37ad6faaecbe566",
       "version_major": 2,
       "version_minor": 0
      },
      "text/plain": [
       "HBox(children=(IntProgress(value=0, max=5), HTML(value='')))"
      ]
     },
     "metadata": {},
     "output_type": "display_data"
    },
    {
     "name": "stdout",
     "output_type": "stream",
     "text": [
      "Train Epoch: 1 [0/500\t(1%)]\tLoss: 1.053972\n",
      "Train Epoch: 1 [400/500\t(81%)]\tLoss: 0.997080\n",
      "Train Epoch: 2 [0/500\t(1%)]\tLoss: 0.856117\n",
      "Train Epoch: 2 [400/500\t(81%)]\tLoss: 1.142981\n",
      "Train Epoch: 3 [0/500\t(1%)]\tLoss: 0.692302\n",
      "Train Epoch: 3 [400/500\t(81%)]\tLoss: 0.914112\n",
      "Train Epoch: 4 [0/500\t(1%)]\tLoss: 0.764782\n",
      "Train Epoch: 4 [400/500\t(81%)]\tLoss: 0.810798\n",
      "Train Epoch: 5 [0/500\t(1%)]\tLoss: 0.571781\n",
      "Train Epoch: 5 [400/500\t(81%)]\tLoss: 0.535080\n",
      "\n",
      "Performed attacks 2\n",
      "\n",
      "===>Random attack started by:  Worker 14  in Global Round:  24\n",
      "Random attack strating: \n",
      "Performed attacks 3\n",
      "Worker 14 ends training in Global Round:24 |\n",
      "\n",
      "Worker 69 starts training in Global Round:24 |\n"
     ]
    },
    {
     "data": {
      "application/vnd.jupyter.widget-view+json": {
       "model_id": "5ed94a7710d64940b9d19e99ab566e22",
       "version_major": 2,
       "version_minor": 0
      },
      "text/plain": [
       "HBox(children=(IntProgress(value=0, max=5), HTML(value='')))"
      ]
     },
     "metadata": {},
     "output_type": "display_data"
    },
    {
     "name": "stdout",
     "output_type": "stream",
     "text": [
      "Train Epoch: 1 [0/500\t(1%)]\tLoss: 1.007355\n",
      "Train Epoch: 1 [400/500\t(81%)]\tLoss: 1.157880\n",
      "Train Epoch: 2 [0/500\t(1%)]\tLoss: 0.837109\n",
      "Train Epoch: 2 [400/500\t(81%)]\tLoss: 0.929800\n",
      "Train Epoch: 3 [0/500\t(1%)]\tLoss: 0.759413\n",
      "Train Epoch: 3 [400/500\t(81%)]\tLoss: 0.718347\n",
      "Train Epoch: 4 [0/500\t(1%)]\tLoss: 0.629120\n",
      "Train Epoch: 4 [400/500\t(81%)]\tLoss: 0.615728\n",
      "Train Epoch: 5 [0/500\t(1%)]\tLoss: 0.701474\n",
      "Train Epoch: 5 [400/500\t(81%)]\tLoss: 0.655038\n",
      "\n",
      "Worker 69 ends training in Global Round:24 |\n",
      "\n",
      "Worker 31 starts training in Global Round:24 |\n"
     ]
    },
    {
     "data": {
      "application/vnd.jupyter.widget-view+json": {
       "model_id": "d70fcef0c08d44f0b53af27bc5c84321",
       "version_major": 2,
       "version_minor": 0
      },
      "text/plain": [
       "HBox(children=(IntProgress(value=0, max=5), HTML(value='')))"
      ]
     },
     "metadata": {},
     "output_type": "display_data"
    },
    {
     "name": "stdout",
     "output_type": "stream",
     "text": [
      "Train Epoch: 1 [0/500\t(1%)]\tLoss: 1.145637\n",
      "Train Epoch: 1 [400/500\t(81%)]\tLoss: 1.149192\n",
      "Train Epoch: 2 [0/500\t(1%)]\tLoss: 0.817569\n",
      "Train Epoch: 2 [400/500\t(81%)]\tLoss: 0.942669\n",
      "Train Epoch: 3 [0/500\t(1%)]\tLoss: 0.671326\n",
      "Train Epoch: 3 [400/500\t(81%)]\tLoss: 0.827636\n",
      "Train Epoch: 4 [0/500\t(1%)]\tLoss: 0.692188\n",
      "Train Epoch: 4 [400/500\t(81%)]\tLoss: 0.804037\n",
      "Train Epoch: 5 [0/500\t(1%)]\tLoss: 0.638869\n",
      "Train Epoch: 5 [400/500\t(81%)]\tLoss: 0.606967\n",
      "\n",
      "Performed attacks 3\n",
      "\n",
      "===>Random attack started by:  Worker 31  in Global Round:  24\n",
      "Random attack strating: \n",
      "Performed attacks 4\n",
      "Worker 31 ends training in Global Round:24 |\n",
      "\n",
      "Worker 80 starts training in Global Round:24 |\n"
     ]
    },
    {
     "data": {
      "application/vnd.jupyter.widget-view+json": {
       "model_id": "967a7e9a11ee41a1a66e95600e95f041",
       "version_major": 2,
       "version_minor": 0
      },
      "text/plain": [
       "HBox(children=(IntProgress(value=0, max=5), HTML(value='')))"
      ]
     },
     "metadata": {},
     "output_type": "display_data"
    },
    {
     "name": "stdout",
     "output_type": "stream",
     "text": [
      "Train Epoch: 1 [0/500\t(1%)]\tLoss: 1.186875\n",
      "Train Epoch: 1 [400/500\t(81%)]\tLoss: 1.097097\n",
      "Train Epoch: 2 [0/500\t(1%)]\tLoss: 0.878172\n",
      "Train Epoch: 2 [400/500\t(81%)]\tLoss: 0.864095\n",
      "Train Epoch: 3 [0/500\t(1%)]\tLoss: 0.745583\n",
      "Train Epoch: 3 [400/500\t(81%)]\tLoss: 0.641180\n",
      "Train Epoch: 4 [0/500\t(1%)]\tLoss: 0.745161\n",
      "Train Epoch: 4 [400/500\t(81%)]\tLoss: 0.915500\n",
      "Train Epoch: 5 [0/500\t(1%)]\tLoss: 0.503871\n",
      "Train Epoch: 5 [400/500\t(81%)]\tLoss: 0.819651\n",
      "\n",
      "Worker 80 ends training in Global Round:24 |\n",
      "\n",
      "Worker 48 starts training in Global Round:24 |\n"
     ]
    },
    {
     "data": {
      "application/vnd.jupyter.widget-view+json": {
       "model_id": "d0c264e3039d43768ad553a1c3bca7f1",
       "version_major": 2,
       "version_minor": 0
      },
      "text/plain": [
       "HBox(children=(IntProgress(value=0, max=5), HTML(value='')))"
      ]
     },
     "metadata": {},
     "output_type": "display_data"
    },
    {
     "name": "stdout",
     "output_type": "stream",
     "text": [
      "Train Epoch: 1 [0/500\t(1%)]\tLoss: 0.825746\n",
      "Train Epoch: 1 [400/500\t(81%)]\tLoss: 1.104952\n",
      "Train Epoch: 2 [0/500\t(1%)]\tLoss: 0.802232\n",
      "Train Epoch: 2 [400/500\t(81%)]\tLoss: 1.106065\n",
      "Train Epoch: 3 [0/500\t(1%)]\tLoss: 0.782173\n",
      "Train Epoch: 3 [400/500\t(81%)]\tLoss: 0.810809\n",
      "Train Epoch: 4 [0/500\t(1%)]\tLoss: 0.607008\n",
      "Train Epoch: 4 [400/500\t(81%)]\tLoss: 0.892319\n",
      "Train Epoch: 5 [0/500\t(1%)]\tLoss: 0.552684\n",
      "Train Epoch: 5 [400/500\t(81%)]\tLoss: 0.769810\n",
      "\n",
      "Worker 48 ends training in Global Round:24 |\n",
      "\n",
      "Worker 54 starts training in Global Round:24 |\n"
     ]
    },
    {
     "data": {
      "application/vnd.jupyter.widget-view+json": {
       "model_id": "ce891317ae10407d830e1c917b44e0d2",
       "version_major": 2,
       "version_minor": 0
      },
      "text/plain": [
       "HBox(children=(IntProgress(value=0, max=5), HTML(value='')))"
      ]
     },
     "metadata": {},
     "output_type": "display_data"
    },
    {
     "name": "stdout",
     "output_type": "stream",
     "text": [
      "Train Epoch: 1 [0/500\t(1%)]\tLoss: 1.048504\n",
      "Train Epoch: 1 [400/500\t(81%)]\tLoss: 1.141705\n",
      "Train Epoch: 2 [0/500\t(1%)]\tLoss: 0.797169\n",
      "Train Epoch: 2 [400/500\t(81%)]\tLoss: 0.991551\n",
      "Train Epoch: 3 [0/500\t(1%)]\tLoss: 0.627687\n",
      "Train Epoch: 3 [400/500\t(81%)]\tLoss: 0.878036\n",
      "Train Epoch: 4 [0/500\t(1%)]\tLoss: 0.759899\n",
      "Train Epoch: 4 [400/500\t(81%)]\tLoss: 0.681436\n",
      "Train Epoch: 5 [0/500\t(1%)]\tLoss: 0.642092\n",
      "Train Epoch: 5 [400/500\t(81%)]\tLoss: 0.476842\n",
      "\n",
      "Worker 54 ends training in Global Round:24 |\n",
      "\n",
      "Worker 59 starts training in Global Round:24 |\n"
     ]
    },
    {
     "data": {
      "application/vnd.jupyter.widget-view+json": {
       "model_id": "dc2964b1d3c94ed4b3ac1dab862086f3",
       "version_major": 2,
       "version_minor": 0
      },
      "text/plain": [
       "HBox(children=(IntProgress(value=0, max=5), HTML(value='')))"
      ]
     },
     "metadata": {},
     "output_type": "display_data"
    },
    {
     "name": "stdout",
     "output_type": "stream",
     "text": [
      "Train Epoch: 1 [0/500\t(1%)]\tLoss: 1.297372\n",
      "Train Epoch: 1 [400/500\t(81%)]\tLoss: 1.143027\n",
      "Train Epoch: 2 [0/500\t(1%)]\tLoss: 0.790520\n",
      "Train Epoch: 2 [400/500\t(81%)]\tLoss: 0.931528\n",
      "Train Epoch: 3 [0/500\t(1%)]\tLoss: 0.819677\n",
      "Train Epoch: 3 [400/500\t(81%)]\tLoss: 0.747451\n",
      "Train Epoch: 4 [0/500\t(1%)]\tLoss: 0.710742\n",
      "Train Epoch: 4 [400/500\t(81%)]\tLoss: 0.834440\n",
      "Train Epoch: 5 [0/500\t(1%)]\tLoss: 0.640349\n",
      "Train Epoch: 5 [400/500\t(81%)]\tLoss: 0.727473\n",
      "\n",
      "Worker 59 ends training in Global Round:24 |\n",
      "\n",
      "Worker 24 starts training in Global Round:24 |\n"
     ]
    },
    {
     "data": {
      "application/vnd.jupyter.widget-view+json": {
       "model_id": "3a0e19743e264563926503e96e96c7b9",
       "version_major": 2,
       "version_minor": 0
      },
      "text/plain": [
       "HBox(children=(IntProgress(value=0, max=5), HTML(value='')))"
      ]
     },
     "metadata": {},
     "output_type": "display_data"
    },
    {
     "name": "stdout",
     "output_type": "stream",
     "text": [
      "Train Epoch: 1 [0/500\t(1%)]\tLoss: 0.969782\n",
      "Train Epoch: 1 [400/500\t(81%)]\tLoss: 1.066622\n",
      "Train Epoch: 2 [0/500\t(1%)]\tLoss: 0.797614\n",
      "Train Epoch: 2 [400/500\t(81%)]\tLoss: 0.972190\n",
      "Train Epoch: 3 [0/500\t(1%)]\tLoss: 0.559470\n",
      "Train Epoch: 3 [400/500\t(81%)]\tLoss: 0.650278\n",
      "Train Epoch: 4 [0/500\t(1%)]\tLoss: 0.580755\n",
      "Train Epoch: 4 [400/500\t(81%)]\tLoss: 0.782734\n",
      "Train Epoch: 5 [0/500\t(1%)]\tLoss: 0.543480\n",
      "Train Epoch: 5 [400/500\t(81%)]\tLoss: 0.818751\n",
      "\n",
      "Worker 24 ends training in Global Round:24 |\n",
      "\n",
      "Worker 6 starts training in Global Round:24 |\n"
     ]
    },
    {
     "data": {
      "application/vnd.jupyter.widget-view+json": {
       "model_id": "546b6a93192a4719ac2856ff1084b095",
       "version_major": 2,
       "version_minor": 0
      },
      "text/plain": [
       "HBox(children=(IntProgress(value=0, max=5), HTML(value='')))"
      ]
     },
     "metadata": {},
     "output_type": "display_data"
    },
    {
     "name": "stdout",
     "output_type": "stream",
     "text": [
      "Train Epoch: 1 [0/500\t(1%)]\tLoss: 1.004113\n",
      "Train Epoch: 1 [400/500\t(81%)]\tLoss: 1.180826\n",
      "Train Epoch: 2 [0/500\t(1%)]\tLoss: 0.849811\n",
      "Train Epoch: 2 [400/500\t(81%)]\tLoss: 1.094519\n",
      "Train Epoch: 3 [0/500\t(1%)]\tLoss: 0.824836\n",
      "Train Epoch: 3 [400/500\t(81%)]\tLoss: 0.847112\n",
      "Train Epoch: 4 [0/500\t(1%)]\tLoss: 0.799947\n",
      "Train Epoch: 4 [400/500\t(81%)]\tLoss: 0.612015\n",
      "Train Epoch: 5 [0/500\t(1%)]\tLoss: 0.519315\n",
      "Train Epoch: 5 [400/500\t(81%)]\tLoss: 0.556793\n",
      "\n",
      "Worker 6 ends training in Global Round:24 |\n",
      "\n",
      "Worker 55 starts training in Global Round:24 |\n"
     ]
    },
    {
     "data": {
      "application/vnd.jupyter.widget-view+json": {
       "model_id": "589691209b1f43b891227ce6572ffa95",
       "version_major": 2,
       "version_minor": 0
      },
      "text/plain": [
       "HBox(children=(IntProgress(value=0, max=5), HTML(value='')))"
      ]
     },
     "metadata": {},
     "output_type": "display_data"
    },
    {
     "name": "stdout",
     "output_type": "stream",
     "text": [
      "Train Epoch: 1 [0/500\t(1%)]\tLoss: 0.921398\n",
      "Train Epoch: 1 [400/500\t(81%)]\tLoss: 1.103383\n",
      "Train Epoch: 2 [0/500\t(1%)]\tLoss: 0.707270\n",
      "Train Epoch: 2 [400/500\t(81%)]\tLoss: 1.140679\n",
      "Train Epoch: 3 [0/500\t(1%)]\tLoss: 0.870774\n",
      "Train Epoch: 3 [400/500\t(81%)]\tLoss: 0.834002\n",
      "Train Epoch: 4 [0/500\t(1%)]\tLoss: 0.784532\n",
      "Train Epoch: 4 [400/500\t(81%)]\tLoss: 0.740401\n",
      "Train Epoch: 5 [0/500\t(1%)]\tLoss: 0.624447\n",
      "Train Epoch: 5 [400/500\t(81%)]\tLoss: 0.628588\n",
      "\n",
      "Worker 55 ends training in Global Round:24 |\n",
      "\n",
      "Worker 95 starts training in Global Round:24 |\n"
     ]
    },
    {
     "data": {
      "application/vnd.jupyter.widget-view+json": {
       "model_id": "22092fee8d7342179229afeddb9fad3f",
       "version_major": 2,
       "version_minor": 0
      },
      "text/plain": [
       "HBox(children=(IntProgress(value=0, max=5), HTML(value='')))"
      ]
     },
     "metadata": {},
     "output_type": "display_data"
    },
    {
     "name": "stdout",
     "output_type": "stream",
     "text": [
      "Train Epoch: 1 [0/500\t(1%)]\tLoss: 0.973337\n",
      "Train Epoch: 1 [400/500\t(81%)]\tLoss: 1.070490\n",
      "Train Epoch: 2 [0/500\t(1%)]\tLoss: 0.841867\n",
      "Train Epoch: 2 [400/500\t(81%)]\tLoss: 0.834857\n",
      "Train Epoch: 3 [0/500\t(1%)]\tLoss: 0.787182\n",
      "Train Epoch: 3 [400/500\t(81%)]\tLoss: 0.621310\n",
      "Train Epoch: 4 [0/500\t(1%)]\tLoss: 0.624982\n",
      "Train Epoch: 4 [400/500\t(81%)]\tLoss: 0.664098\n",
      "Train Epoch: 5 [0/500\t(1%)]\tLoss: 0.602284\n",
      "Train Epoch: 5 [400/500\t(81%)]\tLoss: 0.561115\n",
      "\n",
      "Worker 95 ends training in Global Round:24 |\n",
      "\n",
      "Worker 10 starts training in Global Round:24 |\n"
     ]
    },
    {
     "data": {
      "application/vnd.jupyter.widget-view+json": {
       "model_id": "140bd49843b14806a10bfddd394de8fa",
       "version_major": 2,
       "version_minor": 0
      },
      "text/plain": [
       "HBox(children=(IntProgress(value=0, max=5), HTML(value='')))"
      ]
     },
     "metadata": {},
     "output_type": "display_data"
    },
    {
     "name": "stdout",
     "output_type": "stream",
     "text": [
      "Train Epoch: 1 [0/500\t(1%)]\tLoss: 1.057761\n",
      "Train Epoch: 1 [400/500\t(81%)]\tLoss: 1.069667\n",
      "Train Epoch: 2 [0/500\t(1%)]\tLoss: 0.769194\n",
      "Train Epoch: 2 [400/500\t(81%)]\tLoss: 0.887465\n",
      "Train Epoch: 3 [0/500\t(1%)]\tLoss: 0.598691\n",
      "Train Epoch: 3 [400/500\t(81%)]\tLoss: 0.723781\n",
      "Train Epoch: 4 [0/500\t(1%)]\tLoss: 0.586292\n",
      "Train Epoch: 4 [400/500\t(81%)]\tLoss: 0.642274\n",
      "Train Epoch: 5 [0/500\t(1%)]\tLoss: 0.566280\n",
      "Train Epoch: 5 [400/500\t(81%)]\tLoss: 0.627720\n",
      "\n",
      "Worker 10 ends training in Global Round:24 |\n",
      "\n",
      "Average loss: 1.0863, Accuracy: 6394/10000 (64%)\n",
      "\n",
      "\n",
      "Selected workers\n",
      "\n",
      "[78 87 75 61 27 71 46 93 38 51 17 19 32  5  4]\n",
      "Worker 78 : is  Honest\n",
      "Worker 87 : is  Random_Attacker\n",
      "Worker 75 : is  Random_Attacker\n",
      "Worker 61 : is  Honest\n",
      "Worker 27 : is  Random_Attacker\n",
      "Worker 71 : is  Random_Attacker\n",
      "Worker 46 : is  Random_Attacker\n",
      "Worker 93 : is  Honest\n",
      "Worker 38 : is  Random_Attacker\n",
      "Worker 51 : is  Random_Attacker\n",
      "Worker 17 : is  Honest\n",
      "Worker 19 : is  Random_Attacker\n",
      "Worker 32 : is  Honest\n",
      "Worker 5 : is  Honest\n",
      "Worker 4 : is  Honest\n",
      "\n",
      " | Global Training Round : 25 |\n",
      "\n",
      "\n",
      "Worker 78 starts training in Global Round:25 |\n"
     ]
    },
    {
     "data": {
      "application/vnd.jupyter.widget-view+json": {
       "model_id": "7358f1baedaa4728a0a079f703ec7d51",
       "version_major": 2,
       "version_minor": 0
      },
      "text/plain": [
       "HBox(children=(IntProgress(value=0, max=5), HTML(value='')))"
      ]
     },
     "metadata": {},
     "output_type": "display_data"
    },
    {
     "name": "stdout",
     "output_type": "stream",
     "text": [
      "Train Epoch: 1 [0/500\t(1%)]\tLoss: 1.053406\n",
      "Train Epoch: 1 [400/500\t(81%)]\tLoss: 0.951696\n",
      "Train Epoch: 2 [0/500\t(1%)]\tLoss: 0.921361\n",
      "Train Epoch: 2 [400/500\t(81%)]\tLoss: 0.924128\n",
      "Train Epoch: 3 [0/500\t(1%)]\tLoss: 0.784908\n",
      "Train Epoch: 3 [400/500\t(81%)]\tLoss: 0.897745\n",
      "Train Epoch: 4 [0/500\t(1%)]\tLoss: 0.636386\n",
      "Train Epoch: 4 [400/500\t(81%)]\tLoss: 0.872657\n",
      "Train Epoch: 5 [0/500\t(1%)]\tLoss: 0.739712\n",
      "Train Epoch: 5 [400/500\t(81%)]\tLoss: 0.679096\n",
      "\n",
      "Worker 78 ends training in Global Round:25 |\n",
      "\n",
      "Worker 87 starts training in Global Round:25 |\n"
     ]
    },
    {
     "data": {
      "application/vnd.jupyter.widget-view+json": {
       "model_id": "42ef521144454e748de784139af295dc",
       "version_major": 2,
       "version_minor": 0
      },
      "text/plain": [
       "HBox(children=(IntProgress(value=0, max=5), HTML(value='')))"
      ]
     },
     "metadata": {},
     "output_type": "display_data"
    },
    {
     "name": "stdout",
     "output_type": "stream",
     "text": [
      "Train Epoch: 1 [0/500\t(1%)]\tLoss: 1.239904\n",
      "Train Epoch: 1 [400/500\t(81%)]\tLoss: 1.120146\n",
      "Train Epoch: 2 [0/500\t(1%)]\tLoss: 0.733072\n",
      "Train Epoch: 2 [400/500\t(81%)]\tLoss: 0.997199\n",
      "Train Epoch: 3 [0/500\t(1%)]\tLoss: 0.795806\n",
      "Train Epoch: 3 [400/500\t(81%)]\tLoss: 0.851506\n",
      "Train Epoch: 4 [0/500\t(1%)]\tLoss: 0.593630\n",
      "Train Epoch: 4 [400/500\t(81%)]\tLoss: 0.860514\n",
      "Train Epoch: 5 [0/500\t(1%)]\tLoss: 0.714840\n",
      "Train Epoch: 5 [400/500\t(81%)]\tLoss: 0.697249\n",
      "\n",
      "Performed attacks 0\n",
      "\n",
      "===>Random attack started by:  Worker 87  in Global Round:  25\n",
      "Random attack strating: \n",
      "Performed attacks 1\n",
      "Worker 87 ends training in Global Round:25 |\n",
      "\n",
      "Worker 75 starts training in Global Round:25 |\n"
     ]
    },
    {
     "data": {
      "application/vnd.jupyter.widget-view+json": {
       "model_id": "41ef55834a504f96bf26fc9dbaf43a41",
       "version_major": 2,
       "version_minor": 0
      },
      "text/plain": [
       "HBox(children=(IntProgress(value=0, max=5), HTML(value='')))"
      ]
     },
     "metadata": {},
     "output_type": "display_data"
    },
    {
     "name": "stdout",
     "output_type": "stream",
     "text": [
      "Train Epoch: 1 [0/500\t(1%)]\tLoss: 0.950588\n",
      "Train Epoch: 1 [400/500\t(81%)]\tLoss: 1.168954\n",
      "Train Epoch: 2 [0/500\t(1%)]\tLoss: 0.604602\n",
      "Train Epoch: 2 [400/500\t(81%)]\tLoss: 0.793900\n",
      "Train Epoch: 3 [0/500\t(1%)]\tLoss: 0.625888\n",
      "Train Epoch: 3 [400/500\t(81%)]\tLoss: 0.656626\n",
      "Train Epoch: 4 [0/500\t(1%)]\tLoss: 0.572346\n",
      "Train Epoch: 4 [400/500\t(81%)]\tLoss: 0.557400\n",
      "Train Epoch: 5 [0/500\t(1%)]\tLoss: 0.396897\n",
      "Train Epoch: 5 [400/500\t(81%)]\tLoss: 0.431040\n",
      "\n",
      "Performed attacks 1\n",
      "\n",
      "===>Random attack started by:  Worker 75  in Global Round:  25\n",
      "Random attack strating: \n",
      "Performed attacks 2\n",
      "Worker 75 ends training in Global Round:25 |\n",
      "\n",
      "Worker 61 starts training in Global Round:25 |\n"
     ]
    },
    {
     "data": {
      "application/vnd.jupyter.widget-view+json": {
       "model_id": "607dc11ad4334d45a8cfd1e7dcdf64e1",
       "version_major": 2,
       "version_minor": 0
      },
      "text/plain": [
       "HBox(children=(IntProgress(value=0, max=5), HTML(value='')))"
      ]
     },
     "metadata": {},
     "output_type": "display_data"
    },
    {
     "name": "stdout",
     "output_type": "stream",
     "text": [
      "Train Epoch: 1 [0/500\t(1%)]\tLoss: 1.003556\n",
      "Train Epoch: 1 [400/500\t(81%)]\tLoss: 0.952798\n",
      "Train Epoch: 2 [0/500\t(1%)]\tLoss: 0.781398\n",
      "Train Epoch: 2 [400/500\t(81%)]\tLoss: 0.709075\n",
      "Train Epoch: 3 [0/500\t(1%)]\tLoss: 0.511361\n",
      "Train Epoch: 3 [400/500\t(81%)]\tLoss: 0.618291\n",
      "Train Epoch: 4 [0/500\t(1%)]\tLoss: 0.616259\n",
      "Train Epoch: 4 [400/500\t(81%)]\tLoss: 0.625511\n",
      "Train Epoch: 5 [0/500\t(1%)]\tLoss: 0.566960\n",
      "Train Epoch: 5 [400/500\t(81%)]\tLoss: 0.416044\n",
      "\n",
      "Worker 61 ends training in Global Round:25 |\n",
      "\n",
      "Worker 27 starts training in Global Round:25 |\n"
     ]
    },
    {
     "data": {
      "application/vnd.jupyter.widget-view+json": {
       "model_id": "7ef849eb5eef46009414eae9bdc8f1a2",
       "version_major": 2,
       "version_minor": 0
      },
      "text/plain": [
       "HBox(children=(IntProgress(value=0, max=5), HTML(value='')))"
      ]
     },
     "metadata": {},
     "output_type": "display_data"
    },
    {
     "name": "stdout",
     "output_type": "stream",
     "text": [
      "Train Epoch: 1 [0/500\t(1%)]\tLoss: 1.197160\n",
      "Train Epoch: 1 [400/500\t(81%)]\tLoss: 0.965200\n",
      "Train Epoch: 2 [0/500\t(1%)]\tLoss: 0.869873\n",
      "Train Epoch: 2 [400/500\t(81%)]\tLoss: 0.825427\n",
      "Train Epoch: 3 [0/500\t(1%)]\tLoss: 0.802397\n",
      "Train Epoch: 3 [400/500\t(81%)]\tLoss: 0.696762\n",
      "Train Epoch: 4 [0/500\t(1%)]\tLoss: 0.674574\n",
      "Train Epoch: 4 [400/500\t(81%)]\tLoss: 0.692132\n",
      "Train Epoch: 5 [0/500\t(1%)]\tLoss: 0.614139\n",
      "Train Epoch: 5 [400/500\t(81%)]\tLoss: 0.609703\n",
      "\n",
      "Performed attacks 2\n",
      "\n",
      "===>Random attack started by:  Worker 27  in Global Round:  25\n",
      "Random attack strating: \n",
      "Performed attacks 3\n",
      "Worker 27 ends training in Global Round:25 |\n",
      "\n",
      "Worker 71 starts training in Global Round:25 |\n"
     ]
    },
    {
     "data": {
      "application/vnd.jupyter.widget-view+json": {
       "model_id": "aadc283364a54b8a8a1ef42c5dbfb858",
       "version_major": 2,
       "version_minor": 0
      },
      "text/plain": [
       "HBox(children=(IntProgress(value=0, max=5), HTML(value='')))"
      ]
     },
     "metadata": {},
     "output_type": "display_data"
    },
    {
     "name": "stdout",
     "output_type": "stream",
     "text": [
      "Train Epoch: 1 [0/500\t(1%)]\tLoss: 1.105598\n",
      "Train Epoch: 1 [400/500\t(81%)]\tLoss: 1.155744\n",
      "Train Epoch: 2 [0/500\t(1%)]\tLoss: 0.658364\n",
      "Train Epoch: 2 [400/500\t(81%)]\tLoss: 0.874840\n",
      "Train Epoch: 3 [0/500\t(1%)]\tLoss: 0.902446\n",
      "Train Epoch: 3 [400/500\t(81%)]\tLoss: 0.761928\n",
      "Train Epoch: 4 [0/500\t(1%)]\tLoss: 0.785278\n",
      "Train Epoch: 4 [400/500\t(81%)]\tLoss: 0.826533\n",
      "Train Epoch: 5 [0/500\t(1%)]\tLoss: 0.599153\n",
      "Train Epoch: 5 [400/500\t(81%)]\tLoss: 0.590261\n",
      "\n",
      "Performed attacks 3\n",
      "\n",
      "===>Random attack started by:  Worker 71  in Global Round:  25\n",
      "Random attack strating: \n",
      "Performed attacks 4\n",
      "Worker 71 ends training in Global Round:25 |\n",
      "\n",
      "Worker 46 starts training in Global Round:25 |\n"
     ]
    },
    {
     "data": {
      "application/vnd.jupyter.widget-view+json": {
       "model_id": "332169198c114cacaf9e77a7bcab9b33",
       "version_major": 2,
       "version_minor": 0
      },
      "text/plain": [
       "HBox(children=(IntProgress(value=0, max=5), HTML(value='')))"
      ]
     },
     "metadata": {},
     "output_type": "display_data"
    },
    {
     "name": "stdout",
     "output_type": "stream",
     "text": [
      "Train Epoch: 1 [0/500\t(1%)]\tLoss: 0.970691\n",
      "Train Epoch: 1 [400/500\t(81%)]\tLoss: 0.955279\n",
      "Train Epoch: 2 [0/500\t(1%)]\tLoss: 0.885384\n",
      "Train Epoch: 2 [400/500\t(81%)]\tLoss: 1.137635\n",
      "Train Epoch: 3 [0/500\t(1%)]\tLoss: 0.679109\n",
      "Train Epoch: 3 [400/500\t(81%)]\tLoss: 0.784217\n",
      "Train Epoch: 4 [0/500\t(1%)]\tLoss: 0.545946\n",
      "Train Epoch: 4 [400/500\t(81%)]\tLoss: 0.618723\n",
      "Train Epoch: 5 [0/500\t(1%)]\tLoss: 0.597193\n",
      "Train Epoch: 5 [400/500\t(81%)]\tLoss: 0.511363\n",
      "\n",
      "Worker 46 ends training in Global Round:25 |\n",
      "\n",
      "Worker 93 starts training in Global Round:25 |\n"
     ]
    },
    {
     "data": {
      "application/vnd.jupyter.widget-view+json": {
       "model_id": "e2df68681aeb4599862938af1fde5df2",
       "version_major": 2,
       "version_minor": 0
      },
      "text/plain": [
       "HBox(children=(IntProgress(value=0, max=5), HTML(value='')))"
      ]
     },
     "metadata": {},
     "output_type": "display_data"
    },
    {
     "name": "stdout",
     "output_type": "stream",
     "text": [
      "Train Epoch: 1 [0/500\t(1%)]\tLoss: 1.028699\n",
      "Train Epoch: 1 [400/500\t(81%)]\tLoss: 1.231230\n",
      "Train Epoch: 2 [0/500\t(1%)]\tLoss: 0.983375\n",
      "Train Epoch: 2 [400/500\t(81%)]\tLoss: 0.853617\n",
      "Train Epoch: 3 [0/500\t(1%)]\tLoss: 0.747274\n",
      "Train Epoch: 3 [400/500\t(81%)]\tLoss: 0.867498\n",
      "Train Epoch: 4 [0/500\t(1%)]\tLoss: 0.714142\n",
      "Train Epoch: 4 [400/500\t(81%)]\tLoss: 0.643716\n",
      "Train Epoch: 5 [0/500\t(1%)]\tLoss: 0.514563\n",
      "Train Epoch: 5 [400/500\t(81%)]\tLoss: 0.698081\n",
      "\n",
      "Worker 93 ends training in Global Round:25 |\n",
      "\n",
      "Worker 38 starts training in Global Round:25 |\n"
     ]
    },
    {
     "data": {
      "application/vnd.jupyter.widget-view+json": {
       "model_id": "29b9f43b0bcf4c89a9b198a1fc5cca9a",
       "version_major": 2,
       "version_minor": 0
      },
      "text/plain": [
       "HBox(children=(IntProgress(value=0, max=5), HTML(value='')))"
      ]
     },
     "metadata": {},
     "output_type": "display_data"
    },
    {
     "name": "stdout",
     "output_type": "stream",
     "text": [
      "Train Epoch: 1 [0/500\t(1%)]\tLoss: 0.889780\n",
      "Train Epoch: 1 [400/500\t(81%)]\tLoss: 0.989267\n",
      "Train Epoch: 2 [0/500\t(1%)]\tLoss: 0.752940\n",
      "Train Epoch: 2 [400/500\t(81%)]\tLoss: 0.848306\n",
      "Train Epoch: 3 [0/500\t(1%)]\tLoss: 0.654296\n",
      "Train Epoch: 3 [400/500\t(81%)]\tLoss: 0.856086\n",
      "Train Epoch: 4 [0/500\t(1%)]\tLoss: 0.727793\n",
      "Train Epoch: 4 [400/500\t(81%)]\tLoss: 0.747633\n",
      "Train Epoch: 5 [0/500\t(1%)]\tLoss: 0.606959\n",
      "Train Epoch: 5 [400/500\t(81%)]\tLoss: 0.802117\n",
      "\n",
      "Worker 38 ends training in Global Round:25 |\n",
      "\n",
      "Worker 51 starts training in Global Round:25 |\n"
     ]
    },
    {
     "data": {
      "application/vnd.jupyter.widget-view+json": {
       "model_id": "92b19d2fb50a45da8dbf179a1650ddaf",
       "version_major": 2,
       "version_minor": 0
      },
      "text/plain": [
       "HBox(children=(IntProgress(value=0, max=5), HTML(value='')))"
      ]
     },
     "metadata": {},
     "output_type": "display_data"
    },
    {
     "name": "stdout",
     "output_type": "stream",
     "text": [
      "Train Epoch: 1 [0/500\t(1%)]\tLoss: 1.096845\n",
      "Train Epoch: 1 [400/500\t(81%)]\tLoss: 0.962354\n",
      "Train Epoch: 2 [0/500\t(1%)]\tLoss: 0.814731\n",
      "Train Epoch: 2 [400/500\t(81%)]\tLoss: 0.858543\n",
      "Train Epoch: 3 [0/500\t(1%)]\tLoss: 0.789239\n",
      "Train Epoch: 3 [400/500\t(81%)]\tLoss: 0.795215\n",
      "Train Epoch: 4 [0/500\t(1%)]\tLoss: 0.666576\n",
      "Train Epoch: 4 [400/500\t(81%)]\tLoss: 0.751440\n",
      "Train Epoch: 5 [0/500\t(1%)]\tLoss: 0.617593\n",
      "Train Epoch: 5 [400/500\t(81%)]\tLoss: 0.809856\n",
      "\n",
      "Worker 51 ends training in Global Round:25 |\n",
      "\n",
      "Worker 17 starts training in Global Round:25 |\n"
     ]
    },
    {
     "data": {
      "application/vnd.jupyter.widget-view+json": {
       "model_id": "678b820290c949c99c38733c35c0fa6a",
       "version_major": 2,
       "version_minor": 0
      },
      "text/plain": [
       "HBox(children=(IntProgress(value=0, max=5), HTML(value='')))"
      ]
     },
     "metadata": {},
     "output_type": "display_data"
    },
    {
     "name": "stdout",
     "output_type": "stream",
     "text": [
      "Train Epoch: 1 [0/500\t(1%)]\tLoss: 0.694303\n",
      "Train Epoch: 1 [400/500\t(81%)]\tLoss: 1.236602\n",
      "Train Epoch: 2 [0/500\t(1%)]\tLoss: 0.907731\n",
      "Train Epoch: 2 [400/500\t(81%)]\tLoss: 1.061651\n",
      "Train Epoch: 3 [0/500\t(1%)]\tLoss: 0.859205\n",
      "Train Epoch: 3 [400/500\t(81%)]\tLoss: 0.825702\n",
      "Train Epoch: 4 [0/500\t(1%)]\tLoss: 0.717651\n",
      "Train Epoch: 4 [400/500\t(81%)]\tLoss: 0.937366\n",
      "Train Epoch: 5 [0/500\t(1%)]\tLoss: 0.600474\n",
      "Train Epoch: 5 [400/500\t(81%)]\tLoss: 0.922490\n",
      "\n",
      "Worker 17 ends training in Global Round:25 |\n",
      "\n",
      "Worker 19 starts training in Global Round:25 |\n"
     ]
    },
    {
     "data": {
      "application/vnd.jupyter.widget-view+json": {
       "model_id": "8814b0c013d448ca8ecd5116b47fef41",
       "version_major": 2,
       "version_minor": 0
      },
      "text/plain": [
       "HBox(children=(IntProgress(value=0, max=5), HTML(value='')))"
      ]
     },
     "metadata": {},
     "output_type": "display_data"
    },
    {
     "name": "stdout",
     "output_type": "stream",
     "text": [
      "Train Epoch: 1 [0/500\t(1%)]\tLoss: 0.805368\n",
      "Train Epoch: 1 [400/500\t(81%)]\tLoss: 0.972822\n",
      "Train Epoch: 2 [0/500\t(1%)]\tLoss: 0.785358\n",
      "Train Epoch: 2 [400/500\t(81%)]\tLoss: 0.860689\n",
      "Train Epoch: 3 [0/500\t(1%)]\tLoss: 0.681493\n",
      "Train Epoch: 3 [400/500\t(81%)]\tLoss: 0.671827\n",
      "Train Epoch: 4 [0/500\t(1%)]\tLoss: 0.565420\n",
      "Train Epoch: 4 [400/500\t(81%)]\tLoss: 0.826627\n",
      "Train Epoch: 5 [0/500\t(1%)]\tLoss: 0.659156\n",
      "Train Epoch: 5 [400/500\t(81%)]\tLoss: 0.665423\n",
      "\n",
      "Worker 19 ends training in Global Round:25 |\n",
      "\n",
      "Worker 32 starts training in Global Round:25 |\n"
     ]
    },
    {
     "data": {
      "application/vnd.jupyter.widget-view+json": {
       "model_id": "ab8666d0b150412c982ee6abdf9dd9e4",
       "version_major": 2,
       "version_minor": 0
      },
      "text/plain": [
       "HBox(children=(IntProgress(value=0, max=5), HTML(value='')))"
      ]
     },
     "metadata": {},
     "output_type": "display_data"
    },
    {
     "name": "stdout",
     "output_type": "stream",
     "text": [
      "Train Epoch: 1 [0/500\t(1%)]\tLoss: 0.929972\n",
      "Train Epoch: 1 [400/500\t(81%)]\tLoss: 1.135220\n",
      "Train Epoch: 2 [0/500\t(1%)]\tLoss: 1.044321\n",
      "Train Epoch: 2 [400/500\t(81%)]\tLoss: 0.998119\n",
      "Train Epoch: 3 [0/500\t(1%)]\tLoss: 0.852050\n",
      "Train Epoch: 3 [400/500\t(81%)]\tLoss: 1.048431\n",
      "Train Epoch: 4 [0/500\t(1%)]\tLoss: 0.739487\n",
      "Train Epoch: 4 [400/500\t(81%)]\tLoss: 0.796446\n",
      "Train Epoch: 5 [0/500\t(1%)]\tLoss: 0.666465\n",
      "Train Epoch: 5 [400/500\t(81%)]\tLoss: 0.823474\n",
      "\n",
      "Worker 32 ends training in Global Round:25 |\n",
      "\n",
      "Worker 5 starts training in Global Round:25 |\n"
     ]
    },
    {
     "data": {
      "application/vnd.jupyter.widget-view+json": {
       "model_id": "22c250b9ce5c4477b2f3a8f0578e3121",
       "version_major": 2,
       "version_minor": 0
      },
      "text/plain": [
       "HBox(children=(IntProgress(value=0, max=5), HTML(value='')))"
      ]
     },
     "metadata": {},
     "output_type": "display_data"
    },
    {
     "name": "stdout",
     "output_type": "stream",
     "text": [
      "Train Epoch: 1 [0/500\t(1%)]\tLoss: 0.899219\n",
      "Train Epoch: 1 [400/500\t(81%)]\tLoss: 1.118000\n",
      "Train Epoch: 2 [0/500\t(1%)]\tLoss: 0.602693\n",
      "Train Epoch: 2 [400/500\t(81%)]\tLoss: 0.673165\n",
      "Train Epoch: 3 [0/500\t(1%)]\tLoss: 0.562076\n",
      "Train Epoch: 3 [400/500\t(81%)]\tLoss: 0.877781\n",
      "Train Epoch: 4 [0/500\t(1%)]\tLoss: 0.696332\n",
      "Train Epoch: 4 [400/500\t(81%)]\tLoss: 0.743810\n",
      "Train Epoch: 5 [0/500\t(1%)]\tLoss: 0.494676\n",
      "Train Epoch: 5 [400/500\t(81%)]\tLoss: 0.671359\n",
      "\n",
      "Worker 5 ends training in Global Round:25 |\n",
      "\n",
      "Worker 4 starts training in Global Round:25 |\n"
     ]
    },
    {
     "data": {
      "application/vnd.jupyter.widget-view+json": {
       "model_id": "ca437932a1c345218ddf3e2822c17f82",
       "version_major": 2,
       "version_minor": 0
      },
      "text/plain": [
       "HBox(children=(IntProgress(value=0, max=5), HTML(value='')))"
      ]
     },
     "metadata": {},
     "output_type": "display_data"
    },
    {
     "name": "stdout",
     "output_type": "stream",
     "text": [
      "Train Epoch: 1 [0/500\t(1%)]\tLoss: 1.141517\n",
      "Train Epoch: 1 [400/500\t(81%)]\tLoss: 1.341722\n",
      "Train Epoch: 2 [0/500\t(1%)]\tLoss: 1.093729\n",
      "Train Epoch: 2 [400/500\t(81%)]\tLoss: 0.910703\n",
      "Train Epoch: 3 [0/500\t(1%)]\tLoss: 0.711964\n",
      "Train Epoch: 3 [400/500\t(81%)]\tLoss: 0.841120\n",
      "Train Epoch: 4 [0/500\t(1%)]\tLoss: 0.640028\n",
      "Train Epoch: 4 [400/500\t(81%)]\tLoss: 0.566999\n",
      "Train Epoch: 5 [0/500\t(1%)]\tLoss: 0.578735\n",
      "Train Epoch: 5 [400/500\t(81%)]\tLoss: 0.685940\n",
      "\n",
      "Worker 4 ends training in Global Round:25 |\n",
      "\n",
      "Average loss: 1.0815, Accuracy: 6364/10000 (64%)\n",
      "\n",
      "\n",
      "Selected workers\n",
      "\n",
      "[22 57 99 47 16 26 97 73 12 19 98 10  5 37 85]\n",
      "Worker 22 : is  Random_Attacker\n",
      "Worker 57 : is  Honest\n",
      "Worker 99 : is  Honest\n",
      "Worker 47 : is  Honest\n",
      "Worker 16 : is  Random_Attacker\n",
      "Worker 26 : is  Honest\n",
      "Worker 97 : is  Random_Attacker\n",
      "Worker 73 : is  Honest\n",
      "Worker 12 : is  Random_Attacker\n",
      "Worker 19 : is  Random_Attacker\n",
      "Worker 98 : is  Random_Attacker\n",
      "Worker 10 : is  Honest\n",
      "Worker 5 : is  Honest\n",
      "Worker 37 : is  Random_Attacker\n",
      "Worker 85 : is  Honest\n",
      "\n",
      " | Global Training Round : 26 |\n",
      "\n",
      "\n",
      "Worker 22 starts training in Global Round:26 |\n"
     ]
    },
    {
     "data": {
      "application/vnd.jupyter.widget-view+json": {
       "model_id": "95ac022dae154b68adc5dc0352101526",
       "version_major": 2,
       "version_minor": 0
      },
      "text/plain": [
       "HBox(children=(IntProgress(value=0, max=5), HTML(value='')))"
      ]
     },
     "metadata": {},
     "output_type": "display_data"
    },
    {
     "name": "stdout",
     "output_type": "stream",
     "text": [
      "Train Epoch: 1 [0/500\t(1%)]\tLoss: 0.987960\n",
      "Train Epoch: 1 [400/500\t(81%)]\tLoss: 1.002938\n",
      "Train Epoch: 2 [0/500\t(1%)]\tLoss: 0.868429\n",
      "Train Epoch: 2 [400/500\t(81%)]\tLoss: 1.017158\n",
      "Train Epoch: 3 [0/500\t(1%)]\tLoss: 0.783102\n",
      "Train Epoch: 3 [400/500\t(81%)]\tLoss: 1.018268\n",
      "Train Epoch: 4 [0/500\t(1%)]\tLoss: 0.684646\n",
      "Train Epoch: 4 [400/500\t(81%)]\tLoss: 0.730951\n",
      "Train Epoch: 5 [0/500\t(1%)]\tLoss: 0.671824\n",
      "Train Epoch: 5 [400/500\t(81%)]\tLoss: 0.876608\n",
      "\n",
      "Performed attacks 0\n",
      "\n",
      "===>Random attack started by:  Worker 22  in Global Round:  26\n",
      "Random attack strating: \n",
      "Performed attacks 1\n",
      "Worker 22 ends training in Global Round:26 |\n",
      "\n",
      "Worker 57 starts training in Global Round:26 |\n"
     ]
    },
    {
     "data": {
      "application/vnd.jupyter.widget-view+json": {
       "model_id": "bbfb2b49a1b04a0b800771029536ae46",
       "version_major": 2,
       "version_minor": 0
      },
      "text/plain": [
       "HBox(children=(IntProgress(value=0, max=5), HTML(value='')))"
      ]
     },
     "metadata": {},
     "output_type": "display_data"
    },
    {
     "name": "stdout",
     "output_type": "stream",
     "text": [
      "Train Epoch: 1 [0/500\t(1%)]\tLoss: 1.167323\n",
      "Train Epoch: 1 [400/500\t(81%)]\tLoss: 1.078289\n",
      "Train Epoch: 2 [0/500\t(1%)]\tLoss: 0.972828\n",
      "Train Epoch: 2 [400/500\t(81%)]\tLoss: 0.969146\n",
      "Train Epoch: 3 [0/500\t(1%)]\tLoss: 0.729160\n",
      "Train Epoch: 3 [400/500\t(81%)]\tLoss: 0.867775\n",
      "Train Epoch: 4 [0/500\t(1%)]\tLoss: 0.615162\n",
      "Train Epoch: 4 [400/500\t(81%)]\tLoss: 0.612913\n",
      "Train Epoch: 5 [0/500\t(1%)]\tLoss: 0.547352\n",
      "Train Epoch: 5 [400/500\t(81%)]\tLoss: 0.633177\n",
      "\n",
      "Worker 57 ends training in Global Round:26 |\n",
      "\n",
      "Worker 99 starts training in Global Round:26 |\n"
     ]
    },
    {
     "data": {
      "application/vnd.jupyter.widget-view+json": {
       "model_id": "5697566471294053a2d834c5399f05e6",
       "version_major": 2,
       "version_minor": 0
      },
      "text/plain": [
       "HBox(children=(IntProgress(value=0, max=5), HTML(value='')))"
      ]
     },
     "metadata": {},
     "output_type": "display_data"
    },
    {
     "name": "stdout",
     "output_type": "stream",
     "text": [
      "Train Epoch: 1 [0/500\t(1%)]\tLoss: 0.863076\n",
      "Train Epoch: 1 [400/500\t(81%)]\tLoss: 1.182642\n",
      "Train Epoch: 2 [0/500\t(1%)]\tLoss: 0.944160\n",
      "Train Epoch: 2 [400/500\t(81%)]\tLoss: 0.947228\n",
      "Train Epoch: 3 [0/500\t(1%)]\tLoss: 0.670531\n",
      "Train Epoch: 3 [400/500\t(81%)]\tLoss: 0.969090\n",
      "Train Epoch: 4 [0/500\t(1%)]\tLoss: 0.737816\n",
      "Train Epoch: 4 [400/500\t(81%)]\tLoss: 0.629909\n",
      "Train Epoch: 5 [0/500\t(1%)]\tLoss: 0.644174\n",
      "Train Epoch: 5 [400/500\t(81%)]\tLoss: 0.602481\n",
      "\n",
      "Worker 99 ends training in Global Round:26 |\n",
      "\n",
      "Worker 47 starts training in Global Round:26 |\n"
     ]
    },
    {
     "data": {
      "application/vnd.jupyter.widget-view+json": {
       "model_id": "95652f04dc17408298e3243680421f12",
       "version_major": 2,
       "version_minor": 0
      },
      "text/plain": [
       "HBox(children=(IntProgress(value=0, max=5), HTML(value='')))"
      ]
     },
     "metadata": {},
     "output_type": "display_data"
    },
    {
     "name": "stdout",
     "output_type": "stream",
     "text": [
      "Train Epoch: 1 [0/500\t(1%)]\tLoss: 0.891041\n",
      "Train Epoch: 1 [400/500\t(81%)]\tLoss: 1.077213\n",
      "Train Epoch: 2 [0/500\t(1%)]\tLoss: 0.648069\n",
      "Train Epoch: 2 [400/500\t(81%)]\tLoss: 0.937037\n",
      "Train Epoch: 3 [0/500\t(1%)]\tLoss: 0.706465\n",
      "Train Epoch: 3 [400/500\t(81%)]\tLoss: 0.772277\n",
      "Train Epoch: 4 [0/500\t(1%)]\tLoss: 0.672725\n",
      "Train Epoch: 4 [400/500\t(81%)]\tLoss: 0.791561\n",
      "Train Epoch: 5 [0/500\t(1%)]\tLoss: 0.650081\n",
      "Train Epoch: 5 [400/500\t(81%)]\tLoss: 0.612838\n",
      "\n",
      "Worker 47 ends training in Global Round:26 |\n",
      "\n",
      "Worker 16 starts training in Global Round:26 |\n"
     ]
    },
    {
     "data": {
      "application/vnd.jupyter.widget-view+json": {
       "model_id": "b63a56b5c76247fe91be4f29274f03c1",
       "version_major": 2,
       "version_minor": 0
      },
      "text/plain": [
       "HBox(children=(IntProgress(value=0, max=5), HTML(value='')))"
      ]
     },
     "metadata": {},
     "output_type": "display_data"
    },
    {
     "name": "stdout",
     "output_type": "stream",
     "text": [
      "Train Epoch: 1 [0/500\t(1%)]\tLoss: 0.999844\n",
      "Train Epoch: 1 [400/500\t(81%)]\tLoss: 1.069379\n",
      "Train Epoch: 2 [0/500\t(1%)]\tLoss: 0.848203\n",
      "Train Epoch: 2 [400/500\t(81%)]\tLoss: 0.984390\n",
      "Train Epoch: 3 [0/500\t(1%)]\tLoss: 0.638211\n",
      "Train Epoch: 3 [400/500\t(81%)]\tLoss: 1.003237\n",
      "Train Epoch: 4 [0/500\t(1%)]\tLoss: 0.797853\n",
      "Train Epoch: 4 [400/500\t(81%)]\tLoss: 0.775827\n",
      "Train Epoch: 5 [0/500\t(1%)]\tLoss: 0.621165\n",
      "Train Epoch: 5 [400/500\t(81%)]\tLoss: 0.669505\n",
      "\n",
      "Performed attacks 1\n",
      "\n",
      "===>Random attack started by:  Worker 16  in Global Round:  26\n",
      "Random attack strating: \n",
      "Performed attacks 2\n",
      "Worker 16 ends training in Global Round:26 |\n",
      "\n",
      "Worker 26 starts training in Global Round:26 |\n"
     ]
    },
    {
     "data": {
      "application/vnd.jupyter.widget-view+json": {
       "model_id": "b15614f369354b6d919683efb6ded847",
       "version_major": 2,
       "version_minor": 0
      },
      "text/plain": [
       "HBox(children=(IntProgress(value=0, max=5), HTML(value='')))"
      ]
     },
     "metadata": {},
     "output_type": "display_data"
    },
    {
     "name": "stdout",
     "output_type": "stream",
     "text": [
      "Train Epoch: 1 [0/500\t(1%)]\tLoss: 0.957935\n",
      "Train Epoch: 1 [400/500\t(81%)]\tLoss: 1.044411\n",
      "Train Epoch: 2 [0/500\t(1%)]\tLoss: 0.825799\n",
      "Train Epoch: 2 [400/500\t(81%)]\tLoss: 0.739218\n",
      "Train Epoch: 3 [0/500\t(1%)]\tLoss: 0.657423\n",
      "Train Epoch: 3 [400/500\t(81%)]\tLoss: 0.808021\n",
      "Train Epoch: 4 [0/500\t(1%)]\tLoss: 0.683653\n",
      "Train Epoch: 4 [400/500\t(81%)]\tLoss: 0.547821\n",
      "Train Epoch: 5 [0/500\t(1%)]\tLoss: 0.668991\n",
      "Train Epoch: 5 [400/500\t(81%)]\tLoss: 0.501376\n",
      "\n",
      "Worker 26 ends training in Global Round:26 |\n",
      "\n",
      "Worker 97 starts training in Global Round:26 |\n"
     ]
    },
    {
     "data": {
      "application/vnd.jupyter.widget-view+json": {
       "model_id": "da6f8e090a81406f9147733123ad6903",
       "version_major": 2,
       "version_minor": 0
      },
      "text/plain": [
       "HBox(children=(IntProgress(value=0, max=5), HTML(value='')))"
      ]
     },
     "metadata": {},
     "output_type": "display_data"
    },
    {
     "name": "stdout",
     "output_type": "stream",
     "text": [
      "Train Epoch: 1 [0/500\t(1%)]\tLoss: 0.943747\n",
      "Train Epoch: 1 [400/500\t(81%)]\tLoss: 1.126053\n",
      "Train Epoch: 2 [0/500\t(1%)]\tLoss: 0.696303\n",
      "Train Epoch: 2 [400/500\t(81%)]\tLoss: 0.808674\n",
      "Train Epoch: 3 [0/500\t(1%)]\tLoss: 0.767829\n",
      "Train Epoch: 3 [400/500\t(81%)]\tLoss: 0.755490\n",
      "Train Epoch: 4 [0/500\t(1%)]\tLoss: 0.762424\n",
      "Train Epoch: 4 [400/500\t(81%)]\tLoss: 0.597796\n",
      "Train Epoch: 5 [0/500\t(1%)]\tLoss: 0.528743\n",
      "Train Epoch: 5 [400/500\t(81%)]\tLoss: 0.701891\n",
      "\n",
      "Performed attacks 2\n",
      "\n",
      "===>Random attack started by:  Worker 97  in Global Round:  26\n",
      "Random attack strating: \n",
      "Performed attacks 3\n",
      "Worker 97 ends training in Global Round:26 |\n",
      "\n",
      "Worker 73 starts training in Global Round:26 |\n"
     ]
    },
    {
     "data": {
      "application/vnd.jupyter.widget-view+json": {
       "model_id": "1f6b8b29f6db43b98f3a30d716a3a2e0",
       "version_major": 2,
       "version_minor": 0
      },
      "text/plain": [
       "HBox(children=(IntProgress(value=0, max=5), HTML(value='')))"
      ]
     },
     "metadata": {},
     "output_type": "display_data"
    },
    {
     "name": "stdout",
     "output_type": "stream",
     "text": [
      "Train Epoch: 1 [0/500\t(1%)]\tLoss: 1.082585\n",
      "Train Epoch: 1 [400/500\t(81%)]\tLoss: 1.187514\n",
      "Train Epoch: 2 [0/500\t(1%)]\tLoss: 0.986119\n",
      "Train Epoch: 2 [400/500\t(81%)]\tLoss: 0.928171\n",
      "Train Epoch: 3 [0/500\t(1%)]\tLoss: 0.793230\n",
      "Train Epoch: 3 [400/500\t(81%)]\tLoss: 0.811325\n",
      "Train Epoch: 4 [0/500\t(1%)]\tLoss: 0.550750\n",
      "Train Epoch: 4 [400/500\t(81%)]\tLoss: 0.739461\n",
      "Train Epoch: 5 [0/500\t(1%)]\tLoss: 0.551030\n",
      "Train Epoch: 5 [400/500\t(81%)]\tLoss: 0.586850\n",
      "\n",
      "Worker 73 ends training in Global Round:26 |\n",
      "\n",
      "Worker 12 starts training in Global Round:26 |\n"
     ]
    },
    {
     "data": {
      "application/vnd.jupyter.widget-view+json": {
       "model_id": "3c08bedeac214c6292d65424d2920958",
       "version_major": 2,
       "version_minor": 0
      },
      "text/plain": [
       "HBox(children=(IntProgress(value=0, max=5), HTML(value='')))"
      ]
     },
     "metadata": {},
     "output_type": "display_data"
    },
    {
     "name": "stdout",
     "output_type": "stream",
     "text": [
      "Train Epoch: 1 [0/500\t(1%)]\tLoss: 0.952560\n",
      "Train Epoch: 1 [400/500\t(81%)]\tLoss: 1.256292\n",
      "Train Epoch: 2 [0/500\t(1%)]\tLoss: 0.696389\n",
      "Train Epoch: 2 [400/500\t(81%)]\tLoss: 1.004915\n",
      "Train Epoch: 3 [0/500\t(1%)]\tLoss: 0.754544\n",
      "Train Epoch: 3 [400/500\t(81%)]\tLoss: 0.786362\n",
      "Train Epoch: 4 [0/500\t(1%)]\tLoss: 0.672297\n",
      "Train Epoch: 4 [400/500\t(81%)]\tLoss: 0.692047\n",
      "Train Epoch: 5 [0/500\t(1%)]\tLoss: 0.696252\n",
      "Train Epoch: 5 [400/500\t(81%)]\tLoss: 0.658044\n",
      "\n",
      "Performed attacks 3\n",
      "\n",
      "===>Random attack started by:  Worker 12  in Global Round:  26\n",
      "Random attack strating: \n",
      "Performed attacks 4\n",
      "Worker 12 ends training in Global Round:26 |\n",
      "\n",
      "Worker 19 starts training in Global Round:26 |\n"
     ]
    },
    {
     "data": {
      "application/vnd.jupyter.widget-view+json": {
       "model_id": "896c4a0f2e584c47bfa26816007f7577",
       "version_major": 2,
       "version_minor": 0
      },
      "text/plain": [
       "HBox(children=(IntProgress(value=0, max=5), HTML(value='')))"
      ]
     },
     "metadata": {},
     "output_type": "display_data"
    },
    {
     "name": "stdout",
     "output_type": "stream",
     "text": [
      "Train Epoch: 1 [0/500\t(1%)]\tLoss: 0.943010\n",
      "Train Epoch: 1 [400/500\t(81%)]\tLoss: 0.913248\n",
      "Train Epoch: 2 [0/500\t(1%)]\tLoss: 0.812814\n",
      "Train Epoch: 2 [400/500\t(81%)]\tLoss: 0.913638\n",
      "Train Epoch: 3 [0/500\t(1%)]\tLoss: 0.637852\n",
      "Train Epoch: 3 [400/500\t(81%)]\tLoss: 0.657220\n",
      "Train Epoch: 4 [0/500\t(1%)]\tLoss: 0.502051\n",
      "Train Epoch: 4 [400/500\t(81%)]\tLoss: 0.713545\n",
      "Train Epoch: 5 [0/500\t(1%)]\tLoss: 0.458028\n",
      "Train Epoch: 5 [400/500\t(81%)]\tLoss: 0.587591\n",
      "\n",
      "Worker 19 ends training in Global Round:26 |\n",
      "\n",
      "Worker 98 starts training in Global Round:26 |\n"
     ]
    },
    {
     "data": {
      "application/vnd.jupyter.widget-view+json": {
       "model_id": "05950dbe31774301a578794f4599f875",
       "version_major": 2,
       "version_minor": 0
      },
      "text/plain": [
       "HBox(children=(IntProgress(value=0, max=5), HTML(value='')))"
      ]
     },
     "metadata": {},
     "output_type": "display_data"
    },
    {
     "name": "stdout",
     "output_type": "stream",
     "text": [
      "Train Epoch: 1 [0/500\t(1%)]\tLoss: 0.884030\n",
      "Train Epoch: 1 [400/500\t(81%)]\tLoss: 1.091788\n",
      "Train Epoch: 2 [0/500\t(1%)]\tLoss: 0.908979\n",
      "Train Epoch: 2 [400/500\t(81%)]\tLoss: 0.856422\n",
      "Train Epoch: 3 [0/500\t(1%)]\tLoss: 0.545152\n",
      "Train Epoch: 3 [400/500\t(81%)]\tLoss: 0.980477\n",
      "Train Epoch: 4 [0/500\t(1%)]\tLoss: 0.682795\n",
      "Train Epoch: 4 [400/500\t(81%)]\tLoss: 0.594453\n",
      "Train Epoch: 5 [0/500\t(1%)]\tLoss: 0.694205\n",
      "Train Epoch: 5 [400/500\t(81%)]\tLoss: 0.587752\n",
      "\n",
      "Worker 98 ends training in Global Round:26 |\n",
      "\n",
      "Worker 10 starts training in Global Round:26 |\n"
     ]
    },
    {
     "data": {
      "application/vnd.jupyter.widget-view+json": {
       "model_id": "e08bafa77f28462f85688ac1d65da2e6",
       "version_major": 2,
       "version_minor": 0
      },
      "text/plain": [
       "HBox(children=(IntProgress(value=0, max=5), HTML(value='')))"
      ]
     },
     "metadata": {},
     "output_type": "display_data"
    },
    {
     "name": "stdout",
     "output_type": "stream",
     "text": [
      "Train Epoch: 1 [0/500\t(1%)]\tLoss: 1.105595\n",
      "Train Epoch: 1 [400/500\t(81%)]\tLoss: 1.233640\n",
      "Train Epoch: 2 [0/500\t(1%)]\tLoss: 0.694797\n",
      "Train Epoch: 2 [400/500\t(81%)]\tLoss: 1.045101\n",
      "Train Epoch: 3 [0/500\t(1%)]\tLoss: 0.850706\n",
      "Train Epoch: 3 [400/500\t(81%)]\tLoss: 0.891951\n",
      "Train Epoch: 4 [0/500\t(1%)]\tLoss: 0.650423\n",
      "Train Epoch: 4 [400/500\t(81%)]\tLoss: 1.048278\n",
      "Train Epoch: 5 [0/500\t(1%)]\tLoss: 0.667765\n",
      "Train Epoch: 5 [400/500\t(81%)]\tLoss: 0.737399\n",
      "\n",
      "Worker 10 ends training in Global Round:26 |\n",
      "\n",
      "Worker 5 starts training in Global Round:26 |\n"
     ]
    },
    {
     "data": {
      "application/vnd.jupyter.widget-view+json": {
       "model_id": "39887e3ea8ba4482831bd92e7bebae9e",
       "version_major": 2,
       "version_minor": 0
      },
      "text/plain": [
       "HBox(children=(IntProgress(value=0, max=5), HTML(value='')))"
      ]
     },
     "metadata": {},
     "output_type": "display_data"
    },
    {
     "name": "stdout",
     "output_type": "stream",
     "text": [
      "Train Epoch: 1 [0/500\t(1%)]\tLoss: 0.902261\n",
      "Train Epoch: 1 [400/500\t(81%)]\tLoss: 1.044892\n",
      "Train Epoch: 2 [0/500\t(1%)]\tLoss: 0.896228\n",
      "Train Epoch: 2 [400/500\t(81%)]\tLoss: 0.797929\n",
      "Train Epoch: 3 [0/500\t(1%)]\tLoss: 0.814190\n",
      "Train Epoch: 3 [400/500\t(81%)]\tLoss: 0.685105\n",
      "Train Epoch: 4 [0/500\t(1%)]\tLoss: 0.567513\n",
      "Train Epoch: 4 [400/500\t(81%)]\tLoss: 0.572317\n",
      "Train Epoch: 5 [0/500\t(1%)]\tLoss: 0.630739\n",
      "Train Epoch: 5 [400/500\t(81%)]\tLoss: 0.570301\n",
      "\n",
      "Worker 5 ends training in Global Round:26 |\n",
      "\n",
      "Worker 37 starts training in Global Round:26 |\n"
     ]
    },
    {
     "data": {
      "application/vnd.jupyter.widget-view+json": {
       "model_id": "538f2e9aaf834420bd11c2cecadadd89",
       "version_major": 2,
       "version_minor": 0
      },
      "text/plain": [
       "HBox(children=(IntProgress(value=0, max=5), HTML(value='')))"
      ]
     },
     "metadata": {},
     "output_type": "display_data"
    },
    {
     "name": "stdout",
     "output_type": "stream",
     "text": [
      "Train Epoch: 1 [0/500\t(1%)]\tLoss: 1.048362\n",
      "Train Epoch: 1 [400/500\t(81%)]\tLoss: 1.072396\n",
      "Train Epoch: 2 [0/500\t(1%)]\tLoss: 0.784737\n",
      "Train Epoch: 2 [400/500\t(81%)]\tLoss: 1.131993\n",
      "Train Epoch: 3 [0/500\t(1%)]\tLoss: 0.725160\n",
      "Train Epoch: 3 [400/500\t(81%)]\tLoss: 0.958768\n",
      "Train Epoch: 4 [0/500\t(1%)]\tLoss: 0.764326\n",
      "Train Epoch: 4 [400/500\t(81%)]\tLoss: 0.715375\n",
      "Train Epoch: 5 [0/500\t(1%)]\tLoss: 0.561085\n",
      "Train Epoch: 5 [400/500\t(81%)]\tLoss: 0.787618\n",
      "\n",
      "Worker 37 ends training in Global Round:26 |\n",
      "\n",
      "Worker 85 starts training in Global Round:26 |\n"
     ]
    },
    {
     "data": {
      "application/vnd.jupyter.widget-view+json": {
       "model_id": "4b6534ab595a4f109de1b60dca7d8883",
       "version_major": 2,
       "version_minor": 0
      },
      "text/plain": [
       "HBox(children=(IntProgress(value=0, max=5), HTML(value='')))"
      ]
     },
     "metadata": {},
     "output_type": "display_data"
    },
    {
     "name": "stdout",
     "output_type": "stream",
     "text": [
      "Train Epoch: 1 [0/500\t(1%)]\tLoss: 0.815858\n",
      "Train Epoch: 1 [400/500\t(81%)]\tLoss: 1.177659\n",
      "Train Epoch: 2 [0/500\t(1%)]\tLoss: 0.874747\n",
      "Train Epoch: 2 [400/500\t(81%)]\tLoss: 1.000790\n",
      "Train Epoch: 3 [0/500\t(1%)]\tLoss: 0.714542\n",
      "Train Epoch: 3 [400/500\t(81%)]\tLoss: 1.008684\n",
      "Train Epoch: 4 [0/500\t(1%)]\tLoss: 0.748712\n",
      "Train Epoch: 4 [400/500\t(81%)]\tLoss: 0.893418\n",
      "Train Epoch: 5 [0/500\t(1%)]\tLoss: 0.670686\n",
      "Train Epoch: 5 [400/500\t(81%)]\tLoss: 0.590612\n",
      "\n",
      "Worker 85 ends training in Global Round:26 |\n",
      "\n",
      "Average loss: 1.0045, Accuracy: 6569/10000 (66%)\n",
      "\n",
      "\n",
      "Selected workers\n",
      "\n",
      "[ 3 22 93 46 40 19  5 80 49 41 27 15  1 55 42]\n",
      "Worker 3 : is  Random_Attacker\n",
      "Worker 22 : is  Random_Attacker\n",
      "Worker 93 : is  Honest\n",
      "Worker 46 : is  Random_Attacker\n",
      "Worker 40 : is  Honest\n",
      "Worker 19 : is  Random_Attacker\n",
      "Worker 5 : is  Honest\n",
      "Worker 80 : is  Honest\n",
      "Worker 49 : is  Honest\n",
      "Worker 41 : is  Random_Attacker\n",
      "Worker 27 : is  Random_Attacker\n",
      "Worker 15 : is  Honest\n",
      "Worker 1 : is  Honest\n",
      "Worker 55 : is  Random_Attacker\n",
      "Worker 42 : is  Honest\n",
      "\n",
      " | Global Training Round : 27 |\n",
      "\n",
      "\n",
      "Worker 3 starts training in Global Round:27 |\n"
     ]
    },
    {
     "data": {
      "application/vnd.jupyter.widget-view+json": {
       "model_id": "934f7a8539f9426a8b6d14922bb4364f",
       "version_major": 2,
       "version_minor": 0
      },
      "text/plain": [
       "HBox(children=(IntProgress(value=0, max=5), HTML(value='')))"
      ]
     },
     "metadata": {},
     "output_type": "display_data"
    },
    {
     "name": "stdout",
     "output_type": "stream",
     "text": [
      "Train Epoch: 1 [0/500\t(1%)]\tLoss: 1.102226\n",
      "Train Epoch: 1 [400/500\t(81%)]\tLoss: 1.154034\n",
      "Train Epoch: 2 [0/500\t(1%)]\tLoss: 0.868491\n",
      "Train Epoch: 2 [400/500\t(81%)]\tLoss: 0.930745\n",
      "Train Epoch: 3 [0/500\t(1%)]\tLoss: 0.717352\n",
      "Train Epoch: 3 [400/500\t(81%)]\tLoss: 0.917714\n",
      "Train Epoch: 4 [0/500\t(1%)]\tLoss: 0.657045\n",
      "Train Epoch: 4 [400/500\t(81%)]\tLoss: 0.674642\n",
      "Train Epoch: 5 [0/500\t(1%)]\tLoss: 0.610438\n",
      "Train Epoch: 5 [400/500\t(81%)]\tLoss: 0.777255\n",
      "\n",
      "Performed attacks 0\n",
      "\n",
      "===>Random attack started by:  Worker 3  in Global Round:  27\n",
      "Random attack strating: \n",
      "Performed attacks 1\n",
      "Worker 3 ends training in Global Round:27 |\n",
      "\n",
      "Worker 22 starts training in Global Round:27 |\n"
     ]
    },
    {
     "data": {
      "application/vnd.jupyter.widget-view+json": {
       "model_id": "ebffc4be1c464f26b1a481668a808b35",
       "version_major": 2,
       "version_minor": 0
      },
      "text/plain": [
       "HBox(children=(IntProgress(value=0, max=5), HTML(value='')))"
      ]
     },
     "metadata": {},
     "output_type": "display_data"
    },
    {
     "name": "stdout",
     "output_type": "stream",
     "text": [
      "Train Epoch: 1 [0/500\t(1%)]\tLoss: 1.061365\n",
      "Train Epoch: 1 [400/500\t(81%)]\tLoss: 1.074075\n",
      "Train Epoch: 2 [0/500\t(1%)]\tLoss: 0.823363\n",
      "Train Epoch: 2 [400/500\t(81%)]\tLoss: 1.169417\n",
      "Train Epoch: 3 [0/500\t(1%)]\tLoss: 0.836729\n",
      "Train Epoch: 3 [400/500\t(81%)]\tLoss: 0.835031\n",
      "Train Epoch: 4 [0/500\t(1%)]\tLoss: 0.782045\n",
      "Train Epoch: 4 [400/500\t(81%)]\tLoss: 0.816772\n",
      "Train Epoch: 5 [0/500\t(1%)]\tLoss: 0.757545\n",
      "Train Epoch: 5 [400/500\t(81%)]\tLoss: 0.726624\n",
      "\n",
      "Performed attacks 1\n",
      "\n",
      "===>Random attack started by:  Worker 22  in Global Round:  27\n",
      "Random attack strating: \n",
      "Performed attacks 2\n",
      "Worker 22 ends training in Global Round:27 |\n",
      "\n",
      "Worker 93 starts training in Global Round:27 |\n"
     ]
    },
    {
     "data": {
      "application/vnd.jupyter.widget-view+json": {
       "model_id": "fd2077fc410e4fa5987e4fdf3a815fb1",
       "version_major": 2,
       "version_minor": 0
      },
      "text/plain": [
       "HBox(children=(IntProgress(value=0, max=5), HTML(value='')))"
      ]
     },
     "metadata": {},
     "output_type": "display_data"
    },
    {
     "name": "stdout",
     "output_type": "stream",
     "text": [
      "Train Epoch: 1 [0/500\t(1%)]\tLoss: 0.953442\n",
      "Train Epoch: 1 [400/500\t(81%)]\tLoss: 1.055128\n",
      "Train Epoch: 2 [0/500\t(1%)]\tLoss: 0.780491\n",
      "Train Epoch: 2 [400/500\t(81%)]\tLoss: 1.076376\n",
      "Train Epoch: 3 [0/500\t(1%)]\tLoss: 0.606422\n",
      "Train Epoch: 3 [400/500\t(81%)]\tLoss: 0.802146\n",
      "Train Epoch: 4 [0/500\t(1%)]\tLoss: 0.707293\n",
      "Train Epoch: 4 [400/500\t(81%)]\tLoss: 0.635758\n",
      "Train Epoch: 5 [0/500\t(1%)]\tLoss: 0.647752\n",
      "Train Epoch: 5 [400/500\t(81%)]\tLoss: 0.619811\n",
      "\n",
      "Worker 93 ends training in Global Round:27 |\n",
      "\n",
      "Worker 46 starts training in Global Round:27 |\n"
     ]
    },
    {
     "data": {
      "application/vnd.jupyter.widget-view+json": {
       "model_id": "c47c8e795ca9419bac74c53c7c26f35b",
       "version_major": 2,
       "version_minor": 0
      },
      "text/plain": [
       "HBox(children=(IntProgress(value=0, max=5), HTML(value='')))"
      ]
     },
     "metadata": {},
     "output_type": "display_data"
    },
    {
     "name": "stdout",
     "output_type": "stream",
     "text": [
      "Train Epoch: 1 [0/500\t(1%)]\tLoss: 0.884530\n",
      "Train Epoch: 1 [400/500\t(81%)]\tLoss: 1.113031\n",
      "Train Epoch: 2 [0/500\t(1%)]\tLoss: 0.736860\n",
      "Train Epoch: 2 [400/500\t(81%)]\tLoss: 0.876397\n",
      "Train Epoch: 3 [0/500\t(1%)]\tLoss: 0.746824\n",
      "Train Epoch: 3 [400/500\t(81%)]\tLoss: 0.690572\n",
      "Train Epoch: 4 [0/500\t(1%)]\tLoss: 0.581941\n",
      "Train Epoch: 4 [400/500\t(81%)]\tLoss: 0.856759\n",
      "Train Epoch: 5 [0/500\t(1%)]\tLoss: 0.535514\n",
      "Train Epoch: 5 [400/500\t(81%)]\tLoss: 0.556989\n",
      "\n",
      "Performed attacks 2\n",
      "\n",
      "===>Random attack started by:  Worker 46  in Global Round:  27\n",
      "Random attack strating: \n",
      "Performed attacks 3\n",
      "Worker 46 ends training in Global Round:27 |\n",
      "\n",
      "Worker 40 starts training in Global Round:27 |\n"
     ]
    },
    {
     "data": {
      "application/vnd.jupyter.widget-view+json": {
       "model_id": "52a54346edad471aace67b77a888440a",
       "version_major": 2,
       "version_minor": 0
      },
      "text/plain": [
       "HBox(children=(IntProgress(value=0, max=5), HTML(value='')))"
      ]
     },
     "metadata": {},
     "output_type": "display_data"
    },
    {
     "name": "stdout",
     "output_type": "stream",
     "text": [
      "Train Epoch: 1 [0/500\t(1%)]\tLoss: 1.163856\n",
      "Train Epoch: 1 [400/500\t(81%)]\tLoss: 0.950982\n",
      "Train Epoch: 2 [0/500\t(1%)]\tLoss: 0.998080\n",
      "Train Epoch: 2 [400/500\t(81%)]\tLoss: 0.957171\n",
      "Train Epoch: 3 [0/500\t(1%)]\tLoss: 0.838546\n",
      "Train Epoch: 3 [400/500\t(81%)]\tLoss: 1.014627\n",
      "Train Epoch: 4 [0/500\t(1%)]\tLoss: 0.850862\n",
      "Train Epoch: 4 [400/500\t(81%)]\tLoss: 0.791064\n",
      "Train Epoch: 5 [0/500\t(1%)]\tLoss: 0.591853\n",
      "Train Epoch: 5 [400/500\t(81%)]\tLoss: 0.770826\n",
      "\n",
      "Worker 40 ends training in Global Round:27 |\n",
      "\n",
      "Worker 19 starts training in Global Round:27 |\n"
     ]
    },
    {
     "data": {
      "application/vnd.jupyter.widget-view+json": {
       "model_id": "3a24a306c9724b4d980ccd2986ef9093",
       "version_major": 2,
       "version_minor": 0
      },
      "text/plain": [
       "HBox(children=(IntProgress(value=0, max=5), HTML(value='')))"
      ]
     },
     "metadata": {},
     "output_type": "display_data"
    },
    {
     "name": "stdout",
     "output_type": "stream",
     "text": [
      "Train Epoch: 1 [0/500\t(1%)]\tLoss: 0.857479\n",
      "Train Epoch: 1 [400/500\t(81%)]\tLoss: 0.787410\n",
      "Train Epoch: 2 [0/500\t(1%)]\tLoss: 0.820896\n",
      "Train Epoch: 2 [400/500\t(81%)]\tLoss: 0.786813\n",
      "Train Epoch: 3 [0/500\t(1%)]\tLoss: 0.617338\n",
      "Train Epoch: 3 [400/500\t(81%)]\tLoss: 0.825251\n",
      "Train Epoch: 4 [0/500\t(1%)]\tLoss: 0.524190\n",
      "Train Epoch: 4 [400/500\t(81%)]\tLoss: 0.803252\n",
      "Train Epoch: 5 [0/500\t(1%)]\tLoss: 0.628367\n",
      "Train Epoch: 5 [400/500\t(81%)]\tLoss: 0.418767\n",
      "\n",
      "Performed attacks 3\n",
      "\n",
      "===>Random attack started by:  Worker 19  in Global Round:  27\n",
      "Random attack strating: \n",
      "Performed attacks 4\n",
      "Worker 19 ends training in Global Round:27 |\n",
      "\n",
      "Worker 5 starts training in Global Round:27 |\n"
     ]
    },
    {
     "data": {
      "application/vnd.jupyter.widget-view+json": {
       "model_id": "ab6eaa86b0374cb786467be8d685bd5c",
       "version_major": 2,
       "version_minor": 0
      },
      "text/plain": [
       "HBox(children=(IntProgress(value=0, max=5), HTML(value='')))"
      ]
     },
     "metadata": {},
     "output_type": "display_data"
    },
    {
     "name": "stdout",
     "output_type": "stream",
     "text": [
      "Train Epoch: 1 [0/500\t(1%)]\tLoss: 0.854294\n",
      "Train Epoch: 1 [400/500\t(81%)]\tLoss: 0.945515\n",
      "Train Epoch: 2 [0/500\t(1%)]\tLoss: 0.672889\n",
      "Train Epoch: 2 [400/500\t(81%)]\tLoss: 0.686859\n",
      "Train Epoch: 3 [0/500\t(1%)]\tLoss: 0.500470\n",
      "Train Epoch: 3 [400/500\t(81%)]\tLoss: 0.629548\n",
      "Train Epoch: 4 [0/500\t(1%)]\tLoss: 0.569896\n",
      "Train Epoch: 4 [400/500\t(81%)]\tLoss: 0.618746\n",
      "Train Epoch: 5 [0/500\t(1%)]\tLoss: 0.390792\n",
      "Train Epoch: 5 [400/500\t(81%)]\tLoss: 0.534433\n",
      "\n",
      "Worker 5 ends training in Global Round:27 |\n",
      "\n",
      "Worker 80 starts training in Global Round:27 |\n"
     ]
    },
    {
     "data": {
      "application/vnd.jupyter.widget-view+json": {
       "model_id": "e62b56488c3d45bb81d9aa534ace4fbb",
       "version_major": 2,
       "version_minor": 0
      },
      "text/plain": [
       "HBox(children=(IntProgress(value=0, max=5), HTML(value='')))"
      ]
     },
     "metadata": {},
     "output_type": "display_data"
    },
    {
     "name": "stdout",
     "output_type": "stream",
     "text": [
      "Train Epoch: 1 [0/500\t(1%)]\tLoss: 0.794116\n",
      "Train Epoch: 1 [400/500\t(81%)]\tLoss: 0.932398\n",
      "Train Epoch: 2 [0/500\t(1%)]\tLoss: 0.796900\n",
      "Train Epoch: 2 [400/500\t(81%)]\tLoss: 0.897459\n",
      "Train Epoch: 3 [0/500\t(1%)]\tLoss: 0.645720\n",
      "Train Epoch: 3 [400/500\t(81%)]\tLoss: 0.635444\n",
      "Train Epoch: 4 [0/500\t(1%)]\tLoss: 0.549891\n",
      "Train Epoch: 4 [400/500\t(81%)]\tLoss: 0.652897\n",
      "Train Epoch: 5 [0/500\t(1%)]\tLoss: 0.557866\n",
      "Train Epoch: 5 [400/500\t(81%)]\tLoss: 0.523504\n",
      "\n",
      "Worker 80 ends training in Global Round:27 |\n",
      "\n",
      "Worker 49 starts training in Global Round:27 |\n"
     ]
    },
    {
     "data": {
      "application/vnd.jupyter.widget-view+json": {
       "model_id": "720d2594687b48fbacd9dc1ac069c917",
       "version_major": 2,
       "version_minor": 0
      },
      "text/plain": [
       "HBox(children=(IntProgress(value=0, max=5), HTML(value='')))"
      ]
     },
     "metadata": {},
     "output_type": "display_data"
    },
    {
     "name": "stdout",
     "output_type": "stream",
     "text": [
      "Train Epoch: 1 [0/500\t(1%)]\tLoss: 0.954437\n",
      "Train Epoch: 1 [400/500\t(81%)]\tLoss: 1.218023\n",
      "Train Epoch: 2 [0/500\t(1%)]\tLoss: 1.056323\n",
      "Train Epoch: 2 [400/500\t(81%)]\tLoss: 1.020420\n",
      "Train Epoch: 3 [0/500\t(1%)]\tLoss: 0.677620\n",
      "Train Epoch: 3 [400/500\t(81%)]\tLoss: 0.989954\n",
      "Train Epoch: 4 [0/500\t(1%)]\tLoss: 0.624528\n",
      "Train Epoch: 4 [400/500\t(81%)]\tLoss: 0.948246\n",
      "Train Epoch: 5 [0/500\t(1%)]\tLoss: 0.812277\n",
      "Train Epoch: 5 [400/500\t(81%)]\tLoss: 0.752442\n",
      "\n",
      "Worker 49 ends training in Global Round:27 |\n",
      "\n",
      "Worker 41 starts training in Global Round:27 |\n"
     ]
    },
    {
     "data": {
      "application/vnd.jupyter.widget-view+json": {
       "model_id": "23aabad5747b46c99c6c360afb77daf6",
       "version_major": 2,
       "version_minor": 0
      },
      "text/plain": [
       "HBox(children=(IntProgress(value=0, max=5), HTML(value='')))"
      ]
     },
     "metadata": {},
     "output_type": "display_data"
    },
    {
     "name": "stdout",
     "output_type": "stream",
     "text": [
      "Train Epoch: 1 [0/500\t(1%)]\tLoss: 0.980271\n",
      "Train Epoch: 1 [400/500\t(81%)]\tLoss: 1.234005\n",
      "Train Epoch: 2 [0/500\t(1%)]\tLoss: 0.954937\n",
      "Train Epoch: 2 [400/500\t(81%)]\tLoss: 0.989152\n",
      "Train Epoch: 3 [0/500\t(1%)]\tLoss: 0.997943\n",
      "Train Epoch: 3 [400/500\t(81%)]\tLoss: 0.797742\n",
      "Train Epoch: 4 [0/500\t(1%)]\tLoss: 0.819659\n",
      "Train Epoch: 4 [400/500\t(81%)]\tLoss: 0.921858\n",
      "Train Epoch: 5 [0/500\t(1%)]\tLoss: 0.785363\n",
      "Train Epoch: 5 [400/500\t(81%)]\tLoss: 0.662766\n",
      "\n",
      "Worker 41 ends training in Global Round:27 |\n",
      "\n",
      "Worker 27 starts training in Global Round:27 |\n"
     ]
    },
    {
     "data": {
      "application/vnd.jupyter.widget-view+json": {
       "model_id": "57a0886e6d144342954b1b651315814a",
       "version_major": 2,
       "version_minor": 0
      },
      "text/plain": [
       "HBox(children=(IntProgress(value=0, max=5), HTML(value='')))"
      ]
     },
     "metadata": {},
     "output_type": "display_data"
    },
    {
     "name": "stdout",
     "output_type": "stream",
     "text": [
      "Train Epoch: 1 [0/500\t(1%)]\tLoss: 1.207063\n",
      "Train Epoch: 1 [400/500\t(81%)]\tLoss: 0.880803\n",
      "Train Epoch: 2 [0/500\t(1%)]\tLoss: 0.776827\n",
      "Train Epoch: 2 [400/500\t(81%)]\tLoss: 1.119346\n",
      "Train Epoch: 3 [0/500\t(1%)]\tLoss: 0.784076\n",
      "Train Epoch: 3 [400/500\t(81%)]\tLoss: 0.691267\n",
      "Train Epoch: 4 [0/500\t(1%)]\tLoss: 0.704894\n",
      "Train Epoch: 4 [400/500\t(81%)]\tLoss: 0.794243\n",
      "Train Epoch: 5 [0/500\t(1%)]\tLoss: 0.556574\n",
      "Train Epoch: 5 [400/500\t(81%)]\tLoss: 0.594484\n",
      "\n",
      "Worker 27 ends training in Global Round:27 |\n",
      "\n",
      "Worker 15 starts training in Global Round:27 |\n"
     ]
    },
    {
     "data": {
      "application/vnd.jupyter.widget-view+json": {
       "model_id": "648cd806683449d1a1e98f6120244d6b",
       "version_major": 2,
       "version_minor": 0
      },
      "text/plain": [
       "HBox(children=(IntProgress(value=0, max=5), HTML(value='')))"
      ]
     },
     "metadata": {},
     "output_type": "display_data"
    },
    {
     "name": "stdout",
     "output_type": "stream",
     "text": [
      "Train Epoch: 1 [0/500\t(1%)]\tLoss: 1.358171\n",
      "Train Epoch: 1 [400/500\t(81%)]\tLoss: 1.024687\n",
      "Train Epoch: 2 [0/500\t(1%)]\tLoss: 0.675976\n",
      "Train Epoch: 2 [400/500\t(81%)]\tLoss: 0.860813\n",
      "Train Epoch: 3 [0/500\t(1%)]\tLoss: 0.800601\n",
      "Train Epoch: 3 [400/500\t(81%)]\tLoss: 0.986556\n",
      "Train Epoch: 4 [0/500\t(1%)]\tLoss: 0.647551\n",
      "Train Epoch: 4 [400/500\t(81%)]\tLoss: 0.773896\n",
      "Train Epoch: 5 [0/500\t(1%)]\tLoss: 0.532168\n",
      "Train Epoch: 5 [400/500\t(81%)]\tLoss: 0.662824\n",
      "\n",
      "Worker 15 ends training in Global Round:27 |\n",
      "\n",
      "Worker 1 starts training in Global Round:27 |\n"
     ]
    },
    {
     "data": {
      "application/vnd.jupyter.widget-view+json": {
       "model_id": "005bb6bb74554e4d8e80053cc1342282",
       "version_major": 2,
       "version_minor": 0
      },
      "text/plain": [
       "HBox(children=(IntProgress(value=0, max=5), HTML(value='')))"
      ]
     },
     "metadata": {},
     "output_type": "display_data"
    },
    {
     "name": "stdout",
     "output_type": "stream",
     "text": [
      "Train Epoch: 1 [0/500\t(1%)]\tLoss: 1.088401\n",
      "Train Epoch: 1 [400/500\t(81%)]\tLoss: 1.090009\n",
      "Train Epoch: 2 [0/500\t(1%)]\tLoss: 0.997995\n",
      "Train Epoch: 2 [400/500\t(81%)]\tLoss: 1.110968\n",
      "Train Epoch: 3 [0/500\t(1%)]\tLoss: 0.729384\n",
      "Train Epoch: 3 [400/500\t(81%)]\tLoss: 0.916684\n",
      "Train Epoch: 4 [0/500\t(1%)]\tLoss: 0.708608\n",
      "Train Epoch: 4 [400/500\t(81%)]\tLoss: 0.755566\n",
      "Train Epoch: 5 [0/500\t(1%)]\tLoss: 0.616580\n",
      "Train Epoch: 5 [400/500\t(81%)]\tLoss: 0.964967\n",
      "\n",
      "Worker 1 ends training in Global Round:27 |\n",
      "\n",
      "Worker 55 starts training in Global Round:27 |\n"
     ]
    },
    {
     "data": {
      "application/vnd.jupyter.widget-view+json": {
       "model_id": "15009ff414964ff68e285d5711fc4721",
       "version_major": 2,
       "version_minor": 0
      },
      "text/plain": [
       "HBox(children=(IntProgress(value=0, max=5), HTML(value='')))"
      ]
     },
     "metadata": {},
     "output_type": "display_data"
    },
    {
     "name": "stdout",
     "output_type": "stream",
     "text": [
      "Train Epoch: 1 [0/500\t(1%)]\tLoss: 0.912861\n",
      "Train Epoch: 1 [400/500\t(81%)]\tLoss: 1.141941\n",
      "Train Epoch: 2 [0/500\t(1%)]\tLoss: 0.850692\n",
      "Train Epoch: 2 [400/500\t(81%)]\tLoss: 0.817229\n",
      "Train Epoch: 3 [0/500\t(1%)]\tLoss: 0.667337\n",
      "Train Epoch: 3 [400/500\t(81%)]\tLoss: 0.725282\n",
      "Train Epoch: 4 [0/500\t(1%)]\tLoss: 0.576753\n",
      "Train Epoch: 4 [400/500\t(81%)]\tLoss: 0.687886\n",
      "Train Epoch: 5 [0/500\t(1%)]\tLoss: 0.515321\n",
      "Train Epoch: 5 [400/500\t(81%)]\tLoss: 0.593711\n",
      "\n",
      "Worker 55 ends training in Global Round:27 |\n",
      "\n",
      "Worker 42 starts training in Global Round:27 |\n"
     ]
    },
    {
     "data": {
      "application/vnd.jupyter.widget-view+json": {
       "model_id": "f378c47015c14cc8872df3f0e42da879",
       "version_major": 2,
       "version_minor": 0
      },
      "text/plain": [
       "HBox(children=(IntProgress(value=0, max=5), HTML(value='')))"
      ]
     },
     "metadata": {},
     "output_type": "display_data"
    },
    {
     "name": "stdout",
     "output_type": "stream",
     "text": [
      "Train Epoch: 1 [0/500\t(1%)]\tLoss: 1.027321\n",
      "Train Epoch: 1 [400/500\t(81%)]\tLoss: 0.801474\n",
      "Train Epoch: 2 [0/500\t(1%)]\tLoss: 0.817004\n",
      "Train Epoch: 2 [400/500\t(81%)]\tLoss: 0.933398\n",
      "Train Epoch: 3 [0/500\t(1%)]\tLoss: 0.656636\n",
      "Train Epoch: 3 [400/500\t(81%)]\tLoss: 0.821545\n",
      "Train Epoch: 4 [0/500\t(1%)]\tLoss: 0.533699\n",
      "Train Epoch: 4 [400/500\t(81%)]\tLoss: 0.782648\n",
      "Train Epoch: 5 [0/500\t(1%)]\tLoss: 0.658682\n",
      "Train Epoch: 5 [400/500\t(81%)]\tLoss: 0.569510\n",
      "\n",
      "Worker 42 ends training in Global Round:27 |\n",
      "\n",
      "Average loss: 1.1947, Accuracy: 6199/10000 (62%)\n",
      "\n",
      "\n",
      "Selected workers\n",
      "\n",
      "[48 70 20 36 62 31 28 79 16  5 13 71 14  7 49]\n",
      "Worker 48 : is  Honest\n",
      "Worker 70 : is  Honest\n",
      "Worker 20 : is  Honest\n",
      "Worker 36 : is  Honest\n",
      "Worker 62 : is  Honest\n",
      "Worker 31 : is  Random_Attacker\n",
      "Worker 28 : is  Random_Attacker\n",
      "Worker 79 : is  Random_Attacker\n",
      "Worker 16 : is  Random_Attacker\n",
      "Worker 5 : is  Honest\n",
      "Worker 13 : is  Random_Attacker\n",
      "Worker 71 : is  Random_Attacker\n",
      "Worker 14 : is  Random_Attacker\n",
      "Worker 7 : is  Honest\n",
      "Worker 49 : is  Honest\n",
      "\n",
      " | Global Training Round : 28 |\n",
      "\n",
      "\n",
      "Worker 48 starts training in Global Round:28 |\n"
     ]
    },
    {
     "data": {
      "application/vnd.jupyter.widget-view+json": {
       "model_id": "7db66c9d8d3448f7b1c86601670755a3",
       "version_major": 2,
       "version_minor": 0
      },
      "text/plain": [
       "HBox(children=(IntProgress(value=0, max=5), HTML(value='')))"
      ]
     },
     "metadata": {},
     "output_type": "display_data"
    },
    {
     "name": "stdout",
     "output_type": "stream",
     "text": [
      "Train Epoch: 1 [0/500\t(1%)]\tLoss: 0.837141\n",
      "Train Epoch: 1 [400/500\t(81%)]\tLoss: 0.926341\n",
      "Train Epoch: 2 [0/500\t(1%)]\tLoss: 0.816549\n",
      "Train Epoch: 2 [400/500\t(81%)]\tLoss: 0.737856\n",
      "Train Epoch: 3 [0/500\t(1%)]\tLoss: 0.691517\n",
      "Train Epoch: 3 [400/500\t(81%)]\tLoss: 0.925892\n",
      "Train Epoch: 4 [0/500\t(1%)]\tLoss: 0.703580\n",
      "Train Epoch: 4 [400/500\t(81%)]\tLoss: 0.751727\n",
      "Train Epoch: 5 [0/500\t(1%)]\tLoss: 0.522246\n",
      "Train Epoch: 5 [400/500\t(81%)]\tLoss: 0.647329\n",
      "\n",
      "Worker 48 ends training in Global Round:28 |\n",
      "\n",
      "Worker 70 starts training in Global Round:28 |\n"
     ]
    },
    {
     "data": {
      "application/vnd.jupyter.widget-view+json": {
       "model_id": "0c6e6916fd2449488891b49c8f2530c5",
       "version_major": 2,
       "version_minor": 0
      },
      "text/plain": [
       "HBox(children=(IntProgress(value=0, max=5), HTML(value='')))"
      ]
     },
     "metadata": {},
     "output_type": "display_data"
    },
    {
     "name": "stdout",
     "output_type": "stream",
     "text": [
      "Train Epoch: 1 [0/500\t(1%)]\tLoss: 0.924049\n",
      "Train Epoch: 1 [400/500\t(81%)]\tLoss: 0.914716\n",
      "Train Epoch: 2 [0/500\t(1%)]\tLoss: 0.842747\n",
      "Train Epoch: 2 [400/500\t(81%)]\tLoss: 0.711370\n",
      "Train Epoch: 3 [0/500\t(1%)]\tLoss: 0.708103\n",
      "Train Epoch: 3 [400/500\t(81%)]\tLoss: 0.638536\n",
      "Train Epoch: 4 [0/500\t(1%)]\tLoss: 0.559820\n",
      "Train Epoch: 4 [400/500\t(81%)]\tLoss: 0.736670\n",
      "Train Epoch: 5 [0/500\t(1%)]\tLoss: 0.587213\n",
      "Train Epoch: 5 [400/500\t(81%)]\tLoss: 0.884970\n",
      "\n",
      "Worker 70 ends training in Global Round:28 |\n",
      "\n",
      "Worker 20 starts training in Global Round:28 |\n"
     ]
    },
    {
     "data": {
      "application/vnd.jupyter.widget-view+json": {
       "model_id": "a8c518549e1b427d9c76aa5e6426bcf1",
       "version_major": 2,
       "version_minor": 0
      },
      "text/plain": [
       "HBox(children=(IntProgress(value=0, max=5), HTML(value='')))"
      ]
     },
     "metadata": {},
     "output_type": "display_data"
    },
    {
     "name": "stdout",
     "output_type": "stream",
     "text": [
      "Train Epoch: 1 [0/500\t(1%)]\tLoss: 1.053236\n",
      "Train Epoch: 1 [400/500\t(81%)]\tLoss: 0.932724\n",
      "Train Epoch: 2 [0/500\t(1%)]\tLoss: 0.779230\n",
      "Train Epoch: 2 [400/500\t(81%)]\tLoss: 0.849273\n",
      "Train Epoch: 3 [0/500\t(1%)]\tLoss: 0.749718\n",
      "Train Epoch: 3 [400/500\t(81%)]\tLoss: 0.632218\n",
      "Train Epoch: 4 [0/500\t(1%)]\tLoss: 0.624440\n",
      "Train Epoch: 4 [400/500\t(81%)]\tLoss: 0.552445\n",
      "Train Epoch: 5 [0/500\t(1%)]\tLoss: 0.402352\n",
      "Train Epoch: 5 [400/500\t(81%)]\tLoss: 0.742848\n",
      "\n",
      "Worker 20 ends training in Global Round:28 |\n",
      "\n",
      "Worker 36 starts training in Global Round:28 |\n"
     ]
    },
    {
     "data": {
      "application/vnd.jupyter.widget-view+json": {
       "model_id": "d9272881915b488eadedb33383045f70",
       "version_major": 2,
       "version_minor": 0
      },
      "text/plain": [
       "HBox(children=(IntProgress(value=0, max=5), HTML(value='')))"
      ]
     },
     "metadata": {},
     "output_type": "display_data"
    },
    {
     "name": "stdout",
     "output_type": "stream",
     "text": [
      "Train Epoch: 1 [0/500\t(1%)]\tLoss: 0.898544\n",
      "Train Epoch: 1 [400/500\t(81%)]\tLoss: 0.965508\n",
      "Train Epoch: 2 [0/500\t(1%)]\tLoss: 0.940501\n",
      "Train Epoch: 2 [400/500\t(81%)]\tLoss: 0.824683\n",
      "Train Epoch: 3 [0/500\t(1%)]\tLoss: 0.915788\n",
      "Train Epoch: 3 [400/500\t(81%)]\tLoss: 0.914234\n",
      "Train Epoch: 4 [0/500\t(1%)]\tLoss: 0.719049\n",
      "Train Epoch: 4 [400/500\t(81%)]\tLoss: 0.668446\n",
      "Train Epoch: 5 [0/500\t(1%)]\tLoss: 0.636427\n",
      "Train Epoch: 5 [400/500\t(81%)]\tLoss: 0.603414\n",
      "\n",
      "Worker 36 ends training in Global Round:28 |\n",
      "\n",
      "Worker 62 starts training in Global Round:28 |\n"
     ]
    },
    {
     "data": {
      "application/vnd.jupyter.widget-view+json": {
       "model_id": "ac7f950507d44d60b897ecb8ac88749e",
       "version_major": 2,
       "version_minor": 0
      },
      "text/plain": [
       "HBox(children=(IntProgress(value=0, max=5), HTML(value='')))"
      ]
     },
     "metadata": {},
     "output_type": "display_data"
    },
    {
     "name": "stdout",
     "output_type": "stream",
     "text": [
      "Train Epoch: 1 [0/500\t(1%)]\tLoss: 1.182672\n",
      "Train Epoch: 1 [400/500\t(81%)]\tLoss: 1.252361\n",
      "Train Epoch: 2 [0/500\t(1%)]\tLoss: 1.098469\n",
      "Train Epoch: 2 [400/500\t(81%)]\tLoss: 1.228644\n",
      "Train Epoch: 3 [0/500\t(1%)]\tLoss: 0.695602\n",
      "Train Epoch: 3 [400/500\t(81%)]\tLoss: 0.948170\n",
      "Train Epoch: 4 [0/500\t(1%)]\tLoss: 0.829261\n",
      "Train Epoch: 4 [400/500\t(81%)]\tLoss: 0.891198\n",
      "Train Epoch: 5 [0/500\t(1%)]\tLoss: 0.637219\n",
      "Train Epoch: 5 [400/500\t(81%)]\tLoss: 0.555063\n",
      "\n",
      "Worker 62 ends training in Global Round:28 |\n",
      "\n",
      "Worker 31 starts training in Global Round:28 |\n"
     ]
    },
    {
     "data": {
      "application/vnd.jupyter.widget-view+json": {
       "model_id": "d55433b71d874ef9b5ee324b145c9cd4",
       "version_major": 2,
       "version_minor": 0
      },
      "text/plain": [
       "HBox(children=(IntProgress(value=0, max=5), HTML(value='')))"
      ]
     },
     "metadata": {},
     "output_type": "display_data"
    },
    {
     "name": "stdout",
     "output_type": "stream",
     "text": [
      "Train Epoch: 1 [0/500\t(1%)]\tLoss: 1.108679\n",
      "Train Epoch: 1 [400/500\t(81%)]\tLoss: 1.084954\n",
      "Train Epoch: 2 [0/500\t(1%)]\tLoss: 0.699854\n",
      "Train Epoch: 2 [400/500\t(81%)]\tLoss: 0.905980\n",
      "Train Epoch: 3 [0/500\t(1%)]\tLoss: 0.725378\n",
      "Train Epoch: 3 [400/500\t(81%)]\tLoss: 0.729459\n",
      "Train Epoch: 4 [0/500\t(1%)]\tLoss: 0.581508\n",
      "Train Epoch: 4 [400/500\t(81%)]\tLoss: 0.681519\n",
      "Train Epoch: 5 [0/500\t(1%)]\tLoss: 0.634373\n",
      "Train Epoch: 5 [400/500\t(81%)]\tLoss: 0.455637\n",
      "\n",
      "Performed attacks 0\n",
      "\n",
      "===>Random attack started by:  Worker 31  in Global Round:  28\n",
      "Random attack strating: \n",
      "Performed attacks 1\n",
      "Worker 31 ends training in Global Round:28 |\n",
      "\n",
      "Worker 28 starts training in Global Round:28 |\n"
     ]
    },
    {
     "data": {
      "application/vnd.jupyter.widget-view+json": {
       "model_id": "db0bfb312d9847f4b6bdf30fb313972c",
       "version_major": 2,
       "version_minor": 0
      },
      "text/plain": [
       "HBox(children=(IntProgress(value=0, max=5), HTML(value='')))"
      ]
     },
     "metadata": {},
     "output_type": "display_data"
    },
    {
     "name": "stdout",
     "output_type": "stream",
     "text": [
      "Train Epoch: 1 [0/500\t(1%)]\tLoss: 1.255232\n",
      "Train Epoch: 1 [400/500\t(81%)]\tLoss: 1.067550\n",
      "Train Epoch: 2 [0/500\t(1%)]\tLoss: 0.796789\n",
      "Train Epoch: 2 [400/500\t(81%)]\tLoss: 0.925523\n",
      "Train Epoch: 3 [0/500\t(1%)]\tLoss: 0.677227\n",
      "Train Epoch: 3 [400/500\t(81%)]\tLoss: 0.794298\n",
      "Train Epoch: 4 [0/500\t(1%)]\tLoss: 0.606950\n",
      "Train Epoch: 4 [400/500\t(81%)]\tLoss: 0.577303\n",
      "Train Epoch: 5 [0/500\t(1%)]\tLoss: 0.515356\n",
      "Train Epoch: 5 [400/500\t(81%)]\tLoss: 0.731826\n",
      "\n",
      "Performed attacks 1\n",
      "\n",
      "===>Random attack started by:  Worker 28  in Global Round:  28\n",
      "Random attack strating: \n",
      "Performed attacks 2\n",
      "Worker 28 ends training in Global Round:28 |\n",
      "\n",
      "Worker 79 starts training in Global Round:28 |\n"
     ]
    },
    {
     "data": {
      "application/vnd.jupyter.widget-view+json": {
       "model_id": "2204db5cf92549ba8ee99f7abe3ccb71",
       "version_major": 2,
       "version_minor": 0
      },
      "text/plain": [
       "HBox(children=(IntProgress(value=0, max=5), HTML(value='')))"
      ]
     },
     "metadata": {},
     "output_type": "display_data"
    },
    {
     "name": "stdout",
     "output_type": "stream",
     "text": [
      "Train Epoch: 1 [0/500\t(1%)]\tLoss: 1.170249\n",
      "Train Epoch: 1 [400/500\t(81%)]\tLoss: 1.252776\n",
      "Train Epoch: 2 [0/500\t(1%)]\tLoss: 0.922010\n",
      "Train Epoch: 2 [400/500\t(81%)]\tLoss: 0.910055\n",
      "Train Epoch: 3 [0/500\t(1%)]\tLoss: 0.781603\n",
      "Train Epoch: 3 [400/500\t(81%)]\tLoss: 0.906859\n",
      "Train Epoch: 4 [0/500\t(1%)]\tLoss: 0.659204\n",
      "Train Epoch: 4 [400/500\t(81%)]\tLoss: 0.721846\n",
      "Train Epoch: 5 [0/500\t(1%)]\tLoss: 0.470770\n",
      "Train Epoch: 5 [400/500\t(81%)]\tLoss: 0.706905\n",
      "\n",
      "Performed attacks 2\n",
      "\n",
      "===>Random attack started by:  Worker 79  in Global Round:  28\n",
      "Random attack strating: \n",
      "Performed attacks 3\n",
      "Worker 79 ends training in Global Round:28 |\n",
      "\n",
      "Worker 16 starts training in Global Round:28 |\n"
     ]
    },
    {
     "data": {
      "application/vnd.jupyter.widget-view+json": {
       "model_id": "7d4160a3f401451ea036f913f8d4914a",
       "version_major": 2,
       "version_minor": 0
      },
      "text/plain": [
       "HBox(children=(IntProgress(value=0, max=5), HTML(value='')))"
      ]
     },
     "metadata": {},
     "output_type": "display_data"
    },
    {
     "name": "stdout",
     "output_type": "stream",
     "text": [
      "Train Epoch: 1 [0/500\t(1%)]\tLoss: 0.871534\n",
      "Train Epoch: 1 [400/500\t(81%)]\tLoss: 1.143699\n",
      "Train Epoch: 2 [0/500\t(1%)]\tLoss: 0.686169\n",
      "Train Epoch: 2 [400/500\t(81%)]\tLoss: 1.073705\n",
      "Train Epoch: 3 [0/500\t(1%)]\tLoss: 0.715788\n",
      "Train Epoch: 3 [400/500\t(81%)]\tLoss: 0.886779\n",
      "Train Epoch: 4 [0/500\t(1%)]\tLoss: 0.660930\n",
      "Train Epoch: 4 [400/500\t(81%)]\tLoss: 0.689515\n",
      "Train Epoch: 5 [0/500\t(1%)]\tLoss: 0.579967\n",
      "Train Epoch: 5 [400/500\t(81%)]\tLoss: 0.693166\n",
      "\n",
      "Performed attacks 3\n",
      "\n",
      "===>Random attack started by:  Worker 16  in Global Round:  28\n",
      "Random attack strating: \n",
      "Performed attacks 4\n",
      "Worker 16 ends training in Global Round:28 |\n",
      "\n",
      "Worker 5 starts training in Global Round:28 |\n"
     ]
    },
    {
     "data": {
      "application/vnd.jupyter.widget-view+json": {
       "model_id": "e1eee78300f24debbb13a2692130a735",
       "version_major": 2,
       "version_minor": 0
      },
      "text/plain": [
       "HBox(children=(IntProgress(value=0, max=5), HTML(value='')))"
      ]
     },
     "metadata": {},
     "output_type": "display_data"
    },
    {
     "name": "stdout",
     "output_type": "stream",
     "text": [
      "Train Epoch: 1 [0/500\t(1%)]\tLoss: 0.850832\n",
      "Train Epoch: 1 [400/500\t(81%)]\tLoss: 0.970613\n",
      "Train Epoch: 2 [0/500\t(1%)]\tLoss: 0.500938\n",
      "Train Epoch: 2 [400/500\t(81%)]\tLoss: 0.779078\n",
      "Train Epoch: 3 [0/500\t(1%)]\tLoss: 0.706271\n",
      "Train Epoch: 3 [400/500\t(81%)]\tLoss: 0.856027\n",
      "Train Epoch: 4 [0/500\t(1%)]\tLoss: 0.467943\n",
      "Train Epoch: 4 [400/500\t(81%)]\tLoss: 0.653983\n",
      "Train Epoch: 5 [0/500\t(1%)]\tLoss: 0.529706\n",
      "Train Epoch: 5 [400/500\t(81%)]\tLoss: 0.519221\n",
      "\n",
      "Worker 5 ends training in Global Round:28 |\n",
      "\n",
      "Worker 13 starts training in Global Round:28 |\n"
     ]
    },
    {
     "data": {
      "application/vnd.jupyter.widget-view+json": {
       "model_id": "eed2d5ffa73f44abb0d704df7f3f98b3",
       "version_major": 2,
       "version_minor": 0
      },
      "text/plain": [
       "HBox(children=(IntProgress(value=0, max=5), HTML(value='')))"
      ]
     },
     "metadata": {},
     "output_type": "display_data"
    },
    {
     "name": "stdout",
     "output_type": "stream",
     "text": [
      "Train Epoch: 1 [0/500\t(1%)]\tLoss: 0.826520\n",
      "Train Epoch: 1 [400/500\t(81%)]\tLoss: 1.009233\n",
      "Train Epoch: 2 [0/500\t(1%)]\tLoss: 0.621388\n",
      "Train Epoch: 2 [400/500\t(81%)]\tLoss: 0.858438\n",
      "Train Epoch: 3 [0/500\t(1%)]\tLoss: 0.813525\n",
      "Train Epoch: 3 [400/500\t(81%)]\tLoss: 0.818063\n",
      "Train Epoch: 4 [0/500\t(1%)]\tLoss: 0.717962\n",
      "Train Epoch: 4 [400/500\t(81%)]\tLoss: 0.754025\n",
      "Train Epoch: 5 [0/500\t(1%)]\tLoss: 0.553319\n",
      "Train Epoch: 5 [400/500\t(81%)]\tLoss: 0.581598\n",
      "\n",
      "Worker 13 ends training in Global Round:28 |\n",
      "\n",
      "Worker 71 starts training in Global Round:28 |\n"
     ]
    },
    {
     "data": {
      "application/vnd.jupyter.widget-view+json": {
       "model_id": "3af23a2ab194409fa4728755bbc26de8",
       "version_major": 2,
       "version_minor": 0
      },
      "text/plain": [
       "HBox(children=(IntProgress(value=0, max=5), HTML(value='')))"
      ]
     },
     "metadata": {},
     "output_type": "display_data"
    },
    {
     "name": "stdout",
     "output_type": "stream",
     "text": [
      "Train Epoch: 1 [0/500\t(1%)]\tLoss: 0.977325\n",
      "Train Epoch: 1 [400/500\t(81%)]\tLoss: 1.108134\n",
      "Train Epoch: 2 [0/500\t(1%)]\tLoss: 0.644255\n",
      "Train Epoch: 2 [400/500\t(81%)]\tLoss: 0.975114\n",
      "Train Epoch: 3 [0/500\t(1%)]\tLoss: 0.774706\n",
      "Train Epoch: 3 [400/500\t(81%)]\tLoss: 0.725282\n",
      "Train Epoch: 4 [0/500\t(1%)]\tLoss: 0.656060\n",
      "Train Epoch: 4 [400/500\t(81%)]\tLoss: 0.719391\n",
      "Train Epoch: 5 [0/500\t(1%)]\tLoss: 0.579160\n",
      "Train Epoch: 5 [400/500\t(81%)]\tLoss: 0.703732\n",
      "\n",
      "Worker 71 ends training in Global Round:28 |\n",
      "\n",
      "Worker 14 starts training in Global Round:28 |\n"
     ]
    },
    {
     "data": {
      "application/vnd.jupyter.widget-view+json": {
       "model_id": "5821efd0ab57460cbe29c1bbad347128",
       "version_major": 2,
       "version_minor": 0
      },
      "text/plain": [
       "HBox(children=(IntProgress(value=0, max=5), HTML(value='')))"
      ]
     },
     "metadata": {},
     "output_type": "display_data"
    },
    {
     "name": "stdout",
     "output_type": "stream",
     "text": [
      "Train Epoch: 1 [0/500\t(1%)]\tLoss: 0.805253\n",
      "Train Epoch: 1 [400/500\t(81%)]\tLoss: 0.844696\n",
      "Train Epoch: 2 [0/500\t(1%)]\tLoss: 0.930253\n",
      "Train Epoch: 2 [400/500\t(81%)]\tLoss: 0.986122\n",
      "Train Epoch: 3 [0/500\t(1%)]\tLoss: 0.733482\n",
      "Train Epoch: 3 [400/500\t(81%)]\tLoss: 0.724952\n",
      "Train Epoch: 4 [0/500\t(1%)]\tLoss: 0.624645\n",
      "Train Epoch: 4 [400/500\t(81%)]\tLoss: 0.644049\n",
      "Train Epoch: 5 [0/500\t(1%)]\tLoss: 0.398165\n",
      "Train Epoch: 5 [400/500\t(81%)]\tLoss: 0.836960\n",
      "\n",
      "Worker 14 ends training in Global Round:28 |\n",
      "\n",
      "Worker 7 starts training in Global Round:28 |\n"
     ]
    },
    {
     "data": {
      "application/vnd.jupyter.widget-view+json": {
       "model_id": "be3f2045cdd142d48ab6b172ac868997",
       "version_major": 2,
       "version_minor": 0
      },
      "text/plain": [
       "HBox(children=(IntProgress(value=0, max=5), HTML(value='')))"
      ]
     },
     "metadata": {},
     "output_type": "display_data"
    },
    {
     "name": "stdout",
     "output_type": "stream",
     "text": [
      "Train Epoch: 1 [0/500\t(1%)]\tLoss: 0.916327\n",
      "Train Epoch: 1 [400/500\t(81%)]\tLoss: 0.978335\n",
      "Train Epoch: 2 [0/500\t(1%)]\tLoss: 0.768088\n",
      "Train Epoch: 2 [400/500\t(81%)]\tLoss: 0.921254\n",
      "Train Epoch: 3 [0/500\t(1%)]\tLoss: 0.714799\n",
      "Train Epoch: 3 [400/500\t(81%)]\tLoss: 0.871753\n",
      "Train Epoch: 4 [0/500\t(1%)]\tLoss: 0.748238\n",
      "Train Epoch: 4 [400/500\t(81%)]\tLoss: 0.975203\n",
      "Train Epoch: 5 [0/500\t(1%)]\tLoss: 0.695407\n",
      "Train Epoch: 5 [400/500\t(81%)]\tLoss: 0.640816\n",
      "\n",
      "Worker 7 ends training in Global Round:28 |\n",
      "\n",
      "Worker 49 starts training in Global Round:28 |\n"
     ]
    },
    {
     "data": {
      "application/vnd.jupyter.widget-view+json": {
       "model_id": "cd1c68c302c946a186895ff9e7fb7754",
       "version_major": 2,
       "version_minor": 0
      },
      "text/plain": [
       "HBox(children=(IntProgress(value=0, max=5), HTML(value='')))"
      ]
     },
     "metadata": {},
     "output_type": "display_data"
    },
    {
     "name": "stdout",
     "output_type": "stream",
     "text": [
      "Train Epoch: 1 [0/500\t(1%)]\tLoss: 0.975080\n",
      "Train Epoch: 1 [400/500\t(81%)]\tLoss: 1.330433\n",
      "Train Epoch: 2 [0/500\t(1%)]\tLoss: 0.837408\n",
      "Train Epoch: 2 [400/500\t(81%)]\tLoss: 0.924677\n",
      "Train Epoch: 3 [0/500\t(1%)]\tLoss: 0.814368\n",
      "Train Epoch: 3 [400/500\t(81%)]\tLoss: 0.794747\n",
      "Train Epoch: 4 [0/500\t(1%)]\tLoss: 0.755912\n",
      "Train Epoch: 4 [400/500\t(81%)]\tLoss: 0.698502\n",
      "Train Epoch: 5 [0/500\t(1%)]\tLoss: 0.737564\n",
      "Train Epoch: 5 [400/500\t(81%)]\tLoss: 0.662661\n",
      "\n",
      "Worker 49 ends training in Global Round:28 |\n",
      "\n",
      "Average loss: 1.1897, Accuracy: 6231/10000 (62%)\n",
      "\n",
      "\n",
      "Selected workers\n",
      "\n",
      "[44 45 81  6  7 61 90 57 11 58 24 88 46 27 94]\n",
      "Worker 44 : is  Random_Attacker\n",
      "Worker 45 : is  Honest\n",
      "Worker 81 : is  Honest\n",
      "Worker 6 : is  Random_Attacker\n",
      "Worker 7 : is  Honest\n",
      "Worker 61 : is  Honest\n",
      "Worker 90 : is  Honest\n",
      "Worker 57 : is  Honest\n",
      "Worker 11 : is  Honest\n",
      "Worker 58 : is  Honest\n",
      "Worker 24 : is  Honest\n",
      "Worker 88 : is  Honest\n",
      "Worker 46 : is  Random_Attacker\n",
      "Worker 27 : is  Random_Attacker\n",
      "Worker 94 : is  Random_Attacker\n",
      "\n",
      " | Global Training Round : 29 |\n",
      "\n",
      "\n",
      "Worker 44 starts training in Global Round:29 |\n"
     ]
    },
    {
     "data": {
      "application/vnd.jupyter.widget-view+json": {
       "model_id": "1492e4a6b6e04eb68ca668b3beb88b6e",
       "version_major": 2,
       "version_minor": 0
      },
      "text/plain": [
       "HBox(children=(IntProgress(value=0, max=5), HTML(value='')))"
      ]
     },
     "metadata": {},
     "output_type": "display_data"
    },
    {
     "name": "stdout",
     "output_type": "stream",
     "text": [
      "Train Epoch: 1 [0/500\t(1%)]\tLoss: 1.123116\n",
      "Train Epoch: 1 [400/500\t(81%)]\tLoss: 1.068259\n",
      "Train Epoch: 2 [0/500\t(1%)]\tLoss: 0.863580\n",
      "Train Epoch: 2 [400/500\t(81%)]\tLoss: 0.984538\n",
      "Train Epoch: 3 [0/500\t(1%)]\tLoss: 0.749267\n",
      "Train Epoch: 3 [400/500\t(81%)]\tLoss: 0.848358\n",
      "Train Epoch: 4 [0/500\t(1%)]\tLoss: 0.771521\n",
      "Train Epoch: 4 [400/500\t(81%)]\tLoss: 0.775352\n",
      "Train Epoch: 5 [0/500\t(1%)]\tLoss: 0.666789\n",
      "Train Epoch: 5 [400/500\t(81%)]\tLoss: 0.528141\n",
      "\n",
      "Performed attacks 0\n",
      "\n",
      "===>Random attack started by:  Worker 44  in Global Round:  29\n",
      "Random attack strating: \n",
      "Performed attacks 1\n",
      "Worker 44 ends training in Global Round:29 |\n",
      "\n",
      "Worker 45 starts training in Global Round:29 |\n"
     ]
    },
    {
     "data": {
      "application/vnd.jupyter.widget-view+json": {
       "model_id": "ae1e8bb6c25641c3b10ccef0baa75478",
       "version_major": 2,
       "version_minor": 0
      },
      "text/plain": [
       "HBox(children=(IntProgress(value=0, max=5), HTML(value='')))"
      ]
     },
     "metadata": {},
     "output_type": "display_data"
    },
    {
     "name": "stdout",
     "output_type": "stream",
     "text": [
      "Train Epoch: 1 [0/500\t(1%)]\tLoss: 0.977012\n",
      "Train Epoch: 1 [400/500\t(81%)]\tLoss: 1.282245\n",
      "Train Epoch: 2 [0/500\t(1%)]\tLoss: 0.677369\n",
      "Train Epoch: 2 [400/500\t(81%)]\tLoss: 0.850233\n",
      "Train Epoch: 3 [0/500\t(1%)]\tLoss: 0.787369\n",
      "Train Epoch: 3 [400/500\t(81%)]\tLoss: 0.917689\n",
      "Train Epoch: 4 [0/500\t(1%)]\tLoss: 0.910958\n",
      "Train Epoch: 4 [400/500\t(81%)]\tLoss: 0.707866\n",
      "Train Epoch: 5 [0/500\t(1%)]\tLoss: 0.764013\n",
      "Train Epoch: 5 [400/500\t(81%)]\tLoss: 0.616009\n",
      "\n",
      "Worker 45 ends training in Global Round:29 |\n",
      "\n",
      "Worker 81 starts training in Global Round:29 |\n"
     ]
    },
    {
     "data": {
      "application/vnd.jupyter.widget-view+json": {
       "model_id": "8d3f0556b33d4745a1d7a3697a80c4a6",
       "version_major": 2,
       "version_minor": 0
      },
      "text/plain": [
       "HBox(children=(IntProgress(value=0, max=5), HTML(value='')))"
      ]
     },
     "metadata": {},
     "output_type": "display_data"
    },
    {
     "name": "stdout",
     "output_type": "stream",
     "text": [
      "Train Epoch: 1 [0/500\t(1%)]\tLoss: 0.942104\n",
      "Train Epoch: 1 [400/500\t(81%)]\tLoss: 1.049130\n",
      "Train Epoch: 2 [0/500\t(1%)]\tLoss: 0.993638\n",
      "Train Epoch: 2 [400/500\t(81%)]\tLoss: 0.763370\n",
      "Train Epoch: 3 [0/500\t(1%)]\tLoss: 0.710861\n",
      "Train Epoch: 3 [400/500\t(81%)]\tLoss: 0.672869\n",
      "Train Epoch: 4 [0/500\t(1%)]\tLoss: 0.587429\n",
      "Train Epoch: 4 [400/500\t(81%)]\tLoss: 0.643097\n",
      "Train Epoch: 5 [0/500\t(1%)]\tLoss: 0.524062\n",
      "Train Epoch: 5 [400/500\t(81%)]\tLoss: 0.801169\n",
      "\n",
      "Worker 81 ends training in Global Round:29 |\n",
      "\n",
      "Worker 6 starts training in Global Round:29 |\n"
     ]
    },
    {
     "data": {
      "application/vnd.jupyter.widget-view+json": {
       "model_id": "207997c2368b47cd9f6754d8ba2958a1",
       "version_major": 2,
       "version_minor": 0
      },
      "text/plain": [
       "HBox(children=(IntProgress(value=0, max=5), HTML(value='')))"
      ]
     },
     "metadata": {},
     "output_type": "display_data"
    },
    {
     "name": "stdout",
     "output_type": "stream",
     "text": [
      "Train Epoch: 1 [0/500\t(1%)]\tLoss: 0.845376\n",
      "Train Epoch: 1 [400/500\t(81%)]\tLoss: 1.109087\n",
      "Train Epoch: 2 [0/500\t(1%)]\tLoss: 0.689058\n",
      "Train Epoch: 2 [400/500\t(81%)]\tLoss: 0.915582\n",
      "Train Epoch: 3 [0/500\t(1%)]\tLoss: 0.839526\n",
      "Train Epoch: 3 [400/500\t(81%)]\tLoss: 0.544287\n",
      "Train Epoch: 4 [0/500\t(1%)]\tLoss: 0.465762\n",
      "Train Epoch: 4 [400/500\t(81%)]\tLoss: 0.875347\n",
      "Train Epoch: 5 [0/500\t(1%)]\tLoss: 0.579774\n",
      "Train Epoch: 5 [400/500\t(81%)]\tLoss: 0.758058\n",
      "\n",
      "Performed attacks 1\n",
      "\n",
      "===>Random attack started by:  Worker 6  in Global Round:  29\n",
      "Random attack strating: \n",
      "Performed attacks 2\n",
      "Worker 6 ends training in Global Round:29 |\n",
      "\n",
      "Worker 7 starts training in Global Round:29 |\n"
     ]
    },
    {
     "data": {
      "application/vnd.jupyter.widget-view+json": {
       "model_id": "ff6a34c0b80943788992c6bd67b11abf",
       "version_major": 2,
       "version_minor": 0
      },
      "text/plain": [
       "HBox(children=(IntProgress(value=0, max=5), HTML(value='')))"
      ]
     },
     "metadata": {},
     "output_type": "display_data"
    },
    {
     "name": "stdout",
     "output_type": "stream",
     "text": [
      "Train Epoch: 1 [0/500\t(1%)]\tLoss: 0.842882\n",
      "Train Epoch: 1 [400/500\t(81%)]\tLoss: 1.048146\n",
      "Train Epoch: 2 [0/500\t(1%)]\tLoss: 0.891190\n",
      "Train Epoch: 2 [400/500\t(81%)]\tLoss: 0.994567\n",
      "Train Epoch: 3 [0/500\t(1%)]\tLoss: 0.689281\n",
      "Train Epoch: 3 [400/500\t(81%)]\tLoss: 0.763812\n",
      "Train Epoch: 4 [0/500\t(1%)]\tLoss: 0.607918\n",
      "Train Epoch: 4 [400/500\t(81%)]\tLoss: 0.646716\n",
      "Train Epoch: 5 [0/500\t(1%)]\tLoss: 0.505092\n",
      "Train Epoch: 5 [400/500\t(81%)]\tLoss: 0.525182\n",
      "\n",
      "Worker 7 ends training in Global Round:29 |\n",
      "\n",
      "Worker 61 starts training in Global Round:29 |\n"
     ]
    },
    {
     "data": {
      "application/vnd.jupyter.widget-view+json": {
       "model_id": "d14c09377e0b4b9e82dae81913d22751",
       "version_major": 2,
       "version_minor": 0
      },
      "text/plain": [
       "HBox(children=(IntProgress(value=0, max=5), HTML(value='')))"
      ]
     },
     "metadata": {},
     "output_type": "display_data"
    },
    {
     "name": "stdout",
     "output_type": "stream",
     "text": [
      "Train Epoch: 1 [0/500\t(1%)]\tLoss: 0.909153\n",
      "Train Epoch: 1 [400/500\t(81%)]\tLoss: 0.893548\n",
      "Train Epoch: 2 [0/500\t(1%)]\tLoss: 0.797184\n",
      "Train Epoch: 2 [400/500\t(81%)]\tLoss: 0.692471\n",
      "Train Epoch: 3 [0/500\t(1%)]\tLoss: 0.609707\n",
      "Train Epoch: 3 [400/500\t(81%)]\tLoss: 0.599960\n",
      "Train Epoch: 4 [0/500\t(1%)]\tLoss: 0.507972\n",
      "Train Epoch: 4 [400/500\t(81%)]\tLoss: 0.686639\n",
      "Train Epoch: 5 [0/500\t(1%)]\tLoss: 0.459931\n",
      "Train Epoch: 5 [400/500\t(81%)]\tLoss: 0.587537\n",
      "\n",
      "Worker 61 ends training in Global Round:29 |\n",
      "\n",
      "Worker 90 starts training in Global Round:29 |\n"
     ]
    },
    {
     "data": {
      "application/vnd.jupyter.widget-view+json": {
       "model_id": "29bb7ebb4cad4c23b8ea3208c30568c4",
       "version_major": 2,
       "version_minor": 0
      },
      "text/plain": [
       "HBox(children=(IntProgress(value=0, max=5), HTML(value='')))"
      ]
     },
     "metadata": {},
     "output_type": "display_data"
    },
    {
     "name": "stdout",
     "output_type": "stream",
     "text": [
      "Train Epoch: 1 [0/500\t(1%)]\tLoss: 0.957318\n",
      "Train Epoch: 1 [400/500\t(81%)]\tLoss: 0.964986\n",
      "Train Epoch: 2 [0/500\t(1%)]\tLoss: 0.775102\n",
      "Train Epoch: 2 [400/500\t(81%)]\tLoss: 0.993092\n",
      "Train Epoch: 3 [0/500\t(1%)]\tLoss: 0.869517\n",
      "Train Epoch: 3 [400/500\t(81%)]\tLoss: 0.717369\n",
      "Train Epoch: 4 [0/500\t(1%)]\tLoss: 0.709000\n",
      "Train Epoch: 4 [400/500\t(81%)]\tLoss: 0.687630\n",
      "Train Epoch: 5 [0/500\t(1%)]\tLoss: 0.620849\n",
      "Train Epoch: 5 [400/500\t(81%)]\tLoss: 0.672637\n",
      "\n",
      "Worker 90 ends training in Global Round:29 |\n",
      "\n",
      "Worker 57 starts training in Global Round:29 |\n"
     ]
    },
    {
     "data": {
      "application/vnd.jupyter.widget-view+json": {
       "model_id": "bc004f9c382c482cad747724d1af88fe",
       "version_major": 2,
       "version_minor": 0
      },
      "text/plain": [
       "HBox(children=(IntProgress(value=0, max=5), HTML(value='')))"
      ]
     },
     "metadata": {},
     "output_type": "display_data"
    },
    {
     "name": "stdout",
     "output_type": "stream",
     "text": [
      "Train Epoch: 1 [0/500\t(1%)]\tLoss: 0.761611\n",
      "Train Epoch: 1 [400/500\t(81%)]\tLoss: 0.918710\n",
      "Train Epoch: 2 [0/500\t(1%)]\tLoss: 0.929216\n",
      "Train Epoch: 2 [400/500\t(81%)]\tLoss: 0.913642\n",
      "Train Epoch: 3 [0/500\t(1%)]\tLoss: 0.910003\n",
      "Train Epoch: 3 [400/500\t(81%)]\tLoss: 0.836884\n",
      "Train Epoch: 4 [0/500\t(1%)]\tLoss: 0.652912\n",
      "Train Epoch: 4 [400/500\t(81%)]\tLoss: 0.789120\n",
      "Train Epoch: 5 [0/500\t(1%)]\tLoss: 0.625997\n",
      "Train Epoch: 5 [400/500\t(81%)]\tLoss: 0.534916\n",
      "\n",
      "Worker 57 ends training in Global Round:29 |\n",
      "\n",
      "Worker 11 starts training in Global Round:29 |\n"
     ]
    },
    {
     "data": {
      "application/vnd.jupyter.widget-view+json": {
       "model_id": "170f935099be4ca2b64d25c0134b3d3b",
       "version_major": 2,
       "version_minor": 0
      },
      "text/plain": [
       "HBox(children=(IntProgress(value=0, max=5), HTML(value='')))"
      ]
     },
     "metadata": {},
     "output_type": "display_data"
    },
    {
     "name": "stdout",
     "output_type": "stream",
     "text": [
      "Train Epoch: 1 [0/500\t(1%)]\tLoss: 0.790692\n",
      "Train Epoch: 1 [400/500\t(81%)]\tLoss: 1.004868\n",
      "Train Epoch: 2 [0/500\t(1%)]\tLoss: 0.747142\n",
      "Train Epoch: 2 [400/500\t(81%)]\tLoss: 0.989052\n",
      "Train Epoch: 3 [0/500\t(1%)]\tLoss: 0.852650\n",
      "Train Epoch: 3 [400/500\t(81%)]\tLoss: 0.691293\n",
      "Train Epoch: 4 [0/500\t(1%)]\tLoss: 0.560645\n",
      "Train Epoch: 4 [400/500\t(81%)]\tLoss: 0.778548\n",
      "Train Epoch: 5 [0/500\t(1%)]\tLoss: 0.643342\n",
      "Train Epoch: 5 [400/500\t(81%)]\tLoss: 0.718427\n",
      "\n",
      "Worker 11 ends training in Global Round:29 |\n",
      "\n",
      "Worker 58 starts training in Global Round:29 |\n"
     ]
    },
    {
     "data": {
      "application/vnd.jupyter.widget-view+json": {
       "model_id": "20c600b2fe8c474eb2744de3e70d4739",
       "version_major": 2,
       "version_minor": 0
      },
      "text/plain": [
       "HBox(children=(IntProgress(value=0, max=5), HTML(value='')))"
      ]
     },
     "metadata": {},
     "output_type": "display_data"
    },
    {
     "name": "stdout",
     "output_type": "stream",
     "text": [
      "Train Epoch: 1 [0/500\t(1%)]\tLoss: 1.322766\n",
      "Train Epoch: 1 [400/500\t(81%)]\tLoss: 1.069466\n",
      "Train Epoch: 2 [0/500\t(1%)]\tLoss: 0.863912\n",
      "Train Epoch: 2 [400/500\t(81%)]\tLoss: 0.889574\n",
      "Train Epoch: 3 [0/500\t(1%)]\tLoss: 0.746937\n",
      "Train Epoch: 3 [400/500\t(81%)]\tLoss: 0.783293\n",
      "Train Epoch: 4 [0/500\t(1%)]\tLoss: 0.672307\n",
      "Train Epoch: 4 [400/500\t(81%)]\tLoss: 0.756812\n",
      "Train Epoch: 5 [0/500\t(1%)]\tLoss: 0.565804\n",
      "Train Epoch: 5 [400/500\t(81%)]\tLoss: 0.829906\n",
      "\n",
      "Worker 58 ends training in Global Round:29 |\n",
      "\n",
      "Worker 24 starts training in Global Round:29 |\n"
     ]
    },
    {
     "data": {
      "application/vnd.jupyter.widget-view+json": {
       "model_id": "111a675dc60b4bc18e17246704078acf",
       "version_major": 2,
       "version_minor": 0
      },
      "text/plain": [
       "HBox(children=(IntProgress(value=0, max=5), HTML(value='')))"
      ]
     },
     "metadata": {},
     "output_type": "display_data"
    },
    {
     "name": "stdout",
     "output_type": "stream",
     "text": [
      "Train Epoch: 1 [0/500\t(1%)]\tLoss: 0.802930\n",
      "Train Epoch: 1 [400/500\t(81%)]\tLoss: 1.088068\n",
      "Train Epoch: 2 [0/500\t(1%)]\tLoss: 0.821451\n",
      "Train Epoch: 2 [400/500\t(81%)]\tLoss: 0.920292\n",
      "Train Epoch: 3 [0/500\t(1%)]\tLoss: 0.621838\n",
      "Train Epoch: 3 [400/500\t(81%)]\tLoss: 0.761535\n",
      "Train Epoch: 4 [0/500\t(1%)]\tLoss: 0.538127\n",
      "Train Epoch: 4 [400/500\t(81%)]\tLoss: 0.832813\n",
      "Train Epoch: 5 [0/500\t(1%)]\tLoss: 0.572842\n",
      "Train Epoch: 5 [400/500\t(81%)]\tLoss: 0.510564\n",
      "\n",
      "Worker 24 ends training in Global Round:29 |\n",
      "\n",
      "Worker 88 starts training in Global Round:29 |\n"
     ]
    },
    {
     "data": {
      "application/vnd.jupyter.widget-view+json": {
       "model_id": "49e3787c677e4f3c9e5b9b2087d4f4a6",
       "version_major": 2,
       "version_minor": 0
      },
      "text/plain": [
       "HBox(children=(IntProgress(value=0, max=5), HTML(value='')))"
      ]
     },
     "metadata": {},
     "output_type": "display_data"
    },
    {
     "name": "stdout",
     "output_type": "stream",
     "text": [
      "Train Epoch: 1 [0/500\t(1%)]\tLoss: 0.996340\n",
      "Train Epoch: 1 [400/500\t(81%)]\tLoss: 1.045741\n",
      "Train Epoch: 2 [0/500\t(1%)]\tLoss: 0.777499\n",
      "Train Epoch: 2 [400/500\t(81%)]\tLoss: 0.710627\n",
      "Train Epoch: 3 [0/500\t(1%)]\tLoss: 0.672294\n",
      "Train Epoch: 3 [400/500\t(81%)]\tLoss: 0.715775\n",
      "Train Epoch: 4 [0/500\t(1%)]\tLoss: 0.712103\n",
      "Train Epoch: 4 [400/500\t(81%)]\tLoss: 0.663154\n",
      "Train Epoch: 5 [0/500\t(1%)]\tLoss: 0.772021\n",
      "Train Epoch: 5 [400/500\t(81%)]\tLoss: 0.560774\n",
      "\n",
      "Worker 88 ends training in Global Round:29 |\n",
      "\n",
      "Worker 46 starts training in Global Round:29 |\n"
     ]
    },
    {
     "data": {
      "application/vnd.jupyter.widget-view+json": {
       "model_id": "ebcc172c49404fe8ad44ec8bce5125c8",
       "version_major": 2,
       "version_minor": 0
      },
      "text/plain": [
       "HBox(children=(IntProgress(value=0, max=5), HTML(value='')))"
      ]
     },
     "metadata": {},
     "output_type": "display_data"
    },
    {
     "name": "stdout",
     "output_type": "stream",
     "text": [
      "Train Epoch: 1 [0/500\t(1%)]\tLoss: 0.858872\n",
      "Train Epoch: 1 [400/500\t(81%)]\tLoss: 0.963483\n",
      "Train Epoch: 2 [0/500\t(1%)]\tLoss: 0.593672\n",
      "Train Epoch: 2 [400/500\t(81%)]\tLoss: 0.998311\n",
      "Train Epoch: 3 [0/500\t(1%)]\tLoss: 0.481468\n",
      "Train Epoch: 3 [400/500\t(81%)]\tLoss: 0.697931\n",
      "Train Epoch: 4 [0/500\t(1%)]\tLoss: 0.536218\n",
      "Train Epoch: 4 [400/500\t(81%)]\tLoss: 0.674236\n",
      "Train Epoch: 5 [0/500\t(1%)]\tLoss: 0.514160\n",
      "Train Epoch: 5 [400/500\t(81%)]\tLoss: 0.589788\n",
      "\n",
      "Performed attacks 2\n",
      "\n",
      "===>Random attack started by:  Worker 46  in Global Round:  29\n",
      "Random attack strating: \n",
      "Performed attacks 3\n",
      "Worker 46 ends training in Global Round:29 |\n",
      "\n",
      "Worker 27 starts training in Global Round:29 |\n"
     ]
    },
    {
     "data": {
      "application/vnd.jupyter.widget-view+json": {
       "model_id": "2177182c6d9f4fa0b5522dbf99884f5e",
       "version_major": 2,
       "version_minor": 0
      },
      "text/plain": [
       "HBox(children=(IntProgress(value=0, max=5), HTML(value='')))"
      ]
     },
     "metadata": {},
     "output_type": "display_data"
    },
    {
     "name": "stdout",
     "output_type": "stream",
     "text": [
      "Train Epoch: 1 [0/500\t(1%)]\tLoss: 0.727991\n",
      "Train Epoch: 1 [400/500\t(81%)]\tLoss: 0.946853\n",
      "Train Epoch: 2 [0/500\t(1%)]\tLoss: 0.751973\n",
      "Train Epoch: 2 [400/500\t(81%)]\tLoss: 0.655375\n",
      "Train Epoch: 3 [0/500\t(1%)]\tLoss: 0.643833\n",
      "Train Epoch: 3 [400/500\t(81%)]\tLoss: 0.649551\n",
      "Train Epoch: 4 [0/500\t(1%)]\tLoss: 0.720142\n",
      "Train Epoch: 4 [400/500\t(81%)]\tLoss: 0.795204\n",
      "Train Epoch: 5 [0/500\t(1%)]\tLoss: 0.481780\n",
      "Train Epoch: 5 [400/500\t(81%)]\tLoss: 0.503676\n",
      "\n",
      "Performed attacks 3\n",
      "\n",
      "===>Random attack started by:  Worker 27  in Global Round:  29\n",
      "Random attack strating: \n",
      "Performed attacks 4\n",
      "Worker 27 ends training in Global Round:29 |\n",
      "\n",
      "Worker 94 starts training in Global Round:29 |\n"
     ]
    },
    {
     "data": {
      "application/vnd.jupyter.widget-view+json": {
       "model_id": "5fed31e8af9542cbb96f7f9ba571d308",
       "version_major": 2,
       "version_minor": 0
      },
      "text/plain": [
       "HBox(children=(IntProgress(value=0, max=5), HTML(value='')))"
      ]
     },
     "metadata": {},
     "output_type": "display_data"
    },
    {
     "name": "stdout",
     "output_type": "stream",
     "text": [
      "Train Epoch: 1 [0/500\t(1%)]\tLoss: 0.836316\n",
      "Train Epoch: 1 [400/500\t(81%)]\tLoss: 0.899831\n",
      "Train Epoch: 2 [0/500\t(1%)]\tLoss: 0.757009\n",
      "Train Epoch: 2 [400/500\t(81%)]\tLoss: 1.037692\n",
      "Train Epoch: 3 [0/500\t(1%)]\tLoss: 0.801132\n",
      "Train Epoch: 3 [400/500\t(81%)]\tLoss: 0.862532\n",
      "Train Epoch: 4 [0/500\t(1%)]\tLoss: 0.509782\n",
      "Train Epoch: 4 [400/500\t(81%)]\tLoss: 0.745657\n",
      "Train Epoch: 5 [0/500\t(1%)]\tLoss: 0.455197\n",
      "Train Epoch: 5 [400/500\t(81%)]\tLoss: 0.480934\n",
      "\n",
      "Worker 94 ends training in Global Round:29 |\n",
      "\n",
      "Average loss: 1.0394, Accuracy: 6536/10000 (65%)\n",
      "\n",
      "\n",
      "Selected workers\n",
      "\n",
      "[52  1 23 81 57 70 42 79 73 91 71 35 24 95 11]\n",
      "Worker 52 : is  Random_Attacker\n",
      "Worker 1 : is  Honest\n",
      "Worker 23 : is  Random_Attacker\n",
      "Worker 81 : is  Honest\n",
      "Worker 57 : is  Honest\n",
      "Worker 70 : is  Honest\n",
      "Worker 42 : is  Honest\n",
      "Worker 79 : is  Random_Attacker\n",
      "Worker 73 : is  Honest\n",
      "Worker 91 : is  Honest\n",
      "Worker 71 : is  Random_Attacker\n",
      "Worker 35 : is  Honest\n",
      "Worker 24 : is  Honest\n",
      "Worker 95 : is  Honest\n",
      "Worker 11 : is  Honest\n",
      "\n",
      " | Global Training Round : 30 |\n",
      "\n",
      "\n",
      "Worker 52 starts training in Global Round:30 |\n"
     ]
    },
    {
     "data": {
      "application/vnd.jupyter.widget-view+json": {
       "model_id": "60c6b201d1ce4c848c5d2a69d56703a9",
       "version_major": 2,
       "version_minor": 0
      },
      "text/plain": [
       "HBox(children=(IntProgress(value=0, max=5), HTML(value='')))"
      ]
     },
     "metadata": {},
     "output_type": "display_data"
    },
    {
     "name": "stdout",
     "output_type": "stream",
     "text": [
      "Train Epoch: 1 [0/500\t(1%)]\tLoss: 1.016818\n",
      "Train Epoch: 1 [400/500\t(81%)]\tLoss: 0.991499\n",
      "Train Epoch: 2 [0/500\t(1%)]\tLoss: 0.779603\n",
      "Train Epoch: 2 [400/500\t(81%)]\tLoss: 0.770691\n",
      "Train Epoch: 3 [0/500\t(1%)]\tLoss: 0.758453\n",
      "Train Epoch: 3 [400/500\t(81%)]\tLoss: 0.721713\n",
      "Train Epoch: 4 [0/500\t(1%)]\tLoss: 0.493226\n",
      "Train Epoch: 4 [400/500\t(81%)]\tLoss: 0.555377\n",
      "Train Epoch: 5 [0/500\t(1%)]\tLoss: 0.543499\n",
      "Train Epoch: 5 [400/500\t(81%)]\tLoss: 0.482953\n",
      "\n",
      "Performed attacks 0\n",
      "\n",
      "===>Random attack started by:  Worker 52  in Global Round:  30\n",
      "Random attack strating: \n",
      "Performed attacks 1\n",
      "Worker 52 ends training in Global Round:30 |\n",
      "\n",
      "Worker 1 starts training in Global Round:30 |\n"
     ]
    },
    {
     "data": {
      "application/vnd.jupyter.widget-view+json": {
       "model_id": "d8086f3b62f442079c5373228f75340f",
       "version_major": 2,
       "version_minor": 0
      },
      "text/plain": [
       "HBox(children=(IntProgress(value=0, max=5), HTML(value='')))"
      ]
     },
     "metadata": {},
     "output_type": "display_data"
    },
    {
     "name": "stdout",
     "output_type": "stream",
     "text": [
      "Train Epoch: 1 [0/500\t(1%)]\tLoss: 0.986909\n",
      "Train Epoch: 1 [400/500\t(81%)]\tLoss: 1.153580\n",
      "Train Epoch: 2 [0/500\t(1%)]\tLoss: 0.736725\n",
      "Train Epoch: 2 [400/500\t(81%)]\tLoss: 0.917794\n",
      "Train Epoch: 3 [0/500\t(1%)]\tLoss: 0.629296\n",
      "Train Epoch: 3 [400/500\t(81%)]\tLoss: 1.038514\n",
      "Train Epoch: 4 [0/500\t(1%)]\tLoss: 0.675459\n",
      "Train Epoch: 4 [400/500\t(81%)]\tLoss: 1.064040\n",
      "Train Epoch: 5 [0/500\t(1%)]\tLoss: 0.636862\n",
      "Train Epoch: 5 [400/500\t(81%)]\tLoss: 0.911090\n",
      "\n",
      "Worker 1 ends training in Global Round:30 |\n",
      "\n",
      "Worker 23 starts training in Global Round:30 |\n"
     ]
    },
    {
     "data": {
      "application/vnd.jupyter.widget-view+json": {
       "model_id": "c8921feeb6b04a688bcf10ac70633855",
       "version_major": 2,
       "version_minor": 0
      },
      "text/plain": [
       "HBox(children=(IntProgress(value=0, max=5), HTML(value='')))"
      ]
     },
     "metadata": {},
     "output_type": "display_data"
    },
    {
     "name": "stdout",
     "output_type": "stream",
     "text": [
      "Train Epoch: 1 [0/500\t(1%)]\tLoss: 0.983876\n",
      "Train Epoch: 1 [400/500\t(81%)]\tLoss: 1.070212\n",
      "Train Epoch: 2 [0/500\t(1%)]\tLoss: 0.818910\n",
      "Train Epoch: 2 [400/500\t(81%)]\tLoss: 0.763145\n",
      "Train Epoch: 3 [0/500\t(1%)]\tLoss: 0.738825\n",
      "Train Epoch: 3 [400/500\t(81%)]\tLoss: 0.837786\n",
      "Train Epoch: 4 [0/500\t(1%)]\tLoss: 0.678462\n",
      "Train Epoch: 4 [400/500\t(81%)]\tLoss: 0.697991\n",
      "Train Epoch: 5 [0/500\t(1%)]\tLoss: 0.527169\n",
      "Train Epoch: 5 [400/500\t(81%)]\tLoss: 0.497350\n",
      "\n",
      "Performed attacks 1\n",
      "\n",
      "===>Random attack started by:  Worker 23  in Global Round:  30\n",
      "Random attack strating: \n",
      "Performed attacks 2\n",
      "Worker 23 ends training in Global Round:30 |\n",
      "\n",
      "Worker 81 starts training in Global Round:30 |\n"
     ]
    },
    {
     "data": {
      "application/vnd.jupyter.widget-view+json": {
       "model_id": "9ce3e5bfc0fc40d090ebda3b63d3575c",
       "version_major": 2,
       "version_minor": 0
      },
      "text/plain": [
       "HBox(children=(IntProgress(value=0, max=5), HTML(value='')))"
      ]
     },
     "metadata": {},
     "output_type": "display_data"
    },
    {
     "name": "stdout",
     "output_type": "stream",
     "text": [
      "Train Epoch: 1 [0/500\t(1%)]\tLoss: 0.783964\n",
      "Train Epoch: 1 [400/500\t(81%)]\tLoss: 1.087005\n",
      "Train Epoch: 2 [0/500\t(1%)]\tLoss: 0.628111\n",
      "Train Epoch: 2 [400/500\t(81%)]\tLoss: 0.749805\n",
      "Train Epoch: 3 [0/500\t(1%)]\tLoss: 0.553508\n",
      "Train Epoch: 3 [400/500\t(81%)]\tLoss: 0.620673\n",
      "Train Epoch: 4 [0/500\t(1%)]\tLoss: 0.529649\n",
      "Train Epoch: 4 [400/500\t(81%)]\tLoss: 0.548093\n",
      "Train Epoch: 5 [0/500\t(1%)]\tLoss: 0.445633\n",
      "Train Epoch: 5 [400/500\t(81%)]\tLoss: 0.566505\n",
      "\n",
      "Worker 81 ends training in Global Round:30 |\n",
      "\n",
      "Worker 57 starts training in Global Round:30 |\n"
     ]
    },
    {
     "data": {
      "application/vnd.jupyter.widget-view+json": {
       "model_id": "7a2cbe808e6f43758d813e48a4c95007",
       "version_major": 2,
       "version_minor": 0
      },
      "text/plain": [
       "HBox(children=(IntProgress(value=0, max=5), HTML(value='')))"
      ]
     },
     "metadata": {},
     "output_type": "display_data"
    },
    {
     "name": "stdout",
     "output_type": "stream",
     "text": [
      "Train Epoch: 1 [0/500\t(1%)]\tLoss: 0.921289\n",
      "Train Epoch: 1 [400/500\t(81%)]\tLoss: 1.002448\n",
      "Train Epoch: 2 [0/500\t(1%)]\tLoss: 0.867269\n",
      "Train Epoch: 2 [400/500\t(81%)]\tLoss: 0.661072\n",
      "Train Epoch: 3 [0/500\t(1%)]\tLoss: 0.858694\n",
      "Train Epoch: 3 [400/500\t(81%)]\tLoss: 0.696302\n",
      "Train Epoch: 4 [0/500\t(1%)]\tLoss: 0.494257\n",
      "Train Epoch: 4 [400/500\t(81%)]\tLoss: 0.682947\n",
      "Train Epoch: 5 [0/500\t(1%)]\tLoss: 0.631959\n",
      "Train Epoch: 5 [400/500\t(81%)]\tLoss: 0.522865\n",
      "\n",
      "Worker 57 ends training in Global Round:30 |\n",
      "\n",
      "Worker 70 starts training in Global Round:30 |\n"
     ]
    },
    {
     "data": {
      "application/vnd.jupyter.widget-view+json": {
       "model_id": "9041d01b1d9a4bd3afe91b151de8b0f8",
       "version_major": 2,
       "version_minor": 0
      },
      "text/plain": [
       "HBox(children=(IntProgress(value=0, max=5), HTML(value='')))"
      ]
     },
     "metadata": {},
     "output_type": "display_data"
    },
    {
     "name": "stdout",
     "output_type": "stream",
     "text": [
      "Train Epoch: 1 [0/500\t(1%)]\tLoss: 0.795568\n",
      "Train Epoch: 1 [400/500\t(81%)]\tLoss: 1.097313\n",
      "Train Epoch: 2 [0/500\t(1%)]\tLoss: 0.691118\n",
      "Train Epoch: 2 [400/500\t(81%)]\tLoss: 0.935704\n",
      "Train Epoch: 3 [0/500\t(1%)]\tLoss: 0.802968\n",
      "Train Epoch: 3 [400/500\t(81%)]\tLoss: 0.681886\n",
      "Train Epoch: 4 [0/500\t(1%)]\tLoss: 0.894382\n",
      "Train Epoch: 4 [400/500\t(81%)]\tLoss: 0.683999\n",
      "Train Epoch: 5 [0/500\t(1%)]\tLoss: 0.645470\n",
      "Train Epoch: 5 [400/500\t(81%)]\tLoss: 0.579085\n",
      "\n",
      "Worker 70 ends training in Global Round:30 |\n",
      "\n",
      "Worker 42 starts training in Global Round:30 |\n"
     ]
    },
    {
     "data": {
      "application/vnd.jupyter.widget-view+json": {
       "model_id": "49d21ffc2b1d4c8d843b7c4e4bb254e6",
       "version_major": 2,
       "version_minor": 0
      },
      "text/plain": [
       "HBox(children=(IntProgress(value=0, max=5), HTML(value='')))"
      ]
     },
     "metadata": {},
     "output_type": "display_data"
    },
    {
     "name": "stdout",
     "output_type": "stream",
     "text": [
      "Train Epoch: 1 [0/500\t(1%)]\tLoss: 0.901075\n",
      "Train Epoch: 1 [400/500\t(81%)]\tLoss: 1.164728\n",
      "Train Epoch: 2 [0/500\t(1%)]\tLoss: 0.769859\n",
      "Train Epoch: 2 [400/500\t(81%)]\tLoss: 0.883210\n",
      "Train Epoch: 3 [0/500\t(1%)]\tLoss: 0.617320\n",
      "Train Epoch: 3 [400/500\t(81%)]\tLoss: 0.677111\n",
      "Train Epoch: 4 [0/500\t(1%)]\tLoss: 0.645643\n",
      "Train Epoch: 4 [400/500\t(81%)]\tLoss: 0.669822\n",
      "Train Epoch: 5 [0/500\t(1%)]\tLoss: 0.470700\n",
      "Train Epoch: 5 [400/500\t(81%)]\tLoss: 0.419456\n",
      "\n",
      "Worker 42 ends training in Global Round:30 |\n",
      "\n",
      "Worker 79 starts training in Global Round:30 |\n"
     ]
    },
    {
     "data": {
      "application/vnd.jupyter.widget-view+json": {
       "model_id": "de0ecfff9075476fafdd24aae1648bc4",
       "version_major": 2,
       "version_minor": 0
      },
      "text/plain": [
       "HBox(children=(IntProgress(value=0, max=5), HTML(value='')))"
      ]
     },
     "metadata": {},
     "output_type": "display_data"
    },
    {
     "name": "stdout",
     "output_type": "stream",
     "text": [
      "Train Epoch: 1 [0/500\t(1%)]\tLoss: 1.075480\n",
      "Train Epoch: 1 [400/500\t(81%)]\tLoss: 1.077099\n",
      "Train Epoch: 2 [0/500\t(1%)]\tLoss: 0.725500\n",
      "Train Epoch: 2 [400/500\t(81%)]\tLoss: 1.094357\n",
      "Train Epoch: 3 [0/500\t(1%)]\tLoss: 0.858023\n",
      "Train Epoch: 3 [400/500\t(81%)]\tLoss: 0.639127\n",
      "Train Epoch: 4 [0/500\t(1%)]\tLoss: 0.771401\n",
      "Train Epoch: 4 [400/500\t(81%)]\tLoss: 0.682250\n",
      "Train Epoch: 5 [0/500\t(1%)]\tLoss: 0.520294\n",
      "Train Epoch: 5 [400/500\t(81%)]\tLoss: 0.616768\n",
      "\n",
      "Performed attacks 2\n",
      "\n",
      "===>Random attack started by:  Worker 79  in Global Round:  30\n",
      "Random attack strating: \n",
      "Performed attacks 3\n",
      "Worker 79 ends training in Global Round:30 |\n",
      "\n",
      "Worker 73 starts training in Global Round:30 |\n"
     ]
    },
    {
     "data": {
      "application/vnd.jupyter.widget-view+json": {
       "model_id": "6ed990f7d52f46a9aac1d05a5a12e3c2",
       "version_major": 2,
       "version_minor": 0
      },
      "text/plain": [
       "HBox(children=(IntProgress(value=0, max=5), HTML(value='')))"
      ]
     },
     "metadata": {},
     "output_type": "display_data"
    },
    {
     "name": "stdout",
     "output_type": "stream",
     "text": [
      "Train Epoch: 1 [0/500\t(1%)]\tLoss: 0.840377\n",
      "Train Epoch: 1 [400/500\t(81%)]\tLoss: 0.936923\n",
      "Train Epoch: 2 [0/500\t(1%)]\tLoss: 0.611343\n",
      "Train Epoch: 2 [400/500\t(81%)]\tLoss: 0.579735\n",
      "Train Epoch: 3 [0/500\t(1%)]\tLoss: 0.601486\n",
      "Train Epoch: 3 [400/500\t(81%)]\tLoss: 0.673032\n",
      "Train Epoch: 4 [0/500\t(1%)]\tLoss: 0.572564\n",
      "Train Epoch: 4 [400/500\t(81%)]\tLoss: 0.661550\n",
      "Train Epoch: 5 [0/500\t(1%)]\tLoss: 0.490445\n",
      "Train Epoch: 5 [400/500\t(81%)]\tLoss: 0.697267\n",
      "\n",
      "Worker 73 ends training in Global Round:30 |\n",
      "\n",
      "Worker 91 starts training in Global Round:30 |\n"
     ]
    },
    {
     "data": {
      "application/vnd.jupyter.widget-view+json": {
       "model_id": "4e6fdcbce9734b22a45fa09d48d6cb61",
       "version_major": 2,
       "version_minor": 0
      },
      "text/plain": [
       "HBox(children=(IntProgress(value=0, max=5), HTML(value='')))"
      ]
     },
     "metadata": {},
     "output_type": "display_data"
    },
    {
     "name": "stdout",
     "output_type": "stream",
     "text": [
      "Train Epoch: 1 [0/500\t(1%)]\tLoss: 0.806927\n",
      "Train Epoch: 1 [400/500\t(81%)]\tLoss: 0.938023\n",
      "Train Epoch: 2 [0/500\t(1%)]\tLoss: 0.862435\n",
      "Train Epoch: 2 [400/500\t(81%)]\tLoss: 0.825174\n",
      "Train Epoch: 3 [0/500\t(1%)]\tLoss: 0.654333\n",
      "Train Epoch: 3 [400/500\t(81%)]\tLoss: 1.008877\n",
      "Train Epoch: 4 [0/500\t(1%)]\tLoss: 0.583122\n",
      "Train Epoch: 4 [400/500\t(81%)]\tLoss: 0.683921\n",
      "Train Epoch: 5 [0/500\t(1%)]\tLoss: 0.516389\n",
      "Train Epoch: 5 [400/500\t(81%)]\tLoss: 0.510548\n",
      "\n",
      "Worker 91 ends training in Global Round:30 |\n",
      "\n",
      "Worker 71 starts training in Global Round:30 |\n"
     ]
    },
    {
     "data": {
      "application/vnd.jupyter.widget-view+json": {
       "model_id": "e06eb57bfa9f4f8589ef03143f7fb650",
       "version_major": 2,
       "version_minor": 0
      },
      "text/plain": [
       "HBox(children=(IntProgress(value=0, max=5), HTML(value='')))"
      ]
     },
     "metadata": {},
     "output_type": "display_data"
    },
    {
     "name": "stdout",
     "output_type": "stream",
     "text": [
      "Train Epoch: 1 [0/500\t(1%)]\tLoss: 0.762736\n",
      "Train Epoch: 1 [400/500\t(81%)]\tLoss: 1.112288\n",
      "Train Epoch: 2 [0/500\t(1%)]\tLoss: 0.636603\n",
      "Train Epoch: 2 [400/500\t(81%)]\tLoss: 0.835901\n",
      "Train Epoch: 3 [0/500\t(1%)]\tLoss: 0.636503\n",
      "Train Epoch: 3 [400/500\t(81%)]\tLoss: 0.684601\n",
      "Train Epoch: 4 [0/500\t(1%)]\tLoss: 0.741277\n",
      "Train Epoch: 4 [400/500\t(81%)]\tLoss: 0.585354\n",
      "Train Epoch: 5 [0/500\t(1%)]\tLoss: 0.503716\n",
      "Train Epoch: 5 [400/500\t(81%)]\tLoss: 0.578449\n",
      "\n",
      "Performed attacks 3\n",
      "\n",
      "===>Random attack started by:  Worker 71  in Global Round:  30\n",
      "Random attack strating: \n",
      "Performed attacks 4\n",
      "Worker 71 ends training in Global Round:30 |\n",
      "\n",
      "Worker 35 starts training in Global Round:30 |\n"
     ]
    },
    {
     "data": {
      "application/vnd.jupyter.widget-view+json": {
       "model_id": "0a5a87a0fa7f4369b27d51936fcee397",
       "version_major": 2,
       "version_minor": 0
      },
      "text/plain": [
       "HBox(children=(IntProgress(value=0, max=5), HTML(value='')))"
      ]
     },
     "metadata": {},
     "output_type": "display_data"
    },
    {
     "name": "stdout",
     "output_type": "stream",
     "text": [
      "Train Epoch: 1 [0/500\t(1%)]\tLoss: 1.013847\n",
      "Train Epoch: 1 [400/500\t(81%)]\tLoss: 1.212810\n",
      "Train Epoch: 2 [0/500\t(1%)]\tLoss: 0.885172\n",
      "Train Epoch: 2 [400/500\t(81%)]\tLoss: 1.140978\n",
      "Train Epoch: 3 [0/500\t(1%)]\tLoss: 0.599905\n",
      "Train Epoch: 3 [400/500\t(81%)]\tLoss: 0.727328\n",
      "Train Epoch: 4 [0/500\t(1%)]\tLoss: 0.438972\n",
      "Train Epoch: 4 [400/500\t(81%)]\tLoss: 0.687976\n",
      "Train Epoch: 5 [0/500\t(1%)]\tLoss: 0.447330\n",
      "Train Epoch: 5 [400/500\t(81%)]\tLoss: 0.579099\n",
      "\n",
      "Worker 35 ends training in Global Round:30 |\n",
      "\n",
      "Worker 24 starts training in Global Round:30 |\n"
     ]
    },
    {
     "data": {
      "application/vnd.jupyter.widget-view+json": {
       "model_id": "444e42bd1a4743f293dd424e678358a3",
       "version_major": 2,
       "version_minor": 0
      },
      "text/plain": [
       "HBox(children=(IntProgress(value=0, max=5), HTML(value='')))"
      ]
     },
     "metadata": {},
     "output_type": "display_data"
    },
    {
     "name": "stdout",
     "output_type": "stream",
     "text": [
      "Train Epoch: 1 [0/500\t(1%)]\tLoss: 0.770436\n",
      "Train Epoch: 1 [400/500\t(81%)]\tLoss: 0.647358\n",
      "Train Epoch: 2 [0/500\t(1%)]\tLoss: 0.639618\n",
      "Train Epoch: 2 [400/500\t(81%)]\tLoss: 0.669301\n",
      "Train Epoch: 3 [0/500\t(1%)]\tLoss: 0.694144\n",
      "Train Epoch: 3 [400/500\t(81%)]\tLoss: 0.688888\n",
      "Train Epoch: 4 [0/500\t(1%)]\tLoss: 0.608223\n",
      "Train Epoch: 4 [400/500\t(81%)]\tLoss: 0.558325\n",
      "Train Epoch: 5 [0/500\t(1%)]\tLoss: 0.441484\n",
      "Train Epoch: 5 [400/500\t(81%)]\tLoss: 0.536726\n",
      "\n",
      "Worker 24 ends training in Global Round:30 |\n",
      "\n",
      "Worker 95 starts training in Global Round:30 |\n"
     ]
    },
    {
     "data": {
      "application/vnd.jupyter.widget-view+json": {
       "model_id": "6a67365c823942a6b5253c085b9d6db4",
       "version_major": 2,
       "version_minor": 0
      },
      "text/plain": [
       "HBox(children=(IntProgress(value=0, max=5), HTML(value='')))"
      ]
     },
     "metadata": {},
     "output_type": "display_data"
    },
    {
     "name": "stdout",
     "output_type": "stream",
     "text": [
      "Train Epoch: 1 [0/500\t(1%)]\tLoss: 1.058329\n",
      "Train Epoch: 1 [400/500\t(81%)]\tLoss: 0.967141\n",
      "Train Epoch: 2 [0/500\t(1%)]\tLoss: 0.703440\n",
      "Train Epoch: 2 [400/500\t(81%)]\tLoss: 0.989477\n",
      "Train Epoch: 3 [0/500\t(1%)]\tLoss: 0.615302\n",
      "Train Epoch: 3 [400/500\t(81%)]\tLoss: 0.790913\n",
      "Train Epoch: 4 [0/500\t(1%)]\tLoss: 0.737419\n",
      "Train Epoch: 4 [400/500\t(81%)]\tLoss: 0.817590\n",
      "Train Epoch: 5 [0/500\t(1%)]\tLoss: 0.392028\n",
      "Train Epoch: 5 [400/500\t(81%)]\tLoss: 0.720125\n",
      "\n",
      "Worker 95 ends training in Global Round:30 |\n",
      "\n",
      "Worker 11 starts training in Global Round:30 |\n"
     ]
    },
    {
     "data": {
      "application/vnd.jupyter.widget-view+json": {
       "model_id": "67b5001351814bc28774e3eed73db508",
       "version_major": 2,
       "version_minor": 0
      },
      "text/plain": [
       "HBox(children=(IntProgress(value=0, max=5), HTML(value='')))"
      ]
     },
     "metadata": {},
     "output_type": "display_data"
    },
    {
     "name": "stdout",
     "output_type": "stream",
     "text": [
      "Train Epoch: 1 [0/500\t(1%)]\tLoss: 0.979178\n",
      "Train Epoch: 1 [400/500\t(81%)]\tLoss: 1.035926\n",
      "Train Epoch: 2 [0/500\t(1%)]\tLoss: 0.831622\n",
      "Train Epoch: 2 [400/500\t(81%)]\tLoss: 0.858250\n",
      "Train Epoch: 3 [0/500\t(1%)]\tLoss: 0.811741\n",
      "Train Epoch: 3 [400/500\t(81%)]\tLoss: 0.725420\n",
      "Train Epoch: 4 [0/500\t(1%)]\tLoss: 0.689553\n",
      "Train Epoch: 4 [400/500\t(81%)]\tLoss: 0.754406\n",
      "Train Epoch: 5 [0/500\t(1%)]\tLoss: 0.553244\n",
      "Train Epoch: 5 [400/500\t(81%)]\tLoss: 0.626069\n",
      "\n",
      "Worker 11 ends training in Global Round:30 |\n",
      "\n",
      "Average loss: 1.0041, Accuracy: 6686/10000 (67%)\n",
      "\n",
      "\n",
      "Selected workers\n",
      "\n",
      "[ 28 100  60  63  96  55   5  70  49  97  88  19  24  37  26]\n",
      "Worker 28 : is  Random_Attacker\n",
      "Worker 100 : is  Honest\n",
      "Worker 60 : is  Honest\n",
      "Worker 63 : is  Honest\n",
      "Worker 96 : is  Honest\n",
      "Worker 55 : is  Random_Attacker\n",
      "Worker 5 : is  Honest\n",
      "Worker 70 : is  Honest\n",
      "Worker 49 : is  Honest\n",
      "Worker 97 : is  Random_Attacker\n",
      "Worker 88 : is  Honest\n",
      "Worker 19 : is  Random_Attacker\n",
      "Worker 24 : is  Honest\n",
      "Worker 37 : is  Random_Attacker\n",
      "Worker 26 : is  Honest\n",
      "\n",
      " | Global Training Round : 31 |\n",
      "\n",
      "\n",
      "Worker 28 starts training in Global Round:31 |\n"
     ]
    },
    {
     "data": {
      "application/vnd.jupyter.widget-view+json": {
       "model_id": "c633c7d4c3224af5a4502d983f7f01d9",
       "version_major": 2,
       "version_minor": 0
      },
      "text/plain": [
       "HBox(children=(IntProgress(value=0, max=5), HTML(value='')))"
      ]
     },
     "metadata": {},
     "output_type": "display_data"
    },
    {
     "name": "stdout",
     "output_type": "stream",
     "text": [
      "Train Epoch: 1 [0/500\t(1%)]\tLoss: 1.114850\n",
      "Train Epoch: 1 [400/500\t(81%)]\tLoss: 1.023784\n",
      "Train Epoch: 2 [0/500\t(1%)]\tLoss: 0.735541\n",
      "Train Epoch: 2 [400/500\t(81%)]\tLoss: 0.835878\n",
      "Train Epoch: 3 [0/500\t(1%)]\tLoss: 0.710901\n",
      "Train Epoch: 3 [400/500\t(81%)]\tLoss: 0.707829\n",
      "Train Epoch: 4 [0/500\t(1%)]\tLoss: 0.717535\n",
      "Train Epoch: 4 [400/500\t(81%)]\tLoss: 0.586225\n",
      "Train Epoch: 5 [0/500\t(1%)]\tLoss: 0.508660\n",
      "Train Epoch: 5 [400/500\t(81%)]\tLoss: 0.610383\n",
      "\n",
      "Performed attacks 0\n",
      "\n",
      "===>Random attack started by:  Worker 28  in Global Round:  31\n",
      "Random attack strating: \n",
      "Performed attacks 1\n",
      "Worker 28 ends training in Global Round:31 |\n",
      "\n",
      "Worker 100 starts training in Global Round:31 |\n"
     ]
    },
    {
     "data": {
      "application/vnd.jupyter.widget-view+json": {
       "model_id": "5eaf252d211648c0ab3f19123595640f",
       "version_major": 2,
       "version_minor": 0
      },
      "text/plain": [
       "HBox(children=(IntProgress(value=0, max=5), HTML(value='')))"
      ]
     },
     "metadata": {},
     "output_type": "display_data"
    },
    {
     "name": "stdout",
     "output_type": "stream",
     "text": [
      "Train Epoch: 1 [0/500\t(1%)]\tLoss: 0.922835\n",
      "Train Epoch: 1 [400/500\t(81%)]\tLoss: 0.932604\n",
      "Train Epoch: 2 [0/500\t(1%)]\tLoss: 0.721528\n",
      "Train Epoch: 2 [400/500\t(81%)]\tLoss: 1.058352\n",
      "Train Epoch: 3 [0/500\t(1%)]\tLoss: 0.587502\n",
      "Train Epoch: 3 [400/500\t(81%)]\tLoss: 0.507112\n",
      "Train Epoch: 4 [0/500\t(1%)]\tLoss: 0.550882\n",
      "Train Epoch: 4 [400/500\t(81%)]\tLoss: 0.755249\n",
      "Train Epoch: 5 [0/500\t(1%)]\tLoss: 0.565075\n",
      "Train Epoch: 5 [400/500\t(81%)]\tLoss: 0.581856\n",
      "\n",
      "Worker 100 ends training in Global Round:31 |\n",
      "\n",
      "Worker 60 starts training in Global Round:31 |\n"
     ]
    },
    {
     "data": {
      "application/vnd.jupyter.widget-view+json": {
       "model_id": "c89e2bcc661442ec9e71f4573b23d7d9",
       "version_major": 2,
       "version_minor": 0
      },
      "text/plain": [
       "HBox(children=(IntProgress(value=0, max=5), HTML(value='')))"
      ]
     },
     "metadata": {},
     "output_type": "display_data"
    },
    {
     "name": "stdout",
     "output_type": "stream",
     "text": [
      "Train Epoch: 1 [0/500\t(1%)]\tLoss: 0.829762\n",
      "Train Epoch: 1 [400/500\t(81%)]\tLoss: 0.903569\n",
      "Train Epoch: 2 [0/500\t(1%)]\tLoss: 0.734329\n",
      "Train Epoch: 2 [400/500\t(81%)]\tLoss: 0.868026\n",
      "Train Epoch: 3 [0/500\t(1%)]\tLoss: 0.700821\n",
      "Train Epoch: 3 [400/500\t(81%)]\tLoss: 0.932927\n",
      "Train Epoch: 4 [0/500\t(1%)]\tLoss: 0.732418\n",
      "Train Epoch: 4 [400/500\t(81%)]\tLoss: 0.583426\n",
      "Train Epoch: 5 [0/500\t(1%)]\tLoss: 0.598367\n",
      "Train Epoch: 5 [400/500\t(81%)]\tLoss: 0.657082\n",
      "\n",
      "Worker 60 ends training in Global Round:31 |\n",
      "\n",
      "Worker 63 starts training in Global Round:31 |\n"
     ]
    },
    {
     "data": {
      "application/vnd.jupyter.widget-view+json": {
       "model_id": "4d24c25937d1471e94de89f8b416d5b8",
       "version_major": 2,
       "version_minor": 0
      },
      "text/plain": [
       "HBox(children=(IntProgress(value=0, max=5), HTML(value='')))"
      ]
     },
     "metadata": {},
     "output_type": "display_data"
    },
    {
     "name": "stdout",
     "output_type": "stream",
     "text": [
      "Train Epoch: 1 [0/500\t(1%)]\tLoss: 0.724075\n",
      "Train Epoch: 1 [400/500\t(81%)]\tLoss: 1.260638\n",
      "Train Epoch: 2 [0/500\t(1%)]\tLoss: 1.100508\n",
      "Train Epoch: 2 [400/500\t(81%)]\tLoss: 0.935620\n",
      "Train Epoch: 3 [0/500\t(1%)]\tLoss: 0.738570\n",
      "Train Epoch: 3 [400/500\t(81%)]\tLoss: 0.728289\n",
      "Train Epoch: 4 [0/500\t(1%)]\tLoss: 0.648300\n",
      "Train Epoch: 4 [400/500\t(81%)]\tLoss: 0.580419\n",
      "Train Epoch: 5 [0/500\t(1%)]\tLoss: 0.596830\n",
      "Train Epoch: 5 [400/500\t(81%)]\tLoss: 0.641759\n",
      "\n",
      "Worker 63 ends training in Global Round:31 |\n",
      "\n",
      "Worker 96 starts training in Global Round:31 |\n"
     ]
    },
    {
     "data": {
      "application/vnd.jupyter.widget-view+json": {
       "model_id": "21be36d98d914b15a1667c88229be9f9",
       "version_major": 2,
       "version_minor": 0
      },
      "text/plain": [
       "HBox(children=(IntProgress(value=0, max=5), HTML(value='')))"
      ]
     },
     "metadata": {},
     "output_type": "display_data"
    },
    {
     "name": "stdout",
     "output_type": "stream",
     "text": [
      "Train Epoch: 1 [0/500\t(1%)]\tLoss: 0.956538\n",
      "Train Epoch: 1 [400/500\t(81%)]\tLoss: 1.105951\n",
      "Train Epoch: 2 [0/500\t(1%)]\tLoss: 0.928902\n",
      "Train Epoch: 2 [400/500\t(81%)]\tLoss: 1.134284\n",
      "Train Epoch: 3 [0/500\t(1%)]\tLoss: 0.830595\n",
      "Train Epoch: 3 [400/500\t(81%)]\tLoss: 0.817641\n",
      "Train Epoch: 4 [0/500\t(1%)]\tLoss: 0.819851\n",
      "Train Epoch: 4 [400/500\t(81%)]\tLoss: 0.751561\n",
      "Train Epoch: 5 [0/500\t(1%)]\tLoss: 0.677758\n",
      "Train Epoch: 5 [400/500\t(81%)]\tLoss: 0.749512\n",
      "\n",
      "Worker 96 ends training in Global Round:31 |\n",
      "\n",
      "Worker 55 starts training in Global Round:31 |\n"
     ]
    },
    {
     "data": {
      "application/vnd.jupyter.widget-view+json": {
       "model_id": "68b8d5774c0847e68a601a3951569375",
       "version_major": 2,
       "version_minor": 0
      },
      "text/plain": [
       "HBox(children=(IntProgress(value=0, max=5), HTML(value='')))"
      ]
     },
     "metadata": {},
     "output_type": "display_data"
    },
    {
     "name": "stdout",
     "output_type": "stream",
     "text": [
      "Train Epoch: 1 [0/500\t(1%)]\tLoss: 0.819683\n",
      "Train Epoch: 1 [400/500\t(81%)]\tLoss: 1.087534\n",
      "Train Epoch: 2 [0/500\t(1%)]\tLoss: 0.900519\n",
      "Train Epoch: 2 [400/500\t(81%)]\tLoss: 0.798330\n",
      "Train Epoch: 3 [0/500\t(1%)]\tLoss: 0.631914\n",
      "Train Epoch: 3 [400/500\t(81%)]\tLoss: 0.795080\n",
      "Train Epoch: 4 [0/500\t(1%)]\tLoss: 0.574288\n",
      "Train Epoch: 4 [400/500\t(81%)]\tLoss: 0.704600\n",
      "Train Epoch: 5 [0/500\t(1%)]\tLoss: 0.494866\n",
      "Train Epoch: 5 [400/500\t(81%)]\tLoss: 0.477882\n",
      "\n",
      "Performed attacks 1\n",
      "\n",
      "===>Random attack started by:  Worker 55  in Global Round:  31\n",
      "Random attack strating: \n",
      "Performed attacks 2\n",
      "Worker 55 ends training in Global Round:31 |\n",
      "\n",
      "Worker 5 starts training in Global Round:31 |\n"
     ]
    },
    {
     "data": {
      "application/vnd.jupyter.widget-view+json": {
       "model_id": "513b35497ee645a49ea4b921e8b805c2",
       "version_major": 2,
       "version_minor": 0
      },
      "text/plain": [
       "HBox(children=(IntProgress(value=0, max=5), HTML(value='')))"
      ]
     },
     "metadata": {},
     "output_type": "display_data"
    },
    {
     "name": "stdout",
     "output_type": "stream",
     "text": [
      "Train Epoch: 1 [0/500\t(1%)]\tLoss: 0.772475\n",
      "Train Epoch: 1 [400/500\t(81%)]\tLoss: 0.929309\n",
      "Train Epoch: 2 [0/500\t(1%)]\tLoss: 0.799906\n",
      "Train Epoch: 2 [400/500\t(81%)]\tLoss: 0.659895\n",
      "Train Epoch: 3 [0/500\t(1%)]\tLoss: 0.636054\n",
      "Train Epoch: 3 [400/500\t(81%)]\tLoss: 0.769010\n",
      "Train Epoch: 4 [0/500\t(1%)]\tLoss: 0.574278\n",
      "Train Epoch: 4 [400/500\t(81%)]\tLoss: 0.530985\n",
      "Train Epoch: 5 [0/500\t(1%)]\tLoss: 0.450867\n",
      "Train Epoch: 5 [400/500\t(81%)]\tLoss: 0.467205\n",
      "\n",
      "Worker 5 ends training in Global Round:31 |\n",
      "\n",
      "Worker 70 starts training in Global Round:31 |\n"
     ]
    },
    {
     "data": {
      "application/vnd.jupyter.widget-view+json": {
       "model_id": "e2104d56f0b24086a6c441403200d9c9",
       "version_major": 2,
       "version_minor": 0
      },
      "text/plain": [
       "HBox(children=(IntProgress(value=0, max=5), HTML(value='')))"
      ]
     },
     "metadata": {},
     "output_type": "display_data"
    },
    {
     "name": "stdout",
     "output_type": "stream",
     "text": [
      "Train Epoch: 1 [0/500\t(1%)]\tLoss: 0.878467\n",
      "Train Epoch: 1 [400/500\t(81%)]\tLoss: 1.102690\n",
      "Train Epoch: 2 [0/500\t(1%)]\tLoss: 0.666233\n",
      "Train Epoch: 2 [400/500\t(81%)]\tLoss: 0.769030\n",
      "Train Epoch: 3 [0/500\t(1%)]\tLoss: 0.641077\n",
      "Train Epoch: 3 [400/500\t(81%)]\tLoss: 0.865429\n",
      "Train Epoch: 4 [0/500\t(1%)]\tLoss: 0.434706\n",
      "Train Epoch: 4 [400/500\t(81%)]\tLoss: 0.691791\n",
      "Train Epoch: 5 [0/500\t(1%)]\tLoss: 0.835662\n",
      "Train Epoch: 5 [400/500\t(81%)]\tLoss: 0.650243\n",
      "\n",
      "Worker 70 ends training in Global Round:31 |\n",
      "\n",
      "Worker 49 starts training in Global Round:31 |\n"
     ]
    },
    {
     "data": {
      "application/vnd.jupyter.widget-view+json": {
       "model_id": "f4c48af5d3cc46e0b0a180aa83d858f8",
       "version_major": 2,
       "version_minor": 0
      },
      "text/plain": [
       "HBox(children=(IntProgress(value=0, max=5), HTML(value='')))"
      ]
     },
     "metadata": {},
     "output_type": "display_data"
    },
    {
     "name": "stdout",
     "output_type": "stream",
     "text": [
      "Train Epoch: 1 [0/500\t(1%)]\tLoss: 1.091193\n",
      "Train Epoch: 1 [400/500\t(81%)]\tLoss: 1.143302\n",
      "Train Epoch: 2 [0/500\t(1%)]\tLoss: 0.883833\n",
      "Train Epoch: 2 [400/500\t(81%)]\tLoss: 0.752288\n",
      "Train Epoch: 3 [0/500\t(1%)]\tLoss: 0.594555\n",
      "Train Epoch: 3 [400/500\t(81%)]\tLoss: 0.951300\n",
      "Train Epoch: 4 [0/500\t(1%)]\tLoss: 0.592163\n",
      "Train Epoch: 4 [400/500\t(81%)]\tLoss: 0.770554\n",
      "Train Epoch: 5 [0/500\t(1%)]\tLoss: 0.576386\n",
      "Train Epoch: 5 [400/500\t(81%)]\tLoss: 0.748941\n",
      "\n",
      "Worker 49 ends training in Global Round:31 |\n",
      "\n",
      "Worker 97 starts training in Global Round:31 |\n"
     ]
    },
    {
     "data": {
      "application/vnd.jupyter.widget-view+json": {
       "model_id": "cd5f892e8eab444c9d2acbc219f4b9c0",
       "version_major": 2,
       "version_minor": 0
      },
      "text/plain": [
       "HBox(children=(IntProgress(value=0, max=5), HTML(value='')))"
      ]
     },
     "metadata": {},
     "output_type": "display_data"
    },
    {
     "name": "stdout",
     "output_type": "stream",
     "text": [
      "Train Epoch: 1 [0/500\t(1%)]\tLoss: 0.924859\n",
      "Train Epoch: 1 [400/500\t(81%)]\tLoss: 0.935154\n",
      "Train Epoch: 2 [0/500\t(1%)]\tLoss: 1.069724\n",
      "Train Epoch: 2 [400/500\t(81%)]\tLoss: 0.705124\n",
      "Train Epoch: 3 [0/500\t(1%)]\tLoss: 0.700012\n",
      "Train Epoch: 3 [400/500\t(81%)]\tLoss: 0.864594\n",
      "Train Epoch: 4 [0/500\t(1%)]\tLoss: 0.500665\n",
      "Train Epoch: 4 [400/500\t(81%)]\tLoss: 0.544293\n",
      "Train Epoch: 5 [0/500\t(1%)]\tLoss: 0.535543\n",
      "Train Epoch: 5 [400/500\t(81%)]\tLoss: 0.489353\n",
      "\n",
      "Performed attacks 2\n",
      "\n",
      "===>Random attack started by:  Worker 97  in Global Round:  31\n",
      "Random attack strating: \n",
      "Performed attacks 3\n",
      "Worker 97 ends training in Global Round:31 |\n",
      "\n",
      "Worker 88 starts training in Global Round:31 |\n"
     ]
    },
    {
     "data": {
      "application/vnd.jupyter.widget-view+json": {
       "model_id": "7cdc3b3f73c34e7fbf298abad8787c94",
       "version_major": 2,
       "version_minor": 0
      },
      "text/plain": [
       "HBox(children=(IntProgress(value=0, max=5), HTML(value='')))"
      ]
     },
     "metadata": {},
     "output_type": "display_data"
    },
    {
     "name": "stdout",
     "output_type": "stream",
     "text": [
      "Train Epoch: 1 [0/500\t(1%)]\tLoss: 0.973946\n",
      "Train Epoch: 1 [400/500\t(81%)]\tLoss: 0.853841\n",
      "Train Epoch: 2 [0/500\t(1%)]\tLoss: 0.583026\n",
      "Train Epoch: 2 [400/500\t(81%)]\tLoss: 0.843596\n",
      "Train Epoch: 3 [0/500\t(1%)]\tLoss: 0.610046\n",
      "Train Epoch: 3 [400/500\t(81%)]\tLoss: 0.790174\n",
      "Train Epoch: 4 [0/500\t(1%)]\tLoss: 0.793454\n",
      "Train Epoch: 4 [400/500\t(81%)]\tLoss: 0.594562\n",
      "Train Epoch: 5 [0/500\t(1%)]\tLoss: 0.414754\n",
      "Train Epoch: 5 [400/500\t(81%)]\tLoss: 0.749036\n",
      "\n",
      "Worker 88 ends training in Global Round:31 |\n",
      "\n",
      "Worker 19 starts training in Global Round:31 |\n"
     ]
    },
    {
     "data": {
      "application/vnd.jupyter.widget-view+json": {
       "model_id": "61670c52c66e4582a4cddc3149cf2277",
       "version_major": 2,
       "version_minor": 0
      },
      "text/plain": [
       "HBox(children=(IntProgress(value=0, max=5), HTML(value='')))"
      ]
     },
     "metadata": {},
     "output_type": "display_data"
    },
    {
     "name": "stdout",
     "output_type": "stream",
     "text": [
      "Train Epoch: 1 [0/500\t(1%)]\tLoss: 0.931783\n",
      "Train Epoch: 1 [400/500\t(81%)]\tLoss: 0.939923\n",
      "Train Epoch: 2 [0/500\t(1%)]\tLoss: 0.581144\n",
      "Train Epoch: 2 [400/500\t(81%)]\tLoss: 0.772538\n",
      "Train Epoch: 3 [0/500\t(1%)]\tLoss: 0.514982\n",
      "Train Epoch: 3 [400/500\t(81%)]\tLoss: 0.761722\n",
      "Train Epoch: 4 [0/500\t(1%)]\tLoss: 0.698402\n",
      "Train Epoch: 4 [400/500\t(81%)]\tLoss: 0.543103\n",
      "Train Epoch: 5 [0/500\t(1%)]\tLoss: 0.473560\n",
      "Train Epoch: 5 [400/500\t(81%)]\tLoss: 0.479988\n",
      "\n",
      "Performed attacks 3\n",
      "\n",
      "===>Random attack started by:  Worker 19  in Global Round:  31\n",
      "Random attack strating: \n",
      "Performed attacks 4\n",
      "Worker 19 ends training in Global Round:31 |\n",
      "\n",
      "Worker 24 starts training in Global Round:31 |\n"
     ]
    },
    {
     "data": {
      "application/vnd.jupyter.widget-view+json": {
       "model_id": "bd50d59ab99145a89ccec3a4f786f25b",
       "version_major": 2,
       "version_minor": 0
      },
      "text/plain": [
       "HBox(children=(IntProgress(value=0, max=5), HTML(value='')))"
      ]
     },
     "metadata": {},
     "output_type": "display_data"
    },
    {
     "name": "stdout",
     "output_type": "stream",
     "text": [
      "Train Epoch: 1 [0/500\t(1%)]\tLoss: 0.686706\n",
      "Train Epoch: 1 [400/500\t(81%)]\tLoss: 0.780082\n",
      "Train Epoch: 2 [0/500\t(1%)]\tLoss: 0.684322\n",
      "Train Epoch: 2 [400/500\t(81%)]\tLoss: 0.643850\n",
      "Train Epoch: 3 [0/500\t(1%)]\tLoss: 0.586016\n",
      "Train Epoch: 3 [400/500\t(81%)]\tLoss: 0.735658\n",
      "Train Epoch: 4 [0/500\t(1%)]\tLoss: 0.571734\n",
      "Train Epoch: 4 [400/500\t(81%)]\tLoss: 0.716690\n",
      "Train Epoch: 5 [0/500\t(1%)]\tLoss: 0.667111\n",
      "Train Epoch: 5 [400/500\t(81%)]\tLoss: 0.625317\n",
      "\n",
      "Worker 24 ends training in Global Round:31 |\n",
      "\n",
      "Worker 37 starts training in Global Round:31 |\n"
     ]
    },
    {
     "data": {
      "application/vnd.jupyter.widget-view+json": {
       "model_id": "4d73cf46dab74177b9699ec37a895901",
       "version_major": 2,
       "version_minor": 0
      },
      "text/plain": [
       "HBox(children=(IntProgress(value=0, max=5), HTML(value='')))"
      ]
     },
     "metadata": {},
     "output_type": "display_data"
    },
    {
     "name": "stdout",
     "output_type": "stream",
     "text": [
      "Train Epoch: 1 [0/500\t(1%)]\tLoss: 0.948505\n",
      "Train Epoch: 1 [400/500\t(81%)]\tLoss: 1.128645\n",
      "Train Epoch: 2 [0/500\t(1%)]\tLoss: 0.789579\n",
      "Train Epoch: 2 [400/500\t(81%)]\tLoss: 0.817303\n",
      "Train Epoch: 3 [0/500\t(1%)]\tLoss: 0.638832\n",
      "Train Epoch: 3 [400/500\t(81%)]\tLoss: 0.878321\n",
      "Train Epoch: 4 [0/500\t(1%)]\tLoss: 0.823612\n",
      "Train Epoch: 4 [400/500\t(81%)]\tLoss: 0.809077\n",
      "Train Epoch: 5 [0/500\t(1%)]\tLoss: 0.645886\n",
      "Train Epoch: 5 [400/500\t(81%)]\tLoss: 0.628197\n",
      "\n",
      "Worker 37 ends training in Global Round:31 |\n",
      "\n",
      "Worker 26 starts training in Global Round:31 |\n"
     ]
    },
    {
     "data": {
      "application/vnd.jupyter.widget-view+json": {
       "model_id": "cbd2303151be40c2a101b1ecc41f7511",
       "version_major": 2,
       "version_minor": 0
      },
      "text/plain": [
       "HBox(children=(IntProgress(value=0, max=5), HTML(value='')))"
      ]
     },
     "metadata": {},
     "output_type": "display_data"
    },
    {
     "name": "stdout",
     "output_type": "stream",
     "text": [
      "Train Epoch: 1 [0/500\t(1%)]\tLoss: 0.877213\n",
      "Train Epoch: 1 [400/500\t(81%)]\tLoss: 1.058013\n",
      "Train Epoch: 2 [0/500\t(1%)]\tLoss: 0.895372\n",
      "Train Epoch: 2 [400/500\t(81%)]\tLoss: 0.736732\n",
      "Train Epoch: 3 [0/500\t(1%)]\tLoss: 0.680959\n",
      "Train Epoch: 3 [400/500\t(81%)]\tLoss: 0.601320\n",
      "Train Epoch: 4 [0/500\t(1%)]\tLoss: 0.692861\n",
      "Train Epoch: 4 [400/500\t(81%)]\tLoss: 0.581950\n",
      "Train Epoch: 5 [0/500\t(1%)]\tLoss: 0.521830\n",
      "Train Epoch: 5 [400/500\t(81%)]\tLoss: 0.650351\n",
      "\n",
      "Worker 26 ends training in Global Round:31 |\n",
      "\n",
      "Average loss: 1.0535, Accuracy: 6557/10000 (66%)\n",
      "\n",
      "\n",
      "Selected workers\n",
      "\n",
      "[19 80 54 89 16 45 29 75 67 50 32 95 31  5  1]\n",
      "Worker 19 : is  Random_Attacker\n",
      "Worker 80 : is  Honest\n",
      "Worker 54 : is  Honest\n",
      "Worker 89 : is  Random_Attacker\n",
      "Worker 16 : is  Random_Attacker\n",
      "Worker 45 : is  Honest\n",
      "Worker 29 : is  Honest\n",
      "Worker 75 : is  Random_Attacker\n",
      "Worker 67 : is  Random_Attacker\n",
      "Worker 50 : is  Random_Attacker\n",
      "Worker 32 : is  Honest\n",
      "Worker 95 : is  Honest\n",
      "Worker 31 : is  Random_Attacker\n",
      "Worker 5 : is  Honest\n",
      "Worker 1 : is  Honest\n",
      "\n",
      " | Global Training Round : 32 |\n",
      "\n",
      "\n",
      "Worker 19 starts training in Global Round:32 |\n"
     ]
    },
    {
     "data": {
      "application/vnd.jupyter.widget-view+json": {
       "model_id": "f71979fc72fd4084ba1a5e2e717d1282",
       "version_major": 2,
       "version_minor": 0
      },
      "text/plain": [
       "HBox(children=(IntProgress(value=0, max=5), HTML(value='')))"
      ]
     },
     "metadata": {},
     "output_type": "display_data"
    },
    {
     "name": "stdout",
     "output_type": "stream",
     "text": [
      "Train Epoch: 1 [0/500\t(1%)]\tLoss: 0.751248\n",
      "Train Epoch: 1 [400/500\t(81%)]\tLoss: 0.955868\n",
      "Train Epoch: 2 [0/500\t(1%)]\tLoss: 0.551942\n",
      "Train Epoch: 2 [400/500\t(81%)]\tLoss: 0.719026\n",
      "Train Epoch: 3 [0/500\t(1%)]\tLoss: 0.618680\n",
      "Train Epoch: 3 [400/500\t(81%)]\tLoss: 0.601047\n",
      "Train Epoch: 4 [0/500\t(1%)]\tLoss: 0.593298\n",
      "Train Epoch: 4 [400/500\t(81%)]\tLoss: 0.492613\n",
      "Train Epoch: 5 [0/500\t(1%)]\tLoss: 0.368429\n",
      "Train Epoch: 5 [400/500\t(81%)]\tLoss: 0.597017\n",
      "\n",
      "Performed attacks 0\n",
      "\n",
      "===>Random attack started by:  Worker 19  in Global Round:  32\n",
      "Random attack strating: \n",
      "Performed attacks 1\n",
      "Worker 19 ends training in Global Round:32 |\n",
      "\n",
      "Worker 80 starts training in Global Round:32 |\n"
     ]
    },
    {
     "data": {
      "application/vnd.jupyter.widget-view+json": {
       "model_id": "875980b821a44ead9d9f81687452e0a5",
       "version_major": 2,
       "version_minor": 0
      },
      "text/plain": [
       "HBox(children=(IntProgress(value=0, max=5), HTML(value='')))"
      ]
     },
     "metadata": {},
     "output_type": "display_data"
    },
    {
     "name": "stdout",
     "output_type": "stream",
     "text": [
      "Train Epoch: 1 [0/500\t(1%)]\tLoss: 0.905799\n",
      "Train Epoch: 1 [400/500\t(81%)]\tLoss: 1.185314\n",
      "Train Epoch: 2 [0/500\t(1%)]\tLoss: 0.738519\n",
      "Train Epoch: 2 [400/500\t(81%)]\tLoss: 0.831100\n",
      "Train Epoch: 3 [0/500\t(1%)]\tLoss: 0.685887\n",
      "Train Epoch: 3 [400/500\t(81%)]\tLoss: 0.574803\n",
      "Train Epoch: 4 [0/500\t(1%)]\tLoss: 0.546077\n",
      "Train Epoch: 4 [400/500\t(81%)]\tLoss: 0.946947\n",
      "Train Epoch: 5 [0/500\t(1%)]\tLoss: 0.431479\n",
      "Train Epoch: 5 [400/500\t(81%)]\tLoss: 0.448500\n",
      "\n",
      "Worker 80 ends training in Global Round:32 |\n",
      "\n",
      "Worker 54 starts training in Global Round:32 |\n"
     ]
    },
    {
     "data": {
      "application/vnd.jupyter.widget-view+json": {
       "model_id": "2c18ff0e4a8d465892b0b75976a8aba4",
       "version_major": 2,
       "version_minor": 0
      },
      "text/plain": [
       "HBox(children=(IntProgress(value=0, max=5), HTML(value='')))"
      ]
     },
     "metadata": {},
     "output_type": "display_data"
    },
    {
     "name": "stdout",
     "output_type": "stream",
     "text": [
      "Train Epoch: 1 [0/500\t(1%)]\tLoss: 0.935268\n",
      "Train Epoch: 1 [400/500\t(81%)]\tLoss: 0.952164\n",
      "Train Epoch: 2 [0/500\t(1%)]\tLoss: 0.737844\n",
      "Train Epoch: 2 [400/500\t(81%)]\tLoss: 0.967933\n",
      "Train Epoch: 3 [0/500\t(1%)]\tLoss: 0.684874\n",
      "Train Epoch: 3 [400/500\t(81%)]\tLoss: 0.624100\n",
      "Train Epoch: 4 [0/500\t(1%)]\tLoss: 0.730456\n",
      "Train Epoch: 4 [400/500\t(81%)]\tLoss: 0.694244\n",
      "Train Epoch: 5 [0/500\t(1%)]\tLoss: 0.629013\n",
      "Train Epoch: 5 [400/500\t(81%)]\tLoss: 0.637945\n",
      "\n",
      "Worker 54 ends training in Global Round:32 |\n",
      "\n",
      "Worker 89 starts training in Global Round:32 |\n"
     ]
    },
    {
     "data": {
      "application/vnd.jupyter.widget-view+json": {
       "model_id": "bb2293fa96b344f98ad5cd7a738a2066",
       "version_major": 2,
       "version_minor": 0
      },
      "text/plain": [
       "HBox(children=(IntProgress(value=0, max=5), HTML(value='')))"
      ]
     },
     "metadata": {},
     "output_type": "display_data"
    },
    {
     "name": "stdout",
     "output_type": "stream",
     "text": [
      "Train Epoch: 1 [0/500\t(1%)]\tLoss: 0.778116\n",
      "Train Epoch: 1 [400/500\t(81%)]\tLoss: 1.151451\n",
      "Train Epoch: 2 [0/500\t(1%)]\tLoss: 0.802966\n",
      "Train Epoch: 2 [400/500\t(81%)]\tLoss: 0.988737\n",
      "Train Epoch: 3 [0/500\t(1%)]\tLoss: 0.588785\n",
      "Train Epoch: 3 [400/500\t(81%)]\tLoss: 1.003270\n",
      "Train Epoch: 4 [0/500\t(1%)]\tLoss: 0.763247\n",
      "Train Epoch: 4 [400/500\t(81%)]\tLoss: 0.665703\n",
      "Train Epoch: 5 [0/500\t(1%)]\tLoss: 0.499141\n",
      "Train Epoch: 5 [400/500\t(81%)]\tLoss: 0.595886\n",
      "\n",
      "Performed attacks 1\n",
      "\n",
      "===>Random attack started by:  Worker 89  in Global Round:  32\n",
      "Random attack strating: \n",
      "Performed attacks 2\n",
      "Worker 89 ends training in Global Round:32 |\n",
      "\n",
      "Worker 16 starts training in Global Round:32 |\n"
     ]
    },
    {
     "data": {
      "application/vnd.jupyter.widget-view+json": {
       "model_id": "1d02e3d2af23409383bd483b520bcd2a",
       "version_major": 2,
       "version_minor": 0
      },
      "text/plain": [
       "HBox(children=(IntProgress(value=0, max=5), HTML(value='')))"
      ]
     },
     "metadata": {},
     "output_type": "display_data"
    },
    {
     "name": "stdout",
     "output_type": "stream",
     "text": [
      "Train Epoch: 1 [0/500\t(1%)]\tLoss: 0.787023\n",
      "Train Epoch: 1 [400/500\t(81%)]\tLoss: 1.106833\n",
      "Train Epoch: 2 [0/500\t(1%)]\tLoss: 0.798086\n",
      "Train Epoch: 2 [400/500\t(81%)]\tLoss: 0.919027\n",
      "Train Epoch: 3 [0/500\t(1%)]\tLoss: 0.639300\n",
      "Train Epoch: 3 [400/500\t(81%)]\tLoss: 0.776688\n",
      "Train Epoch: 4 [0/500\t(1%)]\tLoss: 0.593790\n",
      "Train Epoch: 4 [400/500\t(81%)]\tLoss: 0.812750\n",
      "Train Epoch: 5 [0/500\t(1%)]\tLoss: 0.459359\n",
      "Train Epoch: 5 [400/500\t(81%)]\tLoss: 0.760181\n",
      "\n",
      "Performed attacks 2\n",
      "\n",
      "===>Random attack started by:  Worker 16  in Global Round:  32\n",
      "Random attack strating: \n",
      "Performed attacks 3\n",
      "Worker 16 ends training in Global Round:32 |\n",
      "\n",
      "Worker 45 starts training in Global Round:32 |\n"
     ]
    },
    {
     "data": {
      "application/vnd.jupyter.widget-view+json": {
       "model_id": "8502afa2f4c94645a387fb98f6f6af3f",
       "version_major": 2,
       "version_minor": 0
      },
      "text/plain": [
       "HBox(children=(IntProgress(value=0, max=5), HTML(value='')))"
      ]
     },
     "metadata": {},
     "output_type": "display_data"
    },
    {
     "name": "stdout",
     "output_type": "stream",
     "text": [
      "Train Epoch: 1 [0/500\t(1%)]\tLoss: 0.956094\n",
      "Train Epoch: 1 [400/500\t(81%)]\tLoss: 0.830355\n",
      "Train Epoch: 2 [0/500\t(1%)]\tLoss: 0.640169\n",
      "Train Epoch: 2 [400/500\t(81%)]\tLoss: 0.594182\n",
      "Train Epoch: 3 [0/500\t(1%)]\tLoss: 0.701374\n",
      "Train Epoch: 3 [400/500\t(81%)]\tLoss: 0.950339\n",
      "Train Epoch: 4 [0/500\t(1%)]\tLoss: 0.618828\n",
      "Train Epoch: 4 [400/500\t(81%)]\tLoss: 0.589500\n",
      "Train Epoch: 5 [0/500\t(1%)]\tLoss: 0.644199\n",
      "Train Epoch: 5 [400/500\t(81%)]\tLoss: 0.671297\n",
      "\n",
      "Worker 45 ends training in Global Round:32 |\n",
      "\n",
      "Worker 29 starts training in Global Round:32 |\n"
     ]
    },
    {
     "data": {
      "application/vnd.jupyter.widget-view+json": {
       "model_id": "295a945eef4442cd82a72fb0971d2381",
       "version_major": 2,
       "version_minor": 0
      },
      "text/plain": [
       "HBox(children=(IntProgress(value=0, max=5), HTML(value='')))"
      ]
     },
     "metadata": {},
     "output_type": "display_data"
    },
    {
     "name": "stdout",
     "output_type": "stream",
     "text": [
      "Train Epoch: 1 [0/500\t(1%)]\tLoss: 0.843352\n",
      "Train Epoch: 1 [400/500\t(81%)]\tLoss: 1.068181\n",
      "Train Epoch: 2 [0/500\t(1%)]\tLoss: 0.730568\n",
      "Train Epoch: 2 [400/500\t(81%)]\tLoss: 0.774580\n",
      "Train Epoch: 3 [0/500\t(1%)]\tLoss: 0.769449\n",
      "Train Epoch: 3 [400/500\t(81%)]\tLoss: 0.738985\n",
      "Train Epoch: 4 [0/500\t(1%)]\tLoss: 0.561791\n",
      "Train Epoch: 4 [400/500\t(81%)]\tLoss: 0.584129\n",
      "Train Epoch: 5 [0/500\t(1%)]\tLoss: 0.535309\n",
      "Train Epoch: 5 [400/500\t(81%)]\tLoss: 0.560997\n",
      "\n",
      "Worker 29 ends training in Global Round:32 |\n",
      "\n",
      "Worker 75 starts training in Global Round:32 |\n"
     ]
    },
    {
     "data": {
      "application/vnd.jupyter.widget-view+json": {
       "model_id": "6027087d62e94758a7305d10bba3ad61",
       "version_major": 2,
       "version_minor": 0
      },
      "text/plain": [
       "HBox(children=(IntProgress(value=0, max=5), HTML(value='')))"
      ]
     },
     "metadata": {},
     "output_type": "display_data"
    },
    {
     "name": "stdout",
     "output_type": "stream",
     "text": [
      "Train Epoch: 1 [0/500\t(1%)]\tLoss: 1.111234\n",
      "Train Epoch: 1 [400/500\t(81%)]\tLoss: 0.947796\n",
      "Train Epoch: 2 [0/500\t(1%)]\tLoss: 0.784990\n",
      "Train Epoch: 2 [400/500\t(81%)]\tLoss: 0.753048\n",
      "Train Epoch: 3 [0/500\t(1%)]\tLoss: 0.629316\n",
      "Train Epoch: 3 [400/500\t(81%)]\tLoss: 0.964736\n",
      "Train Epoch: 4 [0/500\t(1%)]\tLoss: 0.597131\n",
      "Train Epoch: 4 [400/500\t(81%)]\tLoss: 0.709852\n",
      "Train Epoch: 5 [0/500\t(1%)]\tLoss: 0.470220\n",
      "Train Epoch: 5 [400/500\t(81%)]\tLoss: 0.606375\n",
      "\n",
      "Performed attacks 3\n",
      "\n",
      "===>Random attack started by:  Worker 75  in Global Round:  32\n",
      "Random attack strating: \n",
      "Performed attacks 4\n",
      "Worker 75 ends training in Global Round:32 |\n",
      "\n",
      "Worker 67 starts training in Global Round:32 |\n"
     ]
    },
    {
     "data": {
      "application/vnd.jupyter.widget-view+json": {
       "model_id": "bb0bfcdacfbe47cb8a013e62316a48ee",
       "version_major": 2,
       "version_minor": 0
      },
      "text/plain": [
       "HBox(children=(IntProgress(value=0, max=5), HTML(value='')))"
      ]
     },
     "metadata": {},
     "output_type": "display_data"
    },
    {
     "name": "stdout",
     "output_type": "stream",
     "text": [
      "Train Epoch: 1 [0/500\t(1%)]\tLoss: 1.035329\n",
      "Train Epoch: 1 [400/500\t(81%)]\tLoss: 1.265532\n",
      "Train Epoch: 2 [0/500\t(1%)]\tLoss: 0.673879\n",
      "Train Epoch: 2 [400/500\t(81%)]\tLoss: 1.088450\n",
      "Train Epoch: 3 [0/500\t(1%)]\tLoss: 0.808087\n",
      "Train Epoch: 3 [400/500\t(81%)]\tLoss: 1.021834\n",
      "Train Epoch: 4 [0/500\t(1%)]\tLoss: 0.758288\n",
      "Train Epoch: 4 [400/500\t(81%)]\tLoss: 0.609203\n",
      "Train Epoch: 5 [0/500\t(1%)]\tLoss: 0.665108\n",
      "Train Epoch: 5 [400/500\t(81%)]\tLoss: 0.756632\n",
      "\n",
      "Worker 67 ends training in Global Round:32 |\n",
      "\n",
      "Worker 50 starts training in Global Round:32 |\n"
     ]
    },
    {
     "data": {
      "application/vnd.jupyter.widget-view+json": {
       "model_id": "7c3be37e62cf463da7ff96fc8031a72f",
       "version_major": 2,
       "version_minor": 0
      },
      "text/plain": [
       "HBox(children=(IntProgress(value=0, max=5), HTML(value='')))"
      ]
     },
     "metadata": {},
     "output_type": "display_data"
    },
    {
     "name": "stdout",
     "output_type": "stream",
     "text": [
      "Train Epoch: 1 [0/500\t(1%)]\tLoss: 1.078874\n",
      "Train Epoch: 1 [400/500\t(81%)]\tLoss: 1.187006\n",
      "Train Epoch: 2 [0/500\t(1%)]\tLoss: 0.851750\n",
      "Train Epoch: 2 [400/500\t(81%)]\tLoss: 0.908075\n",
      "Train Epoch: 3 [0/500\t(1%)]\tLoss: 0.774272\n",
      "Train Epoch: 3 [400/500\t(81%)]\tLoss: 0.916209\n",
      "Train Epoch: 4 [0/500\t(1%)]\tLoss: 0.596632\n",
      "Train Epoch: 4 [400/500\t(81%)]\tLoss: 0.658409\n",
      "Train Epoch: 5 [0/500\t(1%)]\tLoss: 0.515796\n",
      "Train Epoch: 5 [400/500\t(81%)]\tLoss: 0.470202\n",
      "\n",
      "Worker 50 ends training in Global Round:32 |\n",
      "\n",
      "Worker 32 starts training in Global Round:32 |\n"
     ]
    },
    {
     "data": {
      "application/vnd.jupyter.widget-view+json": {
       "model_id": "b254b4e90eba494ebbe87d7a35c6af1c",
       "version_major": 2,
       "version_minor": 0
      },
      "text/plain": [
       "HBox(children=(IntProgress(value=0, max=5), HTML(value='')))"
      ]
     },
     "metadata": {},
     "output_type": "display_data"
    },
    {
     "name": "stdout",
     "output_type": "stream",
     "text": [
      "Train Epoch: 1 [0/500\t(1%)]\tLoss: 1.196542\n",
      "Train Epoch: 1 [400/500\t(81%)]\tLoss: 1.155075\n",
      "Train Epoch: 2 [0/500\t(1%)]\tLoss: 0.748810\n",
      "Train Epoch: 2 [400/500\t(81%)]\tLoss: 1.056442\n",
      "Train Epoch: 3 [0/500\t(1%)]\tLoss: 0.823953\n",
      "Train Epoch: 3 [400/500\t(81%)]\tLoss: 0.922520\n",
      "Train Epoch: 4 [0/500\t(1%)]\tLoss: 0.769331\n",
      "Train Epoch: 4 [400/500\t(81%)]\tLoss: 0.674238\n",
      "Train Epoch: 5 [0/500\t(1%)]\tLoss: 0.491034\n",
      "Train Epoch: 5 [400/500\t(81%)]\tLoss: 0.486663\n",
      "\n",
      "Worker 32 ends training in Global Round:32 |\n",
      "\n",
      "Worker 95 starts training in Global Round:32 |\n"
     ]
    },
    {
     "data": {
      "application/vnd.jupyter.widget-view+json": {
       "model_id": "cc54de04f08c4554a6632969cdd70574",
       "version_major": 2,
       "version_minor": 0
      },
      "text/plain": [
       "HBox(children=(IntProgress(value=0, max=5), HTML(value='')))"
      ]
     },
     "metadata": {},
     "output_type": "display_data"
    },
    {
     "name": "stdout",
     "output_type": "stream",
     "text": [
      "Train Epoch: 1 [0/500\t(1%)]\tLoss: 0.691422\n",
      "Train Epoch: 1 [400/500\t(81%)]\tLoss: 1.121710\n",
      "Train Epoch: 2 [0/500\t(1%)]\tLoss: 0.774808\n",
      "Train Epoch: 2 [400/500\t(81%)]\tLoss: 0.890392\n",
      "Train Epoch: 3 [0/500\t(1%)]\tLoss: 0.531501\n",
      "Train Epoch: 3 [400/500\t(81%)]\tLoss: 0.586294\n",
      "Train Epoch: 4 [0/500\t(1%)]\tLoss: 0.493850\n",
      "Train Epoch: 4 [400/500\t(81%)]\tLoss: 0.409207\n",
      "Train Epoch: 5 [0/500\t(1%)]\tLoss: 0.569848\n",
      "Train Epoch: 5 [400/500\t(81%)]\tLoss: 0.610866\n",
      "\n",
      "Worker 95 ends training in Global Round:32 |\n",
      "\n",
      "Worker 31 starts training in Global Round:32 |\n"
     ]
    },
    {
     "data": {
      "application/vnd.jupyter.widget-view+json": {
       "model_id": "2dd81bedc40640cdbb2a6a6bf9103653",
       "version_major": 2,
       "version_minor": 0
      },
      "text/plain": [
       "HBox(children=(IntProgress(value=0, max=5), HTML(value='')))"
      ]
     },
     "metadata": {},
     "output_type": "display_data"
    },
    {
     "name": "stdout",
     "output_type": "stream",
     "text": [
      "Train Epoch: 1 [0/500\t(1%)]\tLoss: 0.962031\n",
      "Train Epoch: 1 [400/500\t(81%)]\tLoss: 1.038599\n",
      "Train Epoch: 2 [0/500\t(1%)]\tLoss: 0.915744\n",
      "Train Epoch: 2 [400/500\t(81%)]\tLoss: 0.785616\n",
      "Train Epoch: 3 [0/500\t(1%)]\tLoss: 0.630550\n",
      "Train Epoch: 3 [400/500\t(81%)]\tLoss: 0.685514\n",
      "Train Epoch: 4 [0/500\t(1%)]\tLoss: 0.622814\n",
      "Train Epoch: 4 [400/500\t(81%)]\tLoss: 0.736712\n",
      "Train Epoch: 5 [0/500\t(1%)]\tLoss: 0.485051\n",
      "Train Epoch: 5 [400/500\t(81%)]\tLoss: 0.521671\n",
      "\n",
      "Worker 31 ends training in Global Round:32 |\n",
      "\n",
      "Worker 5 starts training in Global Round:32 |\n"
     ]
    },
    {
     "data": {
      "application/vnd.jupyter.widget-view+json": {
       "model_id": "422ef22e76c04104b0ed0f45a7e00cb1",
       "version_major": 2,
       "version_minor": 0
      },
      "text/plain": [
       "HBox(children=(IntProgress(value=0, max=5), HTML(value='')))"
      ]
     },
     "metadata": {},
     "output_type": "display_data"
    },
    {
     "name": "stdout",
     "output_type": "stream",
     "text": [
      "Train Epoch: 1 [0/500\t(1%)]\tLoss: 0.650881\n",
      "Train Epoch: 1 [400/500\t(81%)]\tLoss: 0.840819\n",
      "Train Epoch: 2 [0/500\t(1%)]\tLoss: 0.620270\n",
      "Train Epoch: 2 [400/500\t(81%)]\tLoss: 0.993239\n",
      "Train Epoch: 3 [0/500\t(1%)]\tLoss: 0.462692\n",
      "Train Epoch: 3 [400/500\t(81%)]\tLoss: 0.608077\n",
      "Train Epoch: 4 [0/500\t(1%)]\tLoss: 0.628175\n",
      "Train Epoch: 4 [400/500\t(81%)]\tLoss: 0.640922\n",
      "Train Epoch: 5 [0/500\t(1%)]\tLoss: 0.483481\n",
      "Train Epoch: 5 [400/500\t(81%)]\tLoss: 0.816093\n",
      "\n",
      "Worker 5 ends training in Global Round:32 |\n",
      "\n",
      "Worker 1 starts training in Global Round:32 |\n"
     ]
    },
    {
     "data": {
      "application/vnd.jupyter.widget-view+json": {
       "model_id": "926a9436e5ce4091b03f3474a5ded01d",
       "version_major": 2,
       "version_minor": 0
      },
      "text/plain": [
       "HBox(children=(IntProgress(value=0, max=5), HTML(value='')))"
      ]
     },
     "metadata": {},
     "output_type": "display_data"
    },
    {
     "name": "stdout",
     "output_type": "stream",
     "text": [
      "Train Epoch: 1 [0/500\t(1%)]\tLoss: 0.703002\n",
      "Train Epoch: 1 [400/500\t(81%)]\tLoss: 0.863489\n",
      "Train Epoch: 2 [0/500\t(1%)]\tLoss: 0.705120\n",
      "Train Epoch: 2 [400/500\t(81%)]\tLoss: 1.049480\n",
      "Train Epoch: 3 [0/500\t(1%)]\tLoss: 0.707061\n",
      "Train Epoch: 3 [400/500\t(81%)]\tLoss: 0.892214\n",
      "Train Epoch: 4 [0/500\t(1%)]\tLoss: 0.769013\n",
      "Train Epoch: 4 [400/500\t(81%)]\tLoss: 0.816671\n",
      "Train Epoch: 5 [0/500\t(1%)]\tLoss: 0.829899\n",
      "Train Epoch: 5 [400/500\t(81%)]\tLoss: 0.665339\n",
      "\n",
      "Worker 1 ends training in Global Round:32 |\n",
      "\n",
      "Average loss: 1.0482, Accuracy: 6605/10000 (66%)\n",
      "\n",
      "\n",
      "Selected workers\n",
      "\n",
      "[ 26  90  11   8  46  89  13  68  50  63  47  33 100  70  72]\n",
      "Worker 26 : is  Honest\n",
      "Worker 90 : is  Honest\n",
      "Worker 11 : is  Honest\n",
      "Worker 8 : is  Honest\n",
      "Worker 46 : is  Random_Attacker\n",
      "Worker 89 : is  Random_Attacker\n",
      "Worker 13 : is  Random_Attacker\n",
      "Worker 68 : is  Honest\n",
      "Worker 50 : is  Random_Attacker\n",
      "Worker 63 : is  Honest\n",
      "Worker 47 : is  Honest\n",
      "Worker 33 : is  Random_Attacker\n",
      "Worker 100 : is  Honest\n",
      "Worker 70 : is  Honest\n",
      "Worker 72 : is  Random_Attacker\n",
      "\n",
      " | Global Training Round : 33 |\n",
      "\n",
      "\n",
      "Worker 26 starts training in Global Round:33 |\n"
     ]
    },
    {
     "data": {
      "application/vnd.jupyter.widget-view+json": {
       "model_id": "a63c339d88dd4a2d8b721e60d321d172",
       "version_major": 2,
       "version_minor": 0
      },
      "text/plain": [
       "HBox(children=(IntProgress(value=0, max=5), HTML(value='')))"
      ]
     },
     "metadata": {},
     "output_type": "display_data"
    },
    {
     "name": "stdout",
     "output_type": "stream",
     "text": [
      "Train Epoch: 1 [0/500\t(1%)]\tLoss: 0.899055\n",
      "Train Epoch: 1 [400/500\t(81%)]\tLoss: 0.934339\n",
      "Train Epoch: 2 [0/500\t(1%)]\tLoss: 0.803227\n",
      "Train Epoch: 2 [400/500\t(81%)]\tLoss: 0.719783\n",
      "Train Epoch: 3 [0/500\t(1%)]\tLoss: 0.681080\n",
      "Train Epoch: 3 [400/500\t(81%)]\tLoss: 0.844894\n",
      "Train Epoch: 4 [0/500\t(1%)]\tLoss: 0.700917\n",
      "Train Epoch: 4 [400/500\t(81%)]\tLoss: 0.456698\n",
      "Train Epoch: 5 [0/500\t(1%)]\tLoss: 0.439882\n",
      "Train Epoch: 5 [400/500\t(81%)]\tLoss: 0.551649\n",
      "\n",
      "Worker 26 ends training in Global Round:33 |\n",
      "\n",
      "Worker 90 starts training in Global Round:33 |\n"
     ]
    },
    {
     "data": {
      "application/vnd.jupyter.widget-view+json": {
       "model_id": "f9951b8285c14a5cb04c7c33b0404641",
       "version_major": 2,
       "version_minor": 0
      },
      "text/plain": [
       "HBox(children=(IntProgress(value=0, max=5), HTML(value='')))"
      ]
     },
     "metadata": {},
     "output_type": "display_data"
    },
    {
     "name": "stdout",
     "output_type": "stream",
     "text": [
      "Train Epoch: 1 [0/500\t(1%)]\tLoss: 1.019186\n",
      "Train Epoch: 1 [400/500\t(81%)]\tLoss: 1.168968\n",
      "Train Epoch: 2 [0/500\t(1%)]\tLoss: 0.597816\n",
      "Train Epoch: 2 [400/500\t(81%)]\tLoss: 0.729977\n",
      "Train Epoch: 3 [0/500\t(1%)]\tLoss: 0.641961\n",
      "Train Epoch: 3 [400/500\t(81%)]\tLoss: 0.623820\n",
      "Train Epoch: 4 [0/500\t(1%)]\tLoss: 0.660671\n",
      "Train Epoch: 4 [400/500\t(81%)]\tLoss: 0.686836\n",
      "Train Epoch: 5 [0/500\t(1%)]\tLoss: 0.472539\n",
      "Train Epoch: 5 [400/500\t(81%)]\tLoss: 0.661334\n",
      "\n",
      "Worker 90 ends training in Global Round:33 |\n",
      "\n",
      "Worker 11 starts training in Global Round:33 |\n"
     ]
    },
    {
     "data": {
      "application/vnd.jupyter.widget-view+json": {
       "model_id": "7d313f66d4e24d9f8c21dd7c5346d3da",
       "version_major": 2,
       "version_minor": 0
      },
      "text/plain": [
       "HBox(children=(IntProgress(value=0, max=5), HTML(value='')))"
      ]
     },
     "metadata": {},
     "output_type": "display_data"
    },
    {
     "name": "stdout",
     "output_type": "stream",
     "text": [
      "Train Epoch: 1 [0/500\t(1%)]\tLoss: 1.131955\n",
      "Train Epoch: 1 [400/500\t(81%)]\tLoss: 1.337615\n",
      "Train Epoch: 2 [0/500\t(1%)]\tLoss: 0.796921\n",
      "Train Epoch: 2 [400/500\t(81%)]\tLoss: 0.954126\n",
      "Train Epoch: 3 [0/500\t(1%)]\tLoss: 0.817326\n",
      "Train Epoch: 3 [400/500\t(81%)]\tLoss: 0.888866\n",
      "Train Epoch: 4 [0/500\t(1%)]\tLoss: 0.682800\n",
      "Train Epoch: 4 [400/500\t(81%)]\tLoss: 0.708267\n",
      "Train Epoch: 5 [0/500\t(1%)]\tLoss: 0.490286\n",
      "Train Epoch: 5 [400/500\t(81%)]\tLoss: 0.525421\n",
      "\n",
      "Worker 11 ends training in Global Round:33 |\n",
      "\n",
      "Worker 8 starts training in Global Round:33 |\n"
     ]
    },
    {
     "data": {
      "application/vnd.jupyter.widget-view+json": {
       "model_id": "821fbdf85fb94e598593a4373f93f7a6",
       "version_major": 2,
       "version_minor": 0
      },
      "text/plain": [
       "HBox(children=(IntProgress(value=0, max=5), HTML(value='')))"
      ]
     },
     "metadata": {},
     "output_type": "display_data"
    },
    {
     "name": "stdout",
     "output_type": "stream",
     "text": [
      "Train Epoch: 1 [0/500\t(1%)]\tLoss: 0.873610\n",
      "Train Epoch: 1 [400/500\t(81%)]\tLoss: 0.898257\n",
      "Train Epoch: 2 [0/500\t(1%)]\tLoss: 0.779742\n",
      "Train Epoch: 2 [400/500\t(81%)]\tLoss: 0.953761\n",
      "Train Epoch: 3 [0/500\t(1%)]\tLoss: 0.819429\n",
      "Train Epoch: 3 [400/500\t(81%)]\tLoss: 0.605344\n",
      "Train Epoch: 4 [0/500\t(1%)]\tLoss: 0.523723\n",
      "Train Epoch: 4 [400/500\t(81%)]\tLoss: 0.521912\n",
      "Train Epoch: 5 [0/500\t(1%)]\tLoss: 0.624995\n",
      "Train Epoch: 5 [400/500\t(81%)]\tLoss: 0.529164\n",
      "\n",
      "Worker 8 ends training in Global Round:33 |\n",
      "\n",
      "Worker 46 starts training in Global Round:33 |\n"
     ]
    },
    {
     "data": {
      "application/vnd.jupyter.widget-view+json": {
       "model_id": "339d8b52b4574a2d9c88e081b286844d",
       "version_major": 2,
       "version_minor": 0
      },
      "text/plain": [
       "HBox(children=(IntProgress(value=0, max=5), HTML(value='')))"
      ]
     },
     "metadata": {},
     "output_type": "display_data"
    },
    {
     "name": "stdout",
     "output_type": "stream",
     "text": [
      "Train Epoch: 1 [0/500\t(1%)]\tLoss: 0.928519\n",
      "Train Epoch: 1 [400/500\t(81%)]\tLoss: 0.883684\n",
      "Train Epoch: 2 [0/500\t(1%)]\tLoss: 0.665862\n",
      "Train Epoch: 2 [400/500\t(81%)]\tLoss: 0.716071\n",
      "Train Epoch: 3 [0/500\t(1%)]\tLoss: 0.728139\n",
      "Train Epoch: 3 [400/500\t(81%)]\tLoss: 0.784814\n",
      "Train Epoch: 4 [0/500\t(1%)]\tLoss: 0.663261\n",
      "Train Epoch: 4 [400/500\t(81%)]\tLoss: 0.771582\n",
      "Train Epoch: 5 [0/500\t(1%)]\tLoss: 0.521679\n",
      "Train Epoch: 5 [400/500\t(81%)]\tLoss: 0.677641\n",
      "\n",
      "Performed attacks 0\n",
      "\n",
      "===>Random attack started by:  Worker 46  in Global Round:  33\n",
      "Random attack strating: \n",
      "Performed attacks 1\n",
      "Worker 46 ends training in Global Round:33 |\n",
      "\n",
      "Worker 89 starts training in Global Round:33 |\n"
     ]
    },
    {
     "data": {
      "application/vnd.jupyter.widget-view+json": {
       "model_id": "53d2fc745cce4eeaabd4de48b96b0028",
       "version_major": 2,
       "version_minor": 0
      },
      "text/plain": [
       "HBox(children=(IntProgress(value=0, max=5), HTML(value='')))"
      ]
     },
     "metadata": {},
     "output_type": "display_data"
    },
    {
     "name": "stdout",
     "output_type": "stream",
     "text": [
      "Train Epoch: 1 [0/500\t(1%)]\tLoss: 0.781491\n",
      "Train Epoch: 1 [400/500\t(81%)]\tLoss: 1.051223\n",
      "Train Epoch: 2 [0/500\t(1%)]\tLoss: 0.841479\n",
      "Train Epoch: 2 [400/500\t(81%)]\tLoss: 0.940119\n",
      "Train Epoch: 3 [0/500\t(1%)]\tLoss: 0.747345\n",
      "Train Epoch: 3 [400/500\t(81%)]\tLoss: 0.800378\n",
      "Train Epoch: 4 [0/500\t(1%)]\tLoss: 0.535498\n",
      "Train Epoch: 4 [400/500\t(81%)]\tLoss: 0.653808\n",
      "Train Epoch: 5 [0/500\t(1%)]\tLoss: 0.438716\n",
      "Train Epoch: 5 [400/500\t(81%)]\tLoss: 0.562071\n",
      "\n",
      "Performed attacks 1\n",
      "\n",
      "===>Random attack started by:  Worker 89  in Global Round:  33\n",
      "Random attack strating: \n",
      "Performed attacks 2\n",
      "Worker 89 ends training in Global Round:33 |\n",
      "\n",
      "Worker 13 starts training in Global Round:33 |\n"
     ]
    },
    {
     "data": {
      "application/vnd.jupyter.widget-view+json": {
       "model_id": "884a2b0ab99041cca2e3a710f89c97d7",
       "version_major": 2,
       "version_minor": 0
      },
      "text/plain": [
       "HBox(children=(IntProgress(value=0, max=5), HTML(value='')))"
      ]
     },
     "metadata": {},
     "output_type": "display_data"
    },
    {
     "name": "stdout",
     "output_type": "stream",
     "text": [
      "Train Epoch: 1 [0/500\t(1%)]\tLoss: 0.798445\n",
      "Train Epoch: 1 [400/500\t(81%)]\tLoss: 0.978777\n",
      "Train Epoch: 2 [0/500\t(1%)]\tLoss: 0.543368\n",
      "Train Epoch: 2 [400/500\t(81%)]\tLoss: 0.895029\n",
      "Train Epoch: 3 [0/500\t(1%)]\tLoss: 0.792421\n",
      "Train Epoch: 3 [400/500\t(81%)]\tLoss: 0.684667\n",
      "Train Epoch: 4 [0/500\t(1%)]\tLoss: 0.644015\n",
      "Train Epoch: 4 [400/500\t(81%)]\tLoss: 0.673198\n",
      "Train Epoch: 5 [0/500\t(1%)]\tLoss: 0.615871\n",
      "Train Epoch: 5 [400/500\t(81%)]\tLoss: 0.654641\n",
      "\n",
      "Performed attacks 2\n",
      "\n",
      "===>Random attack started by:  Worker 13  in Global Round:  33\n",
      "Random attack strating: \n",
      "Performed attacks 3\n",
      "Worker 13 ends training in Global Round:33 |\n",
      "\n",
      "Worker 68 starts training in Global Round:33 |\n"
     ]
    },
    {
     "data": {
      "application/vnd.jupyter.widget-view+json": {
       "model_id": "13458d87f2ef4ef5b4778e3c055a6f85",
       "version_major": 2,
       "version_minor": 0
      },
      "text/plain": [
       "HBox(children=(IntProgress(value=0, max=5), HTML(value='')))"
      ]
     },
     "metadata": {},
     "output_type": "display_data"
    },
    {
     "name": "stdout",
     "output_type": "stream",
     "text": [
      "Train Epoch: 1 [0/500\t(1%)]\tLoss: 1.183454\n",
      "Train Epoch: 1 [400/500\t(81%)]\tLoss: 1.114037\n",
      "Train Epoch: 2 [0/500\t(1%)]\tLoss: 0.912179\n",
      "Train Epoch: 2 [400/500\t(81%)]\tLoss: 0.704697\n",
      "Train Epoch: 3 [0/500\t(1%)]\tLoss: 0.843442\n",
      "Train Epoch: 3 [400/500\t(81%)]\tLoss: 0.873159\n",
      "Train Epoch: 4 [0/500\t(1%)]\tLoss: 0.905838\n",
      "Train Epoch: 4 [400/500\t(81%)]\tLoss: 0.666178\n",
      "Train Epoch: 5 [0/500\t(1%)]\tLoss: 0.540087\n",
      "Train Epoch: 5 [400/500\t(81%)]\tLoss: 0.763241\n",
      "\n",
      "Worker 68 ends training in Global Round:33 |\n",
      "\n",
      "Worker 50 starts training in Global Round:33 |\n"
     ]
    },
    {
     "data": {
      "application/vnd.jupyter.widget-view+json": {
       "model_id": "204884b6afe4482695963e600831ed2f",
       "version_major": 2,
       "version_minor": 0
      },
      "text/plain": [
       "HBox(children=(IntProgress(value=0, max=5), HTML(value='')))"
      ]
     },
     "metadata": {},
     "output_type": "display_data"
    },
    {
     "name": "stdout",
     "output_type": "stream",
     "text": [
      "Train Epoch: 1 [0/500\t(1%)]\tLoss: 1.235666\n",
      "Train Epoch: 1 [400/500\t(81%)]\tLoss: 1.089568\n",
      "Train Epoch: 2 [0/500\t(1%)]\tLoss: 0.672937\n",
      "Train Epoch: 2 [400/500\t(81%)]\tLoss: 0.792271\n",
      "Train Epoch: 3 [0/500\t(1%)]\tLoss: 0.719428\n",
      "Train Epoch: 3 [400/500\t(81%)]\tLoss: 0.677385\n",
      "Train Epoch: 4 [0/500\t(1%)]\tLoss: 0.646097\n",
      "Train Epoch: 4 [400/500\t(81%)]\tLoss: 0.562180\n",
      "Train Epoch: 5 [0/500\t(1%)]\tLoss: 0.493994\n",
      "Train Epoch: 5 [400/500\t(81%)]\tLoss: 0.489295\n",
      "\n",
      "Performed attacks 3\n",
      "\n",
      "===>Random attack started by:  Worker 50  in Global Round:  33\n",
      "Random attack strating: \n",
      "Performed attacks 4\n",
      "Worker 50 ends training in Global Round:33 |\n",
      "\n",
      "Worker 63 starts training in Global Round:33 |\n"
     ]
    },
    {
     "data": {
      "application/vnd.jupyter.widget-view+json": {
       "model_id": "94c3e5d836d4428eaaea70fcd42cb9a1",
       "version_major": 2,
       "version_minor": 0
      },
      "text/plain": [
       "HBox(children=(IntProgress(value=0, max=5), HTML(value='')))"
      ]
     },
     "metadata": {},
     "output_type": "display_data"
    },
    {
     "name": "stdout",
     "output_type": "stream",
     "text": [
      "Train Epoch: 1 [0/500\t(1%)]\tLoss: 0.942541\n",
      "Train Epoch: 1 [400/500\t(81%)]\tLoss: 0.933918\n",
      "Train Epoch: 2 [0/500\t(1%)]\tLoss: 0.610812\n",
      "Train Epoch: 2 [400/500\t(81%)]\tLoss: 0.802037\n",
      "Train Epoch: 3 [0/500\t(1%)]\tLoss: 0.702829\n",
      "Train Epoch: 3 [400/500\t(81%)]\tLoss: 0.787785\n",
      "Train Epoch: 4 [0/500\t(1%)]\tLoss: 0.581790\n",
      "Train Epoch: 4 [400/500\t(81%)]\tLoss: 0.659313\n",
      "Train Epoch: 5 [0/500\t(1%)]\tLoss: 0.513142\n",
      "Train Epoch: 5 [400/500\t(81%)]\tLoss: 0.661573\n",
      "\n",
      "Worker 63 ends training in Global Round:33 |\n",
      "\n",
      "Worker 47 starts training in Global Round:33 |\n"
     ]
    },
    {
     "data": {
      "application/vnd.jupyter.widget-view+json": {
       "model_id": "dd04e7aebd9243a88aa304016b7027be",
       "version_major": 2,
       "version_minor": 0
      },
      "text/plain": [
       "HBox(children=(IntProgress(value=0, max=5), HTML(value='')))"
      ]
     },
     "metadata": {},
     "output_type": "display_data"
    },
    {
     "name": "stdout",
     "output_type": "stream",
     "text": [
      "Train Epoch: 1 [0/500\t(1%)]\tLoss: 0.750936\n",
      "Train Epoch: 1 [400/500\t(81%)]\tLoss: 1.032818\n",
      "Train Epoch: 2 [0/500\t(1%)]\tLoss: 0.993203\n",
      "Train Epoch: 2 [400/500\t(81%)]\tLoss: 0.863807\n",
      "Train Epoch: 3 [0/500\t(1%)]\tLoss: 0.519795\n",
      "Train Epoch: 3 [400/500\t(81%)]\tLoss: 0.680108\n",
      "Train Epoch: 4 [0/500\t(1%)]\tLoss: 0.591320\n",
      "Train Epoch: 4 [400/500\t(81%)]\tLoss: 0.761160\n",
      "Train Epoch: 5 [0/500\t(1%)]\tLoss: 0.476687\n",
      "Train Epoch: 5 [400/500\t(81%)]\tLoss: 0.809696\n",
      "\n",
      "Worker 47 ends training in Global Round:33 |\n",
      "\n",
      "Worker 33 starts training in Global Round:33 |\n"
     ]
    },
    {
     "data": {
      "application/vnd.jupyter.widget-view+json": {
       "model_id": "988cfcccc5824c0cb7bdaa8bbffe0f43",
       "version_major": 2,
       "version_minor": 0
      },
      "text/plain": [
       "HBox(children=(IntProgress(value=0, max=5), HTML(value='')))"
      ]
     },
     "metadata": {},
     "output_type": "display_data"
    },
    {
     "name": "stdout",
     "output_type": "stream",
     "text": [
      "Train Epoch: 1 [0/500\t(1%)]\tLoss: 0.893991\n",
      "Train Epoch: 1 [400/500\t(81%)]\tLoss: 0.968109\n",
      "Train Epoch: 2 [0/500\t(1%)]\tLoss: 0.820114\n",
      "Train Epoch: 2 [400/500\t(81%)]\tLoss: 0.911552\n",
      "Train Epoch: 3 [0/500\t(1%)]\tLoss: 0.579828\n",
      "Train Epoch: 3 [400/500\t(81%)]\tLoss: 0.824523\n",
      "Train Epoch: 4 [0/500\t(1%)]\tLoss: 0.655021\n",
      "Train Epoch: 4 [400/500\t(81%)]\tLoss: 0.807297\n",
      "Train Epoch: 5 [0/500\t(1%)]\tLoss: 0.433656\n",
      "Train Epoch: 5 [400/500\t(81%)]\tLoss: 0.651939\n",
      "\n",
      "Worker 33 ends training in Global Round:33 |\n",
      "\n",
      "Worker 100 starts training in Global Round:33 |\n"
     ]
    },
    {
     "data": {
      "application/vnd.jupyter.widget-view+json": {
       "model_id": "77fb633032374dc8a58addf548b2fb45",
       "version_major": 2,
       "version_minor": 0
      },
      "text/plain": [
       "HBox(children=(IntProgress(value=0, max=5), HTML(value='')))"
      ]
     },
     "metadata": {},
     "output_type": "display_data"
    },
    {
     "name": "stdout",
     "output_type": "stream",
     "text": [
      "Train Epoch: 1 [0/500\t(1%)]\tLoss: 0.819309\n",
      "Train Epoch: 1 [400/500\t(81%)]\tLoss: 0.828785\n",
      "Train Epoch: 2 [0/500\t(1%)]\tLoss: 0.697994\n",
      "Train Epoch: 2 [400/500\t(81%)]\tLoss: 0.570867\n",
      "Train Epoch: 3 [0/500\t(1%)]\tLoss: 0.630083\n",
      "Train Epoch: 3 [400/500\t(81%)]\tLoss: 0.603213\n",
      "Train Epoch: 4 [0/500\t(1%)]\tLoss: 0.623215\n",
      "Train Epoch: 4 [400/500\t(81%)]\tLoss: 0.445686\n",
      "Train Epoch: 5 [0/500\t(1%)]\tLoss: 0.439873\n",
      "Train Epoch: 5 [400/500\t(81%)]\tLoss: 0.519020\n",
      "\n",
      "Worker 100 ends training in Global Round:33 |\n",
      "\n",
      "Worker 70 starts training in Global Round:33 |\n"
     ]
    },
    {
     "data": {
      "application/vnd.jupyter.widget-view+json": {
       "model_id": "303ef28db553492aaf9749377a5f9475",
       "version_major": 2,
       "version_minor": 0
      },
      "text/plain": [
       "HBox(children=(IntProgress(value=0, max=5), HTML(value='')))"
      ]
     },
     "metadata": {},
     "output_type": "display_data"
    },
    {
     "name": "stdout",
     "output_type": "stream",
     "text": [
      "Train Epoch: 1 [0/500\t(1%)]\tLoss: 0.670256\n",
      "Train Epoch: 1 [400/500\t(81%)]\tLoss: 0.941656\n",
      "Train Epoch: 2 [0/500\t(1%)]\tLoss: 0.741197\n",
      "Train Epoch: 2 [400/500\t(81%)]\tLoss: 0.681990\n",
      "Train Epoch: 3 [0/500\t(1%)]\tLoss: 0.464181\n",
      "Train Epoch: 3 [400/500\t(81%)]\tLoss: 0.725499\n",
      "Train Epoch: 4 [0/500\t(1%)]\tLoss: 0.647469\n",
      "Train Epoch: 4 [400/500\t(81%)]\tLoss: 0.694261\n",
      "Train Epoch: 5 [0/500\t(1%)]\tLoss: 0.616406\n",
      "Train Epoch: 5 [400/500\t(81%)]\tLoss: 0.574691\n",
      "\n",
      "Worker 70 ends training in Global Round:33 |\n",
      "\n",
      "Worker 72 starts training in Global Round:33 |\n"
     ]
    },
    {
     "data": {
      "application/vnd.jupyter.widget-view+json": {
       "model_id": "e72ee0f7908545219b4e96a0f7d0ec43",
       "version_major": 2,
       "version_minor": 0
      },
      "text/plain": [
       "HBox(children=(IntProgress(value=0, max=5), HTML(value='')))"
      ]
     },
     "metadata": {},
     "output_type": "display_data"
    },
    {
     "name": "stdout",
     "output_type": "stream",
     "text": [
      "Train Epoch: 1 [0/500\t(1%)]\tLoss: 0.869202\n",
      "Train Epoch: 1 [400/500\t(81%)]\tLoss: 1.190065\n",
      "Train Epoch: 2 [0/500\t(1%)]\tLoss: 0.776193\n",
      "Train Epoch: 2 [400/500\t(81%)]\tLoss: 0.884752\n",
      "Train Epoch: 3 [0/500\t(1%)]\tLoss: 0.668994\n",
      "Train Epoch: 3 [400/500\t(81%)]\tLoss: 0.816213\n",
      "Train Epoch: 4 [0/500\t(1%)]\tLoss: 0.698972\n",
      "Train Epoch: 4 [400/500\t(81%)]\tLoss: 0.719933\n",
      "Train Epoch: 5 [0/500\t(1%)]\tLoss: 0.731395\n",
      "Train Epoch: 5 [400/500\t(81%)]\tLoss: 0.793856\n",
      "\n",
      "Worker 72 ends training in Global Round:33 |\n",
      "\n",
      "Average loss: 1.0753, Accuracy: 6628/10000 (66%)\n",
      "\n",
      "\n",
      "Selected workers\n",
      "\n",
      "[ 74  11  93  64  71  56  18  51  54  81 100   1  63  22  60]\n",
      "Worker 74 : is  Honest\n",
      "Worker 11 : is  Honest\n",
      "Worker 93 : is  Honest\n",
      "Worker 64 : is  Honest\n",
      "Worker 71 : is  Random_Attacker\n",
      "Worker 56 : is  Honest\n",
      "Worker 18 : is  Random_Attacker\n",
      "Worker 51 : is  Random_Attacker\n",
      "Worker 54 : is  Honest\n",
      "Worker 81 : is  Honest\n",
      "Worker 100 : is  Honest\n",
      "Worker 1 : is  Honest\n",
      "Worker 63 : is  Honest\n",
      "Worker 22 : is  Random_Attacker\n",
      "Worker 60 : is  Honest\n",
      "\n",
      " | Global Training Round : 34 |\n",
      "\n",
      "\n",
      "Worker 74 starts training in Global Round:34 |\n"
     ]
    },
    {
     "data": {
      "application/vnd.jupyter.widget-view+json": {
       "model_id": "0830b1e17fc94cd0a4ee49803a804dbf",
       "version_major": 2,
       "version_minor": 0
      },
      "text/plain": [
       "HBox(children=(IntProgress(value=0, max=5), HTML(value='')))"
      ]
     },
     "metadata": {},
     "output_type": "display_data"
    },
    {
     "name": "stdout",
     "output_type": "stream",
     "text": [
      "Train Epoch: 1 [0/500\t(1%)]\tLoss: 0.835407\n",
      "Train Epoch: 1 [400/500\t(81%)]\tLoss: 0.868805\n",
      "Train Epoch: 2 [0/500\t(1%)]\tLoss: 0.893572\n",
      "Train Epoch: 2 [400/500\t(81%)]\tLoss: 0.984769\n",
      "Train Epoch: 3 [0/500\t(1%)]\tLoss: 0.707890\n",
      "Train Epoch: 3 [400/500\t(81%)]\tLoss: 0.867038\n",
      "Train Epoch: 4 [0/500\t(1%)]\tLoss: 0.635648\n",
      "Train Epoch: 4 [400/500\t(81%)]\tLoss: 0.718764\n",
      "Train Epoch: 5 [0/500\t(1%)]\tLoss: 0.644770\n",
      "Train Epoch: 5 [400/500\t(81%)]\tLoss: 0.498679\n",
      "\n",
      "Worker 74 ends training in Global Round:34 |\n",
      "\n",
      "Worker 11 starts training in Global Round:34 |\n"
     ]
    },
    {
     "data": {
      "application/vnd.jupyter.widget-view+json": {
       "model_id": "1b8f0068bb5742c3a76af2afa1a0ec7e",
       "version_major": 2,
       "version_minor": 0
      },
      "text/plain": [
       "HBox(children=(IntProgress(value=0, max=5), HTML(value='')))"
      ]
     },
     "metadata": {},
     "output_type": "display_data"
    },
    {
     "name": "stdout",
     "output_type": "stream",
     "text": [
      "Train Epoch: 1 [0/500\t(1%)]\tLoss: 0.893456\n",
      "Train Epoch: 1 [400/500\t(81%)]\tLoss: 0.890700\n",
      "Train Epoch: 2 [0/500\t(1%)]\tLoss: 0.636528\n",
      "Train Epoch: 2 [400/500\t(81%)]\tLoss: 0.760846\n",
      "Train Epoch: 3 [0/500\t(1%)]\tLoss: 0.565639\n",
      "Train Epoch: 3 [400/500\t(81%)]\tLoss: 0.746638\n",
      "Train Epoch: 4 [0/500\t(1%)]\tLoss: 0.601865\n",
      "Train Epoch: 4 [400/500\t(81%)]\tLoss: 0.623158\n",
      "Train Epoch: 5 [0/500\t(1%)]\tLoss: 0.460409\n",
      "Train Epoch: 5 [400/500\t(81%)]\tLoss: 0.576715\n",
      "\n",
      "Worker 11 ends training in Global Round:34 |\n",
      "\n",
      "Worker 93 starts training in Global Round:34 |\n"
     ]
    },
    {
     "data": {
      "application/vnd.jupyter.widget-view+json": {
       "model_id": "79244bb763164838a487aca92a487b81",
       "version_major": 2,
       "version_minor": 0
      },
      "text/plain": [
       "HBox(children=(IntProgress(value=0, max=5), HTML(value='')))"
      ]
     },
     "metadata": {},
     "output_type": "display_data"
    },
    {
     "name": "stdout",
     "output_type": "stream",
     "text": [
      "Train Epoch: 1 [0/500\t(1%)]\tLoss: 1.100627\n",
      "Train Epoch: 1 [400/500\t(81%)]\tLoss: 0.904634\n",
      "Train Epoch: 2 [0/500\t(1%)]\tLoss: 0.845032\n",
      "Train Epoch: 2 [400/500\t(81%)]\tLoss: 0.771400\n",
      "Train Epoch: 3 [0/500\t(1%)]\tLoss: 0.651870\n",
      "Train Epoch: 3 [400/500\t(81%)]\tLoss: 0.888963\n",
      "Train Epoch: 4 [0/500\t(1%)]\tLoss: 0.612884\n",
      "Train Epoch: 4 [400/500\t(81%)]\tLoss: 0.936794\n",
      "Train Epoch: 5 [0/500\t(1%)]\tLoss: 0.509690\n",
      "Train Epoch: 5 [400/500\t(81%)]\tLoss: 0.569716\n",
      "\n",
      "Worker 93 ends training in Global Round:34 |\n",
      "\n",
      "Worker 64 starts training in Global Round:34 |\n"
     ]
    },
    {
     "data": {
      "application/vnd.jupyter.widget-view+json": {
       "model_id": "a57d4253a036430e909c61681bbbc89d",
       "version_major": 2,
       "version_minor": 0
      },
      "text/plain": [
       "HBox(children=(IntProgress(value=0, max=5), HTML(value='')))"
      ]
     },
     "metadata": {},
     "output_type": "display_data"
    },
    {
     "name": "stdout",
     "output_type": "stream",
     "text": [
      "Train Epoch: 1 [0/500\t(1%)]\tLoss: 1.006602\n",
      "Train Epoch: 1 [400/500\t(81%)]\tLoss: 1.128932\n",
      "Train Epoch: 2 [0/500\t(1%)]\tLoss: 0.889569\n",
      "Train Epoch: 2 [400/500\t(81%)]\tLoss: 0.805414\n",
      "Train Epoch: 3 [0/500\t(1%)]\tLoss: 0.700879\n",
      "Train Epoch: 3 [400/500\t(81%)]\tLoss: 1.007351\n",
      "Train Epoch: 4 [0/500\t(1%)]\tLoss: 0.570183\n",
      "Train Epoch: 4 [400/500\t(81%)]\tLoss: 0.613648\n",
      "Train Epoch: 5 [0/500\t(1%)]\tLoss: 0.475417\n",
      "Train Epoch: 5 [400/500\t(81%)]\tLoss: 0.543181\n",
      "\n",
      "Worker 64 ends training in Global Round:34 |\n",
      "\n",
      "Worker 71 starts training in Global Round:34 |\n"
     ]
    },
    {
     "data": {
      "application/vnd.jupyter.widget-view+json": {
       "model_id": "b94e3c01eb084aaaa2d40720625b83ad",
       "version_major": 2,
       "version_minor": 0
      },
      "text/plain": [
       "HBox(children=(IntProgress(value=0, max=5), HTML(value='')))"
      ]
     },
     "metadata": {},
     "output_type": "display_data"
    },
    {
     "name": "stdout",
     "output_type": "stream",
     "text": [
      "Train Epoch: 1 [0/500\t(1%)]\tLoss: 0.773377\n",
      "Train Epoch: 1 [400/500\t(81%)]\tLoss: 0.948569\n",
      "Train Epoch: 2 [0/500\t(1%)]\tLoss: 0.795304\n",
      "Train Epoch: 2 [400/500\t(81%)]\tLoss: 0.759873\n",
      "Train Epoch: 3 [0/500\t(1%)]\tLoss: 0.783308\n",
      "Train Epoch: 3 [400/500\t(81%)]\tLoss: 0.885748\n",
      "Train Epoch: 4 [0/500\t(1%)]\tLoss: 0.518976\n",
      "Train Epoch: 4 [400/500\t(81%)]\tLoss: 0.663316\n",
      "Train Epoch: 5 [0/500\t(1%)]\tLoss: 0.483883\n",
      "Train Epoch: 5 [400/500\t(81%)]\tLoss: 0.593327\n",
      "\n",
      "Performed attacks 0\n",
      "\n",
      "===>Random attack started by:  Worker 71  in Global Round:  34\n",
      "Random attack strating: \n",
      "Performed attacks 1\n",
      "Worker 71 ends training in Global Round:34 |\n",
      "\n",
      "Worker 56 starts training in Global Round:34 |\n"
     ]
    },
    {
     "data": {
      "application/vnd.jupyter.widget-view+json": {
       "model_id": "c69458e545b846fcbc8bf76d347b6262",
       "version_major": 2,
       "version_minor": 0
      },
      "text/plain": [
       "HBox(children=(IntProgress(value=0, max=5), HTML(value='')))"
      ]
     },
     "metadata": {},
     "output_type": "display_data"
    },
    {
     "name": "stdout",
     "output_type": "stream",
     "text": [
      "Train Epoch: 1 [0/500\t(1%)]\tLoss: 0.941766\n",
      "Train Epoch: 1 [400/500\t(81%)]\tLoss: 0.955908\n",
      "Train Epoch: 2 [0/500\t(1%)]\tLoss: 0.772170\n",
      "Train Epoch: 2 [400/500\t(81%)]\tLoss: 0.680883\n",
      "Train Epoch: 3 [0/500\t(1%)]\tLoss: 0.795471\n",
      "Train Epoch: 3 [400/500\t(81%)]\tLoss: 0.703896\n",
      "Train Epoch: 4 [0/500\t(1%)]\tLoss: 0.675429\n",
      "Train Epoch: 4 [400/500\t(81%)]\tLoss: 0.900056\n",
      "Train Epoch: 5 [0/500\t(1%)]\tLoss: 0.669061\n",
      "Train Epoch: 5 [400/500\t(81%)]\tLoss: 0.666258\n",
      "\n",
      "Worker 56 ends training in Global Round:34 |\n",
      "\n",
      "Worker 18 starts training in Global Round:34 |\n"
     ]
    },
    {
     "data": {
      "application/vnd.jupyter.widget-view+json": {
       "model_id": "e93ee4f3036346f986235d133b6b7c99",
       "version_major": 2,
       "version_minor": 0
      },
      "text/plain": [
       "HBox(children=(IntProgress(value=0, max=5), HTML(value='')))"
      ]
     },
     "metadata": {},
     "output_type": "display_data"
    },
    {
     "name": "stdout",
     "output_type": "stream",
     "text": [
      "Train Epoch: 1 [0/500\t(1%)]\tLoss: 0.745876\n",
      "Train Epoch: 1 [400/500\t(81%)]\tLoss: 1.151227\n",
      "Train Epoch: 2 [0/500\t(1%)]\tLoss: 0.761387\n",
      "Train Epoch: 2 [400/500\t(81%)]\tLoss: 0.842080\n",
      "Train Epoch: 3 [0/500\t(1%)]\tLoss: 0.841461\n",
      "Train Epoch: 3 [400/500\t(81%)]\tLoss: 0.752897\n",
      "Train Epoch: 4 [0/500\t(1%)]\tLoss: 0.569315\n",
      "Train Epoch: 4 [400/500\t(81%)]\tLoss: 0.628848\n",
      "Train Epoch: 5 [0/500\t(1%)]\tLoss: 0.660872\n",
      "Train Epoch: 5 [400/500\t(81%)]\tLoss: 0.585305\n",
      "\n",
      "Performed attacks 1\n",
      "\n",
      "===>Random attack started by:  Worker 18  in Global Round:  34\n",
      "Random attack strating: \n",
      "Performed attacks 2\n",
      "Worker 18 ends training in Global Round:34 |\n",
      "\n",
      "Worker 51 starts training in Global Round:34 |\n"
     ]
    },
    {
     "data": {
      "application/vnd.jupyter.widget-view+json": {
       "model_id": "205dc101f32740e7bac096a7d3525d73",
       "version_major": 2,
       "version_minor": 0
      },
      "text/plain": [
       "HBox(children=(IntProgress(value=0, max=5), HTML(value='')))"
      ]
     },
     "metadata": {},
     "output_type": "display_data"
    },
    {
     "name": "stdout",
     "output_type": "stream",
     "text": [
      "Train Epoch: 1 [0/500\t(1%)]\tLoss: 0.695337\n",
      "Train Epoch: 1 [400/500\t(81%)]\tLoss: 0.940242\n",
      "Train Epoch: 2 [0/500\t(1%)]\tLoss: 0.599713\n",
      "Train Epoch: 2 [400/500\t(81%)]\tLoss: 0.922094\n",
      "Train Epoch: 3 [0/500\t(1%)]\tLoss: 0.686804\n",
      "Train Epoch: 3 [400/500\t(81%)]\tLoss: 0.601819\n",
      "Train Epoch: 4 [0/500\t(1%)]\tLoss: 0.648063\n",
      "Train Epoch: 4 [400/500\t(81%)]\tLoss: 0.601629\n",
      "Train Epoch: 5 [0/500\t(1%)]\tLoss: 0.535301\n",
      "Train Epoch: 5 [400/500\t(81%)]\tLoss: 0.543978\n",
      "\n",
      "Performed attacks 2\n",
      "\n",
      "===>Random attack started by:  Worker 51  in Global Round:  34\n",
      "Random attack strating: \n",
      "Performed attacks 3\n",
      "Worker 51 ends training in Global Round:34 |\n",
      "\n",
      "Worker 54 starts training in Global Round:34 |\n"
     ]
    },
    {
     "data": {
      "application/vnd.jupyter.widget-view+json": {
       "model_id": "76c28bd178234970a3e261be15d53e24",
       "version_major": 2,
       "version_minor": 0
      },
      "text/plain": [
       "HBox(children=(IntProgress(value=0, max=5), HTML(value='')))"
      ]
     },
     "metadata": {},
     "output_type": "display_data"
    },
    {
     "name": "stdout",
     "output_type": "stream",
     "text": [
      "Train Epoch: 1 [0/500\t(1%)]\tLoss: 1.102970\n",
      "Train Epoch: 1 [400/500\t(81%)]\tLoss: 0.947838\n",
      "Train Epoch: 2 [0/500\t(1%)]\tLoss: 0.862689\n",
      "Train Epoch: 2 [400/500\t(81%)]\tLoss: 0.927375\n",
      "Train Epoch: 3 [0/500\t(1%)]\tLoss: 0.737386\n",
      "Train Epoch: 3 [400/500\t(81%)]\tLoss: 0.662979\n",
      "Train Epoch: 4 [0/500\t(1%)]\tLoss: 0.680554\n",
      "Train Epoch: 4 [400/500\t(81%)]\tLoss: 0.627676\n",
      "Train Epoch: 5 [0/500\t(1%)]\tLoss: 0.577604\n",
      "Train Epoch: 5 [400/500\t(81%)]\tLoss: 0.419418\n",
      "\n",
      "Worker 54 ends training in Global Round:34 |\n",
      "\n",
      "Worker 81 starts training in Global Round:34 |\n"
     ]
    },
    {
     "data": {
      "application/vnd.jupyter.widget-view+json": {
       "model_id": "cec031f39d1844ba9017e0f78caf44fd",
       "version_major": 2,
       "version_minor": 0
      },
      "text/plain": [
       "HBox(children=(IntProgress(value=0, max=5), HTML(value='')))"
      ]
     },
     "metadata": {},
     "output_type": "display_data"
    },
    {
     "name": "stdout",
     "output_type": "stream",
     "text": [
      "Train Epoch: 1 [0/500\t(1%)]\tLoss: 1.098236\n",
      "Train Epoch: 1 [400/500\t(81%)]\tLoss: 1.105996\n",
      "Train Epoch: 2 [0/500\t(1%)]\tLoss: 0.690941\n",
      "Train Epoch: 2 [400/500\t(81%)]\tLoss: 1.063081\n",
      "Train Epoch: 3 [0/500\t(1%)]\tLoss: 0.706669\n",
      "Train Epoch: 3 [400/500\t(81%)]\tLoss: 0.947300\n",
      "Train Epoch: 4 [0/500\t(1%)]\tLoss: 0.566459\n",
      "Train Epoch: 4 [400/500\t(81%)]\tLoss: 0.604945\n",
      "Train Epoch: 5 [0/500\t(1%)]\tLoss: 0.639247\n",
      "Train Epoch: 5 [400/500\t(81%)]\tLoss: 0.707353\n",
      "\n",
      "Worker 81 ends training in Global Round:34 |\n",
      "\n",
      "Worker 100 starts training in Global Round:34 |\n"
     ]
    },
    {
     "data": {
      "application/vnd.jupyter.widget-view+json": {
       "model_id": "d86659292b004f60bc06a42c0b474a03",
       "version_major": 2,
       "version_minor": 0
      },
      "text/plain": [
       "HBox(children=(IntProgress(value=0, max=5), HTML(value='')))"
      ]
     },
     "metadata": {},
     "output_type": "display_data"
    },
    {
     "name": "stdout",
     "output_type": "stream",
     "text": [
      "Train Epoch: 1 [0/500\t(1%)]\tLoss: 0.726610\n",
      "Train Epoch: 1 [400/500\t(81%)]\tLoss: 0.938441\n",
      "Train Epoch: 2 [0/500\t(1%)]\tLoss: 0.674838\n",
      "Train Epoch: 2 [400/500\t(81%)]\tLoss: 0.950376\n",
      "Train Epoch: 3 [0/500\t(1%)]\tLoss: 0.523432\n",
      "Train Epoch: 3 [400/500\t(81%)]\tLoss: 0.751110\n",
      "Train Epoch: 4 [0/500\t(1%)]\tLoss: 0.491883\n",
      "Train Epoch: 4 [400/500\t(81%)]\tLoss: 0.619337\n",
      "Train Epoch: 5 [0/500\t(1%)]\tLoss: 0.445786\n",
      "Train Epoch: 5 [400/500\t(81%)]\tLoss: 0.479081\n",
      "\n",
      "Worker 100 ends training in Global Round:34 |\n",
      "\n",
      "Worker 1 starts training in Global Round:34 |\n"
     ]
    },
    {
     "data": {
      "application/vnd.jupyter.widget-view+json": {
       "model_id": "bbdce8bb7ad54bdf9d8cb4ea59380766",
       "version_major": 2,
       "version_minor": 0
      },
      "text/plain": [
       "HBox(children=(IntProgress(value=0, max=5), HTML(value='')))"
      ]
     },
     "metadata": {},
     "output_type": "display_data"
    },
    {
     "name": "stdout",
     "output_type": "stream",
     "text": [
      "Train Epoch: 1 [0/500\t(1%)]\tLoss: 0.955891\n",
      "Train Epoch: 1 [400/500\t(81%)]\tLoss: 0.989020\n",
      "Train Epoch: 2 [0/500\t(1%)]\tLoss: 0.919209\n",
      "Train Epoch: 2 [400/500\t(81%)]\tLoss: 0.986358\n",
      "Train Epoch: 3 [0/500\t(1%)]\tLoss: 0.643030\n",
      "Train Epoch: 3 [400/500\t(81%)]\tLoss: 0.774881\n",
      "Train Epoch: 4 [0/500\t(1%)]\tLoss: 0.628446\n",
      "Train Epoch: 4 [400/500\t(81%)]\tLoss: 0.835792\n",
      "Train Epoch: 5 [0/500\t(1%)]\tLoss: 0.700930\n",
      "Train Epoch: 5 [400/500\t(81%)]\tLoss: 0.518379\n",
      "\n",
      "Worker 1 ends training in Global Round:34 |\n",
      "\n",
      "Worker 63 starts training in Global Round:34 |\n"
     ]
    },
    {
     "data": {
      "application/vnd.jupyter.widget-view+json": {
       "model_id": "d8f0690801ce4f258eedd17dc9f75701",
       "version_major": 2,
       "version_minor": 0
      },
      "text/plain": [
       "HBox(children=(IntProgress(value=0, max=5), HTML(value='')))"
      ]
     },
     "metadata": {},
     "output_type": "display_data"
    },
    {
     "name": "stdout",
     "output_type": "stream",
     "text": [
      "Train Epoch: 1 [0/500\t(1%)]\tLoss: 0.882077\n",
      "Train Epoch: 1 [400/500\t(81%)]\tLoss: 1.062228\n",
      "Train Epoch: 2 [0/500\t(1%)]\tLoss: 0.710914\n",
      "Train Epoch: 2 [400/500\t(81%)]\tLoss: 0.878886\n",
      "Train Epoch: 3 [0/500\t(1%)]\tLoss: 0.636434\n",
      "Train Epoch: 3 [400/500\t(81%)]\tLoss: 0.824956\n",
      "Train Epoch: 4 [0/500\t(1%)]\tLoss: 0.559801\n",
      "Train Epoch: 4 [400/500\t(81%)]\tLoss: 0.683774\n",
      "Train Epoch: 5 [0/500\t(1%)]\tLoss: 0.696655\n",
      "Train Epoch: 5 [400/500\t(81%)]\tLoss: 0.648148\n",
      "\n",
      "Worker 63 ends training in Global Round:34 |\n",
      "\n",
      "Worker 22 starts training in Global Round:34 |\n"
     ]
    },
    {
     "data": {
      "application/vnd.jupyter.widget-view+json": {
       "model_id": "4e5eab6505ba4bd9af2c3e93ba6bc888",
       "version_major": 2,
       "version_minor": 0
      },
      "text/plain": [
       "HBox(children=(IntProgress(value=0, max=5), HTML(value='')))"
      ]
     },
     "metadata": {},
     "output_type": "display_data"
    },
    {
     "name": "stdout",
     "output_type": "stream",
     "text": [
      "Train Epoch: 1 [0/500\t(1%)]\tLoss: 0.994129\n",
      "Train Epoch: 1 [400/500\t(81%)]\tLoss: 1.264953\n",
      "Train Epoch: 2 [0/500\t(1%)]\tLoss: 0.821862\n",
      "Train Epoch: 2 [400/500\t(81%)]\tLoss: 1.048492\n",
      "Train Epoch: 3 [0/500\t(1%)]\tLoss: 0.606781\n",
      "Train Epoch: 3 [400/500\t(81%)]\tLoss: 0.865398\n",
      "Train Epoch: 4 [0/500\t(1%)]\tLoss: 0.584737\n",
      "Train Epoch: 4 [400/500\t(81%)]\tLoss: 0.726234\n",
      "Train Epoch: 5 [0/500\t(1%)]\tLoss: 0.607304\n",
      "Train Epoch: 5 [400/500\t(81%)]\tLoss: 0.643862\n",
      "\n",
      "Performed attacks 3\n",
      "\n",
      "===>Random attack started by:  Worker 22  in Global Round:  34\n",
      "Random attack strating: \n",
      "Performed attacks 4\n",
      "Worker 22 ends training in Global Round:34 |\n",
      "\n",
      "Worker 60 starts training in Global Round:34 |\n"
     ]
    },
    {
     "data": {
      "application/vnd.jupyter.widget-view+json": {
       "model_id": "db69bc0d7a6e41d7a7b1d350935882a7",
       "version_major": 2,
       "version_minor": 0
      },
      "text/plain": [
       "HBox(children=(IntProgress(value=0, max=5), HTML(value='')))"
      ]
     },
     "metadata": {},
     "output_type": "display_data"
    },
    {
     "name": "stdout",
     "output_type": "stream",
     "text": [
      "Train Epoch: 1 [0/500\t(1%)]\tLoss: 0.942244\n",
      "Train Epoch: 1 [400/500\t(81%)]\tLoss: 1.147045\n",
      "Train Epoch: 2 [0/500\t(1%)]\tLoss: 0.789544\n",
      "Train Epoch: 2 [400/500\t(81%)]\tLoss: 0.931683\n",
      "Train Epoch: 3 [0/500\t(1%)]\tLoss: 0.740556\n",
      "Train Epoch: 3 [400/500\t(81%)]\tLoss: 0.773957\n",
      "Train Epoch: 4 [0/500\t(1%)]\tLoss: 0.539602\n",
      "Train Epoch: 4 [400/500\t(81%)]\tLoss: 0.734103\n",
      "Train Epoch: 5 [0/500\t(1%)]\tLoss: 0.533884\n",
      "Train Epoch: 5 [400/500\t(81%)]\tLoss: 0.734946\n",
      "\n",
      "Worker 60 ends training in Global Round:34 |\n",
      "\n",
      "Average loss: 0.9974, Accuracy: 6706/10000 (67%)\n",
      "\n",
      "\n",
      "Selected workers\n",
      "\n",
      "[ 1 48 78 86 57 58 23 41 73 67 19 79 98 53 76]\n",
      "Worker 1 : is  Honest\n",
      "Worker 48 : is  Honest\n",
      "Worker 78 : is  Honest\n",
      "Worker 86 : is  Random_Attacker\n",
      "Worker 57 : is  Honest\n",
      "Worker 58 : is  Honest\n",
      "Worker 23 : is  Random_Attacker\n",
      "Worker 41 : is  Random_Attacker\n",
      "Worker 73 : is  Honest\n",
      "Worker 67 : is  Random_Attacker\n",
      "Worker 19 : is  Random_Attacker\n",
      "Worker 79 : is  Random_Attacker\n",
      "Worker 98 : is  Random_Attacker\n",
      "Worker 53 : is  Random_Attacker\n",
      "Worker 76 : is  Honest\n",
      "\n",
      " | Global Training Round : 35 |\n",
      "\n",
      "\n",
      "Worker 1 starts training in Global Round:35 |\n"
     ]
    },
    {
     "data": {
      "application/vnd.jupyter.widget-view+json": {
       "model_id": "18909b6fdb594772ab0374cf019c94b4",
       "version_major": 2,
       "version_minor": 0
      },
      "text/plain": [
       "HBox(children=(IntProgress(value=0, max=5), HTML(value='')))"
      ]
     },
     "metadata": {},
     "output_type": "display_data"
    },
    {
     "name": "stdout",
     "output_type": "stream",
     "text": [
      "Train Epoch: 1 [0/500\t(1%)]\tLoss: 1.056895\n",
      "Train Epoch: 1 [400/500\t(81%)]\tLoss: 0.957148\n",
      "Train Epoch: 2 [0/500\t(1%)]\tLoss: 0.959134\n",
      "Train Epoch: 2 [400/500\t(81%)]\tLoss: 0.811821\n",
      "Train Epoch: 3 [0/500\t(1%)]\tLoss: 0.697155\n",
      "Train Epoch: 3 [400/500\t(81%)]\tLoss: 0.722709\n",
      "Train Epoch: 4 [0/500\t(1%)]\tLoss: 0.479098\n",
      "Train Epoch: 4 [400/500\t(81%)]\tLoss: 0.763092\n",
      "Train Epoch: 5 [0/500\t(1%)]\tLoss: 0.454643\n",
      "Train Epoch: 5 [400/500\t(81%)]\tLoss: 0.714604\n",
      "\n",
      "Worker 1 ends training in Global Round:35 |\n",
      "\n",
      "Worker 48 starts training in Global Round:35 |\n"
     ]
    },
    {
     "data": {
      "application/vnd.jupyter.widget-view+json": {
       "model_id": "eae2f595a3464337badf1250cd1ab703",
       "version_major": 2,
       "version_minor": 0
      },
      "text/plain": [
       "HBox(children=(IntProgress(value=0, max=5), HTML(value='')))"
      ]
     },
     "metadata": {},
     "output_type": "display_data"
    },
    {
     "name": "stdout",
     "output_type": "stream",
     "text": [
      "Train Epoch: 1 [0/500\t(1%)]\tLoss: 1.000924\n",
      "Train Epoch: 1 [400/500\t(81%)]\tLoss: 1.023898\n",
      "Train Epoch: 2 [0/500\t(1%)]\tLoss: 0.818891\n",
      "Train Epoch: 2 [400/500\t(81%)]\tLoss: 0.860195\n",
      "Train Epoch: 3 [0/500\t(1%)]\tLoss: 0.793477\n",
      "Train Epoch: 3 [400/500\t(81%)]\tLoss: 0.634947\n",
      "Train Epoch: 4 [0/500\t(1%)]\tLoss: 0.754156\n",
      "Train Epoch: 4 [400/500\t(81%)]\tLoss: 0.751881\n",
      "Train Epoch: 5 [0/500\t(1%)]\tLoss: 0.492842\n",
      "Train Epoch: 5 [400/500\t(81%)]\tLoss: 0.698261\n",
      "\n",
      "Worker 48 ends training in Global Round:35 |\n",
      "\n",
      "Worker 78 starts training in Global Round:35 |\n"
     ]
    },
    {
     "data": {
      "application/vnd.jupyter.widget-view+json": {
       "model_id": "712f8d2599c64f19bc32cc1ae3eec20a",
       "version_major": 2,
       "version_minor": 0
      },
      "text/plain": [
       "HBox(children=(IntProgress(value=0, max=5), HTML(value='')))"
      ]
     },
     "metadata": {},
     "output_type": "display_data"
    },
    {
     "name": "stdout",
     "output_type": "stream",
     "text": [
      "Train Epoch: 1 [0/500\t(1%)]\tLoss: 1.014719\n",
      "Train Epoch: 1 [400/500\t(81%)]\tLoss: 1.180854\n",
      "Train Epoch: 2 [0/500\t(1%)]\tLoss: 0.792387\n",
      "Train Epoch: 2 [400/500\t(81%)]\tLoss: 1.158684\n",
      "Train Epoch: 3 [0/500\t(1%)]\tLoss: 0.664372\n",
      "Train Epoch: 3 [400/500\t(81%)]\tLoss: 0.817276\n",
      "Train Epoch: 4 [0/500\t(1%)]\tLoss: 0.791057\n",
      "Train Epoch: 4 [400/500\t(81%)]\tLoss: 0.742865\n",
      "Train Epoch: 5 [0/500\t(1%)]\tLoss: 0.616216\n",
      "Train Epoch: 5 [400/500\t(81%)]\tLoss: 0.488225\n",
      "\n",
      "Worker 78 ends training in Global Round:35 |\n",
      "\n",
      "Worker 86 starts training in Global Round:35 |\n"
     ]
    },
    {
     "data": {
      "application/vnd.jupyter.widget-view+json": {
       "model_id": "78061e193b324398b1879588b17108be",
       "version_major": 2,
       "version_minor": 0
      },
      "text/plain": [
       "HBox(children=(IntProgress(value=0, max=5), HTML(value='')))"
      ]
     },
     "metadata": {},
     "output_type": "display_data"
    },
    {
     "name": "stdout",
     "output_type": "stream",
     "text": [
      "Train Epoch: 1 [0/500\t(1%)]\tLoss: 0.807870\n",
      "Train Epoch: 1 [400/500\t(81%)]\tLoss: 0.918687\n",
      "Train Epoch: 2 [0/500\t(1%)]\tLoss: 0.752985\n",
      "Train Epoch: 2 [400/500\t(81%)]\tLoss: 0.854358\n",
      "Train Epoch: 3 [0/500\t(1%)]\tLoss: 0.639990\n",
      "Train Epoch: 3 [400/500\t(81%)]\tLoss: 0.794837\n",
      "Train Epoch: 4 [0/500\t(1%)]\tLoss: 0.649661\n",
      "Train Epoch: 4 [400/500\t(81%)]\tLoss: 0.848005\n",
      "Train Epoch: 5 [0/500\t(1%)]\tLoss: 0.465876\n",
      "Train Epoch: 5 [400/500\t(81%)]\tLoss: 0.656691\n",
      "\n",
      "Performed attacks 0\n",
      "\n",
      "===>Random attack started by:  Worker 86  in Global Round:  35\n",
      "Random attack strating: \n",
      "Performed attacks 1\n",
      "Worker 86 ends training in Global Round:35 |\n",
      "\n",
      "Worker 57 starts training in Global Round:35 |\n"
     ]
    },
    {
     "data": {
      "application/vnd.jupyter.widget-view+json": {
       "model_id": "060adcac252e4f43a29d3461707dc738",
       "version_major": 2,
       "version_minor": 0
      },
      "text/plain": [
       "HBox(children=(IntProgress(value=0, max=5), HTML(value='')))"
      ]
     },
     "metadata": {},
     "output_type": "display_data"
    },
    {
     "name": "stdout",
     "output_type": "stream",
     "text": [
      "Train Epoch: 1 [0/500\t(1%)]\tLoss: 1.071334\n",
      "Train Epoch: 1 [400/500\t(81%)]\tLoss: 1.121974\n",
      "Train Epoch: 2 [0/500\t(1%)]\tLoss: 0.877139\n",
      "Train Epoch: 2 [400/500\t(81%)]\tLoss: 0.949171\n",
      "Train Epoch: 3 [0/500\t(1%)]\tLoss: 0.723327\n",
      "Train Epoch: 3 [400/500\t(81%)]\tLoss: 0.927989\n",
      "Train Epoch: 4 [0/500\t(1%)]\tLoss: 0.714336\n",
      "Train Epoch: 4 [400/500\t(81%)]\tLoss: 0.632897\n",
      "Train Epoch: 5 [0/500\t(1%)]\tLoss: 0.635126\n",
      "Train Epoch: 5 [400/500\t(81%)]\tLoss: 0.618618\n",
      "\n",
      "Worker 57 ends training in Global Round:35 |\n",
      "\n",
      "Worker 58 starts training in Global Round:35 |\n"
     ]
    },
    {
     "data": {
      "application/vnd.jupyter.widget-view+json": {
       "model_id": "1154fa1e790f463e9ba59491d8a01541",
       "version_major": 2,
       "version_minor": 0
      },
      "text/plain": [
       "HBox(children=(IntProgress(value=0, max=5), HTML(value='')))"
      ]
     },
     "metadata": {},
     "output_type": "display_data"
    },
    {
     "name": "stdout",
     "output_type": "stream",
     "text": [
      "Train Epoch: 1 [0/500\t(1%)]\tLoss: 0.846346\n",
      "Train Epoch: 1 [400/500\t(81%)]\tLoss: 1.167145\n",
      "Train Epoch: 2 [0/500\t(1%)]\tLoss: 0.731804\n",
      "Train Epoch: 2 [400/500\t(81%)]\tLoss: 0.911072\n",
      "Train Epoch: 3 [0/500\t(1%)]\tLoss: 0.580422\n",
      "Train Epoch: 3 [400/500\t(81%)]\tLoss: 0.868931\n",
      "Train Epoch: 4 [0/500\t(1%)]\tLoss: 0.794016\n",
      "Train Epoch: 4 [400/500\t(81%)]\tLoss: 0.615856\n",
      "Train Epoch: 5 [0/500\t(1%)]\tLoss: 0.698219\n",
      "Train Epoch: 5 [400/500\t(81%)]\tLoss: 0.498873\n",
      "\n",
      "Worker 58 ends training in Global Round:35 |\n",
      "\n",
      "Worker 23 starts training in Global Round:35 |\n"
     ]
    },
    {
     "data": {
      "application/vnd.jupyter.widget-view+json": {
       "model_id": "8aa8f4e0a66143719a813dbf54a1e9b3",
       "version_major": 2,
       "version_minor": 0
      },
      "text/plain": [
       "HBox(children=(IntProgress(value=0, max=5), HTML(value='')))"
      ]
     },
     "metadata": {},
     "output_type": "display_data"
    },
    {
     "name": "stdout",
     "output_type": "stream",
     "text": [
      "Train Epoch: 1 [0/500\t(1%)]\tLoss: 0.920024\n",
      "Train Epoch: 1 [400/500\t(81%)]\tLoss: 1.066811\n",
      "Train Epoch: 2 [0/500\t(1%)]\tLoss: 0.790664\n",
      "Train Epoch: 2 [400/500\t(81%)]\tLoss: 0.768246\n",
      "Train Epoch: 3 [0/500\t(1%)]\tLoss: 0.723092\n",
      "Train Epoch: 3 [400/500\t(81%)]\tLoss: 0.856112\n",
      "Train Epoch: 4 [0/500\t(1%)]\tLoss: 0.636563\n",
      "Train Epoch: 4 [400/500\t(81%)]\tLoss: 0.937703\n",
      "Train Epoch: 5 [0/500\t(1%)]\tLoss: 0.455931\n",
      "Train Epoch: 5 [400/500\t(81%)]\tLoss: 0.629593\n",
      "\n",
      "Performed attacks 1\n",
      "\n",
      "===>Random attack started by:  Worker 23  in Global Round:  35\n",
      "Random attack strating: \n",
      "Performed attacks 2\n",
      "Worker 23 ends training in Global Round:35 |\n",
      "\n",
      "Worker 41 starts training in Global Round:35 |\n"
     ]
    },
    {
     "data": {
      "application/vnd.jupyter.widget-view+json": {
       "model_id": "0bbe51307d084ae3a0ae96dcd018ae07",
       "version_major": 2,
       "version_minor": 0
      },
      "text/plain": [
       "HBox(children=(IntProgress(value=0, max=5), HTML(value='')))"
      ]
     },
     "metadata": {},
     "output_type": "display_data"
    },
    {
     "name": "stdout",
     "output_type": "stream",
     "text": [
      "Train Epoch: 1 [0/500\t(1%)]\tLoss: 1.039949\n",
      "Train Epoch: 1 [400/500\t(81%)]\tLoss: 0.786792\n",
      "Train Epoch: 2 [0/500\t(1%)]\tLoss: 0.813488\n",
      "Train Epoch: 2 [400/500\t(81%)]\tLoss: 0.795580\n",
      "Train Epoch: 3 [0/500\t(1%)]\tLoss: 0.751128\n",
      "Train Epoch: 3 [400/500\t(81%)]\tLoss: 0.902012\n",
      "Train Epoch: 4 [0/500\t(1%)]\tLoss: 0.655717\n",
      "Train Epoch: 4 [400/500\t(81%)]\tLoss: 0.795723\n",
      "Train Epoch: 5 [0/500\t(1%)]\tLoss: 0.648765\n",
      "Train Epoch: 5 [400/500\t(81%)]\tLoss: 0.461781\n",
      "\n",
      "Performed attacks 2\n",
      "\n",
      "===>Random attack started by:  Worker 41  in Global Round:  35\n",
      "Random attack strating: \n",
      "Performed attacks 3\n",
      "Worker 41 ends training in Global Round:35 |\n",
      "\n",
      "Worker 73 starts training in Global Round:35 |\n"
     ]
    },
    {
     "data": {
      "application/vnd.jupyter.widget-view+json": {
       "model_id": "cfb866f850134f45b40e4bc8a3d5263e",
       "version_major": 2,
       "version_minor": 0
      },
      "text/plain": [
       "HBox(children=(IntProgress(value=0, max=5), HTML(value='')))"
      ]
     },
     "metadata": {},
     "output_type": "display_data"
    },
    {
     "name": "stdout",
     "output_type": "stream",
     "text": [
      "Train Epoch: 1 [0/500\t(1%)]\tLoss: 1.013480\n",
      "Train Epoch: 1 [400/500\t(81%)]\tLoss: 0.891438\n",
      "Train Epoch: 2 [0/500\t(1%)]\tLoss: 0.640753\n",
      "Train Epoch: 2 [400/500\t(81%)]\tLoss: 0.896925\n",
      "Train Epoch: 3 [0/500\t(1%)]\tLoss: 0.490171\n",
      "Train Epoch: 3 [400/500\t(81%)]\tLoss: 0.631084\n",
      "Train Epoch: 4 [0/500\t(1%)]\tLoss: 0.569787\n",
      "Train Epoch: 4 [400/500\t(81%)]\tLoss: 0.529817\n",
      "Train Epoch: 5 [0/500\t(1%)]\tLoss: 0.422773\n",
      "Train Epoch: 5 [400/500\t(81%)]\tLoss: 0.449147\n",
      "\n",
      "Worker 73 ends training in Global Round:35 |\n",
      "\n",
      "Worker 67 starts training in Global Round:35 |\n"
     ]
    },
    {
     "data": {
      "application/vnd.jupyter.widget-view+json": {
       "model_id": "3eb41403a16d46ae8de352a269e2c7c9",
       "version_major": 2,
       "version_minor": 0
      },
      "text/plain": [
       "HBox(children=(IntProgress(value=0, max=5), HTML(value='')))"
      ]
     },
     "metadata": {},
     "output_type": "display_data"
    },
    {
     "name": "stdout",
     "output_type": "stream",
     "text": [
      "Train Epoch: 1 [0/500\t(1%)]\tLoss: 0.926377\n",
      "Train Epoch: 1 [400/500\t(81%)]\tLoss: 1.306171\n",
      "Train Epoch: 2 [0/500\t(1%)]\tLoss: 0.912115\n",
      "Train Epoch: 2 [400/500\t(81%)]\tLoss: 0.818786\n",
      "Train Epoch: 3 [0/500\t(1%)]\tLoss: 0.584242\n",
      "Train Epoch: 3 [400/500\t(81%)]\tLoss: 0.874533\n",
      "Train Epoch: 4 [0/500\t(1%)]\tLoss: 0.788079\n",
      "Train Epoch: 4 [400/500\t(81%)]\tLoss: 0.634770\n",
      "Train Epoch: 5 [0/500\t(1%)]\tLoss: 0.586151\n",
      "Train Epoch: 5 [400/500\t(81%)]\tLoss: 0.642103\n",
      "\n",
      "Performed attacks 3\n",
      "\n",
      "===>Random attack started by:  Worker 67  in Global Round:  35\n",
      "Random attack strating: \n",
      "Performed attacks 4\n",
      "Worker 67 ends training in Global Round:35 |\n",
      "\n",
      "Worker 19 starts training in Global Round:35 |\n"
     ]
    },
    {
     "data": {
      "application/vnd.jupyter.widget-view+json": {
       "model_id": "31df7d8472e94cf5a16494a4fd9d1095",
       "version_major": 2,
       "version_minor": 0
      },
      "text/plain": [
       "HBox(children=(IntProgress(value=0, max=5), HTML(value='')))"
      ]
     },
     "metadata": {},
     "output_type": "display_data"
    },
    {
     "name": "stdout",
     "output_type": "stream",
     "text": [
      "Train Epoch: 1 [0/500\t(1%)]\tLoss: 0.781445\n",
      "Train Epoch: 1 [400/500\t(81%)]\tLoss: 0.799758\n",
      "Train Epoch: 2 [0/500\t(1%)]\tLoss: 0.722163\n",
      "Train Epoch: 2 [400/500\t(81%)]\tLoss: 0.750326\n",
      "Train Epoch: 3 [0/500\t(1%)]\tLoss: 0.608313\n",
      "Train Epoch: 3 [400/500\t(81%)]\tLoss: 0.650251\n",
      "Train Epoch: 4 [0/500\t(1%)]\tLoss: 0.487351\n",
      "Train Epoch: 4 [400/500\t(81%)]\tLoss: 0.648541\n",
      "Train Epoch: 5 [0/500\t(1%)]\tLoss: 0.423475\n",
      "Train Epoch: 5 [400/500\t(81%)]\tLoss: 0.761207\n",
      "\n",
      "Worker 19 ends training in Global Round:35 |\n",
      "\n",
      "Worker 79 starts training in Global Round:35 |\n"
     ]
    },
    {
     "data": {
      "application/vnd.jupyter.widget-view+json": {
       "model_id": "504485021a8b484f9e4e435d9c101eaa",
       "version_major": 2,
       "version_minor": 0
      },
      "text/plain": [
       "HBox(children=(IntProgress(value=0, max=5), HTML(value='')))"
      ]
     },
     "metadata": {},
     "output_type": "display_data"
    },
    {
     "name": "stdout",
     "output_type": "stream",
     "text": [
      "Train Epoch: 1 [0/500\t(1%)]\tLoss: 0.971122\n",
      "Train Epoch: 1 [400/500\t(81%)]\tLoss: 1.104732\n",
      "Train Epoch: 2 [0/500\t(1%)]\tLoss: 0.803934\n",
      "Train Epoch: 2 [400/500\t(81%)]\tLoss: 0.947465\n",
      "Train Epoch: 3 [0/500\t(1%)]\tLoss: 0.825735\n",
      "Train Epoch: 3 [400/500\t(81%)]\tLoss: 0.952468\n",
      "Train Epoch: 4 [0/500\t(1%)]\tLoss: 0.729478\n",
      "Train Epoch: 4 [400/500\t(81%)]\tLoss: 0.675034\n",
      "Train Epoch: 5 [0/500\t(1%)]\tLoss: 0.529927\n",
      "Train Epoch: 5 [400/500\t(81%)]\tLoss: 0.533860\n",
      "\n",
      "Worker 79 ends training in Global Round:35 |\n",
      "\n",
      "Worker 98 starts training in Global Round:35 |\n"
     ]
    },
    {
     "data": {
      "application/vnd.jupyter.widget-view+json": {
       "model_id": "76399abd3e604b8cb53a942cec31d888",
       "version_major": 2,
       "version_minor": 0
      },
      "text/plain": [
       "HBox(children=(IntProgress(value=0, max=5), HTML(value='')))"
      ]
     },
     "metadata": {},
     "output_type": "display_data"
    },
    {
     "name": "stdout",
     "output_type": "stream",
     "text": [
      "Train Epoch: 1 [0/500\t(1%)]\tLoss: 0.774537\n",
      "Train Epoch: 1 [400/500\t(81%)]\tLoss: 1.032285\n",
      "Train Epoch: 2 [0/500\t(1%)]\tLoss: 0.653815\n",
      "Train Epoch: 2 [400/500\t(81%)]\tLoss: 0.901250\n",
      "Train Epoch: 3 [0/500\t(1%)]\tLoss: 0.696749\n",
      "Train Epoch: 3 [400/500\t(81%)]\tLoss: 0.826224\n",
      "Train Epoch: 4 [0/500\t(1%)]\tLoss: 0.590878\n",
      "Train Epoch: 4 [400/500\t(81%)]\tLoss: 0.684896\n",
      "Train Epoch: 5 [0/500\t(1%)]\tLoss: 0.617856\n",
      "Train Epoch: 5 [400/500\t(81%)]\tLoss: 0.753887\n",
      "\n",
      "Worker 98 ends training in Global Round:35 |\n",
      "\n",
      "Worker 53 starts training in Global Round:35 |\n"
     ]
    },
    {
     "data": {
      "application/vnd.jupyter.widget-view+json": {
       "model_id": "437735e162624367b1dac118fd788682",
       "version_major": 2,
       "version_minor": 0
      },
      "text/plain": [
       "HBox(children=(IntProgress(value=0, max=5), HTML(value='')))"
      ]
     },
     "metadata": {},
     "output_type": "display_data"
    },
    {
     "name": "stdout",
     "output_type": "stream",
     "text": [
      "Train Epoch: 1 [0/500\t(1%)]\tLoss: 1.115637\n",
      "Train Epoch: 1 [400/500\t(81%)]\tLoss: 1.207207\n",
      "Train Epoch: 2 [0/500\t(1%)]\tLoss: 0.592318\n",
      "Train Epoch: 2 [400/500\t(81%)]\tLoss: 0.983188\n",
      "Train Epoch: 3 [0/500\t(1%)]\tLoss: 0.591870\n",
      "Train Epoch: 3 [400/500\t(81%)]\tLoss: 0.731858\n",
      "Train Epoch: 4 [0/500\t(1%)]\tLoss: 0.528529\n",
      "Train Epoch: 4 [400/500\t(81%)]\tLoss: 0.528674\n",
      "Train Epoch: 5 [0/500\t(1%)]\tLoss: 0.552320\n",
      "Train Epoch: 5 [400/500\t(81%)]\tLoss: 0.666360\n",
      "\n",
      "Worker 53 ends training in Global Round:35 |\n",
      "\n",
      "Worker 76 starts training in Global Round:35 |\n"
     ]
    },
    {
     "data": {
      "application/vnd.jupyter.widget-view+json": {
       "model_id": "a64c6ac6daff43aba1ec5faa28b60bd9",
       "version_major": 2,
       "version_minor": 0
      },
      "text/plain": [
       "HBox(children=(IntProgress(value=0, max=5), HTML(value='')))"
      ]
     },
     "metadata": {},
     "output_type": "display_data"
    },
    {
     "name": "stdout",
     "output_type": "stream",
     "text": [
      "Train Epoch: 1 [0/500\t(1%)]\tLoss: 0.672935\n",
      "Train Epoch: 1 [400/500\t(81%)]\tLoss: 0.861475\n",
      "Train Epoch: 2 [0/500\t(1%)]\tLoss: 0.691759\n",
      "Train Epoch: 2 [400/500\t(81%)]\tLoss: 0.623376\n",
      "Train Epoch: 3 [0/500\t(1%)]\tLoss: 0.658263\n",
      "Train Epoch: 3 [400/500\t(81%)]\tLoss: 0.655436\n",
      "Train Epoch: 4 [0/500\t(1%)]\tLoss: 0.474543\n",
      "Train Epoch: 4 [400/500\t(81%)]\tLoss: 0.732635\n",
      "Train Epoch: 5 [0/500\t(1%)]\tLoss: 0.684761\n",
      "Train Epoch: 5 [400/500\t(81%)]\tLoss: 0.486602\n",
      "\n",
      "Worker 76 ends training in Global Round:35 |\n",
      "\n",
      "Average loss: 0.9690, Accuracy: 6762/10000 (68%)\n",
      "\n",
      "\n",
      "Selected workers\n",
      "\n",
      "[47 28 66 86 62 14 70 38  1 29 84 65 31  6 60]\n",
      "Worker 47 : is  Honest\n",
      "Worker 28 : is  Random_Attacker\n",
      "Worker 66 : is  Random_Attacker\n",
      "Worker 86 : is  Random_Attacker\n",
      "Worker 62 : is  Honest\n",
      "Worker 14 : is  Random_Attacker\n",
      "Worker 70 : is  Honest\n",
      "Worker 38 : is  Random_Attacker\n",
      "Worker 1 : is  Honest\n",
      "Worker 29 : is  Honest\n",
      "Worker 84 : is  Honest\n",
      "Worker 65 : is  Honest\n",
      "Worker 31 : is  Random_Attacker\n",
      "Worker 6 : is  Random_Attacker\n",
      "Worker 60 : is  Honest\n",
      "\n",
      " | Global Training Round : 36 |\n",
      "\n",
      "\n",
      "Worker 47 starts training in Global Round:36 |\n"
     ]
    },
    {
     "data": {
      "application/vnd.jupyter.widget-view+json": {
       "model_id": "c6685d702a32460d9789f77ffc78ef5f",
       "version_major": 2,
       "version_minor": 0
      },
      "text/plain": [
       "HBox(children=(IntProgress(value=0, max=5), HTML(value='')))"
      ]
     },
     "metadata": {},
     "output_type": "display_data"
    },
    {
     "name": "stdout",
     "output_type": "stream",
     "text": [
      "Train Epoch: 1 [0/500\t(1%)]\tLoss: 0.753355\n",
      "Train Epoch: 1 [400/500\t(81%)]\tLoss: 0.940850\n",
      "Train Epoch: 2 [0/500\t(1%)]\tLoss: 0.776091\n",
      "Train Epoch: 2 [400/500\t(81%)]\tLoss: 0.859647\n",
      "Train Epoch: 3 [0/500\t(1%)]\tLoss: 0.586515\n",
      "Train Epoch: 3 [400/500\t(81%)]\tLoss: 0.684232\n",
      "Train Epoch: 4 [0/500\t(1%)]\tLoss: 0.604872\n",
      "Train Epoch: 4 [400/500\t(81%)]\tLoss: 0.707996\n",
      "Train Epoch: 5 [0/500\t(1%)]\tLoss: 0.377107\n",
      "Train Epoch: 5 [400/500\t(81%)]\tLoss: 0.447821\n",
      "\n",
      "Worker 47 ends training in Global Round:36 |\n",
      "\n",
      "Worker 28 starts training in Global Round:36 |\n"
     ]
    },
    {
     "data": {
      "application/vnd.jupyter.widget-view+json": {
       "model_id": "ca26d74248ed4d808618e7bbd6bc8965",
       "version_major": 2,
       "version_minor": 0
      },
      "text/plain": [
       "HBox(children=(IntProgress(value=0, max=5), HTML(value='')))"
      ]
     },
     "metadata": {},
     "output_type": "display_data"
    },
    {
     "name": "stdout",
     "output_type": "stream",
     "text": [
      "Train Epoch: 1 [0/500\t(1%)]\tLoss: 0.754278\n",
      "Train Epoch: 1 [400/500\t(81%)]\tLoss: 0.978637\n",
      "Train Epoch: 2 [0/500\t(1%)]\tLoss: 0.730413\n",
      "Train Epoch: 2 [400/500\t(81%)]\tLoss: 0.892779\n",
      "Train Epoch: 3 [0/500\t(1%)]\tLoss: 0.616707\n",
      "Train Epoch: 3 [400/500\t(81%)]\tLoss: 0.717611\n",
      "Train Epoch: 4 [0/500\t(1%)]\tLoss: 0.624067\n",
      "Train Epoch: 4 [400/500\t(81%)]\tLoss: 0.703389\n",
      "Train Epoch: 5 [0/500\t(1%)]\tLoss: 0.532108\n",
      "Train Epoch: 5 [400/500\t(81%)]\tLoss: 0.554946\n",
      "\n",
      "Performed attacks 0\n",
      "\n",
      "===>Random attack started by:  Worker 28  in Global Round:  36\n",
      "Random attack strating: \n",
      "Performed attacks 1\n",
      "Worker 28 ends training in Global Round:36 |\n",
      "\n",
      "Worker 66 starts training in Global Round:36 |\n"
     ]
    },
    {
     "data": {
      "application/vnd.jupyter.widget-view+json": {
       "model_id": "e610b06044f04825a32b8ea562ba171c",
       "version_major": 2,
       "version_minor": 0
      },
      "text/plain": [
       "HBox(children=(IntProgress(value=0, max=5), HTML(value='')))"
      ]
     },
     "metadata": {},
     "output_type": "display_data"
    },
    {
     "name": "stdout",
     "output_type": "stream",
     "text": [
      "Train Epoch: 1 [0/500\t(1%)]\tLoss: 0.887359\n",
      "Train Epoch: 1 [400/500\t(81%)]\tLoss: 1.085543\n",
      "Train Epoch: 2 [0/500\t(1%)]\tLoss: 0.833594\n",
      "Train Epoch: 2 [400/500\t(81%)]\tLoss: 0.753235\n",
      "Train Epoch: 3 [0/500\t(1%)]\tLoss: 0.838894\n",
      "Train Epoch: 3 [400/500\t(81%)]\tLoss: 0.832311\n",
      "Train Epoch: 4 [0/500\t(1%)]\tLoss: 0.751141\n",
      "Train Epoch: 4 [400/500\t(81%)]\tLoss: 0.852638\n",
      "Train Epoch: 5 [0/500\t(1%)]\tLoss: 0.562747\n",
      "Train Epoch: 5 [400/500\t(81%)]\tLoss: 0.532499\n",
      "\n",
      "Performed attacks 1\n",
      "\n",
      "===>Random attack started by:  Worker 66  in Global Round:  36\n",
      "Random attack strating: \n",
      "Performed attacks 2\n",
      "Worker 66 ends training in Global Round:36 |\n",
      "\n",
      "Worker 86 starts training in Global Round:36 |\n"
     ]
    },
    {
     "data": {
      "application/vnd.jupyter.widget-view+json": {
       "model_id": "0419e601baac4b91a23138d796492cf3",
       "version_major": 2,
       "version_minor": 0
      },
      "text/plain": [
       "HBox(children=(IntProgress(value=0, max=5), HTML(value='')))"
      ]
     },
     "metadata": {},
     "output_type": "display_data"
    },
    {
     "name": "stdout",
     "output_type": "stream",
     "text": [
      "Train Epoch: 1 [0/500\t(1%)]\tLoss: 0.819962\n",
      "Train Epoch: 1 [400/500\t(81%)]\tLoss: 0.797763\n",
      "Train Epoch: 2 [0/500\t(1%)]\tLoss: 0.850175\n",
      "Train Epoch: 2 [400/500\t(81%)]\tLoss: 0.824646\n",
      "Train Epoch: 3 [0/500\t(1%)]\tLoss: 0.651796\n",
      "Train Epoch: 3 [400/500\t(81%)]\tLoss: 0.494153\n",
      "Train Epoch: 4 [0/500\t(1%)]\tLoss: 0.602804\n",
      "Train Epoch: 4 [400/500\t(81%)]\tLoss: 0.596043\n",
      "Train Epoch: 5 [0/500\t(1%)]\tLoss: 0.532869\n",
      "Train Epoch: 5 [400/500\t(81%)]\tLoss: 0.762654\n",
      "\n",
      "Performed attacks 2\n",
      "\n",
      "===>Random attack started by:  Worker 86  in Global Round:  36\n",
      "Random attack strating: \n",
      "Performed attacks 3\n",
      "Worker 86 ends training in Global Round:36 |\n",
      "\n",
      "Worker 62 starts training in Global Round:36 |\n"
     ]
    },
    {
     "data": {
      "application/vnd.jupyter.widget-view+json": {
       "model_id": "e5917e55267e4a6682884f1f0048cc6b",
       "version_major": 2,
       "version_minor": 0
      },
      "text/plain": [
       "HBox(children=(IntProgress(value=0, max=5), HTML(value='')))"
      ]
     },
     "metadata": {},
     "output_type": "display_data"
    },
    {
     "name": "stdout",
     "output_type": "stream",
     "text": [
      "Train Epoch: 1 [0/500\t(1%)]\tLoss: 1.069285\n",
      "Train Epoch: 1 [400/500\t(81%)]\tLoss: 0.865647\n",
      "Train Epoch: 2 [0/500\t(1%)]\tLoss: 1.134889\n",
      "Train Epoch: 2 [400/500\t(81%)]\tLoss: 0.904725\n",
      "Train Epoch: 3 [0/500\t(1%)]\tLoss: 0.776446\n",
      "Train Epoch: 3 [400/500\t(81%)]\tLoss: 0.894753\n",
      "Train Epoch: 4 [0/500\t(1%)]\tLoss: 0.647706\n",
      "Train Epoch: 4 [400/500\t(81%)]\tLoss: 0.836908\n",
      "Train Epoch: 5 [0/500\t(1%)]\tLoss: 0.636884\n",
      "Train Epoch: 5 [400/500\t(81%)]\tLoss: 0.548807\n",
      "\n",
      "Worker 62 ends training in Global Round:36 |\n",
      "\n",
      "Worker 14 starts training in Global Round:36 |\n"
     ]
    },
    {
     "data": {
      "application/vnd.jupyter.widget-view+json": {
       "model_id": "e1c7367113174265af4fad7c180efee3",
       "version_major": 2,
       "version_minor": 0
      },
      "text/plain": [
       "HBox(children=(IntProgress(value=0, max=5), HTML(value='')))"
      ]
     },
     "metadata": {},
     "output_type": "display_data"
    },
    {
     "name": "stdout",
     "output_type": "stream",
     "text": [
      "Train Epoch: 1 [0/500\t(1%)]\tLoss: 0.924968\n",
      "Train Epoch: 1 [400/500\t(81%)]\tLoss: 0.916947\n",
      "Train Epoch: 2 [0/500\t(1%)]\tLoss: 0.724430\n",
      "Train Epoch: 2 [400/500\t(81%)]\tLoss: 0.876786\n",
      "Train Epoch: 3 [0/500\t(1%)]\tLoss: 0.711961\n",
      "Train Epoch: 3 [400/500\t(81%)]\tLoss: 0.796982\n",
      "Train Epoch: 4 [0/500\t(1%)]\tLoss: 0.592233\n",
      "Train Epoch: 4 [400/500\t(81%)]\tLoss: 0.651635\n",
      "Train Epoch: 5 [0/500\t(1%)]\tLoss: 0.428630\n",
      "Train Epoch: 5 [400/500\t(81%)]\tLoss: 0.433332\n",
      "\n",
      "Performed attacks 3\n",
      "\n",
      "===>Random attack started by:  Worker 14  in Global Round:  36\n",
      "Random attack strating: \n",
      "Performed attacks 4\n",
      "Worker 14 ends training in Global Round:36 |\n",
      "\n",
      "Worker 70 starts training in Global Round:36 |\n"
     ]
    },
    {
     "data": {
      "application/vnd.jupyter.widget-view+json": {
       "model_id": "86ebb264e7194b939c571f5101444f3b",
       "version_major": 2,
       "version_minor": 0
      },
      "text/plain": [
       "HBox(children=(IntProgress(value=0, max=5), HTML(value='')))"
      ]
     },
     "metadata": {},
     "output_type": "display_data"
    },
    {
     "name": "stdout",
     "output_type": "stream",
     "text": [
      "Train Epoch: 1 [0/500\t(1%)]\tLoss: 0.744782\n",
      "Train Epoch: 1 [400/500\t(81%)]\tLoss: 0.879212\n",
      "Train Epoch: 2 [0/500\t(1%)]\tLoss: 0.788966\n",
      "Train Epoch: 2 [400/500\t(81%)]\tLoss: 0.894963\n",
      "Train Epoch: 3 [0/500\t(1%)]\tLoss: 0.649641\n",
      "Train Epoch: 3 [400/500\t(81%)]\tLoss: 0.579005\n",
      "Train Epoch: 4 [0/500\t(1%)]\tLoss: 0.602555\n",
      "Train Epoch: 4 [400/500\t(81%)]\tLoss: 0.672240\n",
      "Train Epoch: 5 [0/500\t(1%)]\tLoss: 0.588591\n",
      "Train Epoch: 5 [400/500\t(81%)]\tLoss: 0.503814\n",
      "\n",
      "Worker 70 ends training in Global Round:36 |\n",
      "\n",
      "Worker 38 starts training in Global Round:36 |\n"
     ]
    },
    {
     "data": {
      "application/vnd.jupyter.widget-view+json": {
       "model_id": "194255cd3f2e472e83d61d2da3a182fe",
       "version_major": 2,
       "version_minor": 0
      },
      "text/plain": [
       "HBox(children=(IntProgress(value=0, max=5), HTML(value='')))"
      ]
     },
     "metadata": {},
     "output_type": "display_data"
    },
    {
     "name": "stdout",
     "output_type": "stream",
     "text": [
      "Train Epoch: 1 [0/500\t(1%)]\tLoss: 0.869309\n",
      "Train Epoch: 1 [400/500\t(81%)]\tLoss: 0.883973\n",
      "Train Epoch: 2 [0/500\t(1%)]\tLoss: 0.689894\n",
      "Train Epoch: 2 [400/500\t(81%)]\tLoss: 0.963691\n",
      "Train Epoch: 3 [0/500\t(1%)]\tLoss: 0.510428\n",
      "Train Epoch: 3 [400/500\t(81%)]\tLoss: 0.732757\n",
      "Train Epoch: 4 [0/500\t(1%)]\tLoss: 0.602180\n",
      "Train Epoch: 4 [400/500\t(81%)]\tLoss: 0.809435\n",
      "Train Epoch: 5 [0/500\t(1%)]\tLoss: 0.346022\n",
      "Train Epoch: 5 [400/500\t(81%)]\tLoss: 0.574710\n",
      "\n",
      "Worker 38 ends training in Global Round:36 |\n",
      "\n",
      "Worker 1 starts training in Global Round:36 |\n"
     ]
    },
    {
     "data": {
      "application/vnd.jupyter.widget-view+json": {
       "model_id": "496e2617cb27446aaf7ff695f82913a9",
       "version_major": 2,
       "version_minor": 0
      },
      "text/plain": [
       "HBox(children=(IntProgress(value=0, max=5), HTML(value='')))"
      ]
     },
     "metadata": {},
     "output_type": "display_data"
    },
    {
     "name": "stdout",
     "output_type": "stream",
     "text": [
      "Train Epoch: 1 [0/500\t(1%)]\tLoss: 0.755558\n",
      "Train Epoch: 1 [400/500\t(81%)]\tLoss: 0.863951\n",
      "Train Epoch: 2 [0/500\t(1%)]\tLoss: 0.722305\n",
      "Train Epoch: 2 [400/500\t(81%)]\tLoss: 0.756196\n",
      "Train Epoch: 3 [0/500\t(1%)]\tLoss: 0.612488\n",
      "Train Epoch: 3 [400/500\t(81%)]\tLoss: 0.870693\n",
      "Train Epoch: 4 [0/500\t(1%)]\tLoss: 0.538516\n",
      "Train Epoch: 4 [400/500\t(81%)]\tLoss: 0.517820\n",
      "Train Epoch: 5 [0/500\t(1%)]\tLoss: 0.586616\n",
      "Train Epoch: 5 [400/500\t(81%)]\tLoss: 0.610401\n",
      "\n",
      "Worker 1 ends training in Global Round:36 |\n",
      "\n",
      "Worker 29 starts training in Global Round:36 |\n"
     ]
    },
    {
     "data": {
      "application/vnd.jupyter.widget-view+json": {
       "model_id": "1dbeb4df70254d179c38368ec2a737d4",
       "version_major": 2,
       "version_minor": 0
      },
      "text/plain": [
       "HBox(children=(IntProgress(value=0, max=5), HTML(value='')))"
      ]
     },
     "metadata": {},
     "output_type": "display_data"
    },
    {
     "name": "stdout",
     "output_type": "stream",
     "text": [
      "Train Epoch: 1 [0/500\t(1%)]\tLoss: 0.654092\n",
      "Train Epoch: 1 [400/500\t(81%)]\tLoss: 1.039514\n",
      "Train Epoch: 2 [0/500\t(1%)]\tLoss: 0.613058\n",
      "Train Epoch: 2 [400/500\t(81%)]\tLoss: 0.591006\n",
      "Train Epoch: 3 [0/500\t(1%)]\tLoss: 0.564056\n",
      "Train Epoch: 3 [400/500\t(81%)]\tLoss: 0.614821\n",
      "Train Epoch: 4 [0/500\t(1%)]\tLoss: 0.474189\n",
      "Train Epoch: 4 [400/500\t(81%)]\tLoss: 0.495945\n",
      "Train Epoch: 5 [0/500\t(1%)]\tLoss: 0.451757\n",
      "Train Epoch: 5 [400/500\t(81%)]\tLoss: 0.370773\n",
      "\n",
      "Worker 29 ends training in Global Round:36 |\n",
      "\n",
      "Worker 84 starts training in Global Round:36 |\n"
     ]
    },
    {
     "data": {
      "application/vnd.jupyter.widget-view+json": {
       "model_id": "d381bde7869c47988647d6ea6f33d511",
       "version_major": 2,
       "version_minor": 0
      },
      "text/plain": [
       "HBox(children=(IntProgress(value=0, max=5), HTML(value='')))"
      ]
     },
     "metadata": {},
     "output_type": "display_data"
    },
    {
     "name": "stdout",
     "output_type": "stream",
     "text": [
      "Train Epoch: 1 [0/500\t(1%)]\tLoss: 1.303022\n",
      "Train Epoch: 1 [400/500\t(81%)]\tLoss: 1.082291\n",
      "Train Epoch: 2 [0/500\t(1%)]\tLoss: 0.812276\n",
      "Train Epoch: 2 [400/500\t(81%)]\tLoss: 0.908666\n",
      "Train Epoch: 3 [0/500\t(1%)]\tLoss: 0.839803\n",
      "Train Epoch: 3 [400/500\t(81%)]\tLoss: 0.661166\n",
      "Train Epoch: 4 [0/500\t(1%)]\tLoss: 0.768412\n",
      "Train Epoch: 4 [400/500\t(81%)]\tLoss: 0.498697\n",
      "Train Epoch: 5 [0/500\t(1%)]\tLoss: 0.515245\n",
      "Train Epoch: 5 [400/500\t(81%)]\tLoss: 0.582515\n",
      "\n",
      "Worker 84 ends training in Global Round:36 |\n",
      "\n",
      "Worker 65 starts training in Global Round:36 |\n"
     ]
    },
    {
     "data": {
      "application/vnd.jupyter.widget-view+json": {
       "model_id": "8b7f5b7aa3ed4f448d0f86f090a73549",
       "version_major": 2,
       "version_minor": 0
      },
      "text/plain": [
       "HBox(children=(IntProgress(value=0, max=5), HTML(value='')))"
      ]
     },
     "metadata": {},
     "output_type": "display_data"
    },
    {
     "name": "stdout",
     "output_type": "stream",
     "text": [
      "Train Epoch: 1 [0/500\t(1%)]\tLoss: 1.014495\n",
      "Train Epoch: 1 [400/500\t(81%)]\tLoss: 1.030842\n",
      "Train Epoch: 2 [0/500\t(1%)]\tLoss: 0.903621\n",
      "Train Epoch: 2 [400/500\t(81%)]\tLoss: 0.852864\n",
      "Train Epoch: 3 [0/500\t(1%)]\tLoss: 0.759504\n",
      "Train Epoch: 3 [400/500\t(81%)]\tLoss: 0.616331\n",
      "Train Epoch: 4 [0/500\t(1%)]\tLoss: 0.598656\n",
      "Train Epoch: 4 [400/500\t(81%)]\tLoss: 0.624855\n",
      "Train Epoch: 5 [0/500\t(1%)]\tLoss: 0.373551\n",
      "Train Epoch: 5 [400/500\t(81%)]\tLoss: 0.505483\n",
      "\n",
      "Worker 65 ends training in Global Round:36 |\n",
      "\n",
      "Worker 31 starts training in Global Round:36 |\n"
     ]
    },
    {
     "data": {
      "application/vnd.jupyter.widget-view+json": {
       "model_id": "0ea1a6db355040d6acc7ca274ed62624",
       "version_major": 2,
       "version_minor": 0
      },
      "text/plain": [
       "HBox(children=(IntProgress(value=0, max=5), HTML(value='')))"
      ]
     },
     "metadata": {},
     "output_type": "display_data"
    },
    {
     "name": "stdout",
     "output_type": "stream",
     "text": [
      "Train Epoch: 1 [0/500\t(1%)]\tLoss: 0.974837\n",
      "Train Epoch: 1 [400/500\t(81%)]\tLoss: 0.745907\n",
      "Train Epoch: 2 [0/500\t(1%)]\tLoss: 0.672759\n",
      "Train Epoch: 2 [400/500\t(81%)]\tLoss: 0.769133\n",
      "Train Epoch: 3 [0/500\t(1%)]\tLoss: 0.629866\n",
      "Train Epoch: 3 [400/500\t(81%)]\tLoss: 0.663477\n",
      "Train Epoch: 4 [0/500\t(1%)]\tLoss: 0.463165\n",
      "Train Epoch: 4 [400/500\t(81%)]\tLoss: 0.617239\n",
      "Train Epoch: 5 [0/500\t(1%)]\tLoss: 0.555488\n",
      "Train Epoch: 5 [400/500\t(81%)]\tLoss: 0.634440\n",
      "\n",
      "Worker 31 ends training in Global Round:36 |\n",
      "\n",
      "Worker 6 starts training in Global Round:36 |\n"
     ]
    },
    {
     "data": {
      "application/vnd.jupyter.widget-view+json": {
       "model_id": "506103fb900943d89c74d75576162b63",
       "version_major": 2,
       "version_minor": 0
      },
      "text/plain": [
       "HBox(children=(IntProgress(value=0, max=5), HTML(value='')))"
      ]
     },
     "metadata": {},
     "output_type": "display_data"
    },
    {
     "name": "stdout",
     "output_type": "stream",
     "text": [
      "Train Epoch: 1 [0/500\t(1%)]\tLoss: 0.910999\n",
      "Train Epoch: 1 [400/500\t(81%)]\tLoss: 0.896479\n",
      "Train Epoch: 2 [0/500\t(1%)]\tLoss: 0.766192\n",
      "Train Epoch: 2 [400/500\t(81%)]\tLoss: 0.731402\n",
      "Train Epoch: 3 [0/500\t(1%)]\tLoss: 0.680048\n",
      "Train Epoch: 3 [400/500\t(81%)]\tLoss: 0.764546\n",
      "Train Epoch: 4 [0/500\t(1%)]\tLoss: 0.708512\n",
      "Train Epoch: 4 [400/500\t(81%)]\tLoss: 0.619339\n",
      "Train Epoch: 5 [0/500\t(1%)]\tLoss: 0.504911\n",
      "Train Epoch: 5 [400/500\t(81%)]\tLoss: 0.707245\n",
      "\n",
      "Worker 6 ends training in Global Round:36 |\n",
      "\n",
      "Worker 60 starts training in Global Round:36 |\n"
     ]
    },
    {
     "data": {
      "application/vnd.jupyter.widget-view+json": {
       "model_id": "f3357ac7f1cc449686c3ed781f1c3a4a",
       "version_major": 2,
       "version_minor": 0
      },
      "text/plain": [
       "HBox(children=(IntProgress(value=0, max=5), HTML(value='')))"
      ]
     },
     "metadata": {},
     "output_type": "display_data"
    },
    {
     "name": "stdout",
     "output_type": "stream",
     "text": [
      "Train Epoch: 1 [0/500\t(1%)]\tLoss: 0.822247\n",
      "Train Epoch: 1 [400/500\t(81%)]\tLoss: 0.982377\n",
      "Train Epoch: 2 [0/500\t(1%)]\tLoss: 0.669766\n",
      "Train Epoch: 2 [400/500\t(81%)]\tLoss: 0.777346\n",
      "Train Epoch: 3 [0/500\t(1%)]\tLoss: 0.843760\n",
      "Train Epoch: 3 [400/500\t(81%)]\tLoss: 0.702821\n",
      "Train Epoch: 4 [0/500\t(1%)]\tLoss: 0.597125\n",
      "Train Epoch: 4 [400/500\t(81%)]\tLoss: 0.635972\n",
      "Train Epoch: 5 [0/500\t(1%)]\tLoss: 0.548175\n",
      "Train Epoch: 5 [400/500\t(81%)]\tLoss: 0.564605\n",
      "\n",
      "Worker 60 ends training in Global Round:36 |\n",
      "\n",
      "Average loss: 0.9440, Accuracy: 6812/10000 (68%)\n",
      "\n",
      "\n",
      "Selected workers\n",
      "\n",
      "[ 6 40 17 22 72 89 67  2  5 86 32 18 93 20 56]\n",
      "Worker 6 : is  Random_Attacker\n",
      "Worker 40 : is  Honest\n",
      "Worker 17 : is  Honest\n",
      "Worker 22 : is  Random_Attacker\n",
      "Worker 72 : is  Random_Attacker\n",
      "Worker 89 : is  Random_Attacker\n",
      "Worker 67 : is  Random_Attacker\n",
      "Worker 2 : is  Honest\n",
      "Worker 5 : is  Honest\n",
      "Worker 86 : is  Random_Attacker\n",
      "Worker 32 : is  Honest\n",
      "Worker 18 : is  Random_Attacker\n",
      "Worker 93 : is  Honest\n",
      "Worker 20 : is  Honest\n",
      "Worker 56 : is  Honest\n",
      "\n",
      " | Global Training Round : 37 |\n",
      "\n",
      "\n",
      "Worker 6 starts training in Global Round:37 |\n"
     ]
    },
    {
     "data": {
      "application/vnd.jupyter.widget-view+json": {
       "model_id": "d12256a76a94499b8760e4eae76ffc73",
       "version_major": 2,
       "version_minor": 0
      },
      "text/plain": [
       "HBox(children=(IntProgress(value=0, max=5), HTML(value='')))"
      ]
     },
     "metadata": {},
     "output_type": "display_data"
    },
    {
     "name": "stdout",
     "output_type": "stream",
     "text": [
      "Train Epoch: 1 [0/500\t(1%)]\tLoss: 0.839256\n",
      "Train Epoch: 1 [400/500\t(81%)]\tLoss: 1.002537\n",
      "Train Epoch: 2 [0/500\t(1%)]\tLoss: 0.685843\n",
      "Train Epoch: 2 [400/500\t(81%)]\tLoss: 0.939322\n",
      "Train Epoch: 3 [0/500\t(1%)]\tLoss: 0.670845\n",
      "Train Epoch: 3 [400/500\t(81%)]\tLoss: 0.694813\n",
      "Train Epoch: 4 [0/500\t(1%)]\tLoss: 0.505850\n",
      "Train Epoch: 4 [400/500\t(81%)]\tLoss: 0.664795\n",
      "Train Epoch: 5 [0/500\t(1%)]\tLoss: 0.482184\n",
      "Train Epoch: 5 [400/500\t(81%)]\tLoss: 0.542999\n",
      "\n",
      "Performed attacks 0\n",
      "\n",
      "===>Random attack started by:  Worker 6  in Global Round:  37\n",
      "Random attack strating: \n",
      "Performed attacks 1\n",
      "Worker 6 ends training in Global Round:37 |\n",
      "\n",
      "Worker 40 starts training in Global Round:37 |\n"
     ]
    },
    {
     "data": {
      "application/vnd.jupyter.widget-view+json": {
       "model_id": "fb915fdd98244165a16e251e7e0134b2",
       "version_major": 2,
       "version_minor": 0
      },
      "text/plain": [
       "HBox(children=(IntProgress(value=0, max=5), HTML(value='')))"
      ]
     },
     "metadata": {},
     "output_type": "display_data"
    },
    {
     "name": "stdout",
     "output_type": "stream",
     "text": [
      "Train Epoch: 1 [0/500\t(1%)]\tLoss: 1.210668\n",
      "Train Epoch: 1 [400/500\t(81%)]\tLoss: 1.166204\n",
      "Train Epoch: 2 [0/500\t(1%)]\tLoss: 1.063150\n",
      "Train Epoch: 2 [400/500\t(81%)]\tLoss: 0.829664\n"
     ]
    }
   ],
   "source": [
    "#Random attack training experiment in a simple environment (Under Random Attack)\n",
    "for m in MAXIMUM_ATTACKS:\n",
    "    \n",
    "    print('Maximum number of attacks: ', m)\n",
    "    print('Noise mean: {}, Noise SD: {}'.format(NOISE_MEAN, NOISE_SD))\n",
    "    untargeted_attack_training_exp(sim_num = 1, peer_pseudonym = PEER_PSEUDONYM,\n",
    "                peer_num = PEER_NUM, peer_frac = PEER_FRAC, seed = SEED, tau = NORMAL_TAU,\n",
    "               global_rounds = GLOBAL_ROUNDS, local_epochs = LOCAL_EPOCHS, local_bs = LOCAL_BS,\n",
    "               local_lr = LOCAL_LR, local_momentum = LOCAL_MOMENTUM, num_classes = NUM_CLASSES, \n",
    "               labels_dict = LABELS_DICT, classes_list = CLASSES_LIST, device = DEVICE,\n",
    "                               attack_type ='untargeted', attack_rates = UNTARGETED_ATTACK_RATES, \n",
    "                              malicious_behaviour_rate = RANDOM_MALICIOU_BEHAVIOUR_RATE, \n",
    "                               noise_mean = NOISE_MEAN, noise_sd = NOISE_SD, maximum_attacks =  m)"
   ]
  },
  {
   "cell_type": "code",
   "execution_count": null,
   "metadata": {},
   "outputs": [
    {
     "name": "stdout",
     "output_type": "stream",
     "text": [
      "Maximum number of attacks:  3\n",
      "Noise mean: 0, Noise SD: 0.05\n",
      "\n",
      "==>Start Untargeted attack Simulation in EigentTrust Environment...\n",
      "\n",
      "\n",
      "===>Untargeted attack with rate of: (40%) of peers and malicious behaviour rate of: (100%)\n",
      "======>Creating Global model.....\n",
      "VGG(\n",
      "  (features): Sequential(\n",
      "    (0): Conv2d(3, 64, kernel_size=(3, 3), stride=(1, 1), padding=(1, 1))\n",
      "    (1): BatchNorm2d(64, eps=1e-05, momentum=0.1, affine=True, track_running_stats=True)\n",
      "    (2): ReLU(inplace=True)\n",
      "    (3): Conv2d(64, 64, kernel_size=(3, 3), stride=(1, 1), padding=(1, 1))\n",
      "    (4): BatchNorm2d(64, eps=1e-05, momentum=0.1, affine=True, track_running_stats=True)\n",
      "    (5): ReLU(inplace=True)\n",
      "    (6): MaxPool2d(kernel_size=2, stride=2, padding=0, dilation=1, ceil_mode=False)\n",
      "    (7): Conv2d(64, 128, kernel_size=(3, 3), stride=(1, 1), padding=(1, 1))\n",
      "    (8): BatchNorm2d(128, eps=1e-05, momentum=0.1, affine=True, track_running_stats=True)\n",
      "    (9): ReLU(inplace=True)\n",
      "    (10): Conv2d(128, 128, kernel_size=(3, 3), stride=(1, 1), padding=(1, 1))\n",
      "    (11): BatchNorm2d(128, eps=1e-05, momentum=0.1, affine=True, track_running_stats=True)\n",
      "    (12): ReLU(inplace=True)\n",
      "    (13): MaxPool2d(kernel_size=2, stride=2, padding=0, dilation=1, ceil_mode=False)\n",
      "    (14): Conv2d(128, 256, kernel_size=(3, 3), stride=(1, 1), padding=(1, 1))\n",
      "    (15): BatchNorm2d(256, eps=1e-05, momentum=0.1, affine=True, track_running_stats=True)\n",
      "    (16): ReLU(inplace=True)\n",
      "    (17): Conv2d(256, 256, kernel_size=(3, 3), stride=(1, 1), padding=(1, 1))\n",
      "    (18): BatchNorm2d(256, eps=1e-05, momentum=0.1, affine=True, track_running_stats=True)\n",
      "    (19): ReLU(inplace=True)\n",
      "    (20): Conv2d(256, 256, kernel_size=(3, 3), stride=(1, 1), padding=(1, 1))\n",
      "    (21): BatchNorm2d(256, eps=1e-05, momentum=0.1, affine=True, track_running_stats=True)\n",
      "    (22): ReLU(inplace=True)\n",
      "    (23): MaxPool2d(kernel_size=2, stride=2, padding=0, dilation=1, ceil_mode=False)\n",
      "    (24): Conv2d(256, 512, kernel_size=(3, 3), stride=(1, 1), padding=(1, 1))\n",
      "    (25): BatchNorm2d(512, eps=1e-05, momentum=0.1, affine=True, track_running_stats=True)\n",
      "    (26): ReLU(inplace=True)\n",
      "    (27): Conv2d(512, 512, kernel_size=(3, 3), stride=(1, 1), padding=(1, 1))\n",
      "    (28): BatchNorm2d(512, eps=1e-05, momentum=0.1, affine=True, track_running_stats=True)\n",
      "    (29): ReLU(inplace=True)\n",
      "    (30): Conv2d(512, 512, kernel_size=(3, 3), stride=(1, 1), padding=(1, 1))\n",
      "    (31): BatchNorm2d(512, eps=1e-05, momentum=0.1, affine=True, track_running_stats=True)\n",
      "    (32): ReLU(inplace=True)\n",
      "    (33): MaxPool2d(kernel_size=2, stride=2, padding=0, dilation=1, ceil_mode=False)\n",
      "    (34): Conv2d(512, 512, kernel_size=(3, 3), stride=(1, 1), padding=(1, 1))\n",
      "    (35): BatchNorm2d(512, eps=1e-05, momentum=0.1, affine=True, track_running_stats=True)\n",
      "    (36): ReLU(inplace=True)\n",
      "    (37): Conv2d(512, 512, kernel_size=(3, 3), stride=(1, 1), padding=(1, 1))\n",
      "    (38): BatchNorm2d(512, eps=1e-05, momentum=0.1, affine=True, track_running_stats=True)\n",
      "    (39): ReLU(inplace=True)\n",
      "    (40): Conv2d(512, 512, kernel_size=(3, 3), stride=(1, 1), padding=(1, 1))\n",
      "    (41): BatchNorm2d(512, eps=1e-05, momentum=0.1, affine=True, track_running_stats=True)\n",
      "    (42): ReLU(inplace=True)\n",
      "    (43): MaxPool2d(kernel_size=2, stride=2, padding=0, dilation=1, ceil_mode=False)\n",
      "    (44): AvgPool2d(kernel_size=1, stride=1, padding=0)\n",
      "  )\n",
      "  (classifier): Linear(in_features=512, out_features=10, bias=True)\n",
      ")\n",
      "\n",
      "===>Simulation Step: 1\n",
      "Peers types in this Simulation |\n",
      "=======> loading training dataset......\n",
      "\n",
      "=======> loading training dataset......\n",
      "\n",
      "=======> loading testing dataset......\n",
      "\n",
      "\n",
      "Loading done!....\n",
      "\n",
      "\n",
      "=======> Start Global Model Training......\n",
      "\n"
     ]
    },
    {
     "data": {
      "application/vnd.jupyter.widget-view+json": {
       "model_id": "21e7d53d110b42bca28958050db6458b",
       "version_major": 2,
       "version_minor": 0
      },
      "text/plain": [
       "HBox(children=(IntProgress(value=0), HTML(value='')))"
      ]
     },
     "metadata": {},
     "output_type": "display_data"
    },
    {
     "name": "stdout",
     "output_type": "stream",
     "text": [
      "\n",
      "Selected workers\n",
      "\n",
      "[32 93 79 54 20 23 66 25 36 75 33 62 95 68 49]\n",
      "Worker 32 : is  Honest\n",
      "Worker 93 : is  Honest\n",
      "Worker 79 : is  Random_Attacker\n",
      "Worker 54 : is  Honest\n",
      "Worker 20 : is  Honest\n",
      "Worker 23 : is  Random_Attacker\n",
      "Worker 66 : is  Random_Attacker\n",
      "Worker 25 : is  Honest\n",
      "Worker 36 : is  Honest\n",
      "Worker 75 : is  Random_Attacker\n",
      "Worker 33 : is  Random_Attacker\n",
      "Worker 62 : is  Honest\n",
      "Worker 95 : is  Honest\n",
      "Worker 68 : is  Honest\n",
      "Worker 49 : is  Honest\n",
      "\n",
      " | Global Training Round : 1 |\n",
      "\n",
      "\n",
      "Worker 32 starts training in Global Round:1 |\n"
     ]
    },
    {
     "data": {
      "application/vnd.jupyter.widget-view+json": {
       "model_id": "2228291894e549e8af561c71dbe9e048",
       "version_major": 2,
       "version_minor": 0
      },
      "text/plain": [
       "HBox(children=(IntProgress(value=0, max=5), HTML(value='')))"
      ]
     },
     "metadata": {},
     "output_type": "display_data"
    },
    {
     "name": "stdout",
     "output_type": "stream",
     "text": [
      "Train Epoch: 1 [0/500\t(1%)]\tLoss: 2.715106\n",
      "Train Epoch: 1 [400/500\t(81%)]\tLoss: 2.560396\n",
      "Train Epoch: 2 [0/500\t(1%)]\tLoss: 2.238075\n",
      "Train Epoch: 2 [400/500\t(81%)]\tLoss: 2.420401\n",
      "Train Epoch: 3 [0/500\t(1%)]\tLoss: 2.212572\n",
      "Train Epoch: 3 [400/500\t(81%)]\tLoss: 2.229904\n",
      "Train Epoch: 4 [0/500\t(1%)]\tLoss: 2.283935\n",
      "Train Epoch: 4 [400/500\t(81%)]\tLoss: 2.245865\n",
      "Train Epoch: 5 [0/500\t(1%)]\tLoss: 2.085931\n",
      "Train Epoch: 5 [400/500\t(81%)]\tLoss: 2.353004\n",
      "\n",
      "Worker 32 ends training in Global Round:1 |\n",
      "\n",
      "Worker 93 starts training in Global Round:1 |\n"
     ]
    },
    {
     "data": {
      "application/vnd.jupyter.widget-view+json": {
       "model_id": "167356a7bc554ee6b6c8e09bbea69626",
       "version_major": 2,
       "version_minor": 0
      },
      "text/plain": [
       "HBox(children=(IntProgress(value=0, max=5), HTML(value='')))"
      ]
     },
     "metadata": {},
     "output_type": "display_data"
    },
    {
     "name": "stdout",
     "output_type": "stream",
     "text": [
      "Train Epoch: 1 [0/500\t(1%)]\tLoss: 2.658226\n",
      "Train Epoch: 1 [400/500\t(81%)]\tLoss: 2.436564\n",
      "Train Epoch: 2 [0/500\t(1%)]\tLoss: 2.413598\n",
      "Train Epoch: 2 [400/500\t(81%)]\tLoss: 2.069607\n",
      "Train Epoch: 3 [0/500\t(1%)]\tLoss: 2.030561\n",
      "Train Epoch: 3 [400/500\t(81%)]\tLoss: 2.525021\n",
      "Train Epoch: 4 [0/500\t(1%)]\tLoss: 2.092808\n",
      "Train Epoch: 4 [400/500\t(81%)]\tLoss: 2.066418\n",
      "Train Epoch: 5 [0/500\t(1%)]\tLoss: 2.496398\n",
      "Train Epoch: 5 [400/500\t(81%)]\tLoss: 1.951830\n",
      "\n",
      "Worker 93 ends training in Global Round:1 |\n",
      "\n",
      "Worker 79 starts training in Global Round:1 |\n"
     ]
    },
    {
     "data": {
      "application/vnd.jupyter.widget-view+json": {
       "model_id": "08ce6a8fe7ff42c08d93d1d7f78a483f",
       "version_major": 2,
       "version_minor": 0
      },
      "text/plain": [
       "HBox(children=(IntProgress(value=0, max=5), HTML(value='')))"
      ]
     },
     "metadata": {},
     "output_type": "display_data"
    },
    {
     "name": "stdout",
     "output_type": "stream",
     "text": [
      "Train Epoch: 1 [0/500\t(1%)]\tLoss: 2.727852\n",
      "Train Epoch: 1 [400/500\t(81%)]\tLoss: 2.375160\n",
      "Train Epoch: 2 [0/500\t(1%)]\tLoss: 2.174628\n",
      "Train Epoch: 2 [400/500\t(81%)]\tLoss: 2.061550\n",
      "Train Epoch: 3 [0/500\t(1%)]\tLoss: 2.224319\n",
      "Train Epoch: 3 [400/500\t(81%)]\tLoss: 2.210891\n",
      "Train Epoch: 4 [0/500\t(1%)]\tLoss: 2.406568\n",
      "Train Epoch: 4 [400/500\t(81%)]\tLoss: 2.061808\n",
      "Train Epoch: 5 [0/500\t(1%)]\tLoss: 2.147662\n",
      "Train Epoch: 5 [400/500\t(81%)]\tLoss: 1.893789\n",
      "\n",
      "Performed attacks 0\n",
      "\n",
      "===>Random attack started by:  Worker 79  in Global Round:  1\n",
      "Random attack strating: \n",
      "Performed attacks 1\n",
      "Worker 79 ends training in Global Round:1 |\n",
      "\n",
      "Worker 54 starts training in Global Round:1 |\n"
     ]
    },
    {
     "data": {
      "application/vnd.jupyter.widget-view+json": {
       "model_id": "2820489765df403f83a4e56a8f5cb498",
       "version_major": 2,
       "version_minor": 0
      },
      "text/plain": [
       "HBox(children=(IntProgress(value=0, max=5), HTML(value='')))"
      ]
     },
     "metadata": {},
     "output_type": "display_data"
    },
    {
     "name": "stdout",
     "output_type": "stream",
     "text": [
      "Train Epoch: 1 [0/500\t(1%)]\tLoss: 2.651445\n",
      "Train Epoch: 1 [400/500\t(81%)]\tLoss: 2.393485\n",
      "Train Epoch: 2 [0/500\t(1%)]\tLoss: 2.017407\n",
      "Train Epoch: 2 [400/500\t(81%)]\tLoss: 2.204904\n",
      "Train Epoch: 3 [0/500\t(1%)]\tLoss: 1.956438\n",
      "Train Epoch: 3 [400/500\t(81%)]\tLoss: 1.851527\n",
      "Train Epoch: 4 [0/500\t(1%)]\tLoss: 2.016019\n",
      "Train Epoch: 4 [400/500\t(81%)]\tLoss: 2.287971\n",
      "Train Epoch: 5 [0/500\t(1%)]\tLoss: 1.907987\n",
      "Train Epoch: 5 [400/500\t(81%)]\tLoss: 2.118683\n",
      "\n",
      "Worker 54 ends training in Global Round:1 |\n",
      "\n",
      "Worker 20 starts training in Global Round:1 |\n"
     ]
    },
    {
     "data": {
      "application/vnd.jupyter.widget-view+json": {
       "model_id": "c1eef9354f92497cac9a74563775cad6",
       "version_major": 2,
       "version_minor": 0
      },
      "text/plain": [
       "HBox(children=(IntProgress(value=0, max=5), HTML(value='')))"
      ]
     },
     "metadata": {},
     "output_type": "display_data"
    },
    {
     "name": "stdout",
     "output_type": "stream",
     "text": [
      "Train Epoch: 1 [0/500\t(1%)]\tLoss: 2.600789\n",
      "Train Epoch: 1 [400/500\t(81%)]\tLoss: 2.761133\n",
      "Train Epoch: 2 [0/500\t(1%)]\tLoss: 2.315908\n",
      "Train Epoch: 2 [400/500\t(81%)]\tLoss: 2.145913\n",
      "Train Epoch: 3 [0/500\t(1%)]\tLoss: 2.188108\n",
      "Train Epoch: 3 [400/500\t(81%)]\tLoss: 2.312652\n",
      "Train Epoch: 4 [0/500\t(1%)]\tLoss: 2.235069\n",
      "Train Epoch: 4 [400/500\t(81%)]\tLoss: 2.495639\n",
      "Train Epoch: 5 [0/500\t(1%)]\tLoss: 1.729281\n",
      "Train Epoch: 5 [400/500\t(81%)]\tLoss: 2.436866\n",
      "\n",
      "Worker 20 ends training in Global Round:1 |\n",
      "\n",
      "Worker 23 starts training in Global Round:1 |\n"
     ]
    },
    {
     "data": {
      "application/vnd.jupyter.widget-view+json": {
       "model_id": "c18a2c3ff0ca46dea3040ab633b01c28",
       "version_major": 2,
       "version_minor": 0
      },
      "text/plain": [
       "HBox(children=(IntProgress(value=0, max=5), HTML(value='')))"
      ]
     },
     "metadata": {},
     "output_type": "display_data"
    },
    {
     "name": "stdout",
     "output_type": "stream",
     "text": [
      "Train Epoch: 1 [0/500\t(1%)]\tLoss: 2.599747\n",
      "Train Epoch: 1 [400/500\t(81%)]\tLoss: 2.149944\n"
     ]
    }
   ],
   "source": [
    "#Random attack training experiment in a secure environment (Under Random Attack)\n",
    "#%time\n",
    "for m in MAXIMUM_ATTACKS:\n",
    "    \n",
    "    print('Maximum number of attacks: ', m)\n",
    "    print('Noise mean: {}, Noise SD: {}'.format(NOISE_MEAN, NOISE_SD))\n",
    "\n",
    "    secureEnv_random_attack_training_exp(sim_num = 1, peer_pseudonym = PEER_PSEUDONYM,\n",
    "                    peer_num = PEER_NUM, peer_frac = PEER_FRAC, seed = SEED, tau = NORMAL_TAU, \n",
    "                    global_rounds = GLOBAL_ROUNDS, local_epochs = LOCAL_EPOCHS, local_bs = LOCAL_BS,\n",
    "                   local_lr = LOCAL_LR , local_momentum = LOCAL_MOMENTUM, num_classes = NUM_CLASSES, \n",
    "                   labels_dict = LABELS_DICT, classes_list = CLASSES_LIST, device = DEVICE,\n",
    "                    attack_type = 'untargeted', attack_rates = UNTARGETED_ATTACK_RATES, mapping_list = MAPPING_LIST, \n",
    "                                              malicious_behaviour_rate = RANDOM_MALICIOU_BEHAVIOUR_RATE, \n",
    "                                         noise_mean = NOISE_MEAN, noise_sd = NOISE_SD, maximum_attacks = m)"
   ]
  },
  {
   "cell_type": "code",
   "execution_count": null,
   "metadata": {},
   "outputs": [],
   "source": [
    "#Targeted attack training experiment in a simple environment (Under Targeted Attack)\n",
    "\n",
    "# targeted_attack_training_exp(sim_num = 1, peer_pseudonym = PEER_PSEUDONYM,\n",
    "#                 peer_num = PEER_NUM, peer_frac = PEER_FRAC, acm_frac = ACM_FRAC, seed = SEED,tau = TARGETED_TAU,\n",
    "#                global_rounds = GLOBAL_ROUNDS, local_epochs = LOCAL_EPOCHS, local_bs = LOCAL_BS,\n",
    "#                local_lr = LOCAL_LR, local_momentum = LOCAL_MOMENTUM, num_classes = NUM_CLASSES, \n",
    "#                labels_dict = LABELS_DICT, classes_list = CLASSES_LIST, device = DEVICE,\n",
    "#                                attack_type ='targeted', attack_rates = STEALTHY_POSONING_RATES, \n",
    "#                              malicious_behaviour_rate = STEALTHY_MALICIOU_BEHAVIOUR_RATE, mapping_list = MAPPING_LIST)"
   ]
  },
  {
   "cell_type": "code",
   "execution_count": null,
   "metadata": {},
   "outputs": [],
   "source": [
    "#Targeted attack training experiment in an EigenTrust environment\n",
    "\n",
    "# eigenTrust_targeted_attack_training_exp(sim_num = SIM_NUM, peer_pseudonym = PEER_PSEUDONYM,\n",
    "#                 peer_num = PEER_NUM, peer_frac = PEER_FRAC, acm_frac = ACM_FRAC, seed = SEED, tau = TARGETED_TAU, \n",
    "#                 trust_upd = TRUST_UPDATE, global_rounds = GLOBAL_ROUNDS, local_epochs = LOCAL_EPOCHS, local_bs = LOCAL_BS,\n",
    "#                local_lr = LOCAL_LR , local_momentum = LOCAL_MOMENTUM, num_classes = NUM_CLASSES, \n",
    "#                labels_dict = LABELS_DICT, classes_list = CLASSES_LIST, device = DEVICE,\n",
    "#                 attack_type = 'targeted', attack_rates = STEALTHY_POSONING_RATES, \n",
    "#                                           malicious_behaviour_rate = STEALTHY_MALICIOU_BEHAVIOUR_RATE, \n",
    "#                                         mapping_list = MAPPING_LIST, a = A)"
   ]
  }
 ],
 "metadata": {
  "kernelspec": {
   "display_name": "Python 3",
   "language": "python",
   "name": "python3"
  },
  "language_info": {
   "codemirror_mode": {
    "name": "ipython",
    "version": 3
   },
   "file_extension": ".py",
   "mimetype": "text/x-python",
   "name": "python",
   "nbconvert_exporter": "python",
   "pygments_lexer": "ipython3",
   "version": "3.7.4"
  }
 },
 "nbformat": 4,
 "nbformat_minor": 2
}
