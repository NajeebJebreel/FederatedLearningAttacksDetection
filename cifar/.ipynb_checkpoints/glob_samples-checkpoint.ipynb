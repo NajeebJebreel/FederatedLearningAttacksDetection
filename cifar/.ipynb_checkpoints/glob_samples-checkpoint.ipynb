{
 "cells": [
  {
   "cell_type": "code",
   "execution_count": 48,
   "metadata": {},
   "outputs": [
    {
     "name": "stdout",
     "output_type": "stream",
     "text": [
      "174\n"
     ]
    },
    {
     "data": {
      "text/plain": [
       "'ML (1).png'"
      ]
     },
     "execution_count": 48,
     "metadata": {},
     "output_type": "execute_result"
    }
   ],
   "source": [
    "import os\n",
    "import glob\n",
    "\n",
    "with open(\"lebels\")\n",
    "\n",
    "file_names = []\n",
    "path = os.path.join(os.getcwd(), \"*.png\")\n",
    "for f in glob.glob(path):\n",
    "    if not \"mask\" in f:\n",
    "        #print(f)\n",
    "        file_names.append(\"ML \"+f.split()[-1])\n",
    "\n",
    "print(len(file_names))\n",
    "\n",
    "file_names[0]\n"
   ]
  }
 ],
 "metadata": {
  "kernelspec": {
   "display_name": "Python 3",
   "language": "python",
   "name": "python3"
  },
  "language_info": {
   "codemirror_mode": {
    "name": "ipython",
    "version": 3
   },
   "file_extension": ".py",
   "mimetype": "text/x-python",
   "name": "python",
   "nbconvert_exporter": "python",
   "pygments_lexer": "ipython3",
   "version": "3.7.4"
  }
 },
 "nbformat": 4,
 "nbformat_minor": 2
}
