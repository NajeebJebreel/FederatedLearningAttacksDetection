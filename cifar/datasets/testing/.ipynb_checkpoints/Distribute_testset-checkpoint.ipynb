{
 "cells": [
  {
   "cell_type": "code",
   "execution_count": 2,
   "metadata": {},
   "outputs": [
    {
     "name": "stdout",
     "output_type": "stream",
     "text": [
      "10\n",
      "airplane\n",
      "automobile\n",
      "bird\n",
      "cat\n",
      "deer\n",
      "dog\n",
      "frog\n",
      "horse\n",
      "ship\n",
      "truck\n",
      "10000\n",
      "1001_airplane.png\n",
      "0\n"
     ]
    },
    {
     "data": {
      "text/plain": [
       "{'airplane': 0,\n",
       " 'automobile': 1,\n",
       " 'bird': 2,\n",
       " 'cat': 3,\n",
       " 'deer': 4,\n",
       " 'dog': 5,\n",
       " 'frog': 6,\n",
       " 'horse': 7,\n",
       " 'ship': 8,\n",
       " 'truck': 9}"
      ]
     },
     "execution_count": 2,
     "metadata": {},
     "output_type": "execute_result"
    }
   ],
   "source": [
    "import os\n",
    "import glob\n",
    "\n",
    "\n",
    "\n",
    "labels_dict = {}\n",
    "\n",
    "file_names = []\n",
    "\n",
    "i = 0\n",
    "\n",
    "\n",
    "with open(\"labels.txt\", \"r\") as fp:\n",
    "    for line in fp:\n",
    "        labels = [line.strip() for line in fp]\n",
    "\n",
    "        \n",
    "    \n",
    "  \n",
    "print(len(labels))  \n",
    "\n",
    "for l in labels:\n",
    "    labels_dict[l] = i\n",
    "    print(l)\n",
    "    i = i + 1\n",
    "\n",
    "images_names = []\n",
    "images_labels = []\n",
    "\n",
    "\n",
    "path = os.path.join(os.getcwd(), \"*.png\")\n",
    "\n",
    "for f in glob.glob(path):\n",
    "    \n",
    "    filename = f.split()[-1].split(\"\\\\\")[-1]\n",
    "    images_names.append(filename)\n",
    "    image_label = filename.split(\"_\")[1].split(\".\")[0]\n",
    "    images_labels.append(labels_dict[image_label])\n",
    "    \n",
    "    \n",
    "\n",
    "print(len(images_names))\n",
    "print(images_names[2])\n",
    "print(images_labels[2])\n",
    "\n",
    "\n",
    "labels_dict"
   ]
  }
 ],
 "metadata": {
  "kernelspec": {
   "display_name": "Python 3",
   "language": "python",
   "name": "python3"
  },
  "language_info": {
   "codemirror_mode": {
    "name": "ipython",
    "version": 3
   },
   "file_extension": ".py",
   "mimetype": "text/x-python",
   "name": "python",
   "nbconvert_exporter": "python",
   "pygments_lexer": "ipython3",
   "version": "3.7.4"
  }
 },
 "nbformat": 4,
 "nbformat_minor": 2
}
