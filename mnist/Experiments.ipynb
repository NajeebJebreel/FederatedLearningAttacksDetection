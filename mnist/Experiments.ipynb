{
 "cells": [
  {
   "cell_type": "code",
   "execution_count": 1,
   "metadata": {},
   "outputs": [],
   "source": [
    "#================================= Start of importing required packages and libraries =========================================#\n",
    "from __future__ import print_function\n",
    "%matplotlib inline\n",
    "import numpy as np\n",
    "import torchvision\n",
    "import torchvision\n",
    "import torch.nn as nn\n",
    "import torch.nn.functional as F\n",
    "import torch.optim as optim\n",
    "from torchvision import datasets, transforms\n",
    "from sklearn.metrics import *\n",
    "from matplotlib import pyplot as plt\n",
    "from dataset import Dataset\n",
    "from models import CNNMnist, DenseNet\n",
    "import os\n",
    "from torch.utils import data\n",
    "import math\n",
    "import random\n",
    "from tqdm import tqdm\n",
    "import copy\n",
    "import statistics\n",
    "from utils import *\n",
    "from environment_federated import *\n",
    "from experiment_federated import *\n",
    "\n",
    "#================================== End of importing required packages and libraries ==========================================#\n"
   ]
  },
  {
   "cell_type": "code",
   "execution_count": 2,
   "metadata": {},
   "outputs": [],
   "source": [
    "#=============================== Defining global variables ========================#\n",
    "SIM_NUM = 3 # number of simulation times\n",
    "PEER_NUM = 100 # \"number of peers: K\" \n",
    "PEER_PSEUDONYM = ['Worker '+str(i+1) for i in range(PEER_NUM)]\n",
    "PEER_FRAC = 0.15 #'the fraction of peers: C to bel selected in each round'\n",
    "UNTARGETED_ATTACK_RATES = [0.4] #different rates of random attack\n",
    "STEALTHY_POSONING_RATES = [0.4] #different rates of stealthy attack\n",
    "RANDOM_MALICIOU_BEHAVIOUR_RATE = 1\n",
    "STEALTHY_MALICIOU_BEHAVIOUR_RATE = 1\n",
    "MAPPING_LIST = [0, 1, 2, 3, 4, 5, 6, 7, 8, 4]\n",
    "SEED = 7 #fixed seed\n",
    "NORMAL_TAU = 0 # value of tau to dtermine outliers based on the rule Q1 - tau * IQR =< dist <= Q3 + tau * IQR \n",
    "TARGETED_TAU = 1\n",
    "\n",
    "taus = np.empty(6)\n",
    "taus[0]=1.5\n",
    "for i in range(1, 6):\n",
    "    taus[i] = taus[i-1]-0.4\n",
    "\n",
    "NOISE_MEAN = 0\n",
    "NOISE_SD = 0.01\n",
    "MAXIMUM_ATTACKS = [0, 1, 2, 3, 4, 5, 6]\n",
    "MAXIMUM_ATTACKS.reverse()\n",
    "                     \n",
    "GLOBAL_ROUNDS = 30 #\"number of rounds of federated model training\"\n",
    "LOCAL_EPOCHS = 5#\"the number of local epochs: E for each peer\"\n",
    "LOCAL_BS = 20 #\"local batch size: B for each peer\"\n",
    "LOCAL_LR =  0.001#local learning rate: lr for each peer\n",
    "LOCAL_MOMENTUM = 0.9 #local momentum for each peer\n",
    "NUM_CLASSES = 10 # number of classes in an experiment\n",
    "\n",
    "LABELS_DICT = {\"zero\":0, \n",
    "        \"one\":1,\n",
    "        \"two\":2,\n",
    "        \"three\":3,\n",
    "        \"four\":4,\n",
    "        \"five\":5,\n",
    "        \"six\":6,\n",
    "        \"seven\":7,\n",
    "        \"eight\":8,\n",
    "        \"nine\":9}\n",
    "\n",
    "CLASSES_LIST = ('Zero', 'One', 'Two',  'Three',  'Four',  'Five',\n",
    "                       'Six',   'Seven', 'Eight', 'Nine')\n",
    "\n",
    "#select the device to work with cpu or gpu\n",
    "if torch.cuda.is_available():\n",
    "    DEVICE = \"cuda\"\n",
    "else:\n",
    "    DEVICE = \"cpu\"\n",
    "    \n",
    "DEVICE = torch.device(DEVICE)\n",
    "\n",
    "random.seed(SEED)\n",
    "torch.manual_seed(SEED)\n",
    "torch.cuda.manual_seed_all(SEED)\n",
    "np.random.seed(SEED)\n",
    "os.environ['PYTHONHASHSEED'] = str(SEED)"
   ]
  },
  {
   "cell_type": "code",
   "execution_count": null,
   "metadata": {},
   "outputs": [],
   "source": [
    "#Normal training experiment in a simple environment 100% honest peers\n",
    "normal_training_exp(sim_num=1, peer_pseudonym = PEER_PSEUDONYM,\n",
    "                peer_num=PEER_NUM, peer_frac = PEER_FRAC, seed = SEED,tau =NORMAL_TAU,\n",
    "               global_rounds = GLOBAL_ROUNDS, local_epochs = LOCAL_EPOCHS, local_bs = LOCAL_BS,\n",
    "               local_lr = LOCAL_LR, local_momentum = LOCAL_MOMENTUM, num_classes = NUM_CLASSES, \n",
    "               labels_dict = LABELS_DICT, classes_list = CLASSES_LIST, device = DEVICE)"
   ]
  },
  {
   "cell_type": "code",
   "execution_count": null,
   "metadata": {},
   "outputs": [],
   "source": [
    "#Random attack training experiment in a simple environment (Under Random Attack)\n",
    "\n",
    "untargeted_attack_training_exp(sim_num = 1, peer_pseudonym = PEER_PSEUDONYM,\n",
    "                peer_num = PEER_NUM, peer_frac = PEER_FRAC, seed = SEED, tau = NORMAL_TAU,\n",
    "               global_rounds = GLOBAL_ROUNDS, local_epochs = LOCAL_EPOCHS, local_bs = LOCAL_BS,\n",
    "               local_lr = LOCAL_LR, local_momentum = LOCAL_MOMENTUM, num_classes = NUM_CLASSES, \n",
    "               labels_dict = LABELS_DICT, classes_list = CLASSES_LIST, device = DEVICE,\n",
    "                               attack_type ='untargeted', attack_rates = UNTARGETED_ATTACK_RATES, \n",
    "                              malicious_behaviour_rate = RANDOM_MALICIOU_BEHAVIOUR_RATE)"
   ]
  },
  {
   "cell_type": "code",
   "execution_count": null,
   "metadata": {},
   "outputs": [],
   "source": [
    "#Random attack training experiment in a secure environment (Under Random Attack)\n",
    "\n",
    "secureEnv_random_attack_training_exp(sim_num = 1, peer_pseudonym = PEER_PSEUDONYM,\n",
    "                peer_num = PEER_NUM, peer_frac = PEER_FRAC, seed = SEED, tau = NORMAL_TAU, \n",
    "                global_rounds = GLOBAL_ROUNDS, local_epochs = LOCAL_EPOCHS, local_bs = LOCAL_BS,\n",
    "               local_lr = LOCAL_LR , local_momentum = LOCAL_MOMENTUM, num_classes = NUM_CLASSES, \n",
    "               labels_dict = LABELS_DICT, classes_list = CLASSES_LIST, device = DEVICE,\n",
    "                attack_type = 'untargeted', attack_rates = UNTARGETED_ATTACK_RATES, mapping_list = MAPPING_LIST, \n",
    "                                          malicious_behaviour_rate = RANDOM_MALICIOU_BEHAVIOUR_RATE)"
   ]
  },
  {
   "cell_type": "code",
   "execution_count": null,
   "metadata": {},
   "outputs": [],
   "source": [
    "# Targeted attack training experiment in a simple environment (Under Targeted Attack with no detection)\n",
    "\n",
    "for m in MAXIMUM_ATTACKS:\n",
    "    \n",
    "    print('Maximum number of attacks: ', m)\n",
    "    \n",
    "    targeted_attack_training_exp(sim_num = 1, peer_pseudonym = PEER_PSEUDONYM,\n",
    "                    peer_num = PEER_NUM, peer_frac = PEER_FRAC, seed = SEED,tau = TARGETED_TAU,\n",
    "                   global_rounds = GLOBAL_ROUNDS, local_epochs = LOCAL_EPOCHS, local_bs = LOCAL_BS,\n",
    "                   local_lr = LOCAL_LR, local_momentum = LOCAL_MOMENTUM, num_classes = NUM_CLASSES, \n",
    "                   labels_dict = LABELS_DICT, classes_list = CLASSES_LIST, device = DEVICE,\n",
    "                                   attack_type ='targeted', attack_rates = STEALTHY_POSONING_RATES, \n",
    "                                 malicious_behaviour_rate = STEALTHY_MALICIOU_BEHAVIOUR_RATE, mapping_list = MAPPING_LIST,\n",
    "                                maximum_attacks=m)"
   ]
  },
  {
   "cell_type": "code",
   "execution_count": 3,
   "metadata": {},
   "outputs": [
    {
     "name": "stdout",
     "output_type": "stream",
     "text": [
      "Maximum number of attacks:  6\n",
      "Tau value :  -0.5\n",
      "\n",
      "==>Start targeted attack Simulation in Secure Environment...\n",
      "\n",
      "\n",
      "===>targeted attack with rate of: (40%) of peers and malicious behaviour rate of: (100%)\n",
      "======>Creating Global model.....\n",
      "CNNMnist(\n",
      "  (conv1): Conv2d(1, 10, kernel_size=(5, 5), stride=(1, 1))\n",
      "  (conv2): Conv2d(10, 20, kernel_size=(5, 5), stride=(1, 1))\n",
      "  (conv2_drop): Dropout2d(p=0.5, inplace=False)\n",
      "  (fc1): Linear(in_features=320, out_features=50, bias=True)\n",
      "  (fc2): Linear(in_features=50, out_features=10, bias=True)\n",
      ")\n",
      "\n",
      "===>Simulation Step: 1\n",
      "\n",
      "Loading done!....\n",
      "\n",
      "\n",
      "=======> Start Global Model Training......\n",
      "\n"
     ]
    },
    {
     "data": {
      "application/vnd.jupyter.widget-view+json": {
       "model_id": "6b68ca0b744f47ea93bf7276017f203b",
       "version_major": 2,
       "version_minor": 0
      },
      "text/plain": [
       "HBox(children=(IntProgress(value=0, max=30), HTML(value='')))"
      ]
     },
     "metadata": {},
     "output_type": "display_data"
    },
    {
     "name": "stdout",
     "output_type": "stream",
     "text": [
      "\n",
      "Selected workers\n",
      "\n",
      "[32 93 79 54 20 23 66 25 36 75 33 62 95 68 49]\n",
      "Worker 32 : is  Honest\n",
      "Worker 93 : is  Honest\n",
      "Worker 79 : is  Stealthy_Attacker\n",
      "Worker 54 : is  Honest\n",
      "Worker 20 : is  Honest\n",
      "Worker 23 : is  Stealthy_Attacker\n",
      "Worker 66 : is  Stealthy_Attacker\n",
      "Worker 25 : is  Honest\n",
      "Worker 36 : is  Honest\n",
      "Worker 75 : is  Stealthy_Attacker\n",
      "Worker 33 : is  Stealthy_Attacker\n",
      "Worker 62 : is  Honest\n",
      "Worker 95 : is  Honest\n",
      "Worker 68 : is  Honest\n",
      "Worker 49 : is  Honest\n",
      "\n",
      " | Global Training Round : 1 |\n",
      "\n",
      "\n",
      "Worker 32 starts training in Global Round:1 |\n"
     ]
    },
    {
     "data": {
      "application/vnd.jupyter.widget-view+json": {
       "model_id": "a8c6cca52ddd40d5b81bc54f95c133b8",
       "version_major": 2,
       "version_minor": 0
      },
      "text/plain": [
       "HBox(children=(IntProgress(value=0, max=5), HTML(value='')))"
      ]
     },
     "metadata": {},
     "output_type": "display_data"
    },
    {
     "name": "stdout",
     "output_type": "stream",
     "text": [
      "Train Epoch: 1 [0/596\t(1%)]\tLoss: 2.324178\n",
      "Train Epoch: 2 [0/596\t(1%)]\tLoss: 2.301140\n",
      "Train Epoch: 3 [0/596\t(1%)]\tLoss: 2.242644\n",
      "Train Epoch: 4 [0/596\t(1%)]\tLoss: 2.259973\n",
      "Train Epoch: 5 [0/596\t(1%)]\tLoss: 2.236674\n",
      "\n",
      "Worker 32 ends training in Global Round:1 |\n",
      "\n",
      "Worker 93 starts training in Global Round:1 |\n"
     ]
    },
    {
     "data": {
      "application/vnd.jupyter.widget-view+json": {
       "model_id": "2a2c52f7df5a45538e7177ccd4ad7fc5",
       "version_major": 2,
       "version_minor": 0
      },
      "text/plain": [
       "HBox(children=(IntProgress(value=0, max=5), HTML(value='')))"
      ]
     },
     "metadata": {},
     "output_type": "display_data"
    },
    {
     "name": "stdout",
     "output_type": "stream",
     "text": [
      "Train Epoch: 1 [0/596\t(1%)]\tLoss: 2.329423\n",
      "Train Epoch: 2 [0/596\t(1%)]\tLoss: 2.301955\n",
      "Train Epoch: 3 [0/596\t(1%)]\tLoss: 2.314887\n",
      "Train Epoch: 4 [0/596\t(1%)]\tLoss: 2.254878\n",
      "Train Epoch: 5 [0/596\t(1%)]\tLoss: 2.257310\n",
      "\n",
      "Worker 93 ends training in Global Round:1 |\n",
      "\n",
      "Worker 79 starts training in Global Round:1 |\n",
      "Performed attacks 0\n",
      "\n",
      "===>Targeted/stealthy attack started by:  Worker 79  in Global Round:  1\n"
     ]
    },
    {
     "data": {
      "application/vnd.jupyter.widget-view+json": {
       "model_id": "7294ed3adec44047a6bc3f68a85e6c09",
       "version_major": 2,
       "version_minor": 0
      },
      "text/plain": [
       "HBox(children=(IntProgress(value=0, max=5), HTML(value='')))"
      ]
     },
     "metadata": {},
     "output_type": "display_data"
    },
    {
     "name": "stdout",
     "output_type": "stream",
     "text": [
      "Train Epoch: 1 [0/596\t(1%)]\tLoss: 2.281091\n",
      "Train Epoch: 2 [0/596\t(1%)]\tLoss: 2.262718\n",
      "Train Epoch: 3 [0/596\t(1%)]\tLoss: 2.265451\n",
      "Train Epoch: 4 [0/596\t(1%)]\tLoss: 2.214187\n",
      "Train Epoch: 5 [0/596\t(1%)]\tLoss: 2.108091\n",
      "\n",
      "Performed attacks 1\n",
      "Worker 79 ends training in Global Round:1 |\n",
      "\n",
      "Worker 54 starts training in Global Round:1 |\n"
     ]
    },
    {
     "data": {
      "application/vnd.jupyter.widget-view+json": {
       "model_id": "af5d8d4807fd42cf82f75d6aa9d6397d",
       "version_major": 2,
       "version_minor": 0
      },
      "text/plain": [
       "HBox(children=(IntProgress(value=0, max=5), HTML(value='')))"
      ]
     },
     "metadata": {},
     "output_type": "display_data"
    },
    {
     "name": "stdout",
     "output_type": "stream",
     "text": [
      "Train Epoch: 1 [0/596\t(1%)]\tLoss: 2.293784\n",
      "Train Epoch: 2 [0/596\t(1%)]\tLoss: 2.319298\n",
      "Train Epoch: 3 [0/596\t(1%)]\tLoss: 2.332591\n",
      "Train Epoch: 4 [0/596\t(1%)]\tLoss: 2.265134\n",
      "Train Epoch: 5 [0/596\t(1%)]\tLoss: 2.222277\n",
      "\n",
      "Worker 54 ends training in Global Round:1 |\n",
      "\n",
      "Worker 20 starts training in Global Round:1 |\n"
     ]
    },
    {
     "data": {
      "application/vnd.jupyter.widget-view+json": {
       "model_id": "1af3d4550c6540d3890b58946edad05d",
       "version_major": 2,
       "version_minor": 0
      },
      "text/plain": [
       "HBox(children=(IntProgress(value=0, max=5), HTML(value='')))"
      ]
     },
     "metadata": {},
     "output_type": "display_data"
    },
    {
     "name": "stdout",
     "output_type": "stream",
     "text": [
      "Train Epoch: 1 [0/596\t(1%)]\tLoss: 2.345358\n",
      "Train Epoch: 2 [0/596\t(1%)]\tLoss: 2.297629\n",
      "Train Epoch: 3 [0/596\t(1%)]\tLoss: 2.272818\n",
      "Train Epoch: 4 [0/596\t(1%)]\tLoss: 2.282071\n",
      "Train Epoch: 5 [0/596\t(1%)]\tLoss: 2.205096\n",
      "\n",
      "Worker 20 ends training in Global Round:1 |\n",
      "\n",
      "Worker 23 starts training in Global Round:1 |\n",
      "Performed attacks 1\n",
      "\n",
      "===>Targeted/stealthy attack started by:  Worker 23  in Global Round:  1\n"
     ]
    },
    {
     "data": {
      "application/vnd.jupyter.widget-view+json": {
       "model_id": "b905bfc360c34696a519786422a209f4",
       "version_major": 2,
       "version_minor": 0
      },
      "text/plain": [
       "HBox(children=(IntProgress(value=0, max=5), HTML(value='')))"
      ]
     },
     "metadata": {},
     "output_type": "display_data"
    },
    {
     "name": "stdout",
     "output_type": "stream",
     "text": [
      "Train Epoch: 1 [0/596\t(1%)]\tLoss: 2.342496\n",
      "Train Epoch: 2 [0/596\t(1%)]\tLoss: 2.284213\n",
      "Train Epoch: 3 [0/596\t(1%)]\tLoss: 2.296641\n",
      "Train Epoch: 4 [0/596\t(1%)]\tLoss: 2.133679\n",
      "Train Epoch: 5 [0/596\t(1%)]\tLoss: 1.880432\n",
      "\n",
      "Performed attacks 2\n",
      "Worker 23 ends training in Global Round:1 |\n",
      "\n",
      "Worker 66 starts training in Global Round:1 |\n",
      "Performed attacks 2\n",
      "\n",
      "===>Targeted/stealthy attack started by:  Worker 66  in Global Round:  1\n"
     ]
    },
    {
     "data": {
      "application/vnd.jupyter.widget-view+json": {
       "model_id": "6f14aa5d4c5541b48cc6c5bf97b3bd92",
       "version_major": 2,
       "version_minor": 0
      },
      "text/plain": [
       "HBox(children=(IntProgress(value=0, max=5), HTML(value='')))"
      ]
     },
     "metadata": {},
     "output_type": "display_data"
    },
    {
     "name": "stdout",
     "output_type": "stream",
     "text": [
      "Train Epoch: 1 [0/596\t(1%)]\tLoss: 2.321208\n",
      "Train Epoch: 2 [0/596\t(1%)]\tLoss: 2.289616\n",
      "Train Epoch: 3 [0/596\t(1%)]\tLoss: 2.233276\n",
      "Train Epoch: 4 [0/596\t(1%)]\tLoss: 2.222402\n",
      "Train Epoch: 5 [0/596\t(1%)]\tLoss: 2.147272\n",
      "\n",
      "Performed attacks 3\n",
      "Worker 66 ends training in Global Round:1 |\n",
      "\n",
      "Worker 25 starts training in Global Round:1 |\n"
     ]
    },
    {
     "data": {
      "application/vnd.jupyter.widget-view+json": {
       "model_id": "4a05a25592bd45d9be10e406658610f6",
       "version_major": 2,
       "version_minor": 0
      },
      "text/plain": [
       "HBox(children=(IntProgress(value=0, max=5), HTML(value='')))"
      ]
     },
     "metadata": {},
     "output_type": "display_data"
    },
    {
     "name": "stdout",
     "output_type": "stream",
     "text": [
      "Train Epoch: 1 [0/596\t(1%)]\tLoss: 2.315589\n",
      "Train Epoch: 2 [0/596\t(1%)]\tLoss: 2.315377\n",
      "Train Epoch: 3 [0/596\t(1%)]\tLoss: 2.271760\n",
      "Train Epoch: 4 [0/596\t(1%)]\tLoss: 2.296169\n",
      "Train Epoch: 5 [0/596\t(1%)]\tLoss: 2.314172\n",
      "\n",
      "Worker 25 ends training in Global Round:1 |\n",
      "\n",
      "Worker 36 starts training in Global Round:1 |\n"
     ]
    },
    {
     "data": {
      "application/vnd.jupyter.widget-view+json": {
       "model_id": "777239eaba244a868742b28f20223bed",
       "version_major": 2,
       "version_minor": 0
      },
      "text/plain": [
       "HBox(children=(IntProgress(value=0, max=5), HTML(value='')))"
      ]
     },
     "metadata": {},
     "output_type": "display_data"
    },
    {
     "name": "stdout",
     "output_type": "stream",
     "text": [
      "Train Epoch: 1 [0/596\t(1%)]\tLoss: 2.365821\n",
      "Train Epoch: 2 [0/596\t(1%)]\tLoss: 2.255010\n",
      "Train Epoch: 3 [0/596\t(1%)]\tLoss: 2.313543\n",
      "Train Epoch: 4 [0/596\t(1%)]\tLoss: 2.269982\n",
      "Train Epoch: 5 [0/596\t(1%)]\tLoss: 2.231358\n",
      "\n",
      "Worker 36 ends training in Global Round:1 |\n",
      "\n",
      "Worker 75 starts training in Global Round:1 |\n",
      "Performed attacks 3\n",
      "\n",
      "===>Targeted/stealthy attack started by:  Worker 75  in Global Round:  1\n"
     ]
    },
    {
     "data": {
      "application/vnd.jupyter.widget-view+json": {
       "model_id": "07f0abe043bd48288799a094c5627282",
       "version_major": 2,
       "version_minor": 0
      },
      "text/plain": [
       "HBox(children=(IntProgress(value=0, max=5), HTML(value='')))"
      ]
     },
     "metadata": {},
     "output_type": "display_data"
    },
    {
     "name": "stdout",
     "output_type": "stream",
     "text": [
      "Train Epoch: 1 [0/596\t(1%)]\tLoss: 2.314806\n",
      "Train Epoch: 2 [0/596\t(1%)]\tLoss: 2.356976\n",
      "Train Epoch: 3 [0/596\t(1%)]\tLoss: 2.227359\n",
      "Train Epoch: 4 [0/596\t(1%)]\tLoss: 2.194114\n",
      "Train Epoch: 5 [0/596\t(1%)]\tLoss: 2.148500\n",
      "\n",
      "Performed attacks 4\n",
      "Worker 75 ends training in Global Round:1 |\n",
      "\n",
      "Worker 33 starts training in Global Round:1 |\n",
      "Performed attacks 4\n",
      "\n",
      "===>Targeted/stealthy attack started by:  Worker 33  in Global Round:  1\n"
     ]
    },
    {
     "data": {
      "application/vnd.jupyter.widget-view+json": {
       "model_id": "6bfbe9ead5b94a43b1c8ce6c460d2a85",
       "version_major": 2,
       "version_minor": 0
      },
      "text/plain": [
       "HBox(children=(IntProgress(value=0, max=5), HTML(value='')))"
      ]
     },
     "metadata": {},
     "output_type": "display_data"
    },
    {
     "name": "stdout",
     "output_type": "stream",
     "text": [
      "Train Epoch: 1 [0/596\t(1%)]\tLoss: 2.273557\n",
      "Train Epoch: 2 [0/596\t(1%)]\tLoss: 2.272318\n",
      "Train Epoch: 3 [0/596\t(1%)]\tLoss: 2.272272\n",
      "Train Epoch: 4 [0/596\t(1%)]\tLoss: 2.196925\n",
      "Train Epoch: 5 [0/596\t(1%)]\tLoss: 2.126355\n",
      "\n",
      "Performed attacks 5\n",
      "Worker 33 ends training in Global Round:1 |\n",
      "\n",
      "Worker 62 starts training in Global Round:1 |\n"
     ]
    },
    {
     "data": {
      "application/vnd.jupyter.widget-view+json": {
       "model_id": "924a83d773d4404a8119904a3a374a05",
       "version_major": 2,
       "version_minor": 0
      },
      "text/plain": [
       "HBox(children=(IntProgress(value=0, max=5), HTML(value='')))"
      ]
     },
     "metadata": {},
     "output_type": "display_data"
    },
    {
     "name": "stdout",
     "output_type": "stream",
     "text": [
      "Train Epoch: 1 [0/596\t(1%)]\tLoss: 2.333549\n",
      "Train Epoch: 2 [0/596\t(1%)]\tLoss: 2.320938\n",
      "Train Epoch: 3 [0/596\t(1%)]\tLoss: 2.272410\n",
      "Train Epoch: 4 [0/596\t(1%)]\tLoss: 2.232969\n",
      "Train Epoch: 5 [0/596\t(1%)]\tLoss: 2.224079\n",
      "\n",
      "Worker 62 ends training in Global Round:1 |\n",
      "\n",
      "Worker 95 starts training in Global Round:1 |\n"
     ]
    },
    {
     "data": {
      "application/vnd.jupyter.widget-view+json": {
       "model_id": "fe86da60b0ca4e95ab6a2c6a0287f582",
       "version_major": 2,
       "version_minor": 0
      },
      "text/plain": [
       "HBox(children=(IntProgress(value=0, max=5), HTML(value='')))"
      ]
     },
     "metadata": {},
     "output_type": "display_data"
    },
    {
     "name": "stdout",
     "output_type": "stream",
     "text": [
      "Train Epoch: 1 [0/596\t(1%)]\tLoss: 2.324778\n",
      "Train Epoch: 2 [0/596\t(1%)]\tLoss: 2.213844\n",
      "Train Epoch: 3 [0/596\t(1%)]\tLoss: 2.317612\n",
      "Train Epoch: 4 [0/596\t(1%)]\tLoss: 2.273321\n",
      "Train Epoch: 5 [0/596\t(1%)]\tLoss: 2.231489\n",
      "\n",
      "Worker 95 ends training in Global Round:1 |\n",
      "\n",
      "Worker 68 starts training in Global Round:1 |\n"
     ]
    },
    {
     "data": {
      "application/vnd.jupyter.widget-view+json": {
       "model_id": "addf7f4b7caa4b0bae9b0ef12c08dbec",
       "version_major": 2,
       "version_minor": 0
      },
      "text/plain": [
       "HBox(children=(IntProgress(value=0, max=5), HTML(value='')))"
      ]
     },
     "metadata": {},
     "output_type": "display_data"
    },
    {
     "name": "stdout",
     "output_type": "stream",
     "text": [
      "Train Epoch: 1 [0/596\t(1%)]\tLoss: 2.287653\n",
      "Train Epoch: 2 [0/596\t(1%)]\tLoss: 2.279771\n",
      "Train Epoch: 3 [0/596\t(1%)]\tLoss: 2.295766\n",
      "Train Epoch: 4 [0/596\t(1%)]\tLoss: 2.234906\n",
      "Train Epoch: 5 [0/596\t(1%)]\tLoss: 2.248201\n",
      "\n",
      "Worker 68 ends training in Global Round:1 |\n",
      "\n",
      "Worker 49 starts training in Global Round:1 |\n"
     ]
    },
    {
     "data": {
      "application/vnd.jupyter.widget-view+json": {
       "model_id": "becd6fab4ea14d94b3d01f7ceda50e18",
       "version_major": 2,
       "version_minor": 0
      },
      "text/plain": [
       "HBox(children=(IntProgress(value=0, max=5), HTML(value='')))"
      ]
     },
     "metadata": {},
     "output_type": "display_data"
    },
    {
     "name": "stdout",
     "output_type": "stream",
     "text": [
      "Train Epoch: 1 [0/596\t(1%)]\tLoss: 2.305769\n",
      "Train Epoch: 2 [0/596\t(1%)]\tLoss: 2.327223\n",
      "Train Epoch: 3 [0/596\t(1%)]\tLoss: 2.314443\n",
      "Train Epoch: 4 [0/596\t(1%)]\tLoss: 2.348235\n",
      "Train Epoch: 5 [0/596\t(1%)]\tLoss: 2.241146\n",
      "\n",
      "Worker 49 ends training in Global Round:1 |\n",
      "Last layer biases  [array([-0.01085503,  0.12526898,  0.08547497,  0.12338903,  0.02273891,\n",
      "       -0.00384581,  0.13120633, -0.07331362, -0.13768356,  0.09034205],\n",
      "      dtype=float32), array([-0.0144955 ,  0.12565412,  0.08650556,  0.12444799,  0.02103342,\n",
      "        0.00259337,  0.13220383, -0.07790712, -0.1380766 ,  0.09076324],\n",
      "      dtype=float32), array([-8.1699118e-03,  1.3440110e-01,  1.0101857e-01,  1.2604679e-01,\n",
      "        9.1169208e-02, -1.7296239e-03,  1.3840178e-01, -8.1115797e-02,\n",
      "       -1.4729479e-01, -5.0276476e-06], dtype=float32), array([-0.01443019,  0.12190548,  0.0902397 ,  0.12635401,  0.0236273 ,\n",
      "       -0.00035232,  0.1326912 , -0.08000032, -0.1365382 ,  0.08922584],\n",
      "      dtype=float32), array([-0.01465937,  0.12735333,  0.08620804,  0.12385365,  0.02212288,\n",
      "        0.00108636,  0.13458546, -0.0777173 , -0.14047956,  0.09036878],\n",
      "      dtype=float32), array([-0.00818362,  0.13071243,  0.10117833,  0.1236228 ,  0.09077612,\n",
      "       -0.00033474,  0.14259124, -0.08285862, -0.14384094, -0.00094074],\n",
      "      dtype=float32), array([-0.00745519,  0.13248664,  0.0968459 ,  0.12211946,  0.09898774,\n",
      "       -0.00467479,  0.13813283, -0.07512597, -0.14584053, -0.00275372],\n",
      "      dtype=float32), array([-1.4336620e-02,  1.2649801e-01,  8.5746199e-02,  1.2510280e-01,\n",
      "        2.2755418e-02, -1.3735783e-04,  1.3339697e-01, -7.7056929e-02,\n",
      "       -1.3862287e-01,  8.9376554e-02], dtype=float32), array([-0.01133466,  0.12739415,  0.08712109,  0.12750183,  0.0228607 ,\n",
      "        0.00115418,  0.1318245 , -0.07985891, -0.14324944,  0.08930865],\n",
      "      dtype=float32), array([-1.16618648e-02,  1.35609895e-01,  9.35225263e-02,  1.18275255e-01,\n",
      "        9.44751352e-02, -5.70251956e-04,  1.37584940e-01, -7.57728145e-02,\n",
      "       -1.38858184e-01,  1.17528405e-04], dtype=float32), array([-0.01267828,  0.1351313 ,  0.09769262,  0.12335708,  0.09729716,\n",
      "       -0.00502743,  0.13691767, -0.0787944 , -0.13978903, -0.00138431],\n",
      "      dtype=float32), array([-0.01634622,  0.12625872,  0.08733544,  0.1272532 ,  0.02237695,\n",
      "        0.00178181,  0.13174812, -0.07828786, -0.1381804 ,  0.08878244],\n",
      "      dtype=float32), array([-0.01335086,  0.12031278,  0.09117435,  0.12633981,  0.02178334,\n",
      "        0.0005178 ,  0.13249381, -0.07866137, -0.1389237 ,  0.09103639],\n",
      "      dtype=float32), array([-0.01493292,  0.12676883,  0.0849386 ,  0.12490048,  0.02398747,\n",
      "        0.00049237,  0.13415374, -0.07762937, -0.1391063 ,  0.08914933],\n",
      "      dtype=float32), array([-0.01455789,  0.1234259 ,  0.08723156,  0.12347791,  0.02328973,\n",
      "        0.00295413,  0.131943  , -0.07528096, -0.13879852,  0.08903753],\n",
      "      dtype=float32)]\n",
      "MAD biases [0.07586404532194138, 0.07664271853864194, 0.08293525986373425, 0.07681099586188793, 0.07720162384212018, 0.0825039591640234, 0.08244227729737759, 0.07675188966095448, 0.07735783755779266, 0.08062133267521858, 0.08280692659318448, 0.07700336575508118, 0.07699919417500496, 0.07670997083187103, 0.07575094066560269]\n",
      "GeoMed  [-0.01416457  0.12565087  0.08705412  0.12514496  0.02422161  0.00072227\n",
      "  0.1329585  -0.07757744 -0.13903048  0.08774243]\n",
      "Distances from geomed  [0.00834052 0.00502744 0.11227813 0.00644747 0.00466132 0.1127047\n",
      " 0.11867853 0.00294076 0.00673714 0.11328955 0.11637381 0.00423701\n",
      " 0.00811176 0.00314635 0.00466921]\n",
      "[1.0, 1.0, 0.0, 1.0, 1.0, 0.0, 0.0, 1.0, 1.0, 0.0, 0.0, 1.0, 1.0, 1.0, 1.0]\n",
      "Detection accuracy 100.0%\n",
      "\n",
      "Worker:  Worker 32\n"
     ]
    },
    {
     "ename": "KeyError",
     "evalue": "'1.0'",
     "output_type": "error",
     "traceback": [
      "\u001b[1;31m---------------------------------------------------------------------------\u001b[0m",
      "\u001b[1;31mKeyError\u001b[0m                                  Traceback (most recent call last)",
      "\u001b[1;32m<ipython-input-3-3d71499303cd>\u001b[0m in \u001b[0;36m<module>\u001b[1;34m\u001b[0m\n\u001b[0;32m     13\u001b[0m                                    \u001b[0mattack_type\u001b[0m \u001b[1;33m=\u001b[0m\u001b[1;34m'targeted'\u001b[0m\u001b[1;33m,\u001b[0m \u001b[0mattack_rates\u001b[0m \u001b[1;33m=\u001b[0m \u001b[0mSTEALTHY_POSONING_RATES\u001b[0m\u001b[1;33m,\u001b[0m\u001b[1;33m\u001b[0m\u001b[1;33m\u001b[0m\u001b[0m\n\u001b[0;32m     14\u001b[0m                                  \u001b[0mmalicious_behaviour_rate\u001b[0m \u001b[1;33m=\u001b[0m \u001b[0mSTEALTHY_MALICIOU_BEHAVIOUR_RATE\u001b[0m\u001b[1;33m,\u001b[0m \u001b[0mmapping_list\u001b[0m \u001b[1;33m=\u001b[0m \u001b[0mMAPPING_LIST\u001b[0m\u001b[1;33m,\u001b[0m\u001b[1;33m\u001b[0m\u001b[1;33m\u001b[0m\u001b[0m\n\u001b[1;32m---> 15\u001b[1;33m                                 maximum_attacks=m)\n\u001b[0m",
      "\u001b[1;32mD:\\Federated_Learning\\Applications\\Experiments of March2020\\Federated_Learning_EigentTrust_100_workers_GPU\\mnist\\experiment_federated.py\u001b[0m in \u001b[0;36msecureEnv_targeted_attack_training_exp\u001b[1;34m(sim_num, peer_pseudonym, peer_num, peer_frac, seed, tau, global_rounds, local_epochs, local_bs, local_lr, local_momentum, num_classes, labels_dict, classes_list, device, attack_type, attack_rates, mapping_list, malicious_behaviour_rate, maximum_attacks)\u001b[0m\n\u001b[0;32m    109\u001b[0m \u001b[1;33m\u001b[0m\u001b[0m\n\u001b[0;32m    110\u001b[0m                 \u001b[1;32mfor\u001b[0m \u001b[0mi\u001b[0m \u001b[1;32min\u001b[0m \u001b[0mrange\u001b[0m\u001b[1;33m(\u001b[0m\u001b[0msim_num\u001b[0m\u001b[1;33m)\u001b[0m\u001b[1;33m:\u001b[0m\u001b[1;33m\u001b[0m\u001b[1;33m\u001b[0m\u001b[0m\n\u001b[1;32m--> 111\u001b[1;33m                     \u001b[0msecure_env\u001b[0m\u001b[1;33m.\u001b[0m\u001b[0msimulate\u001b[0m\u001b[1;33m(\u001b[0m\u001b[0mi\u001b[0m\u001b[1;33m+\u001b[0m\u001b[1;36m1\u001b[0m\u001b[1;33m)\u001b[0m\u001b[1;33m\u001b[0m\u001b[1;33m\u001b[0m\u001b[0m\n\u001b[0m\u001b[0;32m    112\u001b[0m \u001b[1;33m\u001b[0m\u001b[0m\n\u001b[0;32m    113\u001b[0m \u001b[1;33m\u001b[0m\u001b[0m\n",
      "\u001b[1;32mD:\\Federated_Learning\\Applications\\Experiments of March2020\\Federated_Learning_EigentTrust_100_workers_GPU\\mnist\\environment_federated.py\u001b[0m in \u001b[0;36msimulate\u001b[1;34m(self, sim_num)\u001b[0m\n\u001b[0;32m    702\u001b[0m                 \u001b[1;31m# score = score1*score2\u001b[0m\u001b[1;33m\u001b[0m\u001b[1;33m\u001b[0m\u001b[1;33m\u001b[0m\u001b[0m\n\u001b[0;32m    703\u001b[0m                 \u001b[1;31m# scores.append(max(score, 0))\u001b[0m\u001b[1;33m\u001b[0m\u001b[1;33m\u001b[0m\u001b[1;33m\u001b[0m\u001b[0m\n\u001b[1;32m--> 704\u001b[1;33m                 \u001b[0mprint\u001b[0m\u001b[1;33m(\u001b[0m\u001b[1;34m'The worker is :'\u001b[0m\u001b[1;33m,\u001b[0m \u001b[0mself\u001b[0m\u001b[1;33m.\u001b[0m\u001b[0mpeers_list\u001b[0m\u001b[1;33m[\u001b[0m\u001b[0mselected_workers\u001b[0m\u001b[1;33m[\u001b[0m\u001b[0mi\u001b[0m\u001b[1;33m]\u001b[0m\u001b[1;33m]\u001b[0m\u001b[1;33m.\u001b[0m\u001b[0mpeer_type\u001b[0m\u001b[1;33m,\u001b[0m \u001b[1;34m' and classified as: '\u001b[0m\u001b[1;33m,\u001b[0m \u001b[0mdic_worker_classified\u001b[0m\u001b[1;33m[\u001b[0m\u001b[0mstr\u001b[0m\u001b[1;33m(\u001b[0m\u001b[0mscores\u001b[0m\u001b[1;33m[\u001b[0m\u001b[0mi\u001b[0m\u001b[1;33m]\u001b[0m\u001b[1;33m)\u001b[0m\u001b[1;33m]\u001b[0m\u001b[1;33m)\u001b[0m\u001b[1;33m\u001b[0m\u001b[1;33m\u001b[0m\u001b[0m\n\u001b[0m\u001b[0;32m    705\u001b[0m                 \u001b[0mprint\u001b[0m\u001b[1;33m(\u001b[0m\u001b[1;34m'Distance from GeoMed '\u001b[0m\u001b[1;33m,\u001b[0m \u001b[0mdistances_from_geomed\u001b[0m\u001b[1;33m[\u001b[0m\u001b[0mi\u001b[0m\u001b[1;33m]\u001b[0m\u001b[1;33m)\u001b[0m\u001b[1;33m\u001b[0m\u001b[1;33m\u001b[0m\u001b[0m\n\u001b[0;32m    706\u001b[0m \u001b[1;33m\u001b[0m\u001b[0m\n",
      "\u001b[1;31mKeyError\u001b[0m: '1.0'"
     ]
    }
   ],
   "source": [
    "# Targeted attack training experiment in a secure environment (Under Targeted Attack with no detection)\n",
    "\n",
    "for m in MAXIMUM_ATTACKS:\n",
    "    \n",
    "    print('Maximum number of attacks: ', m)\n",
    "    print('Tau value : ', taus[m-1])\n",
    "    \n",
    "    secureEnv_targeted_attack_training_exp(sim_num = 1, peer_pseudonym = PEER_PSEUDONYM,\n",
    "                    peer_num = PEER_NUM, peer_frac = PEER_FRAC, seed = SEED,tau = taus[m-1],\n",
    "                   global_rounds = GLOBAL_ROUNDS, local_epochs = LOCAL_EPOCHS, local_bs = LOCAL_BS,\n",
    "                   local_lr = LOCAL_LR, local_momentum = LOCAL_MOMENTUM, num_classes = NUM_CLASSES, \n",
    "                   labels_dict = LABELS_DICT, classes_list = CLASSES_LIST, device = DEVICE,\n",
    "                                   attack_type ='targeted', attack_rates = STEALTHY_POSONING_RATES, \n",
    "                                 malicious_behaviour_rate = STEALTHY_MALICIOU_BEHAVIOUR_RATE, mapping_list = MAPPING_LIST,\n",
    "                                maximum_attacks=m)"
   ]
  },
  {
   "cell_type": "code",
   "execution_count": null,
   "metadata": {},
   "outputs": [],
   "source": []
  }
 ],
 "metadata": {
  "kernelspec": {
   "display_name": "Python 3",
   "language": "python",
   "name": "python3"
  },
  "language_info": {
   "codemirror_mode": {
    "name": "ipython",
    "version": 3
   },
   "file_extension": ".py",
   "mimetype": "text/x-python",
   "name": "python",
   "nbconvert_exporter": "python",
   "pygments_lexer": "ipython3",
   "version": "3.7.4"
  }
 },
 "nbformat": 4,
 "nbformat_minor": 2
}
